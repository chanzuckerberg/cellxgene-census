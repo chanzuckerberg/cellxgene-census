{
 "cells": [
  {
   "cell_type": "code",
   "execution_count": 8,
   "metadata": {},
   "outputs": [],
   "source": [
    "import json\n",
    "import numpy as np\n",
    "from scipy import sparse\n",
    "\n",
    "import cellxgene_census\n",
    "import tiledbsoma as soma\n",
    "\n",
    "census_version = \"2023-10-30\"\n",
    "experiment_name = \"homo_sapiens\"\n",
    "embedding_uri = \"../../../../tmp/emb-cxg-contrib-0\""
   ]
  },
  {
   "cell_type": "code",
   "execution_count": 9,
   "metadata": {},
   "outputs": [
    {
     "data": {
      "text/html": [
       "<div>\n",
       "<style scoped>\n",
       "    .dataframe tbody tr th:only-of-type {\n",
       "        vertical-align: middle;\n",
       "    }\n",
       "\n",
       "    .dataframe tbody tr th {\n",
       "        vertical-align: top;\n",
       "    }\n",
       "\n",
       "    .dataframe thead th {\n",
       "        text-align: right;\n",
       "    }\n",
       "</style>\n",
       "<table border=\"1\" class=\"dataframe\">\n",
       "  <thead>\n",
       "    <tr style=\"text-align: right;\">\n",
       "      <th></th>\n",
       "      <th>soma_joinid</th>\n",
       "      <th>cell_type</th>\n",
       "      <th>tissue</th>\n",
       "      <th>tissue_general</th>\n",
       "      <th>nnz</th>\n",
       "    </tr>\n",
       "  </thead>\n",
       "  <tbody>\n",
       "    <tr>\n",
       "      <th>0</th>\n",
       "      <td>2613074</td>\n",
       "      <td>endothelial cell</td>\n",
       "      <td>apex of heart</td>\n",
       "      <td>heart</td>\n",
       "      <td>2467</td>\n",
       "    </tr>\n",
       "    <tr>\n",
       "      <th>1</th>\n",
       "      <td>2613075</td>\n",
       "      <td>mural cell</td>\n",
       "      <td>apex of heart</td>\n",
       "      <td>heart</td>\n",
       "      <td>2054</td>\n",
       "    </tr>\n",
       "    <tr>\n",
       "      <th>2</th>\n",
       "      <td>2613076</td>\n",
       "      <td>endothelial cell</td>\n",
       "      <td>apex of heart</td>\n",
       "      <td>heart</td>\n",
       "      <td>2426</td>\n",
       "    </tr>\n",
       "    <tr>\n",
       "      <th>3</th>\n",
       "      <td>2613077</td>\n",
       "      <td>mural cell</td>\n",
       "      <td>apex of heart</td>\n",
       "      <td>heart</td>\n",
       "      <td>1819</td>\n",
       "    </tr>\n",
       "    <tr>\n",
       "      <th>4</th>\n",
       "      <td>2613078</td>\n",
       "      <td>endothelial cell</td>\n",
       "      <td>apex of heart</td>\n",
       "      <td>heart</td>\n",
       "      <td>2330</td>\n",
       "    </tr>\n",
       "    <tr>\n",
       "      <th>...</th>\n",
       "      <td>...</td>\n",
       "      <td>...</td>\n",
       "      <td>...</td>\n",
       "      <td>...</td>\n",
       "      <td>...</td>\n",
       "    </tr>\n",
       "    <tr>\n",
       "      <th>3629947</th>\n",
       "      <td>62982880</td>\n",
       "      <td>endothelial cell</td>\n",
       "      <td>heart</td>\n",
       "      <td>heart</td>\n",
       "      <td>402</td>\n",
       "    </tr>\n",
       "    <tr>\n",
       "      <th>3629948</th>\n",
       "      <td>62982881</td>\n",
       "      <td>endothelial cell</td>\n",
       "      <td>heart</td>\n",
       "      <td>heart</td>\n",
       "      <td>515</td>\n",
       "    </tr>\n",
       "    <tr>\n",
       "      <th>3629949</th>\n",
       "      <td>62982882</td>\n",
       "      <td>endothelial cell</td>\n",
       "      <td>heart</td>\n",
       "      <td>heart</td>\n",
       "      <td>414</td>\n",
       "    </tr>\n",
       "    <tr>\n",
       "      <th>3629950</th>\n",
       "      <td>62982883</td>\n",
       "      <td>endothelial cell</td>\n",
       "      <td>heart</td>\n",
       "      <td>heart</td>\n",
       "      <td>300</td>\n",
       "    </tr>\n",
       "    <tr>\n",
       "      <th>3629951</th>\n",
       "      <td>62982884</td>\n",
       "      <td>endothelial cell</td>\n",
       "      <td>heart</td>\n",
       "      <td>heart</td>\n",
       "      <td>401</td>\n",
       "    </tr>\n",
       "  </tbody>\n",
       "</table>\n",
       "<p>3629952 rows × 5 columns</p>\n",
       "</div>"
      ],
      "text/plain": [
       "         soma_joinid         cell_type         tissue tissue_general   nnz\n",
       "0            2613074  endothelial cell  apex of heart          heart  2467\n",
       "1            2613075        mural cell  apex of heart          heart  2054\n",
       "2            2613076  endothelial cell  apex of heart          heart  2426\n",
       "3            2613077        mural cell  apex of heart          heart  1819\n",
       "4            2613078  endothelial cell  apex of heart          heart  2330\n",
       "...              ...               ...            ...            ...   ...\n",
       "3629947     62982880  endothelial cell          heart          heart   402\n",
       "3629948     62982881  endothelial cell          heart          heart   515\n",
       "3629949     62982882  endothelial cell          heart          heart   414\n",
       "3629950     62982883  endothelial cell          heart          heart   300\n",
       "3629951     62982884  endothelial cell          heart          heart   401\n",
       "\n",
       "[3629952 rows x 5 columns]"
      ]
     },
     "metadata": {},
     "output_type": "display_data"
    }
   ],
   "source": [
    "# Demo 1: select cells from the Census based on obs metadata. Given the resulting cells,\n",
    "# use their soma_joinids to slice from embedding.\n",
    "\n",
    "# First, query for the cells of interest based upon metadata.\n",
    "with cellxgene_census.open_soma(census_version=census_version) as census:\n",
    "    exp = census[\"census_data\"][experiment_name]\n",
    "    obs_df = (\n",
    "        exp.obs.read(\n",
    "            value_filter=\"\"\"tissue_general == 'heart'\"\"\",\n",
    "            column_names=[\n",
    "                \"soma_joinid\",\n",
    "                \"cell_type\",\n",
    "                \"tissue\",\n",
    "                \"tissue_general\",\n",
    "                \"nnz\",\n",
    "            ],\n",
    "        )\n",
    "        .concat()\n",
    "        .to_pandas()\n",
    "    )\n",
    "\n",
    "display(obs_df)"
   ]
  },
  {
   "cell_type": "code",
   "execution_count": 10,
   "metadata": {},
   "outputs": [
    {
     "data": {
      "text/plain": [
       "'Embedding CSR'"
      ]
     },
     "metadata": {},
     "output_type": "display_data"
    },
    {
     "data": {
      "text/plain": [
       "<3629952x8 sparse matrix of type '<class 'numpy.float32'>'\n",
       "\twith 29039616 stored elements in Compressed Sparse Row format>"
      ]
     },
     "metadata": {},
     "output_type": "display_data"
    },
    {
     "data": {
      "text/plain": [
       "'First cell metadata and embedding'"
      ]
     },
     "metadata": {},
     "output_type": "display_data"
    },
    {
     "data": {
      "text/plain": [
       "soma_joinid                2613074\n",
       "cell_type         endothelial cell\n",
       "tissue               apex of heart\n",
       "tissue_general               heart\n",
       "nnz                           2467\n",
       "Name: 0, dtype: object"
      ]
     },
     "metadata": {},
     "output_type": "display_data"
    },
    {
     "data": {
      "text/plain": [
       "array([[0.43466, 0.63609, 0.14684, 0.68371, 0.3792 , 0.81642, 0.91252,\n",
       "        0.89164]], dtype=float32)"
      ]
     },
     "metadata": {},
     "output_type": "display_data"
    }
   ],
   "source": [
    "# 1A: extract embedddings for the selected cells, into a SciPy csr_matrix\n",
    "\n",
    "with soma.open(embedding_uri) as E:\n",
    "    # read embedding metadata\n",
    "    embedding_info = json.loads(E.metadata[\"CxG_contrib_metadata\"])\n",
    "    # read embedding as SciPy (positionally indexed)\n",
    "    embedding_csr = sparse.vstack(\n",
    "        sp\n",
    "        for sp, _ in E.read(coords=(obs_df.index.to_numpy(),))\n",
    "        .blockwise(axis=0, size=2**20)\n",
    "        .scipy()\n",
    "    )\n",
    "\n",
    "\n",
    "# confirm this embedding is associated with this census version and experiment\n",
    "assert embedding_info[\"census_version\"] == census_version\n",
    "assert embedding_info[\"experiment_name\"] == experiment_name\n",
    "\n",
    "display(\"Embedding CSR\")\n",
    "display(embedding_csr)\n",
    "\n",
    "# Each cell embedding is positionally indexed a la' AnnData obsm\n",
    "display(\"First cell metadata and embedding\")\n",
    "display(obs_df.iloc[0])\n",
    "display(embedding_csr[0,:].toarray())\n",
    "\n"
   ]
  },
  {
   "cell_type": "code",
   "execution_count": 11,
   "metadata": {},
   "outputs": [
    {
     "data": {
      "text/plain": [
       "array([[0.43466, 0.63609, 0.14684, ..., 0.81642, 0.91252, 0.89164],\n",
       "       [0.19788, 0.89287, 0.22958, ..., 0.54048, 0.22691, 0.01647],\n",
       "       [0.96428, 0.19529, 0.58122, ..., 0.23629, 0.4647 , 0.16747],\n",
       "       ...,\n",
       "       [0.1045 , 0.45968, 0.57934, ..., 0.16972, 0.03613, 0.5094 ],\n",
       "       [0.32792, 0.32506, 0.8825 , ..., 0.08321, 0.84946, 0.82772],\n",
       "       [0.12771, 0.55175, 0.83483, ..., 0.90774, 0.29128, 0.91662]],\n",
       "      dtype=float32)"
      ]
     },
     "metadata": {},
     "output_type": "display_data"
    }
   ],
   "source": [
    "# 1B: dense embedding - you can also densify the results using SciPy sparse.csr_matrix methods\n",
    "\n",
    "embedding_dense = embedding_csr.toarray()\n",
    "display(embedding_dense)"
   ]
  },
  {
   "cell_type": "markdown",
   "metadata": {},
   "source": [
    "todo:\n",
    "* query to anndata, add embedding as obsm\n",
    "* "
   ]
  }
 ],
 "metadata": {
  "kernelspec": {
   "display_name": "venv",
   "language": "python",
   "name": "python3"
  },
  "language_info": {
   "codemirror_mode": {
    "name": "ipython",
    "version": 3
   },
   "file_extension": ".py",
   "mimetype": "text/x-python",
   "name": "python",
   "nbconvert_exporter": "python",
   "pygments_lexer": "ipython3",
   "version": "3.10.12"
  }
 },
 "nbformat": 4,
 "nbformat_minor": 2
}
