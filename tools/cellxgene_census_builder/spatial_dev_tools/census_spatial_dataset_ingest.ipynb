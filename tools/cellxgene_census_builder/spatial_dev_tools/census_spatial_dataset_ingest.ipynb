{
 "cells": [
  {
   "cell_type": "markdown",
   "id": "1bbac1b0-ded5-4244-9800-1a8bb278fd15",
   "metadata": {},
   "source": [
    "# Ingest CXG spatial h5ad files from a directory and create Census object"
   ]
  },
  {
   "cell_type": "markdown",
   "id": "e01b8234-5c45-4960-b1dd-3d1eb82fa233",
   "metadata": {},
   "source": [
    "## Create a manifest file containing the location of spatial datasets to load"
   ]
  },
  {
   "cell_type": "code",
   "execution_count": 1,
   "id": "2a7d2e30-1e16-4296-921b-392ff351ea30",
   "metadata": {},
   "outputs": [],
   "source": [
    "import os\n",
    "\n",
    "from cellxgene_census_builder.build_soma.manifest import load_manifest"
   ]
  },
  {
   "cell_type": "code",
   "execution_count": 2,
   "id": "868539a7-e4ed-46ac-a7c4-2b54fcff21fa",
   "metadata": {},
   "outputs": [],
   "source": [
    "def create_manifest_csv_file(spatial_datasets_dir, manifest_file_path):\n",
    "    file_ids = [os.path.splitext(filename)[0] for filename in os.listdir(spatial_datasets_dir)]\n",
    "    file_paths = [os.path.join(spatial_datasets_dir, filename) for filename in os.listdir(spatial_datasets_dir)]\n",
    "    manifest_content = \"\\n\".join([\", \".join(pair) for pair in zip(file_ids, file_paths, strict=False)])\n",
    "\n",
    "    with open(manifest_file_path, \"w\") as f:\n",
    "        f.write(manifest_content.strip())"
   ]
  },
  {
   "cell_type": "code",
   "execution_count": 3,
   "id": "e28e1076-3b59-48c2-b963-c9597e7f495b",
   "metadata": {},
   "outputs": [],
   "source": [
    "# NOTE: Replace value of `spatial_datasets_dir` with a valid path to a folder containing datasets\n",
    "spatial_datasets_dir = \"/Users/psridharan/code/cellxgene-census/ps_stuff/spatial_test_datasets\"\n",
    "manifest_file_path = \"./manifest.csv\"\n",
    "blocklist_file_path = \"./blocklist.txt\"\n",
    "\n",
    "create_manifest_csv_file(spatial_datasets_dir, manifest_file_path)"
   ]
  },
  {
   "cell_type": "code",
   "execution_count": 4,
   "id": "6fc3de32-56fe-4758-9426-15b92668a72f",
   "metadata": {},
   "outputs": [],
   "source": [
    "datasets = load_manifest(manifest_file_path, blocklist_file_path)"
   ]
  },
  {
   "cell_type": "code",
   "execution_count": 5,
   "id": "dcc16556-5cee-4616-af86-9146cbc7fa36",
   "metadata": {},
   "outputs": [
    {
     "data": {
      "text/plain": [
       "[Dataset(dataset_id='c6f6e674-b59d-46cf-8525-73f64f9eef8c', dataset_asset_h5ad_uri='/Users/psridharan/code/cellxgene-census/ps_stuff/spatial_test_datasets/c6f6e674-b59d-46cf-8525-73f64f9eef8c.h5ad', dataset_version_id='', dataset_h5ad_path='', dataset_title='', citation='', collection_id='', collection_name='', collection_doi='', asset_h5ad_filesize=-1, cell_count=-1, mean_genes_per_cell=-1.0, schema_version='', dataset_total_cell_count=0, soma_joinid=-1),\n",
       " Dataset(dataset_id='fa3893cb-d420-42ac-8263-09719a26102e', dataset_asset_h5ad_uri='/Users/psridharan/code/cellxgene-census/ps_stuff/spatial_test_datasets/fa3893cb-d420-42ac-8263-09719a26102e.h5ad', dataset_version_id='', dataset_h5ad_path='', dataset_title='', citation='', collection_id='', collection_name='', collection_doi='', asset_h5ad_filesize=-1, cell_count=-1, mean_genes_per_cell=-1.0, schema_version='', dataset_total_cell_count=0, soma_joinid=-1),\n",
       " Dataset(dataset_id='07998bf8-d070-41bb-a584-f8bdd1193aef', dataset_asset_h5ad_uri='/Users/psridharan/code/cellxgene-census/ps_stuff/spatial_test_datasets/07998bf8-d070-41bb-a584-f8bdd1193aef.h5ad', dataset_version_id='', dataset_h5ad_path='', dataset_title='', citation='', collection_id='', collection_name='', collection_doi='', asset_h5ad_filesize=-1, cell_count=-1, mean_genes_per_cell=-1.0, schema_version='', dataset_total_cell_count=0, soma_joinid=-1),\n",
       " Dataset(dataset_id='9624a105-319c-4abf-b10b-d96ce1650100', dataset_asset_h5ad_uri='/Users/psridharan/code/cellxgene-census/ps_stuff/spatial_test_datasets/9624a105-319c-4abf-b10b-d96ce1650100.h5ad', dataset_version_id='', dataset_h5ad_path='', dataset_title='', citation='', collection_id='', collection_name='', collection_doi='', asset_h5ad_filesize=-1, cell_count=-1, mean_genes_per_cell=-1.0, schema_version='', dataset_total_cell_count=0, soma_joinid=-1),\n",
       " Dataset(dataset_id='53e343af-979c-4525-a705-1b9d1a1fee14', dataset_asset_h5ad_uri='/Users/psridharan/code/cellxgene-census/ps_stuff/spatial_test_datasets/53e343af-979c-4525-a705-1b9d1a1fee14.h5ad', dataset_version_id='', dataset_h5ad_path='', dataset_title='', citation='', collection_id='', collection_name='', collection_doi='', asset_h5ad_filesize=-1, cell_count=-1, mean_genes_per_cell=-1.0, schema_version='', dataset_total_cell_count=0, soma_joinid=-1),\n",
       " Dataset(dataset_id='6ab91271-5f48-4e98-92ef-d02ee21e63e1', dataset_asset_h5ad_uri='/Users/psridharan/code/cellxgene-census/ps_stuff/spatial_test_datasets/6ab91271-5f48-4e98-92ef-d02ee21e63e1.h5ad', dataset_version_id='', dataset_h5ad_path='', dataset_title='', citation='', collection_id='', collection_name='', collection_doi='', asset_h5ad_filesize=-1, cell_count=-1, mean_genes_per_cell=-1.0, schema_version='', dataset_total_cell_count=0, soma_joinid=-1),\n",
       " Dataset(dataset_id='c63d5cb4-1046-4948-a188-e6af50ef90f4', dataset_asset_h5ad_uri='/Users/psridharan/code/cellxgene-census/ps_stuff/spatial_test_datasets/c63d5cb4-1046-4948-a188-e6af50ef90f4.h5ad', dataset_version_id='', dataset_h5ad_path='', dataset_title='', citation='', collection_id='', collection_name='', collection_doi='', asset_h5ad_filesize=-1, cell_count=-1, mean_genes_per_cell=-1.0, schema_version='', dataset_total_cell_count=0, soma_joinid=-1),\n",
       " Dataset(dataset_id='1bb92cf8-ab3f-4bb0-a722-b241b5d377ed', dataset_asset_h5ad_uri='/Users/psridharan/code/cellxgene-census/ps_stuff/spatial_test_datasets/1bb92cf8-ab3f-4bb0-a722-b241b5d377ed.h5ad', dataset_version_id='', dataset_h5ad_path='', dataset_title='', citation='', collection_id='', collection_name='', collection_doi='', asset_h5ad_filesize=-1, cell_count=-1, mean_genes_per_cell=-1.0, schema_version='', dataset_total_cell_count=0, soma_joinid=-1)]"
      ]
     },
     "execution_count": 5,
     "metadata": {},
     "output_type": "execute_result"
    }
   ],
   "source": [
    "datasets"
   ]
  }
 ],
 "metadata": {
  "kernelspec": {
   "display_name": "Python 3 (ipykernel)",
   "language": "python",
   "name": "python3"
  },
  "language_info": {
   "codemirror_mode": {
    "name": "ipython",
    "version": 3
   },
   "file_extension": ".py",
   "mimetype": "text/x-python",
   "name": "python",
   "nbconvert_exporter": "python",
   "pygments_lexer": "ipython3",
   "version": "3.11.9"
  }
 },
 "nbformat": 4,
 "nbformat_minor": 5
}
