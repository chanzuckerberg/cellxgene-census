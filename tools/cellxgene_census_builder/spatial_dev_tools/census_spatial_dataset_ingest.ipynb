{
 "cells": [
  {
   "cell_type": "markdown",
   "id": "1bbac1b0-ded5-4244-9800-1a8bb278fd15",
   "metadata": {},
   "source": [
    "# Ingest CXG spatial h5ad files from a directory and create Census object"
   ]
  },
  {
   "cell_type": "markdown",
   "id": "e01b8234-5c45-4960-b1dd-3d1eb82fa233",
   "metadata": {},
   "source": [
    "## Create a manifest file containing the location of spatial datasets to load"
   ]
  },
  {
   "cell_type": "code",
   "execution_count": 1,
   "id": "2a7d2e30-1e16-4296-921b-392ff351ea30",
   "metadata": {},
   "outputs": [],
   "source": [
    "import os\n",
    "from pathlib import Path\n",
    "\n",
    "from cellxgene_census_builder.build_soma.manifest import load_manifest"
   ]
  },
  {
   "cell_type": "code",
   "execution_count": 2,
   "id": "868539a7-e4ed-46ac-a7c4-2b54fcff21fa",
   "metadata": {},
   "outputs": [],
   "source": [
    "def create_manifest_csv_file(spatial_datasets_dir, manifest_file_path):\n",
    "    file_ids = [os.path.splitext(filename)[0] for filename in os.listdir(spatial_datasets_dir)]\n",
    "    file_paths = [os.path.join(spatial_datasets_dir, filename) for filename in os.listdir(spatial_datasets_dir)]\n",
    "    manifest_content = \"\\n\".join([\", \".join(pair) for pair in zip(file_ids, file_paths, strict=False)])\n",
    "\n",
    "    with open(manifest_file_path, \"w\") as f:\n",
    "        f.write(manifest_content.strip())"
   ]
  },
  {
   "cell_type": "code",
   "execution_count": 3,
   "id": "b0336c7b",
   "metadata": {},
   "outputs": [],
   "source": [
    "dataset_urls = [\n",
    "    # https://cellxgene.cziscience.com/collections/e2c257e7-6f79-487c-b81c-39451cd4ab3c\n",
    "    \"https://datasets.cellxgene.cziscience.com/6811c454-def2-4d9e-b360-aa8a69f843ce.h5ad\",\n",
    "    \"https://datasets.cellxgene.cziscience.com/1fee1684-94b3-4371-8d44-6a8b937ba23f.h5ad\",\n",
    "    # https://cellxgene.cziscience.com/collections/8191c283-0816-424b-9b61-c3e1d6258a77\n",
    "    \"https://datasets.cellxgene.cziscience.com/17d9e43f-1251-4f1e-8a5b-a96f2c89e5ec.h5ad\",\n",
    "    \"https://datasets.cellxgene.cziscience.com/5487249a-b034-446a-8d9b-0b810ecb7e91.h5ad\",\n",
    "    # https://cellxgene.cziscience.com/collections/0c8a364b-97b5-4cc8-a593-23c38c6f0ac5\n",
    "    \"https://datasets.cellxgene.cziscience.com/9e66d65a-385e-4097-9e61-2ad68a1a59fb.h5ad\",\n",
    "    \"https://datasets.cellxgene.cziscience.com/f6fbb333-bf7a-4402-a3c0-ef2c894d4371.h5ad\",\n",
    "]"
   ]
  },
  {
   "cell_type": "code",
   "execution_count": 4,
   "id": "517b1d2e",
   "metadata": {},
   "outputs": [],
   "source": [
    "# # From https://docs.google.com/document/d/1ZI_L83nVTEqRs5BoqmaZoXkt4CSd_p8IejIl1V3o5RQ/edit\n",
    "# dataset_urls = [\n",
    "#     # 'https://datasets.cellxgene.cziscience.com/c63d5cb4-1046-4948-a188-e6af50ef90f4.h5ad',  # old\n",
    "#     \"https://datasets.cellxgene.cziscience.com/3396c353-d720-4588-8724-75546e2f18cc.h5ad\",\n",
    "#     # 'https://datasets.cellxgene.cziscience.com/6ab91271-5f48-4e98-92ef-d02ee21e63e1.h5ad',  # old\n",
    "#     \"https://datasets.cellxgene.cziscience.com/c83e78ff-e13b-4531-ac9a-cd7d8d1d44ef.h5ad\",\n",
    "#     \"https://datasets.cellxgene.cziscience.com/53e343af-979c-4525-a705-1b9d1a1fee14.h5ad\",\n",
    "#     \"https://datasets.cellxgene.cziscience.com/9624a105-319c-4abf-b10b-d96ce1650100.h5ad\",\n",
    "#     \"https://datasets.cellxgene.cziscience.com/c6f6e674-b59d-46cf-8525-73f64f9eef8c.h5ad\",\n",
    "#     \"https://datasets.cellxgene.cziscience.com/1bb92cf8-ab3f-4bb0-a722-b241b5d377ed.h5ad\",\n",
    "#     \"https://datasets.cellxgene.cziscience.com/fa3893cb-d420-42ac-8263-09719a26102e.h5ad\",\n",
    "#     \"https://datasets.cellxgene.cziscience.com/07998bf8-d070-41bb-a584-f8bdd1193aef.h5ad\",\n",
    "# ]"
   ]
  },
  {
   "cell_type": "code",
   "execution_count": 5,
   "id": "72ef927a-c18d-4215-a136-adf67c4da881",
   "metadata": {},
   "outputs": [],
   "source": [
    "# NOTE: Change these variables to point to appropriate file paths on your machine\n",
    "# spatial_datasets_dir = \"/Users/psridharan/code/cellxgene-census/ps_stuff/spatial_test_datasets\"\n",
    "\n",
    "REPO_ROOT_DIR = Path(\"../../..\")\n",
    "BUILDER_DIR = REPO_ROOT_DIR / \"tools/cellxgene_census_builder\"\n",
    "WORKING_DIR = REPO_ROOT_DIR / \"issues/census_1127_spatial-builder\"\n",
    "ANNDATA_DIR = WORKING_DIR / \"source_h5ad\"\n",
    "\n",
    "MANIFEST_FILE_PATH = BUILDER_DIR / \"spatial_dev_tools/manifest.csv\"\n",
    "BLOCKLIST_FILE_PATH = BUILDER_DIR / \"spatial_dev_tools/blocklist.txt\""
   ]
  },
  {
   "cell_type": "code",
   "execution_count": 6,
   "id": "7f0a594c",
   "metadata": {},
   "outputs": [],
   "source": [
    "ANNDATA_DIR.mkdir(exist_ok=True)"
   ]
  },
  {
   "cell_type": "code",
   "execution_count": 7,
   "id": "8668cc26",
   "metadata": {},
   "outputs": [],
   "source": [
    "for url in dataset_urls:\n",
    "    file_name = url.split(\"/\")[-1]\n",
    "    file_pth = ANNDATA_DIR / file_name\n",
    "    file_pth_str = str(file_pth)\n",
    "    if not file_pth.is_file():\n",
    "        !wget $url -O $file_pth_str"
   ]
  },
  {
   "cell_type": "code",
   "execution_count": 8,
   "id": "d5e2f07f-75a3-4e02-8295-be87b1043a4b",
   "metadata": {},
   "outputs": [],
   "source": [
    "create_manifest_csv_file(ANNDATA_DIR, MANIFEST_FILE_PATH)"
   ]
  },
  {
   "cell_type": "code",
   "execution_count": 9,
   "id": "6fc3de32-56fe-4758-9426-15b92668a72f",
   "metadata": {},
   "outputs": [],
   "source": [
    "datasets = load_manifest(str(MANIFEST_FILE_PATH), str(BLOCKLIST_FILE_PATH))"
   ]
  },
  {
   "cell_type": "code",
   "execution_count": 10,
   "id": "dcc16556-5cee-4616-af86-9146cbc7fa36",
   "metadata": {},
   "outputs": [
    {
     "data": {
      "text/plain": [
       "[Dataset(dataset_id='17d9e43f-1251-4f1e-8a5b-a96f2c89e5ec', dataset_asset_h5ad_uri='../../../issues/census_1127_spatial-builder/source_h5ad/17d9e43f-1251-4f1e-8a5b-a96f2c89e5ec.h5ad', dataset_version_id='', dataset_h5ad_path='', dataset_title='', citation='', collection_id='', collection_name='', collection_doi='', collection_doi_label='', asset_h5ad_filesize=-1, cell_count=-1, mean_genes_per_cell=-1.0, schema_version='', dataset_total_cell_count=0, soma_joinid=-1),\n",
       " Dataset(dataset_id='9e66d65a-385e-4097-9e61-2ad68a1a59fb', dataset_asset_h5ad_uri='../../../issues/census_1127_spatial-builder/source_h5ad/9e66d65a-385e-4097-9e61-2ad68a1a59fb.h5ad', dataset_version_id='', dataset_h5ad_path='', dataset_title='', citation='', collection_id='', collection_name='', collection_doi='', collection_doi_label='', asset_h5ad_filesize=-1, cell_count=-1, mean_genes_per_cell=-1.0, schema_version='', dataset_total_cell_count=0, soma_joinid=-1),\n",
       " Dataset(dataset_id='f6fbb333-bf7a-4402-a3c0-ef2c894d4371', dataset_asset_h5ad_uri='../../../issues/census_1127_spatial-builder/source_h5ad/f6fbb333-bf7a-4402-a3c0-ef2c894d4371.h5ad', dataset_version_id='', dataset_h5ad_path='', dataset_title='', citation='', collection_id='', collection_name='', collection_doi='', collection_doi_label='', asset_h5ad_filesize=-1, cell_count=-1, mean_genes_per_cell=-1.0, schema_version='', dataset_total_cell_count=0, soma_joinid=-1),\n",
       " Dataset(dataset_id='6811c454-def2-4d9e-b360-aa8a69f843ce', dataset_asset_h5ad_uri='../../../issues/census_1127_spatial-builder/source_h5ad/6811c454-def2-4d9e-b360-aa8a69f843ce.h5ad', dataset_version_id='', dataset_h5ad_path='', dataset_title='', citation='', collection_id='', collection_name='', collection_doi='', collection_doi_label='', asset_h5ad_filesize=-1, cell_count=-1, mean_genes_per_cell=-1.0, schema_version='', dataset_total_cell_count=0, soma_joinid=-1),\n",
       " Dataset(dataset_id='1fee1684-94b3-4371-8d44-6a8b937ba23f', dataset_asset_h5ad_uri='../../../issues/census_1127_spatial-builder/source_h5ad/1fee1684-94b3-4371-8d44-6a8b937ba23f.h5ad', dataset_version_id='', dataset_h5ad_path='', dataset_title='', citation='', collection_id='', collection_name='', collection_doi='', collection_doi_label='', asset_h5ad_filesize=-1, cell_count=-1, mean_genes_per_cell=-1.0, schema_version='', dataset_total_cell_count=0, soma_joinid=-1),\n",
       " Dataset(dataset_id='5487249a-b034-446a-8d9b-0b810ecb7e91', dataset_asset_h5ad_uri='../../../issues/census_1127_spatial-builder/source_h5ad/5487249a-b034-446a-8d9b-0b810ecb7e91.h5ad', dataset_version_id='', dataset_h5ad_path='', dataset_title='', citation='', collection_id='', collection_name='', collection_doi='', collection_doi_label='', asset_h5ad_filesize=-1, cell_count=-1, mean_genes_per_cell=-1.0, schema_version='', dataset_total_cell_count=0, soma_joinid=-1)]"
      ]
     },
     "execution_count": 10,
     "metadata": {},
     "output_type": "execute_result"
    }
   ],
   "source": [
    "assert len(datasets) == len(dataset_urls)\n",
    "datasets"
   ]
  },
  {
   "cell_type": "markdown",
   "id": "e0acd774-76a4-4de2-b219-c4adcd55e54d",
   "metadata": {},
   "source": [
    "## Run the census builder to ingest the spatial datasets"
   ]
  },
  {
   "cell_type": "code",
   "execution_count": 11,
   "id": "ba536c4c-c5e0-4630-baeb-488b2c314e63",
   "metadata": {},
   "outputs": [],
   "source": [
    "# NOTE: Change these variables to point to appropriate file paths on your machine\n",
    "census_builder_working_dir = (WORKING_DIR / \"census-builds\").absolute()\n",
    "census_build_tag = \"test-spatial-build\""
   ]
  },
  {
   "cell_type": "code",
   "execution_count": 12,
   "id": "f61079cd-6c7d-437b-bd4e-50f196e6bdaa",
   "metadata": {},
   "outputs": [],
   "source": [
    "# Ensure the working directory does not already contain a build tag with the same name\n",
    "! rm -rf {str(census_builder_working_dir)}/logs\n",
    "! rm -rf {str(census_builder_working_dir)}/{census_build_tag}"
   ]
  },
  {
   "cell_type": "code",
   "execution_count": 13,
   "id": "ff6c95b7",
   "metadata": {},
   "outputs": [
    {
     "name": "stdout",
     "output_type": "stream",
     "text": [
      "/home/ubuntu/github/cellxgene-census/tools/cellxgene_census_builder/spatial_dev_tools/../../../issues/census_1127_spatial-builder/census-builds\n"
     ]
    }
   ],
   "source": [
    "!echo {str(census_builder_working_dir)}"
   ]
  },
  {
   "cell_type": "code",
   "execution_count": 14,
   "id": "bc2969d2",
   "metadata": {},
   "outputs": [
    {
     "name": "stdout",
     "output_type": "stream",
     "text": [
      "3396c353-d720-4588-8724-75546e2f18cc  manifest.csv\n",
      "blocklist.txt\t\t\t      soma-spatial\n",
      "census_spatial_dataset_ingest.ipynb   tiledbsoma_spatial_dataset_ingest.ipynb\n"
     ]
    }
   ],
   "source": [
    "!ls"
   ]
  },
  {
   "cell_type": "code",
   "execution_count": 15,
   "id": "2d68d5d4",
   "metadata": {},
   "outputs": [
    {
     "name": "stdout",
     "output_type": "stream",
     "text": [
      "test-spatial-build\n",
      "/home/ubuntu/github/cellxgene-census/tools/cellxgene_census_builder/spatial_dev_tools/../../../issues/census_1127_spatial-builder/census-builds\n",
      "../../../tools/cellxgene_census_builder/spatial_dev_tools/manifest.csv\n"
     ]
    }
   ],
   "source": [
    "print(census_build_tag)\n",
    "print(census_builder_working_dir)\n",
    "print(MANIFEST_FILE_PATH)"
   ]
  },
  {
   "cell_type": "code",
   "execution_count": 16,
   "id": "71709ee2",
   "metadata": {},
   "outputs": [
    {
     "data": {
      "text/plain": [
       "PosixPath('/home/ubuntu/github/cellxgene-census/tools/cellxgene_census_builder/spatial_dev_tools/manifest.csv')"
      ]
     },
     "execution_count": 16,
     "metadata": {},
     "output_type": "execute_result"
    }
   ],
   "source": [
    "MANIFEST_FILE_PATH.resolve()"
   ]
  },
  {
   "cell_type": "code",
   "execution_count": 17,
   "id": "9a9c45d2",
   "metadata": {},
   "outputs": [],
   "source": [
    "!ls ../../../issues/census_1127_spatial-builder/census-builds/"
   ]
  },
  {
   "cell_type": "code",
   "execution_count": 18,
   "id": "289e277b-ee53-4baa-ab6f-b458356389e4",
   "metadata": {},
   "outputs": [
    {
     "name": "stdout",
     "output_type": "stream",
     "text": [
      "2024-07-17 21:44:30 561179  DEBUG    Setting NUMEXPR_MAX_THREADS environment variable to \"8\"\n",
      "2024-07-17 21:44:30 561179  DEBUG    Setting OMP_NUM_THREADS environment variable to \"1\"\n",
      "2024-07-17 21:44:30 561179  DEBUG    Setting OPENBLAS_NUM_THREADS environment variable to \"1\"\n",
      "2024-07-17 21:44:30 561179  DEBUG    Setting MKL_NUM_THREADS environment variable to \"1\"\n",
      "2024-07-17 21:44:30 561179  DEBUG    Setting VECLIB_MAXIMUM_THREADS environment variable to \"1\"\n",
      "2024-07-17 21:44:30 561179  INFO     CensusBuildArgs(working_dir=PosixPath('/home/ubuntu/github/cellxgene-census/tools/cellxgene_census_builder/spatial_dev_tools/../../../issues/census_1127_spatial-builder/census-builds'), config=CensusBuildConfig(verbose=1, dashboard=True, log_dir='logs', log_file='build.log', reports_dir='reports', consolidate=True, dryrun=False, cellxgene_census_S3_path='s3://cellxgene-data-public/cell-census', cellxgene_census_default_mirror_S3_path='s3://cellxgene-census-public-us-west-2/cell-census', cellxgene_census_S3_replica_path=None, logs_S3_path='s3://cellxgene-data-public-logs/builder', build_tag='test-spatial-build', max_worker_processes=48, host_validation_disable=False, host_validation_min_physical_memory=549755813888, host_validation_min_swap_memory=2199023255552, host_validation_min_free_disk_space=1979120929996, release_cleanup_days=32, dataset_id_blocklist_uri='https://raw.githubusercontent.com/chanzuckerberg/cellxgene-census/main/tools/cellxgene_census_builder/dataset_blocklist.txt', user_agent_prefix='census-builder-', user_agent_environment='unknown', manifest=<_io.TextIOWrapper name='../../../tools/cellxgene_census_builder/spatial_dev_tools/manifest.csv' mode='r' encoding='UTF-8'>, test_first_n=0), state=CensusBuildState())\n",
      "2024-07-17 21:44:30 561179  INFO     Starting process resource logger with period 15.0\n",
      "2024-07-17 21:44:30 561179  INFO     System memory: mem-used=3952836608 (3.0%), max-mem-used=3952836608 (3.0%), mem-total=132980944896 load-avg=(0.56, 1.04, 0.54)\n",
      "2024-07-17 21:44:35 561179  INFO     Dask client created: <Client: 'tcp://127.0.0.1:40359' processes=32 threads=32>\n",
      "2024-07-17 21:44:35 561179  INFO     Dask client using cluster: LocalCluster(7d3a02fd, 'tcp://127.0.0.1:40359', workers=32, threads=32)\n",
      "2024-07-17 21:44:35 561179  INFO     Dashboard link: http://127.0.0.1:8787/status\n",
      "2024-07-17 21:44:35 561179  INFO     Build step 1 - get source assets - started\n",
      "2024-07-17 21:44:35 561179  INFO     Loading manifest from file\n",
      "2024-07-17 21:44:35 561179  INFO     Dataset blocklist found, containing 5 ids.\n",
      "2024-07-17 21:44:35 561179  INFO     After blocklist and dedup, will load 6 datasets.\n",
      "2024-07-17 21:44:35 561179  INFO     Starting asset staging to /home/ubuntu/github/cellxgene-census/tools/cellxgene_census_builder/spatial_dev_tools/../../../issues/census_1127_spatial-builder/census-builds/test-spatial-build/h5ads\n",
      "2024-07-17 21:44:39 561347  DEBUG    Copy complete, url=../../../issues/census_1127_spatial-builder/source_h5ad/9e66d65a-385e-4097-9e61-2ad68a1a59fb.h5ad, bytes=45287169\n",
      "2024-07-17 21:44:42 561377  DEBUG    Copy complete, url=../../../issues/census_1127_spatial-builder/source_h5ad/5487249a-b034-446a-8d9b-0b810ecb7e91.h5ad, bytes=162802169\n",
      "2024-07-17 21:44:43 561321  DEBUG    Copy complete, url=../../../issues/census_1127_spatial-builder/source_h5ad/17d9e43f-1251-4f1e-8a5b-a96f2c89e5ec.h5ad, bytes=144715818\n",
      "2024-07-17 21:44:45 561179  INFO     System memory: mem-used=10387423232 (7.8%), max-mem-used=10387423232 (7.8%), mem-total=132980944896 load-avg=(4.34, 1.87, 0.82)\n",
      "2024-07-17 21:44:45 561270  DEBUG    Copy complete, url=../../../issues/census_1127_spatial-builder/source_h5ad/6811c454-def2-4d9e-b360-aa8a69f843ce.h5ad, bytes=35506891\n",
      "2024-07-17 21:44:45 561389  DEBUG    Copy complete, url=../../../issues/census_1127_spatial-builder/source_h5ad/1fee1684-94b3-4371-8d44-6a8b937ba23f.h5ad, bytes=25935828\n",
      "2024-07-17 21:44:45 561283  DEBUG    Copy complete, url=../../../issues/census_1127_spatial-builder/source_h5ad/f6fbb333-bf7a-4402-a3c0-ef2c894d4371.h5ad, bytes=1109127441\n",
      "2024-07-17 21:44:45 561179  INFO     Build step 1 - get source assets - finished\n",
      "2024-07-17 21:44:45 561179  INFO     Build step 2 - Create root collection - started\n",
      "2024-07-17 21:44:45 561179  INFO     homo_sapiens: create experiment at /home/ubuntu/github/cellxgene-census/issues/census_1127_spatial-builder/census-builds/test-spatial-build/soma/census_data/homo_sapiens\n",
      "2024-07-17 21:44:45 561179  INFO     mus_musculus: create experiment at /home/ubuntu/github/cellxgene-census/issues/census_1127_spatial-builder/census-builds/test-spatial-build/soma/census_data/mus_musculus\n",
      "2024-07-17 21:44:45 561179  INFO     homo_sapiens: create experiment at /home/ubuntu/github/cellxgene-census/issues/census_1127_spatial-builder/census-builds/test-spatial-build/soma/census_spatial/homo_sapiens\n",
      "2024-07-17 21:44:46 561179  INFO     mus_musculus: create experiment at /home/ubuntu/github/cellxgene-census/issues/census_1127_spatial-builder/census-builds/test-spatial-build/soma/census_spatial/mus_musculus\n",
      "2024-07-17 21:44:46 561179  INFO     Build step 2 - Create root collection - finished\n",
      "2024-07-17 21:44:46 561179  INFO     Build step 3 - accumulate obs and var axes - started\n",
      "2024-07-17 21:44:46 561318  DEBUG    f6fbb333-bf7a-4402-a3c0-ef2c894d4371/homo_sapiens - found 4992 cells\n",
      "2024-07-17 21:44:46 561360  DEBUG    5487249a-b034-446a-8d9b-0b810ecb7e91/homo_sapiens - found 4992 cells\n",
      "2024-07-17 21:44:46 561389  DEBUG    6811c454-def2-4d9e-b360-aa8a69f843ce/homo_sapiens - found 4992 cells\n",
      "2024-07-17 21:44:46 561379  DEBUG    1fee1684-94b3-4371-8d44-6a8b937ba23f/homo_sapiens - found 4992 cells\n",
      "2024-07-17 21:44:46 561369  DEBUG    17d9e43f-1251-4f1e-8a5b-a96f2c89e5ec/homo_sapiens - found 4992 cells\n",
      "2024-07-17 21:44:46 561306  DEBUG    9e66d65a-385e-4097-9e61-2ad68a1a59fb/homo_sapiens - found 4992 cells\n",
      "2024-07-17 21:44:46 561352  DEBUG    5487249a-b034-446a-8d9b-0b810ecb7e91/mus_musculus - found 0 cells\n",
      "2024-07-17 21:44:46 561352  DEBUG    mus_musculus - H5AD has no data after filtering, skipping 5487249a-b034-446a-8d9b-0b810ecb7e91\n",
      "2024-07-17 21:44:46 561295  DEBUG    5487249a-b034-446a-8d9b-0b810ecb7e91/homo_sapiens - found 0 cells\n",
      "2024-07-17 21:44:46 561295  DEBUG    homo_sapiens - H5AD has no data after filtering, skipping 5487249a-b034-446a-8d9b-0b810ecb7e91\n",
      "2024-07-17 21:44:46 561270  DEBUG    f6fbb333-bf7a-4402-a3c0-ef2c894d4371/homo_sapiens - found 0 cells\n",
      "2024-07-17 21:44:46 561270  DEBUG    homo_sapiens - H5AD has no data after filtering, skipping f6fbb333-bf7a-4402-a3c0-ef2c894d4371\n",
      "2024-07-17 21:44:46 561329  DEBUG    6811c454-def2-4d9e-b360-aa8a69f843ce/mus_musculus - found 0 cells\n",
      "2024-07-17 21:44:46 561329  DEBUG    mus_musculus - H5AD has no data after filtering, skipping 6811c454-def2-4d9e-b360-aa8a69f843ce\n",
      "2024-07-17 21:44:46 561283  DEBUG    9e66d65a-385e-4097-9e61-2ad68a1a59fb/homo_sapiens - found 0 cells\n",
      "2024-07-17 21:44:46 561283  DEBUG    homo_sapiens - H5AD has no data after filtering, skipping 9e66d65a-385e-4097-9e61-2ad68a1a59fb\n",
      "2024-07-17 21:44:46 561386  DEBUG    f6fbb333-bf7a-4402-a3c0-ef2c894d4371/mus_musculus - found 0 cells\n",
      "2024-07-17 21:44:46 561386  DEBUG    mus_musculus - H5AD has no data after filtering, skipping f6fbb333-bf7a-4402-a3c0-ef2c894d4371\n",
      "2024-07-17 21:44:46 561337  DEBUG    17d9e43f-1251-4f1e-8a5b-a96f2c89e5ec/homo_sapiens - found 0 cells\n",
      "2024-07-17 21:44:46 561299  DEBUG    6811c454-def2-4d9e-b360-aa8a69f843ce/homo_sapiens - found 0 cells\n",
      "2024-07-17 21:44:46 561337  DEBUG    homo_sapiens - H5AD has no data after filtering, skipping 17d9e43f-1251-4f1e-8a5b-a96f2c89e5ec\n",
      "2024-07-17 21:44:46 561299  DEBUG    homo_sapiens - H5AD has no data after filtering, skipping 6811c454-def2-4d9e-b360-aa8a69f843ce\n",
      "2024-07-17 21:44:46 561267  DEBUG    1fee1684-94b3-4371-8d44-6a8b937ba23f/mus_musculus - found 0 cells\n",
      "2024-07-17 21:44:46 561267  DEBUG    mus_musculus - H5AD has no data after filtering, skipping 1fee1684-94b3-4371-8d44-6a8b937ba23f\n",
      "2024-07-17 21:44:46 561388  DEBUG    9e66d65a-385e-4097-9e61-2ad68a1a59fb/mus_musculus - found 0 cells\n",
      "2024-07-17 21:44:46 561277  DEBUG    1fee1684-94b3-4371-8d44-6a8b937ba23f/homo_sapiens - found 0 cells\n",
      "2024-07-17 21:44:46 561388  DEBUG    mus_musculus - H5AD has no data after filtering, skipping 9e66d65a-385e-4097-9e61-2ad68a1a59fb\n",
      "2024-07-17 21:44:46 561277  DEBUG    homo_sapiens - H5AD has no data after filtering, skipping 1fee1684-94b3-4371-8d44-6a8b937ba23f\n",
      "2024-07-17 21:44:46 561343  DEBUG    17d9e43f-1251-4f1e-8a5b-a96f2c89e5ec/mus_musculus - found 0 cells\n",
      "2024-07-17 21:44:46 561343  DEBUG    mus_musculus - H5AD has no data after filtering, skipping 17d9e43f-1251-4f1e-8a5b-a96f2c89e5ec\n",
      "2024-07-17 21:44:46 561367  DEBUG    6811c454-def2-4d9e-b360-aa8a69f843ce/mus_musculus - found 0 cells\n",
      "2024-07-17 21:44:46 561367  DEBUG    mus_musculus - H5AD has no data after filtering, skipping 6811c454-def2-4d9e-b360-aa8a69f843ce\n",
      "2024-07-17 21:44:46 561355  DEBUG    5487249a-b034-446a-8d9b-0b810ecb7e91/mus_musculus - found 0 cells\n",
      "2024-07-17 21:44:46 561355  DEBUG    mus_musculus - H5AD has no data after filtering, skipping 5487249a-b034-446a-8d9b-0b810ecb7e91\n",
      "2024-07-17 21:44:46 561321  DEBUG    9e66d65a-385e-4097-9e61-2ad68a1a59fb/mus_musculus - found 0 cells\n",
      "2024-07-17 21:44:46 561321  DEBUG    mus_musculus - H5AD has no data after filtering, skipping 9e66d65a-385e-4097-9e61-2ad68a1a59fb\n",
      "2024-07-17 21:44:46 561326  DEBUG    17d9e43f-1251-4f1e-8a5b-a96f2c89e5ec/mus_musculus - found 0 cells\n",
      "2024-07-17 21:44:46 561326  DEBUG    mus_musculus - H5AD has no data after filtering, skipping 17d9e43f-1251-4f1e-8a5b-a96f2c89e5ec\n",
      "2024-07-17 21:44:46 561334  DEBUG    1fee1684-94b3-4371-8d44-6a8b937ba23f/mus_musculus - found 0 cells\n",
      "2024-07-17 21:44:46 561334  DEBUG    mus_musculus - H5AD has no data after filtering, skipping 1fee1684-94b3-4371-8d44-6a8b937ba23f\n",
      "2024-07-17 21:44:46 561274  DEBUG    f6fbb333-bf7a-4402-a3c0-ef2c894d4371/mus_musculus - found 0 cells\n",
      "2024-07-17 21:44:46 561274  DEBUG    mus_musculus - H5AD has no data after filtering, skipping f6fbb333-bf7a-4402-a3c0-ef2c894d4371\n",
      "2024-07-17 21:44:47 561179  INFO     Build step 3 - axis accumulation complete\n",
      "2024-07-17 21:44:48 561179  INFO     Build step 3 - accumulate obs and var axes - finished\n",
      "2024-07-17 21:44:48 561179  INFO     Scaling cluster to 1 workers.\n",
      "2024-07-17 21:44:48 561179  INFO     Build step 4 - Populate X layers - started\n",
      "2024-07-17 21:44:48 561179  INFO     homo_sapiens: create X layers\n",
      "2024-07-17 21:44:48 561179  INFO     mus_musculus: create X layers\n",
      "2024-07-17 21:44:48 561179  INFO     homo_sapiens: create X layers\n",
      "2024-07-17 21:44:48 561179  INFO     mus_musculus: create X layers\n",
      "2024-07-17 21:44:49 561267  DEBUG    dispatch_X_chunk [enter]: /home/ubuntu/github/cellxgene-census/issues/census_1127_spatial-builder/census-builds/test-spatial-build/h5ads/5487249a-b034-446a-8d9b-0b810ecb7e91.h5ad, 0\n",
      "2024-07-17 21:44:49 561267  INFO     processing X /home/ubuntu/github/cellxgene-census/issues/census_1127_spatial-builder/census-builds/test-spatial-build/h5ads/5487249a-b034-446a-8d9b-0b810ecb7e91.h5ad, 0, chunk 0 of 1\n",
      "2024-07-17 21:45:00 561179  INFO     System memory: mem-used=5423804416 (4.1%), max-mem-used=10387423232 (7.8%), mem-total=132980944896 load-avg=(4.79, 2.08, 0.91)\n",
      "2024-07-17 21:45:01 561267  INFO     dispatch_X_chunk [exit, 12.11s]: /home/ubuntu/github/cellxgene-census/issues/census_1127_spatial-builder/census-builds/test-spatial-build/h5ads/5487249a-b034-446a-8d9b-0b810ecb7e91.h5ad, 0\n",
      "2024-07-17 21:45:01 561267  DEBUG    dispatch_X_chunk [enter]: /home/ubuntu/github/cellxgene-census/issues/census_1127_spatial-builder/census-builds/test-spatial-build/h5ads/1fee1684-94b3-4371-8d44-6a8b937ba23f.h5ad, 0\n",
      "2024-07-17 21:45:01 561267  INFO     processing X /home/ubuntu/github/cellxgene-census/issues/census_1127_spatial-builder/census-builds/test-spatial-build/h5ads/1fee1684-94b3-4371-8d44-6a8b937ba23f.h5ad, 0, chunk 0 of 1\n",
      "2024-07-17 21:45:08 561267  INFO     dispatch_X_chunk [exit, 6.98s]: /home/ubuntu/github/cellxgene-census/issues/census_1127_spatial-builder/census-builds/test-spatial-build/h5ads/1fee1684-94b3-4371-8d44-6a8b937ba23f.h5ad, 0\n",
      "2024-07-17 21:45:08 561267  DEBUG    dispatch_X_chunk [enter]: /home/ubuntu/github/cellxgene-census/issues/census_1127_spatial-builder/census-builds/test-spatial-build/h5ads/6811c454-def2-4d9e-b360-aa8a69f843ce.h5ad, 0\n",
      "2024-07-17 21:45:08 561267  INFO     processing X /home/ubuntu/github/cellxgene-census/issues/census_1127_spatial-builder/census-builds/test-spatial-build/h5ads/6811c454-def2-4d9e-b360-aa8a69f843ce.h5ad, 0, chunk 0 of 1\n",
      "2024-07-17 21:45:15 561179  INFO     System memory: mem-used=5883351040 (4.4%), max-mem-used=10387423232 (7.8%), mem-total=132980944896 load-avg=(6.83, 2.65, 1.11)\n",
      "2024-07-17 21:45:17 561267  INFO     dispatch_X_chunk [exit, 9.04s]: /home/ubuntu/github/cellxgene-census/issues/census_1127_spatial-builder/census-builds/test-spatial-build/h5ads/6811c454-def2-4d9e-b360-aa8a69f843ce.h5ad, 0\n",
      "2024-07-17 21:45:17 561267  DEBUG    dispatch_X_chunk [enter]: /home/ubuntu/github/cellxgene-census/issues/census_1127_spatial-builder/census-builds/test-spatial-build/h5ads/f6fbb333-bf7a-4402-a3c0-ef2c894d4371.h5ad, 0\n",
      "2024-07-17 21:45:17 561267  INFO     processing X /home/ubuntu/github/cellxgene-census/issues/census_1127_spatial-builder/census-builds/test-spatial-build/h5ads/f6fbb333-bf7a-4402-a3c0-ef2c894d4371.h5ad, 0, chunk 0 of 1\n",
      "2024-07-17 21:45:27 561267  INFO     dispatch_X_chunk [exit, 10.00s]: /home/ubuntu/github/cellxgene-census/issues/census_1127_spatial-builder/census-builds/test-spatial-build/h5ads/f6fbb333-bf7a-4402-a3c0-ef2c894d4371.h5ad, 0\n",
      "2024-07-17 21:45:27 561267  DEBUG    dispatch_X_chunk [enter]: /home/ubuntu/github/cellxgene-census/issues/census_1127_spatial-builder/census-builds/test-spatial-build/h5ads/9e66d65a-385e-4097-9e61-2ad68a1a59fb.h5ad, 0\n",
      "2024-07-17 21:45:27 561267  INFO     processing X /home/ubuntu/github/cellxgene-census/issues/census_1127_spatial-builder/census-builds/test-spatial-build/h5ads/9e66d65a-385e-4097-9e61-2ad68a1a59fb.h5ad, 0, chunk 0 of 1\n",
      "2024-07-17 21:45:30 561179  INFO     System memory: mem-used=6666788864 (5.0%), max-mem-used=10387423232 (7.8%), mem-total=132980944896 load-avg=(7.98, 3.11, 1.29)\n",
      "2024-07-17 21:45:37 561267  INFO     dispatch_X_chunk [exit, 10.19s]: /home/ubuntu/github/cellxgene-census/issues/census_1127_spatial-builder/census-builds/test-spatial-build/h5ads/9e66d65a-385e-4097-9e61-2ad68a1a59fb.h5ad, 0\n",
      "2024-07-17 21:45:37 561267  DEBUG    dispatch_X_chunk [enter]: /home/ubuntu/github/cellxgene-census/issues/census_1127_spatial-builder/census-builds/test-spatial-build/h5ads/17d9e43f-1251-4f1e-8a5b-a96f2c89e5ec.h5ad, 0\n",
      "2024-07-17 21:45:37 561267  INFO     processing X /home/ubuntu/github/cellxgene-census/issues/census_1127_spatial-builder/census-builds/test-spatial-build/h5ads/17d9e43f-1251-4f1e-8a5b-a96f2c89e5ec.h5ad, 0, chunk 0 of 1\n",
      "2024-07-17 21:45:45 561179  INFO     System memory: mem-used=7246356480 (5.4%), max-mem-used=10387423232 (7.8%), mem-total=132980944896 load-avg=(10.6, 3.93, 1.59)\n",
      "2024-07-17 21:45:49 561267  INFO     dispatch_X_chunk [exit, 11.33s]: /home/ubuntu/github/cellxgene-census/issues/census_1127_spatial-builder/census-builds/test-spatial-build/h5ads/17d9e43f-1251-4f1e-8a5b-a96f2c89e5ec.h5ad, 0\n",
      "2024-07-17 21:45:49 561179  INFO     Save presence matrix for homo_sapiens - start\n",
      "2024-07-17 21:45:49 561179  INFO     Save presence matrix for homo_sapiens - finish\n",
      "2024-07-17 21:45:49 561179  DEBUG    Resource use: pid=561179, threads=234 (max=234), maps=2308 (max=2308), page-faults(cumm)=34 uss=239951872, rss=405934080\n",
      "2024-07-17 21:45:49 561179  INFO     Save presence matrix for mus_musculus - start\n",
      "2024-07-17 21:45:49 561179  INFO     Save presence matrix for mus_musculus - finish\n",
      "2024-07-17 21:45:49 561179  DEBUG    Resource use: pid=561179, threads=298 (max=298), maps=2436 (max=2436), page-faults(cumm)=34 uss=240766976, rss=406720512\n",
      "2024-07-17 21:45:49 561179  INFO     Save presence matrix for homo_sapiens - start\n",
      "2024-07-17 21:45:49 561179  INFO     Save presence matrix for homo_sapiens - finish\n",
      "2024-07-17 21:45:49 561179  DEBUG    Resource use: pid=561179, threads=362 (max=362), maps=2564 (max=2564), page-faults(cumm)=34 uss=249225216, rss=414334976\n",
      "2024-07-17 21:45:49 561179  INFO     Save presence matrix for mus_musculus - start\n",
      "2024-07-17 21:45:49 561179  INFO     Save presence matrix for mus_musculus - finish\n",
      "2024-07-17 21:45:49 561179  DEBUG    Resource use: pid=561179, threads=426 (max=426), maps=2692 (max=2692), page-faults(cumm)=34 uss=250212352, rss=415383552\n",
      "2024-07-17 21:45:49 561179  INFO     Build step 4 - Populate X layers - finished\n",
      "2024-07-17 21:45:49 561179  INFO     Build step 5 - Save axis and summary info - started\n",
      "2024-07-17 21:45:49 561179  INFO     homo_sapiens: writing obs dataframe\n",
      "2024-07-17 21:45:49 561179  INFO     homo_sapiens: empty obs dataframe\n",
      "2024-07-17 21:45:49 561179  INFO     homo_sapiens: writing var dataframe\n",
      "2024-07-17 21:45:49 561179  INFO     homo_sapiens: empty var dataframe\n",
      "2024-07-17 21:45:49 561179  INFO     mus_musculus: writing obs dataframe\n",
      "2024-07-17 21:45:49 561179  INFO     mus_musculus: empty obs dataframe\n",
      "2024-07-17 21:45:49 561179  INFO     mus_musculus: writing var dataframe\n",
      "2024-07-17 21:45:49 561179  INFO     mus_musculus: empty var dataframe\n",
      "2024-07-17 21:45:49 561179  INFO     homo_sapiens: writing obs dataframe\n",
      "2024-07-17 21:45:49 561179  DEBUG    experiment homo_sapiens obs = (29952, 30)\n",
      "2024-07-17 21:45:50 561179  INFO     homo_sapiens: writing var dataframe\n",
      "2024-07-17 21:45:50 561179  DEBUG    experiment homo_sapiens var = (36972, 6)\n",
      "2024-07-17 21:45:50 561179  INFO     mus_musculus: writing obs dataframe\n",
      "2024-07-17 21:45:50 561179  INFO     mus_musculus: empty obs dataframe\n",
      "2024-07-17 21:45:50 561179  INFO     mus_musculus: writing var dataframe\n",
      "2024-07-17 21:45:50 561179  INFO     mus_musculus: empty var dataframe\n",
      "2024-07-17 21:45:50 561179  INFO     Creating dataset_manifest\n",
      "2024-07-17 21:45:50 561179  INFO     Creating census_summary_cell_counts\n",
      "2024-07-17 21:45:50 561179  INFO     Creating census summary\n",
      "2024-07-17 21:45:50 561179  INFO     Create census organisms dataframe\n",
      "2024-07-17 21:45:50 561179  INFO     Build step 5 - Save axis and summary info - finished\n",
      "2024-07-17 21:45:50 561179  INFO     tiledb_soma_1969_work_around: deleting bounding box from file:///home/ubuntu/github/cellxgene-census/issues/census_1127_spatial-builder/census-builds/test-spatial-build/soma/census_spatial/homo_sapiens/ms/RNA/X/normalized\n",
      "2024-07-17 21:45:50 561179  INFO     tiledb_soma_1969_work_around: deleting bounding box from file:///home/ubuntu/github/cellxgene-census/issues/census_1127_spatial-builder/census-builds/test-spatial-build/soma/census_spatial/homo_sapiens/ms/RNA/X/raw\n",
      "2024-07-17 21:45:50 561179  INFO     tiledb_soma_1969_work_around: deleting bounding box from file:///home/ubuntu/github/cellxgene-census/issues/census_1127_spatial-builder/census-builds/test-spatial-build/soma/census_spatial/homo_sapiens/ms/RNA/feature_dataset_presence_matrix\n",
      "2024-07-17 21:45:51 561179  INFO     Scaling cluster to 32 workers.\n"
     ]
    }
   ],
   "source": [
    "!python -m cellxgene_census_builder.build_soma -v --build-tag $census_build_tag $census_builder_working_dir build --manifest $MANIFEST_FILE_PATH"
   ]
  },
  {
   "cell_type": "markdown",
   "id": "2ab2bf1a-edd5-49c0-8c23-7465e4e9f9b5",
   "metadata": {},
   "source": [
    "## Inspect the census object\n",
    "**Work-In-Progress** \n",
    "\n",
    "_Note that there is a `census_data` and `census_spatial` collection side by side and the `census_spatial` collection also contains a `spatial` collection along with `obs` and `ms`_"
   ]
  },
  {
   "cell_type": "code",
   "execution_count": 19,
   "id": "10e13cb5-9291-4fb1-99f4-776b870261f4",
   "metadata": {},
   "outputs": [],
   "source": [
    "import tiledbsoma"
   ]
  },
  {
   "cell_type": "code",
   "execution_count": 20,
   "id": "ec5d1ffd-ba81-4386-bc26-574652ffdecc",
   "metadata": {},
   "outputs": [
    {
     "data": {
      "text/plain": [
       "'/home/ubuntu/github/cellxgene-census/tools/cellxgene_census_builder/spatial_dev_tools/../../../issues/census_1127_spatial-builder/census-builds/test-spatial-build/soma'"
      ]
     },
     "execution_count": 20,
     "metadata": {},
     "output_type": "execute_result"
    }
   ],
   "source": [
    "soma_root_collection_uri = f\"{census_builder_working_dir}/{census_build_tag}/soma\"\n",
    "soma_root_collection_uri"
   ]
  },
  {
   "cell_type": "code",
   "execution_count": 21,
   "id": "51c1e38d-d767-4870-94c6-a9c00630deb1",
   "metadata": {},
   "outputs": [
    {
     "data": {
      "text/plain": [
       "<Collection 'file:///home/ubuntu/github/cellxgene-census/issues/census_1127_spatial-builder/census-builds/test-spatial-build/soma' (open for 'r') (3 items)\n",
       "    'census_data': 'file:///home/ubuntu/github/cellxgene-census/issues/census_1127_spatial-builder/census-builds/test-spatial-build/soma/census_data' (unopened)\n",
       "    'census_info': 'file:///home/ubuntu/github/cellxgene-census/issues/census_1127_spatial-builder/census-builds/test-spatial-build/soma/census_info' (unopened)\n",
       "    'census_spatial': 'file:///home/ubuntu/github/cellxgene-census/issues/census_1127_spatial-builder/census-builds/test-spatial-build/soma/census_spatial' (unopened)>"
      ]
     },
     "execution_count": 21,
     "metadata": {},
     "output_type": "execute_result"
    }
   ],
   "source": [
    "soma_root_collection = tiledbsoma.open(soma_root_collection_uri)\n",
    "soma_root_collection"
   ]
  },
  {
   "cell_type": "code",
   "execution_count": 22,
   "id": "8de7aafb-30d3-40d7-96c0-5c7a2fe65b02",
   "metadata": {},
   "outputs": [
    {
     "data": {
      "text/plain": [
       "<Collection 'file:///home/ubuntu/github/cellxgene-census/issues/census_1127_spatial-builder/census-builds/test-spatial-build/soma/census_spatial' (open for 'r') (2 items)\n",
       "    'homo_sapiens': 'file:///home/ubuntu/github/cellxgene-census/issues/census_1127_spatial-builder/census-builds/test-spatial-build/soma/census_spatial/homo_sapiens' (unopened)\n",
       "    'mus_musculus': 'file:///home/ubuntu/github/cellxgene-census/issues/census_1127_spatial-builder/census-builds/test-spatial-build/soma/census_spatial/mus_musculus' (unopened)>"
      ]
     },
     "execution_count": 22,
     "metadata": {},
     "output_type": "execute_result"
    }
   ],
   "source": [
    "soma_root_collection[\"census_spatial\"]"
   ]
  },
  {
   "cell_type": "code",
   "execution_count": 23,
   "id": "5a78859a-db6a-4ecd-95ff-8c397e8e0875",
   "metadata": {},
   "outputs": [
    {
     "data": {
      "text/plain": [
       "<Collection 'file:///home/ubuntu/github/cellxgene-census/issues/census_1127_spatial-builder/census-builds/test-spatial-build/soma/census_spatial/homo_sapiens/spatial' (open for 'r') (empty)>"
      ]
     },
     "execution_count": 23,
     "metadata": {},
     "output_type": "execute_result"
    }
   ],
   "source": [
    "soma_root_collection[\"census_spatial\"][\"homo_sapiens\"][\"spatial\"]"
   ]
  },
  {
   "cell_type": "markdown",
   "id": "a05a3395-b510-4c6b-a5ff-0485535e63aa",
   "metadata": {},
   "source": [
    "# Query the census object\n",
    "**Work-In-Progress**"
   ]
  },
  {
   "cell_type": "code",
   "execution_count": 30,
   "id": "a82ad4cb-b71b-40b0-9954-a1cae985c985",
   "metadata": {},
   "outputs": [],
   "source": [
    "import cellxgene_census\n",
    "\n",
    "census = cellxgene_census.open_soma(uri=soma_root_collection_uri)"
   ]
  },
  {
   "cell_type": "code",
   "execution_count": 31,
   "id": "abf4380d",
   "metadata": {},
   "outputs": [
    {
     "data": {
      "text/plain": [
       "<Experiment 'file:///home/ubuntu/github/cellxgene-census/issues/census_1127_spatial-builder/census-builds/test-spatial-build/soma/census_spatial/homo_sapiens' (open for 'r') (3 items)\n",
       "    'ms': 'file:///home/ubuntu/github/cellxgene-census/issues/census_1127_spatial-builder/census-builds/test-spatial-build/soma/census_spatial/homo_sapiens/ms' (unopened)\n",
       "    'obs': 'file:///home/ubuntu/github/cellxgene-census/issues/census_1127_spatial-builder/census-builds/test-spatial-build/soma/census_spatial/homo_sapiens/obs' (unopened)\n",
       "    'spatial': 'file:///home/ubuntu/github/cellxgene-census/issues/census_1127_spatial-builder/census-builds/test-spatial-build/soma/census_spatial/homo_sapiens/spatial' (unopened)>"
      ]
     },
     "execution_count": 31,
     "metadata": {},
     "output_type": "execute_result"
    }
   ],
   "source": [
    "census[\"census_spatial\"][\"homo_sapiens\"]"
   ]
  },
  {
   "cell_type": "code",
   "execution_count": 32,
   "id": "a685b68b-b6d1-4ab9-a6be-33ba48f365fa",
   "metadata": {},
   "outputs": [
    {
     "data": {
      "text/html": [
       "<div>\n",
       "<style scoped>\n",
       "    .dataframe tbody tr th:only-of-type {\n",
       "        vertical-align: middle;\n",
       "    }\n",
       "\n",
       "    .dataframe tbody tr th {\n",
       "        vertical-align: top;\n",
       "    }\n",
       "\n",
       "    .dataframe thead th {\n",
       "        text-align: right;\n",
       "    }\n",
       "</style>\n",
       "<table border=\"1\" class=\"dataframe\">\n",
       "  <thead>\n",
       "    <tr style=\"text-align: right;\">\n",
       "      <th></th>\n",
       "      <th>soma_joinid</th>\n",
       "      <th>dataset_id</th>\n",
       "      <th>assay_ontology_term_id</th>\n",
       "      <th>cell_type</th>\n",
       "      <th>tissue</th>\n",
       "      <th>raw_sum</th>\n",
       "      <th>nnz</th>\n",
       "      <th>raw_mean_nnz</th>\n",
       "      <th>raw_variance_nnz</th>\n",
       "      <th>n_measured_vars</th>\n",
       "    </tr>\n",
       "  </thead>\n",
       "  <tbody>\n",
       "    <tr>\n",
       "      <th>0</th>\n",
       "      <td>0</td>\n",
       "      <td>17d9e43f-1251-4f1e-8a5b-a96f2c89e5ec</td>\n",
       "      <td>EFO:0010961</td>\n",
       "      <td>unknown</td>\n",
       "      <td>heart left ventricle</td>\n",
       "      <td>1065.0</td>\n",
       "      <td>505</td>\n",
       "      <td>2.108911</td>\n",
       "      <td>36.045655</td>\n",
       "      <td>22492</td>\n",
       "    </tr>\n",
       "    <tr>\n",
       "      <th>1</th>\n",
       "      <td>1</td>\n",
       "      <td>17d9e43f-1251-4f1e-8a5b-a96f2c89e5ec</td>\n",
       "      <td>EFO:0010961</td>\n",
       "      <td>cardiac muscle myoblast</td>\n",
       "      <td>heart left ventricle</td>\n",
       "      <td>14193.0</td>\n",
       "      <td>2813</td>\n",
       "      <td>5.045503</td>\n",
       "      <td>2083.542025</td>\n",
       "      <td>22492</td>\n",
       "    </tr>\n",
       "    <tr>\n",
       "      <th>2</th>\n",
       "      <td>2</td>\n",
       "      <td>17d9e43f-1251-4f1e-8a5b-a96f2c89e5ec</td>\n",
       "      <td>EFO:0010961</td>\n",
       "      <td>cardiac muscle myoblast</td>\n",
       "      <td>heart left ventricle</td>\n",
       "      <td>8883.0</td>\n",
       "      <td>2384</td>\n",
       "      <td>3.726091</td>\n",
       "      <td>760.181342</td>\n",
       "      <td>22492</td>\n",
       "    </tr>\n",
       "    <tr>\n",
       "      <th>3</th>\n",
       "      <td>3</td>\n",
       "      <td>17d9e43f-1251-4f1e-8a5b-a96f2c89e5ec</td>\n",
       "      <td>EFO:0010961</td>\n",
       "      <td>unknown</td>\n",
       "      <td>heart left ventricle</td>\n",
       "      <td>2380.0</td>\n",
       "      <td>968</td>\n",
       "      <td>2.458678</td>\n",
       "      <td>94.614630</td>\n",
       "      <td>22492</td>\n",
       "    </tr>\n",
       "    <tr>\n",
       "      <th>4</th>\n",
       "      <td>4</td>\n",
       "      <td>17d9e43f-1251-4f1e-8a5b-a96f2c89e5ec</td>\n",
       "      <td>EFO:0010961</td>\n",
       "      <td>unknown</td>\n",
       "      <td>heart left ventricle</td>\n",
       "      <td>1089.0</td>\n",
       "      <td>503</td>\n",
       "      <td>2.165010</td>\n",
       "      <td>42.679889</td>\n",
       "      <td>22492</td>\n",
       "    </tr>\n",
       "    <tr>\n",
       "      <th>...</th>\n",
       "      <td>...</td>\n",
       "      <td>...</td>\n",
       "      <td>...</td>\n",
       "      <td>...</td>\n",
       "      <td>...</td>\n",
       "      <td>...</td>\n",
       "      <td>...</td>\n",
       "      <td>...</td>\n",
       "      <td>...</td>\n",
       "      <td>...</td>\n",
       "    </tr>\n",
       "    <tr>\n",
       "      <th>29947</th>\n",
       "      <td>29947</td>\n",
       "      <td>5487249a-b034-446a-8d9b-0b810ecb7e91</td>\n",
       "      <td>EFO:0010961</td>\n",
       "      <td>unknown</td>\n",
       "      <td>heart left ventricle</td>\n",
       "      <td>28548.0</td>\n",
       "      <td>6325</td>\n",
       "      <td>4.513518</td>\n",
       "      <td>169.593310</td>\n",
       "      <td>22532</td>\n",
       "    </tr>\n",
       "    <tr>\n",
       "      <th>29948</th>\n",
       "      <td>29948</td>\n",
       "      <td>5487249a-b034-446a-8d9b-0b810ecb7e91</td>\n",
       "      <td>EFO:0010961</td>\n",
       "      <td>immature innate lymphoid cell</td>\n",
       "      <td>heart left ventricle</td>\n",
       "      <td>15198.0</td>\n",
       "      <td>4365</td>\n",
       "      <td>3.481787</td>\n",
       "      <td>168.873923</td>\n",
       "      <td>22532</td>\n",
       "    </tr>\n",
       "    <tr>\n",
       "      <th>29949</th>\n",
       "      <td>29949</td>\n",
       "      <td>5487249a-b034-446a-8d9b-0b810ecb7e91</td>\n",
       "      <td>EFO:0010961</td>\n",
       "      <td>immature innate lymphoid cell</td>\n",
       "      <td>heart left ventricle</td>\n",
       "      <td>20013.0</td>\n",
       "      <td>5057</td>\n",
       "      <td>3.957485</td>\n",
       "      <td>201.442615</td>\n",
       "      <td>22532</td>\n",
       "    </tr>\n",
       "    <tr>\n",
       "      <th>29950</th>\n",
       "      <td>29950</td>\n",
       "      <td>5487249a-b034-446a-8d9b-0b810ecb7e91</td>\n",
       "      <td>EFO:0010961</td>\n",
       "      <td>unknown</td>\n",
       "      <td>heart left ventricle</td>\n",
       "      <td>2206.0</td>\n",
       "      <td>1180</td>\n",
       "      <td>1.869492</td>\n",
       "      <td>10.093216</td>\n",
       "      <td>22532</td>\n",
       "    </tr>\n",
       "    <tr>\n",
       "      <th>29951</th>\n",
       "      <td>29951</td>\n",
       "      <td>5487249a-b034-446a-8d9b-0b810ecb7e91</td>\n",
       "      <td>EFO:0010961</td>\n",
       "      <td>unknown</td>\n",
       "      <td>heart left ventricle</td>\n",
       "      <td>1729.0</td>\n",
       "      <td>757</td>\n",
       "      <td>2.284016</td>\n",
       "      <td>70.573990</td>\n",
       "      <td>22532</td>\n",
       "    </tr>\n",
       "  </tbody>\n",
       "</table>\n",
       "<p>29952 rows × 10 columns</p>\n",
       "</div>"
      ],
      "text/plain": [
       "       soma_joinid                            dataset_id  \\\n",
       "0                0  17d9e43f-1251-4f1e-8a5b-a96f2c89e5ec   \n",
       "1                1  17d9e43f-1251-4f1e-8a5b-a96f2c89e5ec   \n",
       "2                2  17d9e43f-1251-4f1e-8a5b-a96f2c89e5ec   \n",
       "3                3  17d9e43f-1251-4f1e-8a5b-a96f2c89e5ec   \n",
       "4                4  17d9e43f-1251-4f1e-8a5b-a96f2c89e5ec   \n",
       "...            ...                                   ...   \n",
       "29947        29947  5487249a-b034-446a-8d9b-0b810ecb7e91   \n",
       "29948        29948  5487249a-b034-446a-8d9b-0b810ecb7e91   \n",
       "29949        29949  5487249a-b034-446a-8d9b-0b810ecb7e91   \n",
       "29950        29950  5487249a-b034-446a-8d9b-0b810ecb7e91   \n",
       "29951        29951  5487249a-b034-446a-8d9b-0b810ecb7e91   \n",
       "\n",
       "      assay_ontology_term_id                      cell_type  \\\n",
       "0                EFO:0010961                        unknown   \n",
       "1                EFO:0010961        cardiac muscle myoblast   \n",
       "2                EFO:0010961        cardiac muscle myoblast   \n",
       "3                EFO:0010961                        unknown   \n",
       "4                EFO:0010961                        unknown   \n",
       "...                      ...                            ...   \n",
       "29947            EFO:0010961                        unknown   \n",
       "29948            EFO:0010961  immature innate lymphoid cell   \n",
       "29949            EFO:0010961  immature innate lymphoid cell   \n",
       "29950            EFO:0010961                        unknown   \n",
       "29951            EFO:0010961                        unknown   \n",
       "\n",
       "                     tissue  raw_sum   nnz  raw_mean_nnz  raw_variance_nnz  \\\n",
       "0      heart left ventricle   1065.0   505      2.108911         36.045655   \n",
       "1      heart left ventricle  14193.0  2813      5.045503       2083.542025   \n",
       "2      heart left ventricle   8883.0  2384      3.726091        760.181342   \n",
       "3      heart left ventricle   2380.0   968      2.458678         94.614630   \n",
       "4      heart left ventricle   1089.0   503      2.165010         42.679889   \n",
       "...                     ...      ...   ...           ...               ...   \n",
       "29947  heart left ventricle  28548.0  6325      4.513518        169.593310   \n",
       "29948  heart left ventricle  15198.0  4365      3.481787        168.873923   \n",
       "29949  heart left ventricle  20013.0  5057      3.957485        201.442615   \n",
       "29950  heart left ventricle   2206.0  1180      1.869492         10.093216   \n",
       "29951  heart left ventricle   1729.0   757      2.284016         70.573990   \n",
       "\n",
       "       n_measured_vars  \n",
       "0                22492  \n",
       "1                22492  \n",
       "2                22492  \n",
       "3                22492  \n",
       "4                22492  \n",
       "...                ...  \n",
       "29947            22532  \n",
       "29948            22532  \n",
       "29949            22532  \n",
       "29950            22532  \n",
       "29951            22532  \n",
       "\n",
       "[29952 rows x 10 columns]"
      ]
     },
     "execution_count": 32,
     "metadata": {},
     "output_type": "execute_result"
    }
   ],
   "source": [
    "obs_columns = [\n",
    "    \"soma_joinid\",\n",
    "    \"dataset_id\",\n",
    "    \"assay_ontology_term_id\",\n",
    "    \"cell_type\",\n",
    "    \"tissue\",\n",
    "    \"raw_sum\",\n",
    "    \"nnz\",\n",
    "    \"raw_mean_nnz\",\n",
    "    \"raw_variance_nnz\",\n",
    "    \"n_measured_vars\",\n",
    "]\n",
    "obs_df = census[\"census_spatial\"][\"homo_sapiens\"].obs.read(column_names=obs_columns).concat().to_pandas()\n",
    "obs_df"
   ]
  },
  {
   "cell_type": "code",
   "execution_count": 27,
   "id": "d7b28154",
   "metadata": {},
   "outputs": [
    {
     "data": {
      "text/plain": [
       "KeysView(<Collection 'file:///home/ubuntu/github/cellxgene-census/issues/census_1127_spatial-builder/census-builds/test-spatial-build/soma' (open for 'r') (3 items)\n",
       "    'census_data': 'file:///home/ubuntu/github/cellxgene-census/issues/census_1127_spatial-builder/census-builds/test-spatial-build/soma/census_data' (unopened)\n",
       "    'census_info': 'file:///home/ubuntu/github/cellxgene-census/issues/census_1127_spatial-builder/census-builds/test-spatial-build/soma/census_info' (unopened)\n",
       "    'census_spatial': Collection 'file:///home/ubuntu/github/cellxgene-census/issues/census_1127_spatial-builder/census-builds/test-spatial-build/soma/census_spatial' (open for 'r') (2 items)\n",
       "        'homo_sapiens': Experiment 'file:///home/ubuntu/github/cellxgene-census/issues/census_1127_spatial-builder/census-builds/test-spatial-build/soma/census_spatial/homo_sapiens' (open for 'r') (3 items)\n",
       "            'ms': 'file:///home/ubuntu/github/cellxgene-census/issues/census_1127_spatial-builder/census-builds/test-spatial-build/soma/census_spatial/homo_sapiens/ms' (unopened)\n",
       "            'obs': DataFrame 'file:///home/ubuntu/github/cellxgene-census/issues/census_1127_spatial-builder/census-builds/test-spatial-build/soma/census_spatial/homo_sapiens/obs' (open for 'r')\n",
       "            'spatial': 'file:///home/ubuntu/github/cellxgene-census/issues/census_1127_spatial-builder/census-builds/test-spatial-build/soma/census_spatial/homo_sapiens/spatial' (unopened)\n",
       "        'mus_musculus': 'file:///home/ubuntu/github/cellxgene-census/issues/census_1127_spatial-builder/census-builds/test-spatial-build/soma/census_spatial/mus_musculus' (unopened)>)"
      ]
     },
     "execution_count": 27,
     "metadata": {},
     "output_type": "execute_result"
    }
   ],
   "source": [
    "census.keys()"
   ]
  },
  {
   "cell_type": "code",
   "execution_count": 28,
   "id": "ad894083-a79b-4395-a836-e3136a28f502",
   "metadata": {},
   "outputs": [
    {
     "data": {
      "text/html": [
       "<div>\n",
       "<style scoped>\n",
       "    .dataframe tbody tr th:only-of-type {\n",
       "        vertical-align: middle;\n",
       "    }\n",
       "\n",
       "    .dataframe tbody tr th {\n",
       "        vertical-align: top;\n",
       "    }\n",
       "\n",
       "    .dataframe thead th {\n",
       "        text-align: right;\n",
       "    }\n",
       "</style>\n",
       "<table border=\"1\" class=\"dataframe\">\n",
       "  <thead>\n",
       "    <tr style=\"text-align: right;\">\n",
       "      <th></th>\n",
       "      <th>soma_joinid</th>\n",
       "      <th>feature_id</th>\n",
       "      <th>feature_name</th>\n",
       "      <th>feature_length</th>\n",
       "      <th>nnz</th>\n",
       "      <th>n_measured_obs</th>\n",
       "    </tr>\n",
       "  </thead>\n",
       "  <tbody>\n",
       "    <tr>\n",
       "      <th>0</th>\n",
       "      <td>0</td>\n",
       "      <td>ENSG00000243485</td>\n",
       "      <td>MIR1302-2HG</td>\n",
       "      <td>1021</td>\n",
       "      <td>0</td>\n",
       "      <td>0</td>\n",
       "    </tr>\n",
       "    <tr>\n",
       "      <th>1</th>\n",
       "      <td>1</td>\n",
       "      <td>ENSG00000237613</td>\n",
       "      <td>FAM138A</td>\n",
       "      <td>1219</td>\n",
       "      <td>0</td>\n",
       "      <td>0</td>\n",
       "    </tr>\n",
       "    <tr>\n",
       "      <th>2</th>\n",
       "      <td>2</td>\n",
       "      <td>ENSG00000186092</td>\n",
       "      <td>OR4F5</td>\n",
       "      <td>2618</td>\n",
       "      <td>0</td>\n",
       "      <td>0</td>\n",
       "    </tr>\n",
       "    <tr>\n",
       "      <th>3</th>\n",
       "      <td>3</td>\n",
       "      <td>ENSG00000238009</td>\n",
       "      <td>ENSG00000238009.6</td>\n",
       "      <td>3726</td>\n",
       "      <td>35</td>\n",
       "      <td>29952</td>\n",
       "    </tr>\n",
       "    <tr>\n",
       "      <th>4</th>\n",
       "      <td>4</td>\n",
       "      <td>ENSG00000239945</td>\n",
       "      <td>ENSG00000239945.1</td>\n",
       "      <td>1319</td>\n",
       "      <td>0</td>\n",
       "      <td>0</td>\n",
       "    </tr>\n",
       "    <tr>\n",
       "      <th>...</th>\n",
       "      <td>...</td>\n",
       "      <td>...</td>\n",
       "      <td>...</td>\n",
       "      <td>...</td>\n",
       "      <td>...</td>\n",
       "      <td>...</td>\n",
       "    </tr>\n",
       "    <tr>\n",
       "      <th>36967</th>\n",
       "      <td>36967</td>\n",
       "      <td>ENSG00000280081</td>\n",
       "      <td>LINC01667</td>\n",
       "      <td>4169</td>\n",
       "      <td>1</td>\n",
       "      <td>4992</td>\n",
       "    </tr>\n",
       "    <tr>\n",
       "      <th>36968</th>\n",
       "      <td>36968</td>\n",
       "      <td>ENSG00000235609</td>\n",
       "      <td>ENSG00000235609.7</td>\n",
       "      <td>5929</td>\n",
       "      <td>269</td>\n",
       "      <td>9984</td>\n",
       "    </tr>\n",
       "    <tr>\n",
       "      <th>36969</th>\n",
       "      <td>36969</td>\n",
       "      <td>ENSG00000265590</td>\n",
       "      <td>CFAP298-TCP10L</td>\n",
       "      <td>19326</td>\n",
       "      <td>0</td>\n",
       "      <td>0</td>\n",
       "    </tr>\n",
       "    <tr>\n",
       "      <th>36970</th>\n",
       "      <td>36970</td>\n",
       "      <td>ENSG00000249624</td>\n",
       "      <td>IFNAR2-IL10RB</td>\n",
       "      <td>3943</td>\n",
       "      <td>64</td>\n",
       "      <td>9984</td>\n",
       "    </tr>\n",
       "    <tr>\n",
       "      <th>36971</th>\n",
       "      <td>36971</td>\n",
       "      <td>ENSG00000249209</td>\n",
       "      <td>ENSG00000249209.2</td>\n",
       "      <td>1078</td>\n",
       "      <td>94</td>\n",
       "      <td>9984</td>\n",
       "    </tr>\n",
       "  </tbody>\n",
       "</table>\n",
       "<p>36972 rows × 6 columns</p>\n",
       "</div>"
      ],
      "text/plain": [
       "       soma_joinid       feature_id       feature_name  feature_length  nnz  \\\n",
       "0                0  ENSG00000243485        MIR1302-2HG            1021    0   \n",
       "1                1  ENSG00000237613            FAM138A            1219    0   \n",
       "2                2  ENSG00000186092              OR4F5            2618    0   \n",
       "3                3  ENSG00000238009  ENSG00000238009.6            3726   35   \n",
       "4                4  ENSG00000239945  ENSG00000239945.1            1319    0   \n",
       "...            ...              ...                ...             ...  ...   \n",
       "36967        36967  ENSG00000280081          LINC01667            4169    1   \n",
       "36968        36968  ENSG00000235609  ENSG00000235609.7            5929  269   \n",
       "36969        36969  ENSG00000265590     CFAP298-TCP10L           19326    0   \n",
       "36970        36970  ENSG00000249624      IFNAR2-IL10RB            3943   64   \n",
       "36971        36971  ENSG00000249209  ENSG00000249209.2            1078   94   \n",
       "\n",
       "       n_measured_obs  \n",
       "0                   0  \n",
       "1                   0  \n",
       "2                   0  \n",
       "3               29952  \n",
       "4                   0  \n",
       "...               ...  \n",
       "36967            4992  \n",
       "36968            9984  \n",
       "36969               0  \n",
       "36970            9984  \n",
       "36971            9984  \n",
       "\n",
       "[36972 rows x 6 columns]"
      ]
     },
     "execution_count": 28,
     "metadata": {},
     "output_type": "execute_result"
    }
   ],
   "source": [
    "var_df = census[\"census_spatial\"][\"homo_sapiens\"].ms[\"RNA\"].var.read().concat().to_pandas()\n",
    "\n",
    "var_df"
   ]
  },
  {
   "cell_type": "code",
   "execution_count": 29,
   "id": "f1b7ec72-de3c-4e35-9301-7a5c332c1c5c",
   "metadata": {},
   "outputs": [],
   "source": [
    "census.close()"
   ]
  }
 ],
 "metadata": {
  "kernelspec": {
   "display_name": "Python 3 (ipykernel)",
   "language": "python",
   "name": "python3"
  },
  "language_info": {
   "codemirror_mode": {
    "name": "ipython",
    "version": 3
   },
   "file_extension": ".py",
   "mimetype": "text/x-python",
   "name": "python",
   "nbconvert_exporter": "python",
   "pygments_lexer": "ipython3",
   "version": "3.11.9"
  }
 },
 "nbformat": 4,
 "nbformat_minor": 5
}
