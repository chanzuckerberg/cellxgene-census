{
 "cells": [
  {
   "cell_type": "code",
   "execution_count": null,
   "id": "8502ec5c-26ac-423e-89f1-d624b91e384c",
   "metadata": {},
   "outputs": [],
   "source": [
    "import tiledbsoma\n",
    "from tiledbsoma.experimental.ingest import from_cxg_spatial_h5ad"
   ]
  },
  {
   "cell_type": "code",
   "execution_count": null,
   "id": "1424f61e-f47a-485a-9765-7598f8e469fa",
   "metadata": {},
   "outputs": [],
   "source": [
    "from_cxg_spatial_h5ad(\n",
    "    input_h5ad_path=\"/Users/psridharan/Downloads/c63d5cb4-1046-4948-a188-e6af50ef90f4.h5ad\",\n",
    "    experiment_uri=\"soma-spatial\",\n",
    "    measurement_name=\"RNA\",\n",
    "    scene_name=\"c63d5cb4-1046-4948-a188-e6af50ef90f4\",\n",
    "    uns_keys=[],\n",
    ")"
   ]
  },
  {
   "cell_type": "code",
   "execution_count": null,
   "id": "7919de5f-7709-46c1-b2d0-c4288a880a76",
   "metadata": {},
   "outputs": [],
   "source": [
    "sp = tiledbsoma.open(\"soma-spatial\")\n",
    "sp"
   ]
  },
  {
   "cell_type": "code",
   "execution_count": null,
   "id": "7f08df07-2027-494f-b383-b9e739a614fd",
   "metadata": {},
   "outputs": [],
   "source": [
    "sp.spatial[\"c63d5cb4-1046-4948-a188-e6af50ef90f4\"]"
   ]
  },
  {
   "cell_type": "code",
   "execution_count": null,
   "id": "35ba9213-37f1-40b7-a922-f31e75258240",
   "metadata": {},
   "outputs": [],
   "source": [
    "sp.spatial[\"c63d5cb4-1046-4948-a188-e6af50ef90f4\"][\"img\"][\"hires\"]"
   ]
  },
  {
   "cell_type": "code",
   "execution_count": null,
   "id": "5a792279-b560-4246-b853-8735f85e2bb3",
   "metadata": {},
   "outputs": [],
   "source": [
    "hires_ndarray = sp.spatial[\"c63d5cb4-1046-4948-a188-e6af50ef90f4\"][\"img\"][\"hires\"].read()\n",
    "hires_ndarray.to_numpy()"
   ]
  },
  {
   "cell_type": "code",
   "execution_count": null,
   "id": "616715c4-0178-4f27-831f-63d6c024cf1a",
   "metadata": {},
   "outputs": [],
   "source": [
    "sp.spatial[\"c63d5cb4-1046-4948-a188-e6af50ef90f4\"][\"obsl\"]"
   ]
  },
  {
   "cell_type": "code",
   "execution_count": null,
   "id": "f596b70a-528b-43c1-aa75-429d13cc164b",
   "metadata": {},
   "outputs": [],
   "source": [
    "obsl_df = sp.spatial[\"c63d5cb4-1046-4948-a188-e6af50ef90f4\"][\"obsl\"]\n",
    "obsl_df.read().concat().to_pandas()"
   ]
  },
  {
   "cell_type": "code",
   "execution_count": null,
   "id": "3c144a87-72ba-4924-b87b-e4552b00a9ae",
   "metadata": {},
   "outputs": [],
   "source": []
  }
 ],
 "metadata": {
  "kernelspec": {
   "display_name": "Python 3 (ipykernel)",
   "language": "python",
   "name": "python3"
  },
  "language_info": {
   "codemirror_mode": {
    "name": "ipython",
    "version": 3
   },
   "file_extension": ".py",
   "mimetype": "text/x-python",
   "name": "python",
   "nbconvert_exporter": "python",
   "pygments_lexer": "ipython3",
   "version": "3.11.9"
  }
 },
 "nbformat": 4,
 "nbformat_minor": 5
}
