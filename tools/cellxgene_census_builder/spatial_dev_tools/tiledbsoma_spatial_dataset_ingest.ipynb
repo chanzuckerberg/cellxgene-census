{
 "cells": [
  {
   "cell_type": "markdown",
   "id": "80a83763-0c07-439c-aee5-2cc3de405946",
   "metadata": {},
   "source": [
    "# Ingest CXG spatial h5ad file and create SOMA object on disk"
   ]
  },
  {
   "cell_type": "code",
   "execution_count": 1,
   "id": "8502ec5c-26ac-423e-89f1-d624b91e384c",
   "metadata": {},
   "outputs": [],
   "source": [
    "import tiledbsoma\n",
    "from tiledbsoma.experimental.ingest import from_cxg_spatial_h5ad"
   ]
  },
  {
   "cell_type": "code",
   "execution_count": 2,
   "id": "7dfb26df",
   "metadata": {},
   "outputs": [],
   "source": [
    "from pathlib import Path"
   ]
  },
  {
   "cell_type": "code",
   "execution_count": 3,
   "id": "0f4e3bcf",
   "metadata": {},
   "outputs": [],
   "source": [
    "REPO_ROOT_DIR = Path(\"../../..\")\n",
    "BUILDER_DIR = REPO_ROOT_DIR / \"tools/cellxgene_census_builder\"\n",
    "WORKING_DIR = REPO_ROOT_DIR / \"issues/census_1127_spatial-builder\"\n",
    "ANNDATA_DIR = WORKING_DIR / \"source_h5ad\"\n",
    "SOMA_DIR = WORKING_DIR / \"spatial_soma\"\n",
    "\n",
    "MANIFEST_FILE_PATH = BUILDER_DIR / \"spatial_dev_tools/manifest.csv\"\n",
    "BLOCKLIST_FILE_PATH = BUILDER_DIR / \"spatial_dev_tools/blocklist.txt\""
   ]
  },
  {
   "cell_type": "code",
   "execution_count": 4,
   "id": "51dd74c9",
   "metadata": {},
   "outputs": [],
   "source": [
    "SOMA_DIR.mkdir(exist_ok=True)"
   ]
  },
  {
   "cell_type": "code",
   "execution_count": 5,
   "id": "cb8da571",
   "metadata": {},
   "outputs": [
    {
     "name": "stdout",
     "output_type": "stream",
     "text": [
      "/home/ubuntu/github/cellxgene-census/tools/cellxgene_census_builder/spatial_dev_tools\n"
     ]
    }
   ],
   "source": [
    "!pwd"
   ]
  },
  {
   "cell_type": "code",
   "execution_count": 6,
   "id": "8d3ff59e",
   "metadata": {},
   "outputs": [],
   "source": [
    "SOMA_DIR.mkdir(exist_ok=True)"
   ]
  },
  {
   "cell_type": "code",
   "execution_count": null,
   "id": "bd608577",
   "metadata": {},
   "outputs": [],
   "source": []
  },
  {
   "cell_type": "code",
   "execution_count": 7,
   "id": "1424f61e-f47a-485a-9765-7598f8e469fa",
   "metadata": {},
   "outputs": [],
   "source": [
    "# NOTE: Replace value of `my_h5ad_path` with an appropriate path to a cellxgene h5ad spatial file\n",
    "dataset_id = \"3396c353-d720-4588-8724-75546e2f18cc\"\n",
    "my_h5ad_path = ANNDATA_DIR / f\"{dataset_id}.h5ad\"\n",
    "my_soma_path = SOMA_DIR / dataset_id"
   ]
  },
  {
   "cell_type": "code",
   "execution_count": 8,
   "id": "573e3e7b",
   "metadata": {},
   "outputs": [],
   "source": [
    "if my_soma_path.is_dir():\n",
    "    !rm -r $my_soma_path"
   ]
  },
  {
   "cell_type": "code",
   "execution_count": 9,
   "id": "03daf39c",
   "metadata": {},
   "outputs": [
    {
     "name": "stderr",
     "output_type": "stream",
     "text": [
      "<frozen abc>:119: FutureWarning: SparseDataset is deprecated and will be removed in late 2024. It has been replaced by the public classes CSRDataset and CSCDataset.\n",
      "\n",
      "For instance checks, use `isinstance(X, (anndata.experimental.CSRDataset, anndata.experimental.CSCDataset))` instead.\n",
      "\n",
      "For creation, use `anndata.experimental.sparse_dataset(X)` instead.\n",
      "\n"
     ]
    },
    {
     "data": {
      "text/plain": [
       "'../../../issues/census_1127_spatial-builder/spatial_soma/3396c353-d720-4588-8724-75546e2f18cc'"
      ]
     },
     "execution_count": 9,
     "metadata": {},
     "output_type": "execute_result"
    }
   ],
   "source": [
    "from_cxg_spatial_h5ad(\n",
    "    input_h5ad_path=my_h5ad_path,\n",
    "    experiment_uri=str(my_soma_path),\n",
    "    measurement_name=\"RNA\",\n",
    "    scene_name=dataset_id,\n",
    "    uns_keys=[],\n",
    ")"
   ]
  },
  {
   "cell_type": "markdown",
   "id": "f738c098-d7a3-4f4b-b2ba-77d4c7109045",
   "metadata": {},
   "source": [
    "## Inspect the structure of the SOMA object on disk"
   ]
  },
  {
   "cell_type": "code",
   "execution_count": 10,
   "id": "7919de5f-7709-46c1-b2d0-c4288a880a76",
   "metadata": {},
   "outputs": [
    {
     "data": {
      "text/plain": [
       "<Experiment 'file:///home/ubuntu/github/cellxgene-census/issues/census_1127_spatial-builder/spatial_soma/3396c353-d720-4588-8724-75546e2f18cc' (open for 'r') (4 items)\n",
       "    'ms': 'file:///home/ubuntu/github/cellxgene-census/issues/census_1127_spatial-builder/spatial_soma/3396c353-d720-4588-8724-75546e2f18cc/ms' (unopened)\n",
       "    'obs': 'file:///home/ubuntu/github/cellxgene-census/issues/census_1127_spatial-builder/spatial_soma/3396c353-d720-4588-8724-75546e2f18cc/obs' (unopened)\n",
       "    'obs_scene': 'file:///home/ubuntu/github/cellxgene-census/issues/census_1127_spatial-builder/spatial_soma/3396c353-d720-4588-8724-75546e2f18cc/obs_scene' (unopened)\n",
       "    'spatial': 'file:///home/ubuntu/github/cellxgene-census/issues/census_1127_spatial-builder/spatial_soma/3396c353-d720-4588-8724-75546e2f18cc/spatial' (unopened)>"
      ]
     },
     "execution_count": 10,
     "metadata": {},
     "output_type": "execute_result"
    }
   ],
   "source": [
    "sp = tiledbsoma.open(str(my_soma_path))\n",
    "sp"
   ]
  },
  {
   "cell_type": "code",
   "execution_count": 11,
   "id": "bcb874f0-d1eb-4e09-ab77-b77116e60592",
   "metadata": {},
   "outputs": [
    {
     "data": {
      "text/plain": [
       "<Collection 'file:///home/ubuntu/github/cellxgene-census/issues/census_1127_spatial-builder/spatial_soma/3396c353-d720-4588-8724-75546e2f18cc/ms' (open for 'r') (1 item)\n",
       "    'RNA': 'file:///home/ubuntu/github/cellxgene-census/issues/census_1127_spatial-builder/spatial_soma/3396c353-d720-4588-8724-75546e2f18cc/ms/RNA' (unopened)>"
      ]
     },
     "execution_count": 11,
     "metadata": {},
     "output_type": "execute_result"
    }
   ],
   "source": [
    "sp.ms"
   ]
  },
  {
   "cell_type": "code",
   "execution_count": 12,
   "id": "2a4f16a9-0fbd-4d31-b8f4-d58149ac2605",
   "metadata": {},
   "outputs": [
    {
     "data": {
      "text/plain": [
       "<Measurement 'file:///home/ubuntu/github/cellxgene-census/issues/census_1127_spatial-builder/spatial_soma/3396c353-d720-4588-8724-75546e2f18cc/ms/RNA' (open for 'r') (5 items)\n",
       "    'X': 'file:///home/ubuntu/github/cellxgene-census/issues/census_1127_spatial-builder/spatial_soma/3396c353-d720-4588-8724-75546e2f18cc/ms/RNA/X' (unopened)\n",
       "    'obsm': 'file:///home/ubuntu/github/cellxgene-census/issues/census_1127_spatial-builder/spatial_soma/3396c353-d720-4588-8724-75546e2f18cc/ms/RNA/obsm' (unopened)\n",
       "    'uns': 'file:///home/ubuntu/github/cellxgene-census/issues/census_1127_spatial-builder/spatial_soma/3396c353-d720-4588-8724-75546e2f18cc/ms/RNA/uns' (unopened)\n",
       "    'var': 'file:///home/ubuntu/github/cellxgene-census/issues/census_1127_spatial-builder/spatial_soma/3396c353-d720-4588-8724-75546e2f18cc/ms/RNA/var' (unopened)\n",
       "    'var_scene': 'file:///home/ubuntu/github/cellxgene-census/issues/census_1127_spatial-builder/spatial_soma/3396c353-d720-4588-8724-75546e2f18cc/ms/RNA/var_scene' (unopened)>"
      ]
     },
     "execution_count": 12,
     "metadata": {},
     "output_type": "execute_result"
    }
   ],
   "source": [
    "sp.ms[\"RNA\"]"
   ]
  },
  {
   "cell_type": "code",
   "execution_count": 13,
   "id": "feba52ff-aab0-4eaa-a1b5-42e7e792e85d",
   "metadata": {},
   "outputs": [
    {
     "data": {
      "text/plain": [
       "<DataFrame 'file:///home/ubuntu/github/cellxgene-census/issues/census_1127_spatial-builder/spatial_soma/3396c353-d720-4588-8724-75546e2f18cc/ms/RNA/var_scene' (open for 'r')>"
      ]
     },
     "execution_count": 13,
     "metadata": {},
     "output_type": "execute_result"
    }
   ],
   "source": [
    "sp.ms[\"RNA\"].var_scene"
   ]
  },
  {
   "cell_type": "code",
   "execution_count": 14,
   "id": "3efc6723-be0e-4743-900d-53ad0d803701",
   "metadata": {},
   "outputs": [
    {
     "data": {
      "text/html": [
       "<div>\n",
       "<style scoped>\n",
       "    .dataframe tbody tr th:only-of-type {\n",
       "        vertical-align: middle;\n",
       "    }\n",
       "\n",
       "    .dataframe tbody tr th {\n",
       "        vertical-align: top;\n",
       "    }\n",
       "\n",
       "    .dataframe thead th {\n",
       "        text-align: right;\n",
       "    }\n",
       "</style>\n",
       "<table border=\"1\" class=\"dataframe\">\n",
       "  <thead>\n",
       "    <tr style=\"text-align: right;\">\n",
       "      <th></th>\n",
       "      <th>soma_joinid</th>\n",
       "      <th>scene_id</th>\n",
       "      <th>data</th>\n",
       "    </tr>\n",
       "  </thead>\n",
       "  <tbody>\n",
       "    <tr>\n",
       "      <th>0</th>\n",
       "      <td>0</td>\n",
       "      <td>3396c353-d720-4588-8724-75546e2f18cc</td>\n",
       "      <td>True</td>\n",
       "    </tr>\n",
       "    <tr>\n",
       "      <th>1</th>\n",
       "      <td>3</td>\n",
       "      <td>3396c353-d720-4588-8724-75546e2f18cc</td>\n",
       "      <td>True</td>\n",
       "    </tr>\n",
       "    <tr>\n",
       "      <th>2</th>\n",
       "      <td>7</td>\n",
       "      <td>3396c353-d720-4588-8724-75546e2f18cc</td>\n",
       "      <td>True</td>\n",
       "    </tr>\n",
       "    <tr>\n",
       "      <th>3</th>\n",
       "      <td>12</td>\n",
       "      <td>3396c353-d720-4588-8724-75546e2f18cc</td>\n",
       "      <td>True</td>\n",
       "    </tr>\n",
       "    <tr>\n",
       "      <th>4</th>\n",
       "      <td>13</td>\n",
       "      <td>3396c353-d720-4588-8724-75546e2f18cc</td>\n",
       "      <td>True</td>\n",
       "    </tr>\n",
       "    <tr>\n",
       "      <th>...</th>\n",
       "      <td>...</td>\n",
       "      <td>...</td>\n",
       "      <td>...</td>\n",
       "    </tr>\n",
       "    <tr>\n",
       "      <th>22747</th>\n",
       "      <td>33148</td>\n",
       "      <td>3396c353-d720-4588-8724-75546e2f18cc</td>\n",
       "      <td>True</td>\n",
       "    </tr>\n",
       "    <tr>\n",
       "      <th>22748</th>\n",
       "      <td>33149</td>\n",
       "      <td>3396c353-d720-4588-8724-75546e2f18cc</td>\n",
       "      <td>True</td>\n",
       "    </tr>\n",
       "    <tr>\n",
       "      <th>22749</th>\n",
       "      <td>33151</td>\n",
       "      <td>3396c353-d720-4588-8724-75546e2f18cc</td>\n",
       "      <td>True</td>\n",
       "    </tr>\n",
       "    <tr>\n",
       "      <th>22750</th>\n",
       "      <td>33153</td>\n",
       "      <td>3396c353-d720-4588-8724-75546e2f18cc</td>\n",
       "      <td>True</td>\n",
       "    </tr>\n",
       "    <tr>\n",
       "      <th>22751</th>\n",
       "      <td>33156</td>\n",
       "      <td>3396c353-d720-4588-8724-75546e2f18cc</td>\n",
       "      <td>True</td>\n",
       "    </tr>\n",
       "  </tbody>\n",
       "</table>\n",
       "<p>22752 rows × 3 columns</p>\n",
       "</div>"
      ],
      "text/plain": [
       "       soma_joinid                              scene_id  data\n",
       "0                0  3396c353-d720-4588-8724-75546e2f18cc  True\n",
       "1                3  3396c353-d720-4588-8724-75546e2f18cc  True\n",
       "2                7  3396c353-d720-4588-8724-75546e2f18cc  True\n",
       "3               12  3396c353-d720-4588-8724-75546e2f18cc  True\n",
       "4               13  3396c353-d720-4588-8724-75546e2f18cc  True\n",
       "...            ...                                   ...   ...\n",
       "22747        33148  3396c353-d720-4588-8724-75546e2f18cc  True\n",
       "22748        33149  3396c353-d720-4588-8724-75546e2f18cc  True\n",
       "22749        33151  3396c353-d720-4588-8724-75546e2f18cc  True\n",
       "22750        33153  3396c353-d720-4588-8724-75546e2f18cc  True\n",
       "22751        33156  3396c353-d720-4588-8724-75546e2f18cc  True\n",
       "\n",
       "[22752 rows x 3 columns]"
      ]
     },
     "execution_count": 14,
     "metadata": {},
     "output_type": "execute_result"
    }
   ],
   "source": [
    "var_scene_df = sp.ms[\"RNA\"].var_scene\n",
    "var_scene_df.read().concat().to_pandas()"
   ]
  },
  {
   "cell_type": "code",
   "execution_count": 15,
   "id": "66ec6095-2013-46d0-a630-6ee0a879c056",
   "metadata": {},
   "outputs": [
    {
     "data": {
      "text/plain": [
       "<DataFrame 'file:///home/ubuntu/github/cellxgene-census/issues/census_1127_spatial-builder/spatial_soma/3396c353-d720-4588-8724-75546e2f18cc/obs_scene' (open for 'r')>"
      ]
     },
     "execution_count": 15,
     "metadata": {},
     "output_type": "execute_result"
    }
   ],
   "source": [
    "sp.obs_scene"
   ]
  },
  {
   "cell_type": "code",
   "execution_count": 16,
   "id": "c4989946-47c0-4c50-9da4-e8e02a0454f0",
   "metadata": {},
   "outputs": [
    {
     "data": {
      "text/html": [
       "<div>\n",
       "<style scoped>\n",
       "    .dataframe tbody tr th:only-of-type {\n",
       "        vertical-align: middle;\n",
       "    }\n",
       "\n",
       "    .dataframe tbody tr th {\n",
       "        vertical-align: top;\n",
       "    }\n",
       "\n",
       "    .dataframe thead th {\n",
       "        text-align: right;\n",
       "    }\n",
       "</style>\n",
       "<table border=\"1\" class=\"dataframe\">\n",
       "  <thead>\n",
       "    <tr style=\"text-align: right;\">\n",
       "      <th></th>\n",
       "      <th>soma_joinid</th>\n",
       "      <th>scene_id</th>\n",
       "      <th>data</th>\n",
       "    </tr>\n",
       "  </thead>\n",
       "  <tbody>\n",
       "    <tr>\n",
       "      <th>0</th>\n",
       "      <td>0</td>\n",
       "      <td>3396c353-d720-4588-8724-75546e2f18cc</td>\n",
       "      <td>True</td>\n",
       "    </tr>\n",
       "    <tr>\n",
       "      <th>1</th>\n",
       "      <td>1</td>\n",
       "      <td>3396c353-d720-4588-8724-75546e2f18cc</td>\n",
       "      <td>True</td>\n",
       "    </tr>\n",
       "    <tr>\n",
       "      <th>2</th>\n",
       "      <td>2</td>\n",
       "      <td>3396c353-d720-4588-8724-75546e2f18cc</td>\n",
       "      <td>True</td>\n",
       "    </tr>\n",
       "    <tr>\n",
       "      <th>3</th>\n",
       "      <td>3</td>\n",
       "      <td>3396c353-d720-4588-8724-75546e2f18cc</td>\n",
       "      <td>True</td>\n",
       "    </tr>\n",
       "    <tr>\n",
       "      <th>4</th>\n",
       "      <td>4</td>\n",
       "      <td>3396c353-d720-4588-8724-75546e2f18cc</td>\n",
       "      <td>True</td>\n",
       "    </tr>\n",
       "    <tr>\n",
       "      <th>...</th>\n",
       "      <td>...</td>\n",
       "      <td>...</td>\n",
       "      <td>...</td>\n",
       "    </tr>\n",
       "    <tr>\n",
       "      <th>4987</th>\n",
       "      <td>4987</td>\n",
       "      <td>3396c353-d720-4588-8724-75546e2f18cc</td>\n",
       "      <td>True</td>\n",
       "    </tr>\n",
       "    <tr>\n",
       "      <th>4988</th>\n",
       "      <td>4988</td>\n",
       "      <td>3396c353-d720-4588-8724-75546e2f18cc</td>\n",
       "      <td>True</td>\n",
       "    </tr>\n",
       "    <tr>\n",
       "      <th>4989</th>\n",
       "      <td>4989</td>\n",
       "      <td>3396c353-d720-4588-8724-75546e2f18cc</td>\n",
       "      <td>True</td>\n",
       "    </tr>\n",
       "    <tr>\n",
       "      <th>4990</th>\n",
       "      <td>4990</td>\n",
       "      <td>3396c353-d720-4588-8724-75546e2f18cc</td>\n",
       "      <td>True</td>\n",
       "    </tr>\n",
       "    <tr>\n",
       "      <th>4991</th>\n",
       "      <td>4991</td>\n",
       "      <td>3396c353-d720-4588-8724-75546e2f18cc</td>\n",
       "      <td>True</td>\n",
       "    </tr>\n",
       "  </tbody>\n",
       "</table>\n",
       "<p>4992 rows × 3 columns</p>\n",
       "</div>"
      ],
      "text/plain": [
       "      soma_joinid                              scene_id  data\n",
       "0               0  3396c353-d720-4588-8724-75546e2f18cc  True\n",
       "1               1  3396c353-d720-4588-8724-75546e2f18cc  True\n",
       "2               2  3396c353-d720-4588-8724-75546e2f18cc  True\n",
       "3               3  3396c353-d720-4588-8724-75546e2f18cc  True\n",
       "4               4  3396c353-d720-4588-8724-75546e2f18cc  True\n",
       "...           ...                                   ...   ...\n",
       "4987         4987  3396c353-d720-4588-8724-75546e2f18cc  True\n",
       "4988         4988  3396c353-d720-4588-8724-75546e2f18cc  True\n",
       "4989         4989  3396c353-d720-4588-8724-75546e2f18cc  True\n",
       "4990         4990  3396c353-d720-4588-8724-75546e2f18cc  True\n",
       "4991         4991  3396c353-d720-4588-8724-75546e2f18cc  True\n",
       "\n",
       "[4992 rows x 3 columns]"
      ]
     },
     "execution_count": 16,
     "metadata": {},
     "output_type": "execute_result"
    }
   ],
   "source": [
    "obs_scene_df = sp.obs_scene\n",
    "obs_scene_df.read().concat().to_pandas()"
   ]
  },
  {
   "cell_type": "code",
   "execution_count": 17,
   "id": "8298ad0e-4413-45e8-9161-ef550f58a29e",
   "metadata": {},
   "outputs": [
    {
     "data": {
      "text/plain": [
       "<Collection 'file:///home/ubuntu/github/cellxgene-census/issues/census_1127_spatial-builder/spatial_soma/3396c353-d720-4588-8724-75546e2f18cc/spatial' (open for 'r') (1 item)\n",
       "    '3396c353-d720-4588-8724-75546e2f18cc': 'file:///home/ubuntu/github/cellxgene-census/issues/census_1127_spatial-builder/spatial_soma/3396c353-d720-4588-8724-75546e2f18cc/spatial/3396c353-d720-4588-8724-75546e2f18cc' (unopened)>"
      ]
     },
     "execution_count": 17,
     "metadata": {},
     "output_type": "execute_result"
    }
   ],
   "source": [
    "sp.spatial"
   ]
  },
  {
   "cell_type": "code",
   "execution_count": 18,
   "id": "7f08df07-2027-494f-b383-b9e739a614fd",
   "metadata": {},
   "outputs": [
    {
     "data": {
      "text/plain": [
       "<Scene 'file:///home/ubuntu/github/cellxgene-census/issues/census_1127_spatial-builder/spatial_soma/3396c353-d720-4588-8724-75546e2f18cc/spatial/3396c353-d720-4588-8724-75546e2f18cc' (open for 'r') (3 items)\n",
       "    'img': 'file:///home/ubuntu/github/cellxgene-census/issues/census_1127_spatial-builder/spatial_soma/3396c353-d720-4588-8724-75546e2f18cc/spatial/3396c353-d720-4588-8724-75546e2f18cc/img' (unopened)\n",
       "    'obsl': 'file:///home/ubuntu/github/cellxgene-census/issues/census_1127_spatial-builder/spatial_soma/3396c353-d720-4588-8724-75546e2f18cc/spatial/3396c353-d720-4588-8724-75546e2f18cc/obsl' (unopened)\n",
       "    'varl': 'file:///home/ubuntu/github/cellxgene-census/issues/census_1127_spatial-builder/spatial_soma/3396c353-d720-4588-8724-75546e2f18cc/spatial/3396c353-d720-4588-8724-75546e2f18cc/varl' (unopened)>"
      ]
     },
     "execution_count": 18,
     "metadata": {},
     "output_type": "execute_result"
    }
   ],
   "source": [
    "sp.spatial[dataset_id]"
   ]
  },
  {
   "cell_type": "code",
   "execution_count": 19,
   "id": "35ba9213-37f1-40b7-a922-f31e75258240",
   "metadata": {},
   "outputs": [
    {
     "data": {
      "text/plain": [
       "<DenseNDArray 'file:///home/ubuntu/github/cellxgene-census/issues/census_1127_spatial-builder/spatial_soma/3396c353-d720-4588-8724-75546e2f18cc/spatial/3396c353-d720-4588-8724-75546e2f18cc/img/hires' (open for 'r')>"
      ]
     },
     "execution_count": 19,
     "metadata": {},
     "output_type": "execute_result"
    }
   ],
   "source": [
    "sp.spatial[dataset_id][\"img\"][\"hires\"]"
   ]
  },
  {
   "cell_type": "code",
   "execution_count": 20,
   "id": "5a792279-b560-4246-b853-8735f85e2bb3",
   "metadata": {},
   "outputs": [
    {
     "data": {
      "text/plain": [
       "array([[[237, 237, 237, ..., 237, 237, 237],\n",
       "        [237, 237, 237, ..., 237, 237, 237],\n",
       "        [237, 237, 237, ..., 237, 237, 237],\n",
       "        ...,\n",
       "        [237, 237, 237, ..., 234, 234, 233],\n",
       "        [237, 237, 237, ..., 234, 234, 233],\n",
       "        [237, 237, 237, ..., 234, 234, 233]],\n",
       "\n",
       "       [[241, 241, 241, ..., 240, 240, 240],\n",
       "        [241, 241, 241, ..., 240, 240, 240],\n",
       "        [241, 241, 241, ..., 240, 240, 240],\n",
       "        ...,\n",
       "        [241, 241, 241, ..., 237, 237, 237],\n",
       "        [241, 241, 241, ..., 237, 237, 236],\n",
       "        [241, 241, 241, ..., 237, 237, 236]],\n",
       "\n",
       "       [[240, 240, 240, ..., 243, 243, 243],\n",
       "        [240, 240, 240, ..., 243, 243, 243],\n",
       "        [240, 240, 240, ..., 243, 243, 243],\n",
       "        ...,\n",
       "        [240, 240, 240, ..., 240, 240, 239],\n",
       "        [240, 240, 240, ..., 240, 240, 238],\n",
       "        [240, 240, 240, ..., 240, 240, 238]]], dtype=uint8)"
      ]
     },
     "execution_count": 20,
     "metadata": {},
     "output_type": "execute_result"
    }
   ],
   "source": [
    "hires_ndarray = sp.spatial[dataset_id][\"img\"][\"hires\"].read()\n",
    "hires_ndarray.to_numpy()"
   ]
  },
  {
   "cell_type": "code",
   "execution_count": 21,
   "id": "616715c4-0178-4f27-831f-63d6c024cf1a",
   "metadata": {},
   "outputs": [
    {
     "data": {
      "text/plain": [
       "<Collection 'file:///home/ubuntu/github/cellxgene-census/issues/census_1127_spatial-builder/spatial_soma/3396c353-d720-4588-8724-75546e2f18cc/spatial/3396c353-d720-4588-8724-75546e2f18cc/obsl' (open for 'r') (1 item)\n",
       "    'loc': 'file:///home/ubuntu/github/cellxgene-census/issues/census_1127_spatial-builder/spatial_soma/3396c353-d720-4588-8724-75546e2f18cc/spatial/3396c353-d720-4588-8724-75546e2f18cc/obsl/loc' (unopened)>"
      ]
     },
     "execution_count": 21,
     "metadata": {},
     "output_type": "execute_result"
    }
   ],
   "source": [
    "sp.spatial[dataset_id][\"obsl\"]"
   ]
  },
  {
   "cell_type": "code",
   "execution_count": 22,
   "id": "f596b70a-528b-43c1-aa75-429d13cc164b",
   "metadata": {},
   "outputs": [
    {
     "data": {
      "text/plain": [
       "<DataFrame 'file:///home/ubuntu/github/cellxgene-census/issues/census_1127_spatial-builder/spatial_soma/3396c353-d720-4588-8724-75546e2f18cc/spatial/3396c353-d720-4588-8724-75546e2f18cc/obsl/loc' (open for 'r')>"
      ]
     },
     "execution_count": 22,
     "metadata": {},
     "output_type": "execute_result"
    }
   ],
   "source": [
    "sp.spatial[dataset_id][\"obsl\"][\"loc\"]"
   ]
  },
  {
   "cell_type": "code",
   "execution_count": 23,
   "id": "c0767815-4f13-468c-99b9-82f6680c8337",
   "metadata": {},
   "outputs": [
    {
     "data": {
      "text/html": [
       "<div>\n",
       "<style scoped>\n",
       "    .dataframe tbody tr th:only-of-type {\n",
       "        vertical-align: middle;\n",
       "    }\n",
       "\n",
       "    .dataframe tbody tr th {\n",
       "        vertical-align: top;\n",
       "    }\n",
       "\n",
       "    .dataframe thead th {\n",
       "        text-align: right;\n",
       "    }\n",
       "</style>\n",
       "<table border=\"1\" class=\"dataframe\">\n",
       "  <thead>\n",
       "    <tr style=\"text-align: right;\">\n",
       "      <th></th>\n",
       "      <th>y</th>\n",
       "      <th>x</th>\n",
       "      <th>soma_joinid</th>\n",
       "      <th>in_tissue</th>\n",
       "      <th>array_row</th>\n",
       "      <th>array_col</th>\n",
       "      <th>sample</th>\n",
       "      <th>n_counts</th>\n",
       "      <th>log_counts</th>\n",
       "      <th>n_genes</th>\n",
       "      <th>...</th>\n",
       "      <th>cell_type</th>\n",
       "      <th>assay</th>\n",
       "      <th>disease</th>\n",
       "      <th>organism</th>\n",
       "      <th>sex</th>\n",
       "      <th>tissue</th>\n",
       "      <th>self_reported_ethnicity</th>\n",
       "      <th>development_stage</th>\n",
       "      <th>observation_joinid</th>\n",
       "      <th>_soma_geometry</th>\n",
       "    </tr>\n",
       "  </thead>\n",
       "  <tbody>\n",
       "    <tr>\n",
       "      <th>0</th>\n",
       "      <td>206</td>\n",
       "      <td>1311</td>\n",
       "      <td>750</td>\n",
       "      <td>0</td>\n",
       "      <td>0</td>\n",
       "      <td>76</td>\n",
       "      <td>WS_PLA_S9101770</td>\n",
       "      <td>NaN</td>\n",
       "      <td>NaN</td>\n",
       "      <td>NaN</td>\n",
       "      <td>...</td>\n",
       "      <td>unknown</td>\n",
       "      <td>Visium Spatial Gene Expression</td>\n",
       "      <td>normal</td>\n",
       "      <td>Homo sapiens</td>\n",
       "      <td>unknown</td>\n",
       "      <td>decidua basalis</td>\n",
       "      <td>unknown</td>\n",
       "      <td>Carnegie stage 23</td>\n",
       "      <td>g~Lsd05afR</td>\n",
       "      <td>8.912657</td>\n",
       "    </tr>\n",
       "    <tr>\n",
       "      <th>1</th>\n",
       "      <td>206</td>\n",
       "      <td>1339</td>\n",
       "      <td>298</td>\n",
       "      <td>0</td>\n",
       "      <td>0</td>\n",
       "      <td>78</td>\n",
       "      <td>WS_PLA_S9101770</td>\n",
       "      <td>NaN</td>\n",
       "      <td>NaN</td>\n",
       "      <td>NaN</td>\n",
       "      <td>...</td>\n",
       "      <td>unknown</td>\n",
       "      <td>Visium Spatial Gene Expression</td>\n",
       "      <td>normal</td>\n",
       "      <td>Homo sapiens</td>\n",
       "      <td>unknown</td>\n",
       "      <td>decidua basalis</td>\n",
       "      <td>unknown</td>\n",
       "      <td>Carnegie stage 23</td>\n",
       "      <td>O+rFu9G&amp;=6</td>\n",
       "      <td>8.912657</td>\n",
       "    </tr>\n",
       "    <tr>\n",
       "      <th>2</th>\n",
       "      <td>206</td>\n",
       "      <td>1366</td>\n",
       "      <td>113</td>\n",
       "      <td>0</td>\n",
       "      <td>0</td>\n",
       "      <td>80</td>\n",
       "      <td>WS_PLA_S9101770</td>\n",
       "      <td>NaN</td>\n",
       "      <td>NaN</td>\n",
       "      <td>NaN</td>\n",
       "      <td>...</td>\n",
       "      <td>unknown</td>\n",
       "      <td>Visium Spatial Gene Expression</td>\n",
       "      <td>normal</td>\n",
       "      <td>Homo sapiens</td>\n",
       "      <td>unknown</td>\n",
       "      <td>decidua basalis</td>\n",
       "      <td>unknown</td>\n",
       "      <td>Carnegie stage 23</td>\n",
       "      <td>s#*Dxj^y6e</td>\n",
       "      <td>8.912657</td>\n",
       "    </tr>\n",
       "    <tr>\n",
       "      <th>3</th>\n",
       "      <td>206</td>\n",
       "      <td>1393</td>\n",
       "      <td>1672</td>\n",
       "      <td>0</td>\n",
       "      <td>0</td>\n",
       "      <td>82</td>\n",
       "      <td>WS_PLA_S9101770</td>\n",
       "      <td>NaN</td>\n",
       "      <td>NaN</td>\n",
       "      <td>NaN</td>\n",
       "      <td>...</td>\n",
       "      <td>unknown</td>\n",
       "      <td>Visium Spatial Gene Expression</td>\n",
       "      <td>normal</td>\n",
       "      <td>Homo sapiens</td>\n",
       "      <td>unknown</td>\n",
       "      <td>decidua basalis</td>\n",
       "      <td>unknown</td>\n",
       "      <td>Carnegie stage 23</td>\n",
       "      <td>x1QHW&lt;9wB@</td>\n",
       "      <td>8.912657</td>\n",
       "    </tr>\n",
       "    <tr>\n",
       "      <th>4</th>\n",
       "      <td>206</td>\n",
       "      <td>1503</td>\n",
       "      <td>725</td>\n",
       "      <td>0</td>\n",
       "      <td>0</td>\n",
       "      <td>90</td>\n",
       "      <td>WS_PLA_S9101770</td>\n",
       "      <td>NaN</td>\n",
       "      <td>NaN</td>\n",
       "      <td>NaN</td>\n",
       "      <td>...</td>\n",
       "      <td>unknown</td>\n",
       "      <td>Visium Spatial Gene Expression</td>\n",
       "      <td>normal</td>\n",
       "      <td>Homo sapiens</td>\n",
       "      <td>unknown</td>\n",
       "      <td>decidua basalis</td>\n",
       "      <td>unknown</td>\n",
       "      <td>Carnegie stage 23</td>\n",
       "      <td>pe`+KlB-s7</td>\n",
       "      <td>8.912657</td>\n",
       "    </tr>\n",
       "    <tr>\n",
       "      <th>...</th>\n",
       "      <td>...</td>\n",
       "      <td>...</td>\n",
       "      <td>...</td>\n",
       "      <td>...</td>\n",
       "      <td>...</td>\n",
       "      <td>...</td>\n",
       "      <td>...</td>\n",
       "      <td>...</td>\n",
       "      <td>...</td>\n",
       "      <td>...</td>\n",
       "      <td>...</td>\n",
       "      <td>...</td>\n",
       "      <td>...</td>\n",
       "      <td>...</td>\n",
       "      <td>...</td>\n",
       "      <td>...</td>\n",
       "      <td>...</td>\n",
       "      <td>...</td>\n",
       "      <td>...</td>\n",
       "      <td>...</td>\n",
       "      <td>...</td>\n",
       "    </tr>\n",
       "    <tr>\n",
       "      <th>4987</th>\n",
       "      <td>2044</td>\n",
       "      <td>1572</td>\n",
       "      <td>4750</td>\n",
       "      <td>0</td>\n",
       "      <td>77</td>\n",
       "      <td>95</td>\n",
       "      <td>WS_PLA_S9101770</td>\n",
       "      <td>NaN</td>\n",
       "      <td>NaN</td>\n",
       "      <td>NaN</td>\n",
       "      <td>...</td>\n",
       "      <td>unknown</td>\n",
       "      <td>Visium Spatial Gene Expression</td>\n",
       "      <td>normal</td>\n",
       "      <td>Homo sapiens</td>\n",
       "      <td>unknown</td>\n",
       "      <td>decidua basalis</td>\n",
       "      <td>unknown</td>\n",
       "      <td>Carnegie stage 23</td>\n",
       "      <td>#p{^w*9E%G</td>\n",
       "      <td>8.912657</td>\n",
       "    </tr>\n",
       "    <tr>\n",
       "      <th>4988</th>\n",
       "      <td>2044</td>\n",
       "      <td>1654</td>\n",
       "      <td>4138</td>\n",
       "      <td>0</td>\n",
       "      <td>77</td>\n",
       "      <td>101</td>\n",
       "      <td>WS_PLA_S9101770</td>\n",
       "      <td>NaN</td>\n",
       "      <td>NaN</td>\n",
       "      <td>NaN</td>\n",
       "      <td>...</td>\n",
       "      <td>unknown</td>\n",
       "      <td>Visium Spatial Gene Expression</td>\n",
       "      <td>normal</td>\n",
       "      <td>Homo sapiens</td>\n",
       "      <td>unknown</td>\n",
       "      <td>decidua basalis</td>\n",
       "      <td>unknown</td>\n",
       "      <td>Carnegie stage 23</td>\n",
       "      <td>K&gt;@-#^U$@;</td>\n",
       "      <td>8.912657</td>\n",
       "    </tr>\n",
       "    <tr>\n",
       "      <th>4989</th>\n",
       "      <td>2044</td>\n",
       "      <td>1874</td>\n",
       "      <td>4809</td>\n",
       "      <td>0</td>\n",
       "      <td>77</td>\n",
       "      <td>117</td>\n",
       "      <td>WS_PLA_S9101770</td>\n",
       "      <td>NaN</td>\n",
       "      <td>NaN</td>\n",
       "      <td>NaN</td>\n",
       "      <td>...</td>\n",
       "      <td>unknown</td>\n",
       "      <td>Visium Spatial Gene Expression</td>\n",
       "      <td>normal</td>\n",
       "      <td>Homo sapiens</td>\n",
       "      <td>unknown</td>\n",
       "      <td>decidua basalis</td>\n",
       "      <td>unknown</td>\n",
       "      <td>Carnegie stage 23</td>\n",
       "      <td>O1^&amp;ikNSeg</td>\n",
       "      <td>8.912657</td>\n",
       "    </tr>\n",
       "    <tr>\n",
       "      <th>4990</th>\n",
       "      <td>2044</td>\n",
       "      <td>1901</td>\n",
       "      <td>4110</td>\n",
       "      <td>0</td>\n",
       "      <td>77</td>\n",
       "      <td>119</td>\n",
       "      <td>WS_PLA_S9101770</td>\n",
       "      <td>NaN</td>\n",
       "      <td>NaN</td>\n",
       "      <td>NaN</td>\n",
       "      <td>...</td>\n",
       "      <td>unknown</td>\n",
       "      <td>Visium Spatial Gene Expression</td>\n",
       "      <td>normal</td>\n",
       "      <td>Homo sapiens</td>\n",
       "      <td>unknown</td>\n",
       "      <td>decidua basalis</td>\n",
       "      <td>unknown</td>\n",
       "      <td>Carnegie stage 23</td>\n",
       "      <td>TR33s2qj7R</td>\n",
       "      <td>8.912657</td>\n",
       "    </tr>\n",
       "    <tr>\n",
       "      <th>4991</th>\n",
       "      <td>2044</td>\n",
       "      <td>2011</td>\n",
       "      <td>4881</td>\n",
       "      <td>0</td>\n",
       "      <td>77</td>\n",
       "      <td>127</td>\n",
       "      <td>WS_PLA_S9101770</td>\n",
       "      <td>NaN</td>\n",
       "      <td>NaN</td>\n",
       "      <td>NaN</td>\n",
       "      <td>...</td>\n",
       "      <td>unknown</td>\n",
       "      <td>Visium Spatial Gene Expression</td>\n",
       "      <td>normal</td>\n",
       "      <td>Homo sapiens</td>\n",
       "      <td>unknown</td>\n",
       "      <td>decidua basalis</td>\n",
       "      <td>unknown</td>\n",
       "      <td>Carnegie stage 23</td>\n",
       "      <td>+t&lt;L)+OTQX</td>\n",
       "      <td>8.912657</td>\n",
       "    </tr>\n",
       "  </tbody>\n",
       "</table>\n",
       "<p>4992 rows × 113 columns</p>\n",
       "</div>"
      ],
      "text/plain": [
       "         y     x  soma_joinid  in_tissue  array_row  array_col  \\\n",
       "0      206  1311          750          0          0         76   \n",
       "1      206  1339          298          0          0         78   \n",
       "2      206  1366          113          0          0         80   \n",
       "3      206  1393         1672          0          0         82   \n",
       "4      206  1503          725          0          0         90   \n",
       "...    ...   ...          ...        ...        ...        ...   \n",
       "4987  2044  1572         4750          0         77         95   \n",
       "4988  2044  1654         4138          0         77        101   \n",
       "4989  2044  1874         4809          0         77        117   \n",
       "4990  2044  1901         4110          0         77        119   \n",
       "4991  2044  2011         4881          0         77        127   \n",
       "\n",
       "               sample  n_counts  log_counts  n_genes  ...  cell_type  \\\n",
       "0     WS_PLA_S9101770       NaN         NaN      NaN  ...    unknown   \n",
       "1     WS_PLA_S9101770       NaN         NaN      NaN  ...    unknown   \n",
       "2     WS_PLA_S9101770       NaN         NaN      NaN  ...    unknown   \n",
       "3     WS_PLA_S9101770       NaN         NaN      NaN  ...    unknown   \n",
       "4     WS_PLA_S9101770       NaN         NaN      NaN  ...    unknown   \n",
       "...               ...       ...         ...      ...  ...        ...   \n",
       "4987  WS_PLA_S9101770       NaN         NaN      NaN  ...    unknown   \n",
       "4988  WS_PLA_S9101770       NaN         NaN      NaN  ...    unknown   \n",
       "4989  WS_PLA_S9101770       NaN         NaN      NaN  ...    unknown   \n",
       "4990  WS_PLA_S9101770       NaN         NaN      NaN  ...    unknown   \n",
       "4991  WS_PLA_S9101770       NaN         NaN      NaN  ...    unknown   \n",
       "\n",
       "                               assay  disease      organism      sex  \\\n",
       "0     Visium Spatial Gene Expression   normal  Homo sapiens  unknown   \n",
       "1     Visium Spatial Gene Expression   normal  Homo sapiens  unknown   \n",
       "2     Visium Spatial Gene Expression   normal  Homo sapiens  unknown   \n",
       "3     Visium Spatial Gene Expression   normal  Homo sapiens  unknown   \n",
       "4     Visium Spatial Gene Expression   normal  Homo sapiens  unknown   \n",
       "...                              ...      ...           ...      ...   \n",
       "4987  Visium Spatial Gene Expression   normal  Homo sapiens  unknown   \n",
       "4988  Visium Spatial Gene Expression   normal  Homo sapiens  unknown   \n",
       "4989  Visium Spatial Gene Expression   normal  Homo sapiens  unknown   \n",
       "4990  Visium Spatial Gene Expression   normal  Homo sapiens  unknown   \n",
       "4991  Visium Spatial Gene Expression   normal  Homo sapiens  unknown   \n",
       "\n",
       "               tissue  self_reported_ethnicity  development_stage  \\\n",
       "0     decidua basalis                  unknown  Carnegie stage 23   \n",
       "1     decidua basalis                  unknown  Carnegie stage 23   \n",
       "2     decidua basalis                  unknown  Carnegie stage 23   \n",
       "3     decidua basalis                  unknown  Carnegie stage 23   \n",
       "4     decidua basalis                  unknown  Carnegie stage 23   \n",
       "...               ...                      ...                ...   \n",
       "4987  decidua basalis                  unknown  Carnegie stage 23   \n",
       "4988  decidua basalis                  unknown  Carnegie stage 23   \n",
       "4989  decidua basalis                  unknown  Carnegie stage 23   \n",
       "4990  decidua basalis                  unknown  Carnegie stage 23   \n",
       "4991  decidua basalis                  unknown  Carnegie stage 23   \n",
       "\n",
       "      observation_joinid  _soma_geometry  \n",
       "0             g~Lsd05afR        8.912657  \n",
       "1             O+rFu9G&=6        8.912657  \n",
       "2             s#*Dxj^y6e        8.912657  \n",
       "3             x1QHW<9wB@        8.912657  \n",
       "4             pe`+KlB-s7        8.912657  \n",
       "...                  ...             ...  \n",
       "4987          #p{^w*9E%G        8.912657  \n",
       "4988          K>@-#^U$@;        8.912657  \n",
       "4989          O1^&ikNSeg        8.912657  \n",
       "4990          TR33s2qj7R        8.912657  \n",
       "4991          +t<L)+OTQX        8.912657  \n",
       "\n",
       "[4992 rows x 113 columns]"
      ]
     },
     "execution_count": 23,
     "metadata": {},
     "output_type": "execute_result"
    }
   ],
   "source": [
    "obsl_loc_df = sp.spatial[dataset_id][\"obsl\"][\"loc\"]\n",
    "obsl_loc_df.read().concat().to_pandas()"
   ]
  },
  {
   "cell_type": "code",
   "execution_count": null,
   "id": "cafd98a4",
   "metadata": {},
   "outputs": [],
   "source": [
    "sp.spatial[dataset_id][\"obsl\"][\"loc\"]"
   ]
  },
  {
   "cell_type": "code",
   "execution_count": null,
   "id": "8568e939",
   "metadata": {},
   "outputs": [],
   "source": [
    "sp.spatial[dataset_id]"
   ]
  },
  {
   "cell_type": "code",
   "execution_count": 24,
   "id": "588a06a3",
   "metadata": {},
   "outputs": [
    {
     "data": {
      "text/plain": [
       "<Experiment 'file:///home/ubuntu/github/cellxgene-census/issues/census_1127_spatial-builder/spatial_soma/3396c353-d720-4588-8724-75546e2f18cc' (open for 'r') (4 items)\n",
       "    'ms': Collection 'file:///home/ubuntu/github/cellxgene-census/issues/census_1127_spatial-builder/spatial_soma/3396c353-d720-4588-8724-75546e2f18cc/ms' (open for 'r') (1 item)\n",
       "        'RNA': Measurement 'file:///home/ubuntu/github/cellxgene-census/issues/census_1127_spatial-builder/spatial_soma/3396c353-d720-4588-8724-75546e2f18cc/ms/RNA' (open for 'r') (5 items)\n",
       "            'X': 'file:///home/ubuntu/github/cellxgene-census/issues/census_1127_spatial-builder/spatial_soma/3396c353-d720-4588-8724-75546e2f18cc/ms/RNA/X' (unopened)\n",
       "            'obsm': 'file:///home/ubuntu/github/cellxgene-census/issues/census_1127_spatial-builder/spatial_soma/3396c353-d720-4588-8724-75546e2f18cc/ms/RNA/obsm' (unopened)\n",
       "            'uns': 'file:///home/ubuntu/github/cellxgene-census/issues/census_1127_spatial-builder/spatial_soma/3396c353-d720-4588-8724-75546e2f18cc/ms/RNA/uns' (unopened)\n",
       "            'var': 'file:///home/ubuntu/github/cellxgene-census/issues/census_1127_spatial-builder/spatial_soma/3396c353-d720-4588-8724-75546e2f18cc/ms/RNA/var' (unopened)\n",
       "            'var_scene': DataFrame 'file:///home/ubuntu/github/cellxgene-census/issues/census_1127_spatial-builder/spatial_soma/3396c353-d720-4588-8724-75546e2f18cc/ms/RNA/var_scene' (open for 'r')\n",
       "    'obs': 'file:///home/ubuntu/github/cellxgene-census/issues/census_1127_spatial-builder/spatial_soma/3396c353-d720-4588-8724-75546e2f18cc/obs' (unopened)\n",
       "    'obs_scene': DataFrame 'file:///home/ubuntu/github/cellxgene-census/issues/census_1127_spatial-builder/spatial_soma/3396c353-d720-4588-8724-75546e2f18cc/obs_scene' (open for 'r')\n",
       "    'spatial': Collection 'file:///home/ubuntu/github/cellxgene-census/issues/census_1127_spatial-builder/spatial_soma/3396c353-d720-4588-8724-75546e2f18cc/spatial' (open for 'r') (1 item)\n",
       "        '3396c353-d720-4588-8724-75546e2f18cc': Scene 'file:///home/ubuntu/github/cellxgene-census/issues/census_1127_spatial-builder/spatial_soma/3396c353-d720-4588-8724-75546e2f18cc/spatial/3396c353-d720-4588-8724-75546e2f18cc' (open for 'r') (3 items)\n",
       "            'img': Collection 'file:///home/ubuntu/github/cellxgene-census/issues/census_1127_spatial-builder/spatial_soma/3396c353-d720-4588-8724-75546e2f18cc/spatial/3396c353-d720-4588-8724-75546e2f18cc/img' (open for 'r') (2 items)\n",
       "                'fullres': 'file:///home/ubuntu/github/cellxgene-census/issues/census_1127_spatial-builder/spatial_soma/3396c353-d720-4588-8724-75546e2f18cc/spatial/3396c353-d720-4588-8724-75546e2f18cc/img/fullres' (unopened)\n",
       "                'hires': DenseNDArray 'file:///home/ubuntu/github/cellxgene-census/issues/census_1127_spatial-builder/spatial_soma/3396c353-d720-4588-8724-75546e2f18cc/spatial/3396c353-d720-4588-8724-75546e2f18cc/img/hires' (open for 'r')\n",
       "            'obsl': Collection 'file:///home/ubuntu/github/cellxgene-census/issues/census_1127_spatial-builder/spatial_soma/3396c353-d720-4588-8724-75546e2f18cc/spatial/3396c353-d720-4588-8724-75546e2f18cc/obsl' (open for 'r') (1 item)\n",
       "                'loc': DataFrame 'file:///home/ubuntu/github/cellxgene-census/issues/census_1127_spatial-builder/spatial_soma/3396c353-d720-4588-8724-75546e2f18cc/spatial/3396c353-d720-4588-8724-75546e2f18cc/obsl/loc' (open for 'r')\n",
       "            'varl': 'file:///home/ubuntu/github/cellxgene-census/issues/census_1127_spatial-builder/spatial_soma/3396c353-d720-4588-8724-75546e2f18cc/spatial/3396c353-d720-4588-8724-75546e2f18cc/varl' (unopened)>"
      ]
     },
     "execution_count": 24,
     "metadata": {},
     "output_type": "execute_result"
    }
   ],
   "source": [
    "sp"
   ]
  },
  {
   "cell_type": "code",
   "execution_count": null,
   "id": "7f747491",
   "metadata": {},
   "outputs": [],
   "source": []
  }
 ],
 "metadata": {
  "kernelspec": {
   "display_name": "Python 3 (ipykernel)",
   "language": "python",
   "name": "python3"
  },
  "language_info": {
   "codemirror_mode": {
    "name": "ipython",
    "version": 3
   },
   "file_extension": ".py",
   "mimetype": "text/x-python",
   "name": "python",
   "nbconvert_exporter": "python",
   "pygments_lexer": "ipython3",
   "version": "3.11.9"
  }
 },
 "nbformat": 4,
 "nbformat_minor": 5
}
