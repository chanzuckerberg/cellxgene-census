{
 "cells": [
  {
   "attachments": {},
   "cell_type": "markdown",
   "metadata": {},
   "source": [
    "# find duplicate cells\n",
    "\n",
    "This notebook uses the X counts to search for potentially duplicate cells in the Census.\n",
    "Based upon that potential equality, it provides a variety of reports - currently it reports::\n",
    "* duplicate primary: cells with more than one copy marked `is_primary_data==True`\n",
    "* missing primary: report cells with zero copies marked `is_primary_data==True`\n",
    "\n",
    "The cell equality method is simplisitic - a hash of the cell counts (expression) vector across all genes.\n",
    "This will only detect exact copies.  Future enhancements may include a fuzzier definition of equality.\n",
    "\n",
    "Caveat: CELLxGENE Census internal QC tool"
   ]
  },
  {
   "cell_type": "code",
   "execution_count": 1,
   "metadata": {},
   "outputs": [],
   "source": [
    "import math\n",
    "import xxhash  # https://github.com/ifduyue/python-xxhash\n",
    "from typing import Literal\n",
    "\n",
    "import ipywidgets\n",
    "\n",
    "import cellxgene_census\n",
    "import numpy as np\n",
    "import pandas as pd\n",
    "\n",
    "from _csr_iter import X_sparse_iter\n",
    "\n",
    "\n",
    "\"\"\"\n",
    "Configuration - pick the Census version and experiment to utilize\n",
    "\"\"\"\n",
    "census_version: str = (\n",
    "    \"latest\"  # which Census version? Good options: latest, stable, or YYYY-MM-DD\n",
    ")\n",
    "experiment: Literal[\n",
    "    \"mus_musculus\", \"homo_sapiens\"\n",
    "] = \"homo_sapiens\"  # Which experiment? Pick one."
   ]
  },
  {
   "cell_type": "code",
   "execution_count": 2,
   "metadata": {},
   "outputs": [
    {
     "name": "stderr",
     "output_type": "stream",
     "text": [
      "The \"latest\" release is currently 2023-06-20. Specify 'census_version=\"2023-06-20\"' in future calls to open_soma() to ensure data consistency.\n"
     ]
    },
    {
     "data": {
      "application/vnd.jupyter.widget-view+json": {
       "model_id": "90a114d1e34445ff92b9fb6e32f4144d",
       "version_major": 2,
       "version_minor": 0
      },
      "text/plain": [
       "IntProgress(value=0, description='Hashing:', max=573)"
      ]
     },
     "metadata": {},
     "output_type": "display_data"
    }
   ],
   "source": [
    "row_stride = 100_000  # row partition\n",
    "\n",
    "with cellxgene_census.open_soma(census_version=census_version) as census:\n",
    "    exp = census[\"census_data\"][experiment]\n",
    "    with exp.axis_query(measurement_name=\"RNA\") as query:\n",
    "        # Notebook progress bar\n",
    "        display(\n",
    "            prog := ipywidgets.IntProgress(\n",
    "                value=0,\n",
    "                min=0,\n",
    "                max=math.ceil(query.n_obs / row_stride),\n",
    "                description=\"Hashing:\",\n",
    "            )\n",
    "        )\n",
    "\n",
    "        obs_df = (\n",
    "            query.obs(column_names=[\"dataset_id\", \"soma_joinid\", \"is_primary_data\"])\n",
    "            .concat()\n",
    "            .to_pandas()\n",
    "            .set_index(\"soma_joinid\")\n",
    "        )\n",
    "        hashes = pd.Series(data=np.full((len(obs_df),), \"\"), index=obs_df.index)\n",
    "\n",
    "        for (obs_soma_joinids_chunk, _), X_chunk in X_sparse_iter(\n",
    "            query, X_name=\"raw\", row_stride=row_stride\n",
    "        ):\n",
    "            for r, row_soma_joinid in enumerate(obs_soma_joinids_chunk):\n",
    "                row_counts = X_chunk.getrow(r)\n",
    "                hash = xxhash.xxh3_128(row_counts.data.tobytes())\n",
    "                hash.update(row_counts.indptr)\n",
    "                hashes.at[row_soma_joinid] = hash.hexdigest()\n",
    "\n",
    "            prog.value += 1\n",
    "\n",
    "obs_df.insert(0, \"hash\", hashes)"
   ]
  },
  {
   "cell_type": "code",
   "execution_count": null,
   "metadata": {},
   "outputs": [],
   "source": [
    "\"\"\"Compute a summary pivot on the hash and is_primary_data\"\"\"\n",
    "hash_primary_pivot = (\n",
    "    obs_df.value_counts(subset=[\"hash\", \"is_primary_data\"])\n",
    "    .to_frame()\n",
    "    .reset_index()\n",
    "    .pivot_table(index=\"hash\", columns=\"is_primary_data\", values=\"count\", fill_value=0)\n",
    ")"
   ]
  },
  {
   "cell_type": "code",
   "execution_count": null,
   "metadata": {},
   "outputs": [
    {
     "data": {
      "text/html": [
       "<div>\n",
       "<style scoped>\n",
       "    .dataframe tbody tr th:only-of-type {\n",
       "        vertical-align: middle;\n",
       "    }\n",
       "\n",
       "    .dataframe tbody tr th {\n",
       "        vertical-align: top;\n",
       "    }\n",
       "\n",
       "    .dataframe thead th {\n",
       "        text-align: right;\n",
       "    }\n",
       "</style>\n",
       "<table border=\"1\" class=\"dataframe\">\n",
       "  <thead>\n",
       "    <tr style=\"text-align: right;\">\n",
       "      <th></th>\n",
       "      <th>hash</th>\n",
       "      <th>dataset_id</th>\n",
       "      <th>is_primary_data</th>\n",
       "    </tr>\n",
       "    <tr>\n",
       "      <th>soma_joinid</th>\n",
       "      <th></th>\n",
       "      <th></th>\n",
       "      <th></th>\n",
       "    </tr>\n",
       "  </thead>\n",
       "  <tbody>\n",
       "    <tr>\n",
       "      <th>2545877</th>\n",
       "      <td>0000946df15c23841112a0d2b3117f17</td>\n",
       "      <td>07f14e26-ff0d-43c4-bfe3-bf1a94dc73c3</td>\n",
       "      <td>False</td>\n",
       "    </tr>\n",
       "    <tr>\n",
       "      <th>2903707</th>\n",
       "      <td>0000b7a8b53b193148ffd8adee14102e</td>\n",
       "      <td>20634fa3-f3cf-44b5-8bc3-b825610bfe8c</td>\n",
       "      <td>False</td>\n",
       "    </tr>\n",
       "    <tr>\n",
       "      <th>2948140</th>\n",
       "      <td>0000b7a8b53b193148ffd8adee14102e</td>\n",
       "      <td>2aef80da-acb4-4e15-8f7d-6c0322b86b2f</td>\n",
       "      <td>False</td>\n",
       "    </tr>\n",
       "    <tr>\n",
       "      <th>4469682</th>\n",
       "      <td>0000dab9938013d8b0cd9a49f122259d</td>\n",
       "      <td>5e765f97-1cf1-407e-a86c-e28701f4749d</td>\n",
       "      <td>False</td>\n",
       "    </tr>\n",
       "    <tr>\n",
       "      <th>2692708</th>\n",
       "      <td>0000efe5d0c76816a8a76a62c003f091</td>\n",
       "      <td>cb5efdb0-f91c-4cbd-9ad4-9d4fa41c572d</td>\n",
       "      <td>False</td>\n",
       "    </tr>\n",
       "    <tr>\n",
       "      <th>...</th>\n",
       "      <td>...</td>\n",
       "      <td>...</td>\n",
       "      <td>...</td>\n",
       "    </tr>\n",
       "    <tr>\n",
       "      <th>2913367</th>\n",
       "      <td>ffff83f54c68d0e2a25db8202cdf60d4</td>\n",
       "      <td>20634fa3-f3cf-44b5-8bc3-b825610bfe8c</td>\n",
       "      <td>False</td>\n",
       "    </tr>\n",
       "    <tr>\n",
       "      <th>2959130</th>\n",
       "      <td>ffff83f54c68d0e2a25db8202cdf60d4</td>\n",
       "      <td>2aef80da-acb4-4e15-8f7d-6c0322b86b2f</td>\n",
       "      <td>False</td>\n",
       "    </tr>\n",
       "    <tr>\n",
       "      <th>4457786</th>\n",
       "      <td>ffffcbcd974730a5ebeb685c70a14442</td>\n",
       "      <td>5e765f97-1cf1-407e-a86c-e28701f4749d</td>\n",
       "      <td>False</td>\n",
       "    </tr>\n",
       "    <tr>\n",
       "      <th>4408292</th>\n",
       "      <td>ffffe45333d642f56e6edd9a986d9a75</td>\n",
       "      <td>50d79de5-bd17-4d14-a295-199d71ff56be</td>\n",
       "      <td>False</td>\n",
       "    </tr>\n",
       "    <tr>\n",
       "      <th>4317601</th>\n",
       "      <td>ffffe88e8464572c32cfbeb8b304abb7</td>\n",
       "      <td>a9affc92-a291-4eb9-996f-147392132323</td>\n",
       "      <td>False</td>\n",
       "    </tr>\n",
       "  </tbody>\n",
       "</table>\n",
       "<p>564515 rows × 3 columns</p>\n",
       "</div>"
      ],
      "text/plain": [
       "                                         hash  \\\n",
       "soma_joinid                                     \n",
       "2545877      0000946df15c23841112a0d2b3117f17   \n",
       "2903707      0000b7a8b53b193148ffd8adee14102e   \n",
       "2948140      0000b7a8b53b193148ffd8adee14102e   \n",
       "4469682      0000dab9938013d8b0cd9a49f122259d   \n",
       "2692708      0000efe5d0c76816a8a76a62c003f091   \n",
       "...                                       ...   \n",
       "2913367      ffff83f54c68d0e2a25db8202cdf60d4   \n",
       "2959130      ffff83f54c68d0e2a25db8202cdf60d4   \n",
       "4457786      ffffcbcd974730a5ebeb685c70a14442   \n",
       "4408292      ffffe45333d642f56e6edd9a986d9a75   \n",
       "4317601      ffffe88e8464572c32cfbeb8b304abb7   \n",
       "\n",
       "                                       dataset_id  is_primary_data  \n",
       "soma_joinid                                                         \n",
       "2545877      07f14e26-ff0d-43c4-bfe3-bf1a94dc73c3            False  \n",
       "2903707      20634fa3-f3cf-44b5-8bc3-b825610bfe8c            False  \n",
       "2948140      2aef80da-acb4-4e15-8f7d-6c0322b86b2f            False  \n",
       "4469682      5e765f97-1cf1-407e-a86c-e28701f4749d            False  \n",
       "2692708      cb5efdb0-f91c-4cbd-9ad4-9d4fa41c572d            False  \n",
       "...                                           ...              ...  \n",
       "2913367      20634fa3-f3cf-44b5-8bc3-b825610bfe8c            False  \n",
       "2959130      2aef80da-acb4-4e15-8f7d-6c0322b86b2f            False  \n",
       "4457786      5e765f97-1cf1-407e-a86c-e28701f4749d            False  \n",
       "4408292      50d79de5-bd17-4d14-a295-199d71ff56be            False  \n",
       "4317601      a9affc92-a291-4eb9-996f-147392132323            False  \n",
       "\n",
       "[564515 rows x 3 columns]"
      ]
     },
     "execution_count": 4,
     "metadata": {},
     "output_type": "execute_result"
    }
   ],
   "source": [
    "\"\"\"\n",
    "Case 1 - hashes lacking a cell marked primary. A hash/vector exists, but has no corresponding obs DataFrame record with is_primary_data == True.\n",
    "\"\"\"\n",
    "obs_missing_primary = (\n",
    "    obs_df.reset_index()\n",
    "    .set_index(\"hash\")\n",
    "    .loc[hash_primary_pivot[hash_primary_pivot.loc[:, True] == 0].index]\n",
    "    .reset_index()\n",
    "    .set_index(\"soma_joinid\")\n",
    ")\n",
    "obs_missing_primary"
   ]
  },
  {
   "cell_type": "code",
   "execution_count": null,
   "metadata": {},
   "outputs": [
    {
     "data": {
      "text/plain": [
       "dataset_id                          \n",
       "a9affc92-a291-4eb9-996f-147392132323    159738\n",
       "cb5efdb0-f91c-4cbd-9ad4-9d4fa41c572d     93829\n",
       "5e765f97-1cf1-407e-a86c-e28701f4749d     71183\n",
       "2aef80da-acb4-4e15-8f7d-6c0322b86b2f     47435\n",
       "20634fa3-f3cf-44b5-8bc3-b825610bfe8c     42905\n",
       "50d79de5-bd17-4d14-a295-199d71ff56be     40166\n",
       "dbb4e1ed-d820-4e83-981f-88ef7eb55a35     35945\n",
       "c88e2a9c-72b8-4a88-a2f6-e428eada0c86     19093\n",
       "9bb9596d-f23f-4558-912f-d4dc7d52721b     15511\n",
       "42ff5b55-b848-4f4c-b7cb-b8aac107841c     12083\n",
       "07f14e26-ff0d-43c4-bfe3-bf1a94dc73c3      7011\n",
       "d622cee4-56e1-44ba-8b05-fd2f0f2032e6      6288\n",
       "1304e107-0f06-4d33-b634-d95ed986d02b      6171\n",
       "5695d556-974e-4d92-9e99-5f61b8695313      5488\n",
       "a810e511-c18b-4b2a-8fdf-98a6a0d433a7      1647\n",
       "be46dfdc-0f99-4731-8957-64ca37364985        22\n",
       "Name: count, dtype: int64"
      ]
     },
     "execution_count": 5,
     "metadata": {},
     "output_type": "execute_result"
    }
   ],
   "source": [
    "\"\"\"\n",
    "Datasets containing a hash (cell) that lacks any copies with is_primary_data==True\n",
    "I.e., all copies are marked \"not primary\"\n",
    "\"\"\"\n",
    "obs_missing_primary.value_counts(subset=[\"dataset_id\"])"
   ]
  },
  {
   "cell_type": "code",
   "execution_count": null,
   "metadata": {},
   "outputs": [
    {
     "data": {
      "text/html": [
       "<div>\n",
       "<style scoped>\n",
       "    .dataframe tbody tr th:only-of-type {\n",
       "        vertical-align: middle;\n",
       "    }\n",
       "\n",
       "    .dataframe tbody tr th {\n",
       "        vertical-align: top;\n",
       "    }\n",
       "\n",
       "    .dataframe thead th {\n",
       "        text-align: right;\n",
       "    }\n",
       "</style>\n",
       "<table border=\"1\" class=\"dataframe\">\n",
       "  <thead>\n",
       "    <tr style=\"text-align: right;\">\n",
       "      <th></th>\n",
       "      <th>is_primary_data</th>\n",
       "      <th>dataset_id</th>\n",
       "      <th>hash</th>\n",
       "    </tr>\n",
       "    <tr>\n",
       "      <th>soma_joinid</th>\n",
       "      <th></th>\n",
       "      <th></th>\n",
       "      <th></th>\n",
       "    </tr>\n",
       "  </thead>\n",
       "  <tbody>\n",
       "  </tbody>\n",
       "</table>\n",
       "</div>"
      ],
      "text/plain": [
       "Empty DataFrame\n",
       "Columns: [is_primary_data, dataset_id, hash]\n",
       "Index: []"
      ]
     },
     "execution_count": 6,
     "metadata": {},
     "output_type": "execute_result"
    }
   ],
   "source": [
    "\"\"\"\n",
    "Case 2 - hashes with more than one cell marked is_primary_data == True\n",
    "\"\"\"\n",
    "obs_duplicate_primary = (\n",
    "    obs_df.reset_index()\n",
    "    .set_index(\"hash\")\n",
    "    .loc[hash_primary_pivot[hash_primary_pivot.loc[:, True] > 1].index]\n",
    "    .reset_index()\n",
    "    .set_index(\"soma_joinid\")\n",
    ")\n",
    "obs_duplicate_primary = obs_duplicate_primary[\n",
    "    obs_duplicate_primary.is_primary_data == True\n",
    "]\n",
    "obs_duplicate_primary"
   ]
  },
  {
   "cell_type": "code",
   "execution_count": null,
   "metadata": {},
   "outputs": [
    {
     "data": {
      "text/plain": [
       "Series([], Name: count, dtype: int64)"
      ]
     },
     "execution_count": 7,
     "metadata": {},
     "output_type": "execute_result"
    }
   ],
   "source": [
    "\"\"\"\n",
    "Datasets with duplicate cells marked \"primary\"\n",
    "\"\"\"\n",
    "obs_duplicate_primary.value_counts(subset=[\"dataset_id\"])"
   ]
  }
 ],
 "metadata": {
  "kernelspec": {
   "display_name": "venv",
   "language": "python",
   "name": "python3"
  },
  "language_info": {
   "codemirror_mode": {
    "name": "ipython",
    "version": 3
   },
   "file_extension": ".py",
   "mimetype": "text/x-python",
   "name": "python",
   "nbconvert_exporter": "python",
   "pygments_lexer": "ipython3",
   "version": "3.10.6"
  },
  "orig_nbformat": 4
 },
 "nbformat": 4,
 "nbformat_minor": 2
}
