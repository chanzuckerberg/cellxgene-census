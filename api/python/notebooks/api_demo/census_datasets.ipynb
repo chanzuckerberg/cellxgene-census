{
 "cells": [
  {
   "attachments": {},
   "cell_type": "markdown",
   "metadata": {},
   "source": [
    "# Exploring the Census Datasets table\n",
    "\n",
    "This tutorial demonstrates basic use of the `census_datasets` dataframe that contains metadata of the Census source datasets. This metadata can be joined to the cell metadata dataframe (`obs`) via the column `dataset_id`, \n",
    "\n",
    "**Contents**\n",
    "\n",
    "1. Fetching the datasets table.\n",
    "2. Fetching the expression data from a single dataset.\n",
    "3. Downloading the original source H5AD file of a dataset.\n",
    "\n",
    "\n",
    "\n",
    "## Fetching the datasets table\n",
    "\n",
    "\n",
    "Each Census contains a top-level dataframe itemizing the datasets contained therein. You can read this into a `pandas.DataFrame`."
   ]
  },
  {
   "cell_type": "code",
   "execution_count": 1,
   "metadata": {
    "execution": {
     "iopub.execute_input": "2023-05-17T15:36:33.966788Z",
     "iopub.status.busy": "2023-05-17T15:36:33.966569Z",
     "iopub.status.idle": "2023-05-17T15:36:36.451397Z",
     "shell.execute_reply": "2023-05-17T15:36:36.450960Z"
    }
   },
   "outputs": [
    {
     "name": "stderr",
     "output_type": "stream",
     "text": [
      "The \"stable\" release is currently 2023-05-15. Specify 'census_version=\"2023-05-15\"' in future calls to open_soma() to ensure data consistency.\n"
     ]
    },
    {
     "data": {
      "text/html": [
       "<div>\n",
       "<style scoped>\n",
       "    .dataframe tbody tr th:only-of-type {\n",
       "        vertical-align: middle;\n",
       "    }\n",
       "\n",
       "    .dataframe tbody tr th {\n",
       "        vertical-align: top;\n",
       "    }\n",
       "\n",
       "    .dataframe thead th {\n",
       "        text-align: right;\n",
       "    }\n",
       "</style>\n",
       "<table border=\"1\" class=\"dataframe\">\n",
       "  <thead>\n",
       "    <tr style=\"text-align: right;\">\n",
       "      <th></th>\n",
       "      <th>collection_id</th>\n",
       "      <th>collection_name</th>\n",
       "      <th>collection_doi</th>\n",
       "      <th>dataset_id</th>\n",
       "      <th>dataset_title</th>\n",
       "      <th>dataset_h5ad_path</th>\n",
       "      <th>dataset_total_cell_count</th>\n",
       "    </tr>\n",
       "    <tr>\n",
       "      <th>soma_joinid</th>\n",
       "      <th></th>\n",
       "      <th></th>\n",
       "      <th></th>\n",
       "      <th></th>\n",
       "      <th></th>\n",
       "      <th></th>\n",
       "      <th></th>\n",
       "    </tr>\n",
       "  </thead>\n",
       "  <tbody>\n",
       "    <tr>\n",
       "      <th>0</th>\n",
       "      <td>6b701826-37bb-4356-9792-ff41fc4c3161</td>\n",
       "      <td>Abdominal White Adipose Tissue</td>\n",
       "      <td></td>\n",
       "      <td>9d8e5dca-03a3-457d-b7fb-844c75735c83</td>\n",
       "      <td>22 integrated samples</td>\n",
       "      <td>9d8e5dca-03a3-457d-b7fb-844c75735c83.h5ad</td>\n",
       "      <td>72335</td>\n",
       "    </tr>\n",
       "    <tr>\n",
       "      <th>1</th>\n",
       "      <td>4195ab4c-20bd-4cd3-8b3d-65601277e731</td>\n",
       "      <td>A spatially resolved single cell genomic atlas...</td>\n",
       "      <td></td>\n",
       "      <td>a6388a6f-6076-401b-9b30-7d4306a20035</td>\n",
       "      <td>scRNA-seq data - myeloid cells</td>\n",
       "      <td>a6388a6f-6076-401b-9b30-7d4306a20035.h5ad</td>\n",
       "      <td>30789</td>\n",
       "    </tr>\n",
       "    <tr>\n",
       "      <th>2</th>\n",
       "      <td>4195ab4c-20bd-4cd3-8b3d-65601277e731</td>\n",
       "      <td>A spatially resolved single cell genomic atlas...</td>\n",
       "      <td></td>\n",
       "      <td>842c6f5d-4a94-4eef-8510-8c792d1124bc</td>\n",
       "      <td>scRNA-seq data - all cells</td>\n",
       "      <td>842c6f5d-4a94-4eef-8510-8c792d1124bc.h5ad</td>\n",
       "      <td>714331</td>\n",
       "    </tr>\n",
       "    <tr>\n",
       "      <th>3</th>\n",
       "      <td>4195ab4c-20bd-4cd3-8b3d-65601277e731</td>\n",
       "      <td>A spatially resolved single cell genomic atlas...</td>\n",
       "      <td></td>\n",
       "      <td>74520626-b0ba-4ee9-86b5-714649554def</td>\n",
       "      <td>scRNA-seq data - T cells</td>\n",
       "      <td>74520626-b0ba-4ee9-86b5-714649554def.h5ad</td>\n",
       "      <td>76567</td>\n",
       "    </tr>\n",
       "    <tr>\n",
       "      <th>4</th>\n",
       "      <td>4195ab4c-20bd-4cd3-8b3d-65601277e731</td>\n",
       "      <td>A spatially resolved single cell genomic atlas...</td>\n",
       "      <td></td>\n",
       "      <td>396a9124-fb20-4822-bf9c-e93fdf7c999a</td>\n",
       "      <td>scRNA-seq data - B cells</td>\n",
       "      <td>396a9124-fb20-4822-bf9c-e93fdf7c999a.h5ad</td>\n",
       "      <td>12510</td>\n",
       "    </tr>\n",
       "    <tr>\n",
       "      <th>...</th>\n",
       "      <td>...</td>\n",
       "      <td>...</td>\n",
       "      <td>...</td>\n",
       "      <td>...</td>\n",
       "      <td>...</td>\n",
       "      <td>...</td>\n",
       "      <td>...</td>\n",
       "    </tr>\n",
       "    <tr>\n",
       "      <th>557</th>\n",
       "      <td>180bff9c-c8a5-4539-b13b-ddbc00d643e6</td>\n",
       "      <td>Molecular characterization of selectively vuln...</td>\n",
       "      <td>10.1038/s41593-020-00764-7</td>\n",
       "      <td>f9ad5649-f372-43e1-a3a8-423383e5a8a2</td>\n",
       "      <td>Molecular characterization of selectively vuln...</td>\n",
       "      <td>f9ad5649-f372-43e1-a3a8-423383e5a8a2.h5ad</td>\n",
       "      <td>8168</td>\n",
       "    </tr>\n",
       "    <tr>\n",
       "      <th>558</th>\n",
       "      <td>a72afd53-ab92-4511-88da-252fb0e26b9a</td>\n",
       "      <td>Single-cell atlas of peripheral immune respons...</td>\n",
       "      <td>10.1038/s41591-020-0944-y</td>\n",
       "      <td>456e8b9b-f872-488b-871d-94534090a865</td>\n",
       "      <td>Single-cell atlas of peripheral immune respons...</td>\n",
       "      <td>456e8b9b-f872-488b-871d-94534090a865.h5ad</td>\n",
       "      <td>44721</td>\n",
       "    </tr>\n",
       "    <tr>\n",
       "      <th>559</th>\n",
       "      <td>38833785-fac5-48fd-944a-0f62a4c23ed1</td>\n",
       "      <td>Construction of a human cell landscape at sing...</td>\n",
       "      <td>10.1038/s41586-020-2157-4</td>\n",
       "      <td>2adb1f8a-a6b1-4909-8ee8-484814e2d4bf</td>\n",
       "      <td>Construction of a human cell landscape at sing...</td>\n",
       "      <td>2adb1f8a-a6b1-4909-8ee8-484814e2d4bf.h5ad</td>\n",
       "      <td>598266</td>\n",
       "    </tr>\n",
       "    <tr>\n",
       "      <th>560</th>\n",
       "      <td>5d445965-6f1a-4b68-ba3a-b8f765155d3a</td>\n",
       "      <td>A molecular cell atlas of the human lung from ...</td>\n",
       "      <td>10.1038/s41586-020-2922-4</td>\n",
       "      <td>e04daea4-4412-45b5-989e-76a9be070a89</td>\n",
       "      <td>Krasnow Lab Human Lung Cell Atlas, Smart-seq2</td>\n",
       "      <td>e04daea4-4412-45b5-989e-76a9be070a89.h5ad</td>\n",
       "      <td>9409</td>\n",
       "    </tr>\n",
       "    <tr>\n",
       "      <th>561</th>\n",
       "      <td>5d445965-6f1a-4b68-ba3a-b8f765155d3a</td>\n",
       "      <td>A molecular cell atlas of the human lung from ...</td>\n",
       "      <td>10.1038/s41586-020-2922-4</td>\n",
       "      <td>8c42cfd0-0b0a-46d5-910c-fc833d83c45e</td>\n",
       "      <td>Krasnow Lab Human Lung Cell Atlas, 10X</td>\n",
       "      <td>8c42cfd0-0b0a-46d5-910c-fc833d83c45e.h5ad</td>\n",
       "      <td>65662</td>\n",
       "    </tr>\n",
       "  </tbody>\n",
       "</table>\n",
       "<p>562 rows × 7 columns</p>\n",
       "</div>"
      ],
      "text/plain": [
       "                                    collection_id   \n",
       "soma_joinid                                         \n",
       "0            6b701826-37bb-4356-9792-ff41fc4c3161  \\\n",
       "1            4195ab4c-20bd-4cd3-8b3d-65601277e731   \n",
       "2            4195ab4c-20bd-4cd3-8b3d-65601277e731   \n",
       "3            4195ab4c-20bd-4cd3-8b3d-65601277e731   \n",
       "4            4195ab4c-20bd-4cd3-8b3d-65601277e731   \n",
       "...                                           ...   \n",
       "557          180bff9c-c8a5-4539-b13b-ddbc00d643e6   \n",
       "558          a72afd53-ab92-4511-88da-252fb0e26b9a   \n",
       "559          38833785-fac5-48fd-944a-0f62a4c23ed1   \n",
       "560          5d445965-6f1a-4b68-ba3a-b8f765155d3a   \n",
       "561          5d445965-6f1a-4b68-ba3a-b8f765155d3a   \n",
       "\n",
       "                                               collection_name   \n",
       "soma_joinid                                                      \n",
       "0                               Abdominal White Adipose Tissue  \\\n",
       "1            A spatially resolved single cell genomic atlas...   \n",
       "2            A spatially resolved single cell genomic atlas...   \n",
       "3            A spatially resolved single cell genomic atlas...   \n",
       "4            A spatially resolved single cell genomic atlas...   \n",
       "...                                                        ...   \n",
       "557          Molecular characterization of selectively vuln...   \n",
       "558          Single-cell atlas of peripheral immune respons...   \n",
       "559          Construction of a human cell landscape at sing...   \n",
       "560          A molecular cell atlas of the human lung from ...   \n",
       "561          A molecular cell atlas of the human lung from ...   \n",
       "\n",
       "                         collection_doi                            dataset_id   \n",
       "soma_joinid                                                                     \n",
       "0                                        9d8e5dca-03a3-457d-b7fb-844c75735c83  \\\n",
       "1                                        a6388a6f-6076-401b-9b30-7d4306a20035   \n",
       "2                                        842c6f5d-4a94-4eef-8510-8c792d1124bc   \n",
       "3                                        74520626-b0ba-4ee9-86b5-714649554def   \n",
       "4                                        396a9124-fb20-4822-bf9c-e93fdf7c999a   \n",
       "...                                 ...                                   ...   \n",
       "557          10.1038/s41593-020-00764-7  f9ad5649-f372-43e1-a3a8-423383e5a8a2   \n",
       "558           10.1038/s41591-020-0944-y  456e8b9b-f872-488b-871d-94534090a865   \n",
       "559           10.1038/s41586-020-2157-4  2adb1f8a-a6b1-4909-8ee8-484814e2d4bf   \n",
       "560           10.1038/s41586-020-2922-4  e04daea4-4412-45b5-989e-76a9be070a89   \n",
       "561           10.1038/s41586-020-2922-4  8c42cfd0-0b0a-46d5-910c-fc833d83c45e   \n",
       "\n",
       "                                                 dataset_title   \n",
       "soma_joinid                                                      \n",
       "0                                        22 integrated samples  \\\n",
       "1                               scRNA-seq data - myeloid cells   \n",
       "2                                   scRNA-seq data - all cells   \n",
       "3                                     scRNA-seq data - T cells   \n",
       "4                                     scRNA-seq data - B cells   \n",
       "...                                                        ...   \n",
       "557          Molecular characterization of selectively vuln...   \n",
       "558          Single-cell atlas of peripheral immune respons...   \n",
       "559          Construction of a human cell landscape at sing...   \n",
       "560              Krasnow Lab Human Lung Cell Atlas, Smart-seq2   \n",
       "561                     Krasnow Lab Human Lung Cell Atlas, 10X   \n",
       "\n",
       "                                     dataset_h5ad_path   \n",
       "soma_joinid                                              \n",
       "0            9d8e5dca-03a3-457d-b7fb-844c75735c83.h5ad  \\\n",
       "1            a6388a6f-6076-401b-9b30-7d4306a20035.h5ad   \n",
       "2            842c6f5d-4a94-4eef-8510-8c792d1124bc.h5ad   \n",
       "3            74520626-b0ba-4ee9-86b5-714649554def.h5ad   \n",
       "4            396a9124-fb20-4822-bf9c-e93fdf7c999a.h5ad   \n",
       "...                                                ...   \n",
       "557          f9ad5649-f372-43e1-a3a8-423383e5a8a2.h5ad   \n",
       "558          456e8b9b-f872-488b-871d-94534090a865.h5ad   \n",
       "559          2adb1f8a-a6b1-4909-8ee8-484814e2d4bf.h5ad   \n",
       "560          e04daea4-4412-45b5-989e-76a9be070a89.h5ad   \n",
       "561          8c42cfd0-0b0a-46d5-910c-fc833d83c45e.h5ad   \n",
       "\n",
       "             dataset_total_cell_count  \n",
       "soma_joinid                            \n",
       "0                               72335  \n",
       "1                               30789  \n",
       "2                              714331  \n",
       "3                               76567  \n",
       "4                               12510  \n",
       "...                               ...  \n",
       "557                              8168  \n",
       "558                             44721  \n",
       "559                            598266  \n",
       "560                              9409  \n",
       "561                             65662  \n",
       "\n",
       "[562 rows x 7 columns]"
      ]
     },
     "execution_count": 1,
     "metadata": {},
     "output_type": "execute_result"
    }
   ],
   "source": [
    "import cellxgene_census\n",
    "\n",
    "census = cellxgene_census.open_soma()\n",
    "census_datasets = census[\"census_info\"][\"datasets\"].read().concat().to_pandas()\n",
    "\n",
    "# for convenience, indexing on the soma_joinid which links this to other census data.\n",
    "census_datasets = census_datasets.set_index(\"soma_joinid\")\n",
    "\n",
    "census_datasets"
   ]
  },
  {
   "attachments": {},
   "cell_type": "markdown",
   "metadata": {},
   "source": [
    "The sum cells across all datasets should match the number of cells across all SOMA experiments (human, mouse)."
   ]
  },
  {
   "cell_type": "code",
   "execution_count": 2,
   "metadata": {
    "execution": {
     "iopub.execute_input": "2023-05-17T15:36:36.453668Z",
     "iopub.status.busy": "2023-05-17T15:36:36.453421Z",
     "iopub.status.idle": "2023-05-17T15:36:38.560065Z",
     "shell.execute_reply": "2023-05-17T15:36:38.559382Z"
    }
   },
   "outputs": [
    {
     "name": "stdout",
     "output_type": "stream",
     "text": [
      "Count by experiment:\n",
      "\t53794728 cells in homo_sapiens\n",
      "\t4086032 cells in mus_musculus\n",
      "\n",
      "Found 57880760 cells in all experiments.\n",
      "Found 57880760 cells in all datasets.\n"
     ]
    }
   ],
   "source": [
    "# Count cells across all experiments\n",
    "all_experiments = (\n",
    "    (organism_name, organism_experiment) for organism_name, organism_experiment in census[\"census_data\"].items()\n",
    ")\n",
    "experiments_total_cells = 0\n",
    "print(\"Count by experiment:\")\n",
    "for organism_name, organism_experiment in all_experiments:\n",
    "    num_cells = len(organism_experiment.obs.read(column_names=[\"soma_joinid\"]).concat().to_pandas())\n",
    "    print(f\"\\t{num_cells} cells in {organism_name}\")\n",
    "    experiments_total_cells += num_cells\n",
    "\n",
    "print(f\"\\nFound {experiments_total_cells} cells in all experiments.\")\n",
    "\n",
    "# Count cells across all datasets\n",
    "print(f\"Found {census_datasets.dataset_total_cell_count.sum()} cells in all datasets.\")"
   ]
  },
  {
   "attachments": {},
   "cell_type": "markdown",
   "metadata": {},
   "source": [
    "## Fetching the expression data from a single dataset\n",
    "\n",
    "Lets pick one dataset to slice out of the census, and turn into an [AnnData](https://anndata.readthedocs.io/en/latest/) in-memory object. This can be used with the [ScanPy](https://scanpy.readthedocs.io/en/stable/) toolchain. You can also save this AnnData locally using the AnnData [write](https://anndata.readthedocs.io/en/latest/api.html#writing) API."
   ]
  },
  {
   "cell_type": "code",
   "execution_count": 3,
   "metadata": {
    "execution": {
     "iopub.execute_input": "2023-05-17T15:36:38.562487Z",
     "iopub.status.busy": "2023-05-17T15:36:38.562343Z",
     "iopub.status.idle": "2023-05-17T15:36:38.569346Z",
     "shell.execute_reply": "2023-05-17T15:36:38.568780Z"
    }
   },
   "outputs": [
    {
     "data": {
      "text/html": [
       "<div>\n",
       "<style scoped>\n",
       "    .dataframe tbody tr th:only-of-type {\n",
       "        vertical-align: middle;\n",
       "    }\n",
       "\n",
       "    .dataframe tbody tr th {\n",
       "        vertical-align: top;\n",
       "    }\n",
       "\n",
       "    .dataframe thead th {\n",
       "        text-align: right;\n",
       "    }\n",
       "</style>\n",
       "<table border=\"1\" class=\"dataframe\">\n",
       "  <thead>\n",
       "    <tr style=\"text-align: right;\">\n",
       "      <th></th>\n",
       "      <th>collection_id</th>\n",
       "      <th>collection_name</th>\n",
       "      <th>collection_doi</th>\n",
       "      <th>dataset_id</th>\n",
       "      <th>dataset_title</th>\n",
       "      <th>dataset_h5ad_path</th>\n",
       "      <th>dataset_total_cell_count</th>\n",
       "    </tr>\n",
       "    <tr>\n",
       "      <th>soma_joinid</th>\n",
       "      <th></th>\n",
       "      <th></th>\n",
       "      <th></th>\n",
       "      <th></th>\n",
       "      <th></th>\n",
       "      <th></th>\n",
       "      <th></th>\n",
       "    </tr>\n",
       "  </thead>\n",
       "  <tbody>\n",
       "    <tr>\n",
       "      <th>491</th>\n",
       "      <td>0b9d8a04-bb9d-44da-aa27-705bb65b54eb</td>\n",
       "      <td>Tabula Muris Senis</td>\n",
       "      <td>10.1038/s41586-020-2496-1</td>\n",
       "      <td>0bd1a1de-3aee-40e0-b2ec-86c7a30c7149</td>\n",
       "      <td>Bone marrow - A single-cell transcriptomic atl...</td>\n",
       "      <td>0bd1a1de-3aee-40e0-b2ec-86c7a30c7149.h5ad</td>\n",
       "      <td>40220</td>\n",
       "    </tr>\n",
       "  </tbody>\n",
       "</table>\n",
       "</div>"
      ],
      "text/plain": [
       "                                    collection_id     collection_name   \n",
       "soma_joinid                                                             \n",
       "491          0b9d8a04-bb9d-44da-aa27-705bb65b54eb  Tabula Muris Senis  \\\n",
       "\n",
       "                        collection_doi                            dataset_id   \n",
       "soma_joinid                                                                    \n",
       "491          10.1038/s41586-020-2496-1  0bd1a1de-3aee-40e0-b2ec-86c7a30c7149  \\\n",
       "\n",
       "                                                 dataset_title   \n",
       "soma_joinid                                                      \n",
       "491          Bone marrow - A single-cell transcriptomic atl...  \\\n",
       "\n",
       "                                     dataset_h5ad_path   \n",
       "soma_joinid                                              \n",
       "491          0bd1a1de-3aee-40e0-b2ec-86c7a30c7149.h5ad  \\\n",
       "\n",
       "             dataset_total_cell_count  \n",
       "soma_joinid                            \n",
       "491                             40220  "
      ]
     },
     "execution_count": 3,
     "metadata": {},
     "output_type": "execute_result"
    }
   ],
   "source": [
    "census_datasets[census_datasets.dataset_id == \"0bd1a1de-3aee-40e0-b2ec-86c7a30c7149\"]"
   ]
  },
  {
   "attachments": {},
   "cell_type": "markdown",
   "metadata": {},
   "source": [
    "Create a query on the mouse experiment, \"RNA\" measurement, for the dataset_id."
   ]
  },
  {
   "cell_type": "code",
   "execution_count": 4,
   "metadata": {
    "execution": {
     "iopub.execute_input": "2023-05-17T15:36:38.571791Z",
     "iopub.status.busy": "2023-05-17T15:36:38.571462Z",
     "iopub.status.idle": "2023-05-17T15:36:44.940065Z",
     "shell.execute_reply": "2023-05-17T15:36:44.939171Z"
    }
   },
   "outputs": [
    {
     "data": {
      "text/plain": [
       "AnnData object with n_obs × n_vars = 40220 × 52392\n",
       "    obs: 'soma_joinid', 'dataset_id', 'assay', 'assay_ontology_term_id', 'cell_type', 'cell_type_ontology_term_id', 'development_stage', 'development_stage_ontology_term_id', 'disease', 'disease_ontology_term_id', 'donor_id', 'is_primary_data', 'self_reported_ethnicity', 'self_reported_ethnicity_ontology_term_id', 'sex', 'sex_ontology_term_id', 'suspension_type', 'tissue', 'tissue_ontology_term_id', 'tissue_general', 'tissue_general_ontology_term_id'\n",
       "    var: 'soma_joinid', 'feature_id', 'feature_name', 'feature_length'"
      ]
     },
     "execution_count": 4,
     "metadata": {},
     "output_type": "execute_result"
    }
   ],
   "source": [
    "adata = cellxgene_census.get_anndata(\n",
    "    census, organism=\"Mus musculus\", obs_value_filter=\"dataset_id == '0bd1a1de-3aee-40e0-b2ec-86c7a30c7149'\"\n",
    ")\n",
    "\n",
    "adata"
   ]
  },
  {
   "attachments": {},
   "cell_type": "markdown",
   "metadata": {},
   "source": [
    "## Downloading the original source H5AD file of a dataset.\n",
    "\n",
    "You can download the original H5AD file for any given dataset. This is the same H5AD you can download from the [CZ CELLxGENE Discover](https://cellxgene.cziscience.com/), and may contain additional data-submitter provided information which was not included in the Census.\n",
    "\n",
    "To do this you can fetch the location in the cloud or directly download to your system using the `cellxgene-census`"
   ]
  },
  {
   "cell_type": "code",
   "execution_count": 5,
   "metadata": {
    "execution": {
     "iopub.execute_input": "2023-05-17T15:36:44.942496Z",
     "iopub.status.busy": "2023-05-17T15:36:44.942353Z",
     "iopub.status.idle": "2023-05-17T15:37:03.706334Z",
     "shell.execute_reply": "2023-05-17T15:37:03.704618Z"
    }
   },
   "outputs": [],
   "source": [
    "# Option 1: Direct download\n",
    "cellxgene_census.download_source_h5ad(\n",
    "    \"0bd1a1de-3aee-40e0-b2ec-86c7a30c7149\", to_path=\"Tabula_Muris_Senis-bone_marrow.h5ad\"\n",
    ")"
   ]
  },
  {
   "cell_type": "code",
   "execution_count": 6,
   "metadata": {
    "execution": {
     "iopub.execute_input": "2023-05-17T15:37:03.709289Z",
     "iopub.status.busy": "2023-05-17T15:37:03.709128Z",
     "iopub.status.idle": "2023-05-17T15:37:04.665706Z",
     "shell.execute_reply": "2023-05-17T15:37:04.665274Z"
    }
   },
   "outputs": [
    {
     "data": {
      "text/plain": [
       "{'uri': 's3://cellxgene-data-public/cell-census/2023-05-15/h5ads/0bd1a1de-3aee-40e0-b2ec-86c7a30c7149.h5ad',\n",
       " 's3_region': 'us-west-2'}"
      ]
     },
     "execution_count": 6,
     "metadata": {},
     "output_type": "execute_result"
    }
   ],
   "source": [
    "# Option 2: Get location and download via preferred method\n",
    "uri = cellxgene_census.get_source_h5ad_uri(\"0bd1a1de-3aee-40e0-b2ec-86c7a30c7149\")\n",
    "uri\n",
    "\n",
    "# you can now download the H5AD in shell via AWS CLI e.g. `aws s3 cp uri ./`"
   ]
  },
  {
   "attachments": {},
   "cell_type": "markdown",
   "metadata": {},
   "source": [
    "Close the census"
   ]
  },
  {
   "cell_type": "code",
   "execution_count": 7,
   "metadata": {
    "execution": {
     "iopub.execute_input": "2023-05-17T15:37:04.668157Z",
     "iopub.status.busy": "2023-05-17T15:37:04.667967Z",
     "iopub.status.idle": "2023-05-17T15:37:04.670781Z",
     "shell.execute_reply": "2023-05-17T15:37:04.670425Z"
    }
   },
   "outputs": [],
   "source": [
    "census.close()"
   ]
  }
 ],
 "metadata": {
  "kernelspec": {
   "display_name": "Python 3 (ipykernel)",
   "language": "python",
   "name": "python3"
  },
  "language_info": {
   "codemirror_mode": {
    "name": "ipython",
    "version": 3
   },
   "file_extension": ".py",
   "mimetype": "text/x-python",
   "name": "python",
   "nbconvert_exporter": "python",
   "pygments_lexer": "ipython3",
   "version": "3.10.11"
  },
  "vscode": {
   "interpreter": {
    "hash": "3da8ec1c162cd849e59e6ea2824b2e353dce799884e910aae99411be5277f953"
   }
  }
 },
 "nbformat": 4,
 "nbformat_minor": 2
}
