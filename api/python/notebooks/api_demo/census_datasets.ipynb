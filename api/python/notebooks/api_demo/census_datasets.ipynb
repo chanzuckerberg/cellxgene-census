{
 "cells": [
  {
   "cell_type": "markdown",
   "metadata": {},
   "source": [
    "# Census Datasets example\n",
    "\n",
    "*Goal:* demonstrate basic use of the `census_datasets` dataframe.\n",
    "\n",
    "Each Cell Census contains a top-level dataframe itemizing the datasets contained therein. You can read this into a Pandas DataFrame:"
   ]
  },
  {
   "cell_type": "code",
   "execution_count": 1,
   "metadata": {
    "execution": {
     "iopub.execute_input": "2023-01-20T19:38:50.150700Z",
     "iopub.status.busy": "2023-01-20T19:38:50.150079Z",
     "iopub.status.idle": "2023-01-20T19:38:51.605736Z",
     "shell.execute_reply": "2023-01-20T19:38:51.604850Z"
    }
   },
   "outputs": [
    {
     "data": {
      "text/html": [
       "<div>\n",
       "<style scoped>\n",
       "    .dataframe tbody tr th:only-of-type {\n",
       "        vertical-align: middle;\n",
       "    }\n",
       "\n",
       "    .dataframe tbody tr th {\n",
       "        vertical-align: top;\n",
       "    }\n",
       "\n",
       "    .dataframe thead th {\n",
       "        text-align: right;\n",
       "    }\n",
       "</style>\n",
       "<table border=\"1\" class=\"dataframe\">\n",
       "  <thead>\n",
       "    <tr style=\"text-align: right;\">\n",
       "      <th></th>\n",
       "      <th>collection_id</th>\n",
       "      <th>collection_name</th>\n",
       "      <th>collection_doi</th>\n",
       "      <th>dataset_id</th>\n",
       "      <th>dataset_title</th>\n",
       "      <th>dataset_h5ad_path</th>\n",
       "      <th>dataset_total_cell_count</th>\n",
       "    </tr>\n",
       "    <tr>\n",
       "      <th>soma_joinid</th>\n",
       "      <th></th>\n",
       "      <th></th>\n",
       "      <th></th>\n",
       "      <th></th>\n",
       "      <th></th>\n",
       "      <th></th>\n",
       "      <th></th>\n",
       "    </tr>\n",
       "  </thead>\n",
       "  <tbody>\n",
       "    <tr>\n",
       "      <th>0</th>\n",
       "      <td>03f821b4-87be-4ff4-b65a-b5fc00061da7</td>\n",
       "      <td>Local and systemic responses to SARS-CoV-2 inf...</td>\n",
       "      <td>10.1038/s41586-021-04345-x</td>\n",
       "      <td>edc8d3fe-153c-4e3d-8be0-2108d30f8d70</td>\n",
       "      <td>Airway</td>\n",
       "      <td>edc8d3fe-153c-4e3d-8be0-2108d30f8d70.h5ad</td>\n",
       "      <td>236977</td>\n",
       "    </tr>\n",
       "    <tr>\n",
       "      <th>1</th>\n",
       "      <td>03f821b4-87be-4ff4-b65a-b5fc00061da7</td>\n",
       "      <td>Local and systemic responses to SARS-CoV-2 inf...</td>\n",
       "      <td>10.1038/s41586-021-04345-x</td>\n",
       "      <td>2a498ace-872a-4935-984b-1afa70fd9886</td>\n",
       "      <td>PBMC</td>\n",
       "      <td>2a498ace-872a-4935-984b-1afa70fd9886.h5ad</td>\n",
       "      <td>422220</td>\n",
       "    </tr>\n",
       "    <tr>\n",
       "      <th>2</th>\n",
       "      <td>43d4bb39-21af-4d05-b973-4c1fed7b916c</td>\n",
       "      <td>Transcriptional Programming of Normal and Infl...</td>\n",
       "      <td>10.1016/j.celrep.2018.09.006</td>\n",
       "      <td>f512b8b6-369d-4a85-a695-116e0806857f</td>\n",
       "      <td>Skin</td>\n",
       "      <td>f512b8b6-369d-4a85-a695-116e0806857f.h5ad</td>\n",
       "      <td>68036</td>\n",
       "    </tr>\n",
       "    <tr>\n",
       "      <th>3</th>\n",
       "      <td>0434a9d4-85fd-4554-b8e3-cf6c582bb2fa</td>\n",
       "      <td>Acute COVID-19 cohort across a range of WHO ca...</td>\n",
       "      <td>10.1101/2020.11.20.20227355</td>\n",
       "      <td>fa8605cf-f27e-44af-ac2a-476bee4410d3</td>\n",
       "      <td>PBMCs</td>\n",
       "      <td>fa8605cf-f27e-44af-ac2a-476bee4410d3.h5ad</td>\n",
       "      <td>59506</td>\n",
       "    </tr>\n",
       "    <tr>\n",
       "      <th>4</th>\n",
       "      <td>a9254216-6cd8-4186-b32c-349363777584</td>\n",
       "      <td>Single-cell reconstruction of the early matern...</td>\n",
       "      <td>10.1038/s41586-018-0698-6</td>\n",
       "      <td>5bc42b88-bb76-4954-927b-8bb7369adc64</td>\n",
       "      <td>Pregnant Uterus (All)</td>\n",
       "      <td>5bc42b88-bb76-4954-927b-8bb7369adc64.h5ad</td>\n",
       "      <td>70325</td>\n",
       "    </tr>\n",
       "    <tr>\n",
       "      <th>...</th>\n",
       "      <td>...</td>\n",
       "      <td>...</td>\n",
       "      <td>...</td>\n",
       "      <td>...</td>\n",
       "      <td>...</td>\n",
       "      <td>...</td>\n",
       "      <td>...</td>\n",
       "    </tr>\n",
       "    <tr>\n",
       "      <th>466</th>\n",
       "      <td>5d445965-6f1a-4b68-ba3a-b8f765155d3a</td>\n",
       "      <td>A molecular cell atlas of the human lung from ...</td>\n",
       "      <td>10.1038/s41586-020-2922-4</td>\n",
       "      <td>e04daea4-4412-45b5-989e-76a9be070a89</td>\n",
       "      <td>Krasnow Lab Human Lung Cell Atlas, Smart-seq2</td>\n",
       "      <td>e04daea4-4412-45b5-989e-76a9be070a89.h5ad</td>\n",
       "      <td>9409</td>\n",
       "    </tr>\n",
       "    <tr>\n",
       "      <th>467</th>\n",
       "      <td>5d445965-6f1a-4b68-ba3a-b8f765155d3a</td>\n",
       "      <td>A molecular cell atlas of the human lung from ...</td>\n",
       "      <td>10.1038/s41586-020-2922-4</td>\n",
       "      <td>8c42cfd0-0b0a-46d5-910c-fc833d83c45e</td>\n",
       "      <td>Krasnow Lab Human Lung Cell Atlas, 10X</td>\n",
       "      <td>8c42cfd0-0b0a-46d5-910c-fc833d83c45e.h5ad</td>\n",
       "      <td>65662</td>\n",
       "    </tr>\n",
       "    <tr>\n",
       "      <th>468</th>\n",
       "      <td>33d19f34-87f5-455b-8ca5-9023a2e5453d</td>\n",
       "      <td>Intra- and Inter-cellular Rewiring of the Huma...</td>\n",
       "      <td>10.1016/j.cell.2019.06.029</td>\n",
       "      <td>4dd00779-7f73-4f50-89bb-e2d3c6b71b18</td>\n",
       "      <td>Intra- and Inter-cellular Rewiring of the Huma...</td>\n",
       "      <td>4dd00779-7f73-4f50-89bb-e2d3c6b71b18.h5ad</td>\n",
       "      <td>34772</td>\n",
       "    </tr>\n",
       "    <tr>\n",
       "      <th>469</th>\n",
       "      <td>17481d16-ee44-49e5-bcf0-28c0780d8c4a</td>\n",
       "      <td>Single-Cell Sequencing of Developing Human Gut...</td>\n",
       "      <td>10.1016/j.devcel.2020.11.010</td>\n",
       "      <td>8e47ed12-c658-4252-b126-381df8d52a3d</td>\n",
       "      <td>Paediatric Human Gut (4-14y)</td>\n",
       "      <td>8e47ed12-c658-4252-b126-381df8d52a3d.h5ad</td>\n",
       "      <td>22502</td>\n",
       "    </tr>\n",
       "    <tr>\n",
       "      <th>470</th>\n",
       "      <td>17481d16-ee44-49e5-bcf0-28c0780d8c4a</td>\n",
       "      <td>Single-Cell Sequencing of Developing Human Gut...</td>\n",
       "      <td>10.1016/j.devcel.2020.11.010</td>\n",
       "      <td>b46237d1-19c6-4af2-9335-9854634bad16</td>\n",
       "      <td>Fetal Human Gut (6-11 PCW)</td>\n",
       "      <td>b46237d1-19c6-4af2-9335-9854634bad16.h5ad</td>\n",
       "      <td>62849</td>\n",
       "    </tr>\n",
       "  </tbody>\n",
       "</table>\n",
       "<p>471 rows × 7 columns</p>\n",
       "</div>"
      ],
      "text/plain": [
       "                                    collection_id  \\\n",
       "soma_joinid                                         \n",
       "0            03f821b4-87be-4ff4-b65a-b5fc00061da7   \n",
       "1            03f821b4-87be-4ff4-b65a-b5fc00061da7   \n",
       "2            43d4bb39-21af-4d05-b973-4c1fed7b916c   \n",
       "3            0434a9d4-85fd-4554-b8e3-cf6c582bb2fa   \n",
       "4            a9254216-6cd8-4186-b32c-349363777584   \n",
       "...                                           ...   \n",
       "466          5d445965-6f1a-4b68-ba3a-b8f765155d3a   \n",
       "467          5d445965-6f1a-4b68-ba3a-b8f765155d3a   \n",
       "468          33d19f34-87f5-455b-8ca5-9023a2e5453d   \n",
       "469          17481d16-ee44-49e5-bcf0-28c0780d8c4a   \n",
       "470          17481d16-ee44-49e5-bcf0-28c0780d8c4a   \n",
       "\n",
       "                                               collection_name  \\\n",
       "soma_joinid                                                      \n",
       "0            Local and systemic responses to SARS-CoV-2 inf...   \n",
       "1            Local and systemic responses to SARS-CoV-2 inf...   \n",
       "2            Transcriptional Programming of Normal and Infl...   \n",
       "3            Acute COVID-19 cohort across a range of WHO ca...   \n",
       "4            Single-cell reconstruction of the early matern...   \n",
       "...                                                        ...   \n",
       "466          A molecular cell atlas of the human lung from ...   \n",
       "467          A molecular cell atlas of the human lung from ...   \n",
       "468          Intra- and Inter-cellular Rewiring of the Huma...   \n",
       "469          Single-Cell Sequencing of Developing Human Gut...   \n",
       "470          Single-Cell Sequencing of Developing Human Gut...   \n",
       "\n",
       "                           collection_doi  \\\n",
       "soma_joinid                                 \n",
       "0              10.1038/s41586-021-04345-x   \n",
       "1              10.1038/s41586-021-04345-x   \n",
       "2            10.1016/j.celrep.2018.09.006   \n",
       "3             10.1101/2020.11.20.20227355   \n",
       "4               10.1038/s41586-018-0698-6   \n",
       "...                                   ...   \n",
       "466             10.1038/s41586-020-2922-4   \n",
       "467             10.1038/s41586-020-2922-4   \n",
       "468            10.1016/j.cell.2019.06.029   \n",
       "469          10.1016/j.devcel.2020.11.010   \n",
       "470          10.1016/j.devcel.2020.11.010   \n",
       "\n",
       "                                       dataset_id  \\\n",
       "soma_joinid                                         \n",
       "0            edc8d3fe-153c-4e3d-8be0-2108d30f8d70   \n",
       "1            2a498ace-872a-4935-984b-1afa70fd9886   \n",
       "2            f512b8b6-369d-4a85-a695-116e0806857f   \n",
       "3            fa8605cf-f27e-44af-ac2a-476bee4410d3   \n",
       "4            5bc42b88-bb76-4954-927b-8bb7369adc64   \n",
       "...                                           ...   \n",
       "466          e04daea4-4412-45b5-989e-76a9be070a89   \n",
       "467          8c42cfd0-0b0a-46d5-910c-fc833d83c45e   \n",
       "468          4dd00779-7f73-4f50-89bb-e2d3c6b71b18   \n",
       "469          8e47ed12-c658-4252-b126-381df8d52a3d   \n",
       "470          b46237d1-19c6-4af2-9335-9854634bad16   \n",
       "\n",
       "                                                 dataset_title  \\\n",
       "soma_joinid                                                      \n",
       "0                                                       Airway   \n",
       "1                                                         PBMC   \n",
       "2                                                         Skin   \n",
       "3                                                        PBMCs   \n",
       "4                                        Pregnant Uterus (All)   \n",
       "...                                                        ...   \n",
       "466              Krasnow Lab Human Lung Cell Atlas, Smart-seq2   \n",
       "467                     Krasnow Lab Human Lung Cell Atlas, 10X   \n",
       "468          Intra- and Inter-cellular Rewiring of the Huma...   \n",
       "469                               Paediatric Human Gut (4-14y)   \n",
       "470                                 Fetal Human Gut (6-11 PCW)   \n",
       "\n",
       "                                     dataset_h5ad_path  \\\n",
       "soma_joinid                                              \n",
       "0            edc8d3fe-153c-4e3d-8be0-2108d30f8d70.h5ad   \n",
       "1            2a498ace-872a-4935-984b-1afa70fd9886.h5ad   \n",
       "2            f512b8b6-369d-4a85-a695-116e0806857f.h5ad   \n",
       "3            fa8605cf-f27e-44af-ac2a-476bee4410d3.h5ad   \n",
       "4            5bc42b88-bb76-4954-927b-8bb7369adc64.h5ad   \n",
       "...                                                ...   \n",
       "466          e04daea4-4412-45b5-989e-76a9be070a89.h5ad   \n",
       "467          8c42cfd0-0b0a-46d5-910c-fc833d83c45e.h5ad   \n",
       "468          4dd00779-7f73-4f50-89bb-e2d3c6b71b18.h5ad   \n",
       "469          8e47ed12-c658-4252-b126-381df8d52a3d.h5ad   \n",
       "470          b46237d1-19c6-4af2-9335-9854634bad16.h5ad   \n",
       "\n",
       "             dataset_total_cell_count  \n",
       "soma_joinid                            \n",
       "0                              236977  \n",
       "1                              422220  \n",
       "2                               68036  \n",
       "3                               59506  \n",
       "4                               70325  \n",
       "...                               ...  \n",
       "466                              9409  \n",
       "467                             65662  \n",
       "468                             34772  \n",
       "469                             22502  \n",
       "470                             62849  \n",
       "\n",
       "[471 rows x 7 columns]"
      ]
     },
     "execution_count": 1,
     "metadata": {},
     "output_type": "execute_result"
    }
   ],
   "source": [
    "import cell_census\n",
    "import tiledbsoma as soma\n",
    "\n",
    "census = cell_census.open_soma()\n",
    "census_datasets = census[\"census_info\"][\"datasets\"].read().concat().to_pandas()\n",
    "\n",
    "# for convenience, indexing on the soma_joinid which links this to other census data.\n",
    "census_datasets = census_datasets.set_index(\"soma_joinid\")\n",
    "census_datasets"
   ]
  },
  {
   "cell_type": "markdown",
   "metadata": {},
   "source": [
    "The sum cells across all datasets should match the number of cells across all SOMA experiments (human, mouse)."
   ]
  },
  {
   "cell_type": "code",
   "execution_count": 2,
   "metadata": {
    "execution": {
     "iopub.execute_input": "2023-01-20T19:38:51.642389Z",
     "iopub.status.busy": "2023-01-20T19:38:51.641831Z",
     "iopub.status.idle": "2023-01-20T19:38:54.134820Z",
     "shell.execute_reply": "2023-01-20T19:38:54.134074Z"
    }
   },
   "outputs": [
    {
     "name": "stdout",
     "output_type": "stream",
     "text": [
      "Count by experiment:\n",
      "\t43207796 cells in homo_sapiens\n",
      "\t3922090 cells in mus_musculus\n",
      "\n",
      "Found 47129886 cells in all experiments.\n",
      "Found 47129886 cells in all datasets.\n"
     ]
    }
   ],
   "source": [
    "# Count cells across all experiments\n",
    "all_experiments = (\n",
    "    (organism_name, organism_experiment) for organism_name, organism_experiment in census[\"census_data\"].items()\n",
    ")\n",
    "experiments_total_cells = 0\n",
    "print(\"Count by experiment:\")\n",
    "for organism_name, organism_experiment in all_experiments:\n",
    "    num_cells = len(organism_experiment.obs.read(column_names=[\"soma_joinid\"]).concat().to_pandas())\n",
    "    print(f\"\\t{num_cells} cells in {organism_name}\")\n",
    "    experiments_total_cells += num_cells\n",
    "\n",
    "print(f\"\\nFound {experiments_total_cells} cells in all experiments.\")\n",
    "\n",
    "# Count cells across all datasets\n",
    "print(f\"Found {census_datasets.dataset_total_cell_count.sum()} cells in all datasets.\")"
   ]
  },
  {
   "cell_type": "markdown",
   "metadata": {},
   "source": [
    "Lets pick one dataset to slice out of the census, and turn into an [AnnData](https://anndata.readthedocs.io/en/latest/) in-memory object. This can be used with the [ScanPy](https://scanpy.readthedocs.io/en/stable/) toolchain. You can also save this AnnData locally using the AnnData [`write`](https://anndata.readthedocs.io/en/latest/api.html#writing) API."
   ]
  },
  {
   "cell_type": "code",
   "execution_count": 3,
   "metadata": {
    "execution": {
     "iopub.execute_input": "2023-01-20T19:38:54.137836Z",
     "iopub.status.busy": "2023-01-20T19:38:54.137540Z",
     "iopub.status.idle": "2023-01-20T19:38:54.146825Z",
     "shell.execute_reply": "2023-01-20T19:38:54.146094Z"
    }
   },
   "outputs": [
    {
     "data": {
      "text/html": [
       "<div>\n",
       "<style scoped>\n",
       "    .dataframe tbody tr th:only-of-type {\n",
       "        vertical-align: middle;\n",
       "    }\n",
       "\n",
       "    .dataframe tbody tr th {\n",
       "        vertical-align: top;\n",
       "    }\n",
       "\n",
       "    .dataframe thead th {\n",
       "        text-align: right;\n",
       "    }\n",
       "</style>\n",
       "<table border=\"1\" class=\"dataframe\">\n",
       "  <thead>\n",
       "    <tr style=\"text-align: right;\">\n",
       "      <th></th>\n",
       "      <th>collection_id</th>\n",
       "      <th>collection_name</th>\n",
       "      <th>collection_doi</th>\n",
       "      <th>dataset_id</th>\n",
       "      <th>dataset_title</th>\n",
       "      <th>dataset_h5ad_path</th>\n",
       "      <th>dataset_total_cell_count</th>\n",
       "    </tr>\n",
       "    <tr>\n",
       "      <th>soma_joinid</th>\n",
       "      <th></th>\n",
       "      <th></th>\n",
       "      <th></th>\n",
       "      <th></th>\n",
       "      <th></th>\n",
       "      <th></th>\n",
       "      <th></th>\n",
       "    </tr>\n",
       "  </thead>\n",
       "  <tbody>\n",
       "    <tr>\n",
       "      <th>139</th>\n",
       "      <td>0b9d8a04-bb9d-44da-aa27-705bb65b54eb</td>\n",
       "      <td>Tabula Muris Senis</td>\n",
       "      <td>10.1038/s41586-020-2496-1</td>\n",
       "      <td>0bd1a1de-3aee-40e0-b2ec-86c7a30c7149</td>\n",
       "      <td>Bone marrow - A single-cell transcriptomic atl...</td>\n",
       "      <td>0bd1a1de-3aee-40e0-b2ec-86c7a30c7149.h5ad</td>\n",
       "      <td>40220</td>\n",
       "    </tr>\n",
       "  </tbody>\n",
       "</table>\n",
       "</div>"
      ],
      "text/plain": [
       "                                    collection_id     collection_name  \\\n",
       "soma_joinid                                                             \n",
       "139          0b9d8a04-bb9d-44da-aa27-705bb65b54eb  Tabula Muris Senis   \n",
       "\n",
       "                        collection_doi                            dataset_id  \\\n",
       "soma_joinid                                                                    \n",
       "139          10.1038/s41586-020-2496-1  0bd1a1de-3aee-40e0-b2ec-86c7a30c7149   \n",
       "\n",
       "                                                 dataset_title  \\\n",
       "soma_joinid                                                      \n",
       "139          Bone marrow - A single-cell transcriptomic atl...   \n",
       "\n",
       "                                     dataset_h5ad_path  \\\n",
       "soma_joinid                                              \n",
       "139          0bd1a1de-3aee-40e0-b2ec-86c7a30c7149.h5ad   \n",
       "\n",
       "             dataset_total_cell_count  \n",
       "soma_joinid                            \n",
       "139                             40220  "
      ]
     },
     "execution_count": 3,
     "metadata": {},
     "output_type": "execute_result"
    }
   ],
   "source": [
    "census_datasets[census_datasets.dataset_id == \"0bd1a1de-3aee-40e0-b2ec-86c7a30c7149\"]"
   ]
  },
  {
   "cell_type": "markdown",
   "metadata": {},
   "source": [
    "Create a query on the mouse experiment, \"RNA\" measurement, for the dataset_id."
   ]
  },
  {
   "cell_type": "code",
   "execution_count": 4,
   "metadata": {
    "execution": {
     "iopub.execute_input": "2023-01-20T19:38:54.149636Z",
     "iopub.status.busy": "2023-01-20T19:38:54.149365Z",
     "iopub.status.idle": "2023-01-20T19:39:01.826206Z",
     "shell.execute_reply": "2023-01-20T19:39:01.825485Z"
    }
   },
   "outputs": [
    {
     "data": {
      "text/plain": [
       "AnnData object with n_obs × n_vars = 40220 × 52392\n",
       "    obs: 'soma_joinid', 'dataset_id', 'assay', 'assay_ontology_term_id', 'cell_type', 'cell_type_ontology_term_id', 'development_stage', 'development_stage_ontology_term_id', 'disease', 'disease_ontology_term_id', 'donor_id', 'is_primary_data', 'self_reported_ethnicity', 'self_reported_ethnicity_ontology_term_id', 'sex', 'sex_ontology_term_id', 'suspension_type', 'tissue', 'tissue_ontology_term_id', 'tissue_general', 'tissue_general_ontology_term_id'\n",
       "    var: 'soma_joinid', 'feature_id', 'feature_name', 'feature_length'"
      ]
     },
     "execution_count": 4,
     "metadata": {},
     "output_type": "execute_result"
    }
   ],
   "source": [
    "mouse = census[\"census_data\"][\"mus_musculus\"]\n",
    "with mouse.axis_query(\n",
    "    \"RNA\",\n",
    "    obs_query=soma.AxisQuery(value_filter=\"dataset_id == '0bd1a1de-3aee-40e0-b2ec-86c7a30c7149'\"),\n",
    ") as query:\n",
    "    adata = query.to_anndata(\"raw\")\n",
    "\n",
    "adata"
   ]
  },
  {
   "cell_type": "markdown",
   "metadata": {},
   "source": [
    "You can also use the `cell_census.get_h5ad_uri()` API to fetch a URI pointing to the H5AD associated with this `dataset_id`. This is the same H5AD you can download from the CELLxGENE Portal, and may contain additional data-submittor provided information which was not included in the Cell Census.\n",
    "\n",
    "The \"locator\" returned by this API will include a `uri` and additional information that may be necessary to use the URI (eg, the S3 region).\n",
    "\n",
    "You will need to use a download API to fetch this H5AD, such as [`fsspec`](https://filesystem-spec.readthedocs.io/en/latest/)."
   ]
  },
  {
   "cell_type": "code",
   "execution_count": 5,
   "metadata": {
    "execution": {
     "iopub.execute_input": "2023-01-20T19:39:01.829192Z",
     "iopub.status.busy": "2023-01-20T19:39:01.828895Z",
     "iopub.status.idle": "2023-01-20T19:39:02.504431Z",
     "shell.execute_reply": "2023-01-20T19:39:02.503717Z"
    }
   },
   "outputs": [
    {
     "data": {
      "text/plain": [
       "{'uri': 's3://cellxgene-data-public/cell-census/2023-01-13/h5ads/0bd1a1de-3aee-40e0-b2ec-86c7a30c7149.h5ad',\n",
       " 's3_region': 'us-west-2'}"
      ]
     },
     "execution_count": 5,
     "metadata": {},
     "output_type": "execute_result"
    }
   ],
   "source": [
    "cell_census.get_source_h5ad_uri(\"0bd1a1de-3aee-40e0-b2ec-86c7a30c7149\")"
   ]
  }
 ],
 "metadata": {
  "kernelspec": {
   "display_name": "Python 3 (ipykernel)",
   "language": "python",
   "name": "python3"
  },
  "language_info": {
   "codemirror_mode": {
    "name": "ipython",
    "version": 3
   },
   "file_extension": ".py",
   "mimetype": "text/x-python",
   "name": "python",
   "nbconvert_exporter": "python",
   "pygments_lexer": "ipython3",
   "version": "3.10.6"
  },
  "vscode": {
   "interpreter": {
    "hash": "3da8ec1c162cd849e59e6ea2824b2e353dce799884e910aae99411be5277f953"
   }
  }
 },
 "nbformat": 4,
 "nbformat_minor": 2
}
