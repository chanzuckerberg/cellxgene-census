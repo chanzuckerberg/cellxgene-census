{
 "cells": [
  {
   "cell_type": "markdown",
   "metadata": {},
   "source": [
    "# Census Datasets example\n",
    "\n",
    "*Goal:* demonstrate basic use of the `census_datasets` dataframe.\n",
    "\n",
    "Each Cell Census contains a top-level dataframe itemizing the datasets contained therein. You can read this into a Pandas DataFrame:"
   ]
  },
  {
   "cell_type": "code",
   "execution_count": 1,
   "metadata": {
    "execution": {
     "iopub.execute_input": "2023-03-24T16:05:32.293815Z",
     "iopub.status.busy": "2023-03-24T16:05:32.292539Z",
     "iopub.status.idle": "2023-03-24T16:05:38.811226Z",
     "shell.execute_reply": "2023-03-24T16:05:38.810679Z"
    }
   },
   "outputs": [
    {
     "data": {
      "text/html": [
       "<div>\n",
       "<style scoped>\n",
       "    .dataframe tbody tr th:only-of-type {\n",
       "        vertical-align: middle;\n",
       "    }\n",
       "\n",
       "    .dataframe tbody tr th {\n",
       "        vertical-align: top;\n",
       "    }\n",
       "\n",
       "    .dataframe thead th {\n",
       "        text-align: right;\n",
       "    }\n",
       "</style>\n",
       "<table border=\"1\" class=\"dataframe\">\n",
       "  <thead>\n",
       "    <tr style=\"text-align: right;\">\n",
       "      <th></th>\n",
       "      <th>collection_id</th>\n",
       "      <th>collection_name</th>\n",
       "      <th>collection_doi</th>\n",
       "      <th>dataset_id</th>\n",
       "      <th>dataset_title</th>\n",
       "      <th>dataset_h5ad_path</th>\n",
       "      <th>dataset_total_cell_count</th>\n",
       "    </tr>\n",
       "    <tr>\n",
       "      <th>soma_joinid</th>\n",
       "      <th></th>\n",
       "      <th></th>\n",
       "      <th></th>\n",
       "      <th></th>\n",
       "      <th></th>\n",
       "      <th></th>\n",
       "      <th></th>\n",
       "    </tr>\n",
       "  </thead>\n",
       "  <tbody>\n",
       "    <tr>\n",
       "      <th>0</th>\n",
       "      <td>43d4bb39-21af-4d05-b973-4c1fed7b916c</td>\n",
       "      <td>Transcriptional Programming of Normal and Infl...</td>\n",
       "      <td>10.1016/j.celrep.2018.09.006</td>\n",
       "      <td>f512b8b6-369d-4a85-a695-116e0806857f</td>\n",
       "      <td>Skin</td>\n",
       "      <td>f512b8b6-369d-4a85-a695-116e0806857f.h5ad</td>\n",
       "      <td>68036</td>\n",
       "    </tr>\n",
       "    <tr>\n",
       "      <th>1</th>\n",
       "      <td>d36ca85c-3e8b-444c-ba3e-a645040c6185</td>\n",
       "      <td>A molecular atlas of the human postmenopausal ...</td>\n",
       "      <td>10.1101/2022.08.04.502826</td>\n",
       "      <td>90d4a63b-5c02-43eb-acde-c49345681601</td>\n",
       "      <td>Fallopian tube RNA</td>\n",
       "      <td>90d4a63b-5c02-43eb-acde-c49345681601.h5ad</td>\n",
       "      <td>60574</td>\n",
       "    </tr>\n",
       "    <tr>\n",
       "      <th>2</th>\n",
       "      <td>d36ca85c-3e8b-444c-ba3e-a645040c6185</td>\n",
       "      <td>A molecular atlas of the human postmenopausal ...</td>\n",
       "      <td>10.1101/2022.08.04.502826</td>\n",
       "      <td>d1207c81-7309-43a7-a5a0-f4283670b62b</td>\n",
       "      <td>Ovary RNA</td>\n",
       "      <td>d1207c81-7309-43a7-a5a0-f4283670b62b.h5ad</td>\n",
       "      <td>26134</td>\n",
       "    </tr>\n",
       "    <tr>\n",
       "      <th>3</th>\n",
       "      <td>e9eec7f5-8519-42f6-99b4-6dbd9cc5ef03</td>\n",
       "      <td>Humoral immunity at the brain borders in homeo...</td>\n",
       "      <td>10.1016/j.coi.2022.102188</td>\n",
       "      <td>58b01044-c5e5-4b0f-8a2d-6ebf951e01ff</td>\n",
       "      <td>A scRNA-seq atlas of immune cells at the CNS b...</td>\n",
       "      <td>58b01044-c5e5-4b0f-8a2d-6ebf951e01ff.h5ad</td>\n",
       "      <td>130908</td>\n",
       "    </tr>\n",
       "    <tr>\n",
       "      <th>4</th>\n",
       "      <td>4796c91c-9d8f-4692-be43-347b1727f9d8</td>\n",
       "      <td>MSK SPECTRUM – Ovarian cancer mutational proce...</td>\n",
       "      <td>10.1038/s41586-022-05496-1</td>\n",
       "      <td>97d9238c-1a39-4873-b0bb-963ec2d788e6</td>\n",
       "      <td>MSK SPECTRUM - Dendritic cells</td>\n",
       "      <td>97d9238c-1a39-4873-b0bb-963ec2d788e6.h5ad</td>\n",
       "      <td>24025</td>\n",
       "    </tr>\n",
       "    <tr>\n",
       "      <th>...</th>\n",
       "      <td>...</td>\n",
       "      <td>...</td>\n",
       "      <td>...</td>\n",
       "      <td>...</td>\n",
       "      <td>...</td>\n",
       "      <td>...</td>\n",
       "      <td>...</td>\n",
       "    </tr>\n",
       "    <tr>\n",
       "      <th>498</th>\n",
       "      <td>999f2a15-3d7e-440b-96ae-2c806799c08c</td>\n",
       "      <td>Harmonized single-cell landscape, intercellula...</td>\n",
       "      <td>10.1101/2022.08.27.505439</td>\n",
       "      <td>56c4912d-2bae-4b64-98f2-af8a84389208</td>\n",
       "      <td>Extended GBmap</td>\n",
       "      <td>56c4912d-2bae-4b64-98f2-af8a84389208.h5ad</td>\n",
       "      <td>1135677</td>\n",
       "    </tr>\n",
       "    <tr>\n",
       "      <th>499</th>\n",
       "      <td>999f2a15-3d7e-440b-96ae-2c806799c08c</td>\n",
       "      <td>Harmonized single-cell landscape, intercellula...</td>\n",
       "      <td>10.1101/2022.08.27.505439</td>\n",
       "      <td>c888b684-6c51-431f-972a-6c963044cef0</td>\n",
       "      <td>Core GBmap</td>\n",
       "      <td>c888b684-6c51-431f-972a-6c963044cef0.h5ad</td>\n",
       "      <td>338564</td>\n",
       "    </tr>\n",
       "    <tr>\n",
       "      <th>500</th>\n",
       "      <td>a261413d-835b-4f1e-ab0c-dada55ea6afd</td>\n",
       "      <td>Identification of distinct tumor cell populati...</td>\n",
       "      <td>10.1038/s42003-021-02562-8</td>\n",
       "      <td>ec6ceff8-c8bc-488d-b6bf-30df2fa92169</td>\n",
       "      <td>Modeling Hepatoblastoma: Identification of Dis...</td>\n",
       "      <td>ec6ceff8-c8bc-488d-b6bf-30df2fa92169.h5ad</td>\n",
       "      <td>67110</td>\n",
       "    </tr>\n",
       "    <tr>\n",
       "      <th>501</th>\n",
       "      <td>296237e2-393d-4e31-b590-b03f74ac5070</td>\n",
       "      <td>Mouse pancreatic islet scRNA-seq atlas across ...</td>\n",
       "      <td>10.1101/2022.12.22.521557</td>\n",
       "      <td>49e4ffcc-5444-406d-bdee-577127404ba8</td>\n",
       "      <td>Mouse pancreatic islet scRNA-seq atlas across ...</td>\n",
       "      <td>49e4ffcc-5444-406d-bdee-577127404ba8.h5ad</td>\n",
       "      <td>301796</td>\n",
       "    </tr>\n",
       "    <tr>\n",
       "      <th>502</th>\n",
       "      <td>8f126edf-5405-4731-8374-b5ce11f53e82</td>\n",
       "      <td>A blood atlas of COVID-19 defines hallmarks of...</td>\n",
       "      <td>10.1016/j.cell.2022.01.012</td>\n",
       "      <td>ebc2e1ff-c8f9-466a-acf4-9d291afaf8b3</td>\n",
       "      <td>COMBAT project: single cell gene expression da...</td>\n",
       "      <td>ebc2e1ff-c8f9-466a-acf4-9d291afaf8b3.h5ad</td>\n",
       "      <td>836148</td>\n",
       "    </tr>\n",
       "  </tbody>\n",
       "</table>\n",
       "<p>503 rows × 7 columns</p>\n",
       "</div>"
      ],
      "text/plain": [
       "                                    collection_id  \\\n",
       "soma_joinid                                         \n",
       "0            43d4bb39-21af-4d05-b973-4c1fed7b916c   \n",
       "1            d36ca85c-3e8b-444c-ba3e-a645040c6185   \n",
       "2            d36ca85c-3e8b-444c-ba3e-a645040c6185   \n",
       "3            e9eec7f5-8519-42f6-99b4-6dbd9cc5ef03   \n",
       "4            4796c91c-9d8f-4692-be43-347b1727f9d8   \n",
       "...                                           ...   \n",
       "498          999f2a15-3d7e-440b-96ae-2c806799c08c   \n",
       "499          999f2a15-3d7e-440b-96ae-2c806799c08c   \n",
       "500          a261413d-835b-4f1e-ab0c-dada55ea6afd   \n",
       "501          296237e2-393d-4e31-b590-b03f74ac5070   \n",
       "502          8f126edf-5405-4731-8374-b5ce11f53e82   \n",
       "\n",
       "                                               collection_name  \\\n",
       "soma_joinid                                                      \n",
       "0            Transcriptional Programming of Normal and Infl...   \n",
       "1            A molecular atlas of the human postmenopausal ...   \n",
       "2            A molecular atlas of the human postmenopausal ...   \n",
       "3            Humoral immunity at the brain borders in homeo...   \n",
       "4            MSK SPECTRUM – Ovarian cancer mutational proce...   \n",
       "...                                                        ...   \n",
       "498          Harmonized single-cell landscape, intercellula...   \n",
       "499          Harmonized single-cell landscape, intercellula...   \n",
       "500          Identification of distinct tumor cell populati...   \n",
       "501          Mouse pancreatic islet scRNA-seq atlas across ...   \n",
       "502          A blood atlas of COVID-19 defines hallmarks of...   \n",
       "\n",
       "                           collection_doi  \\\n",
       "soma_joinid                                 \n",
       "0            10.1016/j.celrep.2018.09.006   \n",
       "1               10.1101/2022.08.04.502826   \n",
       "2               10.1101/2022.08.04.502826   \n",
       "3               10.1016/j.coi.2022.102188   \n",
       "4              10.1038/s41586-022-05496-1   \n",
       "...                                   ...   \n",
       "498             10.1101/2022.08.27.505439   \n",
       "499             10.1101/2022.08.27.505439   \n",
       "500            10.1038/s42003-021-02562-8   \n",
       "501             10.1101/2022.12.22.521557   \n",
       "502            10.1016/j.cell.2022.01.012   \n",
       "\n",
       "                                       dataset_id  \\\n",
       "soma_joinid                                         \n",
       "0            f512b8b6-369d-4a85-a695-116e0806857f   \n",
       "1            90d4a63b-5c02-43eb-acde-c49345681601   \n",
       "2            d1207c81-7309-43a7-a5a0-f4283670b62b   \n",
       "3            58b01044-c5e5-4b0f-8a2d-6ebf951e01ff   \n",
       "4            97d9238c-1a39-4873-b0bb-963ec2d788e6   \n",
       "...                                           ...   \n",
       "498          56c4912d-2bae-4b64-98f2-af8a84389208   \n",
       "499          c888b684-6c51-431f-972a-6c963044cef0   \n",
       "500          ec6ceff8-c8bc-488d-b6bf-30df2fa92169   \n",
       "501          49e4ffcc-5444-406d-bdee-577127404ba8   \n",
       "502          ebc2e1ff-c8f9-466a-acf4-9d291afaf8b3   \n",
       "\n",
       "                                                 dataset_title  \\\n",
       "soma_joinid                                                      \n",
       "0                                                         Skin   \n",
       "1                                           Fallopian tube RNA   \n",
       "2                                                    Ovary RNA   \n",
       "3            A scRNA-seq atlas of immune cells at the CNS b...   \n",
       "4                               MSK SPECTRUM - Dendritic cells   \n",
       "...                                                        ...   \n",
       "498                                             Extended GBmap   \n",
       "499                                                 Core GBmap   \n",
       "500          Modeling Hepatoblastoma: Identification of Dis...   \n",
       "501          Mouse pancreatic islet scRNA-seq atlas across ...   \n",
       "502          COMBAT project: single cell gene expression da...   \n",
       "\n",
       "                                     dataset_h5ad_path  \\\n",
       "soma_joinid                                              \n",
       "0            f512b8b6-369d-4a85-a695-116e0806857f.h5ad   \n",
       "1            90d4a63b-5c02-43eb-acde-c49345681601.h5ad   \n",
       "2            d1207c81-7309-43a7-a5a0-f4283670b62b.h5ad   \n",
       "3            58b01044-c5e5-4b0f-8a2d-6ebf951e01ff.h5ad   \n",
       "4            97d9238c-1a39-4873-b0bb-963ec2d788e6.h5ad   \n",
       "...                                                ...   \n",
       "498          56c4912d-2bae-4b64-98f2-af8a84389208.h5ad   \n",
       "499          c888b684-6c51-431f-972a-6c963044cef0.h5ad   \n",
       "500          ec6ceff8-c8bc-488d-b6bf-30df2fa92169.h5ad   \n",
       "501          49e4ffcc-5444-406d-bdee-577127404ba8.h5ad   \n",
       "502          ebc2e1ff-c8f9-466a-acf4-9d291afaf8b3.h5ad   \n",
       "\n",
       "             dataset_total_cell_count  \n",
       "soma_joinid                            \n",
       "0                               68036  \n",
       "1                               60574  \n",
       "2                               26134  \n",
       "3                              130908  \n",
       "4                               24025  \n",
       "...                               ...  \n",
       "498                           1135677  \n",
       "499                            338564  \n",
       "500                             67110  \n",
       "501                            301796  \n",
       "502                            836148  \n",
       "\n",
       "[503 rows x 7 columns]"
      ]
     },
     "execution_count": 1,
     "metadata": {},
     "output_type": "execute_result"
    }
   ],
   "source": [
    "import cell_census\n",
    "import tiledbsoma as soma\n",
    "\n",
    "census = cell_census.open_soma()\n",
    "census_datasets = census[\"census_info\"][\"datasets\"].read().concat().to_pandas()\n",
    "\n",
    "# for convenience, indexing on the soma_joinid which links this to other census data.\n",
    "census_datasets = census_datasets.set_index(\"soma_joinid\")\n",
    "\n",
    "census_datasets"
   ]
  },
  {
   "cell_type": "markdown",
   "metadata": {},
   "source": [
    "The sum cells across all datasets should match the number of cells across all SOMA experiments (human, mouse)."
   ]
  },
  {
   "cell_type": "code",
   "execution_count": 2,
   "metadata": {
    "execution": {
     "iopub.execute_input": "2023-03-24T16:05:38.813403Z",
     "iopub.status.busy": "2023-03-24T16:05:38.813070Z",
     "iopub.status.idle": "2023-03-24T16:05:46.607088Z",
     "shell.execute_reply": "2023-03-24T16:05:46.606409Z"
    }
   },
   "outputs": [
    {
     "name": "stdout",
     "output_type": "stream",
     "text": [
      "Count by experiment:\n",
      "\t44389208 cells in homo_sapiens\n",
      "\t3922090 cells in mus_musculus\n",
      "\n",
      "Found 48311298 cells in all experiments.\n",
      "Found 48311298 cells in all datasets.\n"
     ]
    }
   ],
   "source": [
    "# Count cells across all experiments\n",
    "all_experiments = (\n",
    "    (organism_name, organism_experiment) for organism_name, organism_experiment in census[\"census_data\"].items()\n",
    ")\n",
    "experiments_total_cells = 0\n",
    "print(\"Count by experiment:\")\n",
    "for organism_name, organism_experiment in all_experiments:\n",
    "    num_cells = len(organism_experiment.obs.read(column_names=[\"soma_joinid\"]).concat().to_pandas())\n",
    "    print(f\"\\t{num_cells} cells in {organism_name}\")\n",
    "    experiments_total_cells += num_cells\n",
    "\n",
    "print(f\"\\nFound {experiments_total_cells} cells in all experiments.\")\n",
    "\n",
    "# Count cells across all datasets\n",
    "print(f\"Found {census_datasets.dataset_total_cell_count.sum()} cells in all datasets.\")"
   ]
  },
  {
   "cell_type": "markdown",
   "metadata": {},
   "source": [
    "Lets pick one dataset to slice out of the census, and turn into an [AnnData](https://anndata.readthedocs.io/en/latest/) in-memory object. This can be used with the [ScanPy](https://scanpy.readthedocs.io/en/stable/) toolchain. You can also save this AnnData locally using the AnnData [`write`](https://anndata.readthedocs.io/en/latest/api.html#writing) API."
   ]
  },
  {
   "cell_type": "code",
   "execution_count": 3,
   "metadata": {
    "execution": {
     "iopub.execute_input": "2023-03-24T16:05:46.610253Z",
     "iopub.status.busy": "2023-03-24T16:05:46.610053Z",
     "iopub.status.idle": "2023-03-24T16:05:46.617890Z",
     "shell.execute_reply": "2023-03-24T16:05:46.617344Z"
    }
   },
   "outputs": [
    {
     "data": {
      "text/html": [
       "<div>\n",
       "<style scoped>\n",
       "    .dataframe tbody tr th:only-of-type {\n",
       "        vertical-align: middle;\n",
       "    }\n",
       "\n",
       "    .dataframe tbody tr th {\n",
       "        vertical-align: top;\n",
       "    }\n",
       "\n",
       "    .dataframe thead th {\n",
       "        text-align: right;\n",
       "    }\n",
       "</style>\n",
       "<table border=\"1\" class=\"dataframe\">\n",
       "  <thead>\n",
       "    <tr style=\"text-align: right;\">\n",
       "      <th></th>\n",
       "      <th>collection_id</th>\n",
       "      <th>collection_name</th>\n",
       "      <th>collection_doi</th>\n",
       "      <th>dataset_id</th>\n",
       "      <th>dataset_title</th>\n",
       "      <th>dataset_h5ad_path</th>\n",
       "      <th>dataset_total_cell_count</th>\n",
       "    </tr>\n",
       "    <tr>\n",
       "      <th>soma_joinid</th>\n",
       "      <th></th>\n",
       "      <th></th>\n",
       "      <th></th>\n",
       "      <th></th>\n",
       "      <th></th>\n",
       "      <th></th>\n",
       "      <th></th>\n",
       "    </tr>\n",
       "  </thead>\n",
       "  <tbody>\n",
       "    <tr>\n",
       "      <th>345</th>\n",
       "      <td>0b9d8a04-bb9d-44da-aa27-705bb65b54eb</td>\n",
       "      <td>Tabula Muris Senis</td>\n",
       "      <td>10.1038/s41586-020-2496-1</td>\n",
       "      <td>0bd1a1de-3aee-40e0-b2ec-86c7a30c7149</td>\n",
       "      <td>Bone marrow - A single-cell transcriptomic atl...</td>\n",
       "      <td>0bd1a1de-3aee-40e0-b2ec-86c7a30c7149.h5ad</td>\n",
       "      <td>40220</td>\n",
       "    </tr>\n",
       "  </tbody>\n",
       "</table>\n",
       "</div>"
      ],
      "text/plain": [
       "                                    collection_id     collection_name  \\\n",
       "soma_joinid                                                             \n",
       "345          0b9d8a04-bb9d-44da-aa27-705bb65b54eb  Tabula Muris Senis   \n",
       "\n",
       "                        collection_doi                            dataset_id  \\\n",
       "soma_joinid                                                                    \n",
       "345          10.1038/s41586-020-2496-1  0bd1a1de-3aee-40e0-b2ec-86c7a30c7149   \n",
       "\n",
       "                                                 dataset_title  \\\n",
       "soma_joinid                                                      \n",
       "345          Bone marrow - A single-cell transcriptomic atl...   \n",
       "\n",
       "                                     dataset_h5ad_path  \\\n",
       "soma_joinid                                              \n",
       "345          0bd1a1de-3aee-40e0-b2ec-86c7a30c7149.h5ad   \n",
       "\n",
       "             dataset_total_cell_count  \n",
       "soma_joinid                            \n",
       "345                             40220  "
      ]
     },
     "execution_count": 3,
     "metadata": {},
     "output_type": "execute_result"
    }
   ],
   "source": [
    "census_datasets[census_datasets.dataset_id == \"0bd1a1de-3aee-40e0-b2ec-86c7a30c7149\"]"
   ]
  },
  {
   "cell_type": "markdown",
   "metadata": {},
   "source": [
    "Create a query on the mouse experiment, \"RNA\" measurement, for the dataset_id."
   ]
  },
  {
   "cell_type": "code",
   "execution_count": 4,
   "metadata": {
    "execution": {
     "iopub.execute_input": "2023-03-24T16:05:46.619695Z",
     "iopub.status.busy": "2023-03-24T16:05:46.619505Z",
     "iopub.status.idle": "2023-03-24T16:06:00.458458Z",
     "shell.execute_reply": "2023-03-24T16:06:00.457542Z"
    }
   },
   "outputs": [
    {
     "data": {
      "text/plain": [
       "AnnData object with n_obs × n_vars = 40220 × 52392\n",
       "    obs: 'soma_joinid', 'dataset_id', 'assay', 'assay_ontology_term_id', 'cell_type', 'cell_type_ontology_term_id', 'development_stage', 'development_stage_ontology_term_id', 'disease', 'disease_ontology_term_id', 'donor_id', 'is_primary_data', 'self_reported_ethnicity', 'self_reported_ethnicity_ontology_term_id', 'sex', 'sex_ontology_term_id', 'suspension_type', 'tissue', 'tissue_ontology_term_id', 'tissue_general', 'tissue_general_ontology_term_id'\n",
       "    var: 'soma_joinid', 'feature_id', 'feature_name', 'feature_length'"
      ]
     },
     "execution_count": 4,
     "metadata": {},
     "output_type": "execute_result"
    }
   ],
   "source": [
    "mouse = census[\"census_data\"][\"mus_musculus\"]\n",
    "with mouse.axis_query(\n",
    "    \"RNA\",\n",
    "    obs_query=soma.AxisQuery(value_filter=\"dataset_id == '0bd1a1de-3aee-40e0-b2ec-86c7a30c7149'\"),\n",
    ") as query:\n",
    "    adata = query.to_anndata(\"raw\")\n",
    "\n",
    "adata"
   ]
  },
  {
   "cell_type": "markdown",
   "metadata": {},
   "source": [
    "You can also use the `cell_census.get_h5ad_uri()` API to fetch a URI pointing to the H5AD associated with this `dataset_id`. This is the same H5AD you can download from the CELLxGENE Portal, and may contain additional data-submittor provided information which was not included in the Cell Census.\n",
    "\n",
    "The \"locator\" returned by this API will include a `uri` and additional information that may be necessary to use the URI (eg, the S3 region).\n",
    "\n",
    "You will need to use a download API to fetch this H5AD, such as [`fsspec`](https://filesystem-spec.readthedocs.io/en/latest/)."
   ]
  },
  {
   "cell_type": "code",
   "execution_count": 5,
   "metadata": {
    "execution": {
     "iopub.execute_input": "2023-03-24T16:06:00.462668Z",
     "iopub.status.busy": "2023-03-24T16:06:00.462315Z",
     "iopub.status.idle": "2023-03-24T16:06:07.592890Z",
     "shell.execute_reply": "2023-03-24T16:06:07.592344Z"
    }
   },
   "outputs": [
    {
     "data": {
      "text/plain": [
       "{'uri': 's3://cellxgene-data-public/cell-census/2023-03-16/h5ads/0bd1a1de-3aee-40e0-b2ec-86c7a30c7149.h5ad',\n",
       " 's3_region': 'us-west-2'}"
      ]
     },
     "execution_count": 5,
     "metadata": {},
     "output_type": "execute_result"
    }
   ],
   "source": [
    "uri = cell_census.get_source_h5ad_uri(\"0bd1a1de-3aee-40e0-b2ec-86c7a30c7149\")\n",
    "\n",
    "uri"
   ]
  },
  {
   "attachments": {},
   "cell_type": "markdown",
   "metadata": {},
   "source": [
    "Close the census"
   ]
  },
  {
   "cell_type": "code",
   "execution_count": 6,
   "metadata": {
    "execution": {
     "iopub.execute_input": "2023-03-24T16:06:07.594782Z",
     "iopub.status.busy": "2023-03-24T16:06:07.594614Z",
     "iopub.status.idle": "2023-03-24T16:06:07.597174Z",
     "shell.execute_reply": "2023-03-24T16:06:07.596739Z"
    }
   },
   "outputs": [],
   "source": [
    "census.close()"
   ]
  }
 ],
 "metadata": {
  "kernelspec": {
   "display_name": "Python 3 (ipykernel)",
   "language": "python",
   "name": "python3"
  },
  "language_info": {
   "codemirror_mode": {
    "name": "ipython",
    "version": 3
   },
   "file_extension": ".py",
   "mimetype": "text/x-python",
   "name": "python",
   "nbconvert_exporter": "python",
   "pygments_lexer": "ipython3",
   "version": "3.10.6"
  },
  "vscode": {
   "interpreter": {
    "hash": "3da8ec1c162cd849e59e6ea2824b2e353dce799884e910aae99411be5277f953"
   }
  }
 },
 "nbformat": 4,
 "nbformat_minor": 2
}
