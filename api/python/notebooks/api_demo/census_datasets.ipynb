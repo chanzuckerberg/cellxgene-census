{
 "cells": [
  {
   "attachments": {},
   "cell_type": "markdown",
   "metadata": {},
   "source": [
    "# Census Datasets example\n",
    "\n",
    "*Goal:* demonstrate basic use of the `census_datasets` dataframe.\n",
    "\n",
    "Each Census contains a top-level dataframe itemizing the datasets contained therein. You can read this into a Pandas DataFrame:"
   ]
  },
  {
   "cell_type": "code",
   "execution_count": 1,
   "metadata": {
    "execution": {
     "iopub.execute_input": "2023-04-05T14:16:06.870394Z",
     "iopub.status.busy": "2023-04-05T14:16:06.870253Z",
     "iopub.status.idle": "2023-04-05T14:16:08.429975Z",
     "shell.execute_reply": "2023-04-05T14:16:08.429264Z"
    }
   },
   "outputs": [
    {
     "data": {
      "text/html": [
       "<div>\n",
       "<style scoped>\n",
       "    .dataframe tbody tr th:only-of-type {\n",
       "        vertical-align: middle;\n",
       "    }\n",
       "\n",
       "    .dataframe tbody tr th {\n",
       "        vertical-align: top;\n",
       "    }\n",
       "\n",
       "    .dataframe thead th {\n",
       "        text-align: right;\n",
       "    }\n",
       "</style>\n",
       "<table border=\"1\" class=\"dataframe\">\n",
       "  <thead>\n",
       "    <tr style=\"text-align: right;\">\n",
       "      <th></th>\n",
       "      <th>collection_id</th>\n",
       "      <th>collection_name</th>\n",
       "      <th>collection_doi</th>\n",
       "      <th>dataset_id</th>\n",
       "      <th>dataset_title</th>\n",
       "      <th>dataset_h5ad_path</th>\n",
       "      <th>dataset_total_cell_count</th>\n",
       "    </tr>\n",
       "    <tr>\n",
       "      <th>soma_joinid</th>\n",
       "      <th></th>\n",
       "      <th></th>\n",
       "      <th></th>\n",
       "      <th></th>\n",
       "      <th></th>\n",
       "      <th></th>\n",
       "      <th></th>\n",
       "    </tr>\n",
       "  </thead>\n",
       "  <tbody>\n",
       "    <tr>\n",
       "      <th>0</th>\n",
       "      <td>43d4bb39-21af-4d05-b973-4c1fed7b916c</td>\n",
       "      <td>Transcriptional Programming of Normal and Infl...</td>\n",
       "      <td>10.1016/j.celrep.2018.09.006</td>\n",
       "      <td>f512b8b6-369d-4a85-a695-116e0806857f</td>\n",
       "      <td>Skin</td>\n",
       "      <td>f512b8b6-369d-4a85-a695-116e0806857f.h5ad</td>\n",
       "      <td>68036</td>\n",
       "    </tr>\n",
       "    <tr>\n",
       "      <th>1</th>\n",
       "      <td>d36ca85c-3e8b-444c-ba3e-a645040c6185</td>\n",
       "      <td>A molecular atlas of the human postmenopausal ...</td>\n",
       "      <td>10.1101/2022.08.04.502826</td>\n",
       "      <td>90d4a63b-5c02-43eb-acde-c49345681601</td>\n",
       "      <td>Fallopian tube RNA</td>\n",
       "      <td>90d4a63b-5c02-43eb-acde-c49345681601.h5ad</td>\n",
       "      <td>60574</td>\n",
       "    </tr>\n",
       "    <tr>\n",
       "      <th>2</th>\n",
       "      <td>d36ca85c-3e8b-444c-ba3e-a645040c6185</td>\n",
       "      <td>A molecular atlas of the human postmenopausal ...</td>\n",
       "      <td>10.1101/2022.08.04.502826</td>\n",
       "      <td>d1207c81-7309-43a7-a5a0-f4283670b62b</td>\n",
       "      <td>Ovary RNA</td>\n",
       "      <td>d1207c81-7309-43a7-a5a0-f4283670b62b.h5ad</td>\n",
       "      <td>26134</td>\n",
       "    </tr>\n",
       "    <tr>\n",
       "      <th>3</th>\n",
       "      <td>2b02dff7-e427-4cdc-96fb-c0f354c099aa</td>\n",
       "      <td>Single-Cell Analysis of Crohn’s Disease Lesion...</td>\n",
       "      <td>10.1016/j.cell.2019.08.008</td>\n",
       "      <td>36c867a7-be10-4e69-9b39-5de12b0af6da</td>\n",
       "      <td>Ileum</td>\n",
       "      <td>36c867a7-be10-4e69-9b39-5de12b0af6da.h5ad</td>\n",
       "      <td>32458</td>\n",
       "    </tr>\n",
       "    <tr>\n",
       "      <th>4</th>\n",
       "      <td>e9eec7f5-8519-42f6-99b4-6dbd9cc5ef03</td>\n",
       "      <td>Humoral immunity at the brain borders in homeo...</td>\n",
       "      <td>10.1016/j.coi.2022.102188</td>\n",
       "      <td>58b01044-c5e5-4b0f-8a2d-6ebf951e01ff</td>\n",
       "      <td>A scRNA-seq atlas of immune cells at the CNS b...</td>\n",
       "      <td>58b01044-c5e5-4b0f-8a2d-6ebf951e01ff.h5ad</td>\n",
       "      <td>130908</td>\n",
       "    </tr>\n",
       "    <tr>\n",
       "      <th>...</th>\n",
       "      <td>...</td>\n",
       "      <td>...</td>\n",
       "      <td>...</td>\n",
       "      <td>...</td>\n",
       "      <td>...</td>\n",
       "      <td>...</td>\n",
       "      <td>...</td>\n",
       "    </tr>\n",
       "    <tr>\n",
       "      <th>517</th>\n",
       "      <td>a18474f4-ff1e-4864-af69-270b956cee5b</td>\n",
       "      <td>Single-cell RNA sequencing unifies development...</td>\n",
       "      <td>10.1158/2159-8290.cd-22-0824</td>\n",
       "      <td>63bb6359-3945-4658-92eb-3072419953e4</td>\n",
       "      <td>UMAP of T-Cells cells</td>\n",
       "      <td>63bb6359-3945-4658-92eb-3072419953e4.h5ad</td>\n",
       "      <td>14970</td>\n",
       "    </tr>\n",
       "    <tr>\n",
       "      <th>518</th>\n",
       "      <td>a18474f4-ff1e-4864-af69-270b956cee5b</td>\n",
       "      <td>Single-cell RNA sequencing unifies development...</td>\n",
       "      <td>10.1158/2159-8290.cd-22-0824</td>\n",
       "      <td>94423ec1-21f8-40e8-b5c9-c3ea82350ca4</td>\n",
       "      <td>UMAP of Myeloid cells</td>\n",
       "      <td>94423ec1-21f8-40e8-b5c9-c3ea82350ca4.h5ad</td>\n",
       "      <td>3282</td>\n",
       "    </tr>\n",
       "    <tr>\n",
       "      <th>519</th>\n",
       "      <td>a18474f4-ff1e-4864-af69-270b956cee5b</td>\n",
       "      <td>Single-cell RNA sequencing unifies development...</td>\n",
       "      <td>10.1158/2159-8290.cd-22-0824</td>\n",
       "      <td>773b9b2e-70c8-40be-8cbb-e7b5abab360d</td>\n",
       "      <td>UMAP of Columnar cells</td>\n",
       "      <td>773b9b2e-70c8-40be-8cbb-e7b5abab360d.h5ad</td>\n",
       "      <td>79522</td>\n",
       "    </tr>\n",
       "    <tr>\n",
       "      <th>520</th>\n",
       "      <td>a18474f4-ff1e-4864-af69-270b956cee5b</td>\n",
       "      <td>Single-cell RNA sequencing unifies development...</td>\n",
       "      <td>10.1158/2159-8290.cd-22-0824</td>\n",
       "      <td>e5233a94-9e43-418c-8209-6f1400c31530</td>\n",
       "      <td>UMAP of all data</td>\n",
       "      <td>e5233a94-9e43-418c-8209-6f1400c31530.h5ad</td>\n",
       "      <td>146583</td>\n",
       "    </tr>\n",
       "    <tr>\n",
       "      <th>521</th>\n",
       "      <td>10bf5c50-8d85-4c5f-94b4-22c1363d9f31</td>\n",
       "      <td>Intratumoral heterogeneity in recurrent pediat...</td>\n",
       "      <td></td>\n",
       "      <td>be884a28-0eac-4eca-9c23-1294a93cf56e</td>\n",
       "      <td>Intratumoral heterogeneity in recurrent pediat...</td>\n",
       "      <td>be884a28-0eac-4eca-9c23-1294a93cf56e.h5ad</td>\n",
       "      <td>35637</td>\n",
       "    </tr>\n",
       "  </tbody>\n",
       "</table>\n",
       "<p>522 rows × 7 columns</p>\n",
       "</div>"
      ],
      "text/plain": [
       "                                    collection_id   \n",
       "soma_joinid                                         \n",
       "0            43d4bb39-21af-4d05-b973-4c1fed7b916c  \\\n",
       "1            d36ca85c-3e8b-444c-ba3e-a645040c6185   \n",
       "2            d36ca85c-3e8b-444c-ba3e-a645040c6185   \n",
       "3            2b02dff7-e427-4cdc-96fb-c0f354c099aa   \n",
       "4            e9eec7f5-8519-42f6-99b4-6dbd9cc5ef03   \n",
       "...                                           ...   \n",
       "517          a18474f4-ff1e-4864-af69-270b956cee5b   \n",
       "518          a18474f4-ff1e-4864-af69-270b956cee5b   \n",
       "519          a18474f4-ff1e-4864-af69-270b956cee5b   \n",
       "520          a18474f4-ff1e-4864-af69-270b956cee5b   \n",
       "521          10bf5c50-8d85-4c5f-94b4-22c1363d9f31   \n",
       "\n",
       "                                               collection_name   \n",
       "soma_joinid                                                      \n",
       "0            Transcriptional Programming of Normal and Infl...  \\\n",
       "1            A molecular atlas of the human postmenopausal ...   \n",
       "2            A molecular atlas of the human postmenopausal ...   \n",
       "3            Single-Cell Analysis of Crohn’s Disease Lesion...   \n",
       "4            Humoral immunity at the brain borders in homeo...   \n",
       "...                                                        ...   \n",
       "517          Single-cell RNA sequencing unifies development...   \n",
       "518          Single-cell RNA sequencing unifies development...   \n",
       "519          Single-cell RNA sequencing unifies development...   \n",
       "520          Single-cell RNA sequencing unifies development...   \n",
       "521          Intratumoral heterogeneity in recurrent pediat...   \n",
       "\n",
       "                           collection_doi   \n",
       "soma_joinid                                 \n",
       "0            10.1016/j.celrep.2018.09.006  \\\n",
       "1               10.1101/2022.08.04.502826   \n",
       "2               10.1101/2022.08.04.502826   \n",
       "3              10.1016/j.cell.2019.08.008   \n",
       "4               10.1016/j.coi.2022.102188   \n",
       "...                                   ...   \n",
       "517          10.1158/2159-8290.cd-22-0824   \n",
       "518          10.1158/2159-8290.cd-22-0824   \n",
       "519          10.1158/2159-8290.cd-22-0824   \n",
       "520          10.1158/2159-8290.cd-22-0824   \n",
       "521                                         \n",
       "\n",
       "                                       dataset_id   \n",
       "soma_joinid                                         \n",
       "0            f512b8b6-369d-4a85-a695-116e0806857f  \\\n",
       "1            90d4a63b-5c02-43eb-acde-c49345681601   \n",
       "2            d1207c81-7309-43a7-a5a0-f4283670b62b   \n",
       "3            36c867a7-be10-4e69-9b39-5de12b0af6da   \n",
       "4            58b01044-c5e5-4b0f-8a2d-6ebf951e01ff   \n",
       "...                                           ...   \n",
       "517          63bb6359-3945-4658-92eb-3072419953e4   \n",
       "518          94423ec1-21f8-40e8-b5c9-c3ea82350ca4   \n",
       "519          773b9b2e-70c8-40be-8cbb-e7b5abab360d   \n",
       "520          e5233a94-9e43-418c-8209-6f1400c31530   \n",
       "521          be884a28-0eac-4eca-9c23-1294a93cf56e   \n",
       "\n",
       "                                                 dataset_title   \n",
       "soma_joinid                                                      \n",
       "0                                                         Skin  \\\n",
       "1                                           Fallopian tube RNA   \n",
       "2                                                    Ovary RNA   \n",
       "3                                                        Ileum   \n",
       "4            A scRNA-seq atlas of immune cells at the CNS b...   \n",
       "...                                                        ...   \n",
       "517                                      UMAP of T-Cells cells   \n",
       "518                                      UMAP of Myeloid cells   \n",
       "519                                     UMAP of Columnar cells   \n",
       "520                                           UMAP of all data   \n",
       "521          Intratumoral heterogeneity in recurrent pediat...   \n",
       "\n",
       "                                     dataset_h5ad_path   \n",
       "soma_joinid                                              \n",
       "0            f512b8b6-369d-4a85-a695-116e0806857f.h5ad  \\\n",
       "1            90d4a63b-5c02-43eb-acde-c49345681601.h5ad   \n",
       "2            d1207c81-7309-43a7-a5a0-f4283670b62b.h5ad   \n",
       "3            36c867a7-be10-4e69-9b39-5de12b0af6da.h5ad   \n",
       "4            58b01044-c5e5-4b0f-8a2d-6ebf951e01ff.h5ad   \n",
       "...                                                ...   \n",
       "517          63bb6359-3945-4658-92eb-3072419953e4.h5ad   \n",
       "518          94423ec1-21f8-40e8-b5c9-c3ea82350ca4.h5ad   \n",
       "519          773b9b2e-70c8-40be-8cbb-e7b5abab360d.h5ad   \n",
       "520          e5233a94-9e43-418c-8209-6f1400c31530.h5ad   \n",
       "521          be884a28-0eac-4eca-9c23-1294a93cf56e.h5ad   \n",
       "\n",
       "             dataset_total_cell_count  \n",
       "soma_joinid                            \n",
       "0                               68036  \n",
       "1                               60574  \n",
       "2                               26134  \n",
       "3                               32458  \n",
       "4                              130908  \n",
       "...                               ...  \n",
       "517                             14970  \n",
       "518                              3282  \n",
       "519                             79522  \n",
       "520                            146583  \n",
       "521                             35637  \n",
       "\n",
       "[522 rows x 7 columns]"
      ]
     },
     "execution_count": 1,
     "metadata": {},
     "output_type": "execute_result"
    }
   ],
   "source": [
    "import cellxgene_census\n",
    "import tiledbsoma as soma\n",
    "\n",
    "census = cellxgene_census.open_soma()\n",
    "census_datasets = census[\"census_info\"][\"datasets\"].read().concat().to_pandas()\n",
    "\n",
    "# for convenience, indexing on the soma_joinid which links this to other census data.\n",
    "census_datasets = census_datasets.set_index(\"soma_joinid\")\n",
    "\n",
    "census_datasets"
   ]
  },
  {
   "cell_type": "markdown",
   "metadata": {},
   "source": [
    "The sum cells across all datasets should match the number of cells across all SOMA experiments (human, mouse)."
   ]
  },
  {
   "cell_type": "code",
   "execution_count": 2,
   "metadata": {
    "execution": {
     "iopub.execute_input": "2023-04-05T14:16:08.433551Z",
     "iopub.status.busy": "2023-04-05T14:16:08.433229Z",
     "iopub.status.idle": "2023-04-05T14:16:10.695889Z",
     "shell.execute_reply": "2023-04-05T14:16:10.694701Z"
    }
   },
   "outputs": [
    {
     "name": "stdout",
     "output_type": "stream",
     "text": [
      "Count by experiment:\n",
      "\t45501425 cells in homo_sapiens\n",
      "\t3922090 cells in mus_musculus\n",
      "\n",
      "Found 49423515 cells in all experiments.\n",
      "Found 49423515 cells in all datasets.\n"
     ]
    }
   ],
   "source": [
    "# Count cells across all experiments\n",
    "all_experiments = (\n",
    "    (organism_name, organism_experiment) for organism_name, organism_experiment in census[\"census_data\"].items()\n",
    ")\n",
    "experiments_total_cells = 0\n",
    "print(\"Count by experiment:\")\n",
    "for organism_name, organism_experiment in all_experiments:\n",
    "    num_cells = len(organism_experiment.obs.read(column_names=[\"soma_joinid\"]).concat().to_pandas())\n",
    "    print(f\"\\t{num_cells} cells in {organism_name}\")\n",
    "    experiments_total_cells += num_cells\n",
    "\n",
    "print(f\"\\nFound {experiments_total_cells} cells in all experiments.\")\n",
    "\n",
    "# Count cells across all datasets\n",
    "print(f\"Found {census_datasets.dataset_total_cell_count.sum()} cells in all datasets.\")"
   ]
  },
  {
   "cell_type": "markdown",
   "metadata": {},
   "source": [
    "Lets pick one dataset to slice out of the census, and turn into an [AnnData](https://anndata.readthedocs.io/en/latest/) in-memory object. This can be used with the [ScanPy](https://scanpy.readthedocs.io/en/stable/) toolchain. You can also save this AnnData locally using the AnnData [`write`](https://anndata.readthedocs.io/en/latest/api.html#writing) API."
   ]
  },
  {
   "cell_type": "code",
   "execution_count": 3,
   "metadata": {
    "execution": {
     "iopub.execute_input": "2023-04-05T14:16:10.698870Z",
     "iopub.status.busy": "2023-04-05T14:16:10.698723Z",
     "iopub.status.idle": "2023-04-05T14:16:10.705249Z",
     "shell.execute_reply": "2023-04-05T14:16:10.704865Z"
    }
   },
   "outputs": [
    {
     "data": {
      "text/html": [
       "<div>\n",
       "<style scoped>\n",
       "    .dataframe tbody tr th:only-of-type {\n",
       "        vertical-align: middle;\n",
       "    }\n",
       "\n",
       "    .dataframe tbody tr th {\n",
       "        vertical-align: top;\n",
       "    }\n",
       "\n",
       "    .dataframe thead th {\n",
       "        text-align: right;\n",
       "    }\n",
       "</style>\n",
       "<table border=\"1\" class=\"dataframe\">\n",
       "  <thead>\n",
       "    <tr style=\"text-align: right;\">\n",
       "      <th></th>\n",
       "      <th>collection_id</th>\n",
       "      <th>collection_name</th>\n",
       "      <th>collection_doi</th>\n",
       "      <th>dataset_id</th>\n",
       "      <th>dataset_title</th>\n",
       "      <th>dataset_h5ad_path</th>\n",
       "      <th>dataset_total_cell_count</th>\n",
       "    </tr>\n",
       "    <tr>\n",
       "      <th>soma_joinid</th>\n",
       "      <th></th>\n",
       "      <th></th>\n",
       "      <th></th>\n",
       "      <th></th>\n",
       "      <th></th>\n",
       "      <th></th>\n",
       "      <th></th>\n",
       "    </tr>\n",
       "  </thead>\n",
       "  <tbody>\n",
       "    <tr>\n",
       "      <th>338</th>\n",
       "      <td>0b9d8a04-bb9d-44da-aa27-705bb65b54eb</td>\n",
       "      <td>Tabula Muris Senis</td>\n",
       "      <td>10.1038/s41586-020-2496-1</td>\n",
       "      <td>0bd1a1de-3aee-40e0-b2ec-86c7a30c7149</td>\n",
       "      <td>Bone marrow - A single-cell transcriptomic atl...</td>\n",
       "      <td>0bd1a1de-3aee-40e0-b2ec-86c7a30c7149.h5ad</td>\n",
       "      <td>40220</td>\n",
       "    </tr>\n",
       "  </tbody>\n",
       "</table>\n",
       "</div>"
      ],
      "text/plain": [
       "                                    collection_id     collection_name   \n",
       "soma_joinid                                                             \n",
       "338          0b9d8a04-bb9d-44da-aa27-705bb65b54eb  Tabula Muris Senis  \\\n",
       "\n",
       "                        collection_doi                            dataset_id   \n",
       "soma_joinid                                                                    \n",
       "338          10.1038/s41586-020-2496-1  0bd1a1de-3aee-40e0-b2ec-86c7a30c7149  \\\n",
       "\n",
       "                                                 dataset_title   \n",
       "soma_joinid                                                      \n",
       "338          Bone marrow - A single-cell transcriptomic atl...  \\\n",
       "\n",
       "                                     dataset_h5ad_path   \n",
       "soma_joinid                                              \n",
       "338          0bd1a1de-3aee-40e0-b2ec-86c7a30c7149.h5ad  \\\n",
       "\n",
       "             dataset_total_cell_count  \n",
       "soma_joinid                            \n",
       "338                             40220  "
      ]
     },
     "execution_count": 3,
     "metadata": {},
     "output_type": "execute_result"
    }
   ],
   "source": [
    "census_datasets[census_datasets.dataset_id == \"0bd1a1de-3aee-40e0-b2ec-86c7a30c7149\"]"
   ]
  },
  {
   "cell_type": "markdown",
   "metadata": {},
   "source": [
    "Create a query on the mouse experiment, \"RNA\" measurement, for the dataset_id."
   ]
  },
  {
   "cell_type": "code",
   "execution_count": 4,
   "metadata": {
    "execution": {
     "iopub.execute_input": "2023-04-05T14:16:10.708327Z",
     "iopub.status.busy": "2023-04-05T14:16:10.708138Z",
     "iopub.status.idle": "2023-04-05T14:16:16.535563Z",
     "shell.execute_reply": "2023-04-05T14:16:16.534127Z"
    }
   },
   "outputs": [
    {
     "data": {
      "text/plain": [
       "AnnData object with n_obs × n_vars = 40220 × 52392\n",
       "    obs: 'soma_joinid', 'dataset_id', 'assay', 'assay_ontology_term_id', 'cell_type', 'cell_type_ontology_term_id', 'development_stage', 'development_stage_ontology_term_id', 'disease', 'disease_ontology_term_id', 'donor_id', 'is_primary_data', 'self_reported_ethnicity', 'self_reported_ethnicity_ontology_term_id', 'sex', 'sex_ontology_term_id', 'suspension_type', 'tissue', 'tissue_ontology_term_id', 'tissue_general', 'tissue_general_ontology_term_id'\n",
       "    var: 'soma_joinid', 'feature_id', 'feature_name', 'feature_length'"
      ]
     },
     "execution_count": 4,
     "metadata": {},
     "output_type": "execute_result"
    }
   ],
   "source": [
    "mouse = census[\"census_data\"][\"mus_musculus\"]\n",
    "with mouse.axis_query(\n",
    "    \"RNA\",\n",
    "    obs_query=soma.AxisQuery(value_filter=\"dataset_id == '0bd1a1de-3aee-40e0-b2ec-86c7a30c7149'\"),\n",
    ") as query:\n",
    "    adata = query.to_anndata(\"raw\")\n",
    "\n",
    "adata"
   ]
  },
  {
   "attachments": {},
   "cell_type": "markdown",
   "metadata": {},
   "source": [
    "You can also use the `cellxgene_census.get_h5ad_uri()` API to fetch a URI pointing to the H5AD associated with this `dataset_id`. This is the same H5AD you can download from the CELLxGENE Portal, and may contain additional data-submitter provided information which was not included in the Census.\n",
    "\n",
    "The \"locator\" returned by this API will include a `uri` and additional information that may be necessary to use the URI (eg, the S3 region).\n",
    "\n",
    "You will need to use a download API to fetch this H5AD, such as [`fsspec`](https://filesystem-spec.readthedocs.io/en/latest/)."
   ]
  },
  {
   "cell_type": "code",
   "execution_count": 5,
   "metadata": {
    "execution": {
     "iopub.execute_input": "2023-04-05T14:16:16.538348Z",
     "iopub.status.busy": "2023-04-05T14:16:16.538198Z",
     "iopub.status.idle": "2023-04-05T14:16:17.522754Z",
     "shell.execute_reply": "2023-04-05T14:16:17.521535Z"
    }
   },
   "outputs": [
    {
     "data": {
      "text/plain": [
       "{'uri': 's3://cellxgene-data-public/cell-census/2023-04-04/h5ads/0bd1a1de-3aee-40e0-b2ec-86c7a30c7149.h5ad',\n",
       " 's3_region': 'us-west-2'}"
      ]
     },
     "execution_count": 5,
     "metadata": {},
     "output_type": "execute_result"
    }
   ],
   "source": [
    "uri = cellxgene_census.get_source_h5ad_uri(\"0bd1a1de-3aee-40e0-b2ec-86c7a30c7149\")\n",
    "\n",
    "uri"
   ]
  },
  {
   "attachments": {},
   "cell_type": "markdown",
   "metadata": {},
   "source": [
    "Close the census"
   ]
  },
  {
   "cell_type": "code",
   "execution_count": 6,
   "metadata": {
    "execution": {
     "iopub.execute_input": "2023-04-05T14:16:17.526268Z",
     "iopub.status.busy": "2023-04-05T14:16:17.525298Z",
     "iopub.status.idle": "2023-04-05T14:16:17.530894Z",
     "shell.execute_reply": "2023-04-05T14:16:17.529051Z"
    }
   },
   "outputs": [],
   "source": [
    "census.close()"
   ]
  }
 ],
 "metadata": {
  "kernelspec": {
   "display_name": "Python 3 (ipykernel)",
   "language": "python",
   "name": "python3"
  },
  "language_info": {
   "codemirror_mode": {
    "name": "ipython",
    "version": 3
   },
   "file_extension": ".py",
   "mimetype": "text/x-python",
   "name": "python",
   "nbconvert_exporter": "python",
   "pygments_lexer": "ipython3",
   "version": "3.10.6"
  },
  "vscode": {
   "interpreter": {
    "hash": "3da8ec1c162cd849e59e6ea2824b2e353dce799884e910aae99411be5277f953"
   }
  }
 },
 "nbformat": 4,
 "nbformat_minor": 2
}
