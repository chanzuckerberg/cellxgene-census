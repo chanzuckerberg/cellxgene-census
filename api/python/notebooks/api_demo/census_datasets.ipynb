{
 "cells": [
  {
   "cell_type": "markdown",
   "metadata": {},
   "source": [
    "# Census Datasets example\n",
    "\n",
    "*Goal:* demonstrate basic use of the `census_datasets` dataframe.\n",
    "\n",
    "Each Cell Census contains a top-level dataframe itemizing the datasets contained therein. You can read this into a Pandas DataFrame:"
   ]
  },
  {
   "cell_type": "code",
   "execution_count": 1,
   "metadata": {
    "execution": {
     "iopub.execute_input": "2023-01-31T19:41:29.164091Z",
     "iopub.status.busy": "2023-01-31T19:41:29.163787Z",
     "iopub.status.idle": "2023-01-31T19:41:30.759336Z",
     "shell.execute_reply": "2023-01-31T19:41:30.758203Z"
    }
   },
   "outputs": [
    {
     "data": {
      "text/html": [
       "<div>\n",
       "<style scoped>\n",
       "    .dataframe tbody tr th:only-of-type {\n",
       "        vertical-align: middle;\n",
       "    }\n",
       "\n",
       "    .dataframe tbody tr th {\n",
       "        vertical-align: top;\n",
       "    }\n",
       "\n",
       "    .dataframe thead th {\n",
       "        text-align: right;\n",
       "    }\n",
       "</style>\n",
       "<table border=\"1\" class=\"dataframe\">\n",
       "  <thead>\n",
       "    <tr style=\"text-align: right;\">\n",
       "      <th></th>\n",
       "      <th>collection_id</th>\n",
       "      <th>collection_name</th>\n",
       "      <th>collection_doi</th>\n",
       "      <th>dataset_id</th>\n",
       "      <th>dataset_title</th>\n",
       "      <th>dataset_h5ad_path</th>\n",
       "      <th>dataset_total_cell_count</th>\n",
       "    </tr>\n",
       "    <tr>\n",
       "      <th>soma_joinid</th>\n",
       "      <th></th>\n",
       "      <th></th>\n",
       "      <th></th>\n",
       "      <th></th>\n",
       "      <th></th>\n",
       "      <th></th>\n",
       "      <th></th>\n",
       "    </tr>\n",
       "  </thead>\n",
       "  <tbody>\n",
       "    <tr>\n",
       "      <th>0</th>\n",
       "      <td></td>\n",
       "      <td></td>\n",
       "      <td></td>\n",
       "      <td>d2fc9880-e6d3-4922-af5c-61f4f517adfa</td>\n",
       "      <td></td>\n",
       "      <td>d2fc9880-e6d3-4922-af5c-61f4f517adfa.h5ad</td>\n",
       "      <td>99369</td>\n",
       "    </tr>\n",
       "    <tr>\n",
       "      <th>1</th>\n",
       "      <td></td>\n",
       "      <td></td>\n",
       "      <td></td>\n",
       "      <td>f75f2ff4-2884-4c2d-b375-70de37a34507</td>\n",
       "      <td></td>\n",
       "      <td>f75f2ff4-2884-4c2d-b375-70de37a34507.h5ad</td>\n",
       "      <td>3799</td>\n",
       "    </tr>\n",
       "    <tr>\n",
       "      <th>2</th>\n",
       "      <td></td>\n",
       "      <td></td>\n",
       "      <td></td>\n",
       "      <td>703f00e6-b996-48e5-bc34-00c41b9876f4</td>\n",
       "      <td></td>\n",
       "      <td>703f00e6-b996-48e5-bc34-00c41b9876f4.h5ad</td>\n",
       "      <td>649</td>\n",
       "    </tr>\n",
       "    <tr>\n",
       "      <th>3</th>\n",
       "      <td></td>\n",
       "      <td></td>\n",
       "      <td></td>\n",
       "      <td>cdefb878-7f00-4b9d-9eda-b3652cfac0c8</td>\n",
       "      <td></td>\n",
       "      <td>cdefb878-7f00-4b9d-9eda-b3652cfac0c8.h5ad</td>\n",
       "      <td>1641</td>\n",
       "    </tr>\n",
       "    <tr>\n",
       "      <th>4</th>\n",
       "      <td></td>\n",
       "      <td></td>\n",
       "      <td></td>\n",
       "      <td>fd072bc3-2dfb-46f8-b4e3-467cb3223182</td>\n",
       "      <td></td>\n",
       "      <td>fd072bc3-2dfb-46f8-b4e3-467cb3223182.h5ad</td>\n",
       "      <td>908046</td>\n",
       "    </tr>\n",
       "    <tr>\n",
       "      <th>...</th>\n",
       "      <td>...</td>\n",
       "      <td>...</td>\n",
       "      <td>...</td>\n",
       "      <td>...</td>\n",
       "      <td>...</td>\n",
       "      <td>...</td>\n",
       "      <td>...</td>\n",
       "    </tr>\n",
       "    <tr>\n",
       "      <th>469</th>\n",
       "      <td></td>\n",
       "      <td></td>\n",
       "      <td></td>\n",
       "      <td>2adb1f8a-a6b1-4909-8ee8-484814e2d4bf</td>\n",
       "      <td></td>\n",
       "      <td>2adb1f8a-a6b1-4909-8ee8-484814e2d4bf.h5ad</td>\n",
       "      <td>598266</td>\n",
       "    </tr>\n",
       "    <tr>\n",
       "      <th>470</th>\n",
       "      <td></td>\n",
       "      <td></td>\n",
       "      <td></td>\n",
       "      <td>2190bd4d-3be0-4bf7-8ca8-8d6f71228936</td>\n",
       "      <td></td>\n",
       "      <td>2190bd4d-3be0-4bf7-8ca8-8d6f71228936.h5ad</td>\n",
       "      <td>126782</td>\n",
       "    </tr>\n",
       "    <tr>\n",
       "      <th>471</th>\n",
       "      <td></td>\n",
       "      <td></td>\n",
       "      <td></td>\n",
       "      <td>1a018108-b4b6-457b-ba15-046d5e98c169</td>\n",
       "      <td></td>\n",
       "      <td>1a018108-b4b6-457b-ba15-046d5e98c169.h5ad</td>\n",
       "      <td>21534</td>\n",
       "    </tr>\n",
       "    <tr>\n",
       "      <th>472</th>\n",
       "      <td></td>\n",
       "      <td></td>\n",
       "      <td></td>\n",
       "      <td>76544818-bc5b-4a0d-87d4-40dde89545cb</td>\n",
       "      <td></td>\n",
       "      <td>76544818-bc5b-4a0d-87d4-40dde89545cb.h5ad</td>\n",
       "      <td>6777</td>\n",
       "    </tr>\n",
       "    <tr>\n",
       "      <th>473</th>\n",
       "      <td></td>\n",
       "      <td></td>\n",
       "      <td></td>\n",
       "      <td>d4cfefa0-3a35-44eb-b848-d7a725b481e7</td>\n",
       "      <td></td>\n",
       "      <td>d4cfefa0-3a35-44eb-b848-d7a725b481e7.h5ad</td>\n",
       "      <td>9778</td>\n",
       "    </tr>\n",
       "  </tbody>\n",
       "</table>\n",
       "<p>474 rows × 7 columns</p>\n",
       "</div>"
      ],
      "text/plain": [
       "            collection_id collection_name collection_doi  \\\n",
       "soma_joinid                                                \n",
       "0                                                          \n",
       "1                                                          \n",
       "2                                                          \n",
       "3                                                          \n",
       "4                                                          \n",
       "...                   ...             ...            ...   \n",
       "469                                                        \n",
       "470                                                        \n",
       "471                                                        \n",
       "472                                                        \n",
       "473                                                        \n",
       "\n",
       "                                       dataset_id dataset_title  \\\n",
       "soma_joinid                                                       \n",
       "0            d2fc9880-e6d3-4922-af5c-61f4f517adfa                 \n",
       "1            f75f2ff4-2884-4c2d-b375-70de37a34507                 \n",
       "2            703f00e6-b996-48e5-bc34-00c41b9876f4                 \n",
       "3            cdefb878-7f00-4b9d-9eda-b3652cfac0c8                 \n",
       "4            fd072bc3-2dfb-46f8-b4e3-467cb3223182                 \n",
       "...                                           ...           ...   \n",
       "469          2adb1f8a-a6b1-4909-8ee8-484814e2d4bf                 \n",
       "470          2190bd4d-3be0-4bf7-8ca8-8d6f71228936                 \n",
       "471          1a018108-b4b6-457b-ba15-046d5e98c169                 \n",
       "472          76544818-bc5b-4a0d-87d4-40dde89545cb                 \n",
       "473          d4cfefa0-3a35-44eb-b848-d7a725b481e7                 \n",
       "\n",
       "                                     dataset_h5ad_path  \\\n",
       "soma_joinid                                              \n",
       "0            d2fc9880-e6d3-4922-af5c-61f4f517adfa.h5ad   \n",
       "1            f75f2ff4-2884-4c2d-b375-70de37a34507.h5ad   \n",
       "2            703f00e6-b996-48e5-bc34-00c41b9876f4.h5ad   \n",
       "3            cdefb878-7f00-4b9d-9eda-b3652cfac0c8.h5ad   \n",
       "4            fd072bc3-2dfb-46f8-b4e3-467cb3223182.h5ad   \n",
       "...                                                ...   \n",
       "469          2adb1f8a-a6b1-4909-8ee8-484814e2d4bf.h5ad   \n",
       "470          2190bd4d-3be0-4bf7-8ca8-8d6f71228936.h5ad   \n",
       "471          1a018108-b4b6-457b-ba15-046d5e98c169.h5ad   \n",
       "472          76544818-bc5b-4a0d-87d4-40dde89545cb.h5ad   \n",
       "473          d4cfefa0-3a35-44eb-b848-d7a725b481e7.h5ad   \n",
       "\n",
       "             dataset_total_cell_count  \n",
       "soma_joinid                            \n",
       "0                               99369  \n",
       "1                                3799  \n",
       "2                                 649  \n",
       "3                                1641  \n",
       "4                              908046  \n",
       "...                               ...  \n",
       "469                            598266  \n",
       "470                            126782  \n",
       "471                             21534  \n",
       "472                              6777  \n",
       "473                              9778  \n",
       "\n",
       "[474 rows x 7 columns]"
      ]
     },
     "execution_count": 1,
     "metadata": {},
     "output_type": "execute_result"
    }
   ],
   "source": [
    "import cell_census\n",
    "import tiledbsoma as soma\n",
    "\n",
    "census = cell_census.open_soma()\n",
    "census_datasets = census[\"census_info\"][\"datasets\"].read().concat().to_pandas()\n",
    "\n",
    "# for convenience, indexing on the soma_joinid which links this to other census data.\n",
    "census_datasets = census_datasets.set_index(\"soma_joinid\")\n",
    "census_datasets"
   ]
  },
  {
   "cell_type": "markdown",
   "metadata": {},
   "source": [
    "The sum cells across all datasets should match the number of cells across all SOMA experiments (human, mouse)."
   ]
  },
  {
   "cell_type": "code",
   "execution_count": 2,
   "metadata": {
    "execution": {
     "iopub.execute_input": "2023-01-31T19:41:30.762842Z",
     "iopub.status.busy": "2023-01-31T19:41:30.762547Z",
     "iopub.status.idle": "2023-01-31T19:41:33.177878Z",
     "shell.execute_reply": "2023-01-31T19:41:33.177425Z"
    }
   },
   "outputs": [
    {
     "name": "stdout",
     "output_type": "stream",
     "text": [
      "Count by experiment:\n",
      "\t43246174 cells in homo_sapiens\n",
      "\t3922090 cells in mus_musculus\n",
      "\n",
      "Found 47168264 cells in all experiments.\n",
      "Found 47168264 cells in all datasets.\n"
     ]
    }
   ],
   "source": [
    "# Count cells across all experiments\n",
    "all_experiments = (\n",
    "    (organism_name, organism_experiment) for organism_name, organism_experiment in census[\"census_data\"].items()\n",
    ")\n",
    "experiments_total_cells = 0\n",
    "print(\"Count by experiment:\")\n",
    "for organism_name, organism_experiment in all_experiments:\n",
    "    num_cells = len(organism_experiment.obs.read(column_names=[\"soma_joinid\"]).concat().to_pandas())\n",
    "    print(f\"\\t{num_cells} cells in {organism_name}\")\n",
    "    experiments_total_cells += num_cells\n",
    "\n",
    "print(f\"\\nFound {experiments_total_cells} cells in all experiments.\")\n",
    "\n",
    "# Count cells across all datasets\n",
    "print(f\"Found {census_datasets.dataset_total_cell_count.sum()} cells in all datasets.\")"
   ]
  },
  {
   "cell_type": "markdown",
   "metadata": {},
   "source": [
    "Lets pick one dataset to slice out of the census, and turn into an [AnnData](https://anndata.readthedocs.io/en/latest/) in-memory object. This can be used with the [ScanPy](https://scanpy.readthedocs.io/en/stable/) toolchain. You can also save this AnnData locally using the AnnData [`write`](https://anndata.readthedocs.io/en/latest/api.html#writing) API."
   ]
  },
  {
   "cell_type": "code",
   "execution_count": 3,
   "metadata": {
    "execution": {
     "iopub.execute_input": "2023-01-31T19:41:33.179758Z",
     "iopub.status.busy": "2023-01-31T19:41:33.179607Z",
     "iopub.status.idle": "2023-01-31T19:41:33.186692Z",
     "shell.execute_reply": "2023-01-31T19:41:33.185975Z"
    }
   },
   "outputs": [
    {
     "data": {
      "text/html": [
       "<div>\n",
       "<style scoped>\n",
       "    .dataframe tbody tr th:only-of-type {\n",
       "        vertical-align: middle;\n",
       "    }\n",
       "\n",
       "    .dataframe tbody tr th {\n",
       "        vertical-align: top;\n",
       "    }\n",
       "\n",
       "    .dataframe thead th {\n",
       "        text-align: right;\n",
       "    }\n",
       "</style>\n",
       "<table border=\"1\" class=\"dataframe\">\n",
       "  <thead>\n",
       "    <tr style=\"text-align: right;\">\n",
       "      <th></th>\n",
       "      <th>collection_id</th>\n",
       "      <th>collection_name</th>\n",
       "      <th>collection_doi</th>\n",
       "      <th>dataset_id</th>\n",
       "      <th>dataset_title</th>\n",
       "      <th>dataset_h5ad_path</th>\n",
       "      <th>dataset_total_cell_count</th>\n",
       "    </tr>\n",
       "    <tr>\n",
       "      <th>soma_joinid</th>\n",
       "      <th></th>\n",
       "      <th></th>\n",
       "      <th></th>\n",
       "      <th></th>\n",
       "      <th></th>\n",
       "      <th></th>\n",
       "      <th></th>\n",
       "    </tr>\n",
       "  </thead>\n",
       "  <tbody>\n",
       "    <tr>\n",
       "      <th>406</th>\n",
       "      <td></td>\n",
       "      <td></td>\n",
       "      <td></td>\n",
       "      <td>0bd1a1de-3aee-40e0-b2ec-86c7a30c7149</td>\n",
       "      <td></td>\n",
       "      <td>0bd1a1de-3aee-40e0-b2ec-86c7a30c7149.h5ad</td>\n",
       "      <td>40220</td>\n",
       "    </tr>\n",
       "  </tbody>\n",
       "</table>\n",
       "</div>"
      ],
      "text/plain": [
       "            collection_id collection_name collection_doi  \\\n",
       "soma_joinid                                                \n",
       "406                                                        \n",
       "\n",
       "                                       dataset_id dataset_title  \\\n",
       "soma_joinid                                                       \n",
       "406          0bd1a1de-3aee-40e0-b2ec-86c7a30c7149                 \n",
       "\n",
       "                                     dataset_h5ad_path  \\\n",
       "soma_joinid                                              \n",
       "406          0bd1a1de-3aee-40e0-b2ec-86c7a30c7149.h5ad   \n",
       "\n",
       "             dataset_total_cell_count  \n",
       "soma_joinid                            \n",
       "406                             40220  "
      ]
     },
     "execution_count": 3,
     "metadata": {},
     "output_type": "execute_result"
    }
   ],
   "source": [
    "census_datasets[census_datasets.dataset_id == \"0bd1a1de-3aee-40e0-b2ec-86c7a30c7149\"]"
   ]
  },
  {
   "cell_type": "markdown",
   "metadata": {},
   "source": [
    "Create a query on the mouse experiment, \"RNA\" measurement, for the dataset_id."
   ]
  },
  {
   "cell_type": "code",
   "execution_count": 4,
   "metadata": {
    "execution": {
     "iopub.execute_input": "2023-01-31T19:41:33.188924Z",
     "iopub.status.busy": "2023-01-31T19:41:33.188788Z",
     "iopub.status.idle": "2023-01-31T19:41:40.306984Z",
     "shell.execute_reply": "2023-01-31T19:41:40.305586Z"
    }
   },
   "outputs": [
    {
     "data": {
      "text/plain": [
       "AnnData object with n_obs × n_vars = 40220 × 52392\n",
       "    obs: 'soma_joinid', 'dataset_id', 'assay', 'assay_ontology_term_id', 'cell_type', 'cell_type_ontology_term_id', 'development_stage', 'development_stage_ontology_term_id', 'disease', 'disease_ontology_term_id', 'donor_id', 'is_primary_data', 'self_reported_ethnicity', 'self_reported_ethnicity_ontology_term_id', 'sex', 'sex_ontology_term_id', 'suspension_type', 'tissue', 'tissue_ontology_term_id', 'tissue_general', 'tissue_general_ontology_term_id'\n",
       "    var: 'soma_joinid', 'feature_id', 'feature_name', 'feature_length'"
      ]
     },
     "execution_count": 4,
     "metadata": {},
     "output_type": "execute_result"
    }
   ],
   "source": [
    "mouse = census[\"census_data\"][\"mus_musculus\"]\n",
    "with mouse.axis_query(\n",
    "    \"RNA\",\n",
    "    obs_query=soma.AxisQuery(value_filter=\"dataset_id == '0bd1a1de-3aee-40e0-b2ec-86c7a30c7149'\"),\n",
    ") as query:\n",
    "    adata = query.to_anndata(\"raw\")\n",
    "\n",
    "adata"
   ]
  },
  {
   "cell_type": "markdown",
   "metadata": {},
   "source": [
    "You can also use the `cell_census.get_h5ad_uri()` API to fetch a URI pointing to the H5AD associated with this `dataset_id`. This is the same H5AD you can download from the CELLxGENE Portal, and may contain additional data-submittor provided information which was not included in the Cell Census.\n",
    "\n",
    "The \"locator\" returned by this API will include a `uri` and additional information that may be necessary to use the URI (eg, the S3 region).\n",
    "\n",
    "You will need to use a download API to fetch this H5AD, such as [`fsspec`](https://filesystem-spec.readthedocs.io/en/latest/)."
   ]
  },
  {
   "cell_type": "code",
   "execution_count": 5,
   "metadata": {
    "execution": {
     "iopub.execute_input": "2023-01-31T19:41:40.310107Z",
     "iopub.status.busy": "2023-01-31T19:41:40.309948Z",
     "iopub.status.idle": "2023-01-31T19:41:41.207468Z",
     "shell.execute_reply": "2023-01-31T19:41:41.206578Z"
    }
   },
   "outputs": [
    {
     "data": {
      "text/plain": [
       "{'uri': 's3://cellxgene-data-public/cell-census/2023-01-30/h5ads/0bd1a1de-3aee-40e0-b2ec-86c7a30c7149.h5ad',\n",
       " 's3_region': 'us-west-2'}"
      ]
     },
     "execution_count": 5,
     "metadata": {},
     "output_type": "execute_result"
    }
   ],
   "source": [
    "cell_census.get_source_h5ad_uri(\"0bd1a1de-3aee-40e0-b2ec-86c7a30c7149\")"
   ]
  }
 ],
 "metadata": {
  "kernelspec": {
   "display_name": "Python 3 (ipykernel)",
   "language": "python",
   "name": "python3"
  },
  "language_info": {
   "codemirror_mode": {
    "name": "ipython",
    "version": 3
   },
   "file_extension": ".py",
   "mimetype": "text/x-python",
   "name": "python",
   "nbconvert_exporter": "python",
   "pygments_lexer": "ipython3",
   "version": "3.10.6"
  },
  "vscode": {
   "interpreter": {
    "hash": "3da8ec1c162cd849e59e6ea2824b2e353dce799884e910aae99411be5277f953"
   }
  }
 },
 "nbformat": 4,
 "nbformat_minor": 2
}
