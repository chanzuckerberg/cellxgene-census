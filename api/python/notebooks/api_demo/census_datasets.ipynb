{
 "cells": [
  {
   "cell_type": "markdown",
   "metadata": {},
   "source": [
    "# Census Datasets example\n",
    "\n",
    "*Goal:* demonstrate basic use of the `census_datasets` dataframe.\n",
    "\n",
    "Each Cell Census contains a top-level dataframe itemizing the datasets contained therein. You can read this into a Pandas DataFrame:"
   ]
  },
  {
   "cell_type": "code",
   "execution_count": 1,
   "metadata": {
    "execution": {
     "iopub.execute_input": "2023-01-31T19:41:29.164091Z",
     "iopub.status.busy": "2023-01-31T19:41:29.163787Z",
     "iopub.status.idle": "2023-01-31T19:41:30.759336Z",
     "shell.execute_reply": "2023-01-31T19:41:30.758203Z"
    }
   },
   "outputs": [
    {
     "data": {
      "text/html": [
       "<div>\n",
       "<style scoped>\n",
       "    .dataframe tbody tr th:only-of-type {\n",
       "        vertical-align: middle;\n",
       "    }\n",
       "\n",
       "    .dataframe tbody tr th {\n",
       "        vertical-align: top;\n",
       "    }\n",
       "\n",
       "    .dataframe thead th {\n",
       "        text-align: right;\n",
       "    }\n",
       "</style>\n",
       "<table border=\"1\" class=\"dataframe\">\n",
       "  <thead>\n",
       "    <tr style=\"text-align: right;\">\n",
       "      <th></th>\n",
       "      <th>collection_id</th>\n",
       "      <th>collection_name</th>\n",
       "      <th>collection_doi</th>\n",
       "      <th>dataset_id</th>\n",
       "      <th>dataset_title</th>\n",
       "      <th>dataset_h5ad_path</th>\n",
       "      <th>dataset_total_cell_count</th>\n",
       "    </tr>\n",
       "    <tr>\n",
       "      <th>soma_joinid</th>\n",
       "      <th></th>\n",
       "      <th></th>\n",
       "      <th></th>\n",
       "      <th></th>\n",
       "      <th></th>\n",
       "      <th></th>\n",
       "      <th></th>\n",
       "    </tr>\n",
       "  </thead>\n",
       "  <tbody>\n",
       "    <tr>\n",
       "      <th>0</th>\n",
       "      <td>43d4bb39-21af-4d05-b973-4c1fed7b916c</td>\n",
       "      <td>Transcriptional Programming of Normal and Infl...</td>\n",
       "      <td>10.1016/j.celrep.2018.09.006</td>\n",
       "      <td>f512b8b6-369d-4a85-a695-116e0806857f</td>\n",
       "      <td>Skin</td>\n",
       "      <td>f512b8b6-369d-4a85-a695-116e0806857f.h5ad</td>\n",
       "      <td>68036</td>\n",
       "    </tr>\n",
       "    <tr>\n",
       "      <th>1</th>\n",
       "      <td>03cdc7f4-bd08-49d0-a395-4487c0e5a168</td>\n",
       "      <td>Emphysema Cell Atlas</td>\n",
       "      <td></td>\n",
       "      <td>1e5bd3b8-6a0e-4959-8d69-cafed30fe814</td>\n",
       "      <td>immune cells</td>\n",
       "      <td>1e5bd3b8-6a0e-4959-8d69-cafed30fe814.h5ad</td>\n",
       "      <td>35699</td>\n",
       "    </tr>\n",
       "    <tr>\n",
       "      <th>2</th>\n",
       "      <td>03cdc7f4-bd08-49d0-a395-4487c0e5a168</td>\n",
       "      <td>Emphysema Cell Atlas</td>\n",
       "      <td></td>\n",
       "      <td>214bf9eb-93db-48c8-8e3c-9bb22fa3bc63</td>\n",
       "      <td>AT2 cells</td>\n",
       "      <td>214bf9eb-93db-48c8-8e3c-9bb22fa3bc63.h5ad</td>\n",
       "      <td>3662</td>\n",
       "    </tr>\n",
       "    <tr>\n",
       "      <th>3</th>\n",
       "      <td>03cdc7f4-bd08-49d0-a395-4487c0e5a168</td>\n",
       "      <td>Emphysema Cell Atlas</td>\n",
       "      <td></td>\n",
       "      <td>4b6af54a-4a21-46e0-bc8d-673c0561a836</td>\n",
       "      <td>non-immune cells</td>\n",
       "      <td>4b6af54a-4a21-46e0-bc8d-673c0561a836.h5ad</td>\n",
       "      <td>18386</td>\n",
       "    </tr>\n",
       "    <tr>\n",
       "      <th>4</th>\n",
       "      <td>0434a9d4-85fd-4554-b8e3-cf6c582bb2fa</td>\n",
       "      <td>Acute COVID-19 cohort across a range of WHO ca...</td>\n",
       "      <td>10.1101/2020.11.20.20227355</td>\n",
       "      <td>fa8605cf-f27e-44af-ac2a-476bee4410d3</td>\n",
       "      <td>PBMCs</td>\n",
       "      <td>fa8605cf-f27e-44af-ac2a-476bee4410d3.h5ad</td>\n",
       "      <td>59506</td>\n",
       "    </tr>\n",
       "    <tr>\n",
       "      <th>...</th>\n",
       "      <td>...</td>\n",
       "      <td>...</td>\n",
       "      <td>...</td>\n",
       "      <td>...</td>\n",
       "      <td>...</td>\n",
       "      <td>...</td>\n",
       "      <td>...</td>\n",
       "    </tr>\n",
       "    <tr>\n",
       "      <th>485</th>\n",
       "      <td>93eebe82-d8c3-41bc-a906-63b5b5f24a9d</td>\n",
       "      <td>Single-cell proteo-genomic reference maps of t...</td>\n",
       "      <td>10.1038/s41590-021-01059-0</td>\n",
       "      <td>cd4c96bb-ad66-4e83-ba9e-a7df8790eb12</td>\n",
       "      <td>3 healthy young and 3 healthy old bone marrow ...</td>\n",
       "      <td>cd4c96bb-ad66-4e83-ba9e-a7df8790eb12.h5ad</td>\n",
       "      <td>49057</td>\n",
       "    </tr>\n",
       "    <tr>\n",
       "      <th>486</th>\n",
       "      <td>93eebe82-d8c3-41bc-a906-63b5b5f24a9d</td>\n",
       "      <td>Single-cell proteo-genomic reference maps of t...</td>\n",
       "      <td>10.1038/s41590-021-01059-0</td>\n",
       "      <td>c05fb583-eb2f-4e3a-8e74-f9bd6414e418</td>\n",
       "      <td>healthy young bone marrow donor</td>\n",
       "      <td>c05fb583-eb2f-4e3a-8e74-f9bd6414e418.h5ad</td>\n",
       "      <td>13165</td>\n",
       "    </tr>\n",
       "    <tr>\n",
       "      <th>487</th>\n",
       "      <td>f70ebd97-b3bc-44fe-849d-c18e08fe773d</td>\n",
       "      <td>A transcriptomic atlas of the mouse cerebellum...</td>\n",
       "      <td>10.1101/2020.03.04.976407</td>\n",
       "      <td>e0ed3c55-aff6-4bb7-b6ff-98a2d90b890c</td>\n",
       "      <td>A transcriptomic atlas of the mouse cerebellum</td>\n",
       "      <td>e0ed3c55-aff6-4bb7-b6ff-98a2d90b890c.h5ad</td>\n",
       "      <td>611034</td>\n",
       "    </tr>\n",
       "    <tr>\n",
       "      <th>488</th>\n",
       "      <td>17481d16-ee44-49e5-bcf0-28c0780d8c4a</td>\n",
       "      <td>Single-Cell Sequencing of Developing Human Gut...</td>\n",
       "      <td>10.1016/j.devcel.2020.11.010</td>\n",
       "      <td>8e47ed12-c658-4252-b126-381df8d52a3d</td>\n",
       "      <td>Paediatric Human Gut (4-14y)</td>\n",
       "      <td>8e47ed12-c658-4252-b126-381df8d52a3d.h5ad</td>\n",
       "      <td>22502</td>\n",
       "    </tr>\n",
       "    <tr>\n",
       "      <th>489</th>\n",
       "      <td>17481d16-ee44-49e5-bcf0-28c0780d8c4a</td>\n",
       "      <td>Single-Cell Sequencing of Developing Human Gut...</td>\n",
       "      <td>10.1016/j.devcel.2020.11.010</td>\n",
       "      <td>b46237d1-19c6-4af2-9335-9854634bad16</td>\n",
       "      <td>Fetal Human Gut (6-11 PCW)</td>\n",
       "      <td>b46237d1-19c6-4af2-9335-9854634bad16.h5ad</td>\n",
       "      <td>62849</td>\n",
       "    </tr>\n",
       "  </tbody>\n",
       "</table>\n",
       "<p>490 rows × 7 columns</p>\n",
       "</div>"
      ],
      "text/plain": [
       "                                    collection_id  \\\n",
       "soma_joinid                                         \n",
       "0            43d4bb39-21af-4d05-b973-4c1fed7b916c   \n",
       "1            03cdc7f4-bd08-49d0-a395-4487c0e5a168   \n",
       "2            03cdc7f4-bd08-49d0-a395-4487c0e5a168   \n",
       "3            03cdc7f4-bd08-49d0-a395-4487c0e5a168   \n",
       "4            0434a9d4-85fd-4554-b8e3-cf6c582bb2fa   \n",
       "...                                           ...   \n",
       "485          93eebe82-d8c3-41bc-a906-63b5b5f24a9d   \n",
       "486          93eebe82-d8c3-41bc-a906-63b5b5f24a9d   \n",
       "487          f70ebd97-b3bc-44fe-849d-c18e08fe773d   \n",
       "488          17481d16-ee44-49e5-bcf0-28c0780d8c4a   \n",
       "489          17481d16-ee44-49e5-bcf0-28c0780d8c4a   \n",
       "\n",
       "                                               collection_name  \\\n",
       "soma_joinid                                                      \n",
       "0            Transcriptional Programming of Normal and Infl...   \n",
       "1                                         Emphysema Cell Atlas   \n",
       "2                                         Emphysema Cell Atlas   \n",
       "3                                         Emphysema Cell Atlas   \n",
       "4            Acute COVID-19 cohort across a range of WHO ca...   \n",
       "...                                                        ...   \n",
       "485          Single-cell proteo-genomic reference maps of t...   \n",
       "486          Single-cell proteo-genomic reference maps of t...   \n",
       "487          A transcriptomic atlas of the mouse cerebellum...   \n",
       "488          Single-Cell Sequencing of Developing Human Gut...   \n",
       "489          Single-Cell Sequencing of Developing Human Gut...   \n",
       "\n",
       "                           collection_doi  \\\n",
       "soma_joinid                                 \n",
       "0            10.1016/j.celrep.2018.09.006   \n",
       "1                                           \n",
       "2                                           \n",
       "3                                           \n",
       "4             10.1101/2020.11.20.20227355   \n",
       "...                                   ...   \n",
       "485            10.1038/s41590-021-01059-0   \n",
       "486            10.1038/s41590-021-01059-0   \n",
       "487             10.1101/2020.03.04.976407   \n",
       "488          10.1016/j.devcel.2020.11.010   \n",
       "489          10.1016/j.devcel.2020.11.010   \n",
       "\n",
       "                                       dataset_id  \\\n",
       "soma_joinid                                         \n",
       "0            f512b8b6-369d-4a85-a695-116e0806857f   \n",
       "1            1e5bd3b8-6a0e-4959-8d69-cafed30fe814   \n",
       "2            214bf9eb-93db-48c8-8e3c-9bb22fa3bc63   \n",
       "3            4b6af54a-4a21-46e0-bc8d-673c0561a836   \n",
       "4            fa8605cf-f27e-44af-ac2a-476bee4410d3   \n",
       "...                                           ...   \n",
       "485          cd4c96bb-ad66-4e83-ba9e-a7df8790eb12   \n",
       "486          c05fb583-eb2f-4e3a-8e74-f9bd6414e418   \n",
       "487          e0ed3c55-aff6-4bb7-b6ff-98a2d90b890c   \n",
       "488          8e47ed12-c658-4252-b126-381df8d52a3d   \n",
       "489          b46237d1-19c6-4af2-9335-9854634bad16   \n",
       "\n",
       "                                                 dataset_title  \\\n",
       "soma_joinid                                                      \n",
       "0                                                         Skin   \n",
       "1                                                 immune cells   \n",
       "2                                                    AT2 cells   \n",
       "3                                             non-immune cells   \n",
       "4                                                        PBMCs   \n",
       "...                                                        ...   \n",
       "485          3 healthy young and 3 healthy old bone marrow ...   \n",
       "486                            healthy young bone marrow donor   \n",
       "487             A transcriptomic atlas of the mouse cerebellum   \n",
       "488                               Paediatric Human Gut (4-14y)   \n",
       "489                                 Fetal Human Gut (6-11 PCW)   \n",
       "\n",
       "                                     dataset_h5ad_path  \\\n",
       "soma_joinid                                              \n",
       "0            f512b8b6-369d-4a85-a695-116e0806857f.h5ad   \n",
       "1            1e5bd3b8-6a0e-4959-8d69-cafed30fe814.h5ad   \n",
       "2            214bf9eb-93db-48c8-8e3c-9bb22fa3bc63.h5ad   \n",
       "3            4b6af54a-4a21-46e0-bc8d-673c0561a836.h5ad   \n",
       "4            fa8605cf-f27e-44af-ac2a-476bee4410d3.h5ad   \n",
       "...                                                ...   \n",
       "485          cd4c96bb-ad66-4e83-ba9e-a7df8790eb12.h5ad   \n",
       "486          c05fb583-eb2f-4e3a-8e74-f9bd6414e418.h5ad   \n",
       "487          e0ed3c55-aff6-4bb7-b6ff-98a2d90b890c.h5ad   \n",
       "488          8e47ed12-c658-4252-b126-381df8d52a3d.h5ad   \n",
       "489          b46237d1-19c6-4af2-9335-9854634bad16.h5ad   \n",
       "\n",
       "             dataset_total_cell_count  \n",
       "soma_joinid                            \n",
       "0                               68036  \n",
       "1                               35699  \n",
       "2                                3662  \n",
       "3                               18386  \n",
       "4                               59506  \n",
       "...                               ...  \n",
       "485                             49057  \n",
       "486                             13165  \n",
       "487                            611034  \n",
       "488                             22502  \n",
       "489                             62849  \n",
       "\n",
       "[490 rows x 7 columns]"
      ]
     },
     "execution_count": 1,
     "metadata": {},
     "output_type": "execute_result"
    }
   ],
   "source": [
    "import cell_census\n",
    "import tiledbsoma as soma\n",
    "\n",
    "census = cell_census.open_soma()\n",
    "census_datasets = census[\"census_info\"][\"datasets\"].read().concat().to_pandas()\n",
    "\n",
    "# for convenience, indexing on the soma_joinid which links this to other census data.\n",
    "census_datasets = census_datasets.set_index(\"soma_joinid\")\n",
    "\n",
    "census_datasets"
   ]
  },
  {
   "cell_type": "markdown",
   "metadata": {},
   "source": [
    "The sum cells across all datasets should match the number of cells across all SOMA experiments (human, mouse)."
   ]
  },
  {
   "cell_type": "code",
   "execution_count": 2,
   "metadata": {
    "execution": {
     "iopub.execute_input": "2023-01-31T19:41:30.762842Z",
     "iopub.status.busy": "2023-01-31T19:41:30.762547Z",
     "iopub.status.idle": "2023-01-31T19:41:33.177878Z",
     "shell.execute_reply": "2023-01-31T19:41:33.177425Z"
    }
   },
   "outputs": [
    {
     "name": "stdout",
     "output_type": "stream",
     "text": [
      "Count by experiment:\n",
      "\t43743262 cells in homo_sapiens\n",
      "\t3922090 cells in mus_musculus\n",
      "\n",
      "Found 47665352 cells in all experiments.\n",
      "Found 47665352 cells in all datasets.\n"
     ]
    }
   ],
   "source": [
    "# Count cells across all experiments\n",
    "all_experiments = (\n",
    "    (organism_name, organism_experiment) for organism_name, organism_experiment in census[\"census_data\"].items()\n",
    ")\n",
    "experiments_total_cells = 0\n",
    "print(\"Count by experiment:\")\n",
    "for organism_name, organism_experiment in all_experiments:\n",
    "    num_cells = len(organism_experiment.obs.read(column_names=[\"soma_joinid\"]).concat().to_pandas())\n",
    "    print(f\"\\t{num_cells} cells in {organism_name}\")\n",
    "    experiments_total_cells += num_cells\n",
    "\n",
    "print(f\"\\nFound {experiments_total_cells} cells in all experiments.\")\n",
    "\n",
    "# Count cells across all datasets\n",
    "print(f\"Found {census_datasets.dataset_total_cell_count.sum()} cells in all datasets.\")"
   ]
  },
  {
   "cell_type": "markdown",
   "metadata": {},
   "source": [
    "Lets pick one dataset to slice out of the census, and turn into an [AnnData](https://anndata.readthedocs.io/en/latest/) in-memory object. This can be used with the [ScanPy](https://scanpy.readthedocs.io/en/stable/) toolchain. You can also save this AnnData locally using the AnnData [`write`](https://anndata.readthedocs.io/en/latest/api.html#writing) API."
   ]
  },
  {
   "cell_type": "code",
   "execution_count": 3,
   "metadata": {
    "execution": {
     "iopub.execute_input": "2023-01-31T19:41:33.179758Z",
     "iopub.status.busy": "2023-01-31T19:41:33.179607Z",
     "iopub.status.idle": "2023-01-31T19:41:33.186692Z",
     "shell.execute_reply": "2023-01-31T19:41:33.185975Z"
    }
   },
   "outputs": [
    {
     "data": {
      "text/html": [
       "<div>\n",
       "<style scoped>\n",
       "    .dataframe tbody tr th:only-of-type {\n",
       "        vertical-align: middle;\n",
       "    }\n",
       "\n",
       "    .dataframe tbody tr th {\n",
       "        vertical-align: top;\n",
       "    }\n",
       "\n",
       "    .dataframe thead th {\n",
       "        text-align: right;\n",
       "    }\n",
       "</style>\n",
       "<table border=\"1\" class=\"dataframe\">\n",
       "  <thead>\n",
       "    <tr style=\"text-align: right;\">\n",
       "      <th></th>\n",
       "      <th>collection_id</th>\n",
       "      <th>collection_name</th>\n",
       "      <th>collection_doi</th>\n",
       "      <th>dataset_id</th>\n",
       "      <th>dataset_title</th>\n",
       "      <th>dataset_h5ad_path</th>\n",
       "      <th>dataset_total_cell_count</th>\n",
       "    </tr>\n",
       "    <tr>\n",
       "      <th>soma_joinid</th>\n",
       "      <th></th>\n",
       "      <th></th>\n",
       "      <th></th>\n",
       "      <th></th>\n",
       "      <th></th>\n",
       "      <th></th>\n",
       "      <th></th>\n",
       "    </tr>\n",
       "  </thead>\n",
       "  <tbody>\n",
       "    <tr>\n",
       "      <th>236</th>\n",
       "      <td>0b9d8a04-bb9d-44da-aa27-705bb65b54eb</td>\n",
       "      <td>Tabula Muris Senis</td>\n",
       "      <td>10.1038/s41586-020-2496-1</td>\n",
       "      <td>0bd1a1de-3aee-40e0-b2ec-86c7a30c7149</td>\n",
       "      <td>Bone marrow - A single-cell transcriptomic atl...</td>\n",
       "      <td>0bd1a1de-3aee-40e0-b2ec-86c7a30c7149.h5ad</td>\n",
       "      <td>40220</td>\n",
       "    </tr>\n",
       "  </tbody>\n",
       "</table>\n",
       "</div>"
      ],
      "text/plain": [
       "                                    collection_id     collection_name  \\\n",
       "soma_joinid                                                             \n",
       "236          0b9d8a04-bb9d-44da-aa27-705bb65b54eb  Tabula Muris Senis   \n",
       "\n",
       "                        collection_doi                            dataset_id  \\\n",
       "soma_joinid                                                                    \n",
       "236          10.1038/s41586-020-2496-1  0bd1a1de-3aee-40e0-b2ec-86c7a30c7149   \n",
       "\n",
       "                                                 dataset_title  \\\n",
       "soma_joinid                                                      \n",
       "236          Bone marrow - A single-cell transcriptomic atl...   \n",
       "\n",
       "                                     dataset_h5ad_path  \\\n",
       "soma_joinid                                              \n",
       "236          0bd1a1de-3aee-40e0-b2ec-86c7a30c7149.h5ad   \n",
       "\n",
       "             dataset_total_cell_count  \n",
       "soma_joinid                            \n",
       "236                             40220  "
      ]
     },
     "execution_count": 3,
     "metadata": {},
     "output_type": "execute_result"
    }
   ],
   "source": [
    "census_datasets[census_datasets.dataset_id == \"0bd1a1de-3aee-40e0-b2ec-86c7a30c7149\"]"
   ]
  },
  {
   "cell_type": "markdown",
   "metadata": {},
   "source": [
    "Create a query on the mouse experiment, \"RNA\" measurement, for the dataset_id."
   ]
  },
  {
   "cell_type": "code",
   "execution_count": 4,
   "metadata": {
    "execution": {
     "iopub.execute_input": "2023-01-31T19:41:33.188924Z",
     "iopub.status.busy": "2023-01-31T19:41:33.188788Z",
     "iopub.status.idle": "2023-01-31T19:41:40.306984Z",
     "shell.execute_reply": "2023-01-31T19:41:40.305586Z"
    }
   },
   "outputs": [
    {
     "data": {
      "text/plain": [
       "AnnData object with n_obs × n_vars = 40220 × 52392\n",
       "    obs: 'soma_joinid', 'dataset_id', 'assay', 'assay_ontology_term_id', 'cell_type', 'cell_type_ontology_term_id', 'development_stage', 'development_stage_ontology_term_id', 'disease', 'disease_ontology_term_id', 'donor_id', 'is_primary_data', 'self_reported_ethnicity', 'self_reported_ethnicity_ontology_term_id', 'sex', 'sex_ontology_term_id', 'suspension_type', 'tissue', 'tissue_ontology_term_id', 'tissue_general', 'tissue_general_ontology_term_id'\n",
       "    var: 'soma_joinid', 'feature_id', 'feature_name', 'feature_length'"
      ]
     },
     "execution_count": 4,
     "metadata": {},
     "output_type": "execute_result"
    }
   ],
   "source": [
    "mouse = census[\"census_data\"][\"mus_musculus\"]\n",
    "with mouse.axis_query(\n",
    "    \"RNA\",\n",
    "    obs_query=soma.AxisQuery(value_filter=\"dataset_id == '0bd1a1de-3aee-40e0-b2ec-86c7a30c7149'\"),\n",
    ") as query:\n",
    "    adata = query.to_anndata(\"raw\")\n",
    "\n",
    "adata"
   ]
  },
  {
   "cell_type": "markdown",
   "metadata": {},
   "source": [
    "You can also use the `cell_census.get_h5ad_uri()` API to fetch a URI pointing to the H5AD associated with this `dataset_id`. This is the same H5AD you can download from the CELLxGENE Portal, and may contain additional data-submittor provided information which was not included in the Cell Census.\n",
    "\n",
    "The \"locator\" returned by this API will include a `uri` and additional information that may be necessary to use the URI (eg, the S3 region).\n",
    "\n",
    "You will need to use a download API to fetch this H5AD, such as [`fsspec`](https://filesystem-spec.readthedocs.io/en/latest/)."
   ]
  },
  {
   "cell_type": "code",
   "execution_count": 5,
   "metadata": {
    "execution": {
     "iopub.execute_input": "2023-01-31T19:41:40.310107Z",
     "iopub.status.busy": "2023-01-31T19:41:40.309948Z",
     "iopub.status.idle": "2023-01-31T19:41:41.207468Z",
     "shell.execute_reply": "2023-01-31T19:41:41.206578Z"
    }
   },
   "outputs": [
    {
     "data": {
      "text/plain": [
       "{'uri': 's3://cellxgene-data-public/cell-census/2023-02-13/h5ads/0bd1a1de-3aee-40e0-b2ec-86c7a30c7149.h5ad',\n",
       " 's3_region': 'us-west-2'}"
      ]
     },
     "execution_count": 5,
     "metadata": {},
     "output_type": "execute_result"
    }
   ],
   "source": [
    "uri = cell_census.get_source_h5ad_uri(\"0bd1a1de-3aee-40e0-b2ec-86c7a30c7149\")\n",
    "\n",
    "uri"
   ]
  },
  {
   "attachments": {},
   "cell_type": "markdown",
   "metadata": {},
   "source": [
    "Close the census"
   ]
  },
  {
   "cell_type": "code",
   "execution_count": 6,
   "metadata": {},
   "outputs": [],
   "source": [
    "census.close()"
   ]
  }
 ],
 "metadata": {
  "kernelspec": {
   "display_name": "Python 3 (ipykernel)",
   "language": "python",
   "name": "python3"
  },
  "language_info": {
   "codemirror_mode": {
    "name": "ipython",
    "version": 3
   },
   "file_extension": ".py",
   "mimetype": "text/x-python",
   "name": "python",
   "nbconvert_exporter": "python",
   "pygments_lexer": "ipython3",
   "version": "3.9.16"
  },
  "vscode": {
   "interpreter": {
    "hash": "3da8ec1c162cd849e59e6ea2824b2e353dce799884e910aae99411be5277f953"
   }
  }
 },
 "nbformat": 4,
 "nbformat_minor": 2
}
