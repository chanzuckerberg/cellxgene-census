{
 "cells": [
  {
   "cell_type": "markdown",
   "id": "88812eae-6b46-48b4-a1e4-c468657d8480",
   "metadata": {},
   "source": [
    "# Generating citations for Census slices\n",
    "\n",
    "This notebook demonstrates how to generate a citation string for all datasets contained in a Census slice.\n",
    "\n",
    "**Contents**\n",
    "\n",
    "1. Requirements\n",
    "1. Generating citation strings\n",
    "   1. Via cell metadata query\n",
    "   1. Via an AnnData query \n",
    "\n",
    "⚠️ Note that the Census RNA data includes duplicate cells present across multiple datasets. Duplicate cells can be filtered in or out using the cell metadata variable `is_primary_data` which is described in the [Census schema](https://github.com/chanzuckerberg/cellxgene-census/blob/main/docs/cellxgene_census_schema.md#repeated-data).\n",
    "\n",
    "## Requirements\n",
    "\n",
    "This notebook requires:\n",
    "\n",
    "- `cellxgene_census` Python package.\n",
    "- Census data release with [schema version](https://github.com/chanzuckerberg/cellxgene-census/blob/main/docs/cellxgene_census_schema.md) 1.3.0 or greater.\n",
    "\n",
    "## Generating citation strings\n",
    "\n",
    "First we open a handle to the Census data. To ensure we open a data release with schema version 1.3.0 or greater, we use `census_version=\"latest\"`"
   ]
  },
  {
   "cell_type": "code",
   "execution_count": 1,
   "id": "9a5a5a92-3d78-4542-95a5-e6889f245491",
   "metadata": {},
   "outputs": [
    {
     "name": "stderr",
     "output_type": "stream",
     "text": [
      "/opt/anaconda3/envs/census_latest/lib/python3.10/site-packages/tiledb/cloud/config.py:96: UserWarning: You must first login before you can run commands. Please run tiledb.cloud.login.\n",
      "  warnings.warn(\n"
     ]
    },
    {
     "data": {
      "text/html": [
       "<div>\n",
       "<style scoped>\n",
       "    .dataframe tbody tr th:only-of-type {\n",
       "        vertical-align: middle;\n",
       "    }\n",
       "\n",
       "    .dataframe tbody tr th {\n",
       "        vertical-align: top;\n",
       "    }\n",
       "\n",
       "    .dataframe thead th {\n",
       "        text-align: right;\n",
       "    }\n",
       "</style>\n",
       "<table border=\"1\" class=\"dataframe\">\n",
       "  <thead>\n",
       "    <tr style=\"text-align: right;\">\n",
       "      <th></th>\n",
       "      <th>soma_joinid</th>\n",
       "      <th>label</th>\n",
       "      <th>value</th>\n",
       "    </tr>\n",
       "  </thead>\n",
       "  <tbody>\n",
       "    <tr>\n",
       "      <th>0</th>\n",
       "      <td>0</td>\n",
       "      <td>census_schema_version</td>\n",
       "      <td>2.1.0</td>\n",
       "    </tr>\n",
       "    <tr>\n",
       "      <th>1</th>\n",
       "      <td>1</td>\n",
       "      <td>census_build_date</td>\n",
       "      <td>2024-06-21</td>\n",
       "    </tr>\n",
       "    <tr>\n",
       "      <th>2</th>\n",
       "      <td>2</td>\n",
       "      <td>dataset_schema_version</td>\n",
       "      <td>5.1.0</td>\n",
       "    </tr>\n",
       "    <tr>\n",
       "      <th>3</th>\n",
       "      <td>3</td>\n",
       "      <td>total_cell_count</td>\n",
       "      <td>117056090</td>\n",
       "    </tr>\n",
       "    <tr>\n",
       "      <th>4</th>\n",
       "      <td>4</td>\n",
       "      <td>unique_cell_count</td>\n",
       "      <td>61555904</td>\n",
       "    </tr>\n",
       "    <tr>\n",
       "      <th>5</th>\n",
       "      <td>5</td>\n",
       "      <td>number_donors_homo_sapiens</td>\n",
       "      <td>17978</td>\n",
       "    </tr>\n",
       "    <tr>\n",
       "      <th>6</th>\n",
       "      <td>6</td>\n",
       "      <td>number_donors_mus_musculus</td>\n",
       "      <td>4255</td>\n",
       "    </tr>\n",
       "  </tbody>\n",
       "</table>\n",
       "</div>"
      ],
      "text/plain": [
       "   soma_joinid                       label       value\n",
       "0            0       census_schema_version       2.1.0\n",
       "1            1           census_build_date  2024-06-21\n",
       "2            2      dataset_schema_version       5.1.0\n",
       "3            3            total_cell_count   117056090\n",
       "4            4           unique_cell_count    61555904\n",
       "5            5  number_donors_homo_sapiens       17978\n",
       "6            6  number_donors_mus_musculus        4255"
      ]
     },
     "execution_count": 1,
     "metadata": {},
     "output_type": "execute_result"
    }
   ],
   "source": [
    "import cellxgene_census\n",
    "\n",
    "census = cellxgene_census.open_soma(census_version=\"latest\")\n",
    "census[\"census_info\"][\"summary\"].read().concat().to_pandas()"
   ]
  },
  {
   "cell_type": "markdown",
   "id": "23174644-7804-4723-a4ab-c5cf75bdd954",
   "metadata": {},
   "source": [
    "Then we load the dataset table which contains a column `\"citation\"` for each dataset included in Census. "
   ]
  },
  {
   "cell_type": "code",
   "execution_count": 2,
   "id": "d47b636a-d653-4e3b-b139-14b6ca697ce8",
   "metadata": {},
   "outputs": [
    {
     "data": {
      "text/plain": [
       "0      Publication: https://doi.org/10.1002/hep4.1854...\n",
       "1      Publication: https://doi.org/10.1126/sciimmuno...\n",
       "2      Publication: https://doi.org/10.1038/s41593-02...\n",
       "3      Publication: https://doi.org/10.1038/s41467-02...\n",
       "4      Publication: https://doi.org/10.1038/s41590-02...\n",
       "                             ...                        \n",
       "826    Publication: https://doi.org/10.1038/s41586-02...\n",
       "827    Publication: https://doi.org/10.1101/2023.05.0...\n",
       "828    Publication: https://doi.org/10.1101/2023.05.0...\n",
       "829    Publication: https://doi.org/10.1038/s41586-02...\n",
       "830    Publication: https://doi.org/10.1038/s41586-02...\n",
       "Name: citation, Length: 831, dtype: object"
      ]
     },
     "execution_count": 2,
     "metadata": {},
     "output_type": "execute_result"
    }
   ],
   "source": [
    "datasets = census[\"census_info\"][\"datasets\"].read().concat().to_pandas()\n",
    "datasets[\"citation\"]"
   ]
  },
  {
   "cell_type": "markdown",
   "id": "b0257f5f-276f-437c-84d5-67be6613aa68",
   "metadata": {},
   "source": [
    "For cross-ref style citations you can look at the column `\"collection_doi_label\"`"
   ]
  },
  {
   "cell_type": "code",
   "execution_count": 3,
   "id": "f7003596-f614-4943-8dfb-f221ef5030d8",
   "metadata": {},
   "outputs": [
    {
     "data": {
      "text/plain": [
       "0      Andrews et al. (2022) Hepatology Communications\n",
       "1                     King et al. (2021) Sci. Immunol.\n",
       "2                      Leng et al. (2021) Nat Neurosci\n",
       "3            Rodríguez-Ubreva et al. (2022) Nat Commun\n",
       "4                     Triana et al. (2021) Nat Immunol\n",
       "                            ...                       \n",
       "826                           Qiu et al. (2024) Nature\n",
       "827                      Gabitto et al. (2023) bioRxiv\n",
       "828                      Gabitto et al. (2023) bioRxiv\n",
       "829                           Qiu et al. (2024) Nature\n",
       "830                           Qiu et al. (2024) Nature\n",
       "Name: collection_doi_label, Length: 831, dtype: object"
      ]
     },
     "execution_count": 3,
     "metadata": {},
     "output_type": "execute_result"
    }
   ],
   "source": [
    "datasets[\"collection_doi_label\"]"
   ]
  },
  {
   "cell_type": "markdown",
   "id": "06adfa4a-3656-4f26-9adf-ba28eb2f691e",
   "metadata": {},
   "source": [
    "And now we can use the column `\"dataset_id\"` present in both the dataset table and the Census cell metadata to create citation strings for any Census slice.\n",
    "\n",
    "### Via cell metadata query"
   ]
  },
  {
   "cell_type": "code",
   "execution_count": 4,
   "id": "f7edf4a7-8394-4df2-9dde-b24efcd6dbe0",
   "metadata": {},
   "outputs": [
    {
     "name": "stdout",
     "output_type": "stream",
     "text": [
      "Publication: https://doi.org/10.1126/science.abl4896 Dataset Version: https://datasets.cellxgene.cziscience.com/981bcf57-30cb-4a85-b905-e04373432fef.h5ad curated and distributed by CZ CELLxGENE Discover in Collection: https://cellxgene.cziscience.com/collections/e5f58829-1a66-40b5-a624-9046778e74f5\n",
      "\n",
      "Publication: https://doi.org/10.1126/science.abl4896 Dataset Version: https://datasets.cellxgene.cziscience.com/07900e47-7ab4-48d4-a26e-abdd010f4bbf.h5ad curated and distributed by CZ CELLxGENE Discover in Collection: https://cellxgene.cziscience.com/collections/e5f58829-1a66-40b5-a624-9046778e74f5\n",
      "\n",
      "Publication: https://doi.org/10.1126/science.abl4896 Dataset Version: https://datasets.cellxgene.cziscience.com/50a18e6a-797b-40bd-aa07-6ed50a1f2cf6.h5ad curated and distributed by CZ CELLxGENE Discover in Collection: https://cellxgene.cziscience.com/collections/e5f58829-1a66-40b5-a624-9046778e74f5\n",
      "\n",
      "Publication: https://doi.org/10.1126/science.abl4896 Dataset Version: https://datasets.cellxgene.cziscience.com/cb872c2c-64a4-405f-96c3-03124405cc6c.h5ad curated and distributed by CZ CELLxGENE Discover in Collection: https://cellxgene.cziscience.com/collections/e5f58829-1a66-40b5-a624-9046778e74f5\n",
      "\n",
      "Publication: https://doi.org/10.1126/science.abl4896 Dataset Version: https://datasets.cellxgene.cziscience.com/3149e7d3-1ae4-4b59-a54b-73e9f591b699.h5ad curated and distributed by CZ CELLxGENE Discover in Collection: https://cellxgene.cziscience.com/collections/e5f58829-1a66-40b5-a624-9046778e74f5\n",
      "\n",
      "Publication: https://doi.org/10.1126/science.abl4896 Dataset Version: https://datasets.cellxgene.cziscience.com/dbcbe0a6-918a-4440-9a56-6d03f0f22df5.h5ad curated and distributed by CZ CELLxGENE Discover in Collection: https://cellxgene.cziscience.com/collections/e5f58829-1a66-40b5-a624-9046778e74f5\n"
     ]
    }
   ],
   "source": [
    "# Query cell metadata\n",
    "cell_metadata = census[\"census_data\"][\"homo_sapiens\"].obs.read(\n",
    "    value_filter=\"tissue == 'cardiac atrium'\", column_names=[\"dataset_id\", \"cell_type\"]\n",
    ")\n",
    "cell_metadata = cell_metadata.concat().to_pandas()\n",
    "\n",
    "# Get a citation string for the slice\n",
    "slice_datasets = datasets[datasets[\"dataset_id\"].isin(cell_metadata[\"dataset_id\"])]\n",
    "print(*set(slice_datasets[\"citation\"]), sep=\"\\n\\n\")"
   ]
  },
  {
   "cell_type": "code",
   "execution_count": 5,
   "id": "a064b74a-e1fc-4c7f-b197-f37ad1912196",
   "metadata": {},
   "outputs": [
    {
     "name": "stdout",
     "output_type": "stream",
     "text": [
      "The Tabula Sapiens Consortium* et al. (2022) Science\n"
     ]
    }
   ],
   "source": [
    "print(*set(slice_datasets[\"collection_doi_label\"]), sep=\"\\n\\n\")"
   ]
  },
  {
   "cell_type": "markdown",
   "id": "941c6f2d-6bc2-46c3-963e-e74335fe93f6",
   "metadata": {},
   "source": [
    "### Via AnnData query"
   ]
  },
  {
   "cell_type": "code",
   "execution_count": 6,
   "id": "2d9b2a11-2f48-43a5-8955-759019ce6bed",
   "metadata": {},
   "outputs": [
    {
     "name": "stdout",
     "output_type": "stream",
     "text": [
      "Publication: https://doi.org/10.1126/science.abl4896 Dataset Version: https://datasets.cellxgene.cziscience.com/981bcf57-30cb-4a85-b905-e04373432fef.h5ad curated and distributed by CZ CELLxGENE Discover in Collection: https://cellxgene.cziscience.com/collections/e5f58829-1a66-40b5-a624-9046778e74f5\n",
      "\n",
      "Publication: https://doi.org/10.1126/science.abl4896 Dataset Version: https://datasets.cellxgene.cziscience.com/07900e47-7ab4-48d4-a26e-abdd010f4bbf.h5ad curated and distributed by CZ CELLxGENE Discover in Collection: https://cellxgene.cziscience.com/collections/e5f58829-1a66-40b5-a624-9046778e74f5\n",
      "\n",
      "Publication: https://doi.org/10.1126/science.abl4896 Dataset Version: https://datasets.cellxgene.cziscience.com/50a18e6a-797b-40bd-aa07-6ed50a1f2cf6.h5ad curated and distributed by CZ CELLxGENE Discover in Collection: https://cellxgene.cziscience.com/collections/e5f58829-1a66-40b5-a624-9046778e74f5\n",
      "\n",
      "Publication: https://doi.org/10.1126/science.abl4896 Dataset Version: https://datasets.cellxgene.cziscience.com/cb872c2c-64a4-405f-96c3-03124405cc6c.h5ad curated and distributed by CZ CELLxGENE Discover in Collection: https://cellxgene.cziscience.com/collections/e5f58829-1a66-40b5-a624-9046778e74f5\n",
      "\n",
      "Publication: https://doi.org/10.1126/science.abl4896 Dataset Version: https://datasets.cellxgene.cziscience.com/3149e7d3-1ae4-4b59-a54b-73e9f591b699.h5ad curated and distributed by CZ CELLxGENE Discover in Collection: https://cellxgene.cziscience.com/collections/e5f58829-1a66-40b5-a624-9046778e74f5\n",
      "\n",
      "Publication: https://doi.org/10.1126/science.abl4896 Dataset Version: https://datasets.cellxgene.cziscience.com/dbcbe0a6-918a-4440-9a56-6d03f0f22df5.h5ad curated and distributed by CZ CELLxGENE Discover in Collection: https://cellxgene.cziscience.com/collections/e5f58829-1a66-40b5-a624-9046778e74f5\n"
     ]
    }
   ],
   "source": [
    "# Fetch an AnnData object\n",
    "adata = cellxgene_census.get_anndata(\n",
    "    census=census,\n",
    "    organism=\"homo_sapiens\",\n",
    "    measurement_name=\"RNA\",\n",
    "    obs_value_filter=\"tissue == 'cardiac atrium'\",\n",
    "    var_value_filter=\"feature_name == 'MYBPC3'\",\n",
    "    obs_column_names=[\"dataset_id\", \"cell_type\"],\n",
    ")\n",
    "\n",
    "# Get a citation string for the slice\n",
    "slice_datasets = datasets[datasets[\"dataset_id\"].isin(adata.obs[\"dataset_id\"])]\n",
    "print(*set(slice_datasets[\"citation\"]), sep=\"\\n\\n\")"
   ]
  },
  {
   "cell_type": "code",
   "execution_count": 7,
   "id": "1eea0b2e-831e-405b-be00-aa58ba190a1f",
   "metadata": {},
   "outputs": [
    {
     "name": "stdout",
     "output_type": "stream",
     "text": [
      "The Tabula Sapiens Consortium* et al. (2022) Science\n"
     ]
    }
   ],
   "source": [
    "print(*set(slice_datasets[\"collection_doi_label\"]), sep=\"\\n\\n\")"
   ]
  },
  {
   "cell_type": "markdown",
   "id": "f6988186-5294-43f9-bfe5-2ac255aa0b26",
   "metadata": {},
   "source": [
    "And don't forget to close the Census handle"
   ]
  },
  {
   "cell_type": "code",
   "execution_count": 8,
   "id": "f96b1c3b-4a2a-469a-9ded-1c5ff98b84aa",
   "metadata": {},
   "outputs": [],
   "source": [
    "census.close()"
   ]
  }
 ],
 "metadata": {
  "kernelspec": {
   "display_name": "Python 3 (ipykernel)",
   "language": "python",
   "name": "python3"
  },
  "language_info": {
   "codemirror_mode": {
    "name": "ipython",
    "version": 3
   },
   "file_extension": ".py",
   "mimetype": "text/x-python",
   "name": "python",
   "nbconvert_exporter": "python",
   "pygments_lexer": "ipython3",
   "version": "3.10.14"
  }
 },
 "nbformat": 4,
 "nbformat_minor": 5
}
