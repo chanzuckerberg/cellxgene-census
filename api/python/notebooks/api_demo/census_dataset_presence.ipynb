{
 "cells": [
  {
   "cell_type": "markdown",
   "metadata": {},
   "source": [
    "# Genes measured in each cell (presence matrix)\n",
    "\n",
    "The Census is a compilation of cells from multiple different datasets. Not all of the source datasets measured the exact same set of genes. This notebook describes the way to identify genes measured per dataset.\n",
    "\n",
    "The presence matrix is a sparse boolean array, indicating which features (var) were present in each dataset.  The array has dimensions [n_datasets, n_var], and is stored in the SOMA Measurement `varp` collection. The first dimension is indexed by the `soma_joinid` in the `census_datasets` dataframe. The second is indexed by the `soma_joinid` in the `var` dataframe of the measurement.\n",
    "\n",
    "As a reminder the `obs` data frame has a column `dataset_id` that can be used to link any cell in the Census to the presence matrix.\n",
    "\n",
    "**Contents** \n",
    "\n",
    "1. Opening the Census.\n",
    "2. Fetching the IDs of the Census datasets.\n",
    "3. Fetching the dataset presence matrix.\n",
    "4. Identifying genes measured in a specific dataset.\n",
    "5. Identifying datasets that measured specific genes.\n",
    "6. Identifying all genes measured in a dataset.\n",
    "\n",
    "\n",
    "## Opening the Census\n",
    "\n",
    "The `cellxgene_census` python package contains a convenient API to open the latest version of the Census. If you open "
   ]
  },
  {
   "cell_type": "code",
   "execution_count": 1,
   "metadata": {
    "execution": {
     "iopub.execute_input": "2023-04-05T14:16:01.185036Z",
     "iopub.status.busy": "2023-04-05T14:16:01.184392Z",
     "iopub.status.idle": "2023-04-05T14:16:03.294047Z",
     "shell.execute_reply": "2023-04-05T14:16:03.292703Z"
    }
   },
   "outputs": [],
   "source": [
    "import numpy as np\n",
    "from scipy import sparse\n",
    "import cellxgene_census\n",
    "\n",
    "census = cellxgene_census.open_soma()"
   ]
  },
  {
   "cell_type": "markdown",
   "metadata": {},
   "source": [
    "## Fetching the IDs of the Census datasets\n",
    "\n",
    "Let's grab a table of all the datasets included in the Census, we will use this table in combination with the presence matrix below."
   ]
  },
  {
   "cell_type": "code",
   "execution_count": null,
   "metadata": {},
   "outputs": [],
   "source": [
    "# Grab the experiment containing human data, and the measurement therein with RNA\n",
    "human = census[\"census_data\"][\"homo_sapiens\"]\n",
    "human_rna = human.ms[\"RNA\"]\n",
    "\n",
    "# The census-wide datasets\n",
    "datasets_df = census[\"census_info\"][\"datasets\"].read().concat().to_pandas()\n",
    "\n",
    "datasets_df"
   ]
  },
  {
   "cell_type": "markdown",
   "metadata": {},
   "source": [
    "## Fetching the dataset presence matrix\n",
    "\n",
    "Now let's fetch the dataset presence matrix. \n",
    "\n",
    "For convenience, read the entire presence matrix (for Homo sapiens) into a SciPy array. There is a convenience API providing this capability, returning the matrix in a `scipy.sparse.array`."
   ]
  },
  {
   "cell_type": "code",
   "execution_count": null,
   "metadata": {
    "execution": {
     "iopub.execute_input": "2023-04-05T14:16:03.297696Z",
     "iopub.status.busy": "2023-04-05T14:16:03.297454Z",
     "iopub.status.idle": "2023-04-05T14:16:04.967669Z",
     "shell.execute_reply": "2023-04-05T14:16:04.966701Z"
    }
   },
   "outputs": [],
   "source": [
    "presence_matrix = cellxgene_census.get_presence_matrix(census, organism=\"Homo sapiens\", measurement_name=\"RNA\")\n",
    "\n",
    "presence_matrix"
   ]
  },
  {
   "cell_type": "markdown",
   "metadata": {},
   "source": [
    "We also need the `var` dataframe, which is read into a Pandas DataFrame for convenient manipulation:"
   ]
  },
  {
   "cell_type": "code",
   "execution_count": null,
   "metadata": {
    "execution": {
     "iopub.execute_input": "2023-04-05T14:16:04.971059Z",
     "iopub.status.busy": "2023-04-05T14:16:04.970894Z",
     "iopub.status.idle": "2023-04-05T14:16:05.509255Z",
     "shell.execute_reply": "2023-04-05T14:16:05.508560Z"
    }
   },
   "outputs": [],
   "source": [
    "var_df = human_rna.var.read().concat().to_pandas()\n",
    "\n",
    "var_df"
   ]
  },
  {
   "cell_type": "markdown",
   "metadata": {},
   "source": [
    "## Identifying genes measured in a specific dataset.\n",
    "\n",
    "Now that we have the dataset table, the genes metadata table, and the dataset presence matrix, we can check if a gene or set of genes were measured in a specific dataset.\n",
    "\n",
    "**Important:** the presence matrix is indexed by soma_joinid, and is *NOT* positionally indexed.  In other words:\n",
    "* the first dimension of the presence matrix is the dataset's `soma_joinid`, as stored in the `census_datasets` dataframe.\n",
    "* the second dimension of the presence matrix is the feature's `soma_joinid`, as stored in the `var` dataframe.\n",
    "\n",
    "Let's find out if the the gene `\"ENSG00000286096\"` was measured in the dataset with id `\"97a17473-e2b1-4f31-a544-44a60773e2dd\"`.\n"
   ]
  },
  {
   "cell_type": "code",
   "execution_count": null,
   "metadata": {
    "execution": {
     "iopub.execute_input": "2023-04-05T14:16:05.511908Z",
     "iopub.status.busy": "2023-04-05T14:16:05.511755Z",
     "iopub.status.idle": "2023-04-05T14:16:05.519610Z",
     "shell.execute_reply": "2023-04-05T14:16:05.518587Z"
    }
   },
   "outputs": [],
   "source": [
    "var_joinid = var_df.loc[var_df.feature_id == \"ENSG00000286096\"].soma_joinid\n",
    "dataset_joinid = datasets_df.loc[datasets_df.dataset_id == \"97a17473-e2b1-4f31-a544-44a60773e2dd\"].soma_joinid\n",
    "is_present = presence_matrix[dataset_joinid, var_joinid][0, 0]\n",
    "print(f'Feature is {\"present\" if is_present else \"not present\"}.')"
   ]
  },
  {
   "cell_type": "markdown",
   "metadata": {},
   "source": [
    "## Identifying datasets that measured specific genes\n",
    "\n",
    "Similarly we can check what datasets measured a gene or set of genes."
   ]
  },
  {
   "cell_type": "code",
   "execution_count": null,
   "metadata": {
    "execution": {
     "iopub.execute_input": "2023-04-05T14:16:05.523101Z",
     "iopub.status.busy": "2023-04-05T14:16:05.522880Z",
     "iopub.status.idle": "2023-04-05T14:16:05.552412Z",
     "shell.execute_reply": "2023-04-05T14:16:05.551100Z"
    }
   },
   "outputs": [],
   "source": [
    "# Grab the feature's soma_joinid from the var dataframe\n",
    "var_joinid = var_df.loc[var_df.feature_id == \"ENSG00000286096\"].soma_joinid\n",
    "\n",
    "# The presence matrix is indexed by the joinids of the dataset and var dataframes,\n",
    "# so slice out the feature of interest by its joinid.\n",
    "dataset_joinids = presence_matrix[:, var_joinid].tocoo().row\n",
    "\n",
    "# From the datasets dataframe, slice out the datasets which have a joinid in the list\n",
    "datasets_df.loc[datasets_df.soma_joinid.isin(dataset_joinids)]"
   ]
  },
  {
   "cell_type": "markdown",
   "metadata": {},
   "source": [
    "## Identifying all genes measured in a dataset \n",
    "\n",
    "Finally we can check what are all the genes that were measured in the cells of a given dataset."
   ]
  },
  {
   "cell_type": "code",
   "execution_count": null,
   "metadata": {
    "execution": {
     "iopub.execute_input": "2023-04-05T14:16:05.555010Z",
     "iopub.status.busy": "2023-04-05T14:16:05.554874Z",
     "iopub.status.idle": "2023-04-05T14:16:05.565033Z",
     "shell.execute_reply": "2023-04-05T14:16:05.563931Z"
    }
   },
   "outputs": [],
   "source": [
    "# Slice the dataset(s) of interest, and get the joinid(s)\n",
    "dataset_joinids = datasets_df.loc[datasets_df.collection_id == \"17481d16-ee44-49e5-bcf0-28c0780d8c4a\"].soma_joinid\n",
    "\n",
    "# Slice the presence matrix by the first dimension, i.e., by dataset\n",
    "var_joinids = presence_matrix[dataset_joinids, :].tocoo().col\n",
    "\n",
    "# From the feature (var) dataframe, slice out features which have a joinid in the list.\n",
    "var_df.loc[var_df.soma_joinid.isin(var_joinids)]"
   ]
  }
 ],
 "metadata": {
  "kernelspec": {
   "display_name": "Python 3 (ipykernel)",
   "language": "python",
   "name": "python3"
  },
  "language_info": {
   "codemirror_mode": {
    "name": "ipython",
    "version": 3
   },
   "file_extension": ".py",
   "mimetype": "text/x-python",
   "name": "python",
   "nbconvert_exporter": "python",
   "pygments_lexer": "ipython3",
   "version": "3.10.10"
  },
  "vscode": {
   "interpreter": {
    "hash": "3da8ec1c162cd849e59e6ea2824b2e353dce799884e910aae99411be5277f953"
   }
  }
 },
 "nbformat": 4,
 "nbformat_minor": 2
}
