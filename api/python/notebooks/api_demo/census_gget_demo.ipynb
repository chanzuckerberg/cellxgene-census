{
 "cells": [
  {
   "cell_type": "markdown",
   "metadata": {
    "colab_type": "text",
    "id": "view-in-github"
   },
   "source": [
    "<a href=\"https://colab.research.google.com/github/lauraluebbert/cellxgene-census/blob/main/docs/notebooks/api_demo/gget_cellxgene_demo.ipynb\" target=\"_parent\"><img src=\"https://colab.research.google.com/assets/colab-badge.svg\" alt=\"Open In Colab\"/></a>"
   ]
  },
  {
   "cell_type": "markdown",
   "metadata": {
    "id": "YkHzXhTHvXUc"
   },
   "source": [
    "# Querying data using the gget cellxgene module\n",
    "\n",
    "*By Laura Luebbert, lauraluebbert@caltech.edu.*\n",
    "\n",
    "[gget](https://github.com/pachterlab/gget) is a free, open-source command-line tool and Python package that enables efficient querying of genomic databases. gget consists of a collection of separate but interoperable modules, each designed to facilitate one type of database querying in a single line of code.\n",
    "\n",
    "The [gget cellxgene](https://pachterlab.github.io/gget/cellxgene.html) module builds on the [CZ CELLxGENE Discover Census](https://chanzuckerberg.github.io/cellxgene-census/) to query data from [CZ CELLxGENE Discover](https://cellxgene.cziscience.com/). This notebook briefly introduces the [gget cellxgene](https://pachterlab.github.io/gget/cellxgene.html) module by providing one simple example for each supported query type.\n",
    "\n",
    "**Contents**  \n",
    "1. Install gget.\n",
    "2. Fetch an [AnnData](https://anndata.readthedocs.io/en/latest/) object by selecting gene(s), tissue(s) and cell type(s).\n",
    "3. Plot a dot plot similar to those shown on the  CZ CELLxGENE Discover [Gene Expression](https://cellxgene.cziscience.com/gene-expression).\n",
    "4. Fetch only cell metadata (corresponds to AnnData.obs).\n",
    "5. Use [gget cellxgene](https://pachterlab.github.io/gget/cellxgene.html) from the command line."
   ]
  },
  {
   "cell_type": "markdown",
   "metadata": {
    "id": "gaPshWPxwzo9"
   },
   "source": [
    "## Install gget"
   ]
  },
  {
   "cell_type": "code",
   "execution_count": 1,
   "metadata": {
    "id": "bKTgv7hCQxS1"
   },
   "outputs": [],
   "source": [
    "!pip install -q gget\n",
    "import gget"
   ]
  },
  {
   "cell_type": "code",
   "execution_count": 2,
   "metadata": {
    "colab": {
     "base_uri": "https://localhost:8080/"
    },
    "id": "f4hLtaBPToWG",
    "outputId": "64ce64f7-5711-42b8-c391-ece48b49102f"
   },
   "outputs": [
    {
     "name": "stdout",
     "output_type": "stream",
     "text": [
      "Help on function cellxgene in module gget.gget_cellxgene:\n",
      "\n",
      "cellxgene(species='homo_sapiens', gene=None, ensembl=False, column_names=['dataset_id', 'assay', 'suspension_type', 'sex', 'tissue_general', 'tissue', 'cell_type'], meta_only=False, tissue=None, cell_type=None, development_stage=None, disease=None, sex=None, is_primary_data=True, dataset_id=None, tissue_general_ontology_term_id=None, tissue_general=None, assay_ontology_term_id=None, assay=None, cell_type_ontology_term_id=None, development_stage_ontology_term_id=None, disease_ontology_term_id=None, donor_id=None, self_reported_ethnicity_ontology_term_id=None, self_reported_ethnicity=None, sex_ontology_term_id=None, suspension_type=None, tissue_ontology_term_id=None, verbose=True, out=None)\n",
      "    Query data from CZ CELLxGENE Discover (https://cellxgene.cziscience.com/) using the\n",
      "    CZ CELLxGENE Discover Census (https://github.com/chanzuckerberg/cellxgene-census).\n",
      "    \n",
      "    NOTE: Querying large datasets requires a large amount of RAM. Use the cell metadata attributes\n",
      "    to define the (sub)dataset of interest.\n",
      "    The CZ CELLxGENE Discover Census recommends >16 GB of memory and a >5 Mbps internet connection.\n",
      "    \n",
      "    General args:\n",
      "        - species       Choice of 'homo_sapiens' or 'mus_musculus'. Default: 'homo_sapiens'.\n",
      "        - gene          Str or list of gene name(s) or Ensembl ID(s), e.g. ['ACE2', 'SLC5A1'] or ['ENSG00000130234', 'ENSG00000100170']. Default: None.\n",
      "                        NOTE: Set ensembl=True when providing Ensembl ID(s) instead of gene name(s).\n",
      "                        See https://cellxgene.cziscience.com/gene-expression for examples of available genes.\n",
      "        - ensembl       True/False (default: False). Set to True when genes are provided as Ensembl IDs.\n",
      "        - column_names  List of metadata columns to return (stored in AnnData.obs when meta_only=False).\n",
      "                        Default: [\"dataset_id\", \"assay\", \"suspension_type\", \"sex\", \"tissue_general\", \"tissue\", \"cell_type\"]\n",
      "                        For more options see: https://api.cellxgene.cziscience.com/curation/ui/#/ -> Schemas -> dataset\n",
      "        - meta_only     True/False (default: False). If True, returns only metadata dataframe (corresponds to AnnData.obs).\n",
      "        - verbose       True/False whether to print progress information. Default True.\n",
      "        - out           If provided, saves the generated AnnData h5ad (or csv when meta_only=True) file with the specified path. Default: None.\n",
      "    \n",
      "    Cell metadata attributes:\n",
      "        - tissue                          Str or list of tissue(s), e.g. ['lung', 'blood']. Default: None.\n",
      "                                          See https://cellxgene.cziscience.com/gene-expression for examples of available tissues.\n",
      "        - cell_type                       Str or list of celltype(s), e.g. ['mucus secreting cell', 'neuroendocrine cell']. Default: None.\n",
      "                                          See https://cellxgene.cziscience.com/gene-expression and select a tissue to see examples of available celltypes.\n",
      "        - development_stage               Str or list of development stage(s). Default: None.\n",
      "        - disease                         Str or list of disease(s). Default: None.\n",
      "        - sex                             Str or list of sex(es), e.g. 'female'. Default: None.\n",
      "        - is_primary_data                 True/False (default: True). If True, returns only the canonical instance of the cellular observation.\n",
      "                                          This is commonly set to False for meta-analyses reusing data or for secondary views of data.\n",
      "        - dataset_id                      Str or list of CELLxGENE dataset ID(s). Default: None.\n",
      "        - tissue_general_ontology_term_id Str or list of high-level tissue UBERON ID(s). Default: None.\n",
      "                                          Also see: https://github.com/chanzuckerberg/single-cell-data-portal/blob/9b94ccb0a2e0a8f6182b213aa4852c491f6f6aff/backend/wmg/data/tissue_mapper.py\n",
      "        - tissue_general                  Str or list of high-level tissue label(s). Default: None.\n",
      "                                          Also see: https://github.com/chanzuckerberg/single-cell-data-portal/blob/9b94ccb0a2e0a8f6182b213aa4852c491f6f6aff/backend/wmg/data/tissue_mapper.py\n",
      "        - tissue_ontology_term_id         Str or list of tissue ontology term ID(s) as defined in the CELLxGENE dataset schema. Default: None.\n",
      "        - assay_ontology_term_id          Str or list of assay ontology term ID(s) as defined in the CELLxGENE dataset schema. Default: None.\n",
      "        - assay                           Str or list of assay(s) as defined in the CELLxGENE dataset schema. Default: None.\n",
      "        - cell_type_ontology_term_id      Str or list of celltype ontology term ID(s) as defined in the CELLxGENE dataset schema. Default: None.\n",
      "        - development_stage_ontology_term_id        Str or list of development stage ontology term ID(s) as defined in the CELLxGENE dataset schema. Default: None.\n",
      "        - disease_ontology_term_id        Str or list of disease ontology term ID(s) as defined in the CELLxGENE dataset schema. Default: None.\n",
      "        - donor_id                        Str or list of donor ID(s) as defined in the CELLxGENE dataset schema. Default: None.\n",
      "        - self_reported_ethnicity_ontology_term_id  Str or list of self reported ethnicity ontology ID(s) as defined in the CELLxGENE dataset schema. Default: None.\n",
      "        - self_reported_ethnicity         Str or list of self reported ethnicity as defined in the CELLxGENE dataset schema. Default: None.\n",
      "        - sex_ontology_term_id            Str or list of sex ontology ID(s) as defined in the CELLxGENE dataset schema. Default: None.\n",
      "        - suspension_type                 Str or list of suspension type(s) as defined in the CELLxGENE dataset schema. Default: None.\n",
      "    \n",
      "    Returns AnnData object (when meta_only=False) or dataframe (when meta_only=True).\n",
      "\n"
     ]
    }
   ],
   "source": [
    "# Display all options of the cellxgene gget module\n",
    "help(gget.cellxgene)"
   ]
  },
  {
   "cell_type": "markdown",
   "metadata": {
    "id": "6j6vqbOXw9X3"
   },
   "source": [
    "## Fetch an [AnnData](https://anndata.readthedocs.io/en/latest/) object by selecting gene(s), tissue(s) and cell type(s)\n",
    "You can use all of the options listed above to filter for data of interest. Here, we will demonstrate the module by fetching a small dataset containing only three genes and two lung cell types:"
   ]
  },
  {
   "cell_type": "code",
   "execution_count": 3,
   "metadata": {
    "id": "OnDHwjjSQ2uD"
   },
   "outputs": [
    {
     "name": "stderr",
     "output_type": "stream",
     "text": [
      "Tue May  2 10:53:03 2023 INFO Fetching AnnData object from CZ CELLxGENE Discover. This might take a few minutes...\n"
     ]
    }
   ],
   "source": [
    "# Fetch AnnData object based on specified genes, tissue and cell types\n",
    "adata = gget.cellxgene(\n",
    "    gene=[\"ACE2\", \"ABCA1\", \"SLC5A1\"], tissue=\"lung\", cell_type=[\"mucus secreting cell\", \"neuroendocrine cell\"]\n",
    ")"
   ]
  },
  {
   "cell_type": "markdown",
   "metadata": {
    "id": "6krDnFMLyeRl"
   },
   "source": [
    "Let's look at some of the features of the AnnData object we just fetched:"
   ]
  },
  {
   "cell_type": "code",
   "execution_count": 4,
   "metadata": {
    "colab": {
     "base_uri": "https://localhost:8080/"
    },
    "id": "MqZM-2uNTt1L",
    "outputId": "e72e4139-e4d2-439e-f937-e2b0d4d13a3a"
   },
   "outputs": [
    {
     "data": {
      "text/plain": [
       "AnnData object with n_obs × n_vars = 3322 × 3\n",
       "    obs: 'dataset_id', 'assay', 'suspension_type', 'sex', 'tissue_general', 'tissue', 'cell_type', 'is_primary_data'\n",
       "    var: 'soma_joinid', 'feature_id', 'feature_name', 'feature_length'"
      ]
     },
     "execution_count": 4,
     "metadata": {},
     "output_type": "execute_result"
    }
   ],
   "source": [
    "adata"
   ]
  },
  {
   "cell_type": "markdown",
   "metadata": {
    "id": "Yl34ulk7ziH8"
   },
   "source": [
    "A few thousand cells from CZ CELLxGENE Discover matched the filters specified above and their ACE2, ABCA1, and SLC5A1 expression matrix in lung mucus secreting and neuroendocrine cells was fetched. The `.var` and `.obs` layers contain additional information about each gene and cell, respectively:"
   ]
  },
  {
   "cell_type": "code",
   "execution_count": 5,
   "metadata": {
    "colab": {
     "base_uri": "https://localhost:8080/",
     "height": 143
    },
    "id": "qzdc41PdTwDN",
    "outputId": "a12388ad-5ce9-42af-c804-23f46fca5a72"
   },
   "outputs": [
    {
     "data": {
      "text/html": [
       "<div>\n",
       "<style scoped>\n",
       "    .dataframe tbody tr th:only-of-type {\n",
       "        vertical-align: middle;\n",
       "    }\n",
       "\n",
       "    .dataframe tbody tr th {\n",
       "        vertical-align: top;\n",
       "    }\n",
       "\n",
       "    .dataframe thead th {\n",
       "        text-align: right;\n",
       "    }\n",
       "</style>\n",
       "<table border=\"1\" class=\"dataframe\">\n",
       "  <thead>\n",
       "    <tr style=\"text-align: right;\">\n",
       "      <th></th>\n",
       "      <th>soma_joinid</th>\n",
       "      <th>feature_id</th>\n",
       "      <th>feature_name</th>\n",
       "      <th>feature_length</th>\n",
       "    </tr>\n",
       "  </thead>\n",
       "  <tbody>\n",
       "    <tr>\n",
       "      <th>0</th>\n",
       "      <td>2192</td>\n",
       "      <td>ENSG00000100170</td>\n",
       "      <td>SLC5A1</td>\n",
       "      <td>5081</td>\n",
       "    </tr>\n",
       "    <tr>\n",
       "      <th>1</th>\n",
       "      <td>6159</td>\n",
       "      <td>ENSG00000130234</td>\n",
       "      <td>ACE2</td>\n",
       "      <td>9739</td>\n",
       "    </tr>\n",
       "    <tr>\n",
       "      <th>2</th>\n",
       "      <td>11349</td>\n",
       "      <td>ENSG00000165029</td>\n",
       "      <td>ABCA1</td>\n",
       "      <td>11343</td>\n",
       "    </tr>\n",
       "  </tbody>\n",
       "</table>\n",
       "</div>"
      ],
      "text/plain": [
       "   soma_joinid       feature_id feature_name  feature_length\n",
       "0         2192  ENSG00000100170       SLC5A1            5081\n",
       "1         6159  ENSG00000130234         ACE2            9739\n",
       "2        11349  ENSG00000165029        ABCA1           11343"
      ]
     },
     "execution_count": 5,
     "metadata": {},
     "output_type": "execute_result"
    }
   ],
   "source": [
    "adata.var"
   ]
  },
  {
   "cell_type": "code",
   "execution_count": 6,
   "metadata": {
    "colab": {
     "base_uri": "https://localhost:8080/",
     "height": 424
    },
    "id": "lIebiJ0CTxDn",
    "outputId": "faaac182-346b-471a-ce63-31e3bc1ec193"
   },
   "outputs": [
    {
     "data": {
      "text/html": [
       "<div>\n",
       "<style scoped>\n",
       "    .dataframe tbody tr th:only-of-type {\n",
       "        vertical-align: middle;\n",
       "    }\n",
       "\n",
       "    .dataframe tbody tr th {\n",
       "        vertical-align: top;\n",
       "    }\n",
       "\n",
       "    .dataframe thead th {\n",
       "        text-align: right;\n",
       "    }\n",
       "</style>\n",
       "<table border=\"1\" class=\"dataframe\">\n",
       "  <thead>\n",
       "    <tr style=\"text-align: right;\">\n",
       "      <th></th>\n",
       "      <th>dataset_id</th>\n",
       "      <th>assay</th>\n",
       "      <th>suspension_type</th>\n",
       "      <th>sex</th>\n",
       "      <th>tissue_general</th>\n",
       "      <th>tissue</th>\n",
       "      <th>cell_type</th>\n",
       "      <th>is_primary_data</th>\n",
       "    </tr>\n",
       "  </thead>\n",
       "  <tbody>\n",
       "    <tr>\n",
       "      <th>0</th>\n",
       "      <td>d8da613f-e681-4c69-b463-e94f5e66847f</td>\n",
       "      <td>10x 3' v3</td>\n",
       "      <td>nucleus</td>\n",
       "      <td>female</td>\n",
       "      <td>lung</td>\n",
       "      <td>lung</td>\n",
       "      <td>mucus secreting cell</td>\n",
       "      <td>True</td>\n",
       "    </tr>\n",
       "    <tr>\n",
       "      <th>1</th>\n",
       "      <td>d8da613f-e681-4c69-b463-e94f5e66847f</td>\n",
       "      <td>10x 3' v3</td>\n",
       "      <td>nucleus</td>\n",
       "      <td>female</td>\n",
       "      <td>lung</td>\n",
       "      <td>lung</td>\n",
       "      <td>mucus secreting cell</td>\n",
       "      <td>True</td>\n",
       "    </tr>\n",
       "    <tr>\n",
       "      <th>2</th>\n",
       "      <td>d8da613f-e681-4c69-b463-e94f5e66847f</td>\n",
       "      <td>10x 3' v3</td>\n",
       "      <td>nucleus</td>\n",
       "      <td>female</td>\n",
       "      <td>lung</td>\n",
       "      <td>lung</td>\n",
       "      <td>mucus secreting cell</td>\n",
       "      <td>True</td>\n",
       "    </tr>\n",
       "    <tr>\n",
       "      <th>3</th>\n",
       "      <td>d8da613f-e681-4c69-b463-e94f5e66847f</td>\n",
       "      <td>10x 3' v3</td>\n",
       "      <td>nucleus</td>\n",
       "      <td>female</td>\n",
       "      <td>lung</td>\n",
       "      <td>lung</td>\n",
       "      <td>mucus secreting cell</td>\n",
       "      <td>True</td>\n",
       "    </tr>\n",
       "    <tr>\n",
       "      <th>4</th>\n",
       "      <td>d8da613f-e681-4c69-b463-e94f5e66847f</td>\n",
       "      <td>10x 3' v3</td>\n",
       "      <td>nucleus</td>\n",
       "      <td>female</td>\n",
       "      <td>lung</td>\n",
       "      <td>lung</td>\n",
       "      <td>mucus secreting cell</td>\n",
       "      <td>True</td>\n",
       "    </tr>\n",
       "    <tr>\n",
       "      <th>...</th>\n",
       "      <td>...</td>\n",
       "      <td>...</td>\n",
       "      <td>...</td>\n",
       "      <td>...</td>\n",
       "      <td>...</td>\n",
       "      <td>...</td>\n",
       "      <td>...</td>\n",
       "      <td>...</td>\n",
       "    </tr>\n",
       "    <tr>\n",
       "      <th>3317</th>\n",
       "      <td>8c42cfd0-0b0a-46d5-910c-fc833d83c45e</td>\n",
       "      <td>10x 3' v2</td>\n",
       "      <td>cell</td>\n",
       "      <td>female</td>\n",
       "      <td>lung</td>\n",
       "      <td>lung</td>\n",
       "      <td>mucus secreting cell</td>\n",
       "      <td>True</td>\n",
       "    </tr>\n",
       "    <tr>\n",
       "      <th>3318</th>\n",
       "      <td>8c42cfd0-0b0a-46d5-910c-fc833d83c45e</td>\n",
       "      <td>10x 3' v2</td>\n",
       "      <td>cell</td>\n",
       "      <td>female</td>\n",
       "      <td>lung</td>\n",
       "      <td>lung</td>\n",
       "      <td>mucus secreting cell</td>\n",
       "      <td>True</td>\n",
       "    </tr>\n",
       "    <tr>\n",
       "      <th>3319</th>\n",
       "      <td>8c42cfd0-0b0a-46d5-910c-fc833d83c45e</td>\n",
       "      <td>10x 3' v2</td>\n",
       "      <td>cell</td>\n",
       "      <td>female</td>\n",
       "      <td>lung</td>\n",
       "      <td>lung</td>\n",
       "      <td>mucus secreting cell</td>\n",
       "      <td>True</td>\n",
       "    </tr>\n",
       "    <tr>\n",
       "      <th>3320</th>\n",
       "      <td>8c42cfd0-0b0a-46d5-910c-fc833d83c45e</td>\n",
       "      <td>10x 3' v2</td>\n",
       "      <td>cell</td>\n",
       "      <td>female</td>\n",
       "      <td>lung</td>\n",
       "      <td>lung</td>\n",
       "      <td>mucus secreting cell</td>\n",
       "      <td>True</td>\n",
       "    </tr>\n",
       "    <tr>\n",
       "      <th>3321</th>\n",
       "      <td>8c42cfd0-0b0a-46d5-910c-fc833d83c45e</td>\n",
       "      <td>10x 3' v2</td>\n",
       "      <td>cell</td>\n",
       "      <td>female</td>\n",
       "      <td>lung</td>\n",
       "      <td>lung</td>\n",
       "      <td>mucus secreting cell</td>\n",
       "      <td>True</td>\n",
       "    </tr>\n",
       "  </tbody>\n",
       "</table>\n",
       "<p>3322 rows × 8 columns</p>\n",
       "</div>"
      ],
      "text/plain": [
       "                                dataset_id      assay suspension_type     sex   \n",
       "0     d8da613f-e681-4c69-b463-e94f5e66847f  10x 3' v3         nucleus  female  \\\n",
       "1     d8da613f-e681-4c69-b463-e94f5e66847f  10x 3' v3         nucleus  female   \n",
       "2     d8da613f-e681-4c69-b463-e94f5e66847f  10x 3' v3         nucleus  female   \n",
       "3     d8da613f-e681-4c69-b463-e94f5e66847f  10x 3' v3         nucleus  female   \n",
       "4     d8da613f-e681-4c69-b463-e94f5e66847f  10x 3' v3         nucleus  female   \n",
       "...                                    ...        ...             ...     ...   \n",
       "3317  8c42cfd0-0b0a-46d5-910c-fc833d83c45e  10x 3' v2            cell  female   \n",
       "3318  8c42cfd0-0b0a-46d5-910c-fc833d83c45e  10x 3' v2            cell  female   \n",
       "3319  8c42cfd0-0b0a-46d5-910c-fc833d83c45e  10x 3' v2            cell  female   \n",
       "3320  8c42cfd0-0b0a-46d5-910c-fc833d83c45e  10x 3' v2            cell  female   \n",
       "3321  8c42cfd0-0b0a-46d5-910c-fc833d83c45e  10x 3' v2            cell  female   \n",
       "\n",
       "     tissue_general tissue             cell_type  is_primary_data  \n",
       "0              lung   lung  mucus secreting cell             True  \n",
       "1              lung   lung  mucus secreting cell             True  \n",
       "2              lung   lung  mucus secreting cell             True  \n",
       "3              lung   lung  mucus secreting cell             True  \n",
       "4              lung   lung  mucus secreting cell             True  \n",
       "...             ...    ...                   ...              ...  \n",
       "3317           lung   lung  mucus secreting cell             True  \n",
       "3318           lung   lung  mucus secreting cell             True  \n",
       "3319           lung   lung  mucus secreting cell             True  \n",
       "3320           lung   lung  mucus secreting cell             True  \n",
       "3321           lung   lung  mucus secreting cell             True  \n",
       "\n",
       "[3322 rows x 8 columns]"
      ]
     },
     "execution_count": 6,
     "metadata": {},
     "output_type": "execute_result"
    }
   ],
   "source": [
    "adata.obs"
   ]
  },
  {
   "cell_type": "markdown",
   "metadata": {
    "id": "e4zaccqDUVon"
   },
   "source": [
    "## Plot a dot plot similar to those shown on the  CZ CELLxGENE Discover [Gene Expression](https://cellxgene.cziscience.com/gene-expression)\n",
    "Using the data we just fetched, we can plot a dot plot using [scanpy](https://scanpy.readthedocs.io/en/stable/):"
   ]
  },
  {
   "cell_type": "code",
   "execution_count": 7,
   "metadata": {
    "id": "qGHq2q3wT3gw"
   },
   "outputs": [],
   "source": [
    "import scanpy as sc\n",
    "\n",
    "# retina increases the resolution of plots displayed in notebooks\n",
    "%config InlineBackend.figure_format=\"retina\""
   ]
  },
  {
   "cell_type": "code",
   "execution_count": 8,
   "metadata": {
    "colab": {
     "base_uri": "https://localhost:8080/",
     "height": 283
    },
    "id": "p1FTT-OiUa4k",
    "outputId": "c5982cff-249f-4827-ccee-0279d3a0ce2d"
   },
   "outputs": [
    {
     "name": "stderr",
     "output_type": "stream",
     "text": [
      "... storing 'dataset_id' as categorical\n",
      "... storing 'assay' as categorical\n",
      "... storing 'suspension_type' as categorical\n",
      "... storing 'sex' as categorical\n",
      "... storing 'tissue_general' as categorical\n",
      "... storing 'tissue' as categorical\n",
      "... storing 'cell_type' as categorical\n"
     ]
    },
    {
     "data": {
      "image/png": "[encoded data removed]",
      "text/plain": [
       "<Figure size 261x250 with 4 Axes>"
      ]
     },
     "metadata": {
      "image/png": {
       "height": 266,
       "width": 351
      }
     },
     "output_type": "display_data"
    }
   ],
   "source": [
    "sc.pl.dotplot(adata, adata.var[\"feature_name\"].values, groupby=\"cell_type\", gene_symbols=\"feature_name\")"
   ]
  },
  {
   "cell_type": "markdown",
   "metadata": {
    "id": "lIqvA3pc0iJA"
   },
   "source": [
    "## Fetch only cell metadata (corresponds to AnnData.obs)\n",
    "By setting `anndata=False` and again filtering by the cell metadata attributes listed above, you can also fetch only the cell metadata:"
   ]
  },
  {
   "cell_type": "code",
   "execution_count": 9,
   "metadata": {
    "colab": {
     "base_uri": "https://localhost:8080/",
     "height": 424
    },
    "id": "RQJyn-mKU_oh",
    "outputId": "d2900e0b-c04a-4b7f-d888-526da64fdb92"
   },
   "outputs": [
    {
     "name": "stderr",
     "output_type": "stream",
     "text": [
      "Tue May  2 10:53:38 2023 INFO Fetching metadata from CZ CELLxGENE Discover...\n"
     ]
    },
    {
     "data": {
      "text/html": [
       "<div>\n",
       "<style scoped>\n",
       "    .dataframe tbody tr th:only-of-type {\n",
       "        vertical-align: middle;\n",
       "    }\n",
       "\n",
       "    .dataframe tbody tr th {\n",
       "        vertical-align: top;\n",
       "    }\n",
       "\n",
       "    .dataframe thead th {\n",
       "        text-align: right;\n",
       "    }\n",
       "</style>\n",
       "<table border=\"1\" class=\"dataframe\">\n",
       "  <thead>\n",
       "    <tr style=\"text-align: right;\">\n",
       "      <th></th>\n",
       "      <th>dataset_id</th>\n",
       "      <th>assay</th>\n",
       "      <th>suspension_type</th>\n",
       "      <th>sex</th>\n",
       "      <th>tissue_general</th>\n",
       "      <th>tissue</th>\n",
       "      <th>cell_type</th>\n",
       "      <th>is_primary_data</th>\n",
       "    </tr>\n",
       "  </thead>\n",
       "  <tbody>\n",
       "    <tr>\n",
       "      <th>0</th>\n",
       "      <td>047d57f2-4d14-45de-aa98-336c6f583750</td>\n",
       "      <td>10x 3' v2</td>\n",
       "      <td>cell</td>\n",
       "      <td>unknown</td>\n",
       "      <td>lung</td>\n",
       "      <td>lung</td>\n",
       "      <td>mesenchymal stem cell</td>\n",
       "      <td>True</td>\n",
       "    </tr>\n",
       "    <tr>\n",
       "      <th>1</th>\n",
       "      <td>047d57f2-4d14-45de-aa98-336c6f583750</td>\n",
       "      <td>10x 3' v2</td>\n",
       "      <td>cell</td>\n",
       "      <td>unknown</td>\n",
       "      <td>lung</td>\n",
       "      <td>lung</td>\n",
       "      <td>progenitor cell</td>\n",
       "      <td>True</td>\n",
       "    </tr>\n",
       "    <tr>\n",
       "      <th>2</th>\n",
       "      <td>047d57f2-4d14-45de-aa98-336c6f583750</td>\n",
       "      <td>10x 3' v2</td>\n",
       "      <td>cell</td>\n",
       "      <td>unknown</td>\n",
       "      <td>lung</td>\n",
       "      <td>lung</td>\n",
       "      <td>mesenchymal cell</td>\n",
       "      <td>True</td>\n",
       "    </tr>\n",
       "    <tr>\n",
       "      <th>3</th>\n",
       "      <td>047d57f2-4d14-45de-aa98-336c6f583750</td>\n",
       "      <td>10x 3' v2</td>\n",
       "      <td>cell</td>\n",
       "      <td>unknown</td>\n",
       "      <td>lung</td>\n",
       "      <td>lung</td>\n",
       "      <td>mesenchymal stem cell</td>\n",
       "      <td>True</td>\n",
       "    </tr>\n",
       "    <tr>\n",
       "      <th>4</th>\n",
       "      <td>047d57f2-4d14-45de-aa98-336c6f583750</td>\n",
       "      <td>10x 3' v2</td>\n",
       "      <td>cell</td>\n",
       "      <td>unknown</td>\n",
       "      <td>lung</td>\n",
       "      <td>lung</td>\n",
       "      <td>mesenchymal cell</td>\n",
       "      <td>True</td>\n",
       "    </tr>\n",
       "    <tr>\n",
       "      <th>...</th>\n",
       "      <td>...</td>\n",
       "      <td>...</td>\n",
       "      <td>...</td>\n",
       "      <td>...</td>\n",
       "      <td>...</td>\n",
       "      <td>...</td>\n",
       "      <td>...</td>\n",
       "      <td>...</td>\n",
       "    </tr>\n",
       "    <tr>\n",
       "      <th>97547</th>\n",
       "      <td>48b37086-25f7-4ecd-be66-f5bb378e3aea</td>\n",
       "      <td>10x 3' v2</td>\n",
       "      <td>cell</td>\n",
       "      <td>male</td>\n",
       "      <td>lung</td>\n",
       "      <td>lung</td>\n",
       "      <td>fibroblast of lung</td>\n",
       "      <td>True</td>\n",
       "    </tr>\n",
       "    <tr>\n",
       "      <th>97548</th>\n",
       "      <td>48b37086-25f7-4ecd-be66-f5bb378e3aea</td>\n",
       "      <td>10x 3' v2</td>\n",
       "      <td>cell</td>\n",
       "      <td>male</td>\n",
       "      <td>lung</td>\n",
       "      <td>lung</td>\n",
       "      <td>natural killer cell</td>\n",
       "      <td>True</td>\n",
       "    </tr>\n",
       "    <tr>\n",
       "      <th>97549</th>\n",
       "      <td>48b37086-25f7-4ecd-be66-f5bb378e3aea</td>\n",
       "      <td>10x 3' v2</td>\n",
       "      <td>cell</td>\n",
       "      <td>male</td>\n",
       "      <td>lung</td>\n",
       "      <td>lung</td>\n",
       "      <td>pulmonary interstitial fibroblast</td>\n",
       "      <td>True</td>\n",
       "    </tr>\n",
       "    <tr>\n",
       "      <th>97550</th>\n",
       "      <td>48b37086-25f7-4ecd-be66-f5bb378e3aea</td>\n",
       "      <td>10x 3' v2</td>\n",
       "      <td>cell</td>\n",
       "      <td>male</td>\n",
       "      <td>lung</td>\n",
       "      <td>lung</td>\n",
       "      <td>adventitial cell</td>\n",
       "      <td>True</td>\n",
       "    </tr>\n",
       "    <tr>\n",
       "      <th>97551</th>\n",
       "      <td>48b37086-25f7-4ecd-be66-f5bb378e3aea</td>\n",
       "      <td>10x 3' v2</td>\n",
       "      <td>cell</td>\n",
       "      <td>male</td>\n",
       "      <td>lung</td>\n",
       "      <td>lung</td>\n",
       "      <td>fibroblast of lung</td>\n",
       "      <td>True</td>\n",
       "    </tr>\n",
       "  </tbody>\n",
       "</table>\n",
       "<p>97552 rows × 8 columns</p>\n",
       "</div>"
      ],
      "text/plain": [
       "                                 dataset_id      assay suspension_type   \n",
       "0      047d57f2-4d14-45de-aa98-336c6f583750  10x 3' v2            cell  \\\n",
       "1      047d57f2-4d14-45de-aa98-336c6f583750  10x 3' v2            cell   \n",
       "2      047d57f2-4d14-45de-aa98-336c6f583750  10x 3' v2            cell   \n",
       "3      047d57f2-4d14-45de-aa98-336c6f583750  10x 3' v2            cell   \n",
       "4      047d57f2-4d14-45de-aa98-336c6f583750  10x 3' v2            cell   \n",
       "...                                     ...        ...             ...   \n",
       "97547  48b37086-25f7-4ecd-be66-f5bb378e3aea  10x 3' v2            cell   \n",
       "97548  48b37086-25f7-4ecd-be66-f5bb378e3aea  10x 3' v2            cell   \n",
       "97549  48b37086-25f7-4ecd-be66-f5bb378e3aea  10x 3' v2            cell   \n",
       "97550  48b37086-25f7-4ecd-be66-f5bb378e3aea  10x 3' v2            cell   \n",
       "97551  48b37086-25f7-4ecd-be66-f5bb378e3aea  10x 3' v2            cell   \n",
       "\n",
       "           sex tissue_general tissue                          cell_type   \n",
       "0      unknown           lung   lung              mesenchymal stem cell  \\\n",
       "1      unknown           lung   lung                    progenitor cell   \n",
       "2      unknown           lung   lung                   mesenchymal cell   \n",
       "3      unknown           lung   lung              mesenchymal stem cell   \n",
       "4      unknown           lung   lung                   mesenchymal cell   \n",
       "...        ...            ...    ...                                ...   \n",
       "97547     male           lung   lung                 fibroblast of lung   \n",
       "97548     male           lung   lung                natural killer cell   \n",
       "97549     male           lung   lung  pulmonary interstitial fibroblast   \n",
       "97550     male           lung   lung                   adventitial cell   \n",
       "97551     male           lung   lung                 fibroblast of lung   \n",
       "\n",
       "       is_primary_data  \n",
       "0                 True  \n",
       "1                 True  \n",
       "2                 True  \n",
       "3                 True  \n",
       "4                 True  \n",
       "...                ...  \n",
       "97547             True  \n",
       "97548             True  \n",
       "97549             True  \n",
       "97550             True  \n",
       "97551             True  \n",
       "\n",
       "[97552 rows x 8 columns]"
      ]
     },
     "execution_count": 9,
     "metadata": {},
     "output_type": "execute_result"
    }
   ],
   "source": [
    "df = gget.cellxgene(\n",
    "    meta_only=True,\n",
    "    gene=\"ENSMUSG00000015405\",\n",
    "    ensembl=True,  # Setting 'ensembl=True' here since the gene is passed as an Ensembl ID\n",
    "    tissue=\"lung\",\n",
    "    species=\"mus_musculus\",  # Let's switch up the species\n",
    ")\n",
    "\n",
    "df"
   ]
  },
  {
   "cell_type": "markdown",
   "metadata": {
    "id": "2QjJEJdS-He7"
   },
   "source": [
    "## Use [gget cellxgene](https://pachterlab.github.io/gget/cellxgene.html) from the command line\n",
    "All gget modules support use from the command line. Note that the command line interface requires the `-o/--out` argument to specify a path to save the fetched data. Here are the command line versions of the queries demonstrated above:"
   ]
  },
  {
   "cell_type": "code",
   "execution_count": 10,
   "metadata": {
    "id": "hDcS0fZ--BnB"
   },
   "outputs": [],
   "source": [
    "# # Fetch AnnData object based on specified genes, tissue and cell types\n",
    "# !gget cellxgene --gene ACE2 ABCA1 SLC5A1 --tissue lung --cell_type 'mucus secreting cell' 'neuroendocrine cell' -o example_adata.h5ad"
   ]
  },
  {
   "cell_type": "code",
   "execution_count": 11,
   "metadata": {
    "id": "f683tvIg-oEz"
   },
   "outputs": [],
   "source": [
    "# # Fetch only metadata\n",
    "# !gget cellxgene --meta_only --gene ENSMUSG00000015405 --ensembl --tissue lung --species mus_musculus -o example_meta.csv"
   ]
  }
 ],
 "metadata": {
  "colab": {
   "authorship_tag": "ABX9TyNFjo2T5D+XiXaUw7M181+t",
   "include_colab_link": true,
   "provenance": []
  },
  "kernelspec": {
   "display_name": "Python 3 (ipykernel)",
   "language": "python",
   "name": "python3"
  },
  "language_info": {
   "codemirror_mode": {
    "name": "ipython",
    "version": 3
   },
   "file_extension": ".py",
   "mimetype": "text/x-python",
   "name": "python",
   "nbconvert_exporter": "python",
   "pygments_lexer": "ipython3",
   "version": "3.10.10"
  }
 },
 "nbformat": 4,
 "nbformat_minor": 1
}
