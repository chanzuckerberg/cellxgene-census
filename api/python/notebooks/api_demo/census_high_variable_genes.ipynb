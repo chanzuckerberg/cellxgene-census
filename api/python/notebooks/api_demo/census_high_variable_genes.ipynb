{
 "cells": [
  {
   "cell_type": "markdown",
   "metadata": {},
   "source": [
    "# Computing on X: Highly Variable Genes\n",
    "\n",
    "*Goal:* demonstrate larger-than-core computation on X.\n",
    "\n",
    "This demo finds highly variable genes in a user-specified cell selection. It is similar to the [scanpy.pp.high_variable_genes](https://scanpy.readthedocs.io/en/stable/generated/scanpy.pp.highly_variable_genes.html) function, when called with `flavor='seurat_v3'`.\n",
    "\n",
    "*NOTE*: when query results are small, it may be easier to use the SOMAExperment Query class to extract an AnnData, and then just compute over that. This notebook is showing means of incrementally processing larger-than-core (RAM) data, where incremental (online) algorithms are used."
   ]
  },
  {
   "cell_type": "code",
   "execution_count": 3,
   "metadata": {},
   "outputs": [],
   "source": [
    "import cell_census\n",
    "import tiledbsoma as soma\n",
    "\n",
    "census = cell_census.open_soma()\n",
    "human = census[\"census_data\"][\"homo_sapiens\"]"
   ]
  },
  {
   "cell_type": "code",
   "execution_count": 4,
   "metadata": {},
   "outputs": [],
   "source": [
    "import numpy as np\n",
    "import pandas as pd\n",
    "import somacore\n",
    "\n",
    "from cell_census.compute import OnlineMatrixMeanVariance\n",
    "\n",
    "\n",
    "def highly_variable_genes(query: somacore.ExperimentAxisQuery, n_top_genes: int = 10) -> pd.DataFrame:\n",
    "    \"\"\"\n",
    "    Acknowledgements: scanpy highly variable genes implementation, github.com/scverse/scanpy\n",
    "    \"\"\"\n",
    "    try:\n",
    "        import skmisc.loess\n",
    "    except ImportError:\n",
    "        raise ImportError(\"Please install skmisc package via `pip install --user scikit-misc\")\n",
    "\n",
    "    indexer = query._indexer  # TODO: get_indexer() https://github.com/single-cell-data/TileDB-SOMA/issues/768\n",
    "    mvn = OnlineMatrixMeanVariance(query.n_obs, query.n_vars)\n",
    "    for arrow_tbl in query.X(\"raw\").tables():\n",
    "        var_dim = indexer.by_var(arrow_tbl[\"soma_dim_1\"])\n",
    "        data = arrow_tbl[\"soma_data\"].to_numpy()\n",
    "        mvn.update(var_dim, data)\n",
    "\n",
    "    u, v = mvn.finalize()\n",
    "    var_df = pd.DataFrame(\n",
    "        index=pd.Index(data=query.var_joinids(), name=\"soma_joinid\"),\n",
    "        data={\n",
    "            \"means\": u,\n",
    "            \"variances\": v,\n",
    "        },\n",
    "    )\n",
    "\n",
    "    estimated_variances = np.zeros((len(var_df),), dtype=np.float64)\n",
    "    not_const = v > 0\n",
    "    y = np.log10(v[not_const])\n",
    "    x = np.log10(u[not_const])\n",
    "    model = skmisc.loess.loess(x, y, span=0.3, degree=2)\n",
    "    model.fit()\n",
    "    estimated_variances[not_const] = model.outputs.fitted_values\n",
    "    reg_std = np.sqrt(10**estimated_variances)\n",
    "\n",
    "    # A second pass over the data is required because the clip value\n",
    "    # is determined by the first pass\n",
    "    N = query.n_obs\n",
    "    vmax = np.sqrt(N)\n",
    "    clip_val = reg_std * vmax + u\n",
    "    counts_sum = np.zeros((query.n_vars,), dtype=np.float64)  # clipped\n",
    "    squared_counts_sum = np.zeros((query.n_vars,), dtype=np.float64)  # clipped\n",
    "    for arrow_tbl in query.X(\"raw\").tables():\n",
    "        var_dim = indexer.by_var(arrow_tbl[\"soma_dim_1\"])\n",
    "        data = arrow_tbl[\"soma_data\"].to_numpy()\n",
    "        # clip\n",
    "        mask = data > clip_val[var_dim]\n",
    "        data = data.copy()\n",
    "        data[mask] = clip_val[var_dim[mask]]\n",
    "        np.add.at(counts_sum, var_dim, data)\n",
    "        np.add.at(squared_counts_sum, var_dim, data**2)\n",
    "\n",
    "    norm_gene_vars = (1 / ((N - 1) * np.square(reg_std))) * (\n",
    "        (N * np.square(u)) + squared_counts_sum - 2 * counts_sum * u\n",
    "    )\n",
    "    norm_gene_vars = norm_gene_vars.reshape(1, -1)\n",
    "\n",
    "    # argsort twice gives ranks, small rank means most variable\n",
    "    ranked_norm_gene_vars = np.argsort(np.argsort(-norm_gene_vars, axis=1), axis=1)\n",
    "\n",
    "    # this is done in SelectIntegrationFeatures() in Seurat v3\n",
    "    ranked_norm_gene_vars = ranked_norm_gene_vars.astype(np.float32)\n",
    "    num_batches_high_var = np.sum((ranked_norm_gene_vars < n_top_genes).astype(int), axis=0)\n",
    "    ranked_norm_gene_vars[ranked_norm_gene_vars >= n_top_genes] = np.nan\n",
    "    ma_ranked = np.ma.masked_invalid(ranked_norm_gene_vars)  # type: ignore\n",
    "    median_ranked = np.ma.median(ma_ranked, axis=0).filled(np.nan)  # type: ignore\n",
    "\n",
    "    var_df = var_df.assign(\n",
    "        highly_variable_nbatches=pd.Series(num_batches_high_var, index=var_df.index),\n",
    "        highly_variable_rank=pd.Series(median_ranked, index=var_df.index),\n",
    "        variances_norm=pd.Series(np.mean(norm_gene_vars, axis=0), index=var_df.index),\n",
    "    )\n",
    "\n",
    "    sorted_index = (\n",
    "        var_df[[\"highly_variable_rank\", \"highly_variable_nbatches\"]]\n",
    "        .sort_values(\n",
    "            [\"highly_variable_rank\", \"highly_variable_nbatches\"],\n",
    "            ascending=[True, False],\n",
    "            na_position=\"last\",\n",
    "        )\n",
    "        .index\n",
    "    )\n",
    "    var_df[\"highly_variable\"] = False\n",
    "    var_df = var_df.drop(columns=[\"highly_variable_nbatches\"])\n",
    "    var_df.loc[sorted_index[: int(n_top_genes)], \"highly_variable\"] = True\n",
    "    return var_df\n"
   ]
  },
  {
   "cell_type": "markdown",
   "metadata": {},
   "source": [
    "To use this funtion, which is also available in `cell_census.compute`, open a ExperimentQuery, and pass to the function as a parameter."
   ]
  },
  {
   "cell_type": "code",
   "execution_count": 5,
   "metadata": {},
   "outputs": [
    {
     "ename": "AttributeError",
     "evalue": "module 'tiledbsoma' has no attribute 'experiment_query'",
     "output_type": "error",
     "traceback": [
      "\u001b[0;31m---------------------------------------------------------------------------\u001b[0m",
      "\u001b[0;31mAttributeError\u001b[0m                            Traceback (most recent call last)",
      "Cell \u001b[0;32mIn[5], line 3\u001b[0m\n\u001b[1;32m      1\u001b[0m \u001b[38;5;28;01mwith\u001b[39;00m human\u001b[38;5;241m.\u001b[39maxis_query(\n\u001b[1;32m      2\u001b[0m     measurement_name\u001b[38;5;241m=\u001b[39m\u001b[38;5;124m\"\u001b[39m\u001b[38;5;124mRNA\u001b[39m\u001b[38;5;124m\"\u001b[39m,\n\u001b[0;32m----> 3\u001b[0m     obs_query\u001b[38;5;241m=\u001b[39m\u001b[43msoma\u001b[49m\u001b[38;5;241;43m.\u001b[39;49m\u001b[43mexperiment_query\u001b[49m\u001b[38;5;241m.\u001b[39mAxisQuery(value_filter\u001b[38;5;241m=\u001b[39m\u001b[38;5;124m\"\u001b[39m\u001b[38;5;124mtissue == \u001b[39m\u001b[38;5;124m'\u001b[39m\u001b[38;5;124mbrain\u001b[39m\u001b[38;5;124m'\u001b[39m\u001b[38;5;124m\"\u001b[39m),\n\u001b[1;32m      4\u001b[0m ) \u001b[38;5;28;01mas\u001b[39;00m query:\n\u001b[1;32m      5\u001b[0m     hvg \u001b[38;5;241m=\u001b[39m highly_variable_genes(query)\n\u001b[1;32m      7\u001b[0m display(hvg[hvg\u001b[38;5;241m.\u001b[39mhighly_variable])\n",
      "\u001b[0;31mAttributeError\u001b[0m: module 'tiledbsoma' has no attribute 'experiment_query'"
     ]
    }
   ],
   "source": [
    "with human.axis_query(\n",
    "    measurement_name=\"RNA\",\n",
    "    obs_query=somacore.AxisQuery(value_filter=\"tissue == 'brain'\"),\n",
    ") as query:\n",
    "    hvg = highly_variable_genes(query)\n",
    "\n",
    "display(hvg[hvg.highly_variable])"
   ]
  }
 ],
 "metadata": {
  "kernelspec": {
   "display_name": "Python 3 (ipykernel)",
   "language": "python",
   "name": "python3"
  },
  "language_info": {
   "codemirror_mode": {
    "name": "ipython",
    "version": 3
   },
   "file_extension": ".py",
   "mimetype": "text/x-python",
   "name": "python",
   "nbconvert_exporter": "python",
   "pygments_lexer": "ipython3",
   "version": "3.9.13"
  },
  "vscode": {
   "interpreter": {
    "hash": "3da8ec1c162cd849e59e6ea2824b2e353dce799884e910aae99411be5277f953"
   }
  }
 },
 "nbformat": 4,
 "nbformat_minor": 2
}
