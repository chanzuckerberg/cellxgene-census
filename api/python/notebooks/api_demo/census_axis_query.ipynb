{
 "cells": [
  {
   "cell_type": "markdown",
   "metadata": {},
   "source": [
    "# Querying axis metadata\n",
    "\n",
    "This notebook provides examples for basic axis metadata handling using Pandas. The Census stores `obs` (cell) and `var` (gene) metadata in `SOMADataFrame` objects via the [`TileDB-SOMA` API](https://github.com/single-cell-data/TileDB-SOMA) ([documentation](https://tiledbsoma.readthedocs.io/en/latest/)), which can be queried and read as a Pandas `DataFrame` using `TileDB-SOMA`. \n",
    "\n",
    "Note that Pandas `DataFrame` is an in-memory object, therefore queries should be small enough for results to fit in memory.\n",
    "\n",
    "**Contents**\n",
    "\n",
    "1. Opening the Census\n",
    "1. Summarizing cell metadata\n",
    "   1. Example: Summarize all cell types\n",
    "   1. Example: Summarize a subset of cell types, selected with a `value_filter`\n",
    "1. Full Census metadata stats\n",
    "\n",
    "\n",
    "## Opening the Census\n",
    "\n",
    "The `cellxgene_census` python package contains a convenient API to open the latest version of the Census. If you open the Census, you should close it. `open_soma()` returns a context, so you can open/close it in several ways, like a Python file handle. The context manager is preferred, as it will automatically close upon an error raise.\n",
    "\n",
    "You can learn more about the `cellxgene_census` methods by accessing their corresponding documentation via `help()`. For example `help(cellxgene_census.open_soma)`."
   ]
  },
  {
   "cell_type": "code",
   "execution_count": 1,
   "metadata": {
    "execution": {
     "iopub.execute_input": "2023-04-05T14:15:01.624465Z",
     "iopub.status.busy": "2023-04-05T14:15:01.624325Z",
     "iopub.status.idle": "2023-04-05T14:15:02.991913Z",
     "shell.execute_reply": "2023-04-05T14:15:02.989949Z"
    }
   },
   "outputs": [],
   "source": [
    "import cellxgene_census\n",
    "\n",
    "# Preferred: use a Python context manager\n",
    "with cellxgene_census.open_soma() as census:\n",
    "    ...\n",
    "\n",
    "# or, directly open the census (don't forget to close it!)\n",
    "census = cellxgene_census.open_soma()"
   ]
  },
  {
   "cell_type": "markdown",
   "metadata": {},
   "source": [
    "## Summarizing cell metadata\n",
    "\n",
    "Once the Census is open you can use its `TileDB-SOMA` methods as it is itself a `SOMACollection`. You can thus access the metadata `SOMADataFrame` objects encoding cell and gene metadata.\n",
    "\n",
    "Tips:\n",
    "\n",
    "- You can read an _entire_ `SOMADataFrame` into a Pandas `DataFrame` using `soma_df.read().concat().to_pandas()`, allowing the use of the standard Pandas API.\n",
    "- Queries will be much faster if you request only the DataFrame columns required for your analysis (e.g., `column_names=[\"cell_type_ontology_term_id\"]`).\n",
    "- You can also further refine query results by using a `value_filter`, which will filter the census for matching records.\n",
    "\n",
    "### Example: Summarize all cell types\n",
    "\n",
    "This example reads the cell metadata (`obs`) into a Pandas DataFrame, and summarizes in a variety of ways using Pandas API."
   ]
  },
  {
   "cell_type": "code",
   "execution_count": 2,
   "metadata": {
    "execution": {
     "iopub.execute_input": "2023-04-05T14:15:02.996704Z",
     "iopub.status.busy": "2023-04-05T14:15:02.996239Z",
     "iopub.status.idle": "2023-04-05T14:15:09.030449Z",
     "shell.execute_reply": "2023-04-05T14:15:09.029369Z"
    }
   },
   "outputs": [
    {
     "name": "stdout",
     "output_type": "stream",
     "text": [
      "There are 588 cell types in the Census! The first 10 are: ['CL:0000649', 'CL:0002187', 'CL:0000148', 'CL:0000312', 'CL:0000242', 'CL:0000988', 'CL:2000092', 'CL:0002189', 'CL:0000499', 'CL:0000623']\n",
      "\n",
      "The top 10 cell types and their counts are:\n",
      "cell_type_ontology_term_id\n",
      "CL:0000540    5186967\n",
      "CL:0000679    1889047\n",
      "CL:0000128    1744548\n",
      "CL:0000235    1458460\n",
      "CL:0000624    1343608\n",
      "CL:0000625    1285307\n",
      "CL:0000860    1251739\n",
      "CL:0000057    1075053\n",
      "CL:0000623    1040446\n",
      "CL:0000236     986032\n",
      "Name: count, dtype: int64\n"
     ]
    }
   ],
   "source": [
    "human = census[\"census_data\"][\"homo_sapiens\"]\n",
    "\n",
    "# Read entire _obs_ into a pandas dataframe.\n",
    "obs_df = human.obs.read(column_names=[\"cell_type_ontology_term_id\"]).concat().to_pandas()\n",
    "\n",
    "# Use Pandas API to find all unique values in the `cell_type_ontology_term_id` column.\n",
    "unique_cell_type_ontology_term_id = obs_df.cell_type_ontology_term_id.unique()\n",
    "\n",
    "# Display only the first 10, as there are a LOT!\n",
    "print(\n",
    "    f\"There are {len(unique_cell_type_ontology_term_id)} cell types in the Census! The first 10 are:\",\n",
    "    unique_cell_type_ontology_term_id[0:10].tolist(),\n",
    ")\n",
    "\n",
    "# Using Pandas API, count the instances of each cell type term and return the top 10.\n",
    "top_10 = obs_df.cell_type_ontology_term_id.value_counts()[0:10]\n",
    "print(\"\\nThe top 10 cell types and their counts are:\")\n",
    "print(top_10)"
   ]
  },
  {
   "cell_type": "markdown",
   "metadata": {},
   "source": [
    "### Example: Summarize a subset of cell types, selected with a `value_filter`\n",
    "\n",
    "This example utilizes a SOMA \"value filter\" to read the subset of cells with `tissue_ontology_term_id` equal to `UBERON:0002048` (lung tissue), and summarizes the query result using Pandas."
   ]
  },
  {
   "cell_type": "code",
   "execution_count": 3,
   "metadata": {
    "execution": {
     "iopub.execute_input": "2023-04-05T14:15:09.033542Z",
     "iopub.status.busy": "2023-04-05T14:15:09.033358Z",
     "iopub.status.idle": "2023-04-05T14:15:11.457820Z",
     "shell.execute_reply": "2023-04-05T14:15:11.455656Z"
    }
   },
   "outputs": [
    {
     "name": "stdout",
     "output_type": "stream",
     "text": [
      "There are 179 cell types in the Census where tissue_ontology_term_id == UBERON:0002048! The first 10 are: ['CL:1000271', 'CL:0000583', 'CL:0002063', 'CL:0000359', 'CL:1000143', 'CL:0000235', 'CL:4023054', 'CL:0000451', 'CL:0000623', 'CL:0000115']\n",
      "\n",
      "Top 10 cell types where tissue_ontology_term_id == UBERON:0002048\n",
      "cell_type_ontology_term_id\n",
      "CL:0000235    524362\n",
      "CL:0000583    330014\n",
      "CL:0000624    273098\n",
      "CL:0000625    251614\n",
      "CL:0000623    168957\n",
      "CL:0000003    168203\n",
      "CL:0002063    163561\n",
      "CL:0000860    160365\n",
      "CL:0001064    149067\n",
      "CL:0002632    126058\n",
      "Name: count, dtype: int64\n"
     ]
    }
   ],
   "source": [
    "# Count cell_type occurrences for cells with tissue == 'lung'\n",
    "human = census[\"census_data\"][\"homo_sapiens\"]\n",
    "\n",
    "# Read cell_type terms for cells which have a specific tissue term\n",
    "LUNG_TISSUE = \"UBERON:0002048\"\n",
    "\n",
    "obs_df = (\n",
    "    human.obs.read(\n",
    "        column_names=[\"cell_type_ontology_term_id\"],\n",
    "        value_filter=f\"tissue_ontology_term_id == '{LUNG_TISSUE}'\",\n",
    "    )\n",
    "    .concat()\n",
    "    .to_pandas()\n",
    ")\n",
    "\n",
    "# Use Pandas API to find all unique values in the `cell_type_ontology_term_id` column.\n",
    "unique_cell_type_ontology_term_id = obs_df.cell_type_ontology_term_id.unique()\n",
    "\n",
    "print(\n",
    "    f\"There are {len(unique_cell_type_ontology_term_id)} cell types in the Census where tissue_ontology_term_id == {LUNG_TISSUE}! The first 10 are:\",\n",
    "    unique_cell_type_ontology_term_id[0:10].tolist(),\n",
    ")\n",
    "\n",
    "# Use Pandas API to count, and grab 10 most common\n",
    "top_10 = obs_df.cell_type_ontology_term_id.value_counts()[0:10]\n",
    "print(f\"\\nTop 10 cell types where tissue_ontology_term_id == {LUNG_TISSUE}\")\n",
    "print(top_10)"
   ]
  },
  {
   "cell_type": "markdown",
   "metadata": {},
   "source": [
    "You can also define much more complex value filters. For example:\n",
    "* combine terms with `and` and `or`\n",
    "* use the `in` operator to query on multiple values"
   ]
  },
  {
   "cell_type": "code",
   "execution_count": 4,
   "metadata": {
    "execution": {
     "iopub.execute_input": "2023-04-05T14:15:11.461375Z",
     "iopub.status.busy": "2023-04-05T14:15:11.461211Z",
     "iopub.status.idle": "2023-04-05T14:15:13.495285Z",
     "shell.execute_reply": "2023-04-05T14:15:13.494695Z"
    }
   },
   "outputs": [
    {
     "data": {
      "text/plain": [
       "cell_type_ontology_term_id\n",
       "CL:0000746    159096\n",
       "CL:0008034     84750\n",
       "CL:0002548     79618\n",
       "CL:0000115     64190\n",
       "CL:0002131     61830\n",
       "CL:0000763     32088\n",
       "CL:0000669     27515\n",
       "CL:0000003     22707\n",
       "CL:0000057     20117\n",
       "CL:0002144     18593\n",
       "Name: count, dtype: int64"
      ]
     },
     "metadata": {},
     "output_type": "display_data"
    }
   ],
   "source": [
    "# You can also do more complex queries, such as testing for inclusion in a list of values\n",
    "human = census[\"census_data\"][\"homo_sapiens\"]\n",
    "\n",
    "VENTRICLES = [\"UBERON:0002082\", \"UBERON:OOO2084\", \"UBERON:0002080\"]\n",
    "\n",
    "obs_df = (\n",
    "    human.obs.read(\n",
    "        column_names=[\"cell_type_ontology_term_id\"],\n",
    "        value_filter=f\"tissue_ontology_term_id in {VENTRICLES}\",\n",
    "    )\n",
    "    .concat()\n",
    "    .to_pandas()\n",
    ")\n",
    "\n",
    "# Use Pandas API to summarize\n",
    "top_10 = obs_df.cell_type_ontology_term_id.value_counts()[0:10]\n",
    "display(top_10)"
   ]
  },
  {
   "cell_type": "markdown",
   "metadata": {},
   "source": [
    "## Full Census metadata stats\n",
    "\n",
    "This example queries all organisms in the Census, and summarizes the diversity of various metadata lables."
   ]
  },
  {
   "cell_type": "code",
   "execution_count": 5,
   "metadata": {
    "execution": {
     "iopub.execute_input": "2023-04-05T14:15:13.497559Z",
     "iopub.status.busy": "2023-04-05T14:15:13.497376Z",
     "iopub.status.idle": "2023-04-05T14:15:25.061544Z",
     "shell.execute_reply": "2023-04-05T14:15:25.058918Z"
    }
   },
   "outputs": [
    {
     "name": "stdout",
     "output_type": "stream",
     "text": [
      "Complete census contains 49423515 cells.\n",
      "homo_sapiens\n",
      "\tUnique cell_type_ontology_term_id values: 588\n",
      "\tUnique assay_ontology_term_id values: 20\n",
      "\tUnique tissue_ontology_term_id values: 216\n",
      "mus_musculus\n",
      "\tUnique cell_type_ontology_term_id values: 211\n",
      "\tUnique assay_ontology_term_id values: 9\n",
      "\tUnique tissue_ontology_term_id values: 45\n"
     ]
    }
   ],
   "source": [
    "COLS_TO_QUERY = [\n",
    "    \"cell_type_ontology_term_id\",\n",
    "    \"assay_ontology_term_id\",\n",
    "    \"tissue_ontology_term_id\",\n",
    "]\n",
    "\n",
    "obs_df = {\n",
    "    name: experiment.obs.read(column_names=COLS_TO_QUERY).concat().to_pandas()\n",
    "    for name, experiment in census[\"census_data\"].items()\n",
    "}\n",
    "\n",
    "# Use Pandas API to summarize each organism\n",
    "print(f\"Complete census contains {sum(len(df) for df in obs_df.values())} cells.\")\n",
    "for organism, df in obs_df.items():\n",
    "    print(organism)\n",
    "    for col in COLS_TO_QUERY:\n",
    "        print(f\"\\tUnique {col} values: {len(df[col].unique())}\")"
   ]
  },
  {
   "cell_type": "markdown",
   "metadata": {},
   "source": [
    "Close the census"
   ]
  },
  {
   "cell_type": "code",
   "execution_count": 6,
   "metadata": {
    "execution": {
     "iopub.execute_input": "2023-04-05T14:15:25.065958Z",
     "iopub.status.busy": "2023-04-05T14:15:25.065733Z",
     "iopub.status.idle": "2023-04-05T14:15:25.072353Z",
     "shell.execute_reply": "2023-04-05T14:15:25.070365Z"
    }
   },
   "outputs": [],
   "source": [
    "census.close()"
   ]
  }
 ],
 "metadata": {
  "kernelspec": {
   "display_name": "Python 3 (ipykernel)",
   "language": "python",
   "name": "python3"
  },
  "language_info": {
   "codemirror_mode": {
    "name": "ipython",
    "version": 3
   },
   "file_extension": ".py",
   "mimetype": "text/x-python",
   "name": "python",
   "nbconvert_exporter": "python",
   "pygments_lexer": "ipython3",
   "version": "3.10.10"
  },
  "vscode": {
   "interpreter": {
    "hash": "3da8ec1c162cd849e59e6ea2824b2e353dce799884e910aae99411be5277f953"
   }
  }
 },
 "nbformat": 4,
 "nbformat_minor": 2
}
