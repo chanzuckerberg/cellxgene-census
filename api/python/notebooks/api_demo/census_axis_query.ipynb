{
 "cells": [
  {
   "cell_type": "markdown",
   "metadata": {},
   "source": [
    "# Axis Query Example\n",
    "\n",
    "_Goal:_ demonstrate basic axis metadata handling using Pandas.\n",
    "\n",
    "The CZ Cell Census stores obs (cell) metadata in a SOMA DataFrame, which can be queried and read as a Pandas DataFrame. The Cell Census also has a convenience package which simplifies opening the census.\n",
    "\n",
    "Pandas DataFrame is an in-memory object. Take care that queries are small enough for results to fit in memory.\n",
    "\n",
    "## Open the census\n",
    "\n",
    "The `cell_census` Python package contains a convenient API to open the latest version of the Cell Census."
   ]
  },
  {
   "cell_type": "code",
   "execution_count": 1,
   "metadata": {
    "execution": {
     "iopub.execute_input": "2023-01-31T19:40:26.784214Z",
     "iopub.status.busy": "2023-01-31T19:40:26.783450Z",
     "iopub.status.idle": "2023-01-31T19:40:27.867697Z",
     "shell.execute_reply": "2023-01-31T19:40:27.866794Z"
    }
   },
   "outputs": [],
   "source": [
    "import cell_census\n",
    "\n",
    "census = cell_census.open_soma()\n",
    "human = census[\"census_data\"][\"homo_sapiens\"]"
   ]
  },
  {
   "cell_type": "markdown",
   "metadata": {},
   "source": [
    "## Summarize Census cell metadata\n",
    "\n",
    "Tips:\n",
    "\n",
    "- You can read an _entire_ SOMA dataframe into a Pandas DataFrame using `soma_df.read().concat().to_pandas()`, allowing the use of the standard Pandas API.\n",
    "- Queries will be much faster if you request only the DataFrame columns required for your analysis (e.g., `column_names=[\"cell_type_ontology_term_id\"]`).\n",
    "- You can also further refine query results by using a `value_filter`, which will filter the census for matching records.\n",
    "\n",
    "### Example 1 - Summarize all cell types\n",
    "\n",
    "This example reads the cell metadata (obs) into a Pandas DataFrame, and summarizes in a variety of ways using Pandas API."
   ]
  },
  {
   "cell_type": "code",
   "execution_count": 2,
   "metadata": {
    "execution": {
     "iopub.execute_input": "2023-01-31T19:40:27.870658Z",
     "iopub.status.busy": "2023-01-31T19:40:27.870337Z",
     "iopub.status.idle": "2023-01-31T19:40:34.214919Z",
     "shell.execute_reply": "2023-01-31T19:40:34.213907Z"
    }
   },
   "outputs": [
    {
     "name": "stdout",
     "output_type": "stream",
     "text": [
      "There are 557 cell types in the Cell Census! The first 10 are: ['CL:0000128', 'CL:1000309', 'CL:0002573', 'CL:0002377', 'CL:0000540', 'CL:0002375', 'CL:0011020', 'CL:1000271', 'CL:0000451', 'CL:0000232']\n",
      "\n",
      "The top 10 cell types and their counts are:\n",
      "CL:0000540    5175149\n",
      "CL:0000679    1889047\n",
      "CL:0000128    1744101\n",
      "CL:0000235    1383967\n",
      "CL:0000624    1286352\n",
      "CL:0000860    1246265\n",
      "CL:0000625    1243990\n",
      "CL:0000623    1027763\n",
      "CL:0000236     959272\n",
      "CL:0000057     938539\n",
      "Name: cell_type_ontology_term_id, dtype: int64\n"
     ]
    }
   ],
   "source": [
    "# Read entire _obs_ into a pandas dataframe.\n",
    "obs_df = human.obs.read(column_names=[\"cell_type_ontology_term_id\"]).concat().to_pandas()\n",
    "\n",
    "# Use Pandas API to find all unique values in the `cell_type_ontology_term_id` column.\n",
    "unique_cell_type_ontology_term_id = obs_df.cell_type_ontology_term_id.unique()\n",
    "\n",
    "# Display only the first 10, as there are a LOT!\n",
    "print(\n",
    "    f\"There are {len(unique_cell_type_ontology_term_id)} cell types in the Cell Census! The first 10 are:\",\n",
    "    unique_cell_type_ontology_term_id[0:10].tolist(),\n",
    ")\n",
    "\n",
    "# Using Pandas API, count the instances of each cell type term and return the top 10.\n",
    "top_10 = obs_df.cell_type_ontology_term_id.value_counts()[0:10]\n",
    "print(\"\\nThe top 10 cell types and their counts are:\")\n",
    "print(top_10)"
   ]
  },
  {
   "cell_type": "markdown",
   "metadata": {},
   "source": [
    "### Summarize a subset of cell types, selected with a `value_filter`\n",
    "\n",
    "This example utilizes a SOMA \"value filter\" to read the subset of cells with `tissue_ontology_term_id` equal to `UBERON:0002048` (lung tissue), and summarizes the query result using Pandas."
   ]
  },
  {
   "cell_type": "code",
   "execution_count": 3,
   "metadata": {
    "execution": {
     "iopub.execute_input": "2023-01-31T19:40:34.239947Z",
     "iopub.status.busy": "2023-01-31T19:40:34.239779Z",
     "iopub.status.idle": "2023-01-31T19:40:38.376310Z",
     "shell.execute_reply": "2023-01-31T19:40:38.375389Z"
    }
   },
   "outputs": [
    {
     "name": "stdout",
     "output_type": "stream",
     "text": [
      "There are 176 cell types in the Cell Census where tissue_ontology_term_id == UBERON:0002048! The first 10 are: ['CL:0002573', 'CL:0002377', 'CL:0000540', 'CL:0002375', 'CL:0011020', 'CL:1000271', 'CL:0000789', 'CL:0000939', 'CL:0001062', 'CL:0000492']\n",
      "\n",
      "Top 10 cell types where tissue_ontology_term_id == UBERON:0002048\n",
      "CL:0000235    514828\n",
      "CL:0000583    317503\n",
      "CL:0000624    265512\n",
      "CL:0000625    248053\n",
      "CL:0000003    168203\n",
      "CL:0000623    164002\n",
      "CL:0000860    160365\n",
      "CL:0001064    149067\n",
      "CL:0002063    142612\n",
      "CL:0002632    126058\n",
      "Name: cell_type_ontology_term_id, dtype: int64\n"
     ]
    }
   ],
   "source": [
    "# Count cell_type occurrences for cells with tissue == 'lung'\n",
    "\n",
    "# Read cell_type terms for cells which have a specific tissue term\n",
    "LUNG_TISSUE = \"UBERON:0002048\"\n",
    "\n",
    "obs_df = (\n",
    "    human.obs.read(\n",
    "        column_names=[\"cell_type_ontology_term_id\"],\n",
    "        value_filter=f\"tissue_ontology_term_id == '{LUNG_TISSUE}'\",\n",
    "    )\n",
    "    .concat()\n",
    "    .to_pandas()\n",
    ")\n",
    "\n",
    "# Use Pandas API to find all unique values in the `cell_type_ontology_term_id` column.\n",
    "unique_cell_type_ontology_term_id = obs_df.cell_type_ontology_term_id.unique()\n",
    "\n",
    "print(\n",
    "    f\"There are {len(unique_cell_type_ontology_term_id)} cell types in the Cell Census where tissue_ontology_term_id == {LUNG_TISSUE}! The first 10 are:\",\n",
    "    unique_cell_type_ontology_term_id[0:10].tolist(),\n",
    ")\n",
    "\n",
    "# Use Pandas API to count, and grab 10 most common\n",
    "top_10 = obs_df.cell_type_ontology_term_id.value_counts()[0:10]\n",
    "print(f\"\\nTop 10 cell types where tissue_ontology_term_id == {LUNG_TISSUE}\")\n",
    "print(top_10)"
   ]
  },
  {
   "cell_type": "markdown",
   "metadata": {},
   "source": [
    "You can also define much more complex value filters. For example:\n",
    "* combine terms with `and` and `or`\n",
    "* use the `in` operator to query on multiple values"
   ]
  },
  {
   "cell_type": "code",
   "execution_count": 4,
   "metadata": {
    "execution": {
     "iopub.execute_input": "2023-01-31T19:40:38.379046Z",
     "iopub.status.busy": "2023-01-31T19:40:38.378893Z",
     "iopub.status.idle": "2023-01-31T19:40:42.153370Z",
     "shell.execute_reply": "2023-01-31T19:40:42.152387Z"
    }
   },
   "outputs": [
    {
     "data": {
      "text/plain": [
       "CL:0000746    158188\n",
       "CL:0008034     84750\n",
       "CL:0002548     79618\n",
       "CL:0000115     64114\n",
       "CL:0002131     61830\n",
       "CL:0000763     31318\n",
       "CL:0000669     27104\n",
       "CL:0000003     22650\n",
       "CL:0000057     19380\n",
       "CL:0002144     18050\n",
       "Name: cell_type_ontology_term_id, dtype: int64"
      ]
     },
     "metadata": {},
     "output_type": "display_data"
    }
   ],
   "source": [
    "# You can also do more complex queries, such as testing for inclusion in a list of values\n",
    "\n",
    "VENTRICLES = [\"UBERON:0002082\", \"UBERON:OOO2084\", \"UBERON:0002080\"]\n",
    "\n",
    "obs_df = (\n",
    "    human.obs.read(\n",
    "        column_names=[\"cell_type_ontology_term_id\"],\n",
    "        value_filter=f\"tissue_ontology_term_id in {VENTRICLES}\",\n",
    "    )\n",
    "    .concat()\n",
    "    .to_pandas()\n",
    ")\n",
    "\n",
    "# Use Pandas API to summarize\n",
    "top_10 = obs_df.cell_type_ontology_term_id.value_counts()[0:10]\n",
    "display(top_10)"
   ]
  },
  {
   "cell_type": "markdown",
   "metadata": {},
   "source": [
    "## Full census stats\n",
    "\n",
    "This example queries all organisms in the Census, and summarizes the diversity of various metadata lables."
   ]
  },
  {
   "cell_type": "code",
   "execution_count": 5,
   "metadata": {
    "execution": {
     "iopub.execute_input": "2023-01-31T19:40:42.156087Z",
     "iopub.status.busy": "2023-01-31T19:40:42.155935Z",
     "iopub.status.idle": "2023-01-31T19:40:53.131251Z",
     "shell.execute_reply": "2023-01-31T19:40:53.130575Z"
    }
   },
   "outputs": [
    {
     "name": "stdout",
     "output_type": "stream",
     "text": [
      "Complete cell census contains 47168264 cells.\n",
      "homo_sapiens\n",
      "\tUnique cell_type_ontology_term_id values: 557\n",
      "\tUnique assay_ontology_term_id values: 20\n",
      "\tUnique tissue_ontology_term_id values: 197\n",
      "mus_musculus\n",
      "\tUnique cell_type_ontology_term_id values: 211\n",
      "\tUnique assay_ontology_term_id values: 9\n",
      "\tUnique tissue_ontology_term_id values: 45\n"
     ]
    }
   ],
   "source": [
    "COLS_TO_QUERY = [\n",
    "    \"cell_type_ontology_term_id\",\n",
    "    \"assay_ontology_term_id\",\n",
    "    \"tissue_ontology_term_id\",\n",
    "]\n",
    "\n",
    "obs_df = {\n",
    "    name: experiment.obs.read(column_names=COLS_TO_QUERY).concat().to_pandas()\n",
    "    for name, experiment in census[\"census_data\"].items()\n",
    "}\n",
    "\n",
    "# Use Pandas API to summarize each organism\n",
    "print(f\"Complete cell census contains {sum(len(df) for df in obs_df.values())} cells.\")\n",
    "for organism, df in obs_df.items():\n",
    "    print(organism)\n",
    "    for col in COLS_TO_QUERY:\n",
    "        print(f\"\\tUnique {col} values: {len(df[col].unique())}\")"
   ]
  }
 ],
 "metadata": {
  "kernelspec": {
   "display_name": "Python 3 (ipykernel)",
   "language": "python",
   "name": "python3"
  },
  "language_info": {
   "codemirror_mode": {
    "name": "ipython",
    "version": 3
   },
   "file_extension": ".py",
   "mimetype": "text/x-python",
   "name": "python",
   "nbconvert_exporter": "python",
   "pygments_lexer": "ipython3",
   "version": "3.10.6"
  },
  "vscode": {
   "interpreter": {
    "hash": "3da8ec1c162cd849e59e6ea2824b2e353dce799884e910aae99411be5277f953"
   }
  }
 },
 "nbformat": 4,
 "nbformat_minor": 2
}
