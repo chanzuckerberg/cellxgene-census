{
 "cells": [
  {
   "cell_type": "markdown",
   "metadata": {},
   "source": [
    "# Axis Query Example\n",
    "\n",
    "_Goal:_ demonstrate basic axis metadata handling using Pandas.\n",
    "\n",
    "The CZ Cell Census stores obs (cell) metadata in a SOMA DataFrame, which can be queried and read as a Pandas DataFrame. The Cell Census also has a convenience package which simplifies opening the census.\n",
    "\n",
    "Pandas DataFrame is an in-memory object. Take care that queries are small enough for results to fit in memory.\n",
    "\n",
    "## Open the census\n",
    "\n",
    "The `cell_census` Python package contains a convenient API to open the latest version of the Cell Census."
   ]
  },
  {
   "cell_type": "code",
   "execution_count": 1,
   "metadata": {
    "execution": {
     "iopub.execute_input": "2023-01-20T19:04:54.215719Z",
     "iopub.status.busy": "2023-01-20T19:04:54.215163Z",
     "iopub.status.idle": "2023-01-20T19:04:55.272043Z",
     "shell.execute_reply": "2023-01-20T19:04:55.271416Z"
    }
   },
   "outputs": [],
   "source": [
    "import cell_census\n",
    "\n",
    "census = cell_census.open_soma()\n",
    "human = census[\"census_data\"][\"homo_sapiens\"]"
   ]
  },
  {
   "cell_type": "markdown",
   "metadata": {},
   "source": [
    "## Summarize Census cell metadata\n",
    "\n",
    "Tips:\n",
    "\n",
    "- You can read an _entire_ SOMA dataframe into a Pandas DataFrame using `soma_df.read().concat().to_pandas()`, allowing the use of the standard Pandas API.\n",
    "- Queries will be much faster if you request only the DataFrame columns required for your analysis (e.g., `column_names=[\"cell_type_ontology_term_id\"]`).\n",
    "- You can also further refine query results by using a `value_filter`, which will filter the census for matching records.\n",
    "\n",
    "### Example 1 - Summarize all cell types\n",
    "\n",
    "This example reads the cell metadata (obs) into a Pandas DataFrame, and summarizes in a variety of ways using Pandas API."
   ]
  },
  {
   "cell_type": "code",
   "execution_count": 2,
   "metadata": {
    "execution": {
     "iopub.execute_input": "2023-01-20T19:04:55.275402Z",
     "iopub.status.busy": "2023-01-20T19:04:55.274941Z",
     "iopub.status.idle": "2023-01-20T19:05:01.971522Z",
     "shell.execute_reply": "2023-01-20T19:05:01.970793Z"
    }
   },
   "outputs": [
    {
     "name": "stdout",
     "output_type": "stream",
     "text": [
      "There are 557 cell types in the Cell Census! The first 10 are: ['CL:1000329', 'CL:0000787', 'CL:0000798', 'CL:0000909', 'CL:0000151', 'CL:1000348', 'CL:0000064', 'CL:0000576', 'CL:0000451', 'CL:0000898']\n",
      "\n",
      "The top 10 cell types and their counts are:\n",
      "CL:0000540    5182457\n",
      "CL:0000679    1889047\n",
      "CL:0000128    1749229\n",
      "CL:0000235    1380985\n",
      "CL:0000624    1286352\n",
      "CL:0000860    1246265\n",
      "CL:0000625    1243990\n",
      "CL:0000623    1024054\n",
      "CL:0000236     957144\n",
      "CL:0000057     933179\n",
      "Name: cell_type_ontology_term_id, dtype: int64\n"
     ]
    }
   ],
   "source": [
    "# Read entire _obs_ into a pandas dataframe.\n",
    "obs_df = human.obs.read(column_names=[\"cell_type_ontology_term_id\"]).concat().to_pandas()\n",
    "\n",
    "# Use Pandas API to find all unique values in the `cell_type_ontology_term_id` column.\n",
    "unique_cell_type_ontology_term_id = obs_df.cell_type_ontology_term_id.unique()\n",
    "\n",
    "# Display only the first 10, as there are a LOT!\n",
    "print(\n",
    "    f\"There are {len(unique_cell_type_ontology_term_id)} cell types in the Cell Census! The first 10 are:\",\n",
    "    unique_cell_type_ontology_term_id[0:10].tolist(),\n",
    ")\n",
    "\n",
    "# Using Pandas API, count the instances of each cell type term and return the top 10.\n",
    "top_10 = obs_df.cell_type_ontology_term_id.value_counts()[0:10]\n",
    "print(\"\\nThe top 10 cell types and their counts are:\")\n",
    "print(top_10)"
   ]
  },
  {
   "cell_type": "markdown",
   "metadata": {},
   "source": [
    "### Summarize a subset of cell types, selected with a `value_fitler`\n",
    "\n",
    "This example utilizes a SOMA \"value filter\" to read the subset of cells with `tissue_ontologyy_term_id` equal to `UBERON:0002048` (lung tissue), and summarizes the query result using Pandas."
   ]
  },
  {
   "cell_type": "code",
   "execution_count": 3,
   "metadata": {
    "execution": {
     "iopub.execute_input": "2023-01-20T19:05:02.007571Z",
     "iopub.status.busy": "2023-01-20T19:05:02.007015Z",
     "iopub.status.idle": "2023-01-20T19:05:07.758886Z",
     "shell.execute_reply": "2023-01-20T19:05:07.758132Z"
    }
   },
   "outputs": [
    {
     "name": "stdout",
     "output_type": "stream",
     "text": [
      "There are 176 cell types in the Cell Census where tissue_ontology_term_id == UBERON:0002048! The first 10 are: ['CL:0002325', 'CL:0000064', 'CL:0000875', 'CL:0000236', 'CL:0000623', 'CL:0000235', 'CL:0000084', 'CL:0000003', 'CL:0000186', 'CL:0000115']\n",
      "\n",
      "Top 10 cell types where tissue_ontology_term_id == UBERON:0002048\n",
      "CL:0000235    514828\n",
      "CL:0000583    317503\n",
      "CL:0000624    265512\n",
      "CL:0000625    248053\n",
      "CL:0000003    168203\n",
      "CL:0000623    164002\n",
      "CL:0000860    160365\n",
      "CL:0001064    149067\n",
      "CL:0002063    142612\n",
      "CL:0002632    126058\n",
      "Name: cell_type_ontology_term_id, dtype: int64\n"
     ]
    }
   ],
   "source": [
    "# Count cell_type occurrences for cells with tissue == 'lung'\n",
    "\n",
    "# Read cell_type terms for cells which have a specific tissue term\n",
    "LUNG_TISSUE = \"UBERON:0002048\"\n",
    "\n",
    "obs_df = human.obs.read(\n",
    "    column_names=[\"cell_type_ontology_term_id\"],\n",
    "    value_filter=f\"tissue_ontology_term_id == '{LUNG_TISSUE}'\",\n",
    ").concat().to_pandas()\n",
    "\n",
    "# Use Pandas API to find all unique values in the `cell_type_ontology_term_id` column.\n",
    "unique_cell_type_ontology_term_id = obs_df.cell_type_ontology_term_id.unique()\n",
    "\n",
    "print(\n",
    "    f\"There are {len(unique_cell_type_ontology_term_id)} cell types in the Cell Census where tissue_ontology_term_id == {LUNG_TISSUE}! The first 10 are:\",\n",
    "    unique_cell_type_ontology_term_id[0:10].tolist(),\n",
    ")\n",
    "\n",
    "# Use Pandas API to count, and grab 10 most common\n",
    "top_10 = obs_df.cell_type_ontology_term_id.value_counts()[0:10]\n",
    "print(f\"\\nTop 10 cell types where tissue_ontology_term_id == {LUNG_TISSUE}\")\n",
    "print(top_10)"
   ]
  },
  {
   "cell_type": "markdown",
   "metadata": {},
   "source": [
    "You can also define much more complex value filters. For example:\n",
    "* combine terms with `and` and `or`\n",
    "* use the `in` operator to query on multiple values"
   ]
  },
  {
   "cell_type": "code",
   "execution_count": 4,
   "metadata": {
    "execution": {
     "iopub.execute_input": "2023-01-20T19:05:07.761787Z",
     "iopub.status.busy": "2023-01-20T19:05:07.761499Z",
     "iopub.status.idle": "2023-01-20T19:05:12.068978Z",
     "shell.execute_reply": "2023-01-20T19:05:12.068256Z"
    }
   },
   "outputs": [
    {
     "data": {
      "text/plain": [
       "CL:0000746    158188\n",
       "CL:0008034     84750\n",
       "CL:0002548     79618\n",
       "CL:0000115     64114\n",
       "CL:0002131     61830\n",
       "CL:0000763     31318\n",
       "CL:0000669     27104\n",
       "CL:0000003     22650\n",
       "CL:0000057     19380\n",
       "CL:0002144     18050\n",
       "Name: cell_type_ontology_term_id, dtype: int64"
      ]
     },
     "metadata": {},
     "output_type": "display_data"
    }
   ],
   "source": [
    "# You can also do more complex queries, such as testing for inclusion in a list of values\n",
    "\n",
    "VENTRICLES = [\"UBERON:0002082\", \"UBERON:OOO2084\", \"UBERON:0002080\"]\n",
    "\n",
    "obs_df = human.obs.read(\n",
    "    column_names=[\"cell_type_ontology_term_id\"],\n",
    "    value_filter=f\"tissue_ontology_term_id in {VENTRICLES}\",\n",
    ").concat().to_pandas()\n",
    "\n",
    "# Use Pandas API to summarize\n",
    "top_10 = obs_df.cell_type_ontology_term_id.value_counts()[0:10]\n",
    "display(top_10)"
   ]
  },
  {
   "cell_type": "markdown",
   "metadata": {},
   "source": [
    "## Full census stats\n",
    "\n",
    "This example queries all organisms in the Census, and summarizes the diversity of various metadata lables."
   ]
  },
  {
   "cell_type": "code",
   "execution_count": 5,
   "metadata": {
    "execution": {
     "iopub.execute_input": "2023-01-20T19:05:12.071903Z",
     "iopub.status.busy": "2023-01-20T19:05:12.071615Z",
     "iopub.status.idle": "2023-01-20T19:05:24.807914Z",
     "shell.execute_reply": "2023-01-20T19:05:24.807204Z"
    }
   },
   "outputs": [
    {
     "name": "stdout",
     "output_type": "stream",
     "text": [
      "Complete cell census contains 47129886 cells.\n",
      "homo_sapiens\n",
      "\tUnique cell_type_ontology_term_id values: 557\n",
      "\tUnique assay_ontology_term_id values: 20\n",
      "\tUnique tissue_ontology_term_id values: 196\n",
      "mus_musculus\n",
      "\tUnique cell_type_ontology_term_id values: 211\n",
      "\tUnique assay_ontology_term_id values: 9\n",
      "\tUnique tissue_ontology_term_id values: 45\n"
     ]
    }
   ],
   "source": [
    "COLS_TO_QUERY = [\n",
    "    \"cell_type_ontology_term_id\",\n",
    "    \"assay_ontology_term_id\",\n",
    "    \"tissue_ontology_term_id\",\n",
    "]\n",
    "\n",
    "obs_df = {\n",
    "    name: experiment.obs.read(column_names=COLS_TO_QUERY).concat().to_pandas()\n",
    "    for name, experiment in census[\"census_data\"].items()\n",
    "}\n",
    "\n",
    "# Use Pandas API to summarize each organism\n",
    "print(f\"Complete cell census contains {sum(len(df) for df in obs_df.values())} cells.\")\n",
    "for organism, df in obs_df.items():\n",
    "    print(organism)\n",
    "    for col in COLS_TO_QUERY:\n",
    "        print(f\"\\tUnique {col} values: {len(df[col].unique())}\")"
   ]
  }
 ],
 "metadata": {
  "kernelspec": {
   "display_name": "Python 3 (ipykernel)",
   "language": "python",
   "name": "python3"
  },
  "language_info": {
   "codemirror_mode": {
    "name": "ipython",
    "version": 3
   },
   "file_extension": ".py",
   "mimetype": "text/x-python",
   "name": "python",
   "nbconvert_exporter": "python",
   "pygments_lexer": "ipython3",
   "version": "3.10.6"
  },
  "vscode": {
   "interpreter": {
    "hash": "3da8ec1c162cd849e59e6ea2824b2e353dce799884e910aae99411be5277f953"
   }
  }
 },
 "nbformat": 4,
 "nbformat_minor": 2
}
