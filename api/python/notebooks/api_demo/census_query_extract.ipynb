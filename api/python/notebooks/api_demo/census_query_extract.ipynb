{
 "cells": [
  {
   "cell_type": "markdown",
   "metadata": {},
   "source": [
    "# Cell Census query & extract subsets\n",
    "\n",
    "_Goal:_ demonstrate the ability to query subsets of the Cell Census based upon user-defined obs/var metadata, and extract those slices into in-memory data structures for further analysis.\n",
    "\n",
    "**NOTE:** all examples in this notebook assume that sufficient memory exists on the host machine to store query results. There are other notebooks which provide examples for out-of-core processing."
   ]
  },
  {
   "cell_type": "code",
   "execution_count": 1,
   "metadata": {
    "execution": {
     "iopub.execute_input": "2023-03-24T16:06:09.342234Z",
     "iopub.status.busy": "2023-03-24T16:06:09.342042Z",
     "iopub.status.idle": "2023-03-24T16:06:12.614127Z",
     "shell.execute_reply": "2023-03-24T16:06:12.612744Z"
    }
   },
   "outputs": [],
   "source": [
    "import cell_census\n",
    "\n",
    "census = cell_census.open_soma(census_version=\"latest\")"
   ]
  },
  {
   "cell_type": "markdown",
   "metadata": {},
   "source": [
    "The Cell Census includes SOMA Experiments for both human and mouse. These experiments can be queried based upon metadata values (eg, tissue type), and the query result can be extracted into a variety of formats.\n",
    "\n",
    "> ⚠️ **NOTE:** The following is experimental query code. It is is built upon SOMA, but not (yet) part of SOMA. If it becomes sufficiently useful, we plan to propose it as a SOMA extension.\n",
    "\n",
    "Basic idea:\n",
    "\n",
    "- define per-axis (i.e., obs, var) query criteria\n",
    "- specify the experiment and measurement name to be queried\n",
    "- specify the column names you want as part of the results\n",
    "- and read the query result _into an in-memory format_.\n",
    "\n",
    "This utilizes the SOMA `value_filter` query language. Keep in mind that the results must fit into memory, so it is best to define a selective query _and_ only fetch those axis metadata columns which are necessary.\n",
    "\n",
    "The `cell_census` package includes a convenience function to extract a slice of the Census and read into an [AnnData](https://anndata.readthedocs.io/en/latest/), for use with [ScanPy](https://scanpy.readthedocs.io/en/stable/). This function accepts a variety of arguments, including:\n",
    "* the organism to slice\n",
    "* the per-axis slice criteria\n",
    "* the columns to fetch and include in the AnnData\n",
    "\n",
    "For more complex query scenarios, there is an advanced query API demonstrated in other notebooks."
   ]
  },
  {
   "cell_type": "code",
   "execution_count": 2,
   "metadata": {
    "execution": {
     "iopub.execute_input": "2023-03-24T16:06:12.617840Z",
     "iopub.status.busy": "2023-03-24T16:06:12.616984Z",
     "iopub.status.idle": "2023-03-24T16:07:40.758382Z",
     "shell.execute_reply": "2023-03-24T16:07:40.757800Z"
    }
   },
   "outputs": [
    {
     "data": {
      "text/plain": [
       "AnnData object with n_obs × n_vars = 119269 × 60664\n",
       "    obs: 'soma_joinid', 'dataset_id', 'assay', 'assay_ontology_term_id', 'cell_type', 'cell_type_ontology_term_id', 'development_stage', 'development_stage_ontology_term_id', 'disease', 'disease_ontology_term_id', 'donor_id', 'is_primary_data', 'self_reported_ethnicity', 'self_reported_ethnicity_ontology_term_id', 'sex', 'sex_ontology_term_id', 'suspension_type', 'tissue', 'tissue_ontology_term_id', 'tissue_general', 'tissue_general_ontology_term_id'\n",
       "    var: 'soma_joinid', 'feature_id', 'feature_name', 'feature_length'"
      ]
     },
     "metadata": {},
     "output_type": "display_data"
    }
   ],
   "source": [
    "# Define a simple obs-axis query for all cells where tissue is UBERON:0001264 and sex is PATO:0000383.\n",
    "adata = cell_census.get_anndata(\n",
    "    census,\n",
    "    \"Homo sapiens\",\n",
    "    obs_value_filter=\"tissue_ontology_term_id=='UBERON:0002048' and sex_ontology_term_id=='PATO:0000383' and cell_type_ontology_term_id in ['CL:0002063', 'CL:0000499']\",\n",
    ")\n",
    "\n",
    "display(adata)"
   ]
  },
  {
   "cell_type": "code",
   "execution_count": 3,
   "metadata": {
    "execution": {
     "iopub.execute_input": "2023-03-24T16:07:40.760150Z",
     "iopub.status.busy": "2023-03-24T16:07:40.759998Z",
     "iopub.status.idle": "2023-03-24T16:08:10.866591Z",
     "shell.execute_reply": "2023-03-24T16:08:10.866048Z"
    }
   },
   "outputs": [
    {
     "data": {
      "text/plain": [
       "AnnData object with n_obs × n_vars = 133674 × 3\n",
       "    obs: 'tissue', 'cell_type', 'sex'\n",
       "    var: 'soma_joinid', 'feature_id', 'feature_name', 'feature_length'"
      ]
     },
     "metadata": {},
     "output_type": "display_data"
    }
   ],
   "source": [
    "# You can also query on both axis. This example adds a var-axis query for a handful of genes, and queries the mouse experiment.\n",
    "adata = cell_census.get_anndata(\n",
    "    census,\n",
    "    \"Mus musculus\",\n",
    "    obs_value_filter=\"tissue == 'brain'\",\n",
    "    var_value_filter=\"feature_name in ['Gm16259', 'Dcaf5', 'Gm53058']\",\n",
    "    column_names={\"obs\": [\"tissue\", \"cell_type\", \"sex\"]},\n",
    ")\n",
    "\n",
    "display(adata)"
   ]
  },
  {
   "attachments": {},
   "cell_type": "markdown",
   "metadata": {},
   "source": [
    "Close the census"
   ]
  },
  {
   "cell_type": "code",
   "execution_count": 4,
   "metadata": {
    "execution": {
     "iopub.execute_input": "2023-03-24T16:08:10.868354Z",
     "iopub.status.busy": "2023-03-24T16:08:10.868203Z",
     "iopub.status.idle": "2023-03-24T16:08:10.871137Z",
     "shell.execute_reply": "2023-03-24T16:08:10.870743Z"
    }
   },
   "outputs": [],
   "source": [
    "census.close()"
   ]
  }
 ],
 "metadata": {
  "kernelspec": {
   "display_name": "Python 3 (ipykernel)",
   "language": "python",
   "name": "python3"
  },
  "language_info": {
   "codemirror_mode": {
    "name": "ipython",
    "version": 3
   },
   "file_extension": ".py",
   "mimetype": "text/x-python",
   "name": "python",
   "nbconvert_exporter": "python",
   "pygments_lexer": "ipython3",
   "version": "3.10.6"
  },
  "vscode": {
   "interpreter": {
    "hash": "3da8ec1c162cd849e59e6ea2824b2e353dce799884e910aae99411be5277f953"
   }
  }
 },
 "nbformat": 4,
 "nbformat_minor": 2
}
