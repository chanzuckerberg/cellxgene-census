{
 "cells": [
  {
   "cell_type": "markdown",
   "metadata": {},
   "source": [
    "# Querying and fetching the single-cell data and cell/gene metadata.\n",
    "\n",
    "This tutorial showcases the easiest ways to query the expression data and cell/gene metadata from the Census, and load them into common in-memory Python objects, including `pandas.DataFrame` and `anndata.AnnData`.\n",
    "\n",
    "**Contents**\n",
    "\n",
    "1. Opening the census.\n",
    "2. Querying cell metadata (obs).\n",
    "3. Querying gene metadata (var).\n",
    "4. Querying expression data.\n",
    "\n",
    "## Opening the census\n",
    "\n",
    "The `cellxgene_census` python package contains a convenient API to open the latest version of the Census."
   ]
  },
  {
   "cell_type": "code",
   "execution_count": 1,
   "metadata": {
    "execution": {
     "iopub.execute_input": "2023-05-17T15:38:34.316244Z",
     "iopub.status.busy": "2023-05-17T15:38:34.316106Z",
     "iopub.status.idle": "2023-05-17T15:38:36.178927Z",
     "shell.execute_reply": "2023-05-17T15:38:36.177300Z"
    }
   },
   "outputs": [
    {
     "name": "stderr",
     "output_type": "stream",
     "text": [
      "The \"stable\" release is currently 2023-05-15. Specify 'census_version=\"2023-05-15\"' in future calls to open_soma() to ensure data consistency.\n"
     ]
    }
   ],
   "source": [
    "import cellxgene_census\n",
    "\n",
    "census = cellxgene_census.open_soma()"
   ]
  },
  {
   "cell_type": "markdown",
   "metadata": {},
   "source": [
    "You can learn more about the `cellxgene_census` methods by accessing their corresponding documentation via `help()`. For example `help(cellxgene_census.open_soma)`."
   ]
  },
  {
   "cell_type": "markdown",
   "metadata": {},
   "source": [
    "## Querying cell metadata (obs)\n",
    "\n",
    "The human gene metadata of the Census, for RNA assays, is located at `census[\"census_data\"][\"homo_sapiens\"].obs`. This is a `SOMADataFrame` and as such it can be materialized as a `pandas.DataFrame` via the methods `read().concat().to_pandas()`. \n",
    "\n",
    "The mouse cell metadata is at `census[\"census_data\"][\"mus_musculus\"].obs`.\n",
    "\n",
    "For slicing the cell metadata there are two relevant arguments that can be passed through `read()`:\n",
    "\n",
    "- `column_names` — list of strings indicating what metadata columns to fetch. \n",
    "- `value_filter` — Python expression with selection conditions to fetch rows, it is similar to [`pandas.DataFrame.query()`](https://pandas.pydata.org/docs/reference/api/pandas.DataFrame.query.html), for full details see [`tiledb.QueryCondition`](https://tiledb-inc-tiledb.readthedocs-hosted.com/projects/tiledb-py/en/stable/python-api.html#query-condition) shortly:\n",
    "   - Expressions are one or more comparisons\n",
    "   - Comparisons are one of `<column> <op> <value>` or `<column> <op> <column>`\n",
    "   - Expressions can combine comparisons using and, or, & or |\n",
    "   - op is one of < | > | <= | >= | == | != or in\n",
    "\n",
    "To learn what metadata columns are available for fetching and filtering we can directly look at the keys of the cell metadata."
   ]
  },
  {
   "cell_type": "code",
   "execution_count": 2,
   "metadata": {
    "execution": {
     "iopub.execute_input": "2023-05-17T15:38:36.181881Z",
     "iopub.status.busy": "2023-05-17T15:38:36.181569Z",
     "iopub.status.idle": "2023-05-17T15:38:36.425866Z",
     "shell.execute_reply": "2023-05-17T15:38:36.425099Z"
    },
    "scrolled": true
   },
   "outputs": [
    {
     "data": {
      "text/plain": [
       "['soma_joinid',\n",
       " 'dataset_id',\n",
       " 'assay',\n",
       " 'assay_ontology_term_id',\n",
       " 'cell_type',\n",
       " 'cell_type_ontology_term_id',\n",
       " 'development_stage',\n",
       " 'development_stage_ontology_term_id',\n",
       " 'disease',\n",
       " 'disease_ontology_term_id',\n",
       " 'donor_id',\n",
       " 'is_primary_data',\n",
       " 'self_reported_ethnicity',\n",
       " 'self_reported_ethnicity_ontology_term_id',\n",
       " 'sex',\n",
       " 'sex_ontology_term_id',\n",
       " 'suspension_type',\n",
       " 'tissue',\n",
       " 'tissue_ontology_term_id',\n",
       " 'tissue_general',\n",
       " 'tissue_general_ontology_term_id']"
      ]
     },
     "execution_count": 2,
     "metadata": {},
     "output_type": "execute_result"
    }
   ],
   "source": [
    "keys = list(census[\"census_data\"][\"homo_sapiens\"].obs.keys())\n",
    "\n",
    "keys"
   ]
  },
  {
   "cell_type": "markdown",
   "metadata": {},
   "source": [
    "`soma_joinid` is a special `SOMADataFrame` column that is used for join operations. The definition for all other columns can be found at the [Census schema](https://github.com/chanzuckerberg/cellxgene-census/blob/main/docs/cell_census_schema.md#cell-metadata--census_objcensus_dataorganismobs--somadataframe).\n",
    "\n",
    "All of these can be used to fetch specific columns or specific rows matching a condition. For the latter we need to know the values we are looking for _a priori_.\n",
    "\n",
    "For example let's see what are the possible values available for `sex`. To this we can load all cell metadata but fetching only for the column `sex`. "
   ]
  },
  {
   "cell_type": "code",
   "execution_count": 3,
   "metadata": {
    "execution": {
     "iopub.execute_input": "2023-05-17T15:38:36.428229Z",
     "iopub.status.busy": "2023-05-17T15:38:36.428087Z",
     "iopub.status.idle": "2023-05-17T15:38:39.826481Z",
     "shell.execute_reply": "2023-05-17T15:38:39.825507Z"
    }
   },
   "outputs": [
    {
     "data": {
      "text/html": [
       "<div>\n",
       "<style scoped>\n",
       "    .dataframe tbody tr th:only-of-type {\n",
       "        vertical-align: middle;\n",
       "    }\n",
       "\n",
       "    .dataframe tbody tr th {\n",
       "        vertical-align: top;\n",
       "    }\n",
       "\n",
       "    .dataframe thead th {\n",
       "        text-align: right;\n",
       "    }\n",
       "</style>\n",
       "<table border=\"1\" class=\"dataframe\">\n",
       "  <thead>\n",
       "    <tr style=\"text-align: right;\">\n",
       "      <th></th>\n",
       "      <th>sex</th>\n",
       "    </tr>\n",
       "  </thead>\n",
       "  <tbody>\n",
       "    <tr>\n",
       "      <th>0</th>\n",
       "      <td>female</td>\n",
       "    </tr>\n",
       "    <tr>\n",
       "      <th>10740</th>\n",
       "      <td>male</td>\n",
       "    </tr>\n",
       "    <tr>\n",
       "      <th>1263240</th>\n",
       "      <td>unknown</td>\n",
       "    </tr>\n",
       "  </tbody>\n",
       "</table>\n",
       "</div>"
      ],
      "text/plain": [
       "             sex\n",
       "0         female\n",
       "10740       male\n",
       "1263240  unknown"
      ]
     },
     "execution_count": 3,
     "metadata": {},
     "output_type": "execute_result"
    }
   ],
   "source": [
    "sex_cell_metadata = census[\"census_data\"][\"homo_sapiens\"].obs.read(column_names=[\"sex\"]).concat().to_pandas()\n",
    "\n",
    "sex_cell_metadata.drop_duplicates()"
   ]
  },
  {
   "cell_type": "markdown",
   "metadata": {},
   "source": [
    "As you can see there are only three different values for `sex`, that is `\"male\"`, `\"female\"` and `\"unknown\"`. \n",
    "\n",
    "With this information we can fetch all cell metatadata for a specific `sex` value, for example `\"unknown\"`."
   ]
  },
  {
   "cell_type": "code",
   "execution_count": 4,
   "metadata": {
    "execution": {
     "iopub.execute_input": "2023-05-17T15:38:39.829096Z",
     "iopub.status.busy": "2023-05-17T15:38:39.828944Z",
     "iopub.status.idle": "2023-05-17T15:38:45.836368Z",
     "shell.execute_reply": "2023-05-17T15:38:45.835391Z"
    }
   },
   "outputs": [
    {
     "data": {
      "text/html": [
       "<div>\n",
       "<style scoped>\n",
       "    .dataframe tbody tr th:only-of-type {\n",
       "        vertical-align: middle;\n",
       "    }\n",
       "\n",
       "    .dataframe tbody tr th {\n",
       "        vertical-align: top;\n",
       "    }\n",
       "\n",
       "    .dataframe thead th {\n",
       "        text-align: right;\n",
       "    }\n",
       "</style>\n",
       "<table border=\"1\" class=\"dataframe\">\n",
       "  <thead>\n",
       "    <tr style=\"text-align: right;\">\n",
       "      <th></th>\n",
       "      <th>soma_joinid</th>\n",
       "      <th>dataset_id</th>\n",
       "      <th>assay</th>\n",
       "      <th>assay_ontology_term_id</th>\n",
       "      <th>cell_type</th>\n",
       "      <th>cell_type_ontology_term_id</th>\n",
       "      <th>development_stage</th>\n",
       "      <th>development_stage_ontology_term_id</th>\n",
       "      <th>disease</th>\n",
       "      <th>disease_ontology_term_id</th>\n",
       "      <th>...</th>\n",
       "      <th>is_primary_data</th>\n",
       "      <th>self_reported_ethnicity</th>\n",
       "      <th>self_reported_ethnicity_ontology_term_id</th>\n",
       "      <th>sex</th>\n",
       "      <th>sex_ontology_term_id</th>\n",
       "      <th>suspension_type</th>\n",
       "      <th>tissue</th>\n",
       "      <th>tissue_ontology_term_id</th>\n",
       "      <th>tissue_general</th>\n",
       "      <th>tissue_general_ontology_term_id</th>\n",
       "    </tr>\n",
       "  </thead>\n",
       "  <tbody>\n",
       "    <tr>\n",
       "      <th>0</th>\n",
       "      <td>1263240</td>\n",
       "      <td>9f222629-9e39-47d0-b83f-e08d610c7479</td>\n",
       "      <td>10x 3' v2</td>\n",
       "      <td>EFO:0009899</td>\n",
       "      <td>native cell</td>\n",
       "      <td>CL:0000003</td>\n",
       "      <td>unknown</td>\n",
       "      <td>unknown</td>\n",
       "      <td>normal</td>\n",
       "      <td>PATO:0000461</td>\n",
       "      <td>...</td>\n",
       "      <td>True</td>\n",
       "      <td>unknown</td>\n",
       "      <td>unknown</td>\n",
       "      <td>unknown</td>\n",
       "      <td>unknown</td>\n",
       "      <td>cell</td>\n",
       "      <td>lung</td>\n",
       "      <td>UBERON:0002048</td>\n",
       "      <td>lung</td>\n",
       "      <td>UBERON:0002048</td>\n",
       "    </tr>\n",
       "    <tr>\n",
       "      <th>1</th>\n",
       "      <td>1263245</td>\n",
       "      <td>9f222629-9e39-47d0-b83f-e08d610c7479</td>\n",
       "      <td>10x 3' transcription profiling</td>\n",
       "      <td>EFO:0030003</td>\n",
       "      <td>CD8-positive, alpha-beta T cell</td>\n",
       "      <td>CL:0000625</td>\n",
       "      <td>unknown</td>\n",
       "      <td>unknown</td>\n",
       "      <td>squamous cell lung carcinoma</td>\n",
       "      <td>MONDO:0005097</td>\n",
       "      <td>...</td>\n",
       "      <td>True</td>\n",
       "      <td>unknown</td>\n",
       "      <td>unknown</td>\n",
       "      <td>unknown</td>\n",
       "      <td>unknown</td>\n",
       "      <td>cell</td>\n",
       "      <td>lung</td>\n",
       "      <td>UBERON:0002048</td>\n",
       "      <td>lung</td>\n",
       "      <td>UBERON:0002048</td>\n",
       "    </tr>\n",
       "    <tr>\n",
       "      <th>2</th>\n",
       "      <td>1263247</td>\n",
       "      <td>9f222629-9e39-47d0-b83f-e08d610c7479</td>\n",
       "      <td>10x 3' v3</td>\n",
       "      <td>EFO:0009922</td>\n",
       "      <td>native cell</td>\n",
       "      <td>CL:0000003</td>\n",
       "      <td>unknown</td>\n",
       "      <td>unknown</td>\n",
       "      <td>COVID-19</td>\n",
       "      <td>MONDO:0100096</td>\n",
       "      <td>...</td>\n",
       "      <td>False</td>\n",
       "      <td>unknown</td>\n",
       "      <td>unknown</td>\n",
       "      <td>unknown</td>\n",
       "      <td>unknown</td>\n",
       "      <td>cell</td>\n",
       "      <td>lung</td>\n",
       "      <td>UBERON:0002048</td>\n",
       "      <td>lung</td>\n",
       "      <td>UBERON:0002048</td>\n",
       "    </tr>\n",
       "    <tr>\n",
       "      <th>3</th>\n",
       "      <td>1263249</td>\n",
       "      <td>9f222629-9e39-47d0-b83f-e08d610c7479</td>\n",
       "      <td>10x 3' v2</td>\n",
       "      <td>EFO:0009899</td>\n",
       "      <td>CD4-positive, alpha-beta T cell</td>\n",
       "      <td>CL:0000624</td>\n",
       "      <td>unknown</td>\n",
       "      <td>unknown</td>\n",
       "      <td>lung adenocarcinoma</td>\n",
       "      <td>MONDO:0005061</td>\n",
       "      <td>...</td>\n",
       "      <td>True</td>\n",
       "      <td>unknown</td>\n",
       "      <td>unknown</td>\n",
       "      <td>unknown</td>\n",
       "      <td>unknown</td>\n",
       "      <td>cell</td>\n",
       "      <td>lung</td>\n",
       "      <td>UBERON:0002048</td>\n",
       "      <td>lung</td>\n",
       "      <td>UBERON:0002048</td>\n",
       "    </tr>\n",
       "    <tr>\n",
       "      <th>4</th>\n",
       "      <td>1263251</td>\n",
       "      <td>9f222629-9e39-47d0-b83f-e08d610c7479</td>\n",
       "      <td>10x 3' transcription profiling</td>\n",
       "      <td>EFO:0030003</td>\n",
       "      <td>native cell</td>\n",
       "      <td>CL:0000003</td>\n",
       "      <td>unknown</td>\n",
       "      <td>unknown</td>\n",
       "      <td>COVID-19</td>\n",
       "      <td>MONDO:0100096</td>\n",
       "      <td>...</td>\n",
       "      <td>False</td>\n",
       "      <td>unknown</td>\n",
       "      <td>unknown</td>\n",
       "      <td>unknown</td>\n",
       "      <td>unknown</td>\n",
       "      <td>cell</td>\n",
       "      <td>lung</td>\n",
       "      <td>UBERON:0002048</td>\n",
       "      <td>lung</td>\n",
       "      <td>UBERON:0002048</td>\n",
       "    </tr>\n",
       "    <tr>\n",
       "      <th>...</th>\n",
       "      <td>...</td>\n",
       "      <td>...</td>\n",
       "      <td>...</td>\n",
       "      <td>...</td>\n",
       "      <td>...</td>\n",
       "      <td>...</td>\n",
       "      <td>...</td>\n",
       "      <td>...</td>\n",
       "      <td>...</td>\n",
       "      <td>...</td>\n",
       "      <td>...</td>\n",
       "      <td>...</td>\n",
       "      <td>...</td>\n",
       "      <td>...</td>\n",
       "      <td>...</td>\n",
       "      <td>...</td>\n",
       "      <td>...</td>\n",
       "      <td>...</td>\n",
       "      <td>...</td>\n",
       "      <td>...</td>\n",
       "      <td>...</td>\n",
       "    </tr>\n",
       "    <tr>\n",
       "      <th>3083766</th>\n",
       "      <td>53668428</td>\n",
       "      <td>2adb1f8a-a6b1-4909-8ee8-484814e2d4bf</td>\n",
       "      <td>microwell-seq</td>\n",
       "      <td>EFO:0030002</td>\n",
       "      <td>cord blood hematopoietic stem cell</td>\n",
       "      <td>CL:2000095</td>\n",
       "      <td>newborn human stage</td>\n",
       "      <td>HsapDv:0000082</td>\n",
       "      <td>normal</td>\n",
       "      <td>PATO:0000461</td>\n",
       "      <td>...</td>\n",
       "      <td>True</td>\n",
       "      <td>Han Chinese</td>\n",
       "      <td>HANCESTRO:0027</td>\n",
       "      <td>unknown</td>\n",
       "      <td>unknown</td>\n",
       "      <td>cell</td>\n",
       "      <td>umbilical cord blood</td>\n",
       "      <td>UBERON:0012168</td>\n",
       "      <td>blood</td>\n",
       "      <td>UBERON:0000178</td>\n",
       "    </tr>\n",
       "    <tr>\n",
       "      <th>3083767</th>\n",
       "      <td>53668429</td>\n",
       "      <td>2adb1f8a-a6b1-4909-8ee8-484814e2d4bf</td>\n",
       "      <td>microwell-seq</td>\n",
       "      <td>EFO:0030002</td>\n",
       "      <td>cord blood hematopoietic stem cell</td>\n",
       "      <td>CL:2000095</td>\n",
       "      <td>newborn human stage</td>\n",
       "      <td>HsapDv:0000082</td>\n",
       "      <td>normal</td>\n",
       "      <td>PATO:0000461</td>\n",
       "      <td>...</td>\n",
       "      <td>True</td>\n",
       "      <td>Han Chinese</td>\n",
       "      <td>HANCESTRO:0027</td>\n",
       "      <td>unknown</td>\n",
       "      <td>unknown</td>\n",
       "      <td>cell</td>\n",
       "      <td>umbilical cord blood</td>\n",
       "      <td>UBERON:0012168</td>\n",
       "      <td>blood</td>\n",
       "      <td>UBERON:0000178</td>\n",
       "    </tr>\n",
       "    <tr>\n",
       "      <th>3083768</th>\n",
       "      <td>53668430</td>\n",
       "      <td>2adb1f8a-a6b1-4909-8ee8-484814e2d4bf</td>\n",
       "      <td>microwell-seq</td>\n",
       "      <td>EFO:0030002</td>\n",
       "      <td>cord blood hematopoietic stem cell</td>\n",
       "      <td>CL:2000095</td>\n",
       "      <td>newborn human stage</td>\n",
       "      <td>HsapDv:0000082</td>\n",
       "      <td>normal</td>\n",
       "      <td>PATO:0000461</td>\n",
       "      <td>...</td>\n",
       "      <td>True</td>\n",
       "      <td>Han Chinese</td>\n",
       "      <td>HANCESTRO:0027</td>\n",
       "      <td>unknown</td>\n",
       "      <td>unknown</td>\n",
       "      <td>cell</td>\n",
       "      <td>umbilical cord blood</td>\n",
       "      <td>UBERON:0012168</td>\n",
       "      <td>blood</td>\n",
       "      <td>UBERON:0000178</td>\n",
       "    </tr>\n",
       "    <tr>\n",
       "      <th>3083769</th>\n",
       "      <td>53668431</td>\n",
       "      <td>2adb1f8a-a6b1-4909-8ee8-484814e2d4bf</td>\n",
       "      <td>microwell-seq</td>\n",
       "      <td>EFO:0030002</td>\n",
       "      <td>cord blood hematopoietic stem cell</td>\n",
       "      <td>CL:2000095</td>\n",
       "      <td>newborn human stage</td>\n",
       "      <td>HsapDv:0000082</td>\n",
       "      <td>normal</td>\n",
       "      <td>PATO:0000461</td>\n",
       "      <td>...</td>\n",
       "      <td>True</td>\n",
       "      <td>Han Chinese</td>\n",
       "      <td>HANCESTRO:0027</td>\n",
       "      <td>unknown</td>\n",
       "      <td>unknown</td>\n",
       "      <td>cell</td>\n",
       "      <td>umbilical cord blood</td>\n",
       "      <td>UBERON:0012168</td>\n",
       "      <td>blood</td>\n",
       "      <td>UBERON:0000178</td>\n",
       "    </tr>\n",
       "    <tr>\n",
       "      <th>3083770</th>\n",
       "      <td>53668432</td>\n",
       "      <td>2adb1f8a-a6b1-4909-8ee8-484814e2d4bf</td>\n",
       "      <td>microwell-seq</td>\n",
       "      <td>EFO:0030002</td>\n",
       "      <td>cord blood hematopoietic stem cell</td>\n",
       "      <td>CL:2000095</td>\n",
       "      <td>newborn human stage</td>\n",
       "      <td>HsapDv:0000082</td>\n",
       "      <td>normal</td>\n",
       "      <td>PATO:0000461</td>\n",
       "      <td>...</td>\n",
       "      <td>True</td>\n",
       "      <td>Han Chinese</td>\n",
       "      <td>HANCESTRO:0027</td>\n",
       "      <td>unknown</td>\n",
       "      <td>unknown</td>\n",
       "      <td>cell</td>\n",
       "      <td>umbilical cord blood</td>\n",
       "      <td>UBERON:0012168</td>\n",
       "      <td>blood</td>\n",
       "      <td>UBERON:0000178</td>\n",
       "    </tr>\n",
       "  </tbody>\n",
       "</table>\n",
       "<p>3083771 rows × 21 columns</p>\n",
       "</div>"
      ],
      "text/plain": [
       "         soma_joinid                            dataset_id   \n",
       "0            1263240  9f222629-9e39-47d0-b83f-e08d610c7479  \\\n",
       "1            1263245  9f222629-9e39-47d0-b83f-e08d610c7479   \n",
       "2            1263247  9f222629-9e39-47d0-b83f-e08d610c7479   \n",
       "3            1263249  9f222629-9e39-47d0-b83f-e08d610c7479   \n",
       "4            1263251  9f222629-9e39-47d0-b83f-e08d610c7479   \n",
       "...              ...                                   ...   \n",
       "3083766     53668428  2adb1f8a-a6b1-4909-8ee8-484814e2d4bf   \n",
       "3083767     53668429  2adb1f8a-a6b1-4909-8ee8-484814e2d4bf   \n",
       "3083768     53668430  2adb1f8a-a6b1-4909-8ee8-484814e2d4bf   \n",
       "3083769     53668431  2adb1f8a-a6b1-4909-8ee8-484814e2d4bf   \n",
       "3083770     53668432  2adb1f8a-a6b1-4909-8ee8-484814e2d4bf   \n",
       "\n",
       "                                  assay assay_ontology_term_id   \n",
       "0                             10x 3' v2            EFO:0009899  \\\n",
       "1        10x 3' transcription profiling            EFO:0030003   \n",
       "2                             10x 3' v3            EFO:0009922   \n",
       "3                             10x 3' v2            EFO:0009899   \n",
       "4        10x 3' transcription profiling            EFO:0030003   \n",
       "...                                 ...                    ...   \n",
       "3083766                   microwell-seq            EFO:0030002   \n",
       "3083767                   microwell-seq            EFO:0030002   \n",
       "3083768                   microwell-seq            EFO:0030002   \n",
       "3083769                   microwell-seq            EFO:0030002   \n",
       "3083770                   microwell-seq            EFO:0030002   \n",
       "\n",
       "                                  cell_type cell_type_ontology_term_id   \n",
       "0                               native cell                 CL:0000003  \\\n",
       "1           CD8-positive, alpha-beta T cell                 CL:0000625   \n",
       "2                               native cell                 CL:0000003   \n",
       "3           CD4-positive, alpha-beta T cell                 CL:0000624   \n",
       "4                               native cell                 CL:0000003   \n",
       "...                                     ...                        ...   \n",
       "3083766  cord blood hematopoietic stem cell                 CL:2000095   \n",
       "3083767  cord blood hematopoietic stem cell                 CL:2000095   \n",
       "3083768  cord blood hematopoietic stem cell                 CL:2000095   \n",
       "3083769  cord blood hematopoietic stem cell                 CL:2000095   \n",
       "3083770  cord blood hematopoietic stem cell                 CL:2000095   \n",
       "\n",
       "           development_stage development_stage_ontology_term_id   \n",
       "0                    unknown                            unknown  \\\n",
       "1                    unknown                            unknown   \n",
       "2                    unknown                            unknown   \n",
       "3                    unknown                            unknown   \n",
       "4                    unknown                            unknown   \n",
       "...                      ...                                ...   \n",
       "3083766  newborn human stage                     HsapDv:0000082   \n",
       "3083767  newborn human stage                     HsapDv:0000082   \n",
       "3083768  newborn human stage                     HsapDv:0000082   \n",
       "3083769  newborn human stage                     HsapDv:0000082   \n",
       "3083770  newborn human stage                     HsapDv:0000082   \n",
       "\n",
       "                              disease disease_ontology_term_id  ...   \n",
       "0                              normal             PATO:0000461  ...  \\\n",
       "1        squamous cell lung carcinoma            MONDO:0005097  ...   \n",
       "2                            COVID-19            MONDO:0100096  ...   \n",
       "3                 lung adenocarcinoma            MONDO:0005061  ...   \n",
       "4                            COVID-19            MONDO:0100096  ...   \n",
       "...                               ...                      ...  ...   \n",
       "3083766                        normal             PATO:0000461  ...   \n",
       "3083767                        normal             PATO:0000461  ...   \n",
       "3083768                        normal             PATO:0000461  ...   \n",
       "3083769                        normal             PATO:0000461  ...   \n",
       "3083770                        normal             PATO:0000461  ...   \n",
       "\n",
       "        is_primary_data  self_reported_ethnicity   \n",
       "0                  True                  unknown  \\\n",
       "1                  True                  unknown   \n",
       "2                 False                  unknown   \n",
       "3                  True                  unknown   \n",
       "4                 False                  unknown   \n",
       "...                 ...                      ...   \n",
       "3083766            True              Han Chinese   \n",
       "3083767            True              Han Chinese   \n",
       "3083768            True              Han Chinese   \n",
       "3083769            True              Han Chinese   \n",
       "3083770            True              Han Chinese   \n",
       "\n",
       "        self_reported_ethnicity_ontology_term_id      sex   \n",
       "0                                        unknown  unknown  \\\n",
       "1                                        unknown  unknown   \n",
       "2                                        unknown  unknown   \n",
       "3                                        unknown  unknown   \n",
       "4                                        unknown  unknown   \n",
       "...                                          ...      ...   \n",
       "3083766                           HANCESTRO:0027  unknown   \n",
       "3083767                           HANCESTRO:0027  unknown   \n",
       "3083768                           HANCESTRO:0027  unknown   \n",
       "3083769                           HANCESTRO:0027  unknown   \n",
       "3083770                           HANCESTRO:0027  unknown   \n",
       "\n",
       "        sex_ontology_term_id suspension_type                tissue   \n",
       "0                    unknown            cell                  lung  \\\n",
       "1                    unknown            cell                  lung   \n",
       "2                    unknown            cell                  lung   \n",
       "3                    unknown            cell                  lung   \n",
       "4                    unknown            cell                  lung   \n",
       "...                      ...             ...                   ...   \n",
       "3083766              unknown            cell  umbilical cord blood   \n",
       "3083767              unknown            cell  umbilical cord blood   \n",
       "3083768              unknown            cell  umbilical cord blood   \n",
       "3083769              unknown            cell  umbilical cord blood   \n",
       "3083770              unknown            cell  umbilical cord blood   \n",
       "\n",
       "        tissue_ontology_term_id tissue_general tissue_general_ontology_term_id  \n",
       "0                UBERON:0002048           lung                  UBERON:0002048  \n",
       "1                UBERON:0002048           lung                  UBERON:0002048  \n",
       "2                UBERON:0002048           lung                  UBERON:0002048  \n",
       "3                UBERON:0002048           lung                  UBERON:0002048  \n",
       "4                UBERON:0002048           lung                  UBERON:0002048  \n",
       "...                         ...            ...                             ...  \n",
       "3083766          UBERON:0012168          blood                  UBERON:0000178  \n",
       "3083767          UBERON:0012168          blood                  UBERON:0000178  \n",
       "3083768          UBERON:0012168          blood                  UBERON:0000178  \n",
       "3083769          UBERON:0012168          blood                  UBERON:0000178  \n",
       "3083770          UBERON:0012168          blood                  UBERON:0000178  \n",
       "\n",
       "[3083771 rows x 21 columns]"
      ]
     },
     "execution_count": 4,
     "metadata": {},
     "output_type": "execute_result"
    }
   ],
   "source": [
    "cell_metadata_all_unknown_sex = (\n",
    "    census[\"census_data\"][\"homo_sapiens\"].obs.read(value_filter=\"sex == 'unknown'\").concat().to_pandas()\n",
    ")\n",
    "\n",
    "cell_metadata_all_unknown_sex"
   ]
  },
  {
   "cell_type": "markdown",
   "metadata": {},
   "source": [
    "You can use both `column_names` and `value_filter` to perform specific queries. For example let's fetch the `disease` columns for the `cell_type` `\"B cell\"` in the `tissue_general` `\"lung\"`. "
   ]
  },
  {
   "cell_type": "code",
   "execution_count": 5,
   "metadata": {
    "execution": {
     "iopub.execute_input": "2023-05-17T15:38:45.838761Z",
     "iopub.status.busy": "2023-05-17T15:38:45.838610Z",
     "iopub.status.idle": "2023-05-17T15:38:49.149873Z",
     "shell.execute_reply": "2023-05-17T15:38:49.149420Z"
    }
   },
   "outputs": [
    {
     "data": {
      "text/plain": [
       "disease                                cell_type  tissue_general\n",
       "lung adenocarcinoma                    B cell     lung              62351\n",
       "normal                                 B cell     lung              25374\n",
       "non-small cell lung carcinoma          B cell     lung              17484\n",
       "squamous cell lung carcinoma           B cell     lung              11920\n",
       "pulmonary fibrosis                     B cell     lung               6798\n",
       "chronic obstructive pulmonary disease  B cell     lung               6369\n",
       "COVID-19                               B cell     lung               2729\n",
       "lung large cell carcinoma              B cell     lung               1534\n",
       "pulmonary emphysema                    B cell     lung               1512\n",
       "pleomorphic carcinoma                  B cell     lung               1210\n",
       "small cell lung carcinoma              B cell     lung                583\n",
       "interstitial lung disease              B cell     lung                376\n",
       "non-specific interstitial pneumonia    B cell     lung                231\n",
       "lymphangioleiomyomatosis               B cell     lung                133\n",
       "hypersensitivity pneumonitis           B cell     lung                 52\n",
       "pneumonia                              B cell     lung                 50\n",
       "pulmonary sarcoidosis                  B cell     lung                  6\n",
       "Name: count, dtype: int64"
      ]
     },
     "execution_count": 5,
     "metadata": {},
     "output_type": "execute_result"
    }
   ],
   "source": [
    "cell_metadata_b_cell = (\n",
    "    census[\"census_data\"][\"homo_sapiens\"]\n",
    "    .obs.read(\n",
    "        value_filter=\"cell_type == 'B cell' and tissue_general == 'lung'\",\n",
    "        column_names=[\"disease\"],\n",
    "    )\n",
    "    .concat()\n",
    "    .to_pandas()\n",
    ")\n",
    "\n",
    "cell_metadata_b_cell.value_counts()"
   ]
  },
  {
   "cell_type": "markdown",
   "metadata": {},
   "source": [
    "## Querying gene metadata (var)\n",
    "\n",
    "The human gene metadata of the Census is located at `census[\"census_data\"][\"homo_sapiens\"].ms[\"RNA\"].var`. Similarly to the cell metadata, it is a `SOMADataFrame` and thus we can also use its method `read()`.\n",
    "\n",
    "The mouse gene metadata is at `census[\"census_data\"][\"mus_musculus\"].ms[\"RNA\"].var`.\n",
    "\n",
    "Let's take a look at the metadata available for column selection and row filtering."
   ]
  },
  {
   "cell_type": "code",
   "execution_count": 6,
   "metadata": {
    "execution": {
     "iopub.execute_input": "2023-05-17T15:38:49.152264Z",
     "iopub.status.busy": "2023-05-17T15:38:49.152119Z",
     "iopub.status.idle": "2023-05-17T15:38:49.416449Z",
     "shell.execute_reply": "2023-05-17T15:38:49.415915Z"
    }
   },
   "outputs": [
    {
     "data": {
      "text/plain": [
       "['soma_joinid', 'feature_id', 'feature_name', 'feature_length']"
      ]
     },
     "execution_count": 6,
     "metadata": {},
     "output_type": "execute_result"
    }
   ],
   "source": [
    "keys = list(census[\"census_data\"][\"homo_sapiens\"].ms[\"RNA\"].var.keys())\n",
    "\n",
    "keys"
   ]
  },
  {
   "cell_type": "markdown",
   "metadata": {},
   "source": [
    "With the exception of `soma_joinid` these columns are defined in the [Census schema](https://github.com/chanzuckerberg/cellxgene-census/blob/main/docs/cell_census_schema_0.1.0.md). Similarly to the cell metadata, we can use the same operations to learn and fetch gene metadata.\n",
    "\n",
    "For example, to get the `feature_name` and `feature_length` of the genes `\"ENSG00000161798\"` and `\"ENSG00000188229\"` we can do the following."
   ]
  },
  {
   "cell_type": "code",
   "execution_count": 7,
   "metadata": {
    "execution": {
     "iopub.execute_input": "2023-05-17T15:38:49.418542Z",
     "iopub.status.busy": "2023-05-17T15:38:49.418401Z",
     "iopub.status.idle": "2023-05-17T15:38:49.755656Z",
     "shell.execute_reply": "2023-05-17T15:38:49.755287Z"
    }
   },
   "outputs": [
    {
     "data": {
      "text/html": [
       "<div>\n",
       "<style scoped>\n",
       "    .dataframe tbody tr th:only-of-type {\n",
       "        vertical-align: middle;\n",
       "    }\n",
       "\n",
       "    .dataframe tbody tr th {\n",
       "        vertical-align: top;\n",
       "    }\n",
       "\n",
       "    .dataframe thead th {\n",
       "        text-align: right;\n",
       "    }\n",
       "</style>\n",
       "<table border=\"1\" class=\"dataframe\">\n",
       "  <thead>\n",
       "    <tr style=\"text-align: right;\">\n",
       "      <th></th>\n",
       "      <th>feature_name</th>\n",
       "      <th>feature_length</th>\n",
       "      <th>feature_id</th>\n",
       "    </tr>\n",
       "  </thead>\n",
       "  <tbody>\n",
       "    <tr>\n",
       "      <th>0</th>\n",
       "      <td>TUBB4B</td>\n",
       "      <td>2037</td>\n",
       "      <td>ENSG00000188229</td>\n",
       "    </tr>\n",
       "    <tr>\n",
       "      <th>1</th>\n",
       "      <td>AQP5</td>\n",
       "      <td>1884</td>\n",
       "      <td>ENSG00000161798</td>\n",
       "    </tr>\n",
       "  </tbody>\n",
       "</table>\n",
       "</div>"
      ],
      "text/plain": [
       "  feature_name  feature_length       feature_id\n",
       "0       TUBB4B            2037  ENSG00000188229\n",
       "1         AQP5            1884  ENSG00000161798"
      ]
     },
     "execution_count": 7,
     "metadata": {},
     "output_type": "execute_result"
    }
   ],
   "source": [
    "gene_metadata = (\n",
    "    census[\"census_data\"][\"homo_sapiens\"]\n",
    "    .ms[\"RNA\"]\n",
    "    .var.read(\n",
    "        value_filter=\"feature_id in ['ENSG00000161798', 'ENSG00000188229']\",\n",
    "        column_names=[\"feature_name\", \"feature_length\"],\n",
    "    )\n",
    "    .concat()\n",
    "    .to_pandas()\n",
    ")\n",
    "\n",
    "gene_metadata"
   ]
  },
  {
   "cell_type": "markdown",
   "metadata": {},
   "source": [
    "## Querying expression data\n",
    "\n",
    "A convenient way to query and fetch expression data is to use the `get_anndata` method of the `cellxgene_census` API. This is a method that combines the column selection and value filtering we described above to obtain slices of the expression data based on metadata queries.\n",
    "\n",
    "The method will return an `anndata.AnnData` object, it takes as an input a census object, the string for an organism, and for both cell and gene metadata we can specify filters and column selection as described above but with the following arguments:\n",
    "\n",
    "- `column_names` — a dictionary with two keys `obs` and `var` whose values are lists of strings indicating the columns to select for cell and gene metadata respectively.\n",
    "- `obs_value_filter` —  python expression with selection conditions to fetch **cells** meeting a criteria. For full details see [`tiledb.QueryCondition`](https://tiledb-inc-tiledb.readthedocs-hosted.com/projects/tiledb-py/en/stable/python-api.html#query-condition).\n",
    "- `var_value_filter` —  python expression with selection conditions to fetch **genes** meeting a criteria. Details as above.  For full details see [`tiledb.QueryCondition`](https://tiledb-inc-tiledb.readthedocs-hosted.com/projects/tiledb-py/en/stable/python-api.html#query-condition).\n",
    "\n",
    "\n",
    "For example if we want to fetch the expression data for:\n",
    "\n",
    "- Genes `\"ENSG00000161798\"` and `\"ENSG00000188229\"`.\n",
    "- All `\"B cells\"` of `\"lung\"` with `\"COVID-19\"`.\n",
    "- With all gene metadata and adding `sex` cell metadata."
   ]
  },
  {
   "cell_type": "code",
   "execution_count": 8,
   "metadata": {
    "execution": {
     "iopub.execute_input": "2023-05-17T15:38:49.757800Z",
     "iopub.status.busy": "2023-05-17T15:38:49.757649Z",
     "iopub.status.idle": "2023-05-17T15:39:03.135206Z",
     "shell.execute_reply": "2023-05-17T15:39:03.133904Z"
    }
   },
   "outputs": [],
   "source": [
    "adata = cellxgene_census.get_anndata(\n",
    "    census=census,\n",
    "    organism=\"Homo sapiens\",\n",
    "    var_value_filter=\"feature_id in ['ENSG00000161798', 'ENSG00000188229']\",\n",
    "    obs_value_filter=\"cell_type == 'B cell' and tissue_general == 'lung' and disease == 'COVID-19'\",\n",
    "    column_names={\"obs\": [\"sex\"]},\n",
    ")"
   ]
  },
  {
   "cell_type": "markdown",
   "metadata": {},
   "source": [
    "And now we can take a look at the results."
   ]
  },
  {
   "cell_type": "code",
   "execution_count": 9,
   "metadata": {
    "execution": {
     "iopub.execute_input": "2023-05-17T15:39:03.138509Z",
     "iopub.status.busy": "2023-05-17T15:39:03.138116Z",
     "iopub.status.idle": "2023-05-17T15:39:03.142584Z",
     "shell.execute_reply": "2023-05-17T15:39:03.141592Z"
    }
   },
   "outputs": [
    {
     "data": {
      "text/plain": [
       "AnnData object with n_obs × n_vars = 2729 × 2\n",
       "    obs: 'sex', 'cell_type', 'tissue_general', 'disease'\n",
       "    var: 'soma_joinid', 'feature_id', 'feature_name', 'feature_length'"
      ]
     },
     "execution_count": 9,
     "metadata": {},
     "output_type": "execute_result"
    }
   ],
   "source": [
    "adata"
   ]
  },
  {
   "cell_type": "code",
   "execution_count": 10,
   "metadata": {
    "execution": {
     "iopub.execute_input": "2023-05-17T15:39:03.144900Z",
     "iopub.status.busy": "2023-05-17T15:39:03.144759Z",
     "iopub.status.idle": "2023-05-17T15:39:03.151368Z",
     "shell.execute_reply": "2023-05-17T15:39:03.150838Z"
    }
   },
   "outputs": [
    {
     "data": {
      "text/html": [
       "<div>\n",
       "<style scoped>\n",
       "    .dataframe tbody tr th:only-of-type {\n",
       "        vertical-align: middle;\n",
       "    }\n",
       "\n",
       "    .dataframe tbody tr th {\n",
       "        vertical-align: top;\n",
       "    }\n",
       "\n",
       "    .dataframe thead th {\n",
       "        text-align: right;\n",
       "    }\n",
       "</style>\n",
       "<table border=\"1\" class=\"dataframe\">\n",
       "  <thead>\n",
       "    <tr style=\"text-align: right;\">\n",
       "      <th></th>\n",
       "      <th>sex</th>\n",
       "      <th>cell_type</th>\n",
       "      <th>tissue_general</th>\n",
       "      <th>disease</th>\n",
       "    </tr>\n",
       "  </thead>\n",
       "  <tbody>\n",
       "    <tr>\n",
       "      <th>0</th>\n",
       "      <td>male</td>\n",
       "      <td>B cell</td>\n",
       "      <td>lung</td>\n",
       "      <td>COVID-19</td>\n",
       "    </tr>\n",
       "    <tr>\n",
       "      <th>1</th>\n",
       "      <td>unknown</td>\n",
       "      <td>B cell</td>\n",
       "      <td>lung</td>\n",
       "      <td>COVID-19</td>\n",
       "    </tr>\n",
       "    <tr>\n",
       "      <th>2</th>\n",
       "      <td>male</td>\n",
       "      <td>B cell</td>\n",
       "      <td>lung</td>\n",
       "      <td>COVID-19</td>\n",
       "    </tr>\n",
       "    <tr>\n",
       "      <th>3</th>\n",
       "      <td>unknown</td>\n",
       "      <td>B cell</td>\n",
       "      <td>lung</td>\n",
       "      <td>COVID-19</td>\n",
       "    </tr>\n",
       "    <tr>\n",
       "      <th>4</th>\n",
       "      <td>male</td>\n",
       "      <td>B cell</td>\n",
       "      <td>lung</td>\n",
       "      <td>COVID-19</td>\n",
       "    </tr>\n",
       "    <tr>\n",
       "      <th>...</th>\n",
       "      <td>...</td>\n",
       "      <td>...</td>\n",
       "      <td>...</td>\n",
       "      <td>...</td>\n",
       "    </tr>\n",
       "    <tr>\n",
       "      <th>2724</th>\n",
       "      <td>male</td>\n",
       "      <td>B cell</td>\n",
       "      <td>lung</td>\n",
       "      <td>COVID-19</td>\n",
       "    </tr>\n",
       "    <tr>\n",
       "      <th>2725</th>\n",
       "      <td>male</td>\n",
       "      <td>B cell</td>\n",
       "      <td>lung</td>\n",
       "      <td>COVID-19</td>\n",
       "    </tr>\n",
       "    <tr>\n",
       "      <th>2726</th>\n",
       "      <td>male</td>\n",
       "      <td>B cell</td>\n",
       "      <td>lung</td>\n",
       "      <td>COVID-19</td>\n",
       "    </tr>\n",
       "    <tr>\n",
       "      <th>2727</th>\n",
       "      <td>male</td>\n",
       "      <td>B cell</td>\n",
       "      <td>lung</td>\n",
       "      <td>COVID-19</td>\n",
       "    </tr>\n",
       "    <tr>\n",
       "      <th>2728</th>\n",
       "      <td>male</td>\n",
       "      <td>B cell</td>\n",
       "      <td>lung</td>\n",
       "      <td>COVID-19</td>\n",
       "    </tr>\n",
       "  </tbody>\n",
       "</table>\n",
       "<p>2729 rows × 4 columns</p>\n",
       "</div>"
      ],
      "text/plain": [
       "          sex cell_type tissue_general   disease\n",
       "0        male    B cell           lung  COVID-19\n",
       "1     unknown    B cell           lung  COVID-19\n",
       "2        male    B cell           lung  COVID-19\n",
       "3     unknown    B cell           lung  COVID-19\n",
       "4        male    B cell           lung  COVID-19\n",
       "...       ...       ...            ...       ...\n",
       "2724     male    B cell           lung  COVID-19\n",
       "2725     male    B cell           lung  COVID-19\n",
       "2726     male    B cell           lung  COVID-19\n",
       "2727     male    B cell           lung  COVID-19\n",
       "2728     male    B cell           lung  COVID-19\n",
       "\n",
       "[2729 rows x 4 columns]"
      ]
     },
     "execution_count": 10,
     "metadata": {},
     "output_type": "execute_result"
    }
   ],
   "source": [
    "adata.obs"
   ]
  },
  {
   "cell_type": "code",
   "execution_count": 11,
   "metadata": {
    "execution": {
     "iopub.execute_input": "2023-05-17T15:39:03.153406Z",
     "iopub.status.busy": "2023-05-17T15:39:03.153279Z",
     "iopub.status.idle": "2023-05-17T15:39:03.158023Z",
     "shell.execute_reply": "2023-05-17T15:39:03.157556Z"
    }
   },
   "outputs": [
    {
     "data": {
      "text/html": [
       "<div>\n",
       "<style scoped>\n",
       "    .dataframe tbody tr th:only-of-type {\n",
       "        vertical-align: middle;\n",
       "    }\n",
       "\n",
       "    .dataframe tbody tr th {\n",
       "        vertical-align: top;\n",
       "    }\n",
       "\n",
       "    .dataframe thead th {\n",
       "        text-align: right;\n",
       "    }\n",
       "</style>\n",
       "<table border=\"1\" class=\"dataframe\">\n",
       "  <thead>\n",
       "    <tr style=\"text-align: right;\">\n",
       "      <th></th>\n",
       "      <th>soma_joinid</th>\n",
       "      <th>feature_id</th>\n",
       "      <th>feature_name</th>\n",
       "      <th>feature_length</th>\n",
       "    </tr>\n",
       "  </thead>\n",
       "  <tbody>\n",
       "    <tr>\n",
       "      <th>0</th>\n",
       "      <td>17442</td>\n",
       "      <td>ENSG00000188229</td>\n",
       "      <td>TUBB4B</td>\n",
       "      <td>2037</td>\n",
       "    </tr>\n",
       "    <tr>\n",
       "      <th>1</th>\n",
       "      <td>21624</td>\n",
       "      <td>ENSG00000161798</td>\n",
       "      <td>AQP5</td>\n",
       "      <td>1884</td>\n",
       "    </tr>\n",
       "  </tbody>\n",
       "</table>\n",
       "</div>"
      ],
      "text/plain": [
       "   soma_joinid       feature_id feature_name  feature_length\n",
       "0        17442  ENSG00000188229       TUBB4B            2037\n",
       "1        21624  ENSG00000161798         AQP5            1884"
      ]
     },
     "execution_count": 11,
     "metadata": {},
     "output_type": "execute_result"
    }
   ],
   "source": [
    "adata.var"
   ]
  },
  {
   "cell_type": "markdown",
   "metadata": {},
   "source": [
    "For a full description of `get_anndata()` refer to `help(cellxgene_census.get_anndata)`\n",
    "\n",
    "Don't forget to close the census!"
   ]
  },
  {
   "cell_type": "code",
   "execution_count": 12,
   "metadata": {
    "execution": {
     "iopub.execute_input": "2023-05-17T15:39:03.160206Z",
     "iopub.status.busy": "2023-05-17T15:39:03.160078Z",
     "iopub.status.idle": "2023-05-17T15:39:03.163543Z",
     "shell.execute_reply": "2023-05-17T15:39:03.162776Z"
    }
   },
   "outputs": [],
   "source": [
    "census.close()"
   ]
  }
 ],
 "metadata": {
  "kernelspec": {
   "display_name": "Python 3 (ipykernel)",
   "language": "python",
   "name": "python3"
  },
  "language_info": {
   "codemirror_mode": {
    "name": "ipython",
    "version": 3
   },
   "file_extension": ".py",
   "mimetype": "text/x-python",
   "name": "python",
   "nbconvert_exporter": "python",
   "pygments_lexer": "ipython3",
   "version": "3.10.11"
  },
  "vscode": {
   "interpreter": {
    "hash": "3da8ec1c162cd849e59e6ea2824b2e353dce799884e910aae99411be5277f953"
   }
  }
 },
 "nbformat": 4,
 "nbformat_minor": 2
}
