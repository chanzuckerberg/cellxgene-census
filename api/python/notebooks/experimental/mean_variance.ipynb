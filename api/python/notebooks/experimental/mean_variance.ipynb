{
 "cells": [
  {
   "cell_type": "markdown",
   "id": "c4b089f9-5304-4479-b739-20792e12595a",
   "metadata": {},
   "source": [
    "# Out-of-core mean and variance calculation\n",
    "\n",
    "This tutorial describes use of the cellxgene_census.experimental.pp API for calculating out-of-core mean and variance in the Census. The variance calculation is performed using [Welford's online algorithm](https://en.wikipedia.org/wiki/Algorithms_for_calculating_variance).\n",
    "\n",
    "There is a single API available: \n",
    "\n",
    "`mean_variance()`: calculates the mean and the variance for an `ExperimentAxisQuery`. The following additional arguments are supported:\n",
    "- `layer`: the X layer used for the calculation, defaults to `raw`\n",
    "- `axis`: the axis along which the calculation is performed. Specify 0 for the `var` axis and 1 for the `obs` axis\n",
    "- `calculate_mean`: if False, do not include the mean in the result\n",
    "- `calculate_variance`: if False, do not compute the variance.\n",
    "- `ddof`: _Delta Degrees of Freedom_: the divisor used in the calculation for variance is N - ddof, where N represents the number of elements.\n",
    "\n"
   ]
  },
  {
   "cell_type": "code",
   "execution_count": 8,
   "id": "a06549db-60c5-49b6-b57d-29ee6db2c61c",
   "metadata": {
    "tags": []
   },
   "outputs": [],
   "source": [
    "# Import packages\n",
    "import cellxgene_census\n",
    "from cellxgene_census.experimental.pp import mean_variance"
   ]
  },
  {
   "cell_type": "markdown",
   "id": "c5385575-d591-4c5c-8bc3-aea4ea02a8da",
   "metadata": {
    "tags": []
   },
   "source": [
    "## Calculate mean and variance"
   ]
  },
  {
   "cell_type": "markdown",
   "id": "8dc17793-062b-4ac4-aaa6-32cfe8bb74ac",
   "metadata": {
    "tags": []
   },
   "source": [
    "As an example, we'll calculate the mean and variance along the `obs` axis for a subset of cells from the Mouse census.\n",
    "\n",
    "The return value will be a Pandas dataframe indexed by `soma_joinid` (in this case, it will be relative to `obs`) and will contain the `mean` and `variance` columns."
   ]
  },
  {
   "cell_type": "code",
   "execution_count": 6,
   "id": "95d8bbf8-405e-40bd-90d6-366ce20a11bc",
   "metadata": {
    "tags": []
   },
   "outputs": [
    {
     "name": "stderr",
     "output_type": "stream",
     "text": [
      "The \"stable\" release is currently 2023-05-15. Specify 'census_version=\"2023-05-15\"' in future calls to open_soma() to ensure data consistency.\n"
     ]
    },
    {
     "data": {
      "text/html": [
       "<div>\n",
       "<style scoped>\n",
       "    .dataframe tbody tr th:only-of-type {\n",
       "        vertical-align: middle;\n",
       "    }\n",
       "\n",
       "    .dataframe tbody tr th {\n",
       "        vertical-align: top;\n",
       "    }\n",
       "\n",
       "    .dataframe thead th {\n",
       "        text-align: right;\n",
       "    }\n",
       "</style>\n",
       "<table border=\"1\" class=\"dataframe\">\n",
       "  <thead>\n",
       "    <tr style=\"text-align: right;\">\n",
       "      <th></th>\n",
       "      <th>mean</th>\n",
       "      <th>variance</th>\n",
       "    </tr>\n",
       "    <tr>\n",
       "      <th>soma_joinid</th>\n",
       "      <th></th>\n",
       "      <th></th>\n",
       "    </tr>\n",
       "  </thead>\n",
       "  <tbody>\n",
       "    <tr>\n",
       "      <th>1926144</th>\n",
       "      <td>15.915025</td>\n",
       "      <td>69571.774917</td>\n",
       "    </tr>\n",
       "    <tr>\n",
       "      <th>1926146</th>\n",
       "      <td>5.972801</td>\n",
       "      <td>9471.427044</td>\n",
       "    </tr>\n",
       "    <tr>\n",
       "      <th>1926150</th>\n",
       "      <td>25.169472</td>\n",
       "      <td>139042.208628</td>\n",
       "    </tr>\n",
       "    <tr>\n",
       "      <th>1926153</th>\n",
       "      <td>8.049836</td>\n",
       "      <td>24762.926397</td>\n",
       "    </tr>\n",
       "    <tr>\n",
       "      <th>1926155</th>\n",
       "      <td>17.345415</td>\n",
       "      <td>150412.440839</td>\n",
       "    </tr>\n",
       "    <tr>\n",
       "      <th>...</th>\n",
       "      <td>...</td>\n",
       "      <td>...</td>\n",
       "    </tr>\n",
       "    <tr>\n",
       "      <th>2109685</th>\n",
       "      <td>0.164319</td>\n",
       "      <td>5.339741</td>\n",
       "    </tr>\n",
       "    <tr>\n",
       "      <th>2109686</th>\n",
       "      <td>0.368339</td>\n",
       "      <td>24.930156</td>\n",
       "    </tr>\n",
       "    <tr>\n",
       "      <th>2109687</th>\n",
       "      <td>0.246049</td>\n",
       "      <td>11.886186</td>\n",
       "    </tr>\n",
       "    <tr>\n",
       "      <th>2109688</th>\n",
       "      <td>0.240724</td>\n",
       "      <td>10.307266</td>\n",
       "    </tr>\n",
       "    <tr>\n",
       "      <th>2109689</th>\n",
       "      <td>0.278420</td>\n",
       "      <td>16.086994</td>\n",
       "    </tr>\n",
       "  </tbody>\n",
       "</table>\n",
       "<p>9314 rows × 2 columns</p>\n",
       "</div>"
      ],
      "text/plain": [
       "                  mean       variance\n",
       "soma_joinid                          \n",
       "1926144      15.915025   69571.774917\n",
       "1926146       5.972801    9471.427044\n",
       "1926150      25.169472  139042.208628\n",
       "1926153       8.049836   24762.926397\n",
       "1926155      17.345415  150412.440839\n",
       "...                ...            ...\n",
       "2109685       0.164319       5.339741\n",
       "2109686       0.368339      24.930156\n",
       "2109687       0.246049      11.886186\n",
       "2109688       0.240724      10.307266\n",
       "2109689       0.278420      16.086994\n",
       "\n",
       "[9314 rows x 2 columns]"
      ]
     },
     "execution_count": 6,
     "metadata": {},
     "output_type": "execute_result"
    }
   ],
   "source": [
    "experiment_name = \"mus_musculus\"\n",
    "obs_value_filter = 'is_primary_data == True and tissue_general == \"skin of body\"'\n",
    "\n",
    "with cellxgene_census.open_soma(census_version=\"stable\") as census:\n",
    "    with census[\"census_data\"][experiment_name].axis_query(\n",
    "        measurement_name=\"RNA\", obs_query=soma.AxisQuery(value_filter=obs_value_filter)\n",
    "    ) as query:\n",
    "        mv_df = mean_variance(\n",
    "            query,\n",
    "            axis=1,\n",
    "            calculate_mean=True,\n",
    "            calculate_variance=True,\n",
    "        )\n",
    "\n",
    "mv_df"
   ]
  },
  {
   "cell_type": "code",
   "execution_count": null,
   "id": "b0f6f254-852d-4a0a-97af-e00a77b415c4",
   "metadata": {},
   "outputs": [],
   "source": []
  }
 ],
 "metadata": {
  "kernelspec": {
   "display_name": "Python 3 (ipykernel)",
   "language": "python",
   "name": "python3"
  },
  "language_info": {
   "codemirror_mode": {
    "name": "ipython",
    "version": 3
   },
   "file_extension": ".py",
   "mimetype": "text/x-python",
   "name": "python",
   "nbconvert_exporter": "python",
   "pygments_lexer": "ipython3",
   "version": "3.10.6"
  }
 },
 "nbformat": 4,
 "nbformat_minor": 5
}
