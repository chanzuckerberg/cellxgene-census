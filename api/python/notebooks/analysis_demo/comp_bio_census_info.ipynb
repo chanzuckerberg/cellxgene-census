{
 "cells": [
  {
   "cell_type": "markdown",
   "metadata": {},
   "source": [
    "# Learning about the CELLxGENE Cell Census\n",
    "\n",
    "The Cell Census is a versioned container for the single-cell data hosted at [CELLxGENE Discover](https://cellxgene.cziscience.com/). The Cell Census utilizes [SOMA](https://github.com/single-cell-data/SOMA/blob/main/abstract_specification.md) powered by [TileDB](https://tiledb.com/products/tiledb-embedded) for storing, accessing, and efficiently filtering data.\n",
    "\n",
    "This notebook shows you how to learn about the Cell Census contents and how to query it.\n",
    "\n",
    "\n",
    "\n",
    "\n",
    "# Contents\n",
    "- Opening the census\n",
    "- Cell Census organization\n",
    "- Cell Census summary content tables\n",
    "- Cell metadata\n",
    "- Gene metadata\n",
    "- Understanding Cell Census contents beyond the summary tables\n",
    "\n",
    "## Opening the census\n",
    "\n",
    "The `cell_census` python package contains a convenient API to open the latest version of the Cell Census."
   ]
  },
  {
   "cell_type": "code",
   "execution_count": 1,
   "metadata": {
    "execution": {
     "iopub.execute_input": "2023-01-31T20:11:31.283814Z",
     "iopub.status.busy": "2023-01-31T20:11:31.283634Z",
     "iopub.status.idle": "2023-01-31T20:11:32.035593Z",
     "shell.execute_reply": "2023-01-31T20:11:32.033365Z"
    }
   },
   "outputs": [],
   "source": [
    "import cell_census\n",
    "\n",
    "census = cell_census.open_soma()"
   ]
  },
  {
   "cell_type": "markdown",
   "metadata": {},
   "source": [
    "You can learn more about the `cell_census` methods by accessing their corresponding documentation via `help()`. For example `help(cell_census.open_soma)`."
   ]
  },
  {
   "cell_type": "markdown",
   "metadata": {},
   "source": [
    "## Cell Census organization\n",
    "\n",
    "The Cell Census schema[INSERT LINK] defines the structure of the Cell Census. In short, you can think of the Cell Census as a structured collection of items that stores different pieces of information. All of these items and the parent collection are SOMA objects of various types and can all be accessed with the `SOMA` API.\n",
    "\n",
    "The `cell_census` package contains some convenient wrappers of the SOMA API. An example of this is the function we used to open the Cell Census: `cell_census.open_soma()`\n",
    "\n",
    "### Main Cell Census components\n",
    "\n",
    "With the command above you created `census`, which is a `SOMACollection`. It is analogous to a Python dictionary, and it has two items: `census_info` and `census_data`.\n",
    "\n",
    "\n",
    "#### Cell Census summary info\n",
    "\n",
    "- `census[\"census_info\"]` A collection of tables providing information of the census as a whole.\n",
    "    - `census[\"census_info\"][\"summary\"]`: High-level information of this Cell Census, e.g. build date, total cell count, etc.\n",
    "    - `census[\"census_info\"][\"datasets\"]`: A table with all datasets from [CELLxGENE Discover](https://cellxgene.cziscience.com/) used to create the Cell Census.\n",
    "    - `census[\"census_info\"][\"summary_cell_counts\"]`: Cell Counts stratified by **relevant** cell metadata\n",
    "    \n",
    "    \n",
    "#### Cell Census data\n",
    "\n",
    "Data for each organism is stored in independent `SOMAExperiment` objects which are a specialized form of a `SOMACollection`. Each of these store a data matrix (cell by genes), cell metadata, gene metadata, and some other useful components not covered in this notebook.\n",
    "\n",
    "This is how the data is organized for one organism -- *Homo sapiens*:\n",
    "\n",
    "- `census_obj[\"census_data\"][\"homo_sapiens\"].obs`: Cell metadata\n",
    "- `census_obj[\"census_data\"][\"homo_sapiens\"].ms[\"RNA\"].X:` Data matrices, currently only raw counts exist `X[\"raw\"]`\n",
    "- `census_obj[\"census_data\"][\"homo_sapiens\"].ms[\"RNA\"].var:` Gene Metadata\n",
    "\n",
    "## Cell Census summary content tables\n",
    "\n",
    "You can take a quick look at the high-level Cell Census information by looking at `census[\"census_info\"][\"summary\"]`"
   ]
  },
  {
   "cell_type": "code",
   "execution_count": 2,
   "metadata": {
    "execution": {
     "iopub.execute_input": "2023-01-31T20:11:32.040209Z",
     "iopub.status.busy": "2023-01-31T20:11:32.039649Z",
     "iopub.status.idle": "2023-01-31T20:11:32.818095Z",
     "shell.execute_reply": "2023-01-31T20:11:32.817071Z"
    },
    "scrolled": true
   },
   "outputs": [
    {
     "data": {
      "text/html": [
       "<div>\n",
       "<style scoped>\n",
       "    .dataframe tbody tr th:only-of-type {\n",
       "        vertical-align: middle;\n",
       "    }\n",
       "\n",
       "    .dataframe tbody tr th {\n",
       "        vertical-align: top;\n",
       "    }\n",
       "\n",
       "    .dataframe thead th {\n",
       "        text-align: right;\n",
       "    }\n",
       "</style>\n",
       "<table border=\"1\" class=\"dataframe\">\n",
       "  <thead>\n",
       "    <tr style=\"text-align: right;\">\n",
       "      <th></th>\n",
       "      <th>soma_joinid</th>\n",
       "      <th>label</th>\n",
       "      <th>value</th>\n",
       "    </tr>\n",
       "  </thead>\n",
       "  <tbody>\n",
       "    <tr>\n",
       "      <th>0</th>\n",
       "      <td>0</td>\n",
       "      <td>cell_census_schema_version</td>\n",
       "      <td>0.1.0</td>\n",
       "    </tr>\n",
       "    <tr>\n",
       "      <th>1</th>\n",
       "      <td>1</td>\n",
       "      <td>cell_census_build_date</td>\n",
       "      <td>2023-01-30</td>\n",
       "    </tr>\n",
       "    <tr>\n",
       "      <th>2</th>\n",
       "      <td>2</td>\n",
       "      <td>total_cell_count</td>\n",
       "      <td>47168264</td>\n",
       "    </tr>\n",
       "    <tr>\n",
       "      <th>3</th>\n",
       "      <td>3</td>\n",
       "      <td>unique_cell_count</td>\n",
       "      <td>27945310</td>\n",
       "    </tr>\n",
       "    <tr>\n",
       "      <th>4</th>\n",
       "      <td>4</td>\n",
       "      <td>number_donors_homo_sapiens</td>\n",
       "      <td>9560</td>\n",
       "    </tr>\n",
       "    <tr>\n",
       "      <th>5</th>\n",
       "      <td>5</td>\n",
       "      <td>number_donors_mus_musculus</td>\n",
       "      <td>1296</td>\n",
       "    </tr>\n",
       "  </tbody>\n",
       "</table>\n",
       "</div>"
      ],
      "text/plain": [
       "   soma_joinid                       label       value\n",
       "0            0  cell_census_schema_version       0.1.0\n",
       "1            1      cell_census_build_date  2023-01-30\n",
       "2            2            total_cell_count    47168264\n",
       "3            3           unique_cell_count    27945310\n",
       "4            4  number_donors_homo_sapiens        9560\n",
       "5            5  number_donors_mus_musculus        1296"
      ]
     },
     "execution_count": 2,
     "metadata": {},
     "output_type": "execute_result"
    }
   ],
   "source": [
    "census_info = census[\"census_info\"][\"summary\"].read().concat().to_pandas()\n",
    "census_info"
   ]
  },
  {
   "cell_type": "markdown",
   "metadata": {},
   "source": [
    "Of special interest are the `label`-`value` combinations for :\n",
    "\n",
    "- `total_cell_count` is the total number of cells in the Cell Census.\n",
    "- `unique_cell_count` is the number of unique cells, as some cells may be present twice due to meta-analysis or consortia-like data.\n",
    "- `number_donors_homo_sapiens` and `number_donors_mus_musculus` are the number of individuals for human and mouse. These are not guaranteed to be unique as one individual ID may be present or identical in different datasets.\n",
    "\n",
    "\n",
    "###  Cell counts by cell metadata\n",
    "\n",
    "By looking at `census[\"summary_cell_counts\"]` you can get a general idea of cell counts stratified by **some relevant** cell metadata. Not all cell metadata is included in this table, you can take a look at all cell and gene metadata available in the sections below \"Cell metadata\" and \"Gene metadata\".\n",
    "\n",
    "The line below retrieves this table and casts it into a `pandas.DataFrame`."
   ]
  },
  {
   "cell_type": "code",
   "execution_count": 3,
   "metadata": {
    "execution": {
     "iopub.execute_input": "2023-01-31T20:11:32.843254Z",
     "iopub.status.busy": "2023-01-31T20:11:32.843080Z",
     "iopub.status.idle": "2023-01-31T20:11:33.403049Z",
     "shell.execute_reply": "2023-01-31T20:11:33.402019Z"
    }
   },
   "outputs": [
    {
     "data": {
      "text/html": [
       "<div>\n",
       "<style scoped>\n",
       "    .dataframe tbody tr th:only-of-type {\n",
       "        vertical-align: middle;\n",
       "    }\n",
       "\n",
       "    .dataframe tbody tr th {\n",
       "        vertical-align: top;\n",
       "    }\n",
       "\n",
       "    .dataframe thead th {\n",
       "        text-align: right;\n",
       "    }\n",
       "</style>\n",
       "<table border=\"1\" class=\"dataframe\">\n",
       "  <thead>\n",
       "    <tr style=\"text-align: right;\">\n",
       "      <th></th>\n",
       "      <th>soma_joinid</th>\n",
       "      <th>organism</th>\n",
       "      <th>category</th>\n",
       "      <th>ontology_term_id</th>\n",
       "      <th>unique_cell_count</th>\n",
       "      <th>total_cell_count</th>\n",
       "      <th>label</th>\n",
       "    </tr>\n",
       "  </thead>\n",
       "  <tbody>\n",
       "    <tr>\n",
       "      <th>0</th>\n",
       "      <td>0</td>\n",
       "      <td>Homo sapiens</td>\n",
       "      <td>all</td>\n",
       "      <td>na</td>\n",
       "      <td>25618401</td>\n",
       "      <td>43246174</td>\n",
       "      <td>na</td>\n",
       "    </tr>\n",
       "    <tr>\n",
       "      <th>1</th>\n",
       "      <td>1</td>\n",
       "      <td>Homo sapiens</td>\n",
       "      <td>assay</td>\n",
       "      <td>EFO:0008722</td>\n",
       "      <td>177719</td>\n",
       "      <td>260396</td>\n",
       "      <td>Drop-seq</td>\n",
       "    </tr>\n",
       "    <tr>\n",
       "      <th>2</th>\n",
       "      <td>2</td>\n",
       "      <td>Homo sapiens</td>\n",
       "      <td>assay</td>\n",
       "      <td>EFO:0008780</td>\n",
       "      <td>0</td>\n",
       "      <td>51304</td>\n",
       "      <td>inDrop</td>\n",
       "    </tr>\n",
       "    <tr>\n",
       "      <th>3</th>\n",
       "      <td>3</td>\n",
       "      <td>Homo sapiens</td>\n",
       "      <td>assay</td>\n",
       "      <td>EFO:0008913</td>\n",
       "      <td>133511</td>\n",
       "      <td>133511</td>\n",
       "      <td>single-cell RNA sequencing</td>\n",
       "    </tr>\n",
       "    <tr>\n",
       "      <th>4</th>\n",
       "      <td>4</td>\n",
       "      <td>Homo sapiens</td>\n",
       "      <td>assay</td>\n",
       "      <td>EFO:0008919</td>\n",
       "      <td>44721</td>\n",
       "      <td>161998</td>\n",
       "      <td>Seq-Well</td>\n",
       "    </tr>\n",
       "    <tr>\n",
       "      <th>...</th>\n",
       "      <td>...</td>\n",
       "      <td>...</td>\n",
       "      <td>...</td>\n",
       "      <td>...</td>\n",
       "      <td>...</td>\n",
       "      <td>...</td>\n",
       "      <td>...</td>\n",
       "    </tr>\n",
       "    <tr>\n",
       "      <th>1201</th>\n",
       "      <td>1201</td>\n",
       "      <td>Mus musculus</td>\n",
       "      <td>tissue_general</td>\n",
       "      <td>UBERON:0002113</td>\n",
       "      <td>164881</td>\n",
       "      <td>188361</td>\n",
       "      <td>kidney</td>\n",
       "    </tr>\n",
       "    <tr>\n",
       "      <th>1202</th>\n",
       "      <td>1202</td>\n",
       "      <td>Mus musculus</td>\n",
       "      <td>tissue_general</td>\n",
       "      <td>UBERON:0002365</td>\n",
       "      <td>15577</td>\n",
       "      <td>31154</td>\n",
       "      <td>exocrine gland</td>\n",
       "    </tr>\n",
       "    <tr>\n",
       "      <th>1203</th>\n",
       "      <td>1203</td>\n",
       "      <td>Mus musculus</td>\n",
       "      <td>tissue_general</td>\n",
       "      <td>UBERON:0002367</td>\n",
       "      <td>37715</td>\n",
       "      <td>130135</td>\n",
       "      <td>prostate gland</td>\n",
       "    </tr>\n",
       "    <tr>\n",
       "      <th>1204</th>\n",
       "      <td>1204</td>\n",
       "      <td>Mus musculus</td>\n",
       "      <td>tissue_general</td>\n",
       "      <td>UBERON:0002368</td>\n",
       "      <td>13322</td>\n",
       "      <td>26644</td>\n",
       "      <td>endocrine gland</td>\n",
       "    </tr>\n",
       "    <tr>\n",
       "      <th>1205</th>\n",
       "      <td>1205</td>\n",
       "      <td>Mus musculus</td>\n",
       "      <td>tissue_general</td>\n",
       "      <td>UBERON:0002371</td>\n",
       "      <td>54737</td>\n",
       "      <td>144962</td>\n",
       "      <td>bone marrow</td>\n",
       "    </tr>\n",
       "  </tbody>\n",
       "</table>\n",
       "<p>1206 rows × 7 columns</p>\n",
       "</div>"
      ],
      "text/plain": [
       "      soma_joinid      organism        category ontology_term_id  \\\n",
       "0               0  Homo sapiens             all               na   \n",
       "1               1  Homo sapiens           assay      EFO:0008722   \n",
       "2               2  Homo sapiens           assay      EFO:0008780   \n",
       "3               3  Homo sapiens           assay      EFO:0008913   \n",
       "4               4  Homo sapiens           assay      EFO:0008919   \n",
       "...           ...           ...             ...              ...   \n",
       "1201         1201  Mus musculus  tissue_general   UBERON:0002113   \n",
       "1202         1202  Mus musculus  tissue_general   UBERON:0002365   \n",
       "1203         1203  Mus musculus  tissue_general   UBERON:0002367   \n",
       "1204         1204  Mus musculus  tissue_general   UBERON:0002368   \n",
       "1205         1205  Mus musculus  tissue_general   UBERON:0002371   \n",
       "\n",
       "      unique_cell_count  total_cell_count                       label  \n",
       "0              25618401          43246174                          na  \n",
       "1                177719            260396                    Drop-seq  \n",
       "2                     0             51304                      inDrop  \n",
       "3                133511            133511  single-cell RNA sequencing  \n",
       "4                 44721            161998                    Seq-Well  \n",
       "...                 ...               ...                         ...  \n",
       "1201             164881            188361                      kidney  \n",
       "1202              15577             31154              exocrine gland  \n",
       "1203              37715            130135              prostate gland  \n",
       "1204              13322             26644             endocrine gland  \n",
       "1205              54737            144962                 bone marrow  \n",
       "\n",
       "[1206 rows x 7 columns]"
      ]
     },
     "execution_count": 3,
     "metadata": {},
     "output_type": "execute_result"
    }
   ],
   "source": [
    "census_counts = census[\"census_info\"][\"summary_cell_counts\"].read().concat().to_pandas()\n",
    "census_counts"
   ]
  },
  {
   "cell_type": "markdown",
   "metadata": {},
   "source": [
    "For each combination of `organism` and values for each `category` of  cell metadata you can take a look at `total_cell_count` and `unique_cell_count` for the cell counts of that combination. \n",
    "\n",
    "The values for each `category` are specified in `ontology_term_id` and `label`, which are the value's IDs and labels, respectively.\n",
    "\n",
    "#### Example: cell metadata included in the summary counts table\n",
    "\n",
    "To get all the available cell metadata in the summary counts table you can do the following. Remember this is not all the cell metadata available, as some variables were omitted in the creation of this table."
   ]
  },
  {
   "cell_type": "code",
   "execution_count": 4,
   "metadata": {
    "execution": {
     "iopub.execute_input": "2023-01-31T20:11:33.406165Z",
     "iopub.status.busy": "2023-01-31T20:11:33.405989Z",
     "iopub.status.idle": "2023-01-31T20:11:33.415985Z",
     "shell.execute_reply": "2023-01-31T20:11:33.414505Z"
    }
   },
   "outputs": [
    {
     "data": {
      "text/plain": [
       "organism      category               \n",
       "Homo sapiens  all                          1\n",
       "              assay                       20\n",
       "              cell_type                  557\n",
       "              disease                     53\n",
       "              self_reported_ethnicity     16\n",
       "              sex                          3\n",
       "              suspension_type              1\n",
       "              tissue                     197\n",
       "              tissue_general              59\n",
       "Mus musculus  all                          1\n",
       "              assay                        9\n",
       "              cell_type                  211\n",
       "              disease                      5\n",
       "              self_reported_ethnicity      1\n",
       "              sex                          3\n",
       "              suspension_type              1\n",
       "              tissue                      45\n",
       "              tissue_general              23\n",
       "dtype: int64"
      ]
     },
     "execution_count": 4,
     "metadata": {},
     "output_type": "execute_result"
    }
   ],
   "source": [
    "census_counts[[\"organism\", \"category\"]].value_counts(sort=False)"
   ]
  },
  {
   "cell_type": "markdown",
   "metadata": {},
   "source": [
    "#### Example: cell counts for each sequencing assay in human data \n",
    "\n",
    "To get the cell counts for each sequencing assay type in human data, you can perform the following `pandas.DataFrame` operations:"
   ]
  },
  {
   "cell_type": "code",
   "execution_count": 5,
   "metadata": {
    "execution": {
     "iopub.execute_input": "2023-01-31T20:11:33.419244Z",
     "iopub.status.busy": "2023-01-31T20:11:33.419090Z",
     "iopub.status.idle": "2023-01-31T20:11:33.432052Z",
     "shell.execute_reply": "2023-01-31T20:11:33.430443Z"
    }
   },
   "outputs": [
    {
     "data": {
      "text/html": [
       "<div>\n",
       "<style scoped>\n",
       "    .dataframe tbody tr th:only-of-type {\n",
       "        vertical-align: middle;\n",
       "    }\n",
       "\n",
       "    .dataframe tbody tr th {\n",
       "        vertical-align: top;\n",
       "    }\n",
       "\n",
       "    .dataframe thead th {\n",
       "        text-align: right;\n",
       "    }\n",
       "</style>\n",
       "<table border=\"1\" class=\"dataframe\">\n",
       "  <thead>\n",
       "    <tr style=\"text-align: right;\">\n",
       "      <th></th>\n",
       "      <th>soma_joinid</th>\n",
       "      <th>organism</th>\n",
       "      <th>category</th>\n",
       "      <th>ontology_term_id</th>\n",
       "      <th>unique_cell_count</th>\n",
       "      <th>total_cell_count</th>\n",
       "      <th>label</th>\n",
       "    </tr>\n",
       "  </thead>\n",
       "  <tbody>\n",
       "    <tr>\n",
       "      <th>11</th>\n",
       "      <td>11</td>\n",
       "      <td>Homo sapiens</td>\n",
       "      <td>assay</td>\n",
       "      <td>EFO:0009922</td>\n",
       "      <td>9119120</td>\n",
       "      <td>18000570</td>\n",
       "      <td>10x 3' v3</td>\n",
       "    </tr>\n",
       "    <tr>\n",
       "      <th>8</th>\n",
       "      <td>8</td>\n",
       "      <td>Homo sapiens</td>\n",
       "      <td>assay</td>\n",
       "      <td>EFO:0009899</td>\n",
       "      <td>5334532</td>\n",
       "      <td>10599706</td>\n",
       "      <td>10x 3' v2</td>\n",
       "    </tr>\n",
       "    <tr>\n",
       "      <th>14</th>\n",
       "      <td>14</td>\n",
       "      <td>Homo sapiens</td>\n",
       "      <td>assay</td>\n",
       "      <td>EFO:0010550</td>\n",
       "      <td>4062980</td>\n",
       "      <td>5064268</td>\n",
       "      <td>sci-RNA-seq</td>\n",
       "    </tr>\n",
       "    <tr>\n",
       "      <th>15</th>\n",
       "      <td>15</td>\n",
       "      <td>Homo sapiens</td>\n",
       "      <td>assay</td>\n",
       "      <td>EFO:0011025</td>\n",
       "      <td>2968996</td>\n",
       "      <td>4684103</td>\n",
       "      <td>10x 5' v1</td>\n",
       "    </tr>\n",
       "    <tr>\n",
       "      <th>9</th>\n",
       "      <td>9</td>\n",
       "      <td>Homo sapiens</td>\n",
       "      <td>assay</td>\n",
       "      <td>EFO:0009900</td>\n",
       "      <td>1611873</td>\n",
       "      <td>1740273</td>\n",
       "      <td>10x 5' v2</td>\n",
       "    </tr>\n",
       "    <tr>\n",
       "      <th>17</th>\n",
       "      <td>17</td>\n",
       "      <td>Homo sapiens</td>\n",
       "      <td>assay</td>\n",
       "      <td>EFO:0030003</td>\n",
       "      <td>651223</td>\n",
       "      <td>657933</td>\n",
       "      <td>10x 3' transcription profiling</td>\n",
       "    </tr>\n",
       "    <tr>\n",
       "      <th>16</th>\n",
       "      <td>16</td>\n",
       "      <td>Homo sapiens</td>\n",
       "      <td>assay</td>\n",
       "      <td>EFO:0030002</td>\n",
       "      <td>598266</td>\n",
       "      <td>642559</td>\n",
       "      <td>microwell-seq</td>\n",
       "    </tr>\n",
       "    <tr>\n",
       "      <th>18</th>\n",
       "      <td>18</td>\n",
       "      <td>Homo sapiens</td>\n",
       "      <td>assay</td>\n",
       "      <td>EFO:0030004</td>\n",
       "      <td>600929</td>\n",
       "      <td>600929</td>\n",
       "      <td>10x 5' transcription profiling</td>\n",
       "    </tr>\n",
       "    <tr>\n",
       "      <th>1</th>\n",
       "      <td>1</td>\n",
       "      <td>Homo sapiens</td>\n",
       "      <td>assay</td>\n",
       "      <td>EFO:0008722</td>\n",
       "      <td>177719</td>\n",
       "      <td>260396</td>\n",
       "      <td>Drop-seq</td>\n",
       "    </tr>\n",
       "    <tr>\n",
       "      <th>19</th>\n",
       "      <td>19</td>\n",
       "      <td>Homo sapiens</td>\n",
       "      <td>assay</td>\n",
       "      <td>EFO:0700003</td>\n",
       "      <td>136067</td>\n",
       "      <td>177276</td>\n",
       "      <td>BD Rhapsody Whole Transcriptome Analysis</td>\n",
       "    </tr>\n",
       "    <tr>\n",
       "      <th>4</th>\n",
       "      <td>4</td>\n",
       "      <td>Homo sapiens</td>\n",
       "      <td>assay</td>\n",
       "      <td>EFO:0008919</td>\n",
       "      <td>44721</td>\n",
       "      <td>161998</td>\n",
       "      <td>Seq-Well</td>\n",
       "    </tr>\n",
       "    <tr>\n",
       "      <th>5</th>\n",
       "      <td>5</td>\n",
       "      <td>Homo sapiens</td>\n",
       "      <td>assay</td>\n",
       "      <td>EFO:0008931</td>\n",
       "      <td>45640</td>\n",
       "      <td>159873</td>\n",
       "      <td>Smart-seq2</td>\n",
       "    </tr>\n",
       "    <tr>\n",
       "      <th>3</th>\n",
       "      <td>3</td>\n",
       "      <td>Homo sapiens</td>\n",
       "      <td>assay</td>\n",
       "      <td>EFO:0008913</td>\n",
       "      <td>133511</td>\n",
       "      <td>133511</td>\n",
       "      <td>single-cell RNA sequencing</td>\n",
       "    </tr>\n",
       "    <tr>\n",
       "      <th>13</th>\n",
       "      <td>13</td>\n",
       "      <td>Homo sapiens</td>\n",
       "      <td>assay</td>\n",
       "      <td>EFO:0010183</td>\n",
       "      <td>0</td>\n",
       "      <td>117962</td>\n",
       "      <td>single cell library construction</td>\n",
       "    </tr>\n",
       "    <tr>\n",
       "      <th>20</th>\n",
       "      <td>20</td>\n",
       "      <td>Homo sapiens</td>\n",
       "      <td>assay</td>\n",
       "      <td>EFO:0700004</td>\n",
       "      <td>96145</td>\n",
       "      <td>96145</td>\n",
       "      <td>BD Rhapsody Targeted mRNA</td>\n",
       "    </tr>\n",
       "    <tr>\n",
       "      <th>10</th>\n",
       "      <td>10</td>\n",
       "      <td>Homo sapiens</td>\n",
       "      <td>assay</td>\n",
       "      <td>EFO:0009901</td>\n",
       "      <td>36679</td>\n",
       "      <td>52494</td>\n",
       "      <td>10x 3' v1</td>\n",
       "    </tr>\n",
       "    <tr>\n",
       "      <th>2</th>\n",
       "      <td>2</td>\n",
       "      <td>Homo sapiens</td>\n",
       "      <td>assay</td>\n",
       "      <td>EFO:0008780</td>\n",
       "      <td>0</td>\n",
       "      <td>51304</td>\n",
       "      <td>inDrop</td>\n",
       "    </tr>\n",
       "    <tr>\n",
       "      <th>7</th>\n",
       "      <td>7</td>\n",
       "      <td>Homo sapiens</td>\n",
       "      <td>assay</td>\n",
       "      <td>EFO:0008995</td>\n",
       "      <td>0</td>\n",
       "      <td>30244</td>\n",
       "      <td>10x technology</td>\n",
       "    </tr>\n",
       "    <tr>\n",
       "      <th>6</th>\n",
       "      <td>6</td>\n",
       "      <td>Homo sapiens</td>\n",
       "      <td>assay</td>\n",
       "      <td>EFO:0008953</td>\n",
       "      <td>0</td>\n",
       "      <td>9386</td>\n",
       "      <td>STRT-seq</td>\n",
       "    </tr>\n",
       "    <tr>\n",
       "      <th>12</th>\n",
       "      <td>12</td>\n",
       "      <td>Homo sapiens</td>\n",
       "      <td>assay</td>\n",
       "      <td>EFO:0010010</td>\n",
       "      <td>0</td>\n",
       "      <td>5244</td>\n",
       "      <td>CEL-seq2</td>\n",
       "    </tr>\n",
       "  </tbody>\n",
       "</table>\n",
       "</div>"
      ],
      "text/plain": [
       "    soma_joinid      organism category ontology_term_id  unique_cell_count  \\\n",
       "11           11  Homo sapiens    assay      EFO:0009922            9119120   \n",
       "8             8  Homo sapiens    assay      EFO:0009899            5334532   \n",
       "14           14  Homo sapiens    assay      EFO:0010550            4062980   \n",
       "15           15  Homo sapiens    assay      EFO:0011025            2968996   \n",
       "9             9  Homo sapiens    assay      EFO:0009900            1611873   \n",
       "17           17  Homo sapiens    assay      EFO:0030003             651223   \n",
       "16           16  Homo sapiens    assay      EFO:0030002             598266   \n",
       "18           18  Homo sapiens    assay      EFO:0030004             600929   \n",
       "1             1  Homo sapiens    assay      EFO:0008722             177719   \n",
       "19           19  Homo sapiens    assay      EFO:0700003             136067   \n",
       "4             4  Homo sapiens    assay      EFO:0008919              44721   \n",
       "5             5  Homo sapiens    assay      EFO:0008931              45640   \n",
       "3             3  Homo sapiens    assay      EFO:0008913             133511   \n",
       "13           13  Homo sapiens    assay      EFO:0010183                  0   \n",
       "20           20  Homo sapiens    assay      EFO:0700004              96145   \n",
       "10           10  Homo sapiens    assay      EFO:0009901              36679   \n",
       "2             2  Homo sapiens    assay      EFO:0008780                  0   \n",
       "7             7  Homo sapiens    assay      EFO:0008995                  0   \n",
       "6             6  Homo sapiens    assay      EFO:0008953                  0   \n",
       "12           12  Homo sapiens    assay      EFO:0010010                  0   \n",
       "\n",
       "    total_cell_count                                     label  \n",
       "11          18000570                                 10x 3' v3  \n",
       "8           10599706                                 10x 3' v2  \n",
       "14           5064268                               sci-RNA-seq  \n",
       "15           4684103                                 10x 5' v1  \n",
       "9            1740273                                 10x 5' v2  \n",
       "17            657933            10x 3' transcription profiling  \n",
       "16            642559                             microwell-seq  \n",
       "18            600929            10x 5' transcription profiling  \n",
       "1             260396                                  Drop-seq  \n",
       "19            177276  BD Rhapsody Whole Transcriptome Analysis  \n",
       "4             161998                                  Seq-Well  \n",
       "5             159873                                Smart-seq2  \n",
       "3             133511                single-cell RNA sequencing  \n",
       "13            117962          single cell library construction  \n",
       "20             96145                 BD Rhapsody Targeted mRNA  \n",
       "10             52494                                 10x 3' v1  \n",
       "2              51304                                    inDrop  \n",
       "7              30244                            10x technology  \n",
       "6               9386                                  STRT-seq  \n",
       "12              5244                                  CEL-seq2  "
      ]
     },
     "execution_count": 5,
     "metadata": {},
     "output_type": "execute_result"
    }
   ],
   "source": [
    "census_human_assays = census_counts.query(\"organism == 'Homo sapiens' & category == 'assay'\")\n",
    "census_human_assays.sort_values(\"total_cell_count\", ascending=False)"
   ]
  },
  {
   "cell_type": "markdown",
   "metadata": {},
   "source": [
    "#### Example: number of microglial cells in the Cell Census\n",
    "\n",
    "If you have a specific term from any of the categories shown above you can directly find out the number of cells for that term."
   ]
  },
  {
   "cell_type": "code",
   "execution_count": 6,
   "metadata": {
    "execution": {
     "iopub.execute_input": "2023-01-31T20:11:33.435301Z",
     "iopub.status.busy": "2023-01-31T20:11:33.435156Z",
     "iopub.status.idle": "2023-01-31T20:11:33.444538Z",
     "shell.execute_reply": "2023-01-31T20:11:33.443306Z"
    }
   },
   "outputs": [
    {
     "data": {
      "text/html": [
       "<div>\n",
       "<style scoped>\n",
       "    .dataframe tbody tr th:only-of-type {\n",
       "        vertical-align: middle;\n",
       "    }\n",
       "\n",
       "    .dataframe tbody tr th {\n",
       "        vertical-align: top;\n",
       "    }\n",
       "\n",
       "    .dataframe thead th {\n",
       "        text-align: right;\n",
       "    }\n",
       "</style>\n",
       "<table border=\"1\" class=\"dataframe\">\n",
       "  <thead>\n",
       "    <tr style=\"text-align: right;\">\n",
       "      <th></th>\n",
       "      <th>soma_joinid</th>\n",
       "      <th>organism</th>\n",
       "      <th>category</th>\n",
       "      <th>ontology_term_id</th>\n",
       "      <th>unique_cell_count</th>\n",
       "      <th>total_cell_count</th>\n",
       "      <th>label</th>\n",
       "    </tr>\n",
       "  </thead>\n",
       "  <tbody>\n",
       "    <tr>\n",
       "      <th>65</th>\n",
       "      <td>65</td>\n",
       "      <td>Homo sapiens</td>\n",
       "      <td>cell_type</td>\n",
       "      <td>CL:0000129</td>\n",
       "      <td>68691</td>\n",
       "      <td>326622</td>\n",
       "      <td>microglial cell</td>\n",
       "    </tr>\n",
       "    <tr>\n",
       "      <th>939</th>\n",
       "      <td>939</td>\n",
       "      <td>Mus musculus</td>\n",
       "      <td>cell_type</td>\n",
       "      <td>CL:0000129</td>\n",
       "      <td>34990</td>\n",
       "      <td>62617</td>\n",
       "      <td>microglial cell</td>\n",
       "    </tr>\n",
       "  </tbody>\n",
       "</table>\n",
       "</div>"
      ],
      "text/plain": [
       "     soma_joinid      organism   category ontology_term_id  unique_cell_count  \\\n",
       "65            65  Homo sapiens  cell_type       CL:0000129              68691   \n",
       "939          939  Mus musculus  cell_type       CL:0000129              34990   \n",
       "\n",
       "     total_cell_count            label  \n",
       "65             326622  microglial cell  \n",
       "939             62617  microglial cell  "
      ]
     },
     "execution_count": 6,
     "metadata": {},
     "output_type": "execute_result"
    }
   ],
   "source": [
    "census_counts.query(\"label == 'microglial cell'\")"
   ]
  },
  {
   "cell_type": "markdown",
   "metadata": {},
   "source": [
    "## Cell metadata\n",
    "\n",
    "You can obtain all cell metadata variables by directly querying the columns of the corresponding `SOMADataFrame`.\n",
    "\n",
    "All of these variables can be used for querying the Cell Census in case you want to work with specific cells."
   ]
  },
  {
   "cell_type": "code",
   "execution_count": 7,
   "metadata": {
    "execution": {
     "iopub.execute_input": "2023-01-31T20:11:33.448749Z",
     "iopub.status.busy": "2023-01-31T20:11:33.448599Z",
     "iopub.status.idle": "2023-01-31T20:11:33.847206Z",
     "shell.execute_reply": "2023-01-31T20:11:33.845690Z"
    },
    "scrolled": true
   },
   "outputs": [
    {
     "data": {
      "text/plain": [
       "['soma_joinid',\n",
       " 'dataset_id',\n",
       " 'assay',\n",
       " 'assay_ontology_term_id',\n",
       " 'cell_type',\n",
       " 'cell_type_ontology_term_id',\n",
       " 'development_stage',\n",
       " 'development_stage_ontology_term_id',\n",
       " 'disease',\n",
       " 'disease_ontology_term_id',\n",
       " 'donor_id',\n",
       " 'is_primary_data',\n",
       " 'self_reported_ethnicity',\n",
       " 'self_reported_ethnicity_ontology_term_id',\n",
       " 'sex',\n",
       " 'sex_ontology_term_id',\n",
       " 'suspension_type',\n",
       " 'tissue',\n",
       " 'tissue_ontology_term_id',\n",
       " 'tissue_general',\n",
       " 'tissue_general_ontology_term_id']"
      ]
     },
     "execution_count": 7,
     "metadata": {},
     "output_type": "execute_result"
    }
   ],
   "source": [
    "list(census[\"census_data\"][\"homo_sapiens\"].obs.keys())"
   ]
  },
  {
   "cell_type": "markdown",
   "metadata": {},
   "source": [
    "All of these variables are defined in the [CELLxGENE dataset schema](https://github.com/chanzuckerberg/single-cell-curation/blob/main/schema/3.0.0/schema.md#obs-cell-metadata) except for the following:\n",
    "\n",
    "- `soma_joinid`: a SOMA-defined value use for join operations.\n",
    "- `dataset_id`: the dataset id as encoded in `census[\"census-info\"][\"datasets\"]`.\n",
    "- `tissue_general` and `tissue_general_ontology_term_id`: the high-level tissue mapping."
   ]
  },
  {
   "cell_type": "markdown",
   "metadata": {},
   "source": [
    "## Gene metadata\n",
    "\n",
    "Similarly, we can obtain all gene metadata variables by directly querying the columns of the corresponding `SOMADataFrame`.\n",
    "\n",
    "These are the variables you can use for querying the Cell Census in case there are specific genes you are interested in."
   ]
  },
  {
   "cell_type": "code",
   "execution_count": 8,
   "metadata": {
    "execution": {
     "iopub.execute_input": "2023-01-31T20:11:33.850650Z",
     "iopub.status.busy": "2023-01-31T20:11:33.850499Z",
     "iopub.status.idle": "2023-01-31T20:11:34.282606Z",
     "shell.execute_reply": "2023-01-31T20:11:34.280653Z"
    }
   },
   "outputs": [
    {
     "data": {
      "text/plain": [
       "['soma_joinid', 'feature_id', 'feature_name', 'feature_length']"
      ]
     },
     "execution_count": 8,
     "metadata": {},
     "output_type": "execute_result"
    }
   ],
   "source": [
    "list(census[\"census_data\"][\"homo_sapiens\"].ms[\"RNA\"].var.keys())"
   ]
  },
  {
   "cell_type": "markdown",
   "metadata": {},
   "source": [
    "All of these variables are defined in the [CELLxGENE dataset schema](https://github.com/chanzuckerberg/single-cell-curation/blob/main/schema/3.0.0/schema.md#var-and-rawvar-gene-metadata) except for the following:\n",
    "\n",
    "- `soma_joinid`: a SOMA-defined value use for join operations.\n",
    "- `feature_length`: the length in base pairs of the gene."
   ]
  },
  {
   "cell_type": "markdown",
   "metadata": {},
   "source": [
    "## Understanding Cell Census contents beyond the summary tables\n",
    "\n",
    "While using the pre-computed tables in `census[\"census_info\"]` is an easy and quick way to understand the contents of the Cell Census, it falls short if you want to learn more about certain slices of the Cell Census.\n",
    "\n",
    "For example, you may want to learn more about:\n",
    "\n",
    "- What are the cell types available for human liver? \n",
    "- What are the total number of cells in all lung datasets stratified by sequencing technology?\n",
    "- What is the sex distribution of all cells from brain in mouse?\n",
    "- What are the diseases available for T cells? \n",
    "\n",
    "All of these questions can be answered by directly querying the cell metadata as shown in the examples below.\n",
    "\n",
    "### Example: all cell types available in human\n",
    "\n",
    "To exemplify the process of accessing and slicing cell metadata for summary stats, let's start with a trivial example and take a look at all human cell types available in the Cell Census:"
   ]
  },
  {
   "cell_type": "code",
   "execution_count": 9,
   "metadata": {
    "execution": {
     "iopub.execute_input": "2023-01-31T20:11:34.286709Z",
     "iopub.status.busy": "2023-01-31T20:11:34.286556Z",
     "iopub.status.idle": "2023-01-31T20:11:38.420318Z",
     "shell.execute_reply": "2023-01-31T20:11:38.419483Z"
    }
   },
   "outputs": [
    {
     "data": {
      "text/html": [
       "<div>\n",
       "<style scoped>\n",
       "    .dataframe tbody tr th:only-of-type {\n",
       "        vertical-align: middle;\n",
       "    }\n",
       "\n",
       "    .dataframe tbody tr th {\n",
       "        vertical-align: top;\n",
       "    }\n",
       "\n",
       "    .dataframe thead th {\n",
       "        text-align: right;\n",
       "    }\n",
       "</style>\n",
       "<table border=\"1\" class=\"dataframe\">\n",
       "  <thead>\n",
       "    <tr style=\"text-align: right;\">\n",
       "      <th></th>\n",
       "      <th>cell_type</th>\n",
       "      <th>is_primary_data</th>\n",
       "    </tr>\n",
       "  </thead>\n",
       "  <tbody>\n",
       "    <tr>\n",
       "      <th>0</th>\n",
       "      <td>oligodendrocyte</td>\n",
       "      <td>True</td>\n",
       "    </tr>\n",
       "    <tr>\n",
       "      <th>1</th>\n",
       "      <td>oligodendrocyte</td>\n",
       "      <td>True</td>\n",
       "    </tr>\n",
       "    <tr>\n",
       "      <th>2</th>\n",
       "      <td>oligodendrocyte</td>\n",
       "      <td>True</td>\n",
       "    </tr>\n",
       "    <tr>\n",
       "      <th>3</th>\n",
       "      <td>oligodendrocyte</td>\n",
       "      <td>True</td>\n",
       "    </tr>\n",
       "    <tr>\n",
       "      <th>4</th>\n",
       "      <td>oligodendrocyte</td>\n",
       "      <td>True</td>\n",
       "    </tr>\n",
       "    <tr>\n",
       "      <th>...</th>\n",
       "      <td>...</td>\n",
       "      <td>...</td>\n",
       "    </tr>\n",
       "    <tr>\n",
       "      <th>43246169</th>\n",
       "      <td>epithelial cell</td>\n",
       "      <td>False</td>\n",
       "    </tr>\n",
       "    <tr>\n",
       "      <th>43246170</th>\n",
       "      <td>hepatocyte</td>\n",
       "      <td>False</td>\n",
       "    </tr>\n",
       "    <tr>\n",
       "      <th>43246171</th>\n",
       "      <td>epithelial cell of alveolus of lung</td>\n",
       "      <td>False</td>\n",
       "    </tr>\n",
       "    <tr>\n",
       "      <th>43246172</th>\n",
       "      <td>goblet cell</td>\n",
       "      <td>False</td>\n",
       "    </tr>\n",
       "    <tr>\n",
       "      <th>43246173</th>\n",
       "      <td>epithelial cell of alveolus of lung</td>\n",
       "      <td>False</td>\n",
       "    </tr>\n",
       "  </tbody>\n",
       "</table>\n",
       "<p>43246174 rows × 2 columns</p>\n",
       "</div>"
      ],
      "text/plain": [
       "                                    cell_type  is_primary_data\n",
       "0                             oligodendrocyte             True\n",
       "1                             oligodendrocyte             True\n",
       "2                             oligodendrocyte             True\n",
       "3                             oligodendrocyte             True\n",
       "4                             oligodendrocyte             True\n",
       "...                                       ...              ...\n",
       "43246169                      epithelial cell            False\n",
       "43246170                           hepatocyte            False\n",
       "43246171  epithelial cell of alveolus of lung            False\n",
       "43246172                          goblet cell            False\n",
       "43246173  epithelial cell of alveolus of lung            False\n",
       "\n",
       "[43246174 rows x 2 columns]"
      ]
     },
     "execution_count": 9,
     "metadata": {},
     "output_type": "execute_result"
    }
   ],
   "source": [
    "human_cell_types = (\n",
    "    census[\"census_data\"][\"homo_sapiens\"].obs.read(column_names=[\"cell_type\", \"is_primary_data\"]).concat().to_pandas()\n",
    ")\n",
    "human_cell_types"
   ]
  },
  {
   "cell_type": "markdown",
   "metadata": {},
   "source": [
    "The number of rows is the total number of cells for humans. Now, if you wish to get the cell counts per cell type we can perform some `pandas` operations on this object.\n",
    "\n",
    "In addition, we will only focus on cells that are marked with `is_primary_data=True` as this ensures we de-duplicate cells that appear more than once in CELLxGENE Discover."
   ]
  },
  {
   "cell_type": "code",
   "execution_count": 10,
   "metadata": {
    "execution": {
     "iopub.execute_input": "2023-01-31T20:11:38.423228Z",
     "iopub.status.busy": "2023-01-31T20:11:38.423078Z",
     "iopub.status.idle": "2023-01-31T20:11:42.245863Z",
     "shell.execute_reply": "2023-01-31T20:11:42.243675Z"
    }
   },
   "outputs": [
    {
     "data": {
      "text/plain": [
       "(25618401, 1)"
      ]
     },
     "execution_count": 10,
     "metadata": {},
     "output_type": "execute_result"
    }
   ],
   "source": [
    "human_cell_types = (\n",
    "    census[\"census_data\"][\"homo_sapiens\"]\n",
    "    .obs.read(column_names=[\"cell_type\"], value_filter=\"is_primary_data == True\")\n",
    "    .concat()\n",
    "    .to_pandas()\n",
    ")\n",
    "\n",
    "human_cell_types = human_cell_types[[\"cell_type\"]]\n",
    "human_cell_types.shape"
   ]
  },
  {
   "cell_type": "markdown",
   "metadata": {},
   "source": [
    "This is the number of unique cells. Now let's look at the counts per cell type:"
   ]
  },
  {
   "cell_type": "code",
   "execution_count": 11,
   "metadata": {
    "execution": {
     "iopub.execute_input": "2023-01-31T20:11:42.249395Z",
     "iopub.status.busy": "2023-01-31T20:11:42.249236Z",
     "iopub.status.idle": "2023-01-31T20:11:43.657829Z",
     "shell.execute_reply": "2023-01-31T20:11:43.656053Z"
    }
   },
   "outputs": [
    {
     "data": {
      "text/plain": [
       "cell_type                            \n",
       "neuron                                   2667372\n",
       "glutamatergic neuron                     1546910\n",
       "CD8-positive, alpha-beta T cell           955814\n",
       "CD4-positive, alpha-beta T cell           946341\n",
       "classical monocyte                        901787\n",
       "                                          ...   \n",
       "pigmented ciliary epithelial cell             17\n",
       "serous cell of epithelium of bronchus         15\n",
       "sperm                                         11\n",
       "type N enteroendocrine cell                   10\n",
       "mature T cell                                  1\n",
       "Length: 543, dtype: int64"
      ]
     },
     "execution_count": 11,
     "metadata": {},
     "output_type": "execute_result"
    }
   ],
   "source": [
    "human_cell_type_counts = human_cell_types.value_counts()\n",
    "human_cell_type_counts"
   ]
  },
  {
   "cell_type": "markdown",
   "metadata": {},
   "source": [
    "This shows you that the most abundant cell types are \"glutamatergic neuron\", \"CD8-positive, alpha-beta T cell\", and \"CD4-positive, alpha-beta T cell\". \n",
    "\n",
    "Now let's take a look at the number of unique cell types:"
   ]
  },
  {
   "cell_type": "code",
   "execution_count": 12,
   "metadata": {
    "execution": {
     "iopub.execute_input": "2023-01-31T20:11:43.662933Z",
     "iopub.status.busy": "2023-01-31T20:11:43.662733Z",
     "iopub.status.idle": "2023-01-31T20:11:43.669587Z",
     "shell.execute_reply": "2023-01-31T20:11:43.668310Z"
    }
   },
   "outputs": [
    {
     "data": {
      "text/plain": [
       "(543,)"
      ]
     },
     "execution_count": 12,
     "metadata": {},
     "output_type": "execute_result"
    }
   ],
   "source": [
    "human_cell_type_counts.shape"
   ]
  },
  {
   "cell_type": "markdown",
   "metadata": {},
   "source": [
    "That is the total number of different cell types for human.\n",
    "\n",
    "All the information in this example can be quickly obtained from the summary table at `census[\"census-info\"][\"summary_cell_counts\"]`.\n",
    "\n",
    "The examples below are more complex and can only be achieved by accessing the cell metadata.\n",
    "\n",
    "### Example: cell types available in human liver\n",
    "\n",
    "Similar to the example above, we can learn what cell types are available for a specific tissue, e.g. liver.\n",
    "\n",
    "To achieve this goal we just need to limit our cell metadata to that tissue. We will use the information in the cell metadata variable `tissue_general`. This variable contains the high-level tissue label for all cells in the Cell Census:"
   ]
  },
  {
   "cell_type": "code",
   "execution_count": 13,
   "metadata": {
    "execution": {
     "iopub.execute_input": "2023-01-31T20:11:43.672176Z",
     "iopub.status.busy": "2023-01-31T20:11:43.672030Z",
     "iopub.status.idle": "2023-01-31T20:11:47.278723Z",
     "shell.execute_reply": "2023-01-31T20:11:47.277433Z"
    }
   },
   "outputs": [
    {
     "data": {
      "text/plain": [
       "hepatoblast                             58447\n",
       "neoplastic cell                         52431\n",
       "erythroblast                            42328\n",
       "periportal region hepatocyte            23509\n",
       "hepatocyte                              19694\n",
       "                                        ...  \n",
       "epithelial cell of exocrine pancreas        1\n",
       "germinal center B cell                      1\n",
       "cell of skeletal muscle                     1\n",
       "enteroendocrine cell                        1\n",
       "endocrine cell                              1\n",
       "Name: cell_type, Length: 110, dtype: int64"
      ]
     },
     "execution_count": 13,
     "metadata": {},
     "output_type": "execute_result"
    }
   ],
   "source": [
    "human_liver_cell_types = (\n",
    "    census[\"census_data\"][\"homo_sapiens\"]\n",
    "    .obs.read(column_names=[\"cell_type\"], value_filter=\"is_primary_data == True and tissue_general == 'liver'\")\n",
    "    .concat()\n",
    "    .to_pandas()\n",
    ")\n",
    "\n",
    "human_liver_cell_types[\"cell_type\"].value_counts()"
   ]
  },
  {
   "cell_type": "markdown",
   "metadata": {},
   "source": [
    "These are the cell types and their cell counts in the human liver.\n",
    "\n",
    "### Example: diseased T cells in human tissues\n",
    "\n",
    "In this example we are going to get the counts for all diseased cells annotated as T cells. For the sake of the example we will focus on \"CD8-positive, alpha-beta T cell\" and \"CD4-positive, alpha-beta T cell\":"
   ]
  },
  {
   "cell_type": "code",
   "execution_count": 14,
   "metadata": {
    "execution": {
     "iopub.execute_input": "2023-01-31T20:11:47.281613Z",
     "iopub.status.busy": "2023-01-31T20:11:47.281461Z",
     "iopub.status.idle": "2023-01-31T20:11:52.172380Z",
     "shell.execute_reply": "2023-01-31T20:11:52.170560Z"
    }
   },
   "outputs": [
    {
     "data": {
      "text/plain": [
       "disease                       tissue_general    \n",
       "B-cell non-Hodgkin lymphoma   blood                  62499\n",
       "COVID-19                      blood                 814620\n",
       "                              lung                    5014\n",
       "                              nose                      13\n",
       "                              respiratory system         4\n",
       "                              saliva                    41\n",
       "Crohn disease                 small intestine          960\n",
       "Down syndrome                 bone marrow              181\n",
       "follicular lymphoma           lymph node              1089\n",
       "influenza                     blood                   8871\n",
       "lung adenocarcinoma           lung                   30499\n",
       "respiratory system disorder   blood                  34301\n",
       "squamous cell lung carcinoma  lung                    9001\n",
       "systemic lupus erythematosus  blood                 355471\n",
       "dtype: int64"
      ]
     },
     "execution_count": 14,
     "metadata": {},
     "output_type": "execute_result"
    }
   ],
   "source": [
    "t_cells_list = [\"CD8-positive, alpha-beta T cell\", \"CD4-positive, alpha-beta T cell\"]\n",
    "\n",
    "t_cells_diseased = (\n",
    "    census[\"census_data\"][\"homo_sapiens\"]\n",
    "    .obs.read(\n",
    "        column_names=[\"disease\", \"tissue_general\"],\n",
    "        value_filter=f\"is_primary_data == True and cell_type in {t_cells_list} and disease != 'normal'\",\n",
    "    )\n",
    "    .concat()\n",
    "    .to_pandas()\n",
    ")\n",
    "\n",
    "t_cells_diseased = t_cells_diseased[[\"disease\", \"tissue_general\"]].value_counts(sort=False)\n",
    "t_cells_diseased"
   ]
  },
  {
   "cell_type": "markdown",
   "metadata": {},
   "source": [
    "These are the cell counts annotated with the indicated disease across human tissues for \"CD8-positive, alpha-beta T cell\" or \"CD4-positive, alpha-beta T cell\"."
   ]
  }
 ],
 "metadata": {
  "kernelspec": {
   "display_name": "Python 3 (ipykernel)",
   "language": "python",
   "name": "python3"
  },
  "language_info": {
   "codemirror_mode": {
    "name": "ipython",
    "version": 3
   },
   "file_extension": ".py",
   "mimetype": "text/x-python",
   "name": "python",
   "nbconvert_exporter": "python",
   "pygments_lexer": "ipython3",
   "version": "3.10.6"
  },
  "vscode": {
   "interpreter": {
    "hash": "3da8ec1c162cd849e59e6ea2824b2e353dce799884e910aae99411be5277f953"
   }
  }
 },
 "nbformat": 4,
 "nbformat_minor": 2
}
