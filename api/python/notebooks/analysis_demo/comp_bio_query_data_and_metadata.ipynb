{
 "cells": [
  {
   "cell_type": "markdown",
   "metadata": {},
   "source": [
    "# Querying and fetching data from the Cell Census\n",
    "\n",
    "The Cell Census is a versioned container for the single-cell data hosted at [CELLxGENE Discover](https://cellxgene.cziscience.com/). The Cell Census utilizes [SOMA](https://github.com/single-cell-data/SOMA/blob/main/abstract_specification.md) powered by [TileDB](https://tiledb.com/products/tiledb-embedded) for storing, accessing, and efficiently filtering data.\n",
    "\n",
    "This notebook showcases the easiest ways to query the expression data and cell/gene metadata from the Cell Census.\n",
    "\n",
    "\n",
    "# Contents\n",
    "- Opening the census\n",
    "- Querying cell metadata (obs)\n",
    "- Querying gene metadata (var)\n",
    "- Querying expression data\n",
    "\n",
    "## Opening the census\n",
    "\n",
    "The `cell_census` python package contains a convenient API to open the latest version of the Cell Census."
   ]
  },
  {
   "cell_type": "code",
   "execution_count": 1,
   "metadata": {
    "execution": {
     "iopub.execute_input": "2023-01-20T20:39:04.832298Z",
     "iopub.status.busy": "2023-01-20T20:39:04.831715Z",
     "iopub.status.idle": "2023-01-20T20:39:06.555244Z",
     "shell.execute_reply": "2023-01-20T20:39:06.554565Z"
    }
   },
   "outputs": [],
   "source": [
    "import cell_census\n",
    "\n",
    "census = cell_census.open_soma()"
   ]
  },
  {
   "cell_type": "markdown",
   "metadata": {},
   "source": [
    "You can learn more about the `cell_census` methods by accessing their corresponding documentation via `help()`. For example `help(cell_census.open_soma)`."
   ]
  },
  {
   "cell_type": "markdown",
   "metadata": {},
   "source": [
    "## Querying cell metadata (obs)\n",
    "\n",
    "The human gene metadata of the Cell Census, for RNA assays, is located at `census[\"census_data\"][\"homo_sapiens\"].obs`. This is a `SOMADataFrame` and as such it can be materialized as a `pandas.DataFrame` via the methods `read().concat().to_pandas()`. \n",
    "\n",
    "The mouse cell metadata is at `census[\"census_data\"][\"mus_musculus\"].obs`.\n",
    "\n",
    "For slicing the cell metadata there are two relevant arguments that can be passed through `read()`:\n",
    "\n",
    "- `column_names` — list of strings indicating what metadata columns to fetch. \n",
    "- `value_filter` — python expression with selection conditions to fetch rows, it is similar to [`pandas.DataFrame.query()`](https://pandas.pydata.org/docs/reference/api/pandas.DataFrame.query.html), for full details see [`tiledb.QueryCondition`](https://tiledb-inc-tiledb.readthedocs-hosted.com/projects/tiledb-py/en/stable/python-api.html#query-condition) shortly:\n",
    "   - Expressions are one or more comparisons\n",
    "   - Comparisons are one of column op value or column op column\n",
    "   - Expressions can combine comparisons using and, or, & or |\n",
    "   - op is one of < | > | <= | >= | == | != or in\n",
    "\n",
    "To learn what metadata columns are available for fetching and filtering we can directly look at the keys of the cell metadata."
   ]
  },
  {
   "cell_type": "code",
   "execution_count": 2,
   "metadata": {
    "execution": {
     "iopub.execute_input": "2023-01-20T20:39:06.558788Z",
     "iopub.status.busy": "2023-01-20T20:39:06.558218Z",
     "iopub.status.idle": "2023-01-20T20:39:07.108818Z",
     "shell.execute_reply": "2023-01-20T20:39:07.108198Z"
    },
    "scrolled": true
   },
   "outputs": [
    {
     "data": {
      "text/plain": [
       "['soma_joinid',\n",
       " 'dataset_id',\n",
       " 'assay',\n",
       " 'assay_ontology_term_id',\n",
       " 'cell_type',\n",
       " 'cell_type_ontology_term_id',\n",
       " 'development_stage',\n",
       " 'development_stage_ontology_term_id',\n",
       " 'disease',\n",
       " 'disease_ontology_term_id',\n",
       " 'donor_id',\n",
       " 'is_primary_data',\n",
       " 'self_reported_ethnicity',\n",
       " 'self_reported_ethnicity_ontology_term_id',\n",
       " 'sex',\n",
       " 'sex_ontology_term_id',\n",
       " 'suspension_type',\n",
       " 'tissue',\n",
       " 'tissue_ontology_term_id',\n",
       " 'tissue_general',\n",
       " 'tissue_general_ontology_term_id']"
      ]
     },
     "execution_count": 2,
     "metadata": {},
     "output_type": "execute_result"
    }
   ],
   "source": [
    "list(census[\"census_data\"][\"homo_sapiens\"].obs.keys())"
   ]
  },
  {
   "cell_type": "markdown",
   "metadata": {},
   "source": [
    "`soma_joinid` is a special `SOMADataFrame` column that is used for join operations. The definition for all other columns can be found at the [Cell Census schema](https://github.com/chanzuckerberg/cell-census/blob/main/docs/cell_census_schema_0.0.1.md#cell-metadata--census_objcensus_dataorganismobs--somadataframe).\n",
    "\n",
    "All of these can be used to fetch specific columns or specific rows matching a condition. For the latter we need to know the values we are looking for _a priori_.\n",
    "\n",
    "For example let's see what are the possible values available for `sex`. To this we can load all cell metadata but fetching only for the column `sex`. "
   ]
  },
  {
   "cell_type": "code",
   "execution_count": 3,
   "metadata": {
    "execution": {
     "iopub.execute_input": "2023-01-20T20:39:07.145273Z",
     "iopub.status.busy": "2023-01-20T20:39:07.144947Z",
     "iopub.status.idle": "2023-01-20T20:39:10.743462Z",
     "shell.execute_reply": "2023-01-20T20:39:10.742726Z"
    }
   },
   "outputs": [
    {
     "data": {
      "text/html": [
       "<div>\n",
       "<style scoped>\n",
       "    .dataframe tbody tr th:only-of-type {\n",
       "        vertical-align: middle;\n",
       "    }\n",
       "\n",
       "    .dataframe tbody tr th {\n",
       "        vertical-align: top;\n",
       "    }\n",
       "\n",
       "    .dataframe thead th {\n",
       "        text-align: right;\n",
       "    }\n",
       "</style>\n",
       "<table border=\"1\" class=\"dataframe\">\n",
       "  <thead>\n",
       "    <tr style=\"text-align: right;\">\n",
       "      <th></th>\n",
       "      <th>sex</th>\n",
       "    </tr>\n",
       "  </thead>\n",
       "  <tbody>\n",
       "    <tr>\n",
       "      <th>0</th>\n",
       "      <td>male</td>\n",
       "    </tr>\n",
       "    <tr>\n",
       "      <th>3788</th>\n",
       "      <td>female</td>\n",
       "    </tr>\n",
       "    <tr>\n",
       "      <th>727233</th>\n",
       "      <td>unknown</td>\n",
       "    </tr>\n",
       "  </tbody>\n",
       "</table>\n",
       "</div>"
      ],
      "text/plain": [
       "            sex\n",
       "0          male\n",
       "3788     female\n",
       "727233  unknown"
      ]
     },
     "execution_count": 3,
     "metadata": {},
     "output_type": "execute_result"
    }
   ],
   "source": [
    "sex_cell_metadata = census[\"census_data\"][\"homo_sapiens\"].obs.read(\n",
    "    column_names = [\"sex\"]\n",
    ").concat().to_pandas()\n",
    "\n",
    "sex_cell_metadata.drop_duplicates()"
   ]
  },
  {
   "cell_type": "markdown",
   "metadata": {},
   "source": [
    "As you can see there are only three different values for `sex`, that is `\"male\"`, `\"female\"` and `\"unknown\"`. \n",
    "\n",
    "With this information we can fetch all cell metatadata for a specific `sex` value, for example `\"unknown\"`."
   ]
  },
  {
   "cell_type": "code",
   "execution_count": 4,
   "metadata": {
    "execution": {
     "iopub.execute_input": "2023-01-20T20:39:10.746314Z",
     "iopub.status.busy": "2023-01-20T20:39:10.746033Z",
     "iopub.status.idle": "2023-01-20T20:39:18.268405Z",
     "shell.execute_reply": "2023-01-20T20:39:18.267741Z"
    }
   },
   "outputs": [
    {
     "data": {
      "text/html": [
       "<div>\n",
       "<style scoped>\n",
       "    .dataframe tbody tr th:only-of-type {\n",
       "        vertical-align: middle;\n",
       "    }\n",
       "\n",
       "    .dataframe tbody tr th {\n",
       "        vertical-align: top;\n",
       "    }\n",
       "\n",
       "    .dataframe thead th {\n",
       "        text-align: right;\n",
       "    }\n",
       "</style>\n",
       "<table border=\"1\" class=\"dataframe\">\n",
       "  <thead>\n",
       "    <tr style=\"text-align: right;\">\n",
       "      <th></th>\n",
       "      <th>soma_joinid</th>\n",
       "      <th>dataset_id</th>\n",
       "      <th>assay</th>\n",
       "      <th>assay_ontology_term_id</th>\n",
       "      <th>cell_type</th>\n",
       "      <th>cell_type_ontology_term_id</th>\n",
       "      <th>development_stage</th>\n",
       "      <th>development_stage_ontology_term_id</th>\n",
       "      <th>disease</th>\n",
       "      <th>disease_ontology_term_id</th>\n",
       "      <th>...</th>\n",
       "      <th>is_primary_data</th>\n",
       "      <th>self_reported_ethnicity</th>\n",
       "      <th>self_reported_ethnicity_ontology_term_id</th>\n",
       "      <th>sex</th>\n",
       "      <th>sex_ontology_term_id</th>\n",
       "      <th>suspension_type</th>\n",
       "      <th>tissue</th>\n",
       "      <th>tissue_ontology_term_id</th>\n",
       "      <th>tissue_general</th>\n",
       "      <th>tissue_general_ontology_term_id</th>\n",
       "    </tr>\n",
       "  </thead>\n",
       "  <tbody>\n",
       "    <tr>\n",
       "      <th>0</th>\n",
       "      <td>727233</td>\n",
       "      <td>fa8605cf-f27e-44af-ac2a-476bee4410d3</td>\n",
       "      <td>10x 5' v1</td>\n",
       "      <td>EFO:0011025</td>\n",
       "      <td>CD4-positive, alpha-beta T cell</td>\n",
       "      <td>CL:0000624</td>\n",
       "      <td>human middle aged stage</td>\n",
       "      <td>HsapDv:0000092</td>\n",
       "      <td>COVID-19</td>\n",
       "      <td>MONDO:0100096</td>\n",
       "      <td>...</td>\n",
       "      <td>True</td>\n",
       "      <td>unknown</td>\n",
       "      <td>unknown</td>\n",
       "      <td>unknown</td>\n",
       "      <td>unknown</td>\n",
       "      <td>cell</td>\n",
       "      <td>blood</td>\n",
       "      <td>UBERON:0000178</td>\n",
       "      <td>blood</td>\n",
       "      <td>UBERON:0000178</td>\n",
       "    </tr>\n",
       "    <tr>\n",
       "      <th>1</th>\n",
       "      <td>727234</td>\n",
       "      <td>fa8605cf-f27e-44af-ac2a-476bee4410d3</td>\n",
       "      <td>10x 5' v1</td>\n",
       "      <td>EFO:0011025</td>\n",
       "      <td>monocyte</td>\n",
       "      <td>CL:0000576</td>\n",
       "      <td>80 year-old and over human stage</td>\n",
       "      <td>HsapDv:0000095</td>\n",
       "      <td>COVID-19</td>\n",
       "      <td>MONDO:0100096</td>\n",
       "      <td>...</td>\n",
       "      <td>True</td>\n",
       "      <td>unknown</td>\n",
       "      <td>unknown</td>\n",
       "      <td>unknown</td>\n",
       "      <td>unknown</td>\n",
       "      <td>cell</td>\n",
       "      <td>blood</td>\n",
       "      <td>UBERON:0000178</td>\n",
       "      <td>blood</td>\n",
       "      <td>UBERON:0000178</td>\n",
       "    </tr>\n",
       "    <tr>\n",
       "      <th>2</th>\n",
       "      <td>727235</td>\n",
       "      <td>fa8605cf-f27e-44af-ac2a-476bee4410d3</td>\n",
       "      <td>10x 5' v1</td>\n",
       "      <td>EFO:0011025</td>\n",
       "      <td>monocyte</td>\n",
       "      <td>CL:0000576</td>\n",
       "      <td>human early adulthood stage</td>\n",
       "      <td>HsapDv:0000088</td>\n",
       "      <td>COVID-19</td>\n",
       "      <td>MONDO:0100096</td>\n",
       "      <td>...</td>\n",
       "      <td>True</td>\n",
       "      <td>unknown</td>\n",
       "      <td>unknown</td>\n",
       "      <td>unknown</td>\n",
       "      <td>unknown</td>\n",
       "      <td>cell</td>\n",
       "      <td>blood</td>\n",
       "      <td>UBERON:0000178</td>\n",
       "      <td>blood</td>\n",
       "      <td>UBERON:0000178</td>\n",
       "    </tr>\n",
       "    <tr>\n",
       "      <th>3</th>\n",
       "      <td>727236</td>\n",
       "      <td>fa8605cf-f27e-44af-ac2a-476bee4410d3</td>\n",
       "      <td>10x 5' v1</td>\n",
       "      <td>EFO:0011025</td>\n",
       "      <td>monocyte</td>\n",
       "      <td>CL:0000576</td>\n",
       "      <td>human early adulthood stage</td>\n",
       "      <td>HsapDv:0000088</td>\n",
       "      <td>COVID-19</td>\n",
       "      <td>MONDO:0100096</td>\n",
       "      <td>...</td>\n",
       "      <td>True</td>\n",
       "      <td>unknown</td>\n",
       "      <td>unknown</td>\n",
       "      <td>unknown</td>\n",
       "      <td>unknown</td>\n",
       "      <td>cell</td>\n",
       "      <td>blood</td>\n",
       "      <td>UBERON:0000178</td>\n",
       "      <td>blood</td>\n",
       "      <td>UBERON:0000178</td>\n",
       "    </tr>\n",
       "    <tr>\n",
       "      <th>4</th>\n",
       "      <td>727237</td>\n",
       "      <td>fa8605cf-f27e-44af-ac2a-476bee4410d3</td>\n",
       "      <td>10x 5' v1</td>\n",
       "      <td>EFO:0011025</td>\n",
       "      <td>monocyte</td>\n",
       "      <td>CL:0000576</td>\n",
       "      <td>human early adulthood stage</td>\n",
       "      <td>HsapDv:0000088</td>\n",
       "      <td>COVID-19</td>\n",
       "      <td>MONDO:0100096</td>\n",
       "      <td>...</td>\n",
       "      <td>True</td>\n",
       "      <td>unknown</td>\n",
       "      <td>unknown</td>\n",
       "      <td>unknown</td>\n",
       "      <td>unknown</td>\n",
       "      <td>cell</td>\n",
       "      <td>blood</td>\n",
       "      <td>UBERON:0000178</td>\n",
       "      <td>blood</td>\n",
       "      <td>UBERON:0000178</td>\n",
       "    </tr>\n",
       "    <tr>\n",
       "      <th>...</th>\n",
       "      <td>...</td>\n",
       "      <td>...</td>\n",
       "      <td>...</td>\n",
       "      <td>...</td>\n",
       "      <td>...</td>\n",
       "      <td>...</td>\n",
       "      <td>...</td>\n",
       "      <td>...</td>\n",
       "      <td>...</td>\n",
       "      <td>...</td>\n",
       "      <td>...</td>\n",
       "      <td>...</td>\n",
       "      <td>...</td>\n",
       "      <td>...</td>\n",
       "      <td>...</td>\n",
       "      <td>...</td>\n",
       "      <td>...</td>\n",
       "      <td>...</td>\n",
       "      <td>...</td>\n",
       "      <td>...</td>\n",
       "      <td>...</td>\n",
       "    </tr>\n",
       "    <tr>\n",
       "      <th>2086592</th>\n",
       "      <td>43207791</td>\n",
       "      <td>b46237d1-19c6-4af2-9335-9854634bad16</td>\n",
       "      <td>10x 3' v2</td>\n",
       "      <td>EFO:0009899</td>\n",
       "      <td>mesodermal cell</td>\n",
       "      <td>CL:0000222</td>\n",
       "      <td>Carnegie stage 23</td>\n",
       "      <td>HsapDv:0000030</td>\n",
       "      <td>normal</td>\n",
       "      <td>PATO:0000461</td>\n",
       "      <td>...</td>\n",
       "      <td>True</td>\n",
       "      <td>unknown</td>\n",
       "      <td>unknown</td>\n",
       "      <td>unknown</td>\n",
       "      <td>unknown</td>\n",
       "      <td>cell</td>\n",
       "      <td>colon</td>\n",
       "      <td>UBERON:0001155</td>\n",
       "      <td>colon</td>\n",
       "      <td>UBERON:0001155</td>\n",
       "    </tr>\n",
       "    <tr>\n",
       "      <th>2086593</th>\n",
       "      <td>43207792</td>\n",
       "      <td>b46237d1-19c6-4af2-9335-9854634bad16</td>\n",
       "      <td>10x 3' v2</td>\n",
       "      <td>EFO:0009899</td>\n",
       "      <td>colon epithelial cell</td>\n",
       "      <td>CL:0011108</td>\n",
       "      <td>Carnegie stage 23</td>\n",
       "      <td>HsapDv:0000030</td>\n",
       "      <td>normal</td>\n",
       "      <td>PATO:0000461</td>\n",
       "      <td>...</td>\n",
       "      <td>True</td>\n",
       "      <td>unknown</td>\n",
       "      <td>unknown</td>\n",
       "      <td>unknown</td>\n",
       "      <td>unknown</td>\n",
       "      <td>cell</td>\n",
       "      <td>colon</td>\n",
       "      <td>UBERON:0001155</td>\n",
       "      <td>colon</td>\n",
       "      <td>UBERON:0001155</td>\n",
       "    </tr>\n",
       "    <tr>\n",
       "      <th>2086594</th>\n",
       "      <td>43207793</td>\n",
       "      <td>b46237d1-19c6-4af2-9335-9854634bad16</td>\n",
       "      <td>10x 3' v2</td>\n",
       "      <td>EFO:0009899</td>\n",
       "      <td>enteroendocrine cell</td>\n",
       "      <td>CL:0000164</td>\n",
       "      <td>Carnegie stage 23</td>\n",
       "      <td>HsapDv:0000030</td>\n",
       "      <td>normal</td>\n",
       "      <td>PATO:0000461</td>\n",
       "      <td>...</td>\n",
       "      <td>True</td>\n",
       "      <td>unknown</td>\n",
       "      <td>unknown</td>\n",
       "      <td>unknown</td>\n",
       "      <td>unknown</td>\n",
       "      <td>cell</td>\n",
       "      <td>colon</td>\n",
       "      <td>UBERON:0001155</td>\n",
       "      <td>colon</td>\n",
       "      <td>UBERON:0001155</td>\n",
       "    </tr>\n",
       "    <tr>\n",
       "      <th>2086595</th>\n",
       "      <td>43207794</td>\n",
       "      <td>b46237d1-19c6-4af2-9335-9854634bad16</td>\n",
       "      <td>10x 3' v2</td>\n",
       "      <td>EFO:0009899</td>\n",
       "      <td>colon epithelial cell</td>\n",
       "      <td>CL:0011108</td>\n",
       "      <td>Carnegie stage 23</td>\n",
       "      <td>HsapDv:0000030</td>\n",
       "      <td>normal</td>\n",
       "      <td>PATO:0000461</td>\n",
       "      <td>...</td>\n",
       "      <td>True</td>\n",
       "      <td>unknown</td>\n",
       "      <td>unknown</td>\n",
       "      <td>unknown</td>\n",
       "      <td>unknown</td>\n",
       "      <td>cell</td>\n",
       "      <td>colon</td>\n",
       "      <td>UBERON:0001155</td>\n",
       "      <td>colon</td>\n",
       "      <td>UBERON:0001155</td>\n",
       "    </tr>\n",
       "    <tr>\n",
       "      <th>2086596</th>\n",
       "      <td>43207795</td>\n",
       "      <td>b46237d1-19c6-4af2-9335-9854634bad16</td>\n",
       "      <td>10x 3' v2</td>\n",
       "      <td>EFO:0009899</td>\n",
       "      <td>enteric smooth muscle cell</td>\n",
       "      <td>CL:0002504</td>\n",
       "      <td>Carnegie stage 23</td>\n",
       "      <td>HsapDv:0000030</td>\n",
       "      <td>normal</td>\n",
       "      <td>PATO:0000461</td>\n",
       "      <td>...</td>\n",
       "      <td>True</td>\n",
       "      <td>unknown</td>\n",
       "      <td>unknown</td>\n",
       "      <td>unknown</td>\n",
       "      <td>unknown</td>\n",
       "      <td>cell</td>\n",
       "      <td>colon</td>\n",
       "      <td>UBERON:0001155</td>\n",
       "      <td>colon</td>\n",
       "      <td>UBERON:0001155</td>\n",
       "    </tr>\n",
       "  </tbody>\n",
       "</table>\n",
       "<p>2086597 rows × 21 columns</p>\n",
       "</div>"
      ],
      "text/plain": [
       "         soma_joinid                            dataset_id      assay  \\\n",
       "0             727233  fa8605cf-f27e-44af-ac2a-476bee4410d3  10x 5' v1   \n",
       "1             727234  fa8605cf-f27e-44af-ac2a-476bee4410d3  10x 5' v1   \n",
       "2             727235  fa8605cf-f27e-44af-ac2a-476bee4410d3  10x 5' v1   \n",
       "3             727236  fa8605cf-f27e-44af-ac2a-476bee4410d3  10x 5' v1   \n",
       "4             727237  fa8605cf-f27e-44af-ac2a-476bee4410d3  10x 5' v1   \n",
       "...              ...                                   ...        ...   \n",
       "2086592     43207791  b46237d1-19c6-4af2-9335-9854634bad16  10x 3' v2   \n",
       "2086593     43207792  b46237d1-19c6-4af2-9335-9854634bad16  10x 3' v2   \n",
       "2086594     43207793  b46237d1-19c6-4af2-9335-9854634bad16  10x 3' v2   \n",
       "2086595     43207794  b46237d1-19c6-4af2-9335-9854634bad16  10x 3' v2   \n",
       "2086596     43207795  b46237d1-19c6-4af2-9335-9854634bad16  10x 3' v2   \n",
       "\n",
       "        assay_ontology_term_id                        cell_type  \\\n",
       "0                  EFO:0011025  CD4-positive, alpha-beta T cell   \n",
       "1                  EFO:0011025                         monocyte   \n",
       "2                  EFO:0011025                         monocyte   \n",
       "3                  EFO:0011025                         monocyte   \n",
       "4                  EFO:0011025                         monocyte   \n",
       "...                        ...                              ...   \n",
       "2086592            EFO:0009899                  mesodermal cell   \n",
       "2086593            EFO:0009899            colon epithelial cell   \n",
       "2086594            EFO:0009899             enteroendocrine cell   \n",
       "2086595            EFO:0009899            colon epithelial cell   \n",
       "2086596            EFO:0009899       enteric smooth muscle cell   \n",
       "\n",
       "        cell_type_ontology_term_id                 development_stage  \\\n",
       "0                       CL:0000624           human middle aged stage   \n",
       "1                       CL:0000576  80 year-old and over human stage   \n",
       "2                       CL:0000576       human early adulthood stage   \n",
       "3                       CL:0000576       human early adulthood stage   \n",
       "4                       CL:0000576       human early adulthood stage   \n",
       "...                            ...                               ...   \n",
       "2086592                 CL:0000222                 Carnegie stage 23   \n",
       "2086593                 CL:0011108                 Carnegie stage 23   \n",
       "2086594                 CL:0000164                 Carnegie stage 23   \n",
       "2086595                 CL:0011108                 Carnegie stage 23   \n",
       "2086596                 CL:0002504                 Carnegie stage 23   \n",
       "\n",
       "        development_stage_ontology_term_id   disease disease_ontology_term_id  \\\n",
       "0                           HsapDv:0000092  COVID-19            MONDO:0100096   \n",
       "1                           HsapDv:0000095  COVID-19            MONDO:0100096   \n",
       "2                           HsapDv:0000088  COVID-19            MONDO:0100096   \n",
       "3                           HsapDv:0000088  COVID-19            MONDO:0100096   \n",
       "4                           HsapDv:0000088  COVID-19            MONDO:0100096   \n",
       "...                                    ...       ...                      ...   \n",
       "2086592                     HsapDv:0000030    normal             PATO:0000461   \n",
       "2086593                     HsapDv:0000030    normal             PATO:0000461   \n",
       "2086594                     HsapDv:0000030    normal             PATO:0000461   \n",
       "2086595                     HsapDv:0000030    normal             PATO:0000461   \n",
       "2086596                     HsapDv:0000030    normal             PATO:0000461   \n",
       "\n",
       "         ... is_primary_data  self_reported_ethnicity  \\\n",
       "0        ...            True                  unknown   \n",
       "1        ...            True                  unknown   \n",
       "2        ...            True                  unknown   \n",
       "3        ...            True                  unknown   \n",
       "4        ...            True                  unknown   \n",
       "...      ...             ...                      ...   \n",
       "2086592  ...            True                  unknown   \n",
       "2086593  ...            True                  unknown   \n",
       "2086594  ...            True                  unknown   \n",
       "2086595  ...            True                  unknown   \n",
       "2086596  ...            True                  unknown   \n",
       "\n",
       "        self_reported_ethnicity_ontology_term_id      sex  \\\n",
       "0                                        unknown  unknown   \n",
       "1                                        unknown  unknown   \n",
       "2                                        unknown  unknown   \n",
       "3                                        unknown  unknown   \n",
       "4                                        unknown  unknown   \n",
       "...                                          ...      ...   \n",
       "2086592                                  unknown  unknown   \n",
       "2086593                                  unknown  unknown   \n",
       "2086594                                  unknown  unknown   \n",
       "2086595                                  unknown  unknown   \n",
       "2086596                                  unknown  unknown   \n",
       "\n",
       "        sex_ontology_term_id suspension_type tissue tissue_ontology_term_id  \\\n",
       "0                    unknown            cell  blood          UBERON:0000178   \n",
       "1                    unknown            cell  blood          UBERON:0000178   \n",
       "2                    unknown            cell  blood          UBERON:0000178   \n",
       "3                    unknown            cell  blood          UBERON:0000178   \n",
       "4                    unknown            cell  blood          UBERON:0000178   \n",
       "...                      ...             ...    ...                     ...   \n",
       "2086592              unknown            cell  colon          UBERON:0001155   \n",
       "2086593              unknown            cell  colon          UBERON:0001155   \n",
       "2086594              unknown            cell  colon          UBERON:0001155   \n",
       "2086595              unknown            cell  colon          UBERON:0001155   \n",
       "2086596              unknown            cell  colon          UBERON:0001155   \n",
       "\n",
       "        tissue_general tissue_general_ontology_term_id  \n",
       "0                blood                  UBERON:0000178  \n",
       "1                blood                  UBERON:0000178  \n",
       "2                blood                  UBERON:0000178  \n",
       "3                blood                  UBERON:0000178  \n",
       "4                blood                  UBERON:0000178  \n",
       "...                ...                             ...  \n",
       "2086592          colon                  UBERON:0001155  \n",
       "2086593          colon                  UBERON:0001155  \n",
       "2086594          colon                  UBERON:0001155  \n",
       "2086595          colon                  UBERON:0001155  \n",
       "2086596          colon                  UBERON:0001155  \n",
       "\n",
       "[2086597 rows x 21 columns]"
      ]
     },
     "execution_count": 4,
     "metadata": {},
     "output_type": "execute_result"
    }
   ],
   "source": [
    "cell_metadata_all_unknown_sex = census[\"census_data\"][\"homo_sapiens\"].obs.read(\n",
    "    value_filter = \"sex == 'unknown'\"\n",
    ").concat().to_pandas()\n",
    "\n",
    "cell_metadata_all_unknown_sex"
   ]
  },
  {
   "cell_type": "markdown",
   "metadata": {},
   "source": [
    "You can use both `column_names` and `value_filter` to perform specific queries. For example let's fetch the `disease` columns for the `cell_type` `\"B cell\"` in the `tissue_general` `\"lung\"`. "
   ]
  },
  {
   "cell_type": "code",
   "execution_count": 5,
   "metadata": {
    "execution": {
     "iopub.execute_input": "2023-01-20T20:39:18.271456Z",
     "iopub.status.busy": "2023-01-20T20:39:18.271174Z",
     "iopub.status.idle": "2023-01-20T20:39:22.758775Z",
     "shell.execute_reply": "2023-01-20T20:39:22.758004Z"
    }
   },
   "outputs": [
    {
     "data": {
      "text/plain": [
       "disease                                cell_type  tissue_general\n",
       "lung adenocarcinoma                    B cell     lung              50228\n",
       "non-small cell lung carcinoma          B cell     lung              17484\n",
       "normal                                 B cell     lung              15081\n",
       "squamous cell lung carcinoma           B cell     lung              11584\n",
       "chronic obstructive pulmonary disease  B cell     lung               7147\n",
       "interstitial lung disease 2            B cell     lung               5141\n",
       "interstitial lung disease              B cell     lung               1655\n",
       "COVID-19                               B cell     lung                704\n",
       "small cell lung carcinoma              B cell     lung                583\n",
       "non-specific interstitial pneumonia    B cell     lung                284\n",
       "hypersensitivity pneumonitis           B cell     lung                 13\n",
       "sarcoidosis                            B cell     lung                  6\n",
       "dtype: int64"
      ]
     },
     "execution_count": 5,
     "metadata": {},
     "output_type": "execute_result"
    }
   ],
   "source": [
    "cell_metadata_b_cell = census[\"census_data\"][\"homo_sapiens\"].obs.read(\n",
    "    value_filter = \"cell_type == 'B cell' and tissue_general == 'lung'\",\n",
    "    column_names = [\"disease\"],\n",
    ").concat().to_pandas()\n",
    "\n",
    "cell_metadata_b_cell.value_counts()"
   ]
  },
  {
   "cell_type": "markdown",
   "metadata": {},
   "source": [
    "## Querying gene metadata (var)\n",
    "\n",
    "The human gene metadata of the Cell Census is located at `census[\"census_data\"][\"homo_sapiens\"].ms[\"RNA\"].var`. Similarly to the cell metadata, it is a `SOMADataFrame` and thus we can also use its method `read()`.\n",
    "\n",
    "The mouse gene metadata is at `census[\"census_data\"][\"homo_sapiens\"].ms[\"RNA\"].var`.\n",
    "\n",
    "Let's take a look at the metadata available for column selection and row filtering."
   ]
  },
  {
   "cell_type": "code",
   "execution_count": 6,
   "metadata": {
    "execution": {
     "iopub.execute_input": "2023-01-20T20:39:22.761731Z",
     "iopub.status.busy": "2023-01-20T20:39:22.761449Z",
     "iopub.status.idle": "2023-01-20T20:39:23.044487Z",
     "shell.execute_reply": "2023-01-20T20:39:23.043842Z"
    }
   },
   "outputs": [
    {
     "data": {
      "text/plain": [
       "['soma_joinid', 'feature_id', 'feature_name', 'feature_length']"
      ]
     },
     "execution_count": 6,
     "metadata": {},
     "output_type": "execute_result"
    }
   ],
   "source": [
    "list(census[\"census_data\"][\"homo_sapiens\"].ms[\"RNA\"].var.keys())"
   ]
  },
  {
   "cell_type": "markdown",
   "metadata": {},
   "source": [
    "With the exception of `soma_joinid` these columns are defined in the [Cell Census schema](https://github.com/chanzuckerberg/cell-census/blob/main/docs/cell_census_schema_0.0.1.md#feature-metadata--census_objcensus_dataorganismmsrnavar--somadataframe). Similarly to the cell metadata, we can use the same operations to learn and fetch gene metadata.\n",
    "\n",
    "For example, to get the `feature_name` and `feature_length` of the genes `\"ENSG00000161798\"` and `\"ENSG00000188229\"` we can do the following."
   ]
  },
  {
   "cell_type": "code",
   "execution_count": 7,
   "metadata": {
    "execution": {
     "iopub.execute_input": "2023-01-20T20:39:23.047602Z",
     "iopub.status.busy": "2023-01-20T20:39:23.047108Z",
     "iopub.status.idle": "2023-01-20T20:39:23.385990Z",
     "shell.execute_reply": "2023-01-20T20:39:23.385332Z"
    }
   },
   "outputs": [
    {
     "data": {
      "text/html": [
       "<div>\n",
       "<style scoped>\n",
       "    .dataframe tbody tr th:only-of-type {\n",
       "        vertical-align: middle;\n",
       "    }\n",
       "\n",
       "    .dataframe tbody tr th {\n",
       "        vertical-align: top;\n",
       "    }\n",
       "\n",
       "    .dataframe thead th {\n",
       "        text-align: right;\n",
       "    }\n",
       "</style>\n",
       "<table border=\"1\" class=\"dataframe\">\n",
       "  <thead>\n",
       "    <tr style=\"text-align: right;\">\n",
       "      <th></th>\n",
       "      <th>feature_name</th>\n",
       "      <th>feature_length</th>\n",
       "      <th>feature_id</th>\n",
       "    </tr>\n",
       "  </thead>\n",
       "  <tbody>\n",
       "    <tr>\n",
       "      <th>0</th>\n",
       "      <td>AQP5</td>\n",
       "      <td>1884</td>\n",
       "      <td>ENSG00000161798</td>\n",
       "    </tr>\n",
       "    <tr>\n",
       "      <th>1</th>\n",
       "      <td>TUBB4B</td>\n",
       "      <td>2037</td>\n",
       "      <td>ENSG00000188229</td>\n",
       "    </tr>\n",
       "  </tbody>\n",
       "</table>\n",
       "</div>"
      ],
      "text/plain": [
       "  feature_name  feature_length       feature_id\n",
       "0         AQP5            1884  ENSG00000161798\n",
       "1       TUBB4B            2037  ENSG00000188229"
      ]
     },
     "execution_count": 7,
     "metadata": {},
     "output_type": "execute_result"
    }
   ],
   "source": [
    "gene_metadata = census[\"census_data\"][\"homo_sapiens\"].ms[\"RNA\"].var.read(\n",
    "    value_filter = \"feature_id in ['ENSG00000161798', 'ENSG00000188229']\",\n",
    "    column_names = [\"feature_name\", \"feature_length\"],\n",
    ").concat().to_pandas()\n",
    "\n",
    "gene_metadata"
   ]
  },
  {
   "cell_type": "markdown",
   "metadata": {},
   "source": [
    "## Querying expression data\n",
    "\n",
    "A convenient way to query and fetch expression data is to use the `get_anndata` method of the `cell_census` API. This is a powerful method that combines the column selection and value filtering we described above to obtain slices of the expression data based on metadata queries.\n",
    "\n",
    "The method will return an `anndata.AnnData` object, it takes as an input a census object, the string for an organism, and for both cell and gene metadata we can specify filters and column selection as described above but with the following arguments:\n",
    "\n",
    "- `column_names` — a dictionary with two keys `obs` and `var` whose values are lists of strings indicating the columns to select for cell and gene metadata respectively.\n",
    "- `obs_value_filter` —  python expression with selection conditions to fetch **cells** meeting a criteria. For full details see [`tiledb.QueryCondition`](https://tiledb-inc-tiledb.readthedocs-hosted.com/projects/tiledb-py/en/stable/python-api.html#query-condition).\n",
    "- `var_value_filter` —  python expression with selection conditions to fetch **genes** meeting a criteria. Details as above.  For full details see [`tiledb.QueryCondition`](https://tiledb-inc-tiledb.readthedocs-hosted.com/projects/tiledb-py/en/stable/python-api.html#query-condition).\n",
    "\n",
    "\n",
    "For example if we want to fetch the expression data for:\n",
    "\n",
    "- Genes `\"ENSG00000161798\"` and `\"ENSG00000188229\"`. \n",
    "- All `\"B cells\"` of `\"lung\"` with `\"COVID-19\"`.\n",
    "- With all gene metadata and adding `sex` cell metadata."
   ]
  },
  {
   "cell_type": "code",
   "execution_count": 8,
   "metadata": {
    "execution": {
     "iopub.execute_input": "2023-01-20T20:39:23.388926Z",
     "iopub.status.busy": "2023-01-20T20:39:23.388640Z",
     "iopub.status.idle": "2023-01-20T20:39:32.675050Z",
     "shell.execute_reply": "2023-01-20T20:39:32.674450Z"
    }
   },
   "outputs": [],
   "source": [
    "adata = cell_census.get_anndata(\n",
    "    census = census,\n",
    "    organism = \"Homo sapiens\",\n",
    "    var_value_filter = \"feature_id in ['ENSG00000161798', 'ENSG00000188229']\",\n",
    "    obs_value_filter = \"cell_type == 'B cell' and tissue_general == 'lung' and disease == 'COVID-19'\",\n",
    "    column_names = {\"obs\": [\"sex\"]}\n",
    "    \n",
    ")"
   ]
  },
  {
   "cell_type": "markdown",
   "metadata": {},
   "source": [
    "And now we can take a look at the results."
   ]
  },
  {
   "cell_type": "code",
   "execution_count": 9,
   "metadata": {
    "execution": {
     "iopub.execute_input": "2023-01-20T20:39:32.678411Z",
     "iopub.status.busy": "2023-01-20T20:39:32.677946Z",
     "iopub.status.idle": "2023-01-20T20:39:32.682194Z",
     "shell.execute_reply": "2023-01-20T20:39:32.681556Z"
    }
   },
   "outputs": [
    {
     "data": {
      "text/plain": [
       "AnnData object with n_obs × n_vars = 704 × 2\n",
       "    obs: 'sex'\n",
       "    var: 'soma_joinid', 'feature_id', 'feature_name', 'feature_length'"
      ]
     },
     "execution_count": 9,
     "metadata": {},
     "output_type": "execute_result"
    }
   ],
   "source": [
    "adata"
   ]
  },
  {
   "cell_type": "code",
   "execution_count": 10,
   "metadata": {
    "execution": {
     "iopub.execute_input": "2023-01-20T20:39:32.684721Z",
     "iopub.status.busy": "2023-01-20T20:39:32.684462Z",
     "iopub.status.idle": "2023-01-20T20:39:32.691581Z",
     "shell.execute_reply": "2023-01-20T20:39:32.690947Z"
    }
   },
   "outputs": [
    {
     "data": {
      "text/html": [
       "<div>\n",
       "<style scoped>\n",
       "    .dataframe tbody tr th:only-of-type {\n",
       "        vertical-align: middle;\n",
       "    }\n",
       "\n",
       "    .dataframe tbody tr th {\n",
       "        vertical-align: top;\n",
       "    }\n",
       "\n",
       "    .dataframe thead th {\n",
       "        text-align: right;\n",
       "    }\n",
       "</style>\n",
       "<table border=\"1\" class=\"dataframe\">\n",
       "  <thead>\n",
       "    <tr style=\"text-align: right;\">\n",
       "      <th></th>\n",
       "      <th>sex</th>\n",
       "    </tr>\n",
       "  </thead>\n",
       "  <tbody>\n",
       "    <tr>\n",
       "      <th>0</th>\n",
       "      <td>female</td>\n",
       "    </tr>\n",
       "    <tr>\n",
       "      <th>1</th>\n",
       "      <td>female</td>\n",
       "    </tr>\n",
       "    <tr>\n",
       "      <th>2</th>\n",
       "      <td>female</td>\n",
       "    </tr>\n",
       "    <tr>\n",
       "      <th>3</th>\n",
       "      <td>female</td>\n",
       "    </tr>\n",
       "    <tr>\n",
       "      <th>4</th>\n",
       "      <td>female</td>\n",
       "    </tr>\n",
       "    <tr>\n",
       "      <th>...</th>\n",
       "      <td>...</td>\n",
       "    </tr>\n",
       "    <tr>\n",
       "      <th>699</th>\n",
       "      <td>male</td>\n",
       "    </tr>\n",
       "    <tr>\n",
       "      <th>700</th>\n",
       "      <td>male</td>\n",
       "    </tr>\n",
       "    <tr>\n",
       "      <th>701</th>\n",
       "      <td>male</td>\n",
       "    </tr>\n",
       "    <tr>\n",
       "      <th>702</th>\n",
       "      <td>male</td>\n",
       "    </tr>\n",
       "    <tr>\n",
       "      <th>703</th>\n",
       "      <td>male</td>\n",
       "    </tr>\n",
       "  </tbody>\n",
       "</table>\n",
       "<p>704 rows × 1 columns</p>\n",
       "</div>"
      ],
      "text/plain": [
       "        sex\n",
       "0    female\n",
       "1    female\n",
       "2    female\n",
       "3    female\n",
       "4    female\n",
       "..      ...\n",
       "699    male\n",
       "700    male\n",
       "701    male\n",
       "702    male\n",
       "703    male\n",
       "\n",
       "[704 rows x 1 columns]"
      ]
     },
     "execution_count": 10,
     "metadata": {},
     "output_type": "execute_result"
    }
   ],
   "source": [
    "adata.obs"
   ]
  },
  {
   "cell_type": "code",
   "execution_count": 11,
   "metadata": {
    "execution": {
     "iopub.execute_input": "2023-01-20T20:39:32.694107Z",
     "iopub.status.busy": "2023-01-20T20:39:32.693857Z",
     "iopub.status.idle": "2023-01-20T20:39:32.700252Z",
     "shell.execute_reply": "2023-01-20T20:39:32.699585Z"
    }
   },
   "outputs": [
    {
     "data": {
      "text/html": [
       "<div>\n",
       "<style scoped>\n",
       "    .dataframe tbody tr th:only-of-type {\n",
       "        vertical-align: middle;\n",
       "    }\n",
       "\n",
       "    .dataframe tbody tr th {\n",
       "        vertical-align: top;\n",
       "    }\n",
       "\n",
       "    .dataframe thead th {\n",
       "        text-align: right;\n",
       "    }\n",
       "</style>\n",
       "<table border=\"1\" class=\"dataframe\">\n",
       "  <thead>\n",
       "    <tr style=\"text-align: right;\">\n",
       "      <th></th>\n",
       "      <th>soma_joinid</th>\n",
       "      <th>feature_id</th>\n",
       "      <th>feature_name</th>\n",
       "      <th>feature_length</th>\n",
       "    </tr>\n",
       "  </thead>\n",
       "  <tbody>\n",
       "    <tr>\n",
       "      <th>0</th>\n",
       "      <td>10625</td>\n",
       "      <td>ENSG00000161798</td>\n",
       "      <td>AQP5</td>\n",
       "      <td>1884</td>\n",
       "    </tr>\n",
       "    <tr>\n",
       "      <th>1</th>\n",
       "      <td>31366</td>\n",
       "      <td>ENSG00000188229</td>\n",
       "      <td>TUBB4B</td>\n",
       "      <td>2037</td>\n",
       "    </tr>\n",
       "  </tbody>\n",
       "</table>\n",
       "</div>"
      ],
      "text/plain": [
       "   soma_joinid       feature_id feature_name  feature_length\n",
       "0        10625  ENSG00000161798         AQP5            1884\n",
       "1        31366  ENSG00000188229       TUBB4B            2037"
      ]
     },
     "execution_count": 11,
     "metadata": {},
     "output_type": "execute_result"
    }
   ],
   "source": [
    "adata.var"
   ]
  },
  {
   "cell_type": "markdown",
   "metadata": {},
   "source": [
    "For a full description of `get_anndata()` refer to `help(cell_census.get_anndata)`"
   ]
  }
 ],
 "metadata": {
  "kernelspec": {
   "display_name": "Python 3 (ipykernel)",
   "language": "python",
   "name": "python3"
  },
  "language_info": {
   "codemirror_mode": {
    "name": "ipython",
    "version": 3
   },
   "file_extension": ".py",
   "mimetype": "text/x-python",
   "name": "python",
   "nbconvert_exporter": "python",
   "pygments_lexer": "ipython3",
   "version": "3.10.6"
  },
  "vscode": {
   "interpreter": {
    "hash": "3da8ec1c162cd849e59e6ea2824b2e353dce799884e910aae99411be5277f953"
   }
  }
 },
 "nbformat": 4,
 "nbformat_minor": 2
}
