{
 "cells": [
  {
   "cell_type": "markdown",
   "id": "6caacabf-1002-47fb-b38d-96fcb4f10133",
   "metadata": {},
   "source": [
    "## Scientific validation of memento implementations\n",
    "\n",
    "This notebook runs through test cases for differential expression where the p-value outputs\n",
    "of vanilla memento implementation are compared to the p-value outputs of precomputed memento\n",
    "implementation\n",
    "\n",
    "**NOTE**:\n",
    "- Run this notebook from the `cellxgene-census` repo in the `psridharan/memento-sci-val-1` branch\n",
    "- Download estimator cube from `s3://psridharan-tmp/memento/memento-cube-census-data-2023-12-15/`"
   ]
  },
  {
   "cell_type": "code",
   "execution_count": 11,
   "id": "ae923ea5-7c72-4743-aea1-c854593fc1ec",
   "metadata": {},
   "outputs": [],
   "source": [
    "import matplotlib.pyplot as plt\n",
    "import memento\n",
    "import numpy as np\n",
    "\n",
    "import cellxgene_census\n",
    "import cellxgene_census.experimental.diffexp.memento.diff_expr as precomputed_memento\n",
    "\n",
    "census = cellxgene_census.open_soma(census_version=\"2023-12-15\")\n",
    "precomputed_memento_estimator_cube_path = (\n",
    "    \"/Users/psridharan/code/cellxgene-census/memento-cubes/memento-cube-census-data-2023-12-15\"\n",
    ")"
   ]
  },
  {
   "cell_type": "markdown",
   "id": "dea834b2-0db9-49c2-a206-2251863dc891",
   "metadata": {},
   "source": [
    "## TEST CASE 2: Single Dataset, Single Donor, No Batch Effects\n",
    "- Collection: A Web Portal and Workbench for Biological Dissection of Single Cell COVID-19 Host Responses\n",
    "- Dataset: Individual Single-Cell RNA-seq PBMC Data from Arunachalam et al.\n",
    "   - Assay: 10X\n",
    "- Comparison:\n",
    "   - classical monocytes vs T-cells in one donor"
   ]
  },
  {
   "cell_type": "code",
   "execution_count": 12,
   "id": "59ccd78c-0161-4f5b-a3ad-485943465cda",
   "metadata": {},
   "outputs": [
    {
     "data": {
      "text/plain": [
       "{'census_obs_query': \"is_primary_data == True and dataset_id in ['59b69042-47c2-47fd-ad03-d21beb99818f'] and disease in ['normal'] and cell_type in ['classical monocyte', 'central memory CD4-positive, alpha-beta T cell'] and donor_id == 'cov17'\",\n",
       " 'precomputed_memento_query': \"dataset_id in ['59b69042-47c2-47fd-ad03-d21beb99818f'] and disease_ontology_term_id in ['PATO:0000461'] and cell_type_ontology_term_id in ['CL:0000860', 'CL:0000904'] and donor_id == 'cov17'\"}"
      ]
     },
     "execution_count": 12,
     "metadata": {},
     "output_type": "execute_result"
    }
   ],
   "source": [
    "# data\n",
    "dataset_aruna = \"59b69042-47c2-47fd-ad03-d21beb99818f\"\n",
    "disease_info_map = {\"normal\": \"PATO:0000461\"}\n",
    "\n",
    "cell_type_monocyte = \"classical monocyte\"\n",
    "cell_type_t_cell = \"central memory CD4-positive, alpha-beta T cell\"\n",
    "cell_type_info_map = {cell_type_monocyte: \"CL:0000860\", cell_type_t_cell: \"CL:0000904\"}\n",
    "\n",
    "\n",
    "# query params\n",
    "datasets = [dataset_aruna]\n",
    "\n",
    "diseases = list(disease_info_map.keys())\n",
    "disease_ontology_ids = list(disease_info_map.values())\n",
    "\n",
    "donor_id = \"cov17\"\n",
    "\n",
    "cell_types = list(cell_type_info_map.keys())\n",
    "cell_type_ontology_ids = list(cell_type_info_map.values())\n",
    "\n",
    "# a test case is encapsulated as a census query and as a query to precomputed memento cube.\n",
    "# The precomputed memento cube is the same as the census query except that the precomputed memento cube\n",
    "# stores ontology term IDs and such the query should be formulated with ontology term IDs\n",
    "test_case = {\n",
    "    \"census_obs_query\": f\"is_primary_data == True and dataset_id in {datasets} and disease in {diseases} and cell_type in {cell_types} and donor_id == '{donor_id}'\",\n",
    "    \"precomputed_memento_query\": f\"dataset_id in {datasets} and disease_ontology_term_id in {disease_ontology_ids} and cell_type_ontology_term_id in {cell_type_ontology_ids} and donor_id == '{donor_id}'\",\n",
    "}\n",
    "\n",
    "test_case"
   ]
  },
  {
   "cell_type": "markdown",
   "id": "3bd2c1f8-52eb-49f6-b5fd-937323618db8",
   "metadata": {},
   "source": [
    "#### Get anndata object for test case"
   ]
  },
  {
   "cell_type": "code",
   "execution_count": 14,
   "id": "3fdd1931-32e4-4874-9f6c-c496099cc38d",
   "metadata": {},
   "outputs": [
    {
     "data": {
      "text/plain": [
       "cell_type                                       dataset_id                            donor_id\n",
       "classical monocyte                              59b69042-47c2-47fd-ad03-d21beb99818f  cov17       2050\n",
       "central memory CD4-positive, alpha-beta T cell  59b69042-47c2-47fd-ad03-d21beb99818f  cov17        498\n",
       "Name: count, dtype: int64"
      ]
     },
     "execution_count": 14,
     "metadata": {},
     "output_type": "execute_result"
    }
   ],
   "source": [
    "adata = cellxgene_census.get_anndata(\n",
    "    census=census,\n",
    "    organism=\"homo_sapiens\",\n",
    "    obsm_layers=[\"scvi\"],\n",
    "    obs_value_filter=test_case[\"census_obs_query\"],\n",
    ")\n",
    "\n",
    "adata.obs[[\"cell_type\", \"dataset_id\", \"donor_id\"]].value_counts()"
   ]
  },
  {
   "cell_type": "markdown",
   "id": "7dbdfafa-2b6d-438d-baf5-f485e162a8ab",
   "metadata": {},
   "source": [
    "#### Run vanilla memento on test case"
   ]
  },
  {
   "cell_type": "code",
   "execution_count": 22,
   "id": "3bd6853a-1896-4b57-bd2b-f313add62be0",
   "metadata": {},
   "outputs": [
    {
     "name": "stderr",
     "output_type": "stream",
     "text": [
      "/Users/psridharan/miniconda3/envs/vanilla-memento/lib/python3.10/site-packages/memento/main.py:181: FutureWarning: errors='ignore' is deprecated and will raise in a future version. Use to_numeric without passing `errors` and catch exceptions explicitly instead\n",
      "  df[col] = pd.to_numeric(df[col], errors='ignore')\n"
     ]
    }
   ],
   "source": [
    "# Assuming sequenced to 50%, dataset specific number\n",
    "adata.var.index = adata.var[\"feature_id\"].values  # use feature_id to refer to the gene\n",
    "adata.obs[\"q\"] = 0.15\n",
    "\n",
    "\n",
    "# Classical monocyte encoded as 1\n",
    "adata.obs[\"treatment\"] = (adata.obs[\"cell_type\"] == \"classical monocyte\").astype(int)\n",
    "\n",
    "# Setup memento\n",
    "memento.setup_memento(adata, q_column=\"q\", trim_percent=0.1)  # trim_percent tunes cell size calculation\n",
    "memento.create_groups(adata, label_columns=[\"treatment\"])\n",
    "memento.compute_1d_moments(adata, min_perc_group=0.9)\n",
    "group_metadata = memento.get_groups(adata)\n",
    "\n",
    "treatment_df = group_metadata[[\"treatment\"]]"
   ]
  },
  {
   "cell_type": "code",
   "execution_count": 23,
   "id": "5f441f7d-7f38-4644-b4ad-e7e2c0cb2383",
   "metadata": {},
   "outputs": [
    {
     "data": {
      "text/html": [
       "<div>\n",
       "<style scoped>\n",
       "    .dataframe tbody tr th:only-of-type {\n",
       "        vertical-align: middle;\n",
       "    }\n",
       "\n",
       "    .dataframe tbody tr th {\n",
       "        vertical-align: top;\n",
       "    }\n",
       "\n",
       "    .dataframe thead th {\n",
       "        text-align: right;\n",
       "    }\n",
       "</style>\n",
       "<table border=\"1\" class=\"dataframe\">\n",
       "  <thead>\n",
       "    <tr style=\"text-align: right;\">\n",
       "      <th></th>\n",
       "      <th>treatment</th>\n",
       "    </tr>\n",
       "  </thead>\n",
       "  <tbody>\n",
       "    <tr>\n",
       "      <th>sg^1</th>\n",
       "      <td>1</td>\n",
       "    </tr>\n",
       "    <tr>\n",
       "      <th>sg^0</th>\n",
       "      <td>0</td>\n",
       "    </tr>\n",
       "  </tbody>\n",
       "</table>\n",
       "</div>"
      ],
      "text/plain": [
       "      treatment\n",
       "sg^1          1\n",
       "sg^0          0"
      ]
     },
     "execution_count": 23,
     "metadata": {},
     "output_type": "execute_result"
    }
   ],
   "source": [
    "treatment_df"
   ]
  },
  {
   "cell_type": "code",
   "execution_count": 24,
   "id": "140b85b0-54c6-4106-a331-d0daf51fa931",
   "metadata": {},
   "outputs": [
    {
     "name": "stderr",
     "output_type": "stream",
     "text": [
      "[Parallel(n_jobs=12)]: Using backend LokyBackend with 12 concurrent workers.\n",
      "/Users/psridharan/miniconda3/envs/vanilla-memento/lib/python3.10/site-packages/tiledb/ctx.py:560: UserWarning: TileDB is a multithreading library and deadlocks are likely if fork() is called after a TileDB context has been created (such as for array access). To safely use TileDB with multiprocessing or concurrent.futures, choose 'spawn' as the start method for child processes. For example: multiprocessing.set_start_method('spawn').\n",
      "  warnings.warn(\n",
      "[Parallel(n_jobs=12)]: Done  26 tasks      | elapsed:    3.1s\n",
      "[Parallel(n_jobs=12)]: Done 208 tasks      | elapsed:    5.0s\n",
      "/Users/psridharan/miniconda3/envs/vanilla-memento/lib/python3.10/site-packages/joblib/externals/loky/process_executor.py:752: UserWarning: A worker stopped while some jobs were given to the executor. This can be caused by a too short worker timeout or by a memory leak.\n",
      "  warnings.warn(\n",
      "[Parallel(n_jobs=12)]: Done 708 tasks      | elapsed:   10.7s\n",
      "[Parallel(n_jobs=12)]: Done 1408 tasks      | elapsed:   19.8s\n",
      "[Parallel(n_jobs=12)]: Done 2308 tasks      | elapsed:   31.2s\n",
      "[Parallel(n_jobs=12)]: Done 3408 tasks      | elapsed:   43.6s\n",
      "[Parallel(n_jobs=12)]: Done 4588 tasks      | elapsed:  1.0min\n",
      "[Parallel(n_jobs=12)]: Done 5312 out of 5335 | elapsed:  1.2min remaining:    0.3s\n",
      "[Parallel(n_jobs=12)]: Done 5335 out of 5335 | elapsed:  1.2min finished\n"
     ]
    },
    {
     "data": {
      "text/html": [
       "<div>\n",
       "<style scoped>\n",
       "    .dataframe tbody tr th:only-of-type {\n",
       "        vertical-align: middle;\n",
       "    }\n",
       "\n",
       "    .dataframe tbody tr th {\n",
       "        vertical-align: top;\n",
       "    }\n",
       "\n",
       "    .dataframe thead th {\n",
       "        text-align: right;\n",
       "    }\n",
       "</style>\n",
       "<table border=\"1\" class=\"dataframe\">\n",
       "  <thead>\n",
       "    <tr style=\"text-align: right;\">\n",
       "      <th></th>\n",
       "      <th>gene</th>\n",
       "      <th>tx</th>\n",
       "      <th>de_coef</th>\n",
       "      <th>de_se</th>\n",
       "      <th>de_pval</th>\n",
       "      <th>dv_coef</th>\n",
       "      <th>dv_se</th>\n",
       "      <th>dv_pval</th>\n",
       "    </tr>\n",
       "  </thead>\n",
       "  <tbody>\n",
       "    <tr>\n",
       "      <th>1122</th>\n",
       "      <td>ENSG00000000419</td>\n",
       "      <td>treatment</td>\n",
       "      <td>0.595829</td>\n",
       "      <td>0.135529</td>\n",
       "      <td>0.000868</td>\n",
       "      <td>-0.253870</td>\n",
       "      <td>0.549061</td>\n",
       "      <td>0.602280</td>\n",
       "    </tr>\n",
       "    <tr>\n",
       "      <th>2045</th>\n",
       "      <td>ENSG00000001497</td>\n",
       "      <td>treatment</td>\n",
       "      <td>0.207446</td>\n",
       "      <td>0.176939</td>\n",
       "      <td>0.231954</td>\n",
       "      <td>-0.408969</td>\n",
       "      <td>0.568224</td>\n",
       "      <td>0.444111</td>\n",
       "    </tr>\n",
       "    <tr>\n",
       "      <th>136</th>\n",
       "      <td>ENSG00000001629</td>\n",
       "      <td>treatment</td>\n",
       "      <td>0.601119</td>\n",
       "      <td>0.144112</td>\n",
       "      <td>0.001567</td>\n",
       "      <td>0.140046</td>\n",
       "      <td>0.471719</td>\n",
       "      <td>0.751250</td>\n",
       "    </tr>\n",
       "    <tr>\n",
       "      <th>2020</th>\n",
       "      <td>ENSG00000001631</td>\n",
       "      <td>treatment</td>\n",
       "      <td>0.384209</td>\n",
       "      <td>0.137853</td>\n",
       "      <td>0.006999</td>\n",
       "      <td>-0.062158</td>\n",
       "      <td>0.601018</td>\n",
       "      <td>0.903819</td>\n",
       "    </tr>\n",
       "    <tr>\n",
       "      <th>369</th>\n",
       "      <td>ENSG00000002330</td>\n",
       "      <td>treatment</td>\n",
       "      <td>0.323368</td>\n",
       "      <td>0.129693</td>\n",
       "      <td>0.013797</td>\n",
       "      <td>0.009246</td>\n",
       "      <td>0.596809</td>\n",
       "      <td>0.985803</td>\n",
       "    </tr>\n",
       "  </tbody>\n",
       "</table>\n",
       "</div>"
      ],
      "text/plain": [
       "                 gene         tx   de_coef     de_se   de_pval   dv_coef  \\\n",
       "1122  ENSG00000000419  treatment  0.595829  0.135529  0.000868 -0.253870   \n",
       "2045  ENSG00000001497  treatment  0.207446  0.176939  0.231954 -0.408969   \n",
       "136   ENSG00000001629  treatment  0.601119  0.144112  0.001567  0.140046   \n",
       "2020  ENSG00000001631  treatment  0.384209  0.137853  0.006999 -0.062158   \n",
       "369   ENSG00000002330  treatment  0.323368  0.129693  0.013797  0.009246   \n",
       "\n",
       "         dv_se   dv_pval  \n",
       "1122  0.549061  0.602280  \n",
       "2045  0.568224  0.444111  \n",
       "136   0.471719  0.751250  \n",
       "2020  0.601018  0.903819  \n",
       "369   0.596809  0.985803  "
      ]
     },
     "execution_count": 24,
     "metadata": {},
     "output_type": "execute_result"
    }
   ],
   "source": [
    "# Run vanilla memento\n",
    "# NOTE: No covariates specified!\n",
    "memento.ht_1d_moments(\n",
    "    adata, treatment=treatment_df, num_boot=5000, verbose=1, num_cpus=12, resample_rep=False, approx=False\n",
    ")\n",
    "\n",
    "vanilla_memento_result_df = memento.get_1d_ht_result(adata)\n",
    "\n",
    "# Sort the result dataframe by gene ensemble name\n",
    "vanilla_memento_result_df = vanilla_memento_result_df.sort_values(\"gene\")\n",
    "vanilla_memento_result_df.head(5)"
   ]
  },
  {
   "cell_type": "markdown",
   "id": "dea1b869-2340-4db2-a3e4-873b2ac0829a",
   "metadata": {},
   "source": [
    "#### Run precomputed memento on test case"
   ]
  },
  {
   "cell_type": "code",
   "execution_count": 25,
   "id": "ea16fffc-a84a-4ca6-9c10-fc7dfc2c870a",
   "metadata": {},
   "outputs": [
    {
     "data": {
      "text/html": [
       "<div>\n",
       "<style scoped>\n",
       "    .dataframe tbody tr th:only-of-type {\n",
       "        vertical-align: middle;\n",
       "    }\n",
       "\n",
       "    .dataframe tbody tr th {\n",
       "        vertical-align: top;\n",
       "    }\n",
       "\n",
       "    .dataframe thead th {\n",
       "        text-align: right;\n",
       "    }\n",
       "</style>\n",
       "<table border=\"1\" class=\"dataframe\">\n",
       "  <thead>\n",
       "    <tr style=\"text-align: right;\">\n",
       "      <th></th>\n",
       "      <th>coef</th>\n",
       "      <th>z</th>\n",
       "      <th>pval</th>\n",
       "    </tr>\n",
       "    <tr>\n",
       "      <th>feature_id</th>\n",
       "      <th></th>\n",
       "      <th></th>\n",
       "      <th></th>\n",
       "    </tr>\n",
       "  </thead>\n",
       "  <tbody>\n",
       "    <tr>\n",
       "      <th>(ENSG00000000003,)</th>\n",
       "      <td>2.141824</td>\n",
       "      <td>4.180162</td>\n",
       "      <td>2.913019e-05</td>\n",
       "    </tr>\n",
       "    <tr>\n",
       "      <th>(ENSG00000000419,)</th>\n",
       "      <td>-0.782643</td>\n",
       "      <td>-6.067012</td>\n",
       "      <td>1.303122e-09</td>\n",
       "    </tr>\n",
       "    <tr>\n",
       "      <th>(ENSG00000000457,)</th>\n",
       "      <td>-0.087643</td>\n",
       "      <td>-0.472080</td>\n",
       "      <td>6.368700e-01</td>\n",
       "    </tr>\n",
       "    <tr>\n",
       "      <th>(ENSG00000000460,)</th>\n",
       "      <td>-0.330125</td>\n",
       "      <td>-0.906739</td>\n",
       "      <td>3.645451e-01</td>\n",
       "    </tr>\n",
       "    <tr>\n",
       "      <th>(ENSG00000000938,)</th>\n",
       "      <td>-4.277515</td>\n",
       "      <td>-15.819741</td>\n",
       "      <td>2.274272e-56</td>\n",
       "    </tr>\n",
       "  </tbody>\n",
       "</table>\n",
       "</div>"
      ],
      "text/plain": [
       "                        coef          z          pval\n",
       "feature_id                                           \n",
       "(ENSG00000000003,)  2.141824   4.180162  2.913019e-05\n",
       "(ENSG00000000419,) -0.782643  -6.067012  1.303122e-09\n",
       "(ENSG00000000457,) -0.087643  -0.472080  6.368700e-01\n",
       "(ENSG00000000460,) -0.330125  -0.906739  3.645451e-01\n",
       "(ENSG00000000938,) -4.277515 -15.819741  2.274272e-56"
      ]
     },
     "execution_count": 25,
     "metadata": {},
     "output_type": "execute_result"
    }
   ],
   "source": [
    "# Setup\n",
    "treatment_dim = \"cell_type_ontology_term_id\"\n",
    "covariate_dims = None  # no covariates specified by use of None\n",
    "\n",
    "# Run precomputed memento\n",
    "precomputed_memento_result_df, _ = precomputed_memento.compute_all(\n",
    "    cube_path=precomputed_memento_estimator_cube_path,\n",
    "    query_filter=test_case[\"precomputed_memento_query\"],\n",
    "    treatment=treatment_dim,\n",
    "    covariates_str=covariate_dims,\n",
    "    n_processes=8,\n",
    ")\n",
    "\n",
    "# Sort the result dataframe by gene ensemble name\n",
    "precomputed_memento_result_df = precomputed_memento_result_df.sort_values(\"feature_id\")\n",
    "precomputed_memento_result_df.head(5)"
   ]
  },
  {
   "cell_type": "markdown",
   "id": "756e7ded-b081-44fb-ae7b-60c37f957220",
   "metadata": {},
   "source": [
    "#### Compare vanilla memento result to precomputed memento result"
   ]
  },
  {
   "cell_type": "code",
   "execution_count": 26,
   "id": "5252dc58-4132-48fc-b402-bbc822de4d33",
   "metadata": {},
   "outputs": [
    {
     "name": "stdout",
     "output_type": "stream",
     "text": [
      "vanilla memento result dataframe length: 5335\n",
      "precomputed memento result dataframe length: 18561\n",
      "filtered precomputed memento result dataframe length: 5335\n"
     ]
    },
    {
     "data": {
      "text/html": [
       "<div>\n",
       "<style scoped>\n",
       "    .dataframe tbody tr th:only-of-type {\n",
       "        vertical-align: middle;\n",
       "    }\n",
       "\n",
       "    .dataframe tbody tr th {\n",
       "        vertical-align: top;\n",
       "    }\n",
       "\n",
       "    .dataframe thead th {\n",
       "        text-align: right;\n",
       "    }\n",
       "</style>\n",
       "<table border=\"1\" class=\"dataframe\">\n",
       "  <thead>\n",
       "    <tr style=\"text-align: right;\">\n",
       "      <th></th>\n",
       "      <th>coef</th>\n",
       "      <th>z</th>\n",
       "      <th>pval</th>\n",
       "    </tr>\n",
       "    <tr>\n",
       "      <th>feature_id</th>\n",
       "      <th></th>\n",
       "      <th></th>\n",
       "      <th></th>\n",
       "    </tr>\n",
       "  </thead>\n",
       "  <tbody>\n",
       "    <tr>\n",
       "      <th>(ENSG00000000419,)</th>\n",
       "      <td>-0.782643</td>\n",
       "      <td>-6.067012</td>\n",
       "      <td>1.303122e-09</td>\n",
       "    </tr>\n",
       "    <tr>\n",
       "      <th>(ENSG00000001497,)</th>\n",
       "      <td>-0.425436</td>\n",
       "      <td>-2.739698</td>\n",
       "      <td>6.149557e-03</td>\n",
       "    </tr>\n",
       "    <tr>\n",
       "      <th>(ENSG00000001629,)</th>\n",
       "      <td>-0.833652</td>\n",
       "      <td>-6.176022</td>\n",
       "      <td>6.573672e-10</td>\n",
       "    </tr>\n",
       "    <tr>\n",
       "      <th>(ENSG00000001631,)</th>\n",
       "      <td>-0.596159</td>\n",
       "      <td>-4.674299</td>\n",
       "      <td>2.949596e-06</td>\n",
       "    </tr>\n",
       "    <tr>\n",
       "      <th>(ENSG00000002330,)</th>\n",
       "      <td>-0.509686</td>\n",
       "      <td>-4.300392</td>\n",
       "      <td>1.704964e-05</td>\n",
       "    </tr>\n",
       "  </tbody>\n",
       "</table>\n",
       "</div>"
      ],
      "text/plain": [
       "                        coef         z          pval\n",
       "feature_id                                          \n",
       "(ENSG00000000419,) -0.782643 -6.067012  1.303122e-09\n",
       "(ENSG00000001497,) -0.425436 -2.739698  6.149557e-03\n",
       "(ENSG00000001629,) -0.833652 -6.176022  6.573672e-10\n",
       "(ENSG00000001631,) -0.596159 -4.674299  2.949596e-06\n",
       "(ENSG00000002330,) -0.509686 -4.300392  1.704964e-05"
      ]
     },
     "execution_count": 26,
     "metadata": {},
     "output_type": "execute_result"
    }
   ],
   "source": [
    "# construct a set of all the genes in the vanilla memento result dataframe to serve as a structure to\n",
    "# filter the precomputed memento result dataframe\n",
    "vanilla_memento_gene_set = set(vanilla_memento_result_df.gene)\n",
    "\n",
    "# transform vanilla_memento_gene_set into a set of single tuples to match\n",
    "# the data type of precomputed memento result dataframe index\n",
    "filter_feature_ids = {(v,) for v in vanilla_memento_gene_set}\n",
    "\n",
    "# filter the precomputed memento result df to only include genes in the vanilla memento result dataframe\n",
    "filtered_precomputed_memento_result_df = precomputed_memento_result_df[\n",
    "    precomputed_memento_result_df.index.isin(filter_feature_ids)\n",
    "]\n",
    "\n",
    "print(f\"vanilla memento result dataframe length: {len(vanilla_memento_result_df)}\")\n",
    "print(f\"precomputed memento result dataframe length: {len(precomputed_memento_result_df)}\")\n",
    "print(f\"filtered precomputed memento result dataframe length: {len(filtered_precomputed_memento_result_df)}\")\n",
    "\n",
    "filtered_precomputed_memento_result_df.head(5)"
   ]
  },
  {
   "cell_type": "markdown",
   "id": "0be58973-7a8e-4848-a879-81c90ac5329f",
   "metadata": {},
   "source": [
    "##### Plot the p-values for vanilla memento and precomputed memento"
   ]
  },
  {
   "cell_type": "code",
   "execution_count": 27,
   "id": "a6830a0f-6339-4939-a903-4e043d34ad6a",
   "metadata": {},
   "outputs": [
    {
     "name": "stderr",
     "output_type": "stream",
     "text": [
      "/Users/psridharan/miniconda3/envs/vanilla-memento/lib/python3.10/site-packages/pandas/core/arraylike.py:399: RuntimeWarning: divide by zero encountered in log10\n",
      "  result = getattr(ufunc, method)(*inputs, **kwargs)\n"
     ]
    },
    {
     "data": {
      "image/png": "[encoded data removed]",
      "text/plain": [
       "<Figure size 640x480 with 1 Axes>"
      ]
     },
     "metadata": {},
     "output_type": "display_data"
    }
   ],
   "source": [
    "x = -1 * np.log10(vanilla_memento_result_df[\"de_pval\"])\n",
    "y = -1 * np.log10(filtered_precomputed_memento_result_df[\"pval\"])\n",
    "\n",
    "plt.scatter(x, y, label=\"p values\")\n",
    "\n",
    "plt.plot(x, x, color=\"black\", label=\"Line with Slope 1\")\n",
    "\n",
    "plt.xlabel(\"vanilla\")\n",
    "plt.ylabel(\"precomputed\")\n",
    "\n",
    "plt.title(\"Scatter Plot of p values\")\n",
    "plt.legend()\n",
    "\n",
    "plt.grid(True)\n",
    "plt.show()"
   ]
  },
  {
   "cell_type": "code",
   "execution_count": null,
   "id": "937e5d6c-4c88-4e47-a247-5037792ecf56",
   "metadata": {},
   "outputs": [],
   "source": []
  }
 ],
 "metadata": {
  "kernelspec": {
   "display_name": "Python 3 (ipykernel)",
   "language": "python",
   "name": "python3"
  },
  "language_info": {
   "codemirror_mode": {
    "name": "ipython",
    "version": 3
   },
   "file_extension": ".py",
   "mimetype": "text/x-python",
   "name": "python",
   "nbconvert_exporter": "python",
   "pygments_lexer": "ipython3",
   "version": "3.10.13"
  }
 },
 "nbformat": 4,
 "nbformat_minor": 5
}
