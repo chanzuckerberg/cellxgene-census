{
 "cells": [
  {
   "cell_type": "code",
   "execution_count": 2,
   "id": "9670cc2f-903a-4753-9a12-123c80859f77",
   "metadata": {
    "tags": []
   },
   "outputs": [],
   "source": [
    "import memento\n",
    "import pandas as pd\n",
    "\n",
    "import cellxgene_census"
   ]
  },
  {
   "cell_type": "code",
   "execution_count": 3,
   "id": "73efecd1-faaa-48f0-b230-d460f5b745a5",
   "metadata": {},
   "outputs": [
    {
     "ename": "ModuleNotFoundError",
     "evalue": "No module named 'itables'",
     "output_type": "error",
     "traceback": [
      "\u001b[0;31m---------------------------------------------------------------------------\u001b[0m",
      "\u001b[0;31mModuleNotFoundError\u001b[0m                       Traceback (most recent call last)",
      "Cell \u001b[0;32mIn[3], line 1\u001b[0m\n\u001b[0;32m----> 1\u001b[0m \u001b[38;5;28;01mfrom\u001b[39;00m \u001b[38;5;21;01mitables\u001b[39;00m \u001b[38;5;28;01mimport\u001b[39;00m init_notebook_mode\n\u001b[1;32m      2\u001b[0m init_notebook_mode(all_interactive\u001b[38;5;241m=\u001b[39m\u001b[38;5;28;01mTrue\u001b[39;00m)\n",
      "\u001b[0;31mModuleNotFoundError\u001b[0m: No module named 'itables'"
     ]
    }
   ],
   "source": [
    "from itables import init_notebook_mode\n",
    "\n",
    "init_notebook_mode(all_interactive=True)"
   ]
  },
  {
   "cell_type": "code",
   "execution_count": 4,
   "id": "ef602f2a-7c34-4729-bde9-9588b3bee9d3",
   "metadata": {},
   "outputs": [],
   "source": [
    "census = cellxgene_census.open_soma(census_version=\"2023-12-15\")"
   ]
  },
  {
   "cell_type": "code",
   "execution_count": 5,
   "id": "c8506c34-2e45-4f06-b19c-f4f4cbae12c7",
   "metadata": {},
   "outputs": [],
   "source": [
    "# guo, disease == \"COVID-19\"\n",
    "dataset_guo = \"ae5341b8-60fb-4fac-86db-86e49ee66287\"\n",
    "# aruna\n",
    "dataset_aruna = \"59b69042-47c2-47fd-ad03-d21beb99818f\"\n",
    "# wilk, slide-seq\n",
    "dataset_wilk = \"055ca631-6ffb-40de-815e-b931e10718c0\"\n",
    "\n",
    "cell_type_monocyte = \"classical monocyte\"\n",
    "cell_type_t_cell = \"central memory CD4-positive, alpha-beta T cell\"\n",
    "cell_type_nk = \"natural killer cell\""
   ]
  },
  {
   "cell_type": "markdown",
   "id": "fffe0e77-112e-419f-b592-4a6c0b825e22",
   "metadata": {},
   "source": [
    "## Perform 5-10 more concordance comparisons with a controlled environment \n",
    "\n",
    "Steps:\n",
    "- Look for example cases\n",
    "   - 1-2 known comparisons, single-dataset single-donor, no batch effects.\n",
    "   - 2-4 known comparisons, simple batch-effects with multi-donors but no multi-assay nor multi-dataset.\n",
    "   - 2-4 known comparisons, complex batch-effects with multi-datasets and multi-assay.\n",
    "- For each example\n",
    "   - Run vanilla memento\n",
    "   - Run pre-comuputed memento\n",
    "   - Perform comparison of p-values between the two versions as in plot below\n",
    "- Validation passes if there is linear correlation, with spearman > 0.9\n",
    "- Brownie points if there is a high overlap between between significant genes at p < 0.001, do hypergeometric test\n",
    "\n",
    "### Example cases\n",
    "\n",
    "#### 1-2 known comparisons, single-dataset single-donor, no batch effects.\n",
    "\n",
    "**a) Single-dataset, single-donor, no batch effects.**\n",
    "\n",
    "- Collection: A Web Portal and Workbench for Biological Dissection of Single Cell COVID-19 Host Responses\n",
    "- Dataset: Individual Single-Cell RNA-seq PBMC Data from Arunachalam et al.\n",
    "   - Assay: 10X\n",
    "- Comparison:\n",
    "   - classical monocytes vs T-cells in one donor\n"
   ]
  },
  {
   "cell_type": "code",
   "execution_count": 6,
   "id": "0286a638-9b78-41c6-8e10-b6dba69558d2",
   "metadata": {
    "tags": []
   },
   "outputs": [],
   "source": [
    "datasets = [dataset_aruna]\n",
    "donor_id = \"cov17\"\n",
    "disease = \"normal\"\n",
    "cell_types = [cell_type_monocyte, cell_type_t_cell]\n",
    "\n",
    "adata = cellxgene_census.get_anndata(\n",
    "    census=census,\n",
    "    organism=\"homo_sapiens\",\n",
    "    obsm_layers=[\"scvi\"],\n",
    "    obs_value_filter=f\"dataset_id in {datasets} and disease == '{disease}' and cell_type in {cell_types} and donor_id == '{donor_id}'\",\n",
    ")"
   ]
  },
  {
   "cell_type": "code",
   "execution_count": 6,
   "id": "561ca819-07d9-4b72-8e82-5940f6e27c0c",
   "metadata": {},
   "outputs": [],
   "source": [
    "# adata.obs[\"donor_id\"].value_counts()"
   ]
  },
  {
   "cell_type": "code",
   "execution_count": 7,
   "id": "5b0727bf-fb32-403b-b674-9f8398a784fb",
   "metadata": {
    "tags": []
   },
   "outputs": [],
   "source": [
    "# scanpy.pp.neighbors(adata, use_rep=\"scvi\")\n",
    "# scanpy.tl.umap(adata)\n",
    "# scanpy.pl.umap(adata, color=[\"cell_type\"])"
   ]
  },
  {
   "cell_type": "markdown",
   "id": "5bf9391a-2320-4a89-b0f3-4942ca18b7d0",
   "metadata": {},
   "source": [
    "Running memento vanilla"
   ]
  },
  {
   "cell_type": "code",
   "execution_count": 7,
   "id": "9d61902a-2d06-4c6d-97c9-c541d62d577b",
   "metadata": {
    "scrolled": true
   },
   "outputs": [
    {
     "name": "stderr",
     "output_type": "stream",
     "text": [
      "/Users/psridharan/miniconda3/envs/vanilla-memento/lib/python3.10/site-packages/memento/main.py:181: FutureWarning: errors='ignore' is deprecated and will raise in a future version. Use to_numeric without passing `errors` and catch exceptions explicitly instead\n",
      "  df[col] = pd.to_numeric(df[col], errors='ignore')\n",
      "/Users/psridharan/miniconda3/envs/vanilla-memento/lib/python3.10/site-packages/tiledb/ctx.py:560: UserWarning: TileDB is a multithreading library and deadlocks are likely if fork() is called after a TileDB context has been created (such as for array access). To safely use TileDB with multiprocessing or concurrent.futures, choose 'spawn' as the start method for child processes. For example: multiprocessing.set_start_method('spawn').\n",
      "  warnings.warn(\n",
      "[Parallel(n_jobs=12)]: Using backend LokyBackend with 12 concurrent workers.\n",
      "[Parallel(n_jobs=12)]: Done  26 tasks      | elapsed:    3.0s\n",
      "[Parallel(n_jobs=12)]: Done 176 tasks      | elapsed:    4.7s\n",
      "[Parallel(n_jobs=12)]: Done 576 tasks      | elapsed:    8.7s\n",
      "/Users/psridharan/miniconda3/envs/vanilla-memento/lib/python3.10/site-packages/joblib/externals/loky/process_executor.py:752: UserWarning: A worker stopped while some jobs were given to the executor. This can be caused by a too short worker timeout or by a memory leak.\n",
      "  warnings.warn(\n",
      "[Parallel(n_jobs=12)]: Done 1276 tasks      | elapsed:   17.8s\n",
      "[Parallel(n_jobs=12)]: Done 2176 tasks      | elapsed:   29.1s\n",
      "[Parallel(n_jobs=12)]: Done 3276 tasks      | elapsed:   41.6s\n",
      "[Parallel(n_jobs=12)]: Done 4264 tasks      | elapsed:   56.4s\n",
      "[Parallel(n_jobs=12)]: Done 5312 out of 5335 | elapsed:  1.1min remaining:    0.3s\n",
      "[Parallel(n_jobs=12)]: Done 5335 out of 5335 | elapsed:  1.2min finished\n"
     ]
    }
   ],
   "source": [
    "# Setup\n",
    "\n",
    "# Assuming sequenced to 50%, dataset specific number\n",
    "adata.var.index = adata.var[\"feature_name\"].values\n",
    "adata.obs[\"q\"] = 0.15\n",
    "\n",
    "\n",
    "# Classical monocyte encoded as 1\n",
    "adata.obs[\"treatment\"] = (adata.obs[\"cell_type\"] == cell_types[0]).astype(int)\n",
    "\n",
    "# Setup memento\n",
    "memento.setup_memento(adata, q_column=\"q\", trim_percent=0.1)  # trim_percent tunes cell size calculation\n",
    "memento.create_groups(adata, label_columns=[\"treatment\"])\n",
    "memento.compute_1d_moments(adata, min_perc_group=0.9)\n",
    "group_metadata = memento.get_groups(adata)\n",
    "\n",
    "treatment_df = group_metadata[[\"treatment\"]]\n",
    "\n",
    "memento.ht_1d_moments(\n",
    "    adata,\n",
    "    # covariate=covariate_df,\n",
    "    treatment=treatment_df,\n",
    "    num_boot=5000,\n",
    "    verbose=1,\n",
    "    num_cpus=12,\n",
    "    resample_rep=False,\n",
    "    approx=False,\n",
    ")\n",
    "\n",
    "result = memento.get_1d_ht_result(adata)"
   ]
  },
  {
   "cell_type": "code",
   "execution_count": 9,
   "id": "bd72f75b-a699-4510-9b9f-9fe0f9706052",
   "metadata": {},
   "outputs": [],
   "source": [
    "# result"
   ]
  },
  {
   "cell_type": "markdown",
   "id": "bf6027c5-e344-43f2-a18c-f22a0e731f85",
   "metadata": {},
   "source": [
    "**b) Single-dataset, single-donor, no batch effects.**\n",
    "\n",
    "- Collection: A Web Portal and Workbench for Biological Dissection of Single Cell COVID-19 Host Responses\n",
    "- Dataset: Individual Single-Cell RNA-seq PBMC Data from Arunachalam et al.\n",
    "   - Assay: 10X\n",
    "- Comparison:\n",
    "   - classical monocytes vs natural killer cells in one donor\n"
   ]
  },
  {
   "cell_type": "code",
   "execution_count": 8,
   "id": "7190dd91-f4ea-40eb-ab85-42d974c3eda1",
   "metadata": {},
   "outputs": [],
   "source": [
    "datasets = [dataset_aruna]\n",
    "donor_id = \"cov17\"\n",
    "disease = \"normal\"\n",
    "cell_types = [cell_type_monocyte, cell_type_nk]\n",
    "\n",
    "adata = cellxgene_census.get_anndata(\n",
    "    census=census,\n",
    "    organism=\"homo_sapiens\",\n",
    "    obsm_layers=[\"scvi\"],\n",
    "    obs_value_filter=f\"dataset_id in {datasets} and disease == '{disease}' and cell_type in {cell_types} and donor_id == '{donor_id}'\",\n",
    ")"
   ]
  },
  {
   "cell_type": "code",
   "execution_count": 11,
   "id": "68146cff-495f-4788-b731-ad12c3b024f9",
   "metadata": {},
   "outputs": [],
   "source": [
    "# adata.obs[\"donor_id\"].value_counts()"
   ]
  },
  {
   "cell_type": "code",
   "execution_count": 12,
   "id": "aaf6cd74-79b9-47a3-8bc8-aeab0b40011f",
   "metadata": {},
   "outputs": [],
   "source": [
    "# scanpy.pp.neighbors(adata, use_rep=\"scvi\")\n",
    "# scanpy.tl.umap(adata)\n",
    "# scanpy.pl.umap(adata, color=[\"cell_type\"])"
   ]
  },
  {
   "cell_type": "code",
   "execution_count": 9,
   "id": "d85e27d8-e85c-4ea7-89c4-4ff6211207f6",
   "metadata": {},
   "outputs": [
    {
     "name": "stderr",
     "output_type": "stream",
     "text": [
      "/Users/psridharan/miniconda3/envs/vanilla-memento/lib/python3.10/site-packages/memento/main.py:181: FutureWarning: errors='ignore' is deprecated and will raise in a future version. Use to_numeric without passing `errors` and catch exceptions explicitly instead\n",
      "  df[col] = pd.to_numeric(df[col], errors='ignore')\n",
      "[Parallel(n_jobs=12)]: Using backend LokyBackend with 12 concurrent workers.\n",
      "/Users/psridharan/miniconda3/envs/vanilla-memento/lib/python3.10/site-packages/tiledb/ctx.py:560: UserWarning: TileDB is a multithreading library and deadlocks are likely if fork() is called after a TileDB context has been created (such as for array access). To safely use TileDB with multiprocessing or concurrent.futures, choose 'spawn' as the start method for child processes. For example: multiprocessing.set_start_method('spawn').\n",
      "  warnings.warn(\n",
      "[Parallel(n_jobs=12)]: Done  26 tasks      | elapsed:    2.9s\n",
      "[Parallel(n_jobs=12)]: Done 176 tasks      | elapsed:    4.8s\n",
      "/Users/psridharan/miniconda3/envs/vanilla-memento/lib/python3.10/site-packages/joblib/externals/loky/process_executor.py:752: UserWarning: A worker stopped while some jobs were given to the executor. This can be caused by a too short worker timeout or by a memory leak.\n",
      "  warnings.warn(\n",
      "[Parallel(n_jobs=12)]: Done 426 tasks      | elapsed:    8.0s\n",
      "[Parallel(n_jobs=12)]: Done 1108 tasks      | elapsed:   18.2s\n",
      "[Parallel(n_jobs=12)]: Done 2008 tasks      | elapsed:   31.4s\n",
      "[Parallel(n_jobs=12)]: Done 3108 tasks      | elapsed:   46.8s\n",
      "[Parallel(n_jobs=12)]: Done 4300 tasks      | elapsed:  1.1min\n",
      "[Parallel(n_jobs=12)]: Done 5224 out of 5247 | elapsed:  1.3min remaining:    0.4s\n",
      "[Parallel(n_jobs=12)]: Done 5247 out of 5247 | elapsed:  1.3min finished\n"
     ]
    }
   ],
   "source": [
    "# Setup\n",
    "\n",
    "# Assuming sequenced to 50%, dataset specific number\n",
    "adata.var.index = adata.var[\"feature_name\"].values\n",
    "adata.obs[\"q\"] = 0.15\n",
    "\n",
    "\n",
    "# Classical monocyte encoded as 1\n",
    "adata.obs[\"treatment\"] = (adata.obs[\"cell_type\"] == cell_types[0]).astype(int)\n",
    "\n",
    "# Setup memento\n",
    "memento.setup_memento(adata, q_column=\"q\", trim_percent=0.1)  # trim_percent tunes cell size calculation\n",
    "memento.create_groups(adata, label_columns=[\"treatment\"])\n",
    "memento.compute_1d_moments(adata, min_perc_group=0.9)\n",
    "group_metadata = memento.get_groups(adata)\n",
    "\n",
    "treatment_df = group_metadata[[\"treatment\"]]\n",
    "\n",
    "memento.ht_1d_moments(\n",
    "    adata,\n",
    "    # covariate=covariate_df,\n",
    "    treatment=treatment_df,\n",
    "    num_boot=5000,\n",
    "    verbose=1,\n",
    "    num_cpus=12,\n",
    "    resample_rep=False,\n",
    "    approx=False,\n",
    ")\n",
    "\n",
    "result = memento.get_1d_ht_result(adata)"
   ]
  },
  {
   "cell_type": "code",
   "execution_count": 14,
   "id": "065daced-0e91-428a-802c-06d2cdcb518b",
   "metadata": {},
   "outputs": [],
   "source": [
    "# result"
   ]
  },
  {
   "cell_type": "markdown",
   "id": "f9b27000-b471-4aa1-adb1-9039e770b918",
   "metadata": {},
   "source": [
    "#### 2-4 known comparisons, simple batch-effects with multi-datasets but no multi-assay.\n",
    "\n",
    "**a) Single-dataset, two donors, controlling for donors**\n",
    "\n",
    "- Collection: A Web Portal and Workbench for Biological Dissection of Single Cell COVID-19 Host Responses\n",
    "- Dataset: Individual Single-Cell RNA-seq PBMC Data from Arunachalam et al.\n",
    "   - Assay: 10X\n",
    "- Comparison:\n",
    "   - classical monocytes vs T-cells in two donors, including donors as covariates.\n"
   ]
  },
  {
   "cell_type": "code",
   "execution_count": 15,
   "id": "2b315f72-c8f5-48f7-b906-5d733d10bf92",
   "metadata": {},
   "outputs": [],
   "source": [
    "datasets = [dataset_aruna]\n",
    "donor_id = [\"cov17\", \"cov18\"]\n",
    "disease = \"normal\"\n",
    "cell_types = [cell_type_monocyte, cell_type_nk]\n",
    "\n",
    "adata = cellxgene_census.get_anndata(\n",
    "    census=census,\n",
    "    organism=\"homo_sapiens\",\n",
    "    obsm_layers=[\"scvi\"],\n",
    "    obs_value_filter=f\"dataset_id in {datasets} and disease == '{disease}' and cell_type in {cell_types} and donor_id in {donor_id}\",\n",
    ")"
   ]
  },
  {
   "cell_type": "code",
   "execution_count": 16,
   "id": "10e1eafd-866c-467f-9ebc-b7184875044d",
   "metadata": {},
   "outputs": [],
   "source": [
    "# adata.obs[\"donor_id\"].value_counts()"
   ]
  },
  {
   "cell_type": "code",
   "execution_count": 17,
   "id": "471dc42e-6d0e-4659-ba99-ce3b8eb0767e",
   "metadata": {},
   "outputs": [],
   "source": [
    "# scanpy.pp.neighbors(adata, use_rep=\"scvi\")\n",
    "# scanpy.tl.umap(adata)\n",
    "# scanpy.pl.umap(adata, color=[\"cell_type\"])\n",
    "# scanpy.pl.umap(adata, color=[\"donor_id\"])"
   ]
  },
  {
   "cell_type": "code",
   "execution_count": 18,
   "id": "54d6c680-4288-418c-8d7c-be4384bdee61",
   "metadata": {},
   "outputs": [
    {
     "name": "stderr",
     "output_type": "stream",
     "text": [
      "/Users/pgarcia-nieto/scripts/repos/scrna-parameter-estimation/memento/main.py:181: FutureWarning: errors='ignore' is deprecated and will raise in a future version. Use to_numeric without passing `errors` and catch exceptions explicitly instead\n",
      "  df[col] = pd.to_numeric(df[col], errors='ignore')\n",
      "[Parallel(n_jobs=12)]: Using backend LokyBackend with 12 concurrent workers.\n",
      "[Parallel(n_jobs=12)]: Done  29 tasks      | elapsed:    0.7s\n",
      "[Parallel(n_jobs=12)]: Done 328 tasks      | elapsed:    5.4s\n",
      "/Users/pgarcia-nieto/venv_uce/lib/python3.11/site-packages/joblib/externals/loky/process_executor.py:752: UserWarning: A worker stopped while some jobs were given to the executor. This can be caused by a too short worker timeout or by a memory leak.\n",
      "  warnings.warn(\n",
      "/Users/pgarcia-nieto/venv_uce/lib/python3.11/site-packages/tiledb/ctx.py:560: UserWarning: TileDB is a multithreading library and deadlocks are likely if fork() is called after a TileDB context has been created (such as for array access). To safely use TileDB with multiprocessing or concurrent.futures, choose 'spawn' as the start method for child processes. For example: multiprocessing.set_start_method('spawn').\n",
      "  warnings.warn(\n",
      "[Parallel(n_jobs=12)]: Done 828 tasks      | elapsed:   14.1s\n",
      "[Parallel(n_jobs=12)]: Done 1528 tasks      | elapsed:   26.8s\n",
      "[Parallel(n_jobs=12)]: Done 2428 tasks      | elapsed:   42.1s\n",
      "[Parallel(n_jobs=12)]: Done 3384 tasks      | elapsed:  1.0min\n",
      "[Parallel(n_jobs=12)]: Done 4034 tasks      | elapsed:  1.2min\n",
      "[Parallel(n_jobs=12)]: Done 4784 tasks      | elapsed:  1.4min\n",
      "[Parallel(n_jobs=12)]: Done 4834 out of 4857 | elapsed:  1.4min remaining:    0.4s\n",
      "[Parallel(n_jobs=12)]: Done 4857 out of 4857 | elapsed:  1.4min finished\n"
     ]
    }
   ],
   "source": [
    "# Setup\n",
    "\n",
    "# Assuming sequenced to 50%, dataset specific number\n",
    "adata.var.index = adata.var[\"feature_name\"].values\n",
    "adata.obs[\"q\"] = 0.15\n",
    "\n",
    "\n",
    "# Classical monocyte encoded as 1\n",
    "adata.obs[\"treatment\"] = (adata.obs[\"cell_type\"] == cell_types[0]).astype(int)\n",
    "\n",
    "# Setup memento\n",
    "memento.setup_memento(adata, q_column=\"q\", trim_percent=0.1)  # trim_percent tunes cell size calculation\n",
    "memento.create_groups(adata, label_columns=[\"treatment\", \"donor_id\"])\n",
    "memento.compute_1d_moments(adata, min_perc_group=0.9)\n",
    "group_metadata = memento.get_groups(adata)\n",
    "\n",
    "treatment_df = group_metadata[[\"treatment\"]]\n",
    "covariate_df = pd.get_dummies(group_metadata[[\"donor_id\"]], drop_first=True).astype(float)\n",
    "covariate_df -= covariate_df.mean()  # covariates for Lin's estimator\n",
    "\n",
    "# Include interactions\n",
    "covariate_df[\"interaction\"] = treatment_df.iloc[:, 0] * covariate_df.iloc[:, 0]\n",
    "\n",
    "memento.ht_1d_moments(\n",
    "    adata,\n",
    "    covariate=covariate_df,\n",
    "    treatment=treatment_df,\n",
    "    num_boot=5000,\n",
    "    verbose=1,\n",
    "    num_cpus=12,\n",
    "    resample_rep=False,\n",
    "    approx=False,\n",
    ")\n",
    "\n",
    "result = memento.get_1d_ht_result(adata)"
   ]
  },
  {
   "cell_type": "code",
   "execution_count": 19,
   "id": "952d9f79-a060-46b1-aaad-719b94557696",
   "metadata": {},
   "outputs": [
    {
     "data": {
      "text/html": [
       "<div class=\"itables\">\n",
       "<style>.itables table td {\n",
       "    text-overflow: ellipsis;\n",
       "    overflow: hidden;\n",
       "}\n",
       "\n",
       ".itables table th {\n",
       "    text-overflow: ellipsis;\n",
       "    overflow: hidden;\n",
       "}\n",
       "\n",
       ".itables thead input {\n",
       "    width: 100%;\n",
       "    padding: 3px;\n",
       "    box-sizing: border-box;\n",
       "}\n",
       "\n",
       ".itables tfoot input {\n",
       "    width: 100%;\n",
       "    padding: 3px;\n",
       "    box-sizing: border-box;\n",
       "}\n",
       "\n",
       ".itables { font-size: medium; }\n",
       "</style>\n",
       "<table id=\"itables_ba4d9913_d44e_4822_9114_db4723248f49\" class=\"display nowrap\" data-quarto-disable-processing=\"true\" style=\"table-layout:auto;width:auto;margin:auto;caption-side:bottom\">\n",
       "<thead>\n",
       "    <tr style=\"text-align: right;\">\n",
       "      \n",
       "      <th>gene</th>\n",
       "      <th>tx</th>\n",
       "      <th>de_coef</th>\n",
       "      <th>de_se</th>\n",
       "      <th>de_pval</th>\n",
       "      <th>dv_coef</th>\n",
       "      <th>dv_se</th>\n",
       "      <th>dv_pval</th>\n",
       "    </tr>\n",
       "  </thead><tbody><tr><td>Loading... (need <a href=https://mwouts.github.io/itables/troubleshooting.html>help</a>?)</td></tr></tbody>\n",
       "\n",
       "</table>\n",
       "<script type=\"module\">\n",
       "    const dt = (await import(window._datatables_src_for_itables_1_7_0)).default;\n",
       "    dt($);\n",
       "\n",
       "    $(document).ready(function () {\n",
       "        document.querySelectorAll(\"#itables_ba4d9913_d44e_4822_9114_db4723248f49:not(.dataTable)\").forEach(table => {\n",
       "            // Define the table data\n",
       "            const data = [[\"PRXL2C\", \"treatment\", 0.264879, 0.070668, 0.001782628, 0.069764, 0.271753, 0.75085], [\"AAK1\", \"treatment\", -0.725003, 0.034958, 1.15441e-05, 0.835903, 0.276257, 0.013797], [\"AAMP\", \"treatment\", 0.179137, 0.052185, 0.001787546, -0.174533, 0.289675, 0.5023], [\"AASDH\", \"treatment\", -0.324482, 0.089005, 0.001152173, 0.041772, 0.226266, 0.859628], [\"AASDHPPT\", \"treatment\", 0.103343, 0.06473, 0.119976, 0.001424, 0.226486, 0.912617], [\"ABCD3\", \"treatment\", -0.006391, 0.082365, 0.89982, 0.143428, 0.226299, 0.5017], [\"ABCD4\", \"treatment\", -0.176722, 0.08366, 0.03279344, -0.49198, 0.257041, 0.060788], [\"ABCE1\", \"treatment\", 0.12667, 0.065882, 0.06178764, 0.250349, 0.165952, 0.116577], [\"ABHD13\", \"treatment\", 0.622109, 0.073137, 2.316169e-05, 0.0184, 0.233706, 0.868226], [\"ABHD14B\", \"treatment\", 0.067047, 0.064568, 0.3269346, 0.099284, 0.205109, 0.587483], [\"ABHD17A\", \"treatment\", -1.879878, 0.027101, 1.988126e-07, -0.439177, 0.212927, 0.060988], [\"ABHD2\", \"treatment\", 0.962924, 0.059844, 0.000303272, 0.0279, 0.202045, 0.828834], [\"ABHD3\", \"treatment\", 0.377061, 0.068371, 0.001666355, -0.231108, 0.253484, 0.379924], [\"ABHD5\", \"treatment\", 2.113237, 0.073017, 5.049955e-07, 1.75112, 0.180101, 3.1e-05], [\"ABI1\", \"treatment\", 0.163971, 0.042248, 0.001010527, -0.343131, 0.191547, 0.080984], [\"ABI3\", \"treatment\", -0.762521, 0.041536, 1.56801e-06, 0.658534, 0.153404, 0.000944], [\"ABRACL\", \"treatment\", 0.466064, 0.029898, 1.069793e-05, -0.624433, 0.192469, 0.003999], [\"ABTB1\", \"treatment\", 0.798472, 0.046261, 5.28436e-06, 0.141258, 0.215399, 0.703859], [\"ACAA1\", \"treatment\", 0.508838, 0.040162, 1.25437e-05, 0.271969, 0.293259, 0.392322], [\"ACAA2\", \"treatment\", -0.746704, 0.053061, 5.848981e-06, -0.028296, 0.183554, 0.939812], [\"ACADM\", \"treatment\", -0.213121, 0.062533, 0.001502865, 0.307117, 0.229029, 0.184963], [\"ACADS\", \"treatment\", -0.269544, 0.089149, 0.00279944, 8e-05, 0.230524, 0.978804], [\"ACADVL\", \"treatment\", 0.477833, 0.041479, 0.0002609714, -0.027186, 0.206554, 0.828834], [\"ACAP2\", \"treatment\", 0.997022, 0.035833, 6.934686e-05, -0.095347, 0.143572, 0.517097], [\"ACAT2\", \"treatment\", -0.928253, 0.083566, 2.775359e-05, -0.36913, 0.218497, 0.10238], [\"ACBD3\", \"treatment\", 0.446594, 0.058519, 4.222302e-05, 0.029351, 0.182608, 0.982803], [\"ACBD5\", \"treatment\", -0.236119, 0.059269, 0.0004752254, 0.074014, 0.226287, 0.695061], [\"ACBD6\", \"treatment\", -0.228608, 0.059444, 0.0005999931, 0.455029, 0.277792, 0.10118], [\"ACIN1\", \"treatment\", 0.202882, 0.046481, 0.000753147, -0.216728, 0.177937, 0.183163], [\"ACLY\", \"treatment\", 0.494519, 0.06803, 4.337267e-05, 0.338795, 0.197612, 0.090582], [\"ACO2\", \"treatment\", 0.330376, 0.063745, 0.0004828572, -0.32106, 0.280357, 0.276945], [\"ACOT13\", \"treatment\", -0.229886, 0.081863, 0.004999, -0.189473, 0.253966, 0.536493], [\"ACP1\", \"treatment\", -0.485026, 0.036272, 5.221709e-06, 0.020483, 0.337914, 0.888822], [\"ACSF3\", \"treatment\", 0.472081, 0.07891, 0.0005409122, -0.176388, 0.225425, 0.422515], [\"ACSL3\", \"treatment\", 0.09952, 0.0727, 0.1793641, 0.261843, 0.198092, 0.20156], [\"ACSS1\", \"treatment\", -0.499766, 0.078472, 2.87696e-05, -0.542095, 0.226918, 0.028794], [\"ACTB\", \"treatment\", 0.486967, 0.012722, 4.37432e-05, -1.400268, 0.056855, 1e-06], [\"ACTL6A\", \"treatment\", -0.052494, 0.086816, 0.5232953, 0.089409, 0.225046, 0.70026], [\"ACTR10\", \"treatment\", -0.359667, 0.0526, 0.0001143896, 0.550712, 0.330652, 0.079784], [\"ACTR1A\", \"treatment\", 0.416617, 0.06148, 0.001436556, 0.049662, 0.26614, 0.779044], [\"ACTR2\", \"treatment\", 0.945703, 0.021417, 1.64069e-07, 0.097408, 0.120739, 0.529094], [\"ACTR3\", \"treatment\", 0.057136, 0.021645, 0.01119776, 0.046908, 0.148784, 0.728854], [\"ACTR6\", \"treatment\", -0.791263, 0.076033, 3.710504e-05, -0.171048, 0.207678, 0.4999], [\"ACYP2\", \"treatment\", -0.021856, 0.06824, 0.6746651, 0.001404, 0.211731, 0.999], [\"ADAM10\", \"treatment\", 0.574697, 0.040706, 3.675966e-06, -0.47975, 0.180771, 0.006799], [\"ADAM17\", \"treatment\", 1.157515, 0.065781, 1.672901e-05, 0.21948, 0.18802, 0.253349], [\"ADAM8\", \"treatment\", -0.489696, 0.04933, 2.34458e-06, -0.368782, 0.21047, 0.133773], [\"ADAP1\", \"treatment\", 0.328426, 0.055921, 0.0001233448, -0.096019, 0.223995, 0.631274], [\"ADAR\", \"treatment\", 0.308506, 0.037706, 0.0006027184, 0.048872, 0.199844, 0.841632], [\"ADCY7\", \"treatment\", 0.458426, 0.041601, 2.233617e-05, -0.218261, 0.199109, 0.272945], [\"ADD1\", \"treatment\", -0.421118, 0.0396, 1.590059e-05, -0.178973, 0.188077, 0.39792], [\"ADD3\", \"treatment\", -0.322653, 0.034421, 0.000364135, 0.086916, 0.15318, 0.573485], [\"ADGRE5\", \"treatment\", 0.239589, 0.029257, 4.571204e-05, 0.348304, 0.139413, 0.016197], [\"ADH5\", \"treatment\", -0.709105, 0.043542, 1.558995e-06, 0.206478, 0.24754, 0.352929], [\"ADIPOR1\", \"treatment\", 1.092215, 0.065923, 2.651179e-06, 0.320236, 0.218443, 0.118976], [\"ADNP\", \"treatment\", 0.147059, 0.063854, 0.02219556, -0.012331, 0.182356, 0.997201], [\"ADPGK\", \"treatment\", 1.11628, 0.047754, 6.115002e-06, -0.095172, 0.236624, 0.54969], [\"ADRB2\", \"treatment\", -0.937648, 0.069861, 2.350443e-05, 0.853331, 0.260392, 0.002013], [\"GRK2\", \"treatment\", 0.685095, 0.033433, 9.07152e-07, -0.401514, 0.208365, 0.058388], [\"ADRM1\", \"treatment\", -0.091756, 0.040965, 0.02019596, 0.238832, 0.430453, 0.620876], [\"ADSS2\", \"treatment\", 0.255918, 0.043206, 0.0005828335, 0.118167, 0.204696, 0.481504], [\"AEBP2\", \"treatment\", -0.17553, 0.071428, 0.01459708, -0.045635, 0.217634, 0.95141], [\"TLE5\", \"treatment\", -1.674294, 0.025625, 8.603602e-08, -0.407313, 0.203407, 0.077984], [\"AFF1\", \"treatment\", 0.395885, 0.070444, 0.0002285316, 0.333468, 0.221889, 0.146771], [\"AFF4\", \"treatment\", 0.544718, 0.05109, 6.658369e-05, 0.338271, 0.207644, 0.106379], [\"AFG3L2\", \"treatment\", 0.21713, 0.069091, 0.002756132, -0.180932, 0.201834, 0.377125], [\"AFTPH\", \"treatment\", 0.982298, 0.062623, 1.474289e-05, -0.249117, 0.196684, 0.222356], [\"AGFG1\", \"treatment\", 1.288217, 0.057537, 6.118678e-06, -0.225016, 0.209534, 0.263747], [\"AGO2\", \"treatment\", 0.463622, 0.066875, 0.0002240943, 0.118712, 0.191471, 0.494301], [\"AGO3\", \"treatment\", 0.691829, 0.062641, 7.781537e-06, 0.002839, 0.202853, 0.896421], [\"AGO4\", \"treatment\", 1.610458, 0.068627, 1.417335e-08, 0.628106, 0.188882, 0.002517], [\"AGPAT4\", \"treatment\", -0.247774, 0.088839, 0.00479904, -0.131017, 0.223325, 0.583683], [\"AGTPBP1\", \"treatment\", 0.680386, 0.043283, 2.683461e-06, -0.112309, 0.169151, 0.575285], [\"AGTRAP\", \"treatment\", 0.76209, 0.028123, 2.613039e-06, 0.042314, 0.177994, 0.762048], [\"AHCTF1\", \"treatment\", 0.363734, 0.076089, 0.0004841985, 0.295849, 0.231889, 0.188962], [\"AHCYL1\", \"treatment\", 1.037045, 0.058356, 4.140105e-06, -0.142189, 0.196878, 0.45111], [\"AHNAK\", \"treatment\", 1.301799, 0.02554, 4.131146e-08, 0.527347, 0.112677, 0.000246], [\"AHSA1\", \"treatment\", -0.473444, 0.047675, 5.268347e-05, -0.717801, 0.597963, 0.114377], [\"AIDA\", \"treatment\", 0.239199, 0.065753, 0.001158693, 0.305079, 0.208004, 0.124375], [\"AIFM1\", \"treatment\", 0.030676, 0.085232, 0.6962607, -0.249498, 0.209723, 0.239552], [\"AIMP1\", \"treatment\", 0.367159, 0.043826, 1.779872e-05, 0.102462, 0.183685, 0.482703], [\"AIMP2\", \"treatment\", 0.242105, 0.082801, 0.00439912, -0.218968, 0.235714, 0.407119], [\"AIP\", \"treatment\", -0.062678, 0.040459, 0.1115777, -0.269391, 0.288552, 0.363127], [\"AK2\", \"treatment\", 0.628305, 0.061892, 3.428983e-05, -0.154485, 0.243166, 0.587682], [\"AK3\", \"treatment\", -0.559888, 0.098996, 0.0004010279, 0.235847, 0.238578, 0.322935], [\"AKAP11\", \"treatment\", 0.376129, 0.081473, 0.0004191804, 0.033343, 0.193828, 0.84783], [\"AKAP13\", \"treatment\", 0.247724, 0.023394, 7.487494e-06, -0.351858, 0.139096, 0.012597], [\"AKAP7\", \"treatment\", -0.708538, 0.090181, 0.0001286966, -0.075345, 0.226285, 0.679864], [\"AKAP8\", \"treatment\", 0.269833, 0.067857, 0.001127159, 0.20713, 0.233237, 0.347131], [\"AKAP8L\", \"treatment\", -0.07989, 0.056016, 0.1421716, -0.230997, 0.247709, 0.377325], [\"AKAP9\", \"treatment\", 0.184518, 0.034356, 0.001345534, -0.325422, 0.111016, 0.0024], [\"AKIRIN1\", \"treatment\", 0.28002, 0.04762, 0.001474499, 0.337716, 0.195034, 0.086783], [\"AKIRIN2\", \"treatment\", 1.127658, 0.055406, 4.045393e-07, 0.196774, 0.203796, 0.471506], [\"AKNA\", \"treatment\", -0.193409, 0.034663, 0.0002573019, -0.297465, 0.181015, 0.107379], [\"AKR1A1\", \"treatment\", 1.015443, 0.046821, 5.986638e-08, 0.140992, 0.315404, 0.687263], [\"AKR1B1\", \"treatment\", -0.125905, 0.059805, 0.02959408, 0.25268, 0.187848, 0.172565], [\"AKR7A2\", \"treatment\", -0.150913, 0.048869, 0.003221305, -0.607469, 0.424851, 0.131774], [\"AKT1\", \"treatment\", -0.182522, 0.047605, 0.0007159369, -0.004235, 0.241628, 0.984603], [\"AKT2\", \"treatment\", -0.095103, 0.062237, 0.1171766, -0.539696, 0.273396, 0.040992], [\"ALDH16A1\", \"treatment\", 0.292974, 0.076118, 0.001544413, -0.190515, 0.219952, 0.443911], [\"ALDH9A1\", \"treatment\", -0.263688, 0.059815, 0.0005514069, 0.128535, 0.230631, 0.539292], [\"ALG13\", \"treatment\", 0.458986, 0.057698, 4.805454e-05, -0.188064, 0.191676, 0.332334], [\"ALG3\", \"treatment\", 0.601517, 0.07781, 4.051792e-05, 0.027167, 0.312198, 0.809838], [\"ALG5\", \"treatment\", -0.266036, 0.059237, 0.0005707165, -0.237186, 0.265218, 0.302539], [\"ALKBH3\", \"treatment\", -0.381035, 0.088007, 0.0004768359, -0.102209, 0.208862, 0.585683], [\"ALKBH5\", \"treatment\", 0.422158, 0.058509, 0.0001148886, 0.355164, 0.289542, 0.222755], [\"ALKBH7\", \"treatment\", 0.833047, 0.042711, 7.555058e-06, -0.259749, 0.242733, 0.306139], [\"ALOX5AP\", \"treatment\", -0.870763, 0.046242, 3.888676e-06, 0.5571, 0.126636, 0.000412], [\"ALYREF\", \"treatment\", 0.088474, 0.054502, 0.1123775, -0.393369, 0.277544, 0.174365], [\"AMD1\", \"treatment\", -0.067122, 0.035506, 0.04239152, -0.195705, 0.179657, 0.208958], [\"AMZ2\", \"treatment\", -0.286429, 0.063443, 0.0005381757, -0.375106, 0.286373, 0.210758], [\"ANAPC1\", \"treatment\", -0.338707, 0.095287, 0.001531422, -0.423, 0.229388, 0.068786], [\"ANAPC10\", \"treatment\", -0.392669, 0.084842, 0.0004843418, 0.068041, 0.215365, 0.59788], [\"ANAPC11\", \"treatment\", 0.27299, 0.030751, 3.571333e-05, -0.748084, 0.316834, 0.034993], [\"ANAPC15\", \"treatment\", 1.070132, 0.057486, 3.973738e-06, -0.203229, 0.210937, 0.364127], [\"ANAPC16\", \"treatment\", -0.364746, 0.026196, 1.212659e-05, -0.292862, 0.297339, 0.296941], [\"ANAPC4\", \"treatment\", 0.206779, 0.085199, 0.01619676, 0.631038, 0.226664, 0.006599], [\"ANAPC5\", \"treatment\", -0.014166, 0.037595, 0.6002799, 0.084561, 0.287326, 0.812238], [\"ANAPC7\", \"treatment\", -0.050985, 0.086713, 0.5490902, 0.122852, 0.224462, 0.469106], [\"ANGEL2\", \"treatment\", -0.024889, 0.070261, 0.6954609, 0.146387, 0.209946, 0.4979], [\"ANKIB1\", \"treatment\", 0.167782, 0.069918, 0.0179964, -0.470802, 0.217339, 0.05099], [\"ANKLE2\", \"treatment\", 0.412745, 0.058577, 0.0001576559, 0.069804, 0.194384, 0.723855], [\"ANKRA2\", \"treatment\", -0.381887, 0.081349, 0.00228226, -0.388868, 0.224921, 0.085783], [\"ANKRD10\", \"treatment\", 0.123437, 0.054241, 0.02759448, 0.154518, 0.259884, 0.518696], [\"ANKRD11\", \"treatment\", -0.080977, 0.030702, 0.00779844, -0.613459, 0.135571, 0.000742], [\"ANKRD12\", \"treatment\", -0.365988, 0.030471, 0.0002620065, -0.087284, 0.142663, 0.557489], [\"ANKRD13A\", \"treatment\", 0.783234, 0.060659, 6.383094e-06, 0.3987, 0.212515, 0.071586], [\"ANKRD13D\", \"treatment\", 0.605043, 0.037558, 2.87752e-06, 0.113572, 0.209004, 0.544491], [\"ANKRD17\", \"treatment\", 0.308454, 0.057396, 0.0001240004, -0.078768, 0.200564, 0.742452], [\"ANKRD28\", \"treatment\", 0.603569, 0.055861, 1.797449e-05, 0.509705, 0.156836, 0.002599], [\"SLF1\", \"treatment\", -0.433372, 0.095868, 0.0006568663, 0.581695, 0.262726, 0.020596], [\"ANKRD44\", \"treatment\", 0.135495, 0.033434, 0.002917187, -0.296408, 0.158172, 0.053189], [\"ANKRD49\", \"treatment\", -0.557411, 0.066302, 5.526142e-06, 0.032366, 0.215973, 0.892022], [\"ANKZF1\", \"treatment\", -0.297665, 0.075319, 0.000919327, -0.123812, 0.218591, 0.626875], [\"ANP32A\", \"treatment\", 0.444554, 0.028828, 3.140644e-06, -0.227067, 0.246217, 0.414917], [\"ANP32B\", \"treatment\", 0.62034, 0.027005, 2.159082e-07, -0.263172, 0.174525, 0.153169], [\"ANP32E\", \"treatment\", -0.432385, 0.044805, 3.70349e-05, 0.287071, 0.1639, 0.074385], [\"ANXA1\", \"treatment\", 1.46211, 0.020166, 4.172535e-08, 0.347727, 0.091987, 0.001071], [\"ANXA11\", \"treatment\", 0.071758, 0.030455, 0.02539492, -0.04377, 0.212262, 0.805039], [\"ANXA2\", \"treatment\", 1.5753, 0.02514, 1.939894e-07, -0.00632, 0.148184, 0.928614], [\"ANXA2R\", \"treatment\", -1.313942, 0.076294, 1.243611e-06, 0.442443, 0.40396, 0.20176], [\"ANXA4\", \"treatment\", 0.036673, 0.045328, 0.4273145, 0.057532, 0.203472, 0.780044], [\"ANXA5\", \"treatment\", 3.282306, 0.062104, 1.379192e-06, -0.44463, 0.166668, 0.006399], [\"ANXA6\", \"treatment\", -0.91652, 0.031697, 1.564604e-07, 0.056167, 0.168952, 0.627874], [\"ANXA7\", \"treatment\", 0.504767, 0.041091, 1.137017e-05, 0.038887, 0.316826, 0.938612], [\"AOAH\", \"treatment\", 0.476111, 0.02848, 7.760853e-06, 0.019978, 0.166931, 0.866027], [\"AP1G1\", \"treatment\", 0.42229, 0.070909, 0.000143975, -0.313547, 0.223941, 0.171166], [\"AP1G2\", \"treatment\", 0.05403, 0.081985, 0.5240952, 0.260439, 0.203158, 0.224955], [\"AP1M1\", \"treatment\", 0.265541, 0.06663, 0.001583852, -0.282733, 0.229077, 0.215757], [\"AP1S2\", \"treatment\", 2.784556, 0.040513, 1.63346e-06, 0.65521, 0.167083, 0.002016], [\"AP2A1\", \"treatment\", 0.274113, 0.04843, 0.0003659214, 0.078583, 0.259211, 0.858628], [\"AP2B1\", \"treatment\", -0.417969, 0.053552, 2.357508e-05, 0.292613, 0.259433, 0.24855], [\"AP2M1\", \"treatment\", 0.362639, 0.030533, 4.920976e-06, 0.412055, 0.29403, 0.138572], [\"AP2S1\", \"treatment\", 1.196096, 0.026018, 2.205045e-07, 0.240595, 0.695489, 0.643671], [\"AP3B1\", \"treatment\", 0.577394, 0.050491, 8.950411e-06, -0.045083, 0.181208, 0.854229], [\"AP3D1\", \"treatment\", 0.543523, 0.060105, 8.022222e-05, 0.145045, 0.226324, 0.591082], [\"AP3M1\", \"treatment\", 0.167694, 0.079661, 0.04339132, -0.43679, 0.266105, 0.087582], [\"AP3S1\", \"treatment\", 0.60854, 0.050813, 9.628163e-06, -0.129757, 0.250503, 0.628474], [\"AP5M1\", \"treatment\", 0.097212, 0.081459, 0.2473505, 0.025421, 0.214449, 0.841832], [\"APBB1IP\", \"treatment\", 0.108246, 0.029371, 0.00246814, 0.216743, 0.190452, 0.271746], [\"APC\", \"treatment\", 0.343477, 0.061454, 0.0001326887, 0.130991, 0.210598, 0.478704], [\"APEH\", \"treatment\", 0.166252, 0.072294, 0.0239952, 0.59688, 0.229204, 0.011398], [\"APH1A\", \"treatment\", 0.318997, 0.042121, 8.988223e-05, -0.215213, 0.382741, 0.547291], [\"API5\", \"treatment\", 0.25169, 0.062426, 0.0008795189, -0.164244, 0.239507, 0.525095], [\"APLP2\", \"treatment\", 2.065895, 0.031142, 3.988211e-08, 0.069867, 0.123201, 0.571686], [\"APMAP\", \"treatment\", -2.166212, 0.047835, 4.164477e-05, -0.24896, 0.229854, 0.25055], [\"NAXE\", \"treatment\", -0.496723, 0.059131, 0.00011718, 0.240373, 0.369163, 0.527295], [\"APOBEC3C\", \"treatment\", -0.589792, 0.045644, 8.776579e-06, -0.4041, 0.185942, 0.064387], [\"APOBEC3G\", \"treatment\", -1.98982, 0.041128, 2.416993e-06, -0.748631, 0.170207, 0.000788], [\"APOBR\", \"treatment\", 0.824099, 0.053029, 6.622427e-05, -0.404406, 0.188545, 0.022995], [\"APOL1\", \"treatment\", -0.651655, 0.093542, 0.0009652076, -0.030427, 0.201693, 0.844431], [\"APOL2\", \"treatment\", -0.395266, 0.071102, 0.0001773059, -0.165359, 0.230575, 0.474505], [\"APOL3\", \"treatment\", 0.48875, 0.060882, 1.406893e-05, 0.576642, 0.212875, 0.009598], [\"APOL6\", \"treatment\", -0.411001, 0.04111, 2.837578e-06, 0.225745, 0.13159, 0.087582], [\"COA8\", \"treatment\", 0.169318, 0.059123, 0.00559888, -0.066702, 0.292827, 0.796041], [\"APPL1\", \"treatment\", 0.253841, 0.049371, 0.0001863143, -0.042954, 0.218678, 0.817437], [\"APRT\", \"treatment\", 0.19652, 0.021016, 5.616212e-05, -0.314602, 0.211225, 0.162967], [\"AQR\", \"treatment\", 0.211425, 0.067311, 0.003793997, -0.234458, 0.23994, 0.391722], [\"ARAP1\", \"treatment\", 1.672901, 0.064175, 1.893018e-06, 0.081272, 0.218666, 0.69986], [\"ARAP2\", \"treatment\", -1.139189, 0.053049, 8.052396e-06, 0.23716, 0.174702, 0.135373], [\"ARCN1\", \"treatment\", 0.029956, 0.051013, 0.5940812, -0.056699, 0.196553, 0.709658], [\"AREG\", \"treatment\", -0.99765, 0.131663, 1.44496e-05, 1.190142, 0.209652, 0.000332], [\"ARF1\", \"treatment\", 0.251203, 0.023607, 3.129152e-05, -0.179657, 0.221818, 0.39772], [\"ARF3\", \"treatment\", 0.978904, 0.054099, 1.125496e-06, -0.692394, 0.324255, 0.034193], [\"ARF4\", \"treatment\", 0.350804, 0.045207, 4.217713e-06, -0.611759, 0.430917, 0.133173], [\"ARF5\", \"treatment\", 0.519064, 0.048664, 6.242766e-05, -0.257769, 0.241233, 0.237153], [\"ARF6\", \"treatment\", -0.185321, 0.028755, 0.0003819952, 0.186195, 0.185173, 0.277345], [\"ARFGAP2\", \"treatment\", -0.073564, 0.050453, 0.1277744, -0.227456, 0.24191, 0.373725], [\"ARFGAP3\", \"treatment\", -0.163659, 0.048912, 0.004417619, 0.361955, 0.204852, 0.055789], [\"ARFGEF1\", \"treatment\", 0.338025, 0.050379, 4.180941e-05, 0.25319, 0.197002, 0.222156], [\"ARFIP1\", \"treatment\", 0.51568, 0.069961, 0.0001202462, 0.342432, 0.192386, 0.076385], [\"ARFIP2\", \"treatment\", -0.136712, 0.084313, 0.0869826, 0.125175, 0.228963, 0.60048], [\"ARFRP1\", \"treatment\", -0.395977, 0.067002, 0.0001404865, -0.139959, 0.278353, 0.603679], [\"ARGLU1\", \"treatment\", -0.290115, 0.02446, 2.346608e-07, -0.463503, 0.164838, 0.007199], [\"ARHGAP1\", \"treatment\", 0.179865, 0.064658, 0.00779844, -0.290791, 0.215273, 0.152769], [\"ARHGAP10\", \"treatment\", -0.463025, 0.088821, 0.001519608, 0.105501, 0.20523, 0.626475], [\"ARHGAP12\", \"treatment\", -0.382785, 0.087716, 0.0004748916, -0.223285, 0.250939, 0.393721], [\"ARHGAP15\", \"treatment\", -0.509063, 0.052374, 2.84587e-05, 0.227063, 0.233242, 0.284343], [\"ARHGAP18\", \"treatment\", 0.321567, 0.069948, 0.0003962311, 0.392248, 0.21008, 0.069986], [\"ARHGAP25\", \"treatment\", -0.686114, 0.048557, 0.0002667383, -0.144489, 0.205678, 0.536693], [\"ARHGAP26\", \"treatment\", 0.928414, 0.041231, 4.149437e-07, -0.026493, 0.160234, 0.753649], [\"ARHGAP30\", \"treatment\", 0.071615, 0.028515, 0.01859628, -0.15178, 0.171802, 0.403519], [\"ARHGAP4\", \"treatment\", 0.540884, 0.042915, 3.182153e-06, -0.370877, 0.300621, 0.19956], [\"ARHGAP9\", \"treatment\", -0.652824, 0.03347, 9.798625e-05, -0.646735, 0.178434, 0.002308], [\"ARHGDIA\", \"treatment\", 0.349706, 0.031265, 3.577967e-05, 0.048632, 0.172985, 0.784243], [\"ARHGDIB\", \"treatment\", 0.031492, 0.014673, 0.04739052, -0.128811, 0.119894, 0.366527], [\"ARHGEF1\", \"treatment\", -0.555984, 0.033791, 8.634154e-08, 0.046931, 0.205738, 0.834033], [\"ARHGEF2\", \"treatment\", 0.748297, 0.0559, 2.206298e-05, -0.210083, 0.277256, 0.412717], [\"ARHGEF3\", \"treatment\", -1.044509, 0.05644, 3.105854e-07, -0.085026, 0.191088, 0.640072], [\"ARHGEF6\", \"treatment\", 0.762782, 0.055472, 2.41775e-06, 0.237738, 0.225708, 0.264747], [\"ARHGEF7\", \"treatment\", 0.232591, 0.08195, 0.00539892, 0.217792, 0.202783, 0.24875], [\"ARID1A\", \"treatment\", 0.770186, 0.041213, 6.707642e-07, -0.306173, 0.195042, 0.112378], [\"ARID1B\", \"treatment\", 0.251463, 0.035401, 4.807961e-05, -0.326973, 0.161637, 0.039192], [\"ARID2\", \"treatment\", 0.154648, 0.062969, 0.0179964, -0.282727, 0.228938, 0.186363], [\"ARID4A\", \"treatment\", 0.321967, 0.046323, 0.001062497, -0.280834, 0.152555, 0.060988], [\"ARID4B\", \"treatment\", -0.22231, 0.031122, 0.0006039214, -0.130399, 0.135649, 0.332334], [\"ARID5A\", \"treatment\", -0.365776, 0.046181, 2.753374e-05, 0.194335, 0.19028, 0.25015], [\"ARIH1\", \"treatment\", 0.460433, 0.057867, 3.432026e-05, 0.186025, 0.211174, 0.435913], [\"ARIH2\", \"treatment\", -0.527892, 0.052602, 2.303649e-05, 0.194241, 0.198944, 0.327135], [\"ARL1\", \"treatment\", -0.017462, 0.073979, 0.8196361, 0.02029, 0.232324, 0.876025], [\"ARL14EP\", \"treatment\", 0.049036, 0.057421, 0.3889222, -0.03424, 0.199454, 0.925815], [\"ARL16\", \"treatment\", -0.320072, 0.060311, 0.0001650766, -0.82745, 0.441062, 0.097381], [\"ARL2\", \"treatment\", -0.206755, 0.05536, 0.0008847911, -0.012005, 0.283979, 0.966207], [\"ARL2BP\", \"treatment\", 0.041132, 0.052148, 0.4447111, 0.185341, 0.225089, 0.4999], [\"ARL4A\", \"treatment\", 1.042982, 0.04548, 3.329939e-07, 0.30549, 0.146022, 0.044391], [\"ARL4C\", \"treatment\", -2.366765, 0.043937, 5.007814e-05, 1.493314, 0.104449, 1.1e-05], [\"ARL5A\", \"treatment\", 0.73985, 0.070889, 4.048249e-05, 0.067954, 0.229877, 0.754449], [\"ARL6IP1\", \"treatment\", -0.179308, 0.044396, 0.0008847312, 0.016882, 0.221964, 0.989602], [\"ARL6IP4\", \"treatment\", 0.281573, 0.022512, 6.320346e-06, 0.21185, 0.244484, 0.437113], [\"ARL6IP5\", \"treatment\", 0.068936, 0.021404, 0.002922785, 0.289058, 0.163839, 0.067387], [\"ARL6IP6\", \"treatment\", -0.281497, 0.069318, 0.0009636473, 0.334713, 0.254394, 0.197361], [\"ARL8A\", \"treatment\", 0.421303, 0.052414, 9.872576e-05, -0.211066, 0.330349, 0.515297], [\"ARL8B\", \"treatment\", 1.046152, 0.06124, 2.677826e-06, 0.206864, 0.191407, 0.308738], [\"ARMC1\", \"treatment\", -0.06747, 0.069129, 0.3085383, -0.018329, 0.20847, 0.959808], [\"ARMC8\", \"treatment\", 0.220296, 0.065066, 0.002609675, 0.25751, 0.243167, 0.322735], [\"ARMCX3\", \"treatment\", 0.356745, 0.06722, 0.0001033895, 0.392033, 0.200928, 0.058988], [\"ARMCX6\", \"treatment\", -0.403438, 0.075521, 0.0001333527, 0.110747, 0.282483, 0.640272], [\"ARMT1\", \"treatment\", 0.369771, 0.07946, 0.0003092254, 0.0876, 0.228313, 0.655869], [\"ARNTL\", \"treatment\", -0.574043, 0.073075, 0.0007406926, 0.250195, 0.236962, 0.272945], [\"ARPC1A\", \"treatment\", 0.650816, 0.063549, 1.18651e-05, -0.23444, 0.301189, 0.440912], [\"ARPC1B\", \"treatment\", 0.956579, 0.019702, 1.065863e-06, -0.458975, 0.146098, 0.004199], [\"ARPC2\", \"treatment\", 0.070273, 0.01342, 0.002071932, -0.461499, 0.10159, 0.000616], [\"ARPC3\", \"treatment\", 0.773915, 0.01281, 4.251496e-05, -0.358152, 0.144815, 0.019996], [\"ARPC4\", \"treatment\", 0.062464, 0.02419, 0.014997, -0.256123, 0.21306, 0.232753], [\"ARPC5\", \"treatment\", 0.665395, 0.01846, 4.429099e-07, -0.242982, 0.141752, 0.083383], [\"ARPC5L\", \"treatment\", -1.711378, 0.041369, 1.019438e-08, -0.100516, 0.213805, 0.713057], [\"ARPP19\", \"treatment\", -0.126543, 0.052535, 0.0139972, 0.101572, 0.213711, 0.644671], [\"ARRB1\", \"treatment\", 0.828855, 0.063002, 2.632222e-05, 0.104222, 0.245659, 0.694661], [\"ARRB2\", \"treatment\", 1.311524, 0.031515, 6.400949e-07, -0.259008, 0.20229, 0.136773], [\"ARRDC1\", \"treatment\", 0.819661, 0.058351, 6.670398e-06, -0.462362, 0.373056, 0.242152], [\"ARRDC2\", \"treatment\", 0.10877, 0.065893, 0.1171766, -0.393704, 0.257183, 0.145171], [\"ARRDC3\", \"treatment\", 0.201577, 0.05605, 0.001462881, 0.267908, 0.197834, 0.208158], [\"ARSG\", \"treatment\", -0.23363, 0.08603, 0.00779844, 0.273677, 0.220104, 0.209158], [\"ASAH1\", \"treatment\", 1.848295, 0.034275, 8.938493e-08, 0.052921, 0.145803, 0.827035], [\"ASB8\", \"treatment\", 0.020162, 0.055429, 0.7386523, -0.52087, 0.273235, 0.061588], [\"ASCC2\", \"treatment\", 0.070221, 0.06507, 0.304939, 0.135129, 0.221251, 0.540892], [\"ASCC3\", \"treatment\", -0.043869, 0.064671, 0.4531094, -0.159373, 0.210968, 0.433713], [\"ASCL2\", \"treatment\", -1.261685, 0.051347, 1.206179e-07, -1.382163, 0.180012, 7.4e-05], [\"ASF1A\", \"treatment\", -0.37897, 0.083308, 0.0001470432, 0.102408, 0.256437, 0.613877], [\"ASH1L\", \"treatment\", 0.483554, 0.042813, 1.932688e-05, -0.243836, 0.203995, 0.175365], [\"ASH2L\", \"treatment\", 0.01804, 0.075091, 0.8326335, -0.168877, 0.244489, 0.490902], [\"ASL\", \"treatment\", 0.019141, 0.07285, 0.7886423, -0.399187, 0.250854, 0.143571], [\"GET3\", \"treatment\", 0.154289, 0.046646, 0.001733609, 0.211014, 0.293581, 0.389522], [\"ASNSD1\", \"treatment\", -0.220783, 0.064319, 0.001800355, -0.251648, 0.300131, 0.417916], [\"ASPSCR1\", \"treatment\", 0.054731, 0.072831, 0.5194961, -0.347433, 0.245331, 0.146171], [\"ASXL1\", \"treatment\", 0.015471, 0.066121, 0.7786443, 0.002256, 0.228099, 0.908618], [\"ATAD1\", \"treatment\", -0.8271, 0.079717, 9.516971e-07, -0.556636, 0.203329, 0.009798], [\"ATAD2B\", \"treatment\", 0.59509, 0.059606, 7.788693e-05, 0.027192, 0.224975, 0.910418], [\"ATE1\", \"treatment\", -0.14426, 0.084486, 0.08558288, -0.178547, 0.281986, 0.464107], [\"ATF1\", \"treatment\", -0.029376, 0.066378, 0.6106779, -0.567511, 0.263924, 0.05019], [\"ATF2\", \"treatment\", 0.200236, 0.068065, 0.00379924, -0.311128, 0.251915, 0.214157], [\"ATF4\", \"treatment\", 0.626667, 0.033731, 1.253649e-05, -0.315389, 0.15339, 0.031994], [\"ATF6\", \"treatment\", 1.144702, 0.065857, 3.097852e-06, 0.120497, 0.230408, 0.623875], [\"ATF7IP\", \"treatment\", 0.228261, 0.04337, 0.0002713398, 0.219279, 0.141112, 0.125375], [\"ATF7IP2\", \"treatment\", -0.807652, 0.09006, 3.761071e-05, 0.465077, 0.227458, 0.035793], [\"ATG101\", \"treatment\", 0.159931, 0.06211, 0.01159768, 0.006554, 0.248881, 0.980004], [\"ATG12\", \"treatment\", -0.224017, 0.042732, 0.0001010808, -0.349979, 0.191905, 0.070986], [\"ATG13\", \"treatment\", 0.051241, 0.077411, 0.5440912, -0.292328, 0.281266, 0.230154], [\"ATG14\", \"treatment\", 0.018071, 0.089525, 0.9192162, 0.418377, 0.212514, 0.064987], [\"ATG16L2\", \"treatment\", 1.157674, 0.051905, 1.221782e-05, -0.004733, 0.19816, 0.969606], [\"ATG2A\", \"treatment\", -0.125624, 0.06622, 0.05938812, 0.253682, 0.214977, 0.268146], [\"ATG3\", \"treatment\", 1.511175, 0.043798, 2.223476e-06, -0.51735, 0.206899, 0.019396], [\"ATG4B\", \"treatment\", 0.213182, 0.065363, 0.003314233, 0.129687, 0.263719, 0.625875], [\"ATG5\", \"treatment\", -0.257543, 0.059142, 0.0003875634, 0.066603, 0.23233, 0.721656], [\"ATIC\", \"treatment\", -0.2329, 0.087158, 0.00519896, -0.201991, 0.260106, 0.439112], [\"ATL3\", \"treatment\", 0.132367, 0.066801, 0.05418916, 0.381766, 0.193249, 0.055589], [\"ATM\", \"treatment\", -0.935101, 0.032166, 1.17922e-06, 0.104969, 0.149013, 0.512498], [\"ATOX1\", \"treatment\", 0.569489, 0.037629, 2.131695e-06, -0.522117, 0.184907, 0.005599], [\"ATP11B\", \"treatment\", -0.010153, 0.064012, 0.8390322, 0.12516, 0.210629, 0.582284], [\"ATP13A3\", \"treatment\", 0.657259, 0.080336, 4.250081e-05, -0.057101, 0.285037, 0.846231], [\"ATP1A1\", \"treatment\", 0.788628, 0.04795, 0.000223387, -0.002039, 0.223594, 0.95141], [\"ATP1B3\", \"treatment\", 0.524745, 0.037899, 2.474289e-05, 0.040068, 0.185916, 0.767846], [\"ATP2A2\", \"treatment\", 1.004142, 0.064527, 1.227026e-05, 0.287634, 0.209816, 0.154169], [\"ATP2A3\", \"treatment\", -0.765102, 0.075627, 3.127313e-05, 0.214533, 0.25196, 0.456909], [\"ATP2B1\", \"treatment\", 1.398445, 0.050104, 3.742863e-06, 0.42581, 0.14989, 0.006199], [\"ATP2B4\", \"treatment\", -0.937101, 0.056749, 2.931208e-07, 0.01519, 0.191626, 0.989802], [\"ATP5F1A\", \"treatment\", 0.570807, 0.031521, 0.0001081488, 0.015914, 0.159833, 0.972006], [\"ATP5F1B\", \"treatment\", 0.49067, 0.026292, 8.363205e-06, 0.538724, 0.245512, 0.034393], [\"ATP5F1C\", \"treatment\", 0.363819, 0.027318, 1.970075e-06, 0.201903, 0.381337, 0.611878], [\"ATP5F1D\", \"treatment\", 0.394263, 0.022135, 9.198901e-05, -0.408878, 0.282968, 0.140972], [\"ATP5F1E\", \"treatment\", 0.801358, 0.011205, 3.431452e-05, -0.780199, 0.105309, 0.000132], [\"ATP5PB\", \"treatment\", 0.48926, 0.028869, 3.355649e-06, 0.14561, 0.209495, 0.574885], [\"ATP5MC1\", \"treatment\", 0.414806, 0.037986, 4.6189e-05, -0.016517, 0.297315, 0.978204], [\"ATP5MC2\", \"treatment\", 0.784198, 0.016552, 9.927822e-08, -0.039978, 0.27719, 0.813237], [\"ATP5MC3\", \"treatment\", 0.292603, 0.021899, 4.229689e-06, 1.186394, 0.486281, 0.030194], [\"ATP5PD\", \"treatment\", 0.769535, 0.027968, 2.360556e-06, -0.356265, 0.24193, 0.14897], [\"ATP5ME\", \"treatment\", 0.355013, 0.020893, 8.827799e-06, -0.391316, 0.217896, 0.094181], [\"ATP5PF\", \"treatment\", 0.204657, 0.023041, 6.193685e-06, -0.308677, 0.317925, 0.371326], [\"ATP5MF\", \"treatment\", 0.472646, 0.02316, 8.571698e-06, 0.311647, 0.447484, 0.485503], [\"ATP5MG\", \"treatment\", 0.590518, 0.014755, 6.72131e-08, -0.503371, 0.214487, 0.019796], [\"ATP5PO\", \"treatment\", 0.55013, 0.029068, 3.641607e-06, 0.00126, 0.223337, 0.946611], [\"DMAC2L\", \"treatment\", 0.099901, 0.069147, 0.1719656, -0.087371, 0.20533, 0.596881], [\"DMAC2\", \"treatment\", -0.140943, 0.08516, 0.1045791, 0.135807, 0.26651, 0.636273], [\"MT-ATP6\", \"treatment\", -0.115858, 0.009129, 1.034745e-05, 0.048725, 0.053277, 0.211358], [\"ATP6AP1\", \"treatment\", 0.880828, 0.048975, 0.0002373579, 0.081546, 0.29729, 0.791042], [\"ATP6AP2\", \"treatment\", 0.690452, 0.028657, 9.702006e-07, 0.690074, 0.291287, 0.031594], [\"ATP6V0A2\", \"treatment\", -0.375277, 0.089483, 0.002424334, -0.181887, 0.169688, 0.303739], [\"ATP6V0B\", \"treatment\", 1.357582, 0.02697, 8.275548e-06, 0.250339, 0.236443, 0.332533], [\"ATP6V0D1\", \"treatment\", 1.240083, 0.037671, 1.63305e-06, -0.078398, 0.261879, 0.811838], [\"ATP6V0E1\", \"treatment\", 0.374188, 0.018872, 1.252723e-06, 1.011291, 0.51288, 0.04819], [\"ATP6V1D\", \"treatment\", 0.112303, 0.052197, 0.03439312, -0.575718, 0.290521, 0.079784], [\"ATP6V1E1\", \"treatment\", 0.479449, 0.047671, 0.000444058, -0.142458, 0.190847, 0.421116], [\"ATP6V1F\", \"treatment\", 0.793044, 0.025204, 4.041202e-09, 1.077271, 0.500353, 0.05199], [\"ATP6V1G1\", \"treatment\", 0.440145, 0.023792, 3.709987e-06, 0.690413, 0.372224, 0.089582], [\"ATP6V1H\", \"treatment\", -0.39414, 0.064101, 0.001430743, -0.206016, 0.225687, 0.374925], [\"MT-ATP8\", \"treatment\", 0.499148, 0.03202, 0.0001211622, 0.081532, 0.171803, 0.69866], [\"ATP8A1\", \"treatment\", -1.133442, 0.097799, 1.112371e-05, 0.198682, 0.274104, 0.454309], [\"ATRAID\", \"treatment\", -0.009516, 0.036313, 0.744851, 0.30383, 0.424876, 0.488302], [\"ATRX\", \"treatment\", -0.103729, 0.031275, 0.00219531, 0.064374, 0.111068, 0.5003], [\"ATXN1\", \"treatment\", 0.941297, 0.065771, 3.698723e-06, 0.405752, 0.184893, 0.043991], [\"ATXN10\", \"treatment\", 0.033565, 0.047462, 0.4507099, 0.145251, 0.30436, 0.583883], [\"ATXN2\", \"treatment\", 0.59409, 0.060099, 4.979097e-05, -0.135132, 0.178067, 0.467107], [\"ATXN2L\", \"treatment\", 0.33857, 0.054962, 0.0001814446, -0.290496, 0.251648, 0.259748], [\"ATXN3\", \"treatment\", 0.826008, 0.068352, 6.79813e-06, 0.396228, 0.195051, 0.042991], [\"ATXN7L3B\", \"treatment\", -0.503571, 0.044683, 5.810939e-06, 0.223788, 0.172671, 0.209158], [\"AUP1\", \"treatment\", 0.347841, 0.043674, 0.0001680976, -0.15562, 0.225739, 0.526895], [\"AURKAIP1\", \"treatment\", 0.30407, 0.028684, 4.192467e-05, -0.409528, 0.686318, 0.476505], [\"AXIN1\", \"treatment\", -1.538376, 0.085358, 5.728233e-06, -0.151381, 0.22833, 0.505899], [\"AZI2\", \"treatment\", 1.463426, 0.063329, 1.030208e-06, 0.528372, 0.180158, 0.010398], [\"AZIN1\", \"treatment\", 0.797466, 0.06517, 1.644704e-06, 0.133301, 0.225246, 0.506499], [\"B3GALT6\", \"treatment\", -0.314176, 0.088817, 0.001623244, -0.174797, 0.223095, 0.438512], [\"B3GAT3\", \"treatment\", -0.414706, 0.058826, 0.0001032955, -0.328856, 0.336247, 0.341332], [\"B3GNT2\", \"treatment\", -0.090826, 0.086415, 0.2637473, -0.14015, 0.237882, 0.529294], [\"B4GALT1\", \"treatment\", -0.017251, 0.04999, 0.7008598, 0.038927, 0.191421, 0.89762], [\"B4GALT3\", \"treatment\", -0.508041, 0.08527, 0.0002041387, -0.185065, 0.337403, 0.504499], [\"B4GALT4\", \"treatment\", -1.161282, 0.091936, 1.945256e-06, -0.242286, 0.230323, 0.319136], [\"BABAM1\", \"treatment\", 0.117131, 0.053546, 0.0339932, -0.098128, 0.266966, 0.774645], [\"BACH1\", \"treatment\", 1.849254, 0.061983, 7.782367e-07, 0.220336, 0.217274, 0.440512], [\"BAD\", \"treatment\", 0.061833, 0.063817, 0.3931214, -0.036625, 0.291811, 0.816237], [\"BAG1\", \"treatment\", 0.306571, 0.039436, 5.356433e-05, -0.036288, 0.213451, 0.816037], [\"BAG5\", \"treatment\", -0.358036, 0.056747, 0.0001491463, 0.051678, 0.188539, 0.742452], [\"BANF1\", \"treatment\", -0.170098, 0.033674, 0.001280179, 0.225867, 0.218342, 0.278344], [\"BANP\", \"treatment\", 0.288487, 0.081292, 0.002940108, -0.244223, 0.242718, 0.323935], [\"BATF\", \"treatment\", -1.131579, 0.063116, 9.786813e-06, 0.01594, 0.21752, 0.986603], [\"BAX\", \"treatment\", 0.028895, 0.03052, 0.3763247, -0.903439, 0.195072, 0.00058], [\"BAZ1A\", \"treatment\", 0.372574, 0.036179, 1.776367e-05, 0.066247, 0.141014, 0.643671], [\"BAZ1B\", \"treatment\", 0.037514, 0.052786, 0.4793041, -0.224449, 0.197318, 0.281744], [\"BAZ2A\", \"treatment\", 0.482977, 0.050705, 0.0006155108, -0.056097, 0.189812, 0.792841], [\"BAZ2B\", \"treatment\", 1.646017, 0.057473, 2.008288e-10, -0.044659, 0.149078, 0.656069], [\"BBC3\", \"treatment\", -0.311707, 0.075192, 0.0009467064, 0.049646, 0.261785, 0.757648], [\"BBX\", \"treatment\", -0.199159, 0.046306, 0.002360597, -0.277652, 0.175526, 0.103979], [\"BCAP31\", \"treatment\", 0.036233, 0.034523, 0.3205359, 0.310569, 0.280589, 0.284543], [\"BCAS2\", \"treatment\", -0.371644, 0.045355, 2.062882e-05, -0.428366, 0.420552, 0.285343], [\"BCCIP\", \"treatment\", 0.252692, 0.072453, 0.00182192, 0.107072, 0.204846, 0.576285], [\"BCL10\", \"treatment\", 0.456919, 0.070451, 0.0002459872, 0.055333, 0.204627, 0.819636], [\"BCL2L13\", \"treatment\", 0.749992, 0.075844, 1.71307e-05, -0.197716, 0.241771, 0.389522], [\"BCL7B\", \"treatment\", -0.133833, 0.053836, 0.01379724, 0.014558, 0.237953, 0.933813], [\"BCL7C\", \"treatment\", -0.39727, 0.039116, 1.462033e-05, -0.300495, 0.302766, 0.384723], [\"BCL9L\", \"treatment\", -1.498709, 0.083595, 3.773538e-07, -0.228757, 0.208248, 0.303939], [\"BCLAF1\", \"treatment\", 0.516688, 0.030094, 1.141188e-06, -0.24133, 0.120207, 0.043991], [\"BECN1\", \"treatment\", 0.413562, 0.056839, 0.001164463, -0.093856, 0.227992, 0.756049], [\"BEX4\", \"treatment\", -0.888239, 0.06536, 1.284147e-05, 0.27643, 0.216465, 0.228554], [\"BHLHE40\", \"treatment\", -0.00089, 0.052167, 0.9112178, 0.646193, 0.165803, 0.001039], [\"BID\", \"treatment\", 1.017853, 0.039404, 4.487265e-07, 1.021916, 0.374106, 0.026395], [\"BIN1\", \"treatment\", -2.624111, 0.069896, 2.403771e-06, -0.161816, 0.221386, 0.589482], [\"BIN2\", \"treatment\", -0.584112, 0.022612, 4.707153e-06, -0.102883, 0.18125, 0.526895], [\"BIN3\", \"treatment\", 0.137029, 0.076307, 0.08858228, -0.071285, 0.269619, 0.810638], [\"BIRC2\", \"treatment\", 0.388654, 0.045476, 2.411001e-05, 0.244315, 0.259347, 0.387522], [\"BIRC6\", \"treatment\", 0.128596, 0.041158, 0.00239952, -0.36866, 0.239505, 0.118976], [\"BISPR\", \"treatment\", -0.271877, 0.086248, 0.001766146, 0.120215, 0.207434, 0.532094], [\"BLCAP\", \"treatment\", 0.528041, 0.06435, 0.0009559044, -0.572184, 0.3571, 0.093181], [\"BLMH\", \"treatment\", -0.203354, 0.086223, 0.02139572, 0.367181, 0.206174, 0.058588], [\"BLOC1S1\", \"treatment\", 0.645344, 0.026968, 6.68157e-06, 0.171478, 0.189307, 0.395721], [\"BLOC1S2\", \"treatment\", 0.445842, 0.044164, 2.559499e-06, 0.350081, 0.31634, 0.345531], [\"BLOC1S4\", \"treatment\", -0.696298, 0.055384, 1.825756e-05, -0.108874, 0.251775, 0.645671], [\"BLOC1S6\", \"treatment\", 0.73481, 0.04798, 2.642172e-05, 0.148334, 0.168391, 0.385123], [\"BLVRA\", \"treatment\", 1.846291, 0.05997, 5.736481e-07, 0.213284, 0.203442, 0.25115], [\"BLVRB\", \"treatment\", 2.771817, 0.052793, 5.403208e-07, -0.093944, 0.16645, 0.474705], [\"BMS1\", \"treatment\", -0.048441, 0.073338, 0.4757049, 0.350108, 0.216695, 0.122176], [\"BNIP2\", \"treatment\", 0.907765, 0.03863, 9.49478e-05, 0.033853, 0.189176, 0.89962], [\"BNIP3L\", \"treatment\", 1.79605, 0.045382, 5.373156e-05, 0.063791, 0.193485, 0.923615], [\"BOD1\", \"treatment\", -0.080863, 0.078914, 0.3093381, 0.004973, 0.233271, 0.9998], [\"BOD1L1\", \"treatment\", 0.180869, 0.031264, 0.0001751795, -0.197835, 0.117243, 0.095981], [\"BPGM\", \"treatment\", -0.933303, 0.09506, 1.947999e-05, -0.395854, 0.24893, 0.130374], [\"BPTF\", \"treatment\", -0.037726, 0.031414, 0.2031594, -0.417715, 0.121735, 0.002223], [\"BRAF\", \"treatment\", 0.179595, 0.063362, 0.0059988, 0.078045, 0.249243, 0.682663], [\"BRCC3\", \"treatment\", 0.034353, 0.077494, 0.6616677, -0.125372, 0.19602, 0.533493], [\"BRD1\", \"treatment\", -0.264456, 0.064604, 0.0009043208, -0.124832, 0.238613, 0.59848], [\"BRD3\", \"treatment\", 0.649622, 0.065008, 9.983142e-06, -0.38314, 0.222248, 0.096181], [\"BRD4\", \"treatment\", 0.584308, 0.041595, 1.271444e-06, -0.138009, 0.192586, 0.435313], [\"BRD7\", \"treatment\", -0.250182, 0.037806, 0.0009534543, -0.602803, 0.221137, 0.016597], [\"BRD8\", \"treatment\", -0.168191, 0.078505, 0.03179364, -0.122515, 0.208035, 0.517497], [\"BRD9\", \"treatment\", -0.061095, 0.063299, 0.3045391, -0.064484, 0.243071, 0.803439], [\"BABAM2\", \"treatment\", 0.256458, 0.067532, 0.003264606, 0.051476, 0.243934, 0.95101], [\"BRI3\", \"treatment\", 2.867403, 0.033063, 4.975798e-08, 0.031788, 0.229983, 0.788042], [\"BRIX1\", \"treatment\", -0.790993, 0.076435, 2.872373e-05, 0.195238, 0.275218, 0.352729], [\"BRK1\", \"treatment\", 0.403084, 0.022459, 7.566825e-08, -0.027183, 0.408636, 0.943411], [\"BRMS1\", \"treatment\", 0.188918, 0.047801, 0.0008691951, -0.143083, 0.460857, 0.844631], [\"BROX\", \"treatment\", 0.210828, 0.051018, 0.0009515126, -0.535023, 0.25329, 0.037393], [\"BRWD1\", \"treatment\", 0.20934, 0.055061, 0.0006880138, 0.242791, 0.179264, 0.187962], [\"BSDC1\", \"treatment\", -0.149266, 0.074562, 0.04439112, 0.288881, 0.224164, 0.189162], [\"BSG\", \"treatment\", -0.182575, 0.031854, 0.0002227866, -0.138797, 0.241378, 0.558688], [\"BST2\", \"treatment\", 0.104616, 0.02604, 0.0006378724, 0.221702, 0.156939, 0.219356], [\"BTAF1\", \"treatment\", 0.561425, 0.070365, 1.990052e-05, 0.230913, 0.228869, 0.376925], [\"BTBD6\", \"treatment\", -1.018105, 0.085481, 6.892627e-06, 0.047483, 0.210582, 0.860028], [\"BTF3\", \"treatment\", 0.597268, 0.015202, 7.066453e-05, 0.338633, 0.170573, 0.034993], [\"BTF3L4\", \"treatment\", 0.671647, 0.048725, 0.0003150024, -0.019289, 0.224122, 0.94821], [\"BTG1\", \"treatment\", -0.086963, 0.016537, 0.001007803, 0.276708, 0.070961, 0.001021], [\"BTG2\", \"treatment\", 0.385039, 0.031183, 8.469885e-06, 0.600011, 0.120743, 0.000421], [\"BTN3A1\", \"treatment\", -0.874755, 0.065147, 1.057076e-07, -0.329004, 0.237908, 0.194761], [\"BTN3A2\", \"treatment\", -1.165746, 0.0399, 5.848164e-08, -0.119495, 0.181647, 0.533093], [\"BTN3A3\", \"treatment\", -0.666961, 0.070188, 0.0005916209, -0.443452, 0.228836, 0.061788], [\"BUB3\", \"treatment\", -0.673174, 0.043139, 0.0002211206, -0.268671, 0.24015, 0.229354], [\"BUD31\", \"treatment\", -0.030143, 0.033879, 0.3761248, 0.026417, 0.397061, 0.992601], [\"BZW1\", \"treatment\", -0.392498, 0.027797, 7.185248e-06, 0.130891, 0.161676, 0.40012], [\"C11orf21\", \"treatment\", 0.344728, 0.05557, 0.0002776882, 0.001611, 0.215403, 0.944211], [\"C11orf58\", \"treatment\", -0.08298, 0.027202, 0.003243267, -0.336344, 0.246331, 0.19776], [\"C12orf43\", \"treatment\", -0.099697, 0.088723, 0.2521496, -0.235356, 0.208926, 0.245151], [\"C12orf57\", \"treatment\", 0.038107, 0.036255, 0.3189362, 1.139426, 0.116556, 8.1e-05], [\"C12orf76\", \"treatment\", -0.07128, 0.07776, 0.344931, -0.090648, 0.212478, 0.579684], [\"C14orf119\", \"treatment\", 0.099337, 0.051911, 0.05978804, -0.514338, 0.38584, 0.160568], [\"C15orf40\", \"treatment\", -0.125231, 0.066912, 0.05558888, -0.141614, 0.211887, 0.511698], [\"C15orf61\", \"treatment\", -0.023544, 0.065359, 0.679864, -0.285026, 0.232162, 0.236353], [\"C16orf54\", \"treatment\", 0.061671, 0.048964, 0.2211558, 0.042861, 0.175793, 0.790442], [\"C16orf87\", \"treatment\", 0.463591, 0.076377, 0.0001982132, 0.225191, 0.193995, 0.228754], [\"C18orf32\", \"treatment\", -0.007427, 0.07886, 0.8718256, -0.027693, 0.234832, 0.917816], [\"C19orf25\", \"treatment\", -0.394443, 0.055971, 3.949585e-05, 0.314125, 0.254182, 0.179564], [\"C19orf53\", \"treatment\", 0.221721, 0.026173, 1.975806e-05, -0.362917, 0.331126, 0.273345], [\"C1D\", \"treatment\", -0.046164, 0.043669, 0.2615477, 0.391671, 0.372649, 0.233153], [\"C1GALT1\", \"treatment\", -0.240543, 0.053229, 0.0005119904, 0.521204, 0.179148, 0.005799], [\"C1QBP\", \"treatment\", 0.03405, 0.035927, 0.3939212, 0.02835, 0.318338, 0.924415], [\"C1orf122\", \"treatment\", -0.288801, 0.052759, 0.0002796514, 0.214355, 0.236392, 0.319736], [\"C1orf131\", \"treatment\", -0.29632, 0.064823, 0.0002047316, -0.137549, 0.180465, 0.528094], [\"C1orf162\", \"treatment\", 0.640351, 0.021967, 6.551602e-07, -0.281217, 0.116216, 0.015397], [\"C1orf174\", \"treatment\", -0.727349, 0.062301, 7.725527e-06, 0.04239, 0.248706, 0.940212], [\"C1orf35\", \"treatment\", -0.076706, 0.063916, 0.2127574, 0.070988, 0.204813, 0.689062], [\"C1orf43\", \"treatment\", 0.599107, 0.042355, 6.038455e-06, 0.543696, 0.282114, 0.083183], [\"C1orf52\", \"treatment\", -0.181888, 0.066085, 0.00559888, -0.364095, 0.218009, 0.104779], [\"C1orf56\", \"treatment\", -1.019118, 0.058805, 1.403461e-06, 0.082891, 0.195415, 0.686663], [\"C21orf91\", \"treatment\", -0.055371, 0.074807, 0.4911018, 0.253907, 0.203256, 0.192162], [\"C22orf39\", \"treatment\", 0.071727, 0.05954, 0.2453509, -0.035534, 0.245885, 0.872426], [\"C2orf49\", \"treatment\", 0.120924, 0.075517, 0.1157768, -0.018008, 0.195519, 0.879624], [\"C2orf76\", \"treatment\", -0.146693, 0.087327, 0.0929814, -0.02775, 0.234473, 0.872625], [\"C3orf38\", \"treatment\", 0.160196, 0.066261, 0.01819636, 0.116367, 0.359238, 0.574885], [\"C4orf3\", \"treatment\", 0.208973, 0.024087, 3.497905e-05, 0.603489, 0.369767, 0.119376], [\"C4orf48\", \"treatment\", 2.539719, 0.069948, 5.110382e-07, -1.104036, 0.243353, 0.000891], [\"C5orf24\", \"treatment\", -0.099737, 0.063419, 0.115177, 0.027661, 0.201474, 0.804639], [\"C6orf226\", \"treatment\", -0.347712, 0.068047, 0.0001511282, -0.640817, 0.323276, 0.067187], [\"C6orf62\", \"treatment\", 0.53951, 0.035446, 1.204916e-07, -0.449913, 0.16349, 0.011398], [\"C6orf89\", \"treatment\", 0.360695, 0.0664, 0.0002188625, -0.20693, 0.247584, 0.35213], [\"C7orf50\", \"treatment\", 0.351562, 0.053452, 0.0001859792, 0.257528, 0.197737, 0.203359], [\"C8orf33\", \"treatment\", -0.229413, 0.066512, 0.001984434, -0.374096, 0.208166, 0.083783], [\"C8orf76\", \"treatment\", 0.105459, 0.084293, 0.2389522, -0.610083, 0.358385, 0.114977], [\"C8orf82\", \"treatment\", 0.161122, 0.083309, 0.05578884, -0.242621, 0.252401, 0.297141], [\"C9orf78\", \"treatment\", -0.423157, 0.031695, 1.231218e-06, -0.285621, 0.188185, 0.167367], [\"C9orf85\", \"treatment\", -0.015855, 0.081905, 0.8438312, 0.342493, 0.238794, 0.160368], [\"CA5B\", \"treatment\", -0.594744, 0.072681, 2.351638e-05, 0.243954, 0.226835, 0.29794], [\"CAB39\", \"treatment\", 0.870992, 0.052782, 7.554304e-07, 0.051089, 0.237737, 0.875225], [\"CABIN1\", \"treatment\", -0.010761, 0.069257, 0.8368326, 0.012203, 0.205879, 0.990802], [\"CACUL1\", \"treatment\", 0.936962, 0.064176, 6.82054e-05, 0.093071, 0.220065, 0.792242], [\"CACYBP\", \"treatment\", -0.104748, 0.043258, 0.014997, -0.187199, 0.218997, 0.428914], [\"CALCOCO1\", \"treatment\", -0.229857, 0.062021, 0.001009018, 0.056002, 0.225118, 0.834633], [\"CALCOCO2\", \"treatment\", 0.67866, 0.042519, 0.0001469009, -0.059071, 0.188431, 0.752649], [\"CALHM2\", \"treatment\", 0.274382, 0.067973, 0.000807813, -0.032061, 0.20307, 0.84823], [\"CALM1\", \"treatment\", -1.034369, 0.015289, 1.308776e-05, 0.060523, 0.07766, 0.285543], [\"CALM2\", \"treatment\", 1.29738, 0.021532, 4.646146e-10, 0.736904, 0.169136, 0.002018], [\"CALM3\", \"treatment\", 0.463969, 0.030657, 2.41454e-06, -0.167227, 0.189784, 0.440912], [\"CALR\", \"treatment\", -0.458486, 0.028429, 1.380788e-06, 0.083548, 0.107067, 0.457309], [\"CALU\", \"treatment\", 0.386213, 0.075614, 0.000443201, 0.161514, 0.254689, 0.628674], [\"CAMK1D\", \"treatment\", 0.292785, 0.07134, 0.0005404992, 0.381537, 0.207036, 0.074385], [\"CAMK2D\", \"treatment\", 0.318872, 0.068844, 0.0004588071, 0.27113, 0.190292, 0.20196], [\"CAMLG\", \"treatment\", 0.095434, 0.041726, 0.0289942, -0.191215, 0.194187, 0.267147], [\"CAMTA1\", \"treatment\", 0.764702, 0.053492, 3.113849e-05, -0.526663, 0.280807, 0.058588], [\"CAND1\", \"treatment\", -0.26432, 0.052635, 0.0001698285, 0.139792, 0.227866, 0.535493], [\"CAP1\", \"treatment\", 0.346274, 0.020252, 4.151695e-07, -0.062064, 0.139357, 0.663667], [\"CAPN1\", \"treatment\", 0.174664, 0.04525, 0.001438264, 0.258963, 0.27621, 0.320936], [\"CAPN10\", \"treatment\", -0.544099, 0.089549, 0.001211936, -0.116614, 0.241551, 0.766047], [\"CAPN2\", \"treatment\", 0.567637, 0.034075, 0.0001466119, 0.027982, 0.151959, 0.89882], [\"CAPN7\", \"treatment\", 0.593491, 0.077323, 9.40953e-05, 0.042468, 0.185294, 0.883023], [\"CAPNS1\", \"treatment\", 0.533488, 0.028727, 0.0001224798, -0.315287, 0.18612, 0.073985], [\"CAPRIN1\", \"treatment\", 0.564891, 0.054315, 0.0001600137, -0.334241, 0.288021, 0.289942], [\"CAPZA1\", \"treatment\", 0.815746, 0.032424, 7.279964e-05, -0.35173, 0.171554, 0.042991], [\"CAPZA2\", \"treatment\", 1.266113, 0.036386, 1.414207e-07, 0.140147, 0.242308, 0.665267], [\"CAPZB\", \"treatment\", 0.187349, 0.02266, 4.998985e-05, -0.348178, 0.204574, 0.083983], [\"CARD16\", \"treatment\", 0.952846, 0.025038, 0.000101852, -0.250446, 0.135086, 0.065987], [\"CARD8\", \"treatment\", 0.38754, 0.042538, 2.734956e-05, -0.592882, 0.238581, 0.022196], [\"CARD8-AS1\", \"treatment\", 0.411364, 0.074036, 0.0001753925, -0.060208, 0.22943, 0.719656], [\"CARHSP1\", \"treatment\", -0.169622, 0.043672, 0.001125858, -0.308603, 0.235769, 0.176765], [\"CARS2\", \"treatment\", 1.510203, 0.057168, 1.47609e-06, 0.453399, 0.218885, 0.053589], [\"CASC3\", \"treatment\", 0.326518, 0.075739, 0.001138299, 0.271269, 0.210689, 0.186963], [\"GOLM2\", \"treatment\", 0.480196, 0.055386, 6.439168e-06, -0.019602, 0.224578, 0.962408], [\"CASP1\", \"treatment\", 1.585575, 0.039149, 2.54188e-08, -0.446177, 0.176375, 0.012997], [\"CASP10\", \"treatment\", -0.16972, 0.062394, 0.00659868, 0.052883, 0.242429, 0.669866], [\"CASP3\", \"treatment\", -0.391763, 0.081782, 0.000436945, -0.040799, 0.240927, 0.931814], [\"CASP4\", \"treatment\", 0.420443, 0.030474, 6.219753e-06, -0.416202, 0.176435, 0.017796], [\"CASP8\", \"treatment\", -0.780133, 0.043737, 6.105116e-06, 0.174078, 0.166606, 0.279744], [\"CAST\", \"treatment\", 0.56573, 0.019774, 4.958132e-07, -0.005936, 0.112793, 0.89842], [\"CAT\", \"treatment\", 1.473706, 0.050712, 7.431287e-08, -0.003134, 0.253049, 0.933413], [\"CATSPER1\", \"treatment\", 0.277681, 0.065428, 0.0009142719, -0.29636, 0.1879, 0.110378], [\"CBFB\", \"treatment\", 0.204854, 0.063516, 0.00218145, -0.34434, 0.291294, 0.274745], [\"CBL\", \"treatment\", 0.960284, 0.063404, 2.548279e-05, 0.179385, 0.21019, 0.405119], [\"CBLB\", \"treatment\", -1.592602, 0.084244, 1.266935e-06, -0.009823, 0.191756, 0.989402], [\"ZBTB38\", \"treatment\", -0.522278, 0.058448, 2.066225e-05, -0.050315, 0.191743, 0.778044], [\"ZBTB44\", \"treatment\", -0.601769, 0.053502, 3.333642e-05, -0.148948, 0.236922, 0.60168], [\"ZBTB7A\", \"treatment\", 0.48126, 0.039384, 3.768887e-07, -0.028864, 0.191442, 0.841432], [\"ZBTB8OS\", \"treatment\", -0.138504, 0.043834, 0.001831699, -0.241687, 0.193248, 0.204759], [\"ZC3H13\", \"treatment\", -0.161571, 0.043459, 0.001656353, -0.089922, 0.147797, 0.54909], [\"ZC3H15\", \"treatment\", 0.176531, 0.033795, 0.0001016294, -0.355853, 0.171992, 0.04799], [\"ZC3H18\", \"treatment\", -0.031004, 0.057076, 0.5632873, -0.313529, 0.207972, 0.126375], [\"ZC3H6\", \"treatment\", -0.117915, 0.080393, 0.1271746, 0.169463, 0.195526, 0.374925], [\"ZC3H7A\", \"treatment\", 0.822075, 0.058914, 1.46783e-06, -0.182619, 0.176449, 0.307339], [\"ZC3H8\", \"treatment\", -0.669568, 0.076113, 5.586081e-05, -0.212507, 0.163786, 0.195161], [\"ZC3HAV1\", \"treatment\", -0.288389, 0.043339, 3.726641e-05, 0.423564, 0.174816, 0.020396], [\"ZCCHC10\", \"treatment\", 0.120907, 0.067392, 0.06638672, -0.308229, 0.182876, 0.122575], [\"TUT4\", \"treatment\", -0.859699, 0.053778, 8.286689e-08, -0.101378, 0.165047, 0.5011], [\"ZCCHC17\", \"treatment\", -0.8319, 0.051683, 9.421381e-06, -0.028883, 0.219299, 0.838832], [\"ZCCHC2\", \"treatment\", 0.461309, 0.084562, 0.0002035869, 0.537602, 0.210397, 0.019796], [\"TUT7\", \"treatment\", 0.555873, 0.048665, 1.123448e-05, -0.036396, 0.155784, 0.831834], [\"ZCCHC7\", \"treatment\", -0.308367, 0.068509, 0.0007773593, 0.157866, 0.18773, 0.371326], [\"ZCCHC8\", \"treatment\", 0.098282, 0.068592, 0.1613677, -0.441983, 0.205663, 0.028594], [\"ZCCHC9\", \"treatment\", 0.438753, 0.082701, 0.0002626101, -0.21995, 0.178243, 0.210958], [\"ZCRB1\", \"treatment\", -0.10674, 0.05095, 0.03419316, -0.053249, 0.170522, 0.84903], [\"ZDHHC12\", \"treatment\", 0.143405, 0.055893, 0.00979804, -0.330856, 0.32882, 0.34833], [\"ZDHHC17\", \"treatment\", 0.317172, 0.076955, 0.001265509, 0.3279, 0.203504, 0.134973], [\"ZDHHC2\", \"treatment\", 0.107869, 0.076234, 0.1615677, -0.130083, 0.224787, 0.585083], [\"ZDHHC20\", \"treatment\", 0.980525, 0.0538, 6.540641e-06, -0.051424, 0.211423, 0.791842], [\"ZDHHC21\", \"treatment\", -0.265011, 0.099093, 0.00839832, 0.12955, 0.250259, 0.643271], [\"ZDHHC24\", \"treatment\", -0.35939, 0.070394, 0.0002509672, 0.259012, 0.225319, 0.297141], [\"ZDHHC3\", \"treatment\", 0.59897, 0.064657, 4.305242e-05, -0.572175, 0.272269, 0.032593], [\"ZDHHC4\", \"treatment\", -0.090296, 0.076911, 0.2407518, 0.192846, 0.204647, 0.379524], [\"ZDHHC6\", \"treatment\", 0.120964, 0.072687, 0.09818036, 0.123368, 0.206835, 0.580484], [\"ZEB2\", \"treatment\", 0.874718, 0.022718, 5.322183e-08, 0.149009, 0.096142, 0.125175], [\"ZFAND1\", \"treatment\", 0.342695, 0.071739, 0.0006035627, 0.308884, 0.239201, 0.165367], [\"ZFAND2A\", \"treatment\", -0.082373, 0.066512, 0.1989602, 0.011206, 0.243538, 0.970206], [\"ZFAND2B\", \"treatment\", -0.491004, 0.058154, 9.682037e-06, -0.017244, 0.261426, 0.9986], [\"ZFAND3\", \"treatment\", 0.492537, 0.056782, 1.419408e-05, 0.211061, 0.241565, 0.4983], [\"ZFAND5\", \"treatment\", 1.804401, 0.033855, 2.063169e-05, 0.813552, 0.140846, 0.000613], [\"ZFAND6\", \"treatment\", 0.027819, 0.04292, 0.5628874, 0.229426, 0.243083, 0.492102], [\"ZFAS1\", \"treatment\", 1.45634, 0.025878, 6.388794e-07, -0.184658, 0.151098, 0.182963], [\"ZFC3H1\", \"treatment\", 0.455223, 0.045551, 3.708413e-05, -0.183531, 0.199543, 0.312937], [\"ZFP14\", \"treatment\", -0.825305, 0.09282, 3.860011e-05, -0.256302, 0.244472, 0.382324], [\"ZFP36\", \"treatment\", 1.209232, 0.020628, 3.201439e-07, -0.228528, 0.080016, 0.003999], [\"ZFP36L1\", \"treatment\", 1.484352, 0.033956, 3.838811e-05, 0.887312, 0.135241, 0.000249], [\"ZFP36L2\", \"treatment\", 0.360354, 0.021009, 0.0001402727, 0.36051, 0.078501, 0.000349], [\"ZFP90\", \"treatment\", -0.524323, 0.096306, 0.0001673808, -0.176706, 0.235355, 0.476505], [\"ZFP91\", \"treatment\", 0.685689, 0.077987, 2.50725e-05, 0.115661, 0.1974, 0.519296], [\"ZFPL1\", \"treatment\", -0.052911, 0.076918, 0.5068986, 0.127974, 0.268761, 0.542092], [\"ZFPM1\", \"treatment\", -0.44185, 0.064176, 4.335118e-05, -0.110496, 0.267576, 0.792242], [\"ZFR\", \"treatment\", 0.486539, 0.051004, 5.609276e-06, -0.036874, 0.188129, 0.741052], [\"ZFX\", \"treatment\", -0.010216, 0.054753, 0.7860428, -0.435154, 0.194952, 0.031594], [\"ZFYVE16\", \"treatment\", 1.107238, 0.060829, 1.829693e-06, 0.024969, 0.179805, 0.869426], [\"ZHX1\", \"treatment\", 0.155592, 0.079006, 0.05218956, -0.033566, 0.292976, 0.858628], [\"ZKSCAN1\", \"treatment\", 0.575371, 0.061418, 9.090247e-05, -0.117756, 0.205342, 0.566887], [\"ZMAT2\", \"treatment\", 0.304977, 0.037267, 0.0005945892, -0.695461, 0.270328, 0.015397], [\"ZMAT3\", \"treatment\", 0.588555, 0.078068, 4.956211e-05, 0.468175, 0.197452, 0.014797], [\"ZMAT5\", \"treatment\", 0.025366, 0.075495, 0.7606479, -0.289301, 0.254761, 0.212557], [\"ZMYM2\", \"treatment\", 0.833656, 0.054803, 2.207375e-06, -0.130027, 0.233985, 0.628474], [\"ZMYM4\", \"treatment\", 0.61684, 0.071325, 2.370008e-05, 0.086717, 0.248335, 0.776245], [\"ZMYM5\", \"treatment\", -0.039893, 0.079379, 0.6082783, 0.150065, 0.197553, 0.467107], [\"ZMYND11\", \"treatment\", -0.788166, 0.077965, 0.0006037856, 0.06333, 0.219312, 0.75245], [\"ZMYND8\", \"treatment\", -0.032504, 0.06452, 0.6264747, -0.046782, 0.203506, 0.845631], [\"ZNF106\", \"treatment\", 1.272408, 0.039652, 7.253523e-08, -0.101634, 0.166914, 0.55189], [\"ZNF131\", \"treatment\", 0.172637, 0.056656, 0.00319936, -0.27099, 0.229417, 0.274945], [\"ZNF143\", \"treatment\", 0.215575, 0.073478, 0.00459908, 0.316599, 0.177843, 0.083983], [\"ZNF146\", \"treatment\", 0.213646, 0.083695, 0.01559688, 0.189275, 0.235734, 0.512098], [\"ZNF148\", \"treatment\", 0.163352, 0.046014, 0.001893912, 0.033501, 0.200645, 0.922615], [\"ZNF160\", \"treatment\", -0.347104, 0.079253, 0.0004913345, 0.202894, 0.231362, 0.331534], [\"ZNF207\", \"treatment\", 0.465128, 0.030613, 0.0001565857, -0.087632, 0.194851, 0.59788], [\"ZNF217\", \"treatment\", 0.986321, 0.058842, 5.566807e-05, 0.175978, 0.217387, 0.434113], [\"ZNF22\", \"treatment\", -0.841106, 0.058322, 7.245484e-06, 0.283785, 0.219934, 0.168166], [\"ZNF224\", \"treatment\", -0.625426, 0.081662, 6.905763e-05, -0.418479, 0.216266, 0.04919], [\"ZNF226\", \"treatment\", -0.42894, 0.086507, 0.0002079714, -0.010614, 0.255398, 0.998], [\"ZNF24\", \"treatment\", 0.186961, 0.05157, 0.001146571, -0.485005, 0.235316, 0.037393], [\"ZNF264\", \"treatment\", -0.055834, 0.081033, 0.4865027, 0.53256, 0.239345, 0.022995], [\"ZNF266\", \"treatment\", -0.343743, 0.093859, 0.0009880708, 0.075055, 0.226267, 0.773645], [\"ZNF267\", \"treatment\", 0.775653, 0.073345, 3.862852e-05, 0.297874, 0.194801, 0.135773], [\"ZNF274\", \"treatment\", -0.409223, 0.084211, 0.0001997792, 0.213185, 0.246143, 0.370526], [\"ZNF276\", \"treatment\", -1.357583, 0.057529, 1.575668e-07, -0.751633, 0.231183, 0.007199], [\"ZNF277\", \"treatment\", 0.835396, 0.070129, 0.0004922022, 0.208732, 0.209982, 0.315937], [\"ZNF280D\", \"treatment\", 0.272701, 0.069809, 0.0007167686, -0.156373, 0.282186, 0.668666], [\"ZNF281\", \"treatment\", 0.708267, 0.065493, 2.094152e-05, 0.07779, 0.197209, 0.830634], [\"ZNF292\", \"treatment\", -0.318189, 0.045278, 8.436114e-05, -0.055609, 0.148047, 0.75205], [\"ZNF302\", \"treatment\", -0.575225, 0.092578, 0.001296731, 0.157592, 0.270687, 0.431314], [\"ZNF32\", \"treatment\", -0.917937, 0.065063, 1.704042e-06, -0.122045, 0.241923, 0.571486], [\"ZNF326\", \"treatment\", 0.108699, 0.05935, 0.08338332, -0.289616, 0.215246, 0.204959], [\"ZNF331\", \"treatment\", -0.152229, 0.078934, 0.04999, 0.831038, 0.224614, 0.001347], [\"ZNF33A\", \"treatment\", 0.246935, 0.059572, 0.0009685215, 0.202133, 0.18177, 0.259548], [\"ZNF394\", \"treatment\", -0.151903, 0.048783, 0.002556652, 0.291146, 0.220298, 0.20216], [\"ZNF428\", \"treatment\", -0.94548, 0.05087, 0.000137821, 0.450147, 0.32463, 0.218956], [\"ZNF431\", \"treatment\", -0.263557, 0.068723, 0.0009871843, 0.291545, 0.197332, 0.108178], [\"ZNF44\", \"treatment\", -0.618172, 0.086752, 0.0001560485, 0.282234, 0.194998, 0.120176], [\"ZNF451\", \"treatment\", 0.351881, 0.059463, 0.0002012139, 0.367133, 0.20218, 0.080584], [\"ZNF480\", \"treatment\", -0.294068, 0.061941, 0.0002724887, 0.046078, 0.269564, 0.691462], [\"ZNF493\", \"treatment\", -0.912156, 0.092949, 5.749838e-05, 0.165973, 0.223232, 0.39952], [\"ZNF506\", \"treatment\", -0.606627, 0.093973, 0.0001106508, -0.099776, 0.274613, 0.652869], [\"ZNF511\", \"treatment\", 0.622996, 0.058668, 8.182843e-05, -0.096907, 0.237409, 0.640472], [\"ZNF518A\", \"treatment\", 0.701168, 0.060248, 1.16438e-05, -0.129963, 0.218414, 0.616077], [\"ZNF524\", \"treatment\", 0.904776, 0.060019, 1.535755e-05, -0.048316, 0.253692, 0.816837], [\"ZNF580\", \"treatment\", 0.348401, 0.072448, 0.0003903443, -0.02345, 0.238932, 0.958408], [\"ZNF593\", \"treatment\", 0.390111, 0.078912, 0.0008031738, -0.320277, 0.251573, 0.196561], [\"ZNF622\", \"treatment\", -0.418449, 0.05956, 6.926766e-05, -0.011379, 0.264306, 0.869626], [\"ZNF638\", \"treatment\", 0.40631, 0.045954, 5.091171e-06, 0.202401, 0.199619, 0.318136], [\"ZNF639\", \"treatment\", -0.141438, 0.08847, 0.1109778, 0.185358, 0.20323, 0.384723], [\"ZNF641\", \"treatment\", 0.047718, 0.081606, 0.5952809, 0.147587, 0.196516, 0.421116], [\"ZNF644\", \"treatment\", 0.000592, 0.055437, 0.9912018, -0.207858, 0.20117, 0.232553], [\"ZNF652\", \"treatment\", 0.087894, 0.050887, 0.084983, 0.211724, 0.171585, 0.193561], [\"ZNF655\", \"treatment\", 0.138226, 0.04155, 0.005459976, 0.162913, 0.250546, 0.468506], [\"ZNF688\", \"treatment\", -0.243793, 0.07008, 0.003307463, -0.106076, 0.24086, 0.713257], [\"ZNF706\", \"treatment\", 0.644182, 0.032771, 5.015346e-06, 0.190986, 0.233481, 0.430714], [\"ZNF708\", \"treatment\", -0.885506, 0.095295, 3.483883e-05, 0.236109, 0.194645, 0.226355], [\"ZNF720\", \"treatment\", -1.070555, 0.090471, 6.655591e-06, 0.147781, 0.257664, 0.474105], [\"ZNF721\", \"treatment\", -0.500637, 0.067851, 0.0008044111, -0.006133, 0.179419, 0.934013], [\"ZNF75A\", \"treatment\", -0.811521, 0.084943, 2.560412e-05, -0.206832, 0.203459, 0.327734], [\"ZNF766\", \"treatment\", -0.255131, 0.089077, 0.00359928, 0.289825, 0.220716, 0.189362], [\"ZNF787\", \"treatment\", 0.51614, 0.061956, 5.035777e-05, -0.293215, 0.429158, 0.513697], [\"ZNF791\", \"treatment\", 0.008492, 0.069392, 0.920216, 0.045159, 0.227528, 0.69826], [\"ZNF800\", \"treatment\", -0.260396, 0.052501, 0.0004227124, -0.099214, 0.187541, 0.615477], [\"ZNF830\", \"treatment\", -0.994384, 0.074693, 0.0003736207, -0.057978, 0.238278, 0.888022], [\"ZNF91\", \"treatment\", -0.529342, 0.066501, 0.0006404014, 0.342562, 0.246154, 0.159968], [\"ZNF92\", \"treatment\", -0.478952, 0.081351, 0.0002516835, 0.138651, 0.228295, 0.476305], [\"ZNHIT1\", \"treatment\", 0.226484, 0.030421, 0.0001167524, 0.139999, 0.253097, 0.641272], [\"ZNRF2\", \"treatment\", -0.03008, 0.0685, 0.6168766, 0.068859, 0.217594, 0.807838], [\"ZPR1\", \"treatment\", 0.301778, 0.071603, 0.0004850122, 0.026041, 0.271542, 0.903219], [\"ZRANB2\", \"treatment\", -0.381552, 0.035717, 1.031298e-05, 0.004533, 0.156108, 0.929214], [\"ZRSR2\", \"treatment\", 0.029996, 0.058813, 0.6788642, -0.099347, 0.215538, 0.671666], [\"ZSCAN16-AS1\", \"treatment\", 0.329362, 0.05599, 6.883935e-05, -0.036626, 0.187394, 0.825635], [\"ZSWIM7\", \"treatment\", 0.506265, 0.052366, 3.011078e-05, -0.373092, 0.233508, 0.120376], [\"ZSWIM8\", \"treatment\", 0.30999, 0.081004, 0.00107958, 0.08714, 0.270398, 0.706859], [\"ZZEF1\", \"treatment\", 0.436135, 0.065786, 0.0001305286, 0.093324, 0.230672, 0.643471], [\"ZZZ3\", \"treatment\", -0.124465, 0.083099, 0.1289742, -0.205523, 0.215759, 0.332733], [\"AATF\", \"treatment\", -0.137247, 0.046549, 0.00279944, 0.20776, 0.318115, 0.554289], [\"ABCF1\", \"treatment\", -0.549094, 0.045955, 4.165591e-05, -0.498233, 0.175982, 0.009598], [\"ABT1\", \"treatment\", -0.405527, 0.061516, 0.0001393002, 0.066808, 0.240524, 0.79844], [\"ACAP1\", \"treatment\", -1.40334, 0.046888, 1.096699e-07, 0.169958, 0.167686, 0.234953], [\"ACTG1\", \"treatment\", -0.096864, 0.015145, 0.00107875, -0.646297, 0.05689, 3.2e-05], [\"ACTN4\", \"treatment\", -0.226869, 0.032048, 7.212195e-05, 0.010226, 0.261891, 0.956809], [\"ACTR1B\", \"treatment\", -0.378231, 0.074418, 0.0004801628, -0.43828, 0.237303, 0.058188], [\"ADI1\", \"treatment\", 0.833512, 0.051507, 3.132146e-06, -0.12092, 0.180345, 0.586883], [\"ADIPOR2\", \"treatment\", -0.032987, 0.067134, 0.5718856, -0.125143, 0.248538, 0.619276], [\"AIF1\", \"treatment\", 4.33553, 0.051246, 1.454258e-10, 0.027791, 0.23085, 0.995601], [\"AK6\", \"treatment\", -0.318132, 0.07054, 0.0002562441, -0.167399, 0.246486, 0.470106], [\"AKAP17A\", \"treatment\", 0.063323, 0.04848, 0.2205559, -0.08921, 0.21174, 0.658668], [\"AP2A2\", \"treatment\", 0.418333, 0.073228, 0.0001361643, -0.323865, 0.250009, 0.181764], [\"APEX1\", \"treatment\", 0.550693, 0.041079, 0.0002548767, -0.055833, 0.174933, 0.70006], [\"ARHGAP27\", \"treatment\", 1.085628, 0.068053, 5.77176e-06, -0.172503, 0.22901, 0.4991], [\"ARMC10\", \"treatment\", 0.571514, 0.068047, 6.308168e-05, -0.078426, 0.219339, 0.774445], [\"ASMTL\", \"treatment\", -0.464636, 0.082907, 8.89596e-05, 0.268778, 0.263228, 0.338932], [\"ATF6B\", \"treatment\", 0.095209, 0.048142, 0.05738852, -0.134837, 0.222406, 0.521496], [\"ATMIN\", \"treatment\", 0.151811, 0.078272, 0.06458708, 0.019276, 0.252778, 0.862827], [\"B2M\", \"treatment\", -0.538317, 0.007228, 2.475245e-05, 0.324602, 0.049074, 6e-06], [\"B3GALT4\", \"treatment\", -0.286397, 0.068871, 0.00271334, -0.025862, 0.261227, 0.937213], [\"BAG6\", \"treatment\", 0.611351, 0.057056, 9.212615e-06, -0.583352, 0.306163, 0.059788], [\"BCAP29\", \"treatment\", 0.18055, 0.061677, 0.00419916, -0.153391, 0.211593, 0.461508], [\"BDP1\", \"treatment\", -0.069414, 0.04324, 0.09478104, 0.027462, 0.139744, 0.840432], [\"BFAR\", \"treatment\", 0.084503, 0.055689, 0.1391722, -0.197187, 0.448166, 0.74845], [\"BRD2\", \"treatment\", 0.059615, 0.035239, 0.1015797, -0.056697, 0.195955, 0.743051], [\"BTBD7\", \"treatment\", 0.586919, 0.067771, 0.0001204778, -0.012574, 0.197182, 0.909618], [\"BTN2A1\", \"treatment\", 0.128276, 0.073261, 0.08318336, -0.254439, 0.311082, 0.465107], [\"MYG1\", \"treatment\", 0.405255, 0.055894, 7.073321e-05, -0.274143, 0.362483, 0.463907], [\"C12orf45\", \"treatment\", 0.50664, 0.077559, 0.0001619458, -0.332204, 0.190637, 0.081384], [\"SPRING1\", \"treatment\", -0.149601, 0.086138, 0.07558488, -0.016955, 0.220302, 0.930614], [\"C16orf72\", \"treatment\", 1.040664, 0.04826, 4.41975e-06, -0.252749, 0.169903, 0.129974], [\"C16orf91\", \"treatment\", -0.493506, 0.07711, 0.0001636153, -0.073392, 0.266109, 0.782044], [\"C1GALT1C1\", \"treatment\", -0.391533, 0.0865, 0.0004760128, 0.015363, 0.241187, 0.981404], [\"C6orf47\", \"treatment\", -0.235837, 0.085466, 0.00519896, 0.022516, 0.243629, 0.859428], [\"C7orf26\", \"treatment\", -0.166178, 0.085776, 0.0459908, -0.049389, 0.233126, 0.862228], [\"C9orf16\", \"treatment\", -0.31806, 0.026127, 4.782737e-05, 0.067861, 0.261863, 0.725055], [\"CANX\", \"treatment\", 0.775485, 0.031495, 5.013413e-07, -0.198567, 0.136982, 0.15157], [\"CAPN15\", \"treatment\", -0.896529, 0.083979, 4.38145e-05, 0.004159, 0.268499, 0.915817], [\"CARS1\", \"treatment\", -0.059044, 0.072488, 0.40012, 0.17585, 0.234955, 0.436713], [\"CASP8AP2\", \"treatment\", -0.292516, 0.070621, 0.0007367998, -0.177244, 0.170921, 0.310138], [\"CENATAC\", \"treatment\", 0.013457, 0.078238, 0.8774245, -0.252886, 0.237991, 0.270146], [\"CCDC92\", \"treatment\", -0.772967, 0.097931, 0.0001454887, 0.044753, 0.284627, 0.791242], [\"CCL3\", \"treatment\", 0.622931, 0.054261, 2.743793e-05, -0.150689, 0.111827, 0.145171], [\"CCL4\", \"treatment\", -3.061199, 0.087155, 2.360383e-07, 0.601142, 0.22606, 0.006199], [\"CCL4L2\", \"treatment\", -0.899374, 0.165967, 0.0002880012, 0.176796, 0.316705, 0.604279], [\"CCL5\", \"treatment\", -4.513196, 0.094366, 3.199485e-06, 0.364376, 0.256139, 0.089382], [\"CCNB1IP1\", \"treatment\", -0.465501, 0.089221, 0.0002140031, -0.021756, 0.199418, 0.954409], [\"CCT8\", \"treatment\", 0.357708, 0.035625, 4.088858e-05, 0.163077, 0.220303, 0.459308], [\"CD300A\", \"treatment\", -1.00067, 0.038476, 2.017668e-06, 0.126519, 0.154478, 0.382124], [\"CD99\", \"treatment\", -0.548987, 0.021413, 2.308116e-08, 0.523781, 0.109838, 0.00035], [\"CHCHD10\", \"treatment\", 2.063571, 0.058788, 3.281178e-07, 0.253373, 0.188676, 0.237552], [\"CHMP4A\", \"treatment\", -0.144627, 0.033122, 0.0005099297, -0.242237, 0.241582, 0.356129], [\"CHORDC1\", \"treatment\", -0.281853, 0.060788, 0.0003647217, 0.25895, 0.207716, 0.232553], [\"CISD3\", \"treatment\", -0.614507, 0.043299, 2.932303e-06, -0.584541, 0.336622, 0.102779], [\"CLIC1\", \"treatment\", 0.038355, 0.015308, 0.01559688, -0.21812, 0.10727, 0.079184], [\"CLPTM1L\", \"treatment\", 0.001734, 0.053338, 0.9888022, -0.037539, 0.238314, 0.952809], [\"CMC2\", \"treatment\", -0.188658, 0.056665, 0.001900858, -0.521733, 0.298238, 0.09898], [\"COX5B\", \"treatment\", 0.583118, 0.019719, 5.436084e-07, -0.166667, 0.220784, 0.506699], [\"CSNK2B\", \"treatment\", 0.374799, 0.033147, 0.000215901, -0.187219, 0.246952, 0.468306], [\"CUTA\", \"treatment\", -0.288597, 0.030507, 9.518307e-06, 0.242148, 0.188329, 0.202559], [\"CWC25\", \"treatment\", 0.481067, 0.054178, 2.990222e-05, -0.549063, 0.192126, 0.008798], [\"DAXX\", \"treatment\", -0.546864, 0.062945, 1.530534e-05, -0.37517, 0.286911, 0.169166], [\"DCAF11\", \"treatment\", -0.095656, 0.059025, 0.08718256, -0.430773, 0.269064, 0.105179], [\"DCAF15\", \"treatment\", -0.219276, 0.083536, 0.00759848, -0.178413, 0.304359, 0.630474], [\"DDAH2\", \"treatment\", -0.101954, 0.057399, 0.06538692, -0.354881, 0.19291, 0.063387], [\"DDT\", \"treatment\", 0.71644, 0.030878, 1.743343e-06, -0.183873, 0.197636, 0.343131], [\"DDX24\", \"treatment\", -0.744088, 0.031118, 6.712748e-05, 0.30451, 0.15438, 0.054989], [\"DDX52\", \"treatment\", -0.036527, 0.058551, 0.5068986, 0.109846, 0.168072, 0.462108], [\"DHRS4L2\", \"treatment\", 1.203298, 0.061145, 1.322156e-05, -0.136358, 0.236416, 0.663267], [\"DHX36\", \"treatment\", -0.132843, 0.039465, 0.001739991, 0.071653, 0.158135, 0.65147], [\"DUSP11\", \"treatment\", -0.418648, 0.077286, 0.0001411265, -0.230545, 0.270465, 0.470906], [\"DYNC1I2\", \"treatment\", 0.433255, 0.043777, 2.240497e-05, -0.083619, 0.17639, 0.610878], [\"ECH1\", \"treatment\", -0.13823, 0.034811, 0.0003971034, -0.140575, 0.21566, 0.603079], [\"EEF1B2\", \"treatment\", 0.121997, 0.015708, 0.0006990506, 0.377976, 0.095911, 0.000673], [\"EEF1D\", \"treatment\", 0.188761, 0.014182, 0.0003202844, -0.716763, 0.24083, 0.012198], [\"EHMT2\", \"treatment\", 0.002298, 0.078683, 0.9712058, 0.078142, 0.24765, 0.709658], [\"EIF3K\", \"treatment\", 0.545891, 0.018051, 4.973489e-05, 0.165934, 0.209149, 0.414717], [\"EIF4A3\", \"treatment\", 0.843714, 0.0443, 0.0001547142, 0.712108, 0.182706, 0.001864], [\"EIF5A\", \"treatment\", -0.157514, 0.027118, 0.0002096094, -0.474925, 0.182749, 0.018396], [\"ELP5\", \"treatment\", -0.414693, 0.054621, 7.505396e-05, 0.149535, 0.288228, 0.643071], [\"EVI2B\", \"treatment\", 2.00379, 0.030973, 2.764992e-08, -0.000386, 0.136247, 0.996201], [\"FBL\", \"treatment\", 0.134378, 0.044594, 0.00339932, -0.105579, 0.191617, 0.576485], [\"FDFT1\", \"treatment\", -0.402746, 0.049401, 0.0001641566, -0.409686, 0.259114, 0.121176], [\"FLII\", \"treatment\", 1.393901, 0.057974, 5.117077e-08, -0.241167, 0.192184, 0.171766], [\"FLOT1\", \"treatment\", 0.218125, 0.045574, 0.0002081856, 0.073923, 0.197972, 0.682064], [\"FNBP4\", \"treatment\", -0.156418, 0.040666, 0.002765829, 0.386041, 0.174843, 0.036393], [\"CEP20\", \"treatment\", 0.077399, 0.08432, 0.3655269, 0.082448, 0.217022, 0.779644], [\"FRG1\", \"treatment\", 0.002846, 0.036737, 0.9974005, 0.16515, 0.192995, 0.489702], [\"GATAD2B\", \"treatment\", 0.390181, 0.067453, 0.0001897122, -0.286901, 0.208919, 0.172166], [\"GFER\", \"treatment\", 0.063728, 0.072739, 0.3997201, -0.395082, 0.247235, 0.09998], [\"GGNBP2\", \"treatment\", 0.156148, 0.036213, 0.0006880139, 0.126065, 0.153662, 0.394321], [\"GMFG\", \"treatment\", 0.570486, 0.0163, 5.086623e-05, -0.232461, 0.173521, 0.163767], [\"GMPR2\", \"treatment\", 0.378859, 0.057911, 6.99555e-05, 0.077546, 0.210259, 0.706059], [\"GNL1\", \"treatment\", 0.197381, 0.068214, 0.004999, 0.898245, 0.221574, 0.000835], [\"GPANK1\", \"treatment\", -0.031199, 0.070497, 0.6114777, 0.244086, 0.253426, 0.379724], [\"GPATCH4\", \"treatment\", -0.41911, 0.087344, 0.0003836294, -0.578283, 0.190126, 0.003599], [\"GPI\", \"treatment\", 0.691145, 0.063628, 1.670642e-05, -0.198811, 0.227715, 0.435513], [\"GPKOW\", \"treatment\", -0.823765, 0.089574, 3.445845e-05, -0.462161, 0.264944, 0.105579], [\"GPS2\", \"treatment\", -0.691414, 0.066899, 3.224247e-05, -0.314525, 0.218542, 0.15217], [\"GPSM3\", \"treatment\", 0.502201, 0.02419, 4.569399e-07, -0.536105, 0.185632, 0.007998], [\"GRIPAP1\", \"treatment\", 0.42263, 0.064255, 9.582008e-05, -0.368365, 0.225905, 0.103579], [\"GSDMD\", \"treatment\", -0.323094, 0.044333, 0.0001029821, -0.0646, 0.309185, 0.886023], [\"GTF2H2\", \"treatment\", -0.163536, 0.076779, 0.03079384, -0.341081, 0.233579, 0.125575], [\"GTPBP6\", \"treatment\", -0.275964, 0.057249, 0.0003305218, 0.229135, 0.269229, 0.360728], [\"HAT1\", \"treatment\", -0.027385, 0.060848, 0.6660668, 0.349405, 0.260612, 0.145171], [\"HBP1\", \"treatment\", 0.337424, 0.055798, 5.373188e-05, 0.303004, 0.221531, 0.172565], [\"HCG18\", \"treatment\", -0.67034, 0.07706, 0.0001418027, 0.362368, 0.205872, 0.075585], [\"HERC2\", \"treatment\", -0.386233, 0.076033, 0.0002793456, 0.121277, 0.225151, 0.510698], [\"HLA-A\", \"treatment\", -0.333058, 0.009959, 6.761479e-05, -0.088272, 0.075856, 0.35233], [\"HLA-B\", \"treatment\", -0.130435, 0.00891, 0.0002920178, -0.133619, 0.071874, 0.113977], [\"HLA-C\", \"treatment\", -0.438095, 0.010748, 9.099241e-09, 0.089247, 0.070894, 0.122775], [\"HLA-DPA1\", \"treatment\", 2.734191, 0.04084, 1.474219e-07, 1.63034, 0.168616, 5.4e-05], [\"HLA-DPB1\", \"treatment\", 2.400601, 0.038524, 6.782497e-07, 1.495186, 0.12803, 0.000101], [\"HLA-DRA\", \"treatment\", 3.787992, 0.042964, 7.130008e-10, 0.693976, 0.242667, 0.014597], [\"HLA-E\", \"treatment\", -0.579147, 0.012876, 2.830951e-05, 0.21086, 0.099077, 0.021996], [\"HLA-F\", \"treatment\", -0.527092, 0.023113, 5.988523e-05, 0.008416, 0.154511, 0.873225], [\"HMOX2\", \"treatment\", -1.521715, 0.051395, 6.824241e-07, -0.153986, 0.280476, 0.571886], [\"HNRNPH1\", \"treatment\", 0.318249, 0.025922, 3.937562e-05, -0.340954, 0.154026, 0.022396], [\"HNRNPL\", \"treatment\", 0.158423, 0.043777, 0.001664081, -0.031586, 0.20578, 0.870226], [\"HNRNPR\", \"treatment\", -0.098905, 0.031367, 0.002367426, 0.333909, 0.181113, 0.059788], [\"HRAS\", \"treatment\", -0.115093, 0.081039, 0.1621676, 0.073401, 0.219155, 0.708458], [\"HSF1\", \"treatment\", 0.497536, 0.071068, 0.0001385334, 0.196755, 0.217443, 0.365327], [\"HSPA1A\", \"treatment\", 1.509721, 0.058154, 7.721237e-07, 0.060918, 0.19555, 0.90122], [\"HYOU1\", \"treatment\", -0.276838, 0.091316, 0.00239952, -0.122129, 0.219012, 0.536293], [\"IARS1\", \"treatment\", -0.453859, 0.094057, 0.0002654412, 0.08071, 0.31048, 0.793841], [\"IBTK\", \"treatment\", 0.374284, 0.063693, 0.0002136985, 0.414117, 0.206955, 0.05119], [\"IFI27L2\", \"treatment\", 0.343123, 0.035063, 1.393155e-05, -0.390757, 0.249605, 0.090782], [\"IL27RA\", \"treatment\", 0.097176, 0.046185, 0.039992, 0.565592, 0.219993, 0.016797], [\"INO80D\", \"treatment\", 0.082008, 0.06857, 0.2459508, 0.432594, 0.215626, 0.05219], [\"INPP5D\", \"treatment\", 0.033824, 0.039255, 0.4781044, -0.198216, 0.198129, 0.318136], [\"IRF7\", \"treatment\", 0.558919, 0.059504, 5.288372e-05, 0.826546, 0.274888, 0.003074], [\"IRF9\", \"treatment\", -0.568197, 0.071971, 6.571302e-05, -0.150897, 0.183731, 0.535093], [\"KANSL1\", \"treatment\", -0.079298, 0.037088, 0.03119376, -0.114183, 0.1784, 0.510698], [\"KANSL1-AS1\", \"treatment\", -0.545873, 0.064391, 4.899104e-05, 0.222906, 0.206347, 0.290742], [\"KAT6B\", \"treatment\", -0.684911, 0.061474, 1.689731e-05, 0.246641, 0.179649, 0.178364], [\"KIAA1143\", \"treatment\", -0.056515, 0.058378, 0.3137373, 0.01042, 0.200856, 0.962807], [\"KLF13\", \"treatment\", 0.05367, 0.029591, 0.09138172, 0.04796, 0.190706, 0.770846], [\"LAIR1\", \"treatment\", -0.120803, 0.047233, 0.00939812, 0.471474, 0.175447, 0.009598], [\"LDHA\", \"treatment\", -0.071841, 0.026607, 0.00679864, 0.649151, 0.199496, 0.006799], [\"LENG1\", \"treatment\", -0.347761, 0.066071, 0.0001914836, -0.485325, 0.261062, 0.076185], [\"LENG8\", \"treatment\", 0.887956, 0.045332, 6.490068e-06, -0.083109, 0.197021, 0.512897], [\"LPCAT1\", \"treatment\", -1.034897, 0.052919, 6.724277e-07, -0.543399, 0.278774, 0.061588], [\"LSM14A\", \"treatment\", -0.087236, 0.03775, 0.01959608, -0.202626, 0.21319, 0.389122], [\"LSM2\", \"treatment\", -0.443673, 0.044883, 1.962699e-05, 0.002071, 0.385125, 0.997001], [\"LSP1\", \"treatment\", 0.271029, 0.021523, 2.05559e-05, 0.046961, 0.15033, 0.654469], [\"LST1\", \"treatment\", 3.515253, 0.044703, 3.308257e-08, -0.334688, 0.156916, 0.035593], [\"LTB\", \"treatment\", -0.363075, 0.073073, 0.0002803242, -2.041261, 0.268935, 0.000128], [\"LTN1\", \"treatment\", 0.09096, 0.058889, 0.1361728, 0.006587, 0.205932, 0.968206], [\"LY6E\", \"treatment\", -0.943503, 0.037097, 5.43987e-07, 1.046823, 0.112362, 8.3e-05], [\"MED10\", \"treatment\", -0.826776, 0.039927, 2.061264e-06, 0.793921, 0.514718, 0.128174], [\"MED16\", \"treatment\", -0.329459, 0.079803, 0.0009687902, 0.133256, 0.314825, 0.517696], [\"MEF2D\", \"treatment\", 0.620165, 0.070676, 0.0001857479, -0.024018, 0.213113, 0.886223], [\"METRNL\", \"treatment\", -0.77426, 0.032993, 8.418364e-05, -0.625081, 0.163482, 0.000824], [\"METTL9\", \"treatment\", 1.370537, 0.032908, 4.55127e-08, 1.138305, 0.216233, 0.001384], [\"MIF\", \"treatment\", -0.476634, 0.055368, 3.308881e-05, -0.0614, 0.222647, 0.766447], [\"MIR22HG\", \"treatment\", 0.688391, 0.071289, 0.0007578818, -0.38051, 0.204381, 0.05139], [\"MLLT6\", \"treatment\", -1.229808, 0.054688, 1.50055e-05, -0.230133, 0.356855, 0.605679], [\"MOAP1\", \"treatment\", -1.021772, 0.064504, 3.468596e-06, -0.173641, 0.208664, 0.45051], [\"MOB2\", \"treatment\", -0.583456, 0.05402, 1.798519e-05, 0.603574, 0.374544, 0.119776], [\"MRPL23\", \"treatment\", 1.066243, 0.064473, 8.930496e-06, -0.137194, 0.242158, 0.574285], [\"MRPS12\", \"treatment\", -0.049487, 0.040749, 0.2159568, -0.547505, 0.559645, 0.264347], [\"MRPS18B\", \"treatment\", -0.067677, 0.061096, 0.2745451, -0.306658, 0.191006, 0.096581], [\"MRPS36\", \"treatment\", 0.294062, 0.040419, 7.041912e-05, -0.324258, 0.237971, 0.191362], [\"MTCH2\", \"treatment\", 0.472914, 0.060387, 0.0001396485, -0.200562, 0.240677, 0.476705], [\"MTMR9\", \"treatment\", -0.048013, 0.076937, 0.5164967, -0.198481, 0.245463, 0.466707], [\"MTRNR2L1\", \"treatment\", 1.159587, 0.061202, 3.34503e-06, -0.510662, 0.280522, 0.096981], [\"MTRNR2L8\", \"treatment\", 1.033347, 0.047526, 2.907682e-07, -0.167102, 0.224493, 0.413117], [\"MZT2B\", \"treatment\", -0.118963, 0.025813, 0.0004519851, 0.311046, 0.315722, 0.30074], [\"NAP1L4\", \"treatment\", -0.617116, 0.044607, 2.230341e-05, -0.195058, 0.190251, 0.444311], [\"NDE1\", \"treatment\", 0.521363, 0.057536, 1.47647e-05, 0.405258, 0.229914, 0.064187], [\"NDUFA11\", \"treatment\", 0.434145, 0.027807, 1.468475e-05, -0.387484, 0.310181, 0.205359], [\"NDUFA3\", \"treatment\", 0.074161, 0.029547, 0.01819636, -0.583672, 0.213542, 0.010598], [\"NDUFB10\", \"treatment\", 0.396338, 0.027019, 1.002129e-05, 0.388565, 0.424554, 0.315137], [\"NDUFS1\", \"treatment\", 0.447227, 0.062304, 0.0001093476, 0.137629, 0.201416, 0.456709], [\"NECAP2\", \"treatment\", 0.49043, 0.047321, 9.308442e-06, 0.399845, 0.234933, 0.088182], [\"NELFE\", \"treatment\", 0.317425, 0.051011, 8.588574e-05, -0.589109, 0.347637, 0.085383], [\"NEU1\", \"treatment\", 0.110394, 0.053807, 0.04439112, 0.160762, 0.168447, 0.334733], [\"NFKBIB\", \"treatment\", -0.446554, 0.06433, 0.0001012418, -0.234931, 0.233971, 0.307139], [\"NFKBIL1\", \"treatment\", 0.060212, 0.084732, 0.4947011, -0.101642, 0.236522, 0.717656], [\"NMRAL1\", \"treatment\", -0.257832, 0.059758, 0.000787173, -0.528522, 0.297641, 0.086583], [\"NOP10\", \"treatment\", 0.485866, 0.027883, 1.858421e-06, -0.12725, 0.16818, 0.483503], [\"NSF\", \"treatment\", 0.590146, 0.070063, 0.0001034307, 0.490931, 0.248694, 0.053589], [\"NTAN1\", \"treatment\", 0.118953, 0.067364, 0.07178564, -0.414011, 0.28732, 0.213957], [\"OSGEP\", \"treatment\", 0.319475, 0.064658, 0.0002082937, 0.191852, 0.247855, 0.378724], [\"OTUD5\", \"treatment\", 0.016258, 0.061541, 0.8014397, -0.086583, 0.25479, 0.755449], [\"P2RY8\", \"treatment\", -0.787943, 0.060964, 7.862341e-06, -0.287472, 0.198201, 0.159568], [\"PARN\", \"treatment\", -0.322957, 0.081651, 0.0006170017, -0.348671, 0.231166, 0.144371], [\"PBX2\", \"treatment\", 0.855665, 0.065505, 8.785433e-06, -0.002819, 0.214949, 0.993001], [\"PCMTD2\", \"treatment\", 0.204281, 0.071275, 0.00459908, -0.165207, 0.232051, 0.458108], [\"PDXDC1\", \"treatment\", 0.001772, 0.072651, 0.9866027, -0.021225, 0.204692, 0.936613], [\"PFDN5\", \"treatment\", 1.008574, 0.012975, 8.263395e-10, -0.424736, 0.138264, 0.002599], [\"PFDN6\", \"treatment\", -0.120464, 0.050366, 0.01419716, 0.132356, 0.224294, 0.491702], [\"PLCL2\", \"treatment\", -0.061164, 0.057131, 0.2305539, 0.054829, 0.196741, 0.829834], [\"PLEKHM1\", \"treatment\", 0.496261, 0.071776, 0.0001231791, -0.320715, 0.282591, 0.325135], [\"PNP\", \"treatment\", 0.554262, 0.063945, 2.464701e-05, 0.354797, 0.254675, 0.117377], [\"POLR2A\", \"treatment\", 0.153715, 0.050182, 0.00319936, -0.430749, 0.266781, 0.090982], [\"POLR2J3_ENSG00000285437\", \"treatment\", 0.272022, 0.039506, 0.0001409042, 0.078089, 0.148512, 0.60088], [\"PPFIA1\", \"treatment\", 1.039982, 0.069759, 1.812114e-05, -0.068654, 0.198332, 0.631474], [\"PPP1R10\", \"treatment\", -0.563821, 0.037582, 1.041727e-05, -0.360001, 0.152898, 0.020196], [\"PPP1R11\", \"treatment\", 0.246934, 0.052781, 0.0002039148, 0.021059, 0.2252, 0.938412], [\"PPP1R18\", \"treatment\", -0.27189, 0.029256, 4.982254e-05, 0.121072, 0.207102, 0.532494], [\"PQBP1\", \"treatment\", 0.365634, 0.053901, 0.000207584, 0.025329, 0.314082, 0.866827], [\"PRKACA\", \"treatment\", 1.693861, 0.069756, 1.015576e-06, 0.088853, 0.192898, 0.753049], [\"PRPF31\", \"treatment\", -0.31725, 0.049769, 1.008309e-05, -0.096744, 0.403786, 0.826035], [\"PRPF8\", \"treatment\", 0.287017, 0.048431, 5.60614e-05, -0.165503, 0.241291, 0.440712], [\"PRRC2A\", \"treatment\", 0.406321, 0.063439, 0.0001220594, -0.256544, 0.253429, 0.34953], [\"PSMB1\", \"treatment\", 0.086977, 0.023051, 0.001356838, 1.020428, 0.610085, 0.016597], [\"PSMB3\", \"treatment\", 0.52032, 0.024591, 2.42639e-06, -0.27954, 0.399012, 0.407918], [\"PSMB8\", \"treatment\", -0.094511, 0.022936, 0.000457644, 0.053465, 0.203159, 0.593281], [\"PSMB8-AS1\", \"treatment\", -0.315002, 0.042169, 0.0007267074, 0.148079, 0.198395, 0.414117], [\"PSMB9\", \"treatment\", -0.288502, 0.023572, 8.916683e-06, 0.745484, 0.185882, 0.0024], [\"PSMC4\", \"treatment\", -0.311374, 0.042688, 0.0001384462, 0.170719, 0.35339, 0.570886], [\"PSME1\", \"treatment\", -0.080836, 0.018772, 0.0005187371, -0.117897, 0.135512, 0.5005], [\"PSME2\", \"treatment\", 0.130972, 0.025759, 0.0007689106, 0.740069, 0.133463, 0.000449], [\"PTEN\", \"treatment\", 1.207543, 0.041557, 1.371328e-05, -0.143042, 0.17655, 0.357728], [\"PTPRC\", \"treatment\", -0.016659, 0.014681, 0.2003599, 0.251094, 0.077446, 0.00459], [\"RAD17\", \"treatment\", -0.286581, 0.087186, 0.004841737, 0.553182, 0.231176, 0.011798], [\"RASA3\", \"treatment\", -1.013805, 0.062353, 1.431563e-06, 0.055914, 0.229242, 0.767047], [\"RASSF7\", \"treatment\", -0.684625, 0.087546, 5.928768e-05, -0.107467, 0.231762, 0.643671], [\"RCC2\", \"treatment\", 0.746564, 0.06946, 3.239681e-05, 0.064363, 0.208861, 0.714257], [\"REXO4\", \"treatment\", -0.446084, 0.07709, 0.0003590298, -0.318566, 0.188898, 0.085783], [\"RING1\", \"treatment\", -0.025297, 0.073017, 0.6730654, -0.241336, 0.260011, 0.383723], [\"RNF139\", \"treatment\", 0.277473, 0.06254, 0.0005575532, 0.447887, 0.228134, 0.076785], [\"RNF187\", \"treatment\", -0.091528, 0.050498, 0.0619876, -0.276122, 0.345568, 0.411718], [\"RNF5\", \"treatment\", -0.327466, 0.056123, 0.0001955919, 0.071716, 0.247694, 0.824635], [\"RNH1\", \"treatment\", 1.153369, 0.029805, 1.064838e-06, 0.350112, 0.226786, 0.141572], [\"RPL7A\", \"treatment\", 0.273228, 0.009676, 1.054692e-06, 0.110262, 0.075192, 0.072785], [\"RPN2\", \"treatment\", 0.256567, 0.035111, 5.216085e-05, 0.06365, 0.173038, 0.743051], [\"RPS17\", \"treatment\", 0.901481, 0.038606, 2.485276e-06, -0.317861, 0.185872, 0.079184], [\"RPS18\", \"treatment\", 0.406438, 0.011442, 2.652561e-06, -0.194216, 0.063817, 0.029594], [\"RPS2\", \"treatment\", 0.593683, 0.011014, 4.58705e-05, -0.044577, 0.065105, 0.860428], [\"RPS25\", \"treatment\", 0.244502, 0.011001, 0.0001034834, -0.390898, 0.088652, 0.000435], [\"RPS3A\", \"treatment\", 0.328846, 0.009414, 4.203188e-05, -0.075314, 0.072701, 0.826035], [\"RPS6KA1\", \"treatment\", -0.099938, 0.04026, 0.0119976, -0.137693, 0.228566, 0.544491], [\"RPS9\", \"treatment\", 0.922445, 0.010285, 6.137154e-08, -0.401125, 0.089387, 0.000614], [\"RUFY1\", \"treatment\", 0.793261, 0.065817, 0.0002955518, 0.00686, 0.23591, 0.89922], [\"RYBP\", \"treatment\", 0.830721, 0.073605, 0.000105105, 0.149656, 0.219607, 0.512498], [\"SARS1\", \"treatment\", -0.043991, 0.043743, 0.3239352, -0.300041, 0.216343, 0.212957], [\"SCAMP3\", \"treatment\", -0.086254, 0.080201, 0.2615477, -0.516636, 0.321065, 0.135173], [\"SIRT2\", \"treatment\", -0.344363, 0.049326, 9.605192e-05, -0.412546, 0.402773, 0.29854], [\"SLC25A26\", \"treatment\", -0.397988, 0.083498, 0.0003724752, -0.034558, 0.250085, 0.865627], [\"SLC25A6\", \"treatment\", 1.13144, 0.018784, 1.935669e-06, 0.499989, 0.142366, 0.001702], [\"SLC27A3\", \"treatment\", 0.381074, 0.05156, 4.678142e-05, -0.093161, 0.250433, 0.692661], [\"SLC39A7\", \"treatment\", -0.436709, 0.070803, 0.0001398327, -0.292961, 0.240934, 0.254549], [\"SLC52A2\", \"treatment\", -0.520022, 0.065298, 4.795018e-05, -0.134835, 0.291004, 0.594481], [\"SMARCB1\", \"treatment\", 0.057597, 0.056993, 0.3621276, 0.098196, 0.259168, 0.619876], [\"SMDT1\", \"treatment\", 0.45615, 0.030212, 3.51316e-05, -0.044143, 0.200935, 0.881024], [\"SNHG9\", \"treatment\", -0.502366, 0.045359, 3.600839e-05, -0.343353, 0.187226, 0.073185], [\"SNTB2\", \"treatment\", -0.935014, 0.080336, 5.580251e-06, 0.242324, 0.231813, 0.256149], [\"SOD2\", \"treatment\", 2.799944, 0.053787, 8.552171e-09, 1.618265, 0.183539, 0.000115], [\"SQSTM1\", \"treatment\", 0.526321, 0.030903, 5.248416e-06, -0.075385, 0.207367, 0.710858], [\"SSBP1\", \"treatment\", -0.052939, 0.027197, 0.0379924, 0.509077, 0.36318, 0.134373], [\"STK19\", \"treatment\", 0.064275, 0.07441, 0.3755249, -0.332241, 0.253097, 0.189162], [\"SURF1\", \"treatment\", 0.523418, 0.044949, 8.185335e-07, -0.273819, 0.309643, 0.296941], [\"SURF2\", \"treatment\", 0.025131, 0.065191, 0.7542492, -0.46974, 0.336482, 0.164167], [\"SURF4\", \"treatment\", 0.198314, 0.049484, 0.0009146523, -0.21205, 0.266455, 0.503099], [\"SURF6\", \"treatment\", -0.167852, 0.07412, 0.02519496, -0.119615, 0.224252, 0.582683], [\"SYNRG\", \"treatment\", -0.73614, 0.048366, 3.413346e-06, 0.288377, 0.197597, 0.159568], [\"SZRD1\", \"treatment\", -0.011851, 0.053622, 0.8306339, -0.05492, 0.211653, 0.847231], [\"TAF15\", \"treatment\", -0.019667, 0.040257, 0.5562887, 0.175337, 0.188506, 0.421116], [\"TAP1\", \"treatment\", -0.433387, 0.04136, 6.332194e-06, 0.334783, 0.224964, 0.143571], [\"TAP2\", \"treatment\", -0.218598, 0.063838, 0.00174798, -0.011596, 0.210866, 0.935013], [\"TAPBP\", \"treatment\", 0.061132, 0.027927, 0.03439312, 0.082163, 0.161251, 0.706859], [\"TATDN1\", \"treatment\", 0.326246, 0.066541, 0.0004503479, 0.484177, 0.191384, 0.013797], [\"TAZ\", \"treatment\", 0.25981, 0.072736, 0.001417, 0.354509, 0.283876, 0.210558], [\"TGOLN2\", \"treatment\", 0.495462, 0.030638, 8.479968e-05, -0.051739, 0.182685, 0.662268], [\"TIMM17B\", \"treatment\", 0.455078, 0.053661, 0.0001313463, -0.04122, 0.310404, 0.853429], [\"TIMM22\", \"treatment\", -0.507469, 0.079689, 0.001512863, -0.068919, 0.231431, 0.778244], [\"TINF2\", \"treatment\", -0.368634, 0.050231, 0.0001051378, 0.232183, 0.259289, 0.335933], [\"TMEM131\", \"treatment\", 0.66039, 0.062993, 1.544388e-05, 0.068825, 0.201094, 0.766647], [\"STING1\", \"treatment\", 0.251712, 0.041135, 0.0001702487, -0.071068, 0.192753, 0.653469], [\"TMEM251\", \"treatment\", 0.086696, 0.073815, 0.2677465, 0.22541, 0.248183, 0.325935], [\"TNFRSF14\", \"treatment\", 0.116845, 0.03889, 0.00439912, -0.075305, 0.210835, 0.681464], [\"TNKS\", \"treatment\", -0.040946, 0.092088, 0.630074, 0.764269, 0.247493, 0.002599], [\"TOLLIP\", \"treatment\", 0.987202, 0.068306, 3.808973e-06, 0.000472, 0.242125, 0.980604], [\"TPRKB\", \"treatment\", 0.106958, 0.051087, 0.04339132, -0.256364, 0.217124, 0.24975], [\"TRAPPC12\", \"treatment\", 0.412269, 0.067832, 0.0003079398, 0.167477, 0.231849, 0.45091], [\"TRAPPC4\", \"treatment\", -0.698307, 0.053418, 0.0003138502, -0.369688, 0.300001, 0.235553], [\"TSEN34\", \"treatment\", 1.158316, 0.063654, 4.941853e-05, -0.034088, 0.26124, 0.935613], [\"GFUS\", \"treatment\", -0.24972, 0.060952, 0.0009862028, -0.03056, 0.305235, 0.864027], [\"TUBB\", \"treatment\", -0.043597, 0.041651, 0.264947, -0.356347, 0.176443, 0.05039], [\"USP16\", \"treatment\", 0.018153, 0.04013, 0.6612677, -0.226176, 0.177714, 0.305539], [\"VPS28\", \"treatment\", 0.330762, 0.02697, 8.910793e-06, -0.162315, 0.310493, 0.555489], [\"VPS53\", \"treatment\", 0.652537, 0.076771, 9.631943e-05, -0.225516, 0.281114, 0.372725], [\"WDR45\", \"treatment\", -0.135062, 0.053643, 0.00959808, -0.047127, 0.258521, 0.916417], [\"WDR46\", \"treatment\", -0.144058, 0.060941, 0.01759648, -0.198942, 0.252266, 0.516497], [\"WDR73\", \"treatment\", 0.144162, 0.084935, 0.0919816, 0.410293, 0.216672, 0.090382], [\"YTHDC1\", \"treatment\", -0.176379, 0.03772, 0.0001097951, -0.271168, 0.197404, 0.190162], [\"YWHAE\", \"treatment\", 1.152961, 0.03856, 1.270835e-07, -0.107908, 0.221183, 0.660868], [\"ZBTB4\", \"treatment\", -0.317439, 0.079725, 0.0008324247, -0.092006, 0.253048, 0.59888], [\"ZNF430\", \"treatment\", -0.171072, 0.069284, 0.01459708, 0.034185, 0.207233, 0.892621], [\"ZNHIT3\", \"treatment\", 0.02813, 0.051056, 0.6320736, -0.375076, 0.321663, 0.272346], [\"POLR1H\", \"treatment\", -0.324935, 0.049467, 0.0001832106, -0.173219, 0.257111, 0.527295], [\"ZYX\", \"treatment\", 1.464245, 0.04538, 1.58214e-08, -0.400974, 0.180756, 0.024395], [\"CORO7\", \"treatment\", 0.623463, 0.060414, 5.80994e-06, -0.260774, 0.270287, 0.364727], [\"DDX39B\", \"treatment\", -0.280922, 0.053319, 0.00033165, 0.111012, 0.222567, 0.643671], [\"HLA-DRB1\", \"treatment\", 3.901552, 0.056613, 3.471694e-07, 1.010127, 0.143275, 0.000426], [\"MTRNR2L12\", \"treatment\", 0.091072, 0.021932, 0.0006380391, 0.253269, 0.149235, 0.077385], [\"NEDD8\", \"treatment\", 0.136023, 0.022342, 0.0002142866, -0.321603, 0.323273, 0.381924], [\"TAF9\", \"treatment\", 0.661611, 0.056545, 2.577714e-05, 0.617047, 0.298331, 0.032194], [\"TMEM256\", \"treatment\", 0.613848, 0.042313, 0.0002864281, -0.31693, 0.250604, 0.178564], [\"TMEM42\", \"treatment\", -0.234223, 0.089112, 0.00659868, -0.320234, 0.228309, 0.137572], [\"ZBED1\", \"treatment\", 0.4344, 0.076159, 0.0001205342, 0.086919, 0.209643, 0.747451], [\"ATP5IF1\", \"treatment\", -0.241755, 0.023857, 1.120224e-05, -0.070812, 0.207357, 0.832034], [\"BORCS7\", \"treatment\", 0.396276, 0.049714, 1.143797e-05, -0.153457, 0.185143, 0.373725], [\"VSIR\", \"treatment\", 1.703757, 0.029264, 1.091146e-07, -0.291076, 0.224466, 0.122176], [\"EMSY\", \"treatment\", -0.091823, 0.08812, 0.2479504, -0.12791, 0.219569, 0.522496], [\"SELENOH\", \"treatment\", 0.589016, 0.031417, 1.825496e-06, -0.500312, 0.29356, 0.105779], [\"NKAPD1\", \"treatment\", 0.227819, 0.071262, 0.00239952, -0.129435, 0.182903, 0.438112], [\"HIKESHI\", \"treatment\", 0.090713, 0.047448, 0.06378724, -0.076544, 0.268367, 0.828834], [\"GON7\", \"treatment\", -0.252476, 0.090727, 0.00439912, 0.273376, 0.230888, 0.20136], [\"DGLUCY\", \"treatment\", 0.490437, 0.064611, 7.917257e-05, 0.150326, 0.226711, 0.457708], [\"RTRAF\", \"treatment\", 0.596737, 0.031279, 2.759161e-08, -0.027377, 0.305379, 0.9994], [\"ATP5MJ\", \"treatment\", 0.885184, 0.020675, 1.310064e-06, 0.275012, 0.294803, 0.414317], [\"CCDC32\", \"treatment\", -0.482551, 0.077689, 0.001238504, 0.30981, 0.239981, 0.185163], [\"METTL26\", \"treatment\", 0.247343, 0.044249, 0.0001474507, -0.261751, 0.191764, 0.14857], [\"BORCS6\", \"treatment\", -0.512808, 0.067728, 6.24003e-05, -0.132137, 0.258278, 0.59928], [\"CYBC1\", \"treatment\", 0.020986, 0.040411, 0.6506699, 0.357925, 0.223417, 0.136573], [\"NCBP3\", \"treatment\", 0.203362, 0.057228, 0.001860988, -0.33894, 0.190232, 0.075985], [\"NDUFAF8\", \"treatment\", 0.001701, 0.04197, 0.9780044, -0.229834, 0.242986, 0.371926], [\"FAM174C\", \"treatment\", 0.310647, 0.045037, 6.338614e-05, -0.821802, 0.325847, 0.025395], [\"TRIR\", \"treatment\", 0.097403, 0.020335, 0.002132285, -0.27203, 0.255865, 0.318336], [\"TIMM29\", \"treatment\", -0.441636, 0.077201, 0.0001806422, -0.277859, 0.245035, 0.219156], [\"REX1BD\", \"treatment\", 0.156663, 0.032675, 0.002023934, -0.05658, 0.223429, 0.707059], [\"SHFL\", \"treatment\", -0.816103, 0.053924, 2.581036e-06, 0.179757, 0.230477, 0.381324], [\"MICOS13\", \"treatment\", 0.229762, 0.037396, 0.0001072367, -0.193499, 0.23153, 0.44891], [\"CZIB\", \"treatment\", -0.083861, 0.052715, 0.09778044, 0.311063, 0.271622, 0.219156], [\"FAAP20\", \"treatment\", 0.323067, 0.04267, 2.360274e-05, -0.576121, 0.439456, 0.147171], [\"RAB5IF\", \"treatment\", 0.68522, 0.032858, 4.226906e-07, 0.17994, 0.230604, 0.411518], [\"CFAP410\", \"treatment\", -0.191176, 0.078771, 0.0139972, 0.140226, 0.227805, 0.479304], [\"CFAP298\", \"treatment\", -0.218292, 0.065404, 0.002457378, 0.115619, 0.237127, 0.584483], [\"NEPRO\", \"treatment\", 0.138092, 0.077217, 0.08818236, 0.176617, 0.217867, 0.403119], [\"HPF1\", \"treatment\", -0.174079, 0.064639, 0.00759848, 0.00851, 0.200893, 0.938012], [\"SMIM29\", \"treatment\", -0.137077, 0.067649, 0.0359928, 0.154723, 0.246052, 0.539892], [\"ILRUN\", \"treatment\", -0.12987, 0.068705, 0.0529894, -0.25855, 0.355363, 0.663267], [\"SNHG32\", \"treatment\", 0.557456, 0.046138, 3.402785e-06, -0.284343, 0.21137, 0.168766], [\"CYREN\", \"treatment\", 0.01185, 0.084843, 0.9506099, -0.353672, 0.241338, 0.110978], [\"FMC1\", \"treatment\", -0.055919, 0.069673, 0.4439112, 0.148716, 0.211202, 0.403119], [\"STMP1\", \"treatment\", 0.725339, 0.032928, 9.295902e-06, -0.526494, 0.248043, 0.038592], [\"RBIS\", \"treatment\", 0.490301, 0.03109, 0.0001368278, -0.215302, 0.204437, 0.215757], [\"PAXX\", \"treatment\", -1.042555, 0.034709, 5.461929e-05, -0.329819, 0.186545, 0.10218], [\"TMEM250\", \"treatment\", -0.111171, 0.07166, 0.1227754, 0.235477, 0.242507, 0.29814], [\"CARD19\", \"treatment\", 1.490706, 0.06408, 6.689058e-05, 0.214047, 0.212216, 0.278144], [\"RFLNB\", \"treatment\", 0.994271, 0.072429, 7.985208e-07, 0.694601, 0.189501, 0.001592], [\"MCRIP1\", \"treatment\", -0.374427, 0.043132, 7.143499e-05, 0.072287, 0.378179, 0.936213], [\"SINHCAF\", \"treatment\", -0.064079, 0.063474, 0.2967407, 0.660622, 0.223198, 0.009198], [\"SMIM10L1\", \"treatment\", -0.461158, 0.051647, 3.616272e-05, -0.264012, 0.211046, 0.231754], [\"GIHCG\", \"treatment\", -0.652588, 0.092519, 1.091039e-05, -0.326314, 0.193781, 0.127375], [\"CTD-2336O2.1\", \"treatment\", 0.061443, 0.06554, 0.3593281, -0.254614, 0.266565, 0.402519], [\"RP11-796E2.4\", \"treatment\", 0.352956, 0.075594, 0.0004805947, 0.174823, 0.22944, 0.625075], [\"CEP250-AS1\", \"treatment\", -0.851017, 0.081069, 2.595175e-06, -0.456152, 0.200799, 0.026995], [\"SNHG30\", \"treatment\", -0.204027, 0.074373, 0.00539892, -0.356189, 0.247411, 0.137772], [\"SNHG25\", \"treatment\", 0.590845, 0.051228, 1.435076e-05, -0.340852, 0.235807, 0.124575], [\"TFAP2E-AS1\", \"treatment\", -1.44526, 0.089143, 7.684283e-06, -0.20173, 0.241852, 0.455109], [\"FMNL1-DT\", \"treatment\", 0.455928, 0.072368, 0.0001512567, -0.071565, 0.23877, 0.837033], [\"BORCS5\", \"treatment\", -0.059087, 0.072367, 0.3741252, 0.039771, 0.199836, 0.837832], [\"NSMCE3\", \"treatment\", -1.180576, 0.054672, 4.058672e-07, -0.072584, 0.272801, 0.776645], [\"SEPTIN2\", \"treatment\", 0.444799, 0.037453, 4.825008e-05, -0.266142, 0.200105, 0.221756], [\"SEPTIN9\", \"treatment\", 0.40323, 0.032456, 7.348095e-06, -0.128955, 0.168129, 0.408518], [\"CENPX\", \"treatment\", 0.088838, 0.053045, 0.1027794, -0.104838, 0.267155, 0.757049], [\"PIP4P1\", \"treatment\", 0.081169, 0.079839, 0.3413317, 0.113314, 0.215603, 0.588482], [\"RP3-395M20.12\", \"treatment\", -0.928569, 0.073331, 1.058445e-05, -0.162508, 0.245722, 0.589082], [\"RP11-386I14.4\", \"treatment\", 1.011495, 0.049088, 1.852403e-06, 0.07336, 0.106652, 0.534693], [\"CH17-373J23.1\", \"treatment\", 1.530706, 0.047271, 6.338383e-05, 0.152876, 0.150926, 0.304139], [\"CH17-189H20.1\", \"treatment\", -0.648114, 0.038018, 5.313807e-06, -0.141515, 0.203863, 0.523895], [\"RP11-488L18.10\", \"treatment\", 0.471571, 0.074963, 0.0001490564, 0.179627, 0.209159, 0.464107], [\"CTD-2035E11.3\", \"treatment\", -0.369994, 0.071614, 0.0001528595, 0.109671, 0.166748, 0.572086], [\"RP11-792A8.4\", \"treatment\", 0.265019, 0.065668, 0.001189304, 0.100345, 0.243918, 0.760648], [\"RP11-489E7.4\", \"treatment\", -0.963692, 0.040719, 1.126108e-06, -0.025301, 0.139043, 0.920616], [\"DCTN6-DT\", \"treatment\", -0.695772, 0.057981, 1.899083e-06, 0.042316, 0.167445, 0.724455], [\"RP11-596C23.2\", \"treatment\", -0.385771, 0.086364, 0.0003366661, -0.177749, 0.225293, 0.437512], [\"PIGBOS1\", \"treatment\", 0.561062, 0.054561, 3.972906e-05, -1.135596, 0.478912, 0.034993], [\"RP11-160E2.6\", \"treatment\", 1.614016, 0.037271, 8.783879e-08, -0.417778, 0.10834, 0.0017], [\"RP5-1171I10.5\", \"treatment\", -0.043695, 0.036598, 0.2107578, -0.222866, 0.137197, 0.09938], [\"RP11-758H9.2\", \"treatment\", 0.056233, 0.06804, 0.4227155, -0.047515, 0.200876, 0.831434], [\"RP5-906C1.1\", \"treatment\", -0.386647, 0.091308, 0.0006712128, 0.118563, 0.235777, 0.610278], [\"LLNLR-245B6.1\", \"treatment\", 0.096705, 0.072268, 0.1845631, -0.591445, 0.192502, 0.003599], [\"LL22NC03-2H8.5\", \"treatment\", -0.372966, 0.106936, 0.001931135, 0.087045, 0.213671, 0.621876], [\"RNU12_ENSG00000270022\", \"treatment\", 1.287574, 0.06813, 0.0001830928, 0.48395, 0.195596, 0.025595], [\"CTA-29F11.1\", \"treatment\", -0.642627, 0.066958, 2.277523e-05, -0.144166, 0.198106, 0.4979], [\"ENSG00000273748.1\", \"treatment\", 0.039858, 0.078803, 0.6240752, 0.165485, 0.185526, 0.337532], [\"MUC20-OT1\", \"treatment\", 0.363593, 0.052419, 0.0001678652, -0.144004, 0.192051, 0.488302]];\n",
       "\n",
       "            // Define the dt_args\n",
       "            let dt_args = {\"order\": [], \"fnInfoCallback\": function (oSettings, iStart, iEnd, iMax, iTotal, sPre) { return sPre + ' (<a href=\"https://mwouts.github.io/itables/downsampling.html\">downsampled</a> from 4,857x8 to 1,023x8 as maxBytes=65536)'; }};\n",
       "            dt_args[\"data\"] = data;\n",
       "\n",
       "            \n",
       "            new $.fn.dataTable(table, dt_args);\n",
       "        });\n",
       "    });\n",
       "</script>\n",
       "</div>\n"
      ],
      "text/plain": [
       "                       gene         tx   de_coef     de_se   de_pval  \\\n",
       "0                    PRXL2C  treatment  0.264879  0.070668  0.001783   \n",
       "1                      AAK1  treatment -0.725003  0.034958  0.000012   \n",
       "2                      AAMP  treatment  0.179137  0.052185  0.001788   \n",
       "3                     AASDH  treatment -0.324482  0.089005  0.001152   \n",
       "4                  AASDHPPT  treatment  0.103343  0.064730  0.119976   \n",
       "...                     ...        ...       ...       ...       ...   \n",
       "4852         LL22NC03-2H8.5  treatment -0.372966  0.106936  0.001931   \n",
       "4853  RNU12_ENSG00000270022  treatment  1.287574  0.068130  0.000183   \n",
       "4854            CTA-29F11.1  treatment -0.642627  0.066958  0.000023   \n",
       "4855      ENSG00000273748.1  treatment  0.039858  0.078803  0.624075   \n",
       "4856              MUC20-OT1  treatment  0.363593  0.052419  0.000168   \n",
       "\n",
       "       dv_coef     dv_se   dv_pval  \n",
       "0     0.069764  0.271753  0.750850  \n",
       "1     0.835903  0.276257  0.013797  \n",
       "2    -0.174533  0.289675  0.502300  \n",
       "3     0.041772  0.226266  0.859628  \n",
       "4     0.001424  0.226486  0.912617  \n",
       "...        ...       ...       ...  \n",
       "4852  0.087045  0.213671  0.621876  \n",
       "4853  0.483950  0.195596  0.025595  \n",
       "4854 -0.144166  0.198106  0.497900  \n",
       "4855  0.165485  0.185526  0.337532  \n",
       "4856 -0.144004  0.192051  0.488302  \n",
       "\n",
       "[4857 rows x 8 columns]"
      ]
     },
     "execution_count": 19,
     "metadata": {},
     "output_type": "execute_result"
    }
   ],
   "source": [
    "result"
   ]
  },
  {
   "cell_type": "markdown",
   "id": "0e5ef97a-a57a-421e-b8a4-9b9b5d49a60e",
   "metadata": {},
   "source": [
    "**b) Single-dataset, four donors, controlling for donors**\n",
    "\n",
    "- Collection: A Web Portal and Workbench for Biological Dissection of Single Cell COVID-19 Host Responses\n",
    "- Dataset: Individual Single-Cell RNA-seq PBMC Data from Arunachalam et al.\n",
    "   - Assay: 10X\n",
    "- Comparison:\n",
    "   - classical monocytes vs T-cells in four donors, including donors as covariates."
   ]
  },
  {
   "cell_type": "code",
   "execution_count": 20,
   "id": "affdfe9a-0527-4db4-a01a-5ff787ba50fd",
   "metadata": {},
   "outputs": [],
   "source": [
    "datasets = [dataset_aruna]\n",
    "donor_id = [\"cov17\", \"cov18\", \"cov07\", \"cov08\", \"cov09\"]\n",
    "disease = \"normal\"\n",
    "cell_types = [cell_type_monocyte, cell_type_nk]\n",
    "\n",
    "\n",
    "adata = cellxgene_census.get_anndata(\n",
    "    census=census,\n",
    "    organism=\"homo_sapiens\",\n",
    "    obsm_layers=[\"scvi\"],\n",
    "    obs_value_filter=f\"dataset_id in {datasets} and disease == '{disease}' and cell_type in {cell_types} and donor_id in {donor_id}\",\n",
    ")"
   ]
  },
  {
   "cell_type": "code",
   "execution_count": 21,
   "id": "9599358a-157a-4b97-b872-574b2bb8c28d",
   "metadata": {},
   "outputs": [],
   "source": [
    "# adata.obs[\"donor_id\"].value_counts()"
   ]
  },
  {
   "cell_type": "code",
   "execution_count": 22,
   "id": "d828fe6b-ca60-4251-a113-86e993b0d51c",
   "metadata": {},
   "outputs": [],
   "source": [
    "# scanpy.pp.neighbors(adata, use_rep=\"scvi\")\n",
    "# scanpy.tl.umap(adata)\n",
    "# scanpy.pl.umap(adata, color=[\"cell_type\"])\n",
    "# scanpy.pl.umap(adata, color=[\"donor_id\"])"
   ]
  },
  {
   "cell_type": "code",
   "execution_count": 23,
   "id": "bd2b1d23-ca6f-48f4-8f0b-313bc718c381",
   "metadata": {},
   "outputs": [
    {
     "name": "stderr",
     "output_type": "stream",
     "text": [
      "/Users/pgarcia-nieto/scripts/repos/scrna-parameter-estimation/memento/main.py:181: FutureWarning: errors='ignore' is deprecated and will raise in a future version. Use to_numeric without passing `errors` and catch exceptions explicitly instead\n",
      "  df[col] = pd.to_numeric(df[col], errors='ignore')\n",
      "[Parallel(n_jobs=12)]: Using backend LokyBackend with 12 concurrent workers.\n",
      "[Parallel(n_jobs=12)]: Done  28 tasks      | elapsed:    0.8s\n",
      "[Parallel(n_jobs=12)]: Done 328 tasks      | elapsed:    7.2s\n",
      "/Users/pgarcia-nieto/venv_uce/lib/python3.11/site-packages/joblib/externals/loky/process_executor.py:752: UserWarning: A worker stopped while some jobs were given to the executor. This can be caused by a too short worker timeout or by a memory leak.\n",
      "  warnings.warn(\n",
      "/Users/pgarcia-nieto/venv_uce/lib/python3.11/site-packages/tiledb/ctx.py:560: UserWarning: TileDB is a multithreading library and deadlocks are likely if fork() is called after a TileDB context has been created (such as for array access). To safely use TileDB with multiprocessing or concurrent.futures, choose 'spawn' as the start method for child processes. For example: multiprocessing.set_start_method('spawn').\n",
      "  warnings.warn(\n",
      "[Parallel(n_jobs=12)]: Done 828 tasks      | elapsed:   18.9s\n",
      "[Parallel(n_jobs=12)]: Done 1528 tasks      | elapsed:   35.2s\n",
      "[Parallel(n_jobs=12)]: Done 2428 tasks      | elapsed:   55.7s\n",
      "[Parallel(n_jobs=12)]: Done 3204 tasks      | elapsed:  1.3min\n",
      "[Parallel(n_jobs=12)]: Done 3854 tasks      | elapsed:  1.5min\n",
      "[Parallel(n_jobs=12)]: Done 4297 out of 4297 | elapsed:  1.7min finished\n"
     ]
    }
   ],
   "source": [
    "# Setup\n",
    "\n",
    "# Assuming sequenced to 50%, dataset specific number\n",
    "adata.var.index = adata.var[\"feature_name\"].values\n",
    "adata.obs[\"q\"] = 0.15\n",
    "\n",
    "\n",
    "# Classical monocyte encoded as 1\n",
    "adata.obs[\"treatment\"] = (adata.obs[\"cell_type\"] == cell_types[0]).astype(int)\n",
    "\n",
    "# Setup memento\n",
    "memento.setup_memento(adata, q_column=\"q\", trim_percent=0.1)  # trim_percent tunes cell size calculation\n",
    "memento.create_groups(adata, label_columns=[\"treatment\", \"donor_id\"])\n",
    "memento.compute_1d_moments(adata, min_perc_group=0.9)\n",
    "group_metadata = memento.get_groups(adata)\n",
    "\n",
    "treatment_df = group_metadata[[\"treatment\"]]\n",
    "covariate_df = pd.get_dummies(group_metadata[[\"donor_id\"]], drop_first=True).astype(float)\n",
    "covariate_df -= covariate_df.mean()  # covariates for Lin's estimator\n",
    "\n",
    "# Include interactions\n",
    "covariate_df[\"interaction\"] = treatment_df.iloc[:, 0] * covariate_df.iloc[:, 0]\n",
    "\n",
    "memento.ht_1d_moments(\n",
    "    adata,\n",
    "    covariate=covariate_df,\n",
    "    treatment=treatment_df,\n",
    "    num_boot=5000,\n",
    "    verbose=1,\n",
    "    num_cpus=12,\n",
    "    resample_rep=False,\n",
    "    approx=False,\n",
    ")\n",
    "\n",
    "result = memento.get_1d_ht_result(adata)"
   ]
  },
  {
   "cell_type": "code",
   "execution_count": 24,
   "id": "b81f5245-470c-4943-b4dd-5c717677225a",
   "metadata": {},
   "outputs": [],
   "source": [
    "# result"
   ]
  },
  {
   "cell_type": "markdown",
   "id": "f3cc4cc6-1e82-406d-91f0-c046e1600888",
   "metadata": {},
   "source": [
    "**c) Single-dataset COVID, two donors, controlling for donors**\n",
    "\n",
    "- Collection: A Web Portal and Workbench for Biological Dissection of Single Cell COVID-19 Host Responses\n",
    "- Dataset: Individual Single-Cell RNA-seq PBMC Data from Guo et al.\n",
    "   - Assay: 10X\n",
    "- Comparison:\n",
    "   - classical monocytes vs T-cells in two donors, including donors as covariates."
   ]
  },
  {
   "cell_type": "code",
   "execution_count": 25,
   "id": "9192bafd-35a1-498c-8b7c-e2462319bcb5",
   "metadata": {},
   "outputs": [],
   "source": [
    "datasets = [dataset_guo]\n",
    "donor_id = [\"P1\", \"P2\"]\n",
    "disease = \"COVID-19\"\n",
    "cell_types = [cell_type_monocyte, cell_type_nk]\n",
    "\n",
    "adata = cellxgene_census.get_anndata(\n",
    "    census=census,\n",
    "    organism=\"homo_sapiens\",\n",
    "    obsm_layers=[\"scvi\"],\n",
    "    obs_value_filter=f\"dataset_id in {datasets} and disease == '{disease}' and cell_type in {cell_types} and donor_id in {donor_id}\",\n",
    ")"
   ]
  },
  {
   "cell_type": "code",
   "execution_count": 26,
   "id": "656aa3b9-b1fd-4e14-8085-c5e831190dbb",
   "metadata": {},
   "outputs": [],
   "source": [
    "# adata.obs[\"donor_id\"].value_counts()"
   ]
  },
  {
   "cell_type": "code",
   "execution_count": 27,
   "id": "caf5e17b-343c-4d23-beeb-bd248295635c",
   "metadata": {},
   "outputs": [],
   "source": [
    "# scanpy.pp.neighbors(adata, use_rep=\"scvi\")\n",
    "# scanpy.tl.umap(adata)\n",
    "# scanpy.pl.umap(adata, color=[\"cell_type\"])\n",
    "# scanpy.pl.umap(adata, color=[\"donor_id\"])"
   ]
  },
  {
   "cell_type": "code",
   "execution_count": 28,
   "id": "8afde602-7cf2-4c0f-9f20-334991105993",
   "metadata": {},
   "outputs": [
    {
     "name": "stderr",
     "output_type": "stream",
     "text": [
      "/Users/pgarcia-nieto/scripts/repos/scrna-parameter-estimation/memento/main.py:181: FutureWarning: errors='ignore' is deprecated and will raise in a future version. Use to_numeric without passing `errors` and catch exceptions explicitly instead\n",
      "  df[col] = pd.to_numeric(df[col], errors='ignore')\n",
      "[Parallel(n_jobs=12)]: Using backend LokyBackend with 12 concurrent workers.\n",
      "[Parallel(n_jobs=12)]: Done  29 tasks      | elapsed:    0.5s\n",
      "[Parallel(n_jobs=12)]: Done 328 tasks      | elapsed:    4.2s\n",
      "[Parallel(n_jobs=12)]: Done 828 tasks      | elapsed:   10.3s\n",
      "/Users/pgarcia-nieto/venv_uce/lib/python3.11/site-packages/joblib/externals/loky/process_executor.py:752: UserWarning: A worker stopped while some jobs were given to the executor. This can be caused by a too short worker timeout or by a memory leak.\n",
      "  warnings.warn(\n",
      "/Users/pgarcia-nieto/venv_uce/lib/python3.11/site-packages/tiledb/ctx.py:560: UserWarning: TileDB is a multithreading library and deadlocks are likely if fork() is called after a TileDB context has been created (such as for array access). To safely use TileDB with multiprocessing or concurrent.futures, choose 'spawn' as the start method for child processes. For example: multiprocessing.set_start_method('spawn').\n",
      "  warnings.warn(\n",
      "[Parallel(n_jobs=12)]: Done 1528 tasks      | elapsed:   19.8s\n",
      "[Parallel(n_jobs=12)]: Done 2428 tasks      | elapsed:   32.1s\n",
      "[Parallel(n_jobs=12)]: Done 2887 out of 2910 | elapsed:   38.3s remaining:    0.3s\n",
      "[Parallel(n_jobs=12)]: Done 2910 out of 2910 | elapsed:   38.5s finished\n"
     ]
    }
   ],
   "source": [
    "# Setup\n",
    "\n",
    "# Assuming sequenced to 50%, dataset specific number\n",
    "adata.var.index = adata.var[\"feature_name\"].values\n",
    "adata.obs[\"q\"] = 0.15\n",
    "\n",
    "\n",
    "# Classical monocyte encoded as 1\n",
    "adata.obs[\"treatment\"] = (adata.obs[\"cell_type\"] == cell_types[0]).astype(int)\n",
    "\n",
    "# Setup memento\n",
    "memento.setup_memento(adata, q_column=\"q\", trim_percent=0.1)  # trim_percent tunes cell size calculation\n",
    "memento.create_groups(adata, label_columns=[\"treatment\", \"donor_id\"])\n",
    "memento.compute_1d_moments(adata, min_perc_group=0.9)\n",
    "group_metadata = memento.get_groups(adata)\n",
    "\n",
    "treatment_df = group_metadata[[\"treatment\"]]\n",
    "covariate_df = pd.get_dummies(group_metadata[[\"donor_id\"]], drop_first=True).astype(float)\n",
    "covariate_df -= covariate_df.mean()  # covariates for Lin's estimator\n",
    "\n",
    "# Include interactions\n",
    "covariate_df[\"interaction\"] = treatment_df.iloc[:, 0] * covariate_df.iloc[:, 0]\n",
    "\n",
    "memento.ht_1d_moments(\n",
    "    adata,\n",
    "    covariate=covariate_df,\n",
    "    treatment=treatment_df,\n",
    "    num_boot=5000,\n",
    "    verbose=1,\n",
    "    num_cpus=12,\n",
    "    resample_rep=False,\n",
    "    approx=False,\n",
    ")\n",
    "\n",
    "result = memento.get_1d_ht_result(adata)"
   ]
  },
  {
   "cell_type": "code",
   "execution_count": 29,
   "id": "32028404-d65b-4e3c-a791-897c2187b34d",
   "metadata": {},
   "outputs": [],
   "source": [
    "# result"
   ]
  }
 ],
 "metadata": {
  "kernelspec": {
   "display_name": "Python 3 (ipykernel)",
   "language": "python",
   "name": "python3"
  },
  "language_info": {
   "codemirror_mode": {
    "name": "ipython",
    "version": 3
   },
   "file_extension": ".py",
   "mimetype": "text/x-python",
   "name": "python",
   "nbconvert_exporter": "python",
   "pygments_lexer": "ipython3",
   "version": "3.10.13"
  }
 },
 "nbformat": 4,
 "nbformat_minor": 5
}
