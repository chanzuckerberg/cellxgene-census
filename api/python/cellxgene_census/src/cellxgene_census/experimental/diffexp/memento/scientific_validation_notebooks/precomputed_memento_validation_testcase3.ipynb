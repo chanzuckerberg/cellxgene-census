{
 "cells": [
  {
   "cell_type": "markdown",
   "id": "6caacabf-1002-47fb-b38d-96fcb4f10133",
   "metadata": {},
   "source": [
    "## Scientific validation of memento implementations\n",
    "\n",
    "This notebook runs through test cases for differential expression where the p-value outputs\n",
    "of vanilla memento implementation are compared to the p-value outputs of precomputed memento\n",
    "implementation\n",
    "\n",
    "**NOTE**:\n",
    "- Run this notebook from the `cellxgene-census` repo in the `psridharan/memento-sci-val-1` branch\n",
    "- Download estimator cube from `s3://psridharan-tmp/memento/memento-cube-census-data-2023-12-15/`"
   ]
  },
  {
   "cell_type": "code",
   "execution_count": 18,
   "id": "ae923ea5-7c72-4743-aea1-c854593fc1ec",
   "metadata": {},
   "outputs": [],
   "source": [
    "import matplotlib.pyplot as plt\n",
    "import memento\n",
    "import numpy as np\n",
    "\n",
    "import cellxgene_census\n",
    "import cellxgene_census.experimental.diffexp.memento.diff_expr as precomputed_memento\n",
    "\n",
    "census = cellxgene_census.open_soma(census_version=\"2023-12-15\")\n",
    "precomputed_memento_estimator_cube_path = (\n",
    "    \"/Users/psridharan/code/cellxgene-census/memento-cubes/memento-cube-census-data-2023-12-15\"\n",
    ")"
   ]
  },
  {
   "cell_type": "markdown",
   "id": "dea834b2-0db9-49c2-a206-2251863dc891",
   "metadata": {},
   "source": [
    "## TEST CASE 3: Single Dataset, Single Donor, No Batch Effects\n",
    "- Collection: A Web Portal and Workbench for Biological Dissection of Single Cell COVID-19 Host Responses\n",
    "- Dataset: Individual Single-Cell RNA-seq PBMC Data from Arunachalam et al.\n",
    "   - Assay: 10X\n",
    "- Comparison:\n",
    "   - classical monocytes vs natural killer cells in one donor"
   ]
  },
  {
   "cell_type": "code",
   "execution_count": 19,
   "id": "59ccd78c-0161-4f5b-a3ad-485943465cda",
   "metadata": {},
   "outputs": [
    {
     "data": {
      "text/plain": [
       "{'census_obs_query': \"is_primary_data == True and dataset_id in ['59b69042-47c2-47fd-ad03-d21beb99818f'] and disease in ['normal'] and cell_type in ['classical monocyte', 'natural killer cell'] and donor_id == 'cov17'\",\n",
       " 'precomputed_memento_query': \"dataset_id in ['59b69042-47c2-47fd-ad03-d21beb99818f'] and disease_ontology_term_id in ['PATO:0000461'] and cell_type_ontology_term_id in ['CL:0000860', 'CL:0000623'] and donor_id == 'cov17'\"}"
      ]
     },
     "execution_count": 19,
     "metadata": {},
     "output_type": "execute_result"
    }
   ],
   "source": [
    "# data\n",
    "dataset_aruna = \"59b69042-47c2-47fd-ad03-d21beb99818f\"\n",
    "disease_info_map = {\"normal\": \"PATO:0000461\"}\n",
    "\n",
    "cell_type_monocyte = \"classical monocyte\"\n",
    "cell_type_nk = \"natural killer cell\"\n",
    "cell_type_info_map = {\n",
    "    cell_type_monocyte: \"CL:0000860\",\n",
    "    cell_type_nk: \"CL:0000623\",\n",
    "}\n",
    "\n",
    "\n",
    "# query params\n",
    "datasets = [dataset_aruna]\n",
    "\n",
    "diseases = list(disease_info_map.keys())\n",
    "disease_ontology_ids = list(disease_info_map.values())\n",
    "\n",
    "donor_id = \"cov17\"\n",
    "\n",
    "cell_types = list(cell_type_info_map.keys())\n",
    "cell_type_ontology_ids = list(cell_type_info_map.values())\n",
    "\n",
    "# a test case is encapsulated as a census query and as a query to precomputed memento cube.\n",
    "# The precomputed memento cube is the same as the census query except that the precomputed memento cube\n",
    "# stores ontology term IDs and such the query should be formulated with ontology term IDs\n",
    "test_case = {\n",
    "    \"census_obs_query\": f\"is_primary_data == True and dataset_id in {datasets} and disease in {diseases} and cell_type in {cell_types} and donor_id == '{donor_id}'\",\n",
    "    \"precomputed_memento_query\": f\"dataset_id in {datasets} and disease_ontology_term_id in {disease_ontology_ids} and cell_type_ontology_term_id in {cell_type_ontology_ids} and donor_id == '{donor_id}'\",\n",
    "}\n",
    "\n",
    "test_case"
   ]
  },
  {
   "cell_type": "markdown",
   "id": "3bd2c1f8-52eb-49f6-b5fd-937323618db8",
   "metadata": {},
   "source": [
    "#### Get anndata object for test case"
   ]
  },
  {
   "cell_type": "code",
   "execution_count": 20,
   "id": "3fdd1931-32e4-4874-9f6c-c496099cc38d",
   "metadata": {},
   "outputs": [
    {
     "data": {
      "text/plain": [
       "cell_type            dataset_id                            donor_id\n",
       "natural killer cell  59b69042-47c2-47fd-ad03-d21beb99818f  cov17       2312\n",
       "classical monocyte   59b69042-47c2-47fd-ad03-d21beb99818f  cov17       2050\n",
       "Name: count, dtype: int64"
      ]
     },
     "execution_count": 20,
     "metadata": {},
     "output_type": "execute_result"
    }
   ],
   "source": [
    "adata = cellxgene_census.get_anndata(\n",
    "    census=census,\n",
    "    organism=\"homo_sapiens\",\n",
    "    obsm_layers=[\"scvi\"],\n",
    "    obs_value_filter=test_case[\"census_obs_query\"],\n",
    ")\n",
    "\n",
    "adata.obs[[\"cell_type\", \"dataset_id\", \"donor_id\"]].value_counts()"
   ]
  },
  {
   "cell_type": "markdown",
   "id": "7dbdfafa-2b6d-438d-baf5-f485e162a8ab",
   "metadata": {},
   "source": [
    "#### Run vanilla memento on test case"
   ]
  },
  {
   "cell_type": "code",
   "execution_count": 21,
   "id": "3bd6853a-1896-4b57-bd2b-f313add62be0",
   "metadata": {},
   "outputs": [
    {
     "name": "stderr",
     "output_type": "stream",
     "text": [
      "/Users/psridharan/miniconda3/envs/vanilla-memento/lib/python3.10/site-packages/memento/main.py:181: FutureWarning: errors='ignore' is deprecated and will raise in a future version. Use to_numeric without passing `errors` and catch exceptions explicitly instead\n",
      "  df[col] = pd.to_numeric(df[col], errors='ignore')\n"
     ]
    }
   ],
   "source": [
    "# Assuming sequenced to 50%, dataset specific number\n",
    "adata.var.index = adata.var[\"feature_id\"].values  # use feature_id to refer to the gene\n",
    "adata.obs[\"q\"] = 0.15\n",
    "\n",
    "\n",
    "# Classical monocyte encoded as 1\n",
    "adata.obs[\"treatment\"] = (adata.obs[\"cell_type\"] == \"classical monocyte\").astype(int)\n",
    "\n",
    "# Setup memento\n",
    "memento.setup_memento(adata, q_column=\"q\", trim_percent=0.1)  # trim_percent tunes cell size calculation\n",
    "memento.create_groups(adata, label_columns=[\"treatment\"])\n",
    "memento.compute_1d_moments(adata, min_perc_group=0.9)\n",
    "group_metadata = memento.get_groups(adata)\n",
    "\n",
    "treatment_df = group_metadata[[\"treatment\"]]"
   ]
  },
  {
   "cell_type": "code",
   "execution_count": 22,
   "id": "5f441f7d-7f38-4644-b4ad-e7e2c0cb2383",
   "metadata": {},
   "outputs": [
    {
     "data": {
      "text/html": [
       "<div>\n",
       "<style scoped>\n",
       "    .dataframe tbody tr th:only-of-type {\n",
       "        vertical-align: middle;\n",
       "    }\n",
       "\n",
       "    .dataframe tbody tr th {\n",
       "        vertical-align: top;\n",
       "    }\n",
       "\n",
       "    .dataframe thead th {\n",
       "        text-align: right;\n",
       "    }\n",
       "</style>\n",
       "<table border=\"1\" class=\"dataframe\">\n",
       "  <thead>\n",
       "    <tr style=\"text-align: right;\">\n",
       "      <th></th>\n",
       "      <th>treatment</th>\n",
       "    </tr>\n",
       "  </thead>\n",
       "  <tbody>\n",
       "    <tr>\n",
       "      <th>sg^1</th>\n",
       "      <td>1</td>\n",
       "    </tr>\n",
       "    <tr>\n",
       "      <th>sg^0</th>\n",
       "      <td>0</td>\n",
       "    </tr>\n",
       "  </tbody>\n",
       "</table>\n",
       "</div>"
      ],
      "text/plain": [
       "      treatment\n",
       "sg^1          1\n",
       "sg^0          0"
      ]
     },
     "execution_count": 22,
     "metadata": {},
     "output_type": "execute_result"
    }
   ],
   "source": [
    "treatment_df"
   ]
  },
  {
   "cell_type": "code",
   "execution_count": 23,
   "id": "140b85b0-54c6-4106-a331-d0daf51fa931",
   "metadata": {},
   "outputs": [
    {
     "name": "stderr",
     "output_type": "stream",
     "text": [
      "[Parallel(n_jobs=12)]: Using backend LokyBackend with 12 concurrent workers.\n",
      "/Users/psridharan/miniconda3/envs/vanilla-memento/lib/python3.10/site-packages/tiledb/ctx.py:560: UserWarning: TileDB is a multithreading library and deadlocks are likely if fork() is called after a TileDB context has been created (such as for array access). To safely use TileDB with multiprocessing or concurrent.futures, choose 'spawn' as the start method for child processes. For example: multiprocessing.set_start_method('spawn').\n",
      "  warnings.warn(\n",
      "[Parallel(n_jobs=12)]: Done  26 tasks      | elapsed:    3.1s\n",
      "[Parallel(n_jobs=12)]: Done 176 tasks      | elapsed:    5.0s\n",
      "/Users/psridharan/miniconda3/envs/vanilla-memento/lib/python3.10/site-packages/joblib/externals/loky/process_executor.py:752: UserWarning: A worker stopped while some jobs were given to the executor. This can be caused by a too short worker timeout or by a memory leak.\n",
      "  warnings.warn(\n",
      "[Parallel(n_jobs=12)]: Done 516 tasks      | elapsed:    9.2s\n",
      "[Parallel(n_jobs=12)]: Done 1216 tasks      | elapsed:   19.9s\n",
      "[Parallel(n_jobs=12)]: Done 2116 tasks      | elapsed:   32.9s\n",
      "[Parallel(n_jobs=12)]: Done 3216 tasks      | elapsed:   47.7s\n",
      "[Parallel(n_jobs=12)]: Done 4010 tasks      | elapsed:  1.0min\n",
      "[Parallel(n_jobs=12)]: Done 5128 tasks      | elapsed:  1.3min\n",
      "[Parallel(n_jobs=12)]: Done 5224 out of 5247 | elapsed:  1.3min remaining:    0.4s\n",
      "[Parallel(n_jobs=12)]: Done 5247 out of 5247 | elapsed:  1.3min finished\n"
     ]
    },
    {
     "data": {
      "text/html": [
       "<div>\n",
       "<style scoped>\n",
       "    .dataframe tbody tr th:only-of-type {\n",
       "        vertical-align: middle;\n",
       "    }\n",
       "\n",
       "    .dataframe tbody tr th {\n",
       "        vertical-align: top;\n",
       "    }\n",
       "\n",
       "    .dataframe thead th {\n",
       "        text-align: right;\n",
       "    }\n",
       "</style>\n",
       "<table border=\"1\" class=\"dataframe\">\n",
       "  <thead>\n",
       "    <tr style=\"text-align: right;\">\n",
       "      <th></th>\n",
       "      <th>gene</th>\n",
       "      <th>tx</th>\n",
       "      <th>de_coef</th>\n",
       "      <th>de_se</th>\n",
       "      <th>de_pval</th>\n",
       "      <th>dv_coef</th>\n",
       "      <th>dv_se</th>\n",
       "      <th>dv_pval</th>\n",
       "    </tr>\n",
       "  </thead>\n",
       "  <tbody>\n",
       "    <tr>\n",
       "      <th>1121</th>\n",
       "      <td>ENSG00000000419</td>\n",
       "      <td>treatment</td>\n",
       "      <td>0.338290</td>\n",
       "      <td>0.076319</td>\n",
       "      <td>0.000742</td>\n",
       "      <td>-0.098810</td>\n",
       "      <td>0.275596</td>\n",
       "      <td>0.720456</td>\n",
       "    </tr>\n",
       "    <tr>\n",
       "      <th>1429</th>\n",
       "      <td>ENSG00000000938</td>\n",
       "      <td>treatment</td>\n",
       "      <td>0.729090</td>\n",
       "      <td>0.034047</td>\n",
       "      <td>0.000004</td>\n",
       "      <td>0.025821</td>\n",
       "      <td>0.227044</td>\n",
       "      <td>0.913817</td>\n",
       "    </tr>\n",
       "    <tr>\n",
       "      <th>1526</th>\n",
       "      <td>ENSG00000001084</td>\n",
       "      <td>treatment</td>\n",
       "      <td>-0.014172</td>\n",
       "      <td>0.095271</td>\n",
       "      <td>0.883423</td>\n",
       "      <td>0.113890</td>\n",
       "      <td>0.282276</td>\n",
       "      <td>0.674865</td>\n",
       "    </tr>\n",
       "    <tr>\n",
       "      <th>2039</th>\n",
       "      <td>ENSG00000001497</td>\n",
       "      <td>treatment</td>\n",
       "      <td>-0.116158</td>\n",
       "      <td>0.097860</td>\n",
       "      <td>0.236753</td>\n",
       "      <td>-0.202672</td>\n",
       "      <td>0.321127</td>\n",
       "      <td>0.525895</td>\n",
       "    </tr>\n",
       "    <tr>\n",
       "      <th>132</th>\n",
       "      <td>ENSG00000001629</td>\n",
       "      <td>treatment</td>\n",
       "      <td>0.087122</td>\n",
       "      <td>0.075774</td>\n",
       "      <td>0.245351</td>\n",
       "      <td>-0.279639</td>\n",
       "      <td>0.217676</td>\n",
       "      <td>0.193561</td>\n",
       "    </tr>\n",
       "  </tbody>\n",
       "</table>\n",
       "</div>"
      ],
      "text/plain": [
       "                 gene         tx   de_coef     de_se   de_pval   dv_coef  \\\n",
       "1121  ENSG00000000419  treatment  0.338290  0.076319  0.000742 -0.098810   \n",
       "1429  ENSG00000000938  treatment  0.729090  0.034047  0.000004  0.025821   \n",
       "1526  ENSG00000001084  treatment -0.014172  0.095271  0.883423  0.113890   \n",
       "2039  ENSG00000001497  treatment -0.116158  0.097860  0.236753 -0.202672   \n",
       "132   ENSG00000001629  treatment  0.087122  0.075774  0.245351 -0.279639   \n",
       "\n",
       "         dv_se   dv_pval  \n",
       "1121  0.275596  0.720456  \n",
       "1429  0.227044  0.913817  \n",
       "1526  0.282276  0.674865  \n",
       "2039  0.321127  0.525895  \n",
       "132   0.217676  0.193561  "
      ]
     },
     "execution_count": 23,
     "metadata": {},
     "output_type": "execute_result"
    }
   ],
   "source": [
    "# Run vanilla memento\n",
    "# NOTE: No covariates specified!\n",
    "memento.ht_1d_moments(\n",
    "    adata, treatment=treatment_df, num_boot=5000, verbose=1, num_cpus=12, resample_rep=False, approx=False\n",
    ")\n",
    "\n",
    "vanilla_memento_result_df = memento.get_1d_ht_result(adata)\n",
    "\n",
    "# Sort the result dataframe by gene ensemble name\n",
    "vanilla_memento_result_df = vanilla_memento_result_df.sort_values(\"gene\")\n",
    "vanilla_memento_result_df.head(5)"
   ]
  },
  {
   "cell_type": "markdown",
   "id": "dea1b869-2340-4db2-a3e4-873b2ac0829a",
   "metadata": {},
   "source": [
    "#### Run precomputed memento on test case"
   ]
  },
  {
   "cell_type": "code",
   "execution_count": 24,
   "id": "ea16fffc-a84a-4ca6-9c10-fc7dfc2c870a",
   "metadata": {},
   "outputs": [
    {
     "data": {
      "text/html": [
       "<div>\n",
       "<style scoped>\n",
       "    .dataframe tbody tr th:only-of-type {\n",
       "        vertical-align: middle;\n",
       "    }\n",
       "\n",
       "    .dataframe tbody tr th {\n",
       "        vertical-align: top;\n",
       "    }\n",
       "\n",
       "    .dataframe thead th {\n",
       "        text-align: right;\n",
       "    }\n",
       "</style>\n",
       "<table border=\"1\" class=\"dataframe\">\n",
       "  <thead>\n",
       "    <tr style=\"text-align: right;\">\n",
       "      <th></th>\n",
       "      <th>coef</th>\n",
       "      <th>z</th>\n",
       "      <th>pval</th>\n",
       "    </tr>\n",
       "    <tr>\n",
       "      <th>feature_id</th>\n",
       "      <th></th>\n",
       "      <th></th>\n",
       "      <th></th>\n",
       "    </tr>\n",
       "  </thead>\n",
       "  <tbody>\n",
       "    <tr>\n",
       "      <th>(ENSG00000000419,)</th>\n",
       "      <td>0.865093</td>\n",
       "      <td>20.125887</td>\n",
       "      <td>4.378676e-90</td>\n",
       "    </tr>\n",
       "    <tr>\n",
       "      <th>(ENSG00000000457,)</th>\n",
       "      <td>0.391230</td>\n",
       "      <td>4.385940</td>\n",
       "      <td>1.154858e-05</td>\n",
       "    </tr>\n",
       "    <tr>\n",
       "      <th>(ENSG00000000460,)</th>\n",
       "      <td>0.343338</td>\n",
       "      <td>1.998222</td>\n",
       "      <td>4.569254e-02</td>\n",
       "    </tr>\n",
       "    <tr>\n",
       "      <th>(ENSG00000000938,)</th>\n",
       "      <td>1.246206</td>\n",
       "      <td>67.162439</td>\n",
       "      <td>0.000000e+00</td>\n",
       "    </tr>\n",
       "    <tr>\n",
       "      <th>(ENSG00000000971,)</th>\n",
       "      <td>-1.589614</td>\n",
       "      <td>-15.843008</td>\n",
       "      <td>1.571209e-56</td>\n",
       "    </tr>\n",
       "  </tbody>\n",
       "</table>\n",
       "</div>"
      ],
      "text/plain": [
       "                        coef          z          pval\n",
       "feature_id                                           \n",
       "(ENSG00000000419,)  0.865093  20.125887  4.378676e-90\n",
       "(ENSG00000000457,)  0.391230   4.385940  1.154858e-05\n",
       "(ENSG00000000460,)  0.343338   1.998222  4.569254e-02\n",
       "(ENSG00000000938,)  1.246206  67.162439  0.000000e+00\n",
       "(ENSG00000000971,) -1.589614 -15.843008  1.571209e-56"
      ]
     },
     "execution_count": 24,
     "metadata": {},
     "output_type": "execute_result"
    }
   ],
   "source": [
    "# Setup\n",
    "treatment_dim = \"cell_type_ontology_term_id\"\n",
    "covariate_dims = None  # no covariates specified by use of None\n",
    "\n",
    "# Run precomputed memento\n",
    "precomputed_memento_result_df, _ = precomputed_memento.compute_all(\n",
    "    cube_path=precomputed_memento_estimator_cube_path,\n",
    "    query_filter=test_case[\"precomputed_memento_query\"],\n",
    "    treatment=treatment_dim,\n",
    "    covariates_str=covariate_dims,\n",
    "    n_processes=8,\n",
    ")\n",
    "\n",
    "# Sort the result dataframe by gene ensemble name\n",
    "precomputed_memento_result_df = precomputed_memento_result_df.sort_values(\"feature_id\")\n",
    "precomputed_memento_result_df.head(5)"
   ]
  },
  {
   "cell_type": "markdown",
   "id": "756e7ded-b081-44fb-ae7b-60c37f957220",
   "metadata": {},
   "source": [
    "#### Compare vanilla memento result to precomputed memento result"
   ]
  },
  {
   "cell_type": "code",
   "execution_count": 25,
   "id": "5252dc58-4132-48fc-b402-bbc822de4d33",
   "metadata": {},
   "outputs": [
    {
     "name": "stdout",
     "output_type": "stream",
     "text": [
      "vanilla memento result dataframe length: 5247\n",
      "precomputed memento result dataframe length: 19249\n",
      "filtered precomputed memento result dataframe length: 5247\n"
     ]
    },
    {
     "data": {
      "text/html": [
       "<div>\n",
       "<style scoped>\n",
       "    .dataframe tbody tr th:only-of-type {\n",
       "        vertical-align: middle;\n",
       "    }\n",
       "\n",
       "    .dataframe tbody tr th {\n",
       "        vertical-align: top;\n",
       "    }\n",
       "\n",
       "    .dataframe thead th {\n",
       "        text-align: right;\n",
       "    }\n",
       "</style>\n",
       "<table border=\"1\" class=\"dataframe\">\n",
       "  <thead>\n",
       "    <tr style=\"text-align: right;\">\n",
       "      <th></th>\n",
       "      <th>coef</th>\n",
       "      <th>z</th>\n",
       "      <th>pval</th>\n",
       "    </tr>\n",
       "    <tr>\n",
       "      <th>feature_id</th>\n",
       "      <th></th>\n",
       "      <th></th>\n",
       "      <th></th>\n",
       "    </tr>\n",
       "  </thead>\n",
       "  <tbody>\n",
       "    <tr>\n",
       "      <th>(ENSG00000000419,)</th>\n",
       "      <td>0.865093</td>\n",
       "      <td>20.125887</td>\n",
       "      <td>4.378676e-90</td>\n",
       "    </tr>\n",
       "    <tr>\n",
       "      <th>(ENSG00000000938,)</th>\n",
       "      <td>1.246206</td>\n",
       "      <td>67.162439</td>\n",
       "      <td>0.000000e+00</td>\n",
       "    </tr>\n",
       "    <tr>\n",
       "      <th>(ENSG00000001084,)</th>\n",
       "      <td>0.531871</td>\n",
       "      <td>8.897293</td>\n",
       "      <td>5.722510e-19</td>\n",
       "    </tr>\n",
       "    <tr>\n",
       "      <th>(ENSG00000001497,)</th>\n",
       "      <td>0.392839</td>\n",
       "      <td>6.355219</td>\n",
       "      <td>2.081294e-10</td>\n",
       "    </tr>\n",
       "    <tr>\n",
       "      <th>(ENSG00000001629,)</th>\n",
       "      <td>0.602583</td>\n",
       "      <td>12.930142</td>\n",
       "      <td>3.042548e-38</td>\n",
       "    </tr>\n",
       "  </tbody>\n",
       "</table>\n",
       "</div>"
      ],
      "text/plain": [
       "                        coef          z          pval\n",
       "feature_id                                           \n",
       "(ENSG00000000419,)  0.865093  20.125887  4.378676e-90\n",
       "(ENSG00000000938,)  1.246206  67.162439  0.000000e+00\n",
       "(ENSG00000001084,)  0.531871   8.897293  5.722510e-19\n",
       "(ENSG00000001497,)  0.392839   6.355219  2.081294e-10\n",
       "(ENSG00000001629,)  0.602583  12.930142  3.042548e-38"
      ]
     },
     "execution_count": 25,
     "metadata": {},
     "output_type": "execute_result"
    }
   ],
   "source": [
    "# construct a set of all the genes in the vanilla memento result dataframe to serve as a structure to\n",
    "# filter the precomputed memento result dataframe\n",
    "vanilla_memento_gene_set = set(vanilla_memento_result_df.gene)\n",
    "\n",
    "# transform vanilla_memento_gene_set into a set of single tuples to match\n",
    "# the data type of precomputed memento result dataframe index\n",
    "filter_feature_ids = {(v,) for v in vanilla_memento_gene_set}\n",
    "\n",
    "# filter the precomputed memento result df to only include genes in the vanilla memento result dataframe\n",
    "filtered_precomputed_memento_result_df = precomputed_memento_result_df[\n",
    "    precomputed_memento_result_df.index.isin(filter_feature_ids)\n",
    "]\n",
    "\n",
    "print(f\"vanilla memento result dataframe length: {len(vanilla_memento_result_df)}\")\n",
    "print(f\"precomputed memento result dataframe length: {len(precomputed_memento_result_df)}\")\n",
    "print(f\"filtered precomputed memento result dataframe length: {len(filtered_precomputed_memento_result_df)}\")\n",
    "\n",
    "filtered_precomputed_memento_result_df.head(5)"
   ]
  },
  {
   "cell_type": "markdown",
   "id": "0be58973-7a8e-4848-a879-81c90ac5329f",
   "metadata": {},
   "source": [
    "##### Plot the p-values for vanilla memento and precomputed memento"
   ]
  },
  {
   "cell_type": "code",
   "execution_count": 26,
   "id": "a6830a0f-6339-4939-a903-4e043d34ad6a",
   "metadata": {},
   "outputs": [
    {
     "name": "stderr",
     "output_type": "stream",
     "text": [
      "/Users/psridharan/miniconda3/envs/vanilla-memento/lib/python3.10/site-packages/pandas/core/arraylike.py:399: RuntimeWarning: divide by zero encountered in log10\n",
      "  result = getattr(ufunc, method)(*inputs, **kwargs)\n"
     ]
    },
    {
     "data": {
      "image/png": "[encoded data removed]",
      "text/plain": [
       "<Figure size 640x480 with 1 Axes>"
      ]
     },
     "metadata": {},
     "output_type": "display_data"
    }
   ],
   "source": [
    "x = -1 * np.log10(vanilla_memento_result_df[\"de_pval\"])\n",
    "y = -1 * np.log10(filtered_precomputed_memento_result_df[\"pval\"])\n",
    "\n",
    "plt.scatter(x, y, label=\"p values\")\n",
    "\n",
    "plt.plot(x, x, color=\"black\", label=\"Line with Slope 1\")\n",
    "\n",
    "plt.xlabel(\"vanilla\")\n",
    "plt.ylabel(\"precomputed\")\n",
    "\n",
    "plt.title(\"Scatter Plot of p values\")\n",
    "plt.legend()\n",
    "\n",
    "plt.grid(True)\n",
    "plt.show()"
   ]
  },
  {
   "cell_type": "code",
   "execution_count": null,
   "id": "937e5d6c-4c88-4e47-a247-5037792ecf56",
   "metadata": {},
   "outputs": [],
   "source": []
  }
 ],
 "metadata": {
  "kernelspec": {
   "display_name": "Python 3 (ipykernel)",
   "language": "python",
   "name": "python3"
  },
  "language_info": {
   "codemirror_mode": {
    "name": "ipython",
    "version": 3
   },
   "file_extension": ".py",
   "mimetype": "text/x-python",
   "name": "python",
   "nbconvert_exporter": "python",
   "pygments_lexer": "ipython3",
   "version": "3.10.13"
  }
 },
 "nbformat": 4,
 "nbformat_minor": 5
}
